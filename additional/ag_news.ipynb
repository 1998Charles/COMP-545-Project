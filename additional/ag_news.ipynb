{
 "cells": [
  {
   "cell_type": "code",
   "execution_count": 1,
   "metadata": {
    "executionInfo": {
     "elapsed": 4098,
     "status": "ok",
     "timestamp": 1712297717629,
     "user": {
      "displayName": "Mengtong Shi",
      "userId": "17422019785472594156"
     },
     "user_tz": 240
    },
    "id": "kTlWH2I19r0z"
   },
   "outputs": [],
   "source": [
    "import fasttext\n",
    "import pandas as pd\n",
    "from datasets import load_dataset\n",
    "from sklearn.metrics import accuracy_score"
   ]
  },
  {
   "cell_type": "code",
   "execution_count": 2,
   "metadata": {
    "colab": {
     "base_uri": "https://localhost:8080/"
    },
    "executionInfo": {
     "elapsed": 2624,
     "status": "ok",
     "timestamp": 1712297720224,
     "user": {
      "displayName": "Mengtong Shi",
      "userId": "17422019785472594156"
     },
     "user_tz": 240
    },
    "id": "6vP_FCv494vP",
    "outputId": "347661db-819e-430f-d004-1466802a4245"
   },
   "outputs": [
    {
     "name": "stderr",
     "output_type": "stream",
     "text": [
      "Using the latest cached version of the dataset since ag_news couldn't be found on the Hugging Face Hub\n",
      "Found the latest cached dataset configuration 'default' at /Users/mengtongshi/.cache/huggingface/datasets/ag_news/default/0.0.0/eb185aade064a813bc0b7f42de02595523103ca4 (last modified on Sun Apr 21 19:39:19 2024).\n"
     ]
    },
    {
     "name": "stdout",
     "output_type": "stream",
     "text": [
      "DatasetDict({\n",
      "    train: Dataset({\n",
      "        features: ['text', 'label'],\n",
      "        num_rows: 120000\n",
      "    })\n",
      "    test: Dataset({\n",
      "        features: ['text', 'label'],\n",
      "        num_rows: 7600\n",
      "    })\n",
      "})\n"
     ]
    }
   ],
   "source": [
    "ag_news = load_dataset(\"ag_news\")\n",
    "print(ag_news)"
   ]
  },
  {
   "cell_type": "code",
   "execution_count": 3,
   "metadata": {
    "colab": {
     "base_uri": "https://localhost:8080/"
    },
    "executionInfo": {
     "elapsed": 544,
     "status": "ok",
     "timestamp": 1712297720759,
     "user": {
      "displayName": "Mengtong Shi",
      "userId": "17422019785472594156"
     },
     "user_tz": 240
    },
    "id": "bOpDCfZF-dub",
    "outputId": "4fcb5bf6-8b33-41ed-b43d-ad7681fec2f5"
   },
   "outputs": [
    {
     "name": "stdout",
     "output_type": "stream",
     "text": [
      "<class 'list'>\n",
      "<class 'str'>\n",
      "Wall St. Bears Claw Back Into the Black (Reuters) Reuters - Short-sellers, Wall Street's dwindling\\band of ultra-cynics, are seeing green again.\n",
      "<class 'list'>\n",
      "<class 'int'>\n",
      "2\n"
     ]
    }
   ],
   "source": [
    "print(type(ag_news['train']['text']))\n",
    "print(type(ag_news['train']['text'][0]))\n",
    "print(ag_news['train']['text'][0])\n",
    "print(type(ag_news['train']['label']))\n",
    "print(type(ag_news['train']['label'][0]))\n",
    "print(ag_news['train']['label'][0])"
   ]
  },
  {
   "cell_type": "code",
   "execution_count": 4,
   "metadata": {},
   "outputs": [
    {
     "name": "stdout",
     "output_type": "stream",
     "text": [
      "<class 'list'>\n",
      "<class 'str'>\n",
      "Fears for T N pension after talks Unions representing workers at Turner   Newall say they are 'disappointed' after talks with stricken parent firm Federal Mogul.\n",
      "<class 'list'>\n",
      "<class 'int'>\n",
      "2\n"
     ]
    }
   ],
   "source": [
    "print(type(ag_news['test']['text']))\n",
    "print(type(ag_news['test']['text'][0]))\n",
    "print(ag_news['test']['text'][0])\n",
    "print(type(ag_news['test']['label']))\n",
    "print(type(ag_news['test']['label'][0]))\n",
    "print(ag_news['test']['label'][0])"
   ]
  },
  {
   "cell_type": "code",
   "execution_count": 5,
   "metadata": {
    "executionInfo": {
     "elapsed": 8,
     "status": "ok",
     "timestamp": 1712297720760,
     "user": {
      "displayName": "Mengtong Shi",
      "userId": "17422019785472594156"
     },
     "user_tz": 240
    },
    "id": "QHp6fC4gBwHH"
   },
   "outputs": [],
   "source": [
    "def print_results(N, p, r):\n",
    "    print(\"N\\t\" + str(N))\n",
    "    print(\"P@{}\\t{:.3f}\".format(1, p))\n",
    "    print(\"R@{}\\t{:.3f}\".format(1, r))"
   ]
  },
  {
   "cell_type": "code",
   "execution_count": 6,
   "metadata": {
    "executionInfo": {
     "elapsed": 6,
     "status": "ok",
     "timestamp": 1712297720760,
     "user": {
      "displayName": "Mengtong Shi",
      "userId": "17422019785472594156"
     },
     "user_tz": 240
    },
    "id": "8XMt4NxH-69i"
   },
   "outputs": [],
   "source": [
    "dataset = ag_news"
   ]
  },
  {
   "cell_type": "code",
   "execution_count": 7,
   "metadata": {
    "executionInfo": {
     "elapsed": 24248,
     "status": "ok",
     "timestamp": 1712297745002,
     "user": {
      "displayName": "Mengtong Shi",
      "userId": "17422019785472594156"
     },
     "user_tz": 240
    },
    "id": "XC3LV2fF-7Ye"
   },
   "outputs": [],
   "source": [
    "train_texts = dataset['train']['text']\n",
    "train_labels = dataset['train']['label']\n",
    "\n",
    "with open(\"train.txt\", \"w\") as f:\n",
    "    for text, label in zip(train_texts, train_labels):\n",
    "        f.write(f\"__label__{label} {text}\\n\")"
   ]
  },
  {
   "cell_type": "code",
   "execution_count": 8,
   "metadata": {},
   "outputs": [],
   "source": [
    "test_texts = dataset['test']['text']\n",
    "test_labels = dataset['test']['label']\n",
    "\n",
    "with open(\"test.txt\", \"w\") as f:\n",
    "    for text, label in zip(test_texts, test_labels):\n",
    "        f.write(f\"__label__{label} {text}\\n\")"
   ]
  },
  {
   "cell_type": "code",
   "execution_count": 9,
   "metadata": {},
   "outputs": [
    {
     "name": "stdout",
     "output_type": "stream",
     "text": [
      "Training model with lr=0.05, dim=5, epoch=5, and wordNgrams=2\n"
     ]
    },
    {
     "name": "stderr",
     "output_type": "stream",
     "text": [
      "Read 4M words\n",
      "Number of words:  188111\n",
      "Number of labels: 4\n",
      "Progress: 100.0% words/sec/thread: 6521818 lr:  0.000000 avg.loss:  0.360881 ETA:   0h 0m 0s\n",
      "Read 4M words"
     ]
    },
    {
     "name": "stdout",
     "output_type": "stream",
     "text": [
      "N\t7600\n",
      "P@1\t0.907\n",
      "R@1\t0.907\n",
      "\n",
      "Training model with lr=0.05, dim=5, epoch=10, and wordNgrams=2\n"
     ]
    },
    {
     "name": "stderr",
     "output_type": "stream",
     "text": [
      "Read 4M words\n",
      "Number of words:  188111\n",
      "Number of labels: 4\n",
      "Progress: 100.0% words/sec/thread: 5969640 lr:  0.000000 avg.loss:  0.200321 ETA:   0h 0m 0s\n"
     ]
    },
    {
     "name": "stdout",
     "output_type": "stream",
     "text": [
      "N\t7600\n",
      "P@1\t0.914\n",
      "R@1\t0.914\n",
      "\n",
      "Training model with lr=0.05, dim=5, epoch=15, and wordNgrams=2\n"
     ]
    },
    {
     "name": "stderr",
     "output_type": "stream",
     "text": [
      "Read 4M words\n",
      "Number of words:  188111\n",
      "Number of labels: 4\n",
      "Progress: 100.0% words/sec/thread: 6163181 lr:  0.000000 avg.loss:  0.138363 ETA:   0h 0m 0s\n",
      "Read 1M words"
     ]
    },
    {
     "name": "stdout",
     "output_type": "stream",
     "text": [
      "N\t7600\n",
      "P@1\t0.916\n",
      "R@1\t0.916\n",
      "\n",
      "Training model with lr=0.05, dim=5, epoch=5, and wordNgrams=3\n"
     ]
    },
    {
     "name": "stderr",
     "output_type": "stream",
     "text": [
      "Read 4M words\n",
      "Number of words:  188111\n",
      "Number of labels: 4\n",
      "Progress: 100.0% words/sec/thread: 4677872 lr:  0.000000 avg.loss:  0.464310 ETA:   0h 0m 0s\n"
     ]
    },
    {
     "name": "stdout",
     "output_type": "stream",
     "text": [
      "N\t7600\n",
      "P@1\t0.896\n",
      "R@1\t0.896\n",
      "\n",
      "Training model with lr=0.05, dim=5, epoch=10, and wordNgrams=3\n"
     ]
    },
    {
     "name": "stderr",
     "output_type": "stream",
     "text": [
      "Read 4M words\n",
      "Number of words:  188111\n",
      "Number of labels: 4\n",
      "Progress: 100.0% words/sec/thread: 5081761 lr:  0.000000 avg.loss:  0.264982 ETA:   0h 0m 0s\n"
     ]
    },
    {
     "name": "stdout",
     "output_type": "stream",
     "text": [
      "N\t7600\n",
      "P@1\t0.909\n",
      "R@1\t0.909\n",
      "\n",
      "Training model with lr=0.05, dim=5, epoch=15, and wordNgrams=3\n"
     ]
    },
    {
     "name": "stderr",
     "output_type": "stream",
     "text": [
      "Read 4M words\n",
      "Number of words:  188111\n",
      "Number of labels: 4\n",
      "Progress: 100.0% words/sec/thread: 4085429 lr:  0.000000 avg.loss:  0.173654 ETA:   0h 0m 0s\n",
      "Read 3M words"
     ]
    },
    {
     "name": "stdout",
     "output_type": "stream",
     "text": [
      "N\t7600\n",
      "P@1\t0.912\n",
      "R@1\t0.912\n",
      "\n",
      "Training model with lr=0.05, dim=5, epoch=5, and wordNgrams=4\n"
     ]
    },
    {
     "name": "stderr",
     "output_type": "stream",
     "text": [
      "Read 4M words\n",
      "Number of words:  188111\n",
      "Number of labels: 4\n",
      "Progress: 100.0% words/sec/thread: 3617001 lr:  0.000000 avg.loss:  0.562656 ETA:   0h 0m 0s\n",
      "Read 2M words"
     ]
    },
    {
     "name": "stdout",
     "output_type": "stream",
     "text": [
      "N\t7600\n",
      "P@1\t0.889\n",
      "R@1\t0.889\n",
      "\n",
      "Training model with lr=0.05, dim=5, epoch=10, and wordNgrams=4\n"
     ]
    },
    {
     "name": "stderr",
     "output_type": "stream",
     "text": [
      "Read 4M words\n",
      "Number of words:  188111\n",
      "Number of labels: 4\n",
      "Progress: 100.0% words/sec/thread: 3631970 lr:  0.000000 avg.loss:  0.297645 ETA:   0h 0m 0s\n"
     ]
    },
    {
     "name": "stdout",
     "output_type": "stream",
     "text": [
      "N\t7600\n",
      "P@1\t0.907\n",
      "R@1\t0.907\n",
      "\n",
      "Training model with lr=0.05, dim=5, epoch=15, and wordNgrams=4\n"
     ]
    },
    {
     "name": "stderr",
     "output_type": "stream",
     "text": [
      "Read 4M words\n",
      "Number of words:  188111\n",
      "Number of labels: 4\n",
      "Progress: 100.0% words/sec/thread: 3652282 lr:  0.000000 avg.loss:  0.208090 ETA:   0h 0m 0s\n"
     ]
    },
    {
     "name": "stdout",
     "output_type": "stream",
     "text": [
      "N\t7600\n",
      "P@1\t0.911\n",
      "R@1\t0.911\n",
      "\n",
      "Training model with lr=0.05, dim=5, epoch=5, and wordNgrams=5\n"
     ]
    },
    {
     "name": "stderr",
     "output_type": "stream",
     "text": [
      "Read 4M words\n",
      "Number of words:  188111\n",
      "Number of labels: 4\n",
      "Progress: 100.0% words/sec/thread: 3009361 lr:  0.000000 avg.loss:  0.632933 ETA:   0h 0m 0s\n"
     ]
    },
    {
     "name": "stdout",
     "output_type": "stream",
     "text": [
      "N\t7600\n",
      "P@1\t0.873\n",
      "R@1\t0.873\n",
      "\n",
      "Training model with lr=0.05, dim=5, epoch=10, and wordNgrams=5\n"
     ]
    },
    {
     "name": "stderr",
     "output_type": "stream",
     "text": [
      "Read 4M words\n",
      "Number of words:  188111\n",
      "Number of labels: 4\n",
      "Progress: 100.0% words/sec/thread: 3014133 lr:  0.000000 avg.loss:  0.345751 ETA:   0h 0m 0s 70.5% words/sec/thread: 3102023 lr:  0.014760 avg.loss:  0.440200 ETA:   0h 0m 0s\n",
      "Read 2M words"
     ]
    },
    {
     "name": "stdout",
     "output_type": "stream",
     "text": [
      "N\t7600\n",
      "P@1\t0.902\n",
      "R@1\t0.902\n",
      "\n",
      "Training model with lr=0.05, dim=5, epoch=15, and wordNgrams=5\n"
     ]
    },
    {
     "name": "stderr",
     "output_type": "stream",
     "text": [
      "Read 4M words\n",
      "Number of words:  188111\n",
      "Number of labels: 4\n",
      "Progress: 100.0% words/sec/thread: 3079565 lr:  0.000000 avg.loss:  0.229841 ETA:   0h 0m 0s\n",
      "Read 2M words"
     ]
    },
    {
     "name": "stdout",
     "output_type": "stream",
     "text": [
      "N\t7600\n",
      "P@1\t0.905\n",
      "R@1\t0.905\n",
      "\n",
      "Training model with lr=0.05, dim=10, epoch=5, and wordNgrams=2\n"
     ]
    },
    {
     "name": "stderr",
     "output_type": "stream",
     "text": [
      "Read 4M words\n",
      "Number of words:  188111\n",
      "Number of labels: 4\n",
      "Progress: 100.0% words/sec/thread: 4639827 lr:  0.000000 avg.loss:  0.353938 ETA:   0h 0m 0s\n",
      "Read 3M words"
     ]
    },
    {
     "name": "stdout",
     "output_type": "stream",
     "text": [
      "N\t7600\n",
      "P@1\t0.910\n",
      "R@1\t0.910\n",
      "\n",
      "Training model with lr=0.05, dim=10, epoch=10, and wordNgrams=2\n"
     ]
    },
    {
     "name": "stderr",
     "output_type": "stream",
     "text": [
      "Read 4M words\n",
      "Number of words:  188111\n",
      "Number of labels: 4\n",
      "Progress: 100.0% words/sec/thread: 4689705 lr:  0.000000 avg.loss:  0.213878 ETA:   0h 0m 0s\n",
      "Read 2M words"
     ]
    },
    {
     "name": "stdout",
     "output_type": "stream",
     "text": [
      "N\t7600\n",
      "P@1\t0.918\n",
      "R@1\t0.918\n",
      "\n",
      "Training model with lr=0.05, dim=10, epoch=15, and wordNgrams=2\n"
     ]
    },
    {
     "name": "stderr",
     "output_type": "stream",
     "text": [
      "Read 4M words\n",
      "Number of words:  188111\n",
      "Number of labels: 4\n",
      "Progress: 100.0% words/sec/thread: 4103275 lr:  0.000000 avg.loss:  0.132137 ETA:   0h 0m 0s\n",
      "Read 2M words"
     ]
    },
    {
     "name": "stdout",
     "output_type": "stream",
     "text": [
      "N\t7600\n",
      "P@1\t0.918\n",
      "R@1\t0.918\n",
      "\n",
      "Training model with lr=0.05, dim=10, epoch=5, and wordNgrams=3\n"
     ]
    },
    {
     "name": "stderr",
     "output_type": "stream",
     "text": [
      "Read 4M words\n",
      "Number of words:  188111\n",
      "Number of labels: 4\n",
      "Progress: 100.0% words/sec/thread: 2354619 lr:  0.000000 avg.loss:  0.442080 ETA:   0h 0m 0s\n"
     ]
    },
    {
     "name": "stdout",
     "output_type": "stream",
     "text": [
      "N\t7600\n",
      "P@1\t0.901\n",
      "R@1\t0.901\n",
      "\n",
      "Training model with lr=0.05, dim=10, epoch=10, and wordNgrams=3\n"
     ]
    },
    {
     "name": "stderr",
     "output_type": "stream",
     "text": [
      "Read 4M words\n",
      "Number of words:  188111\n",
      "Number of labels: 4\n",
      "Progress: 100.0% words/sec/thread: 3116313 lr:  0.000000 avg.loss:  0.251379 ETA:   0h 0m 0s\n",
      "Read 2M words"
     ]
    },
    {
     "name": "stdout",
     "output_type": "stream",
     "text": [
      "N\t7600\n",
      "P@1\t0.915\n",
      "R@1\t0.915\n",
      "\n",
      "Training model with lr=0.05, dim=10, epoch=15, and wordNgrams=3\n"
     ]
    },
    {
     "name": "stderr",
     "output_type": "stream",
     "text": [
      "Read 4M words\n",
      "Number of words:  188111\n",
      "Number of labels: 4\n",
      "Progress: 100.0% words/sec/thread: 2902308 lr:  0.000000 avg.loss:  0.155366 ETA:   0h 0m 0s\n"
     ]
    },
    {
     "name": "stdout",
     "output_type": "stream",
     "text": [
      "N\t7600\n",
      "P@1\t0.916\n",
      "R@1\t0.916\n",
      "\n",
      "Training model with lr=0.05, dim=10, epoch=5, and wordNgrams=4\n"
     ]
    },
    {
     "name": "stderr",
     "output_type": "stream",
     "text": [
      "Read 4M words\n",
      "Number of words:  188111\n",
      "Number of labels: 4\n",
      "Progress: 100.0% words/sec/thread: 1932954 lr:  0.000000 avg.loss:  0.510642 ETA:   0h 0m 0s\n",
      "Read 1M words"
     ]
    },
    {
     "name": "stdout",
     "output_type": "stream",
     "text": [
      "N\t7600\n",
      "P@1\t0.893\n",
      "R@1\t0.893\n",
      "\n",
      "Training model with lr=0.05, dim=10, epoch=10, and wordNgrams=4\n"
     ]
    },
    {
     "name": "stderr",
     "output_type": "stream",
     "text": [
      "Read 4M words\n",
      "Number of words:  188111\n",
      "Number of labels: 4\n",
      "Progress: 100.0% words/sec/thread: 2146422 lr:  0.000000 avg.loss:  0.286293 ETA:   0h 0m 0s\n"
     ]
    },
    {
     "name": "stdout",
     "output_type": "stream",
     "text": [
      "N\t7600\n",
      "P@1\t0.911\n",
      "R@1\t0.911\n",
      "\n",
      "Training model with lr=0.05, dim=10, epoch=15, and wordNgrams=4\n"
     ]
    },
    {
     "name": "stderr",
     "output_type": "stream",
     "text": [
      "Read 4M words\n",
      "Number of words:  188111\n",
      "Number of labels: 4\n",
      "Progress: 100.0% words/sec/thread: 2205711 lr:  0.000000 avg.loss:  0.190514 ETA:   0h 0m 0s\n"
     ]
    },
    {
     "name": "stdout",
     "output_type": "stream",
     "text": [
      "N\t7600\n",
      "P@1\t0.913\n",
      "R@1\t0.913\n",
      "\n",
      "Training model with lr=0.05, dim=10, epoch=5, and wordNgrams=5\n"
     ]
    },
    {
     "name": "stderr",
     "output_type": "stream",
     "text": [
      "Read 4M words\n",
      "Number of words:  188111\n",
      "Number of labels: 4\n",
      "Progress: 100.0% words/sec/thread: 2052794 lr:  0.000000 avg.loss:  0.597059 ETA:   0h 0m 0s\n",
      "Read 3M words"
     ]
    },
    {
     "name": "stdout",
     "output_type": "stream",
     "text": [
      "N\t7600\n",
      "P@1\t0.880\n",
      "R@1\t0.880\n",
      "\n",
      "Training model with lr=0.05, dim=10, epoch=10, and wordNgrams=5\n"
     ]
    },
    {
     "name": "stderr",
     "output_type": "stream",
     "text": [
      "Read 4M words\n",
      "Number of words:  188111\n",
      "Number of labels: 4\n",
      "Progress: 100.0% words/sec/thread: 2010787 lr:  0.000000 avg.loss:  0.335148 ETA:   0h 0m 0s\n",
      "Read 1M words"
     ]
    },
    {
     "name": "stdout",
     "output_type": "stream",
     "text": [
      "N\t7600\n",
      "P@1\t0.905\n",
      "R@1\t0.905\n",
      "\n",
      "Training model with lr=0.05, dim=10, epoch=15, and wordNgrams=5\n"
     ]
    },
    {
     "name": "stderr",
     "output_type": "stream",
     "text": [
      "Read 4M words\n",
      "Number of words:  188111\n",
      "Number of labels: 4\n",
      "Progress: 100.0% words/sec/thread:  659928 lr:  0.000000 avg.loss:  0.220224 ETA:   0h 0m 0s\n"
     ]
    },
    {
     "name": "stdout",
     "output_type": "stream",
     "text": [
      "N\t7600\n",
      "P@1\t0.910\n",
      "R@1\t0.910\n",
      "\n",
      "Training model with lr=0.05, dim=25, epoch=5, and wordNgrams=2\n"
     ]
    },
    {
     "name": "stderr",
     "output_type": "stream",
     "text": [
      "Read 4M words\n",
      "Number of words:  188111\n",
      "Number of labels: 4\n",
      "Progress: 100.0% words/sec/thread: 1123142 lr:  0.000000 avg.loss:  0.370288 ETA:   0h 0m 0s\n"
     ]
    },
    {
     "name": "stdout",
     "output_type": "stream",
     "text": [
      "N\t7600\n",
      "P@1\t0.910\n",
      "R@1\t0.910\n",
      "\n",
      "Training model with lr=0.05, dim=25, epoch=10, and wordNgrams=2\n"
     ]
    },
    {
     "name": "stderr",
     "output_type": "stream",
     "text": [
      "Read 4M words\n",
      "Number of words:  188111\n",
      "Number of labels: 4\n",
      "Progress: 100.0% words/sec/thread:  935295 lr:  0.000000 avg.loss:  0.205620 ETA:   0h 0m 0s\n"
     ]
    },
    {
     "name": "stdout",
     "output_type": "stream",
     "text": [
      "N\t7600\n",
      "P@1\t0.919\n",
      "R@1\t0.919\n",
      "\n",
      "Training model with lr=0.05, dim=25, epoch=15, and wordNgrams=2\n"
     ]
    },
    {
     "name": "stderr",
     "output_type": "stream",
     "text": [
      "Read 4M words\n",
      "Number of words:  188111\n",
      "Number of labels: 4\n",
      "Progress: 100.0% words/sec/thread: 1081086 lr:  0.000000 avg.loss:  0.141971 ETA:   0h 0m 0s\n"
     ]
    },
    {
     "name": "stdout",
     "output_type": "stream",
     "text": [
      "N\t7600\n",
      "P@1\t0.919\n",
      "R@1\t0.919\n",
      "\n",
      "Training model with lr=0.05, dim=25, epoch=5, and wordNgrams=3\n"
     ]
    },
    {
     "name": "stderr",
     "output_type": "stream",
     "text": [
      "Read 4M words\n",
      "Number of words:  188111\n",
      "Number of labels: 4\n",
      "Progress: 100.0% words/sec/thread:  727972 lr:  0.000000 avg.loss:  0.449425 ETA:   0h 0m 0s\n"
     ]
    },
    {
     "name": "stdout",
     "output_type": "stream",
     "text": [
      "N\t7600\n",
      "P@1\t0.902\n",
      "R@1\t0.902\n",
      "\n",
      "Training model with lr=0.05, dim=25, epoch=10, and wordNgrams=3\n"
     ]
    },
    {
     "name": "stderr",
     "output_type": "stream",
     "text": [
      "Read 4M words\n",
      "Number of words:  188111\n",
      "Number of labels: 4\n",
      "Progress: 100.0% words/sec/thread:  729841 lr:  0.000000 avg.loss:  0.260910 ETA:   0h 0m 0s\n"
     ]
    },
    {
     "name": "stdout",
     "output_type": "stream",
     "text": [
      "N\t7600\n",
      "P@1\t0.914\n",
      "R@1\t0.914\n",
      "\n",
      "Training model with lr=0.05, dim=25, epoch=15, and wordNgrams=3\n"
     ]
    },
    {
     "name": "stderr",
     "output_type": "stream",
     "text": [
      "Read 4M words\n",
      "Number of words:  188111\n",
      "Number of labels: 4\n",
      "Progress: 100.0% words/sec/thread: 2475845 lr:  0.000000 avg.loss:  0.163977 ETA:   0h 0m 0s\n"
     ]
    },
    {
     "name": "stdout",
     "output_type": "stream",
     "text": [
      "N\t7600\n",
      "P@1\t0.918\n",
      "R@1\t0.918\n",
      "\n",
      "Training model with lr=0.05, dim=25, epoch=5, and wordNgrams=4\n"
     ]
    },
    {
     "name": "stderr",
     "output_type": "stream",
     "text": [
      "Read 4M words\n",
      "Number of words:  188111\n",
      "Number of labels: 4\n",
      "Progress: 100.0% words/sec/thread: 1948653 lr:  0.000000 avg.loss:  0.547069 ETA:   0h 0m 0s\n"
     ]
    },
    {
     "name": "stdout",
     "output_type": "stream",
     "text": [
      "N\t7600\n",
      "P@1\t0.893\n",
      "R@1\t0.893\n",
      "\n",
      "Training model with lr=0.05, dim=25, epoch=10, and wordNgrams=4\n"
     ]
    },
    {
     "name": "stderr",
     "output_type": "stream",
     "text": [
      "Read 4M words\n",
      "Number of words:  188111\n",
      "Number of labels: 4\n",
      "Progress: 100.0% words/sec/thread: 1791481 lr:  0.000000 avg.loss:  0.318544 ETA:   0h 0m 0s\n"
     ]
    },
    {
     "name": "stdout",
     "output_type": "stream",
     "text": [
      "N\t7600\n",
      "P@1\t0.912\n",
      "R@1\t0.912\n",
      "\n",
      "Training model with lr=0.05, dim=25, epoch=15, and wordNgrams=4\n"
     ]
    },
    {
     "name": "stderr",
     "output_type": "stream",
     "text": [
      "Read 4M words\n",
      "Number of words:  188111\n",
      "Number of labels: 4\n",
      "Progress: 100.0% words/sec/thread: 1769103 lr:  0.000000 avg.loss:  0.199975 ETA:   0h 0m 0s\n"
     ]
    },
    {
     "name": "stdout",
     "output_type": "stream",
     "text": [
      "N\t7600\n",
      "P@1\t0.915\n",
      "R@1\t0.915\n",
      "\n",
      "Training model with lr=0.05, dim=25, epoch=5, and wordNgrams=5\n"
     ]
    },
    {
     "name": "stderr",
     "output_type": "stream",
     "text": [
      "Read 4M words\n",
      "Number of words:  188111\n",
      "Number of labels: 4\n",
      "Progress: 100.0% words/sec/thread:  915059 lr:  0.000000 avg.loss:  0.636679 ETA:   0h 0m 0s\n"
     ]
    },
    {
     "name": "stdout",
     "output_type": "stream",
     "text": [
      "N\t7600\n",
      "P@1\t0.880\n",
      "R@1\t0.880\n",
      "\n",
      "Training model with lr=0.05, dim=25, epoch=10, and wordNgrams=5\n"
     ]
    },
    {
     "name": "stderr",
     "output_type": "stream",
     "text": [
      "Read 4M words\n",
      "Number of words:  188111\n",
      "Number of labels: 4\n",
      "Progress: 100.0% words/sec/thread:  924581 lr:  0.000000 avg.loss:  0.350404 ETA:   0h 0m 0s\n"
     ]
    },
    {
     "name": "stdout",
     "output_type": "stream",
     "text": [
      "N\t7600\n",
      "P@1\t0.907\n",
      "R@1\t0.907\n",
      "\n",
      "Training model with lr=0.05, dim=25, epoch=15, and wordNgrams=5\n"
     ]
    },
    {
     "name": "stderr",
     "output_type": "stream",
     "text": [
      "Read 4M words\n",
      "Number of words:  188111\n",
      "Number of labels: 4\n",
      "Progress: 100.0% words/sec/thread:  914253 lr:  0.000000 avg.loss:  0.229561 ETA:   0h 0m 0s\n"
     ]
    },
    {
     "name": "stdout",
     "output_type": "stream",
     "text": [
      "N\t7600\n",
      "P@1\t0.911\n",
      "R@1\t0.911\n",
      "\n",
      "Training model with lr=0.1, dim=5, epoch=5, and wordNgrams=2\n"
     ]
    },
    {
     "name": "stderr",
     "output_type": "stream",
     "text": [
      "Read 4M words\n",
      "Number of words:  188111\n",
      "Number of labels: 4\n",
      "Progress: 100.0% words/sec/thread: 3270715 lr:  0.000000 avg.loss:  0.226921 ETA:   0h 0m 0s\n"
     ]
    },
    {
     "name": "stdout",
     "output_type": "stream",
     "text": [
      "N\t7600\n",
      "P@1\t0.914\n",
      "R@1\t0.914\n",
      "\n",
      "Training model with lr=0.1, dim=5, epoch=10, and wordNgrams=2\n"
     ]
    },
    {
     "name": "stderr",
     "output_type": "stream",
     "text": [
      "Read 4M words\n",
      "Number of words:  188111\n",
      "Number of labels: 4\n",
      "Progress: 100.0% words/sec/thread: 2997109 lr:  0.000000 avg.loss:  0.114568 ETA:   0h 0m 0s\n"
     ]
    },
    {
     "name": "stdout",
     "output_type": "stream",
     "text": [
      "N\t7600\n",
      "P@1\t0.916\n",
      "R@1\t0.916\n",
      "\n",
      "Training model with lr=0.1, dim=5, epoch=15, and wordNgrams=2\n"
     ]
    },
    {
     "name": "stderr",
     "output_type": "stream",
     "text": [
      "Read 4M words\n",
      "Number of words:  188111\n",
      "Number of labels: 4\n",
      "Progress: 100.0% words/sec/thread: 3002408 lr:  0.000000 avg.loss:  0.081344 ETA:   0h 0m 0s\n",
      "Read 1M words"
     ]
    },
    {
     "name": "stdout",
     "output_type": "stream",
     "text": [
      "N\t7600\n",
      "P@1\t0.915\n",
      "R@1\t0.915\n",
      "\n",
      "Training model with lr=0.1, dim=5, epoch=5, and wordNgrams=3\n"
     ]
    },
    {
     "name": "stderr",
     "output_type": "stream",
     "text": [
      "Read 4M words\n",
      "Number of words:  188111\n",
      "Number of labels: 4\n",
      "Progress: 100.0% words/sec/thread: 1166917 lr:  0.000000 avg.loss:  0.270139 ETA:   0h 0m 0s\n"
     ]
    },
    {
     "name": "stdout",
     "output_type": "stream",
     "text": [
      "N\t7600\n",
      "P@1\t0.909\n",
      "R@1\t0.909\n",
      "\n",
      "Training model with lr=0.1, dim=5, epoch=10, and wordNgrams=3\n"
     ]
    },
    {
     "name": "stderr",
     "output_type": "stream",
     "text": [
      "Read 4M words\n",
      "Number of words:  188111\n",
      "Number of labels: 4\n",
      "Progress: 100.0% words/sec/thread:  830000 lr:  0.000000 avg.loss:  0.136967 ETA:   0h 0m 0s\n"
     ]
    },
    {
     "name": "stdout",
     "output_type": "stream",
     "text": [
      "N\t7600\n",
      "P@1\t0.913\n",
      "R@1\t0.913\n",
      "\n",
      "Training model with lr=0.1, dim=5, epoch=15, and wordNgrams=3\n"
     ]
    },
    {
     "name": "stderr",
     "output_type": "stream",
     "text": [
      "Read 4M words\n",
      "Number of words:  188111\n",
      "Number of labels: 4\n",
      "Progress: 100.0% words/sec/thread:  891251 lr:  0.000000 avg.loss:  0.090940 ETA:   0h 0m 0s  4.9% words/sec/thread: 1137822 lr:  0.095098 avg.loss:  0.826988 ETA:   0h 0m 8s\n"
     ]
    },
    {
     "name": "stdout",
     "output_type": "stream",
     "text": [
      "N\t7600\n",
      "P@1\t0.913\n",
      "R@1\t0.913\n",
      "\n",
      "Training model with lr=0.1, dim=5, epoch=5, and wordNgrams=4\n"
     ]
    },
    {
     "name": "stderr",
     "output_type": "stream",
     "text": [
      "Read 4M words\n",
      "Number of words:  188111\n",
      "Number of labels: 4\n",
      "Progress: 100.0% words/sec/thread:  749468 lr:  0.000000 avg.loss:  0.306079 ETA:   0h 0m 0s\n"
     ]
    },
    {
     "name": "stdout",
     "output_type": "stream",
     "text": [
      "N\t7600\n",
      "P@1\t0.907\n",
      "R@1\t0.907\n",
      "\n",
      "Training model with lr=0.1, dim=5, epoch=10, and wordNgrams=4\n"
     ]
    },
    {
     "name": "stderr",
     "output_type": "stream",
     "text": [
      "Read 4M words\n",
      "Number of words:  188111\n",
      "Number of labels: 4\n",
      "Progress: 100.0% words/sec/thread:  632364 lr:  0.000000 avg.loss:  0.150809 ETA:   0h 0m 0s\n"
     ]
    },
    {
     "name": "stdout",
     "output_type": "stream",
     "text": [
      "N\t7600\n",
      "P@1\t0.912\n",
      "R@1\t0.912\n",
      "\n",
      "Training model with lr=0.1, dim=5, epoch=15, and wordNgrams=4\n"
     ]
    },
    {
     "name": "stderr",
     "output_type": "stream",
     "text": [
      "Read 4M words\n",
      "Number of words:  188111\n",
      "Number of labels: 4\n",
      "Progress: 100.0% words/sec/thread:  595904 lr:  0.000000 avg.loss:  0.101677 ETA:   0h 0m 0s\n"
     ]
    },
    {
     "name": "stdout",
     "output_type": "stream",
     "text": [
      "N\t7600\n",
      "P@1\t0.913\n",
      "R@1\t0.913\n",
      "\n",
      "Training model with lr=0.1, dim=5, epoch=5, and wordNgrams=5\n"
     ]
    },
    {
     "name": "stderr",
     "output_type": "stream",
     "text": [
      "Read 4M words\n",
      "Number of words:  188111\n",
      "Number of labels: 4\n",
      "Progress: 100.0% words/sec/thread:  818037 lr:  0.000000 avg.loss:  0.352999 ETA:   0h 0m 0s\n"
     ]
    },
    {
     "name": "stdout",
     "output_type": "stream",
     "text": [
      "N\t7600\n",
      "P@1\t0.902\n",
      "R@1\t0.902\n",
      "\n",
      "Training model with lr=0.1, dim=5, epoch=10, and wordNgrams=5\n"
     ]
    },
    {
     "name": "stderr",
     "output_type": "stream",
     "text": [
      "Read 4M words\n",
      "Number of words:  188111\n",
      "Number of labels: 4\n",
      "Progress: 100.0% words/sec/thread:  758365 lr:  0.000000 avg.loss:  0.177860 ETA:   0h 0m 0s\n"
     ]
    },
    {
     "name": "stdout",
     "output_type": "stream",
     "text": [
      "N\t7600\n",
      "P@1\t0.908\n",
      "R@1\t0.908\n",
      "\n",
      "Training model with lr=0.1, dim=5, epoch=15, and wordNgrams=5\n"
     ]
    },
    {
     "name": "stderr",
     "output_type": "stream",
     "text": [
      "Read 4M words\n",
      "Number of words:  188111\n",
      "Number of labels: 4\n",
      "Progress: 100.0% words/sec/thread:  831389 lr:  0.000000 avg.loss:  0.117476 ETA:   0h 0m 0s\n"
     ]
    },
    {
     "name": "stdout",
     "output_type": "stream",
     "text": [
      "N\t7600\n",
      "P@1\t0.911\n",
      "R@1\t0.911\n",
      "\n",
      "Training model with lr=0.1, dim=10, epoch=5, and wordNgrams=2\n"
     ]
    },
    {
     "name": "stderr",
     "output_type": "stream",
     "text": [
      "Read 4M words\n",
      "Number of words:  188111\n",
      "Number of labels: 4\n",
      "Progress: 100.0% words/sec/thread: 1339335 lr:  0.000000 avg.loss:  0.229292 ETA:   0h 0m 0s\n"
     ]
    },
    {
     "name": "stdout",
     "output_type": "stream",
     "text": [
      "N\t7600\n",
      "P@1\t0.917\n",
      "R@1\t0.917\n",
      "\n",
      "Training model with lr=0.1, dim=10, epoch=10, and wordNgrams=2\n"
     ]
    },
    {
     "name": "stderr",
     "output_type": "stream",
     "text": [
      "Read 4M words\n",
      "Number of words:  188111\n",
      "Number of labels: 4\n",
      "Progress: 100.0% words/sec/thread: 1238120 lr:  0.000000 avg.loss:  0.119012 ETA:   0h 0m 0s\n"
     ]
    },
    {
     "name": "stdout",
     "output_type": "stream",
     "text": [
      "N\t7600\n",
      "P@1\t0.919\n",
      "R@1\t0.919\n",
      "\n",
      "Training model with lr=0.1, dim=10, epoch=15, and wordNgrams=2\n"
     ]
    },
    {
     "name": "stderr",
     "output_type": "stream",
     "text": [
      "Read 4M words\n",
      "Number of words:  188111\n",
      "Number of labels: 4\n",
      "Progress: 100.0% words/sec/thread: 1516242 lr:  0.000000 avg.loss:  0.079471 ETA:   0h 0m 0s\n",
      "Read 1M words"
     ]
    },
    {
     "name": "stdout",
     "output_type": "stream",
     "text": [
      "N\t7600\n",
      "P@1\t0.919\n",
      "R@1\t0.919\n",
      "\n",
      "Training model with lr=0.1, dim=10, epoch=5, and wordNgrams=3\n"
     ]
    },
    {
     "name": "stderr",
     "output_type": "stream",
     "text": [
      "Read 4M words\n",
      "Number of words:  188111\n",
      "Number of labels: 4\n",
      "Progress: 100.0% words/sec/thread: 1314944 lr:  0.000000 avg.loss:  0.256014 ETA:   0h 0m 0s\n"
     ]
    },
    {
     "name": "stdout",
     "output_type": "stream",
     "text": [
      "N\t7600\n",
      "P@1\t0.915\n",
      "R@1\t0.915\n",
      "\n",
      "Training model with lr=0.1, dim=10, epoch=10, and wordNgrams=3\n"
     ]
    },
    {
     "name": "stderr",
     "output_type": "stream",
     "text": [
      "Read 4M words\n",
      "Number of words:  188111\n",
      "Number of labels: 4\n",
      "Progress: 100.0% words/sec/thread:  875463 lr:  0.000000 avg.loss:  0.128695 ETA:   0h 0m 0s\n"
     ]
    },
    {
     "name": "stdout",
     "output_type": "stream",
     "text": [
      "N\t7600\n",
      "P@1\t0.917\n",
      "R@1\t0.917\n",
      "\n",
      "Training model with lr=0.1, dim=10, epoch=15, and wordNgrams=3\n"
     ]
    },
    {
     "name": "stderr",
     "output_type": "stream",
     "text": [
      "Read 4M words\n",
      "Number of words:  188111\n",
      "Number of labels: 4\n",
      "Progress: 100.0% words/sec/thread:  862422 lr:  0.000000 avg.loss:  0.088027 ETA:   0h 0m 0s\n"
     ]
    },
    {
     "name": "stdout",
     "output_type": "stream",
     "text": [
      "N\t7600\n",
      "P@1\t0.918\n",
      "R@1\t0.918\n",
      "\n",
      "Training model with lr=0.1, dim=10, epoch=5, and wordNgrams=4\n"
     ]
    },
    {
     "name": "stderr",
     "output_type": "stream",
     "text": [
      "Read 4M words\n",
      "Number of words:  188111\n",
      "Number of labels: 4\n",
      "Progress: 100.0% words/sec/thread:  693749 lr:  0.000000 avg.loss:  0.298195 ETA:   0h 0m 0s\n",
      "Read 1M words"
     ]
    },
    {
     "name": "stdout",
     "output_type": "stream",
     "text": [
      "N\t7600\n",
      "P@1\t0.910\n",
      "R@1\t0.910\n",
      "\n",
      "Training model with lr=0.1, dim=10, epoch=10, and wordNgrams=4\n"
     ]
    },
    {
     "name": "stderr",
     "output_type": "stream",
     "text": [
      "Read 4M words\n",
      "Number of words:  188111\n",
      "Number of labels: 4\n",
      "Progress: 100.0% words/sec/thread:  703830 lr:  0.000000 avg.loss:  0.151045 ETA:   0h 0m 0s\n"
     ]
    },
    {
     "name": "stdout",
     "output_type": "stream",
     "text": [
      "N\t7600\n",
      "P@1\t0.915\n",
      "R@1\t0.915\n",
      "\n",
      "Training model with lr=0.1, dim=10, epoch=15, and wordNgrams=4\n"
     ]
    },
    {
     "name": "stderr",
     "output_type": "stream",
     "text": [
      "Read 4M words\n",
      "Number of words:  188111\n",
      "Number of labels: 4\n",
      "Progress: 100.0% words/sec/thread:  623058 lr:  0.000000 avg.loss:  0.098490 ETA:   0h 0m 0s\n"
     ]
    },
    {
     "name": "stdout",
     "output_type": "stream",
     "text": [
      "N\t7600\n",
      "P@1\t0.915\n",
      "R@1\t0.915\n",
      "\n",
      "Training model with lr=0.1, dim=10, epoch=5, and wordNgrams=5\n"
     ]
    },
    {
     "name": "stderr",
     "output_type": "stream",
     "text": [
      "Read 4M words\n",
      "Number of words:  188111\n",
      "Number of labels: 4\n",
      "Progress: 100.0% words/sec/thread:  609027 lr:  0.000000 avg.loss:  0.342990 ETA:   0h 0m 0s\n",
      "Read 1M words"
     ]
    },
    {
     "name": "stdout",
     "output_type": "stream",
     "text": [
      "N\t7600\n",
      "P@1\t0.905\n",
      "R@1\t0.905\n",
      "\n",
      "Training model with lr=0.1, dim=10, epoch=10, and wordNgrams=5\n"
     ]
    },
    {
     "name": "stderr",
     "output_type": "stream",
     "text": [
      "Read 4M words\n",
      "Number of words:  188111\n",
      "Number of labels: 4\n",
      "Progress: 100.0% words/sec/thread:  601056 lr:  0.000000 avg.loss:  0.171928 ETA:   0h 0m 0s\n"
     ]
    },
    {
     "name": "stdout",
     "output_type": "stream",
     "text": [
      "N\t7600\n",
      "P@1\t0.910\n",
      "R@1\t0.910\n",
      "\n",
      "Training model with lr=0.1, dim=10, epoch=15, and wordNgrams=5\n"
     ]
    },
    {
     "name": "stderr",
     "output_type": "stream",
     "text": [
      "Read 4M words\n",
      "Number of words:  188111\n",
      "Number of labels: 4\n",
      "Progress: 100.0% words/sec/thread:  604166 lr:  0.000000 avg.loss:  0.111728 ETA:   0h 0m 0s\n"
     ]
    },
    {
     "name": "stdout",
     "output_type": "stream",
     "text": [
      "N\t7600\n",
      "P@1\t0.912\n",
      "R@1\t0.912\n",
      "\n",
      "Training model with lr=0.1, dim=25, epoch=5, and wordNgrams=2\n"
     ]
    },
    {
     "name": "stderr",
     "output_type": "stream",
     "text": [
      "Read 4M words\n",
      "Number of words:  188111\n",
      "Number of labels: 4\n",
      "Progress: 100.0% words/sec/thread:  959806 lr:  0.000000 avg.loss:  0.226618 ETA:   0h 0m 0s\n"
     ]
    },
    {
     "name": "stdout",
     "output_type": "stream",
     "text": [
      "N\t7600\n",
      "P@1\t0.918\n",
      "R@1\t0.918\n",
      "\n",
      "Training model with lr=0.1, dim=25, epoch=10, and wordNgrams=2\n"
     ]
    },
    {
     "name": "stderr",
     "output_type": "stream",
     "text": [
      "Read 4M words\n",
      "Number of words:  188111\n",
      "Number of labels: 4\n",
      "Progress: 100.0% words/sec/thread:  936556 lr:  0.000000 avg.loss:  0.120717 ETA:   0h 0m 0s\n"
     ]
    },
    {
     "name": "stdout",
     "output_type": "stream",
     "text": [
      "N\t7600\n",
      "P@1\t0.920\n",
      "R@1\t0.920\n",
      "\n",
      "Training model with lr=0.1, dim=25, epoch=15, and wordNgrams=2\n"
     ]
    },
    {
     "name": "stderr",
     "output_type": "stream",
     "text": [
      "Read 4M words\n",
      "Number of words:  188111\n",
      "Number of labels: 4\n",
      "Progress: 100.0% words/sec/thread:  794675 lr:  0.000000 avg.loss:  0.081436 ETA:   0h 0m 0s\n"
     ]
    },
    {
     "name": "stdout",
     "output_type": "stream",
     "text": [
      "N\t7600\n",
      "P@1\t0.920\n",
      "R@1\t0.920\n",
      "\n",
      "Training model with lr=0.1, dim=25, epoch=5, and wordNgrams=3\n"
     ]
    },
    {
     "name": "stderr",
     "output_type": "stream",
     "text": [
      "Read 4M words\n",
      "Number of words:  188111\n",
      "Number of labels: 4\n",
      "Progress: 100.0% words/sec/thread:  618503 lr:  0.000000 avg.loss:  0.265527 ETA:   0h 0m 0s\n"
     ]
    },
    {
     "name": "stdout",
     "output_type": "stream",
     "text": [
      "N\t7600\n",
      "P@1\t0.915\n",
      "R@1\t0.915\n",
      "\n",
      "Training model with lr=0.1, dim=25, epoch=10, and wordNgrams=3\n"
     ]
    },
    {
     "name": "stderr",
     "output_type": "stream",
     "text": [
      "Read 4M words\n",
      "Number of words:  188111\n",
      "Number of labels: 4\n",
      "Progress: 100.0% words/sec/thread:  453409 lr:  0.000000 avg.loss:  0.137570 ETA:   0h 0m 0s\n"
     ]
    },
    {
     "name": "stdout",
     "output_type": "stream",
     "text": [
      "N\t7600\n",
      "P@1\t0.917\n",
      "R@1\t0.917\n",
      "\n",
      "Training model with lr=0.1, dim=25, epoch=15, and wordNgrams=3\n"
     ]
    },
    {
     "name": "stderr",
     "output_type": "stream",
     "text": [
      "Read 4M words\n",
      "Number of words:  188111\n",
      "Number of labels: 4\n",
      "Progress: 100.0% words/sec/thread:  460815 lr:  0.000000 avg.loss:  0.090064 ETA:   0h 0m 0s\n"
     ]
    },
    {
     "name": "stdout",
     "output_type": "stream",
     "text": [
      "N\t7600\n",
      "P@1\t0.919\n",
      "R@1\t0.919\n",
      "\n",
      "Training model with lr=0.1, dim=25, epoch=5, and wordNgrams=4\n"
     ]
    },
    {
     "name": "stderr",
     "output_type": "stream",
     "text": [
      "Read 4M words\n",
      "Number of words:  188111\n",
      "Number of labels: 4\n",
      "Progress: 100.0% words/sec/thread:  350351 lr:  0.000000 avg.loss:  0.311229 ETA:   0h 0m 0s\n"
     ]
    },
    {
     "name": "stdout",
     "output_type": "stream",
     "text": [
      "N\t7600\n",
      "P@1\t0.912\n",
      "R@1\t0.912\n",
      "\n",
      "Training model with lr=0.1, dim=25, epoch=10, and wordNgrams=4\n"
     ]
    },
    {
     "name": "stderr",
     "output_type": "stream",
     "text": [
      "Read 4M words\n",
      "Number of words:  188111\n",
      "Number of labels: 4\n",
      "Progress: 100.0% words/sec/thread:  350644 lr:  0.000000 avg.loss:  0.154256 ETA:   0h 0m 0s\n"
     ]
    },
    {
     "name": "stdout",
     "output_type": "stream",
     "text": [
      "N\t7600\n",
      "P@1\t0.916\n",
      "R@1\t0.916\n",
      "\n",
      "Training model with lr=0.1, dim=25, epoch=15, and wordNgrams=4\n"
     ]
    },
    {
     "name": "stderr",
     "output_type": "stream",
     "text": [
      "Read 4M words\n",
      "Number of words:  188111\n",
      "Number of labels: 4\n",
      "Progress: 100.0% words/sec/thread:  331888 lr:  0.000000 avg.loss:  0.101589 ETA:   0h 0m 0s\n"
     ]
    },
    {
     "name": "stdout",
     "output_type": "stream",
     "text": [
      "N\t7600\n",
      "P@1\t0.917\n",
      "R@1\t0.917\n",
      "\n",
      "Training model with lr=0.1, dim=25, epoch=5, and wordNgrams=5\n"
     ]
    },
    {
     "name": "stderr",
     "output_type": "stream",
     "text": [
      "Read 4M words\n",
      "Number of words:  188111\n",
      "Number of labels: 4\n",
      "Progress: 100.0% words/sec/thread:  353485 lr:  0.000000 avg.loss:  0.360461 ETA:   0h 0m 0s\n"
     ]
    },
    {
     "name": "stdout",
     "output_type": "stream",
     "text": [
      "N\t7600\n",
      "P@1\t0.907\n",
      "R@1\t0.907\n",
      "\n",
      "Training model with lr=0.1, dim=25, epoch=10, and wordNgrams=5\n"
     ]
    },
    {
     "name": "stderr",
     "output_type": "stream",
     "text": [
      "Read 4M words\n",
      "Number of words:  188111\n",
      "Number of labels: 4\n",
      "Progress: 100.0% words/sec/thread:  328944 lr:  0.000000 avg.loss:  0.176346 ETA:   0h 0m 0s\n"
     ]
    },
    {
     "name": "stdout",
     "output_type": "stream",
     "text": [
      "N\t7600\n",
      "P@1\t0.911\n",
      "R@1\t0.911\n",
      "\n",
      "Training model with lr=0.1, dim=25, epoch=15, and wordNgrams=5\n"
     ]
    },
    {
     "name": "stderr",
     "output_type": "stream",
     "text": [
      "Read 4M words\n",
      "Number of words:  188111\n",
      "Number of labels: 4\n",
      "Progress: 100.0% words/sec/thread:  282640 lr:  0.000000 avg.loss:  0.116085 ETA:   0h 0m 0s\n"
     ]
    },
    {
     "name": "stdout",
     "output_type": "stream",
     "text": [
      "N\t7600\n",
      "P@1\t0.913\n",
      "R@1\t0.913\n",
      "\n",
      "Training model with lr=0.25, dim=5, epoch=5, and wordNgrams=2\n"
     ]
    },
    {
     "name": "stderr",
     "output_type": "stream",
     "text": [
      "Read 4M words\n",
      "Number of words:  188111\n",
      "Number of labels: 4\n",
      "Progress: 100.0% words/sec/thread:  959582 lr:  0.000000 avg.loss:  0.139738 ETA:   0h 0m 0s\n",
      "Read 1M words"
     ]
    },
    {
     "name": "stdout",
     "output_type": "stream",
     "text": [
      "N\t7600\n",
      "P@1\t0.916\n",
      "R@1\t0.916\n",
      "\n",
      "Training model with lr=0.25, dim=5, epoch=10, and wordNgrams=2\n"
     ]
    },
    {
     "name": "stderr",
     "output_type": "stream",
     "text": [
      "Read 4M words\n",
      "Number of words:  188111\n",
      "Number of labels: 4\n",
      "Progress: 100.0% words/sec/thread: 1531707 lr:  0.000000 avg.loss:  0.078359 ETA:   0h 0m 0s\n"
     ]
    },
    {
     "name": "stdout",
     "output_type": "stream",
     "text": [
      "N\t7600\n",
      "P@1\t0.915\n",
      "R@1\t0.915\n",
      "\n",
      "Training model with lr=0.25, dim=5, epoch=15, and wordNgrams=2\n"
     ]
    },
    {
     "name": "stderr",
     "output_type": "stream",
     "text": [
      "Read 4M words\n",
      "Number of words:  188111\n",
      "Number of labels: 4\n",
      "Progress: 100.0% words/sec/thread: 1427690 lr:  0.000000 avg.loss:  0.053169 ETA:   0h 0m 0s words/sec/thread: 1478787 lr:  0.024583 avg.loss:  0.058236 ETA:   0h 0m 0s\n"
     ]
    },
    {
     "name": "stdout",
     "output_type": "stream",
     "text": [
      "N\t7600\n",
      "P@1\t0.916\n",
      "R@1\t0.916\n",
      "\n",
      "Training model with lr=0.25, dim=5, epoch=5, and wordNgrams=3\n"
     ]
    },
    {
     "name": "stderr",
     "output_type": "stream",
     "text": [
      "Read 4M words\n",
      "Number of words:  188111\n",
      "Number of labels: 4\n",
      "Progress: 100.0% words/sec/thread: 1192036 lr:  0.000000 avg.loss:  0.139337 ETA:   0h 0m 0s\n"
     ]
    },
    {
     "name": "stdout",
     "output_type": "stream",
     "text": [
      "N\t7600\n",
      "P@1\t0.915\n",
      "R@1\t0.915\n",
      "\n",
      "Training model with lr=0.25, dim=5, epoch=10, and wordNgrams=3\n"
     ]
    },
    {
     "name": "stderr",
     "output_type": "stream",
     "text": [
      "Read 4M words\n",
      "Number of words:  188111\n",
      "Number of labels: 4\n",
      "Progress: 100.0% words/sec/thread: 2875819 lr:  0.000000 avg.loss:  0.074362 ETA:   0h 0m 0s\n"
     ]
    },
    {
     "name": "stdout",
     "output_type": "stream",
     "text": [
      "N\t7600\n",
      "P@1\t0.917\n",
      "R@1\t0.917\n",
      "\n",
      "Training model with lr=0.25, dim=5, epoch=15, and wordNgrams=3\n"
     ]
    },
    {
     "name": "stderr",
     "output_type": "stream",
     "text": [
      "Read 4M words\n",
      "Number of words:  188111\n",
      "Number of labels: 4\n",
      "Progress: 100.0% words/sec/thread: 2919522 lr:  0.000000 avg.loss:  0.053172 ETA:   0h 0m 0s\n"
     ]
    },
    {
     "name": "stdout",
     "output_type": "stream",
     "text": [
      "N\t7600\n",
      "P@1\t0.917\n",
      "R@1\t0.917\n",
      "\n",
      "Training model with lr=0.25, dim=5, epoch=5, and wordNgrams=4\n"
     ]
    },
    {
     "name": "stderr",
     "output_type": "stream",
     "text": [
      "Read 4M words\n",
      "Number of words:  188111\n",
      "Number of labels: 4\n",
      "Progress: 100.0% words/sec/thread: 2369149 lr:  0.000000 avg.loss:  0.146471 ETA:   0h 0m 0s\n"
     ]
    },
    {
     "name": "stdout",
     "output_type": "stream",
     "text": [
      "N\t7600\n",
      "P@1\t0.912\n",
      "R@1\t0.912\n",
      "\n",
      "Training model with lr=0.25, dim=5, epoch=10, and wordNgrams=4\n"
     ]
    },
    {
     "name": "stderr",
     "output_type": "stream",
     "text": [
      "Read 4M words\n",
      "Number of words:  188111\n",
      "Number of labels: 4\n",
      "Progress: 100.0% words/sec/thread: 2289631 lr:  0.000000 avg.loss:  0.076841 ETA:   0h 0m 0s\n"
     ]
    },
    {
     "name": "stdout",
     "output_type": "stream",
     "text": [
      "N\t7600\n",
      "P@1\t0.915\n",
      "R@1\t0.915\n",
      "\n",
      "Training model with lr=0.25, dim=5, epoch=15, and wordNgrams=4\n"
     ]
    },
    {
     "name": "stderr",
     "output_type": "stream",
     "text": [
      "Read 4M words\n",
      "Number of words:  188111\n",
      "Number of labels: 4\n",
      "Progress: 100.0% words/sec/thread: 1450256 lr:  0.000000 avg.loss:  0.055534 ETA:   0h 0m 0s\n"
     ]
    },
    {
     "name": "stdout",
     "output_type": "stream",
     "text": [
      "N\t7600\n",
      "P@1\t0.916\n",
      "R@1\t0.916\n",
      "\n",
      "Training model with lr=0.25, dim=5, epoch=5, and wordNgrams=5\n"
     ]
    },
    {
     "name": "stderr",
     "output_type": "stream",
     "text": [
      "Read 4M words\n",
      "Number of words:  188111\n",
      "Number of labels: 4\n",
      "Progress: 100.0% words/sec/thread:  505944 lr:  0.000000 avg.loss:  0.166624 ETA:   0h 0m 0s\n"
     ]
    },
    {
     "name": "stdout",
     "output_type": "stream",
     "text": [
      "N\t7600\n",
      "P@1\t0.911\n",
      "R@1\t0.911\n",
      "\n",
      "Training model with lr=0.25, dim=5, epoch=10, and wordNgrams=5\n"
     ]
    },
    {
     "name": "stderr",
     "output_type": "stream",
     "text": [
      "Read 4M words\n",
      "Number of words:  188111\n",
      "Number of labels: 4\n",
      "Progress: 100.0% words/sec/thread:  507848 lr:  0.000000 avg.loss:  0.083923 ETA:   0h 0m 0s\n"
     ]
    },
    {
     "name": "stdout",
     "output_type": "stream",
     "text": [
      "N\t7600\n",
      "P@1\t0.912\n",
      "R@1\t0.912\n",
      "\n",
      "Training model with lr=0.25, dim=5, epoch=15, and wordNgrams=5\n"
     ]
    },
    {
     "name": "stderr",
     "output_type": "stream",
     "text": [
      "Read 4M words\n",
      "Number of words:  188111\n",
      "Number of labels: 4\n",
      "Progress: 100.0% words/sec/thread:  459326 lr:  0.000000 avg.loss:  0.058961 ETA:   0h 0m 0s\n"
     ]
    },
    {
     "name": "stdout",
     "output_type": "stream",
     "text": [
      "N\t7600\n",
      "P@1\t0.912\n",
      "R@1\t0.912\n",
      "\n",
      "Training model with lr=0.25, dim=10, epoch=5, and wordNgrams=2\n"
     ]
    },
    {
     "name": "stderr",
     "output_type": "stream",
     "text": [
      "Read 4M words\n",
      "Number of words:  188111\n",
      "Number of labels: 4\n",
      "Progress: 100.0% words/sec/thread:  629589 lr:  0.000000 avg.loss:  0.137206 ETA:   0h 0m 0s\n"
     ]
    },
    {
     "name": "stdout",
     "output_type": "stream",
     "text": [
      "N\t7600\n",
      "P@1\t0.917\n",
      "R@1\t0.917\n",
      "\n",
      "Training model with lr=0.25, dim=10, epoch=10, and wordNgrams=2\n"
     ]
    },
    {
     "name": "stderr",
     "output_type": "stream",
     "text": [
      "Read 4M words\n",
      "Number of words:  188111\n",
      "Number of labels: 4\n",
      "Progress: 100.0% words/sec/thread:  619747 lr:  0.000000 avg.loss:  0.076514 ETA:   0h 0m 0s\n"
     ]
    },
    {
     "name": "stdout",
     "output_type": "stream",
     "text": [
      "N\t7600\n",
      "P@1\t0.918\n",
      "R@1\t0.918\n",
      "\n",
      "Training model with lr=0.25, dim=10, epoch=15, and wordNgrams=2\n"
     ]
    },
    {
     "name": "stderr",
     "output_type": "stream",
     "text": [
      "Read 4M words\n",
      "Number of words:  188111\n",
      "Number of labels: 4\n",
      "Progress: 100.0% words/sec/thread:  484752 lr:  0.000000 avg.loss:  0.055311 ETA:   0h 0m 0s\n"
     ]
    },
    {
     "name": "stdout",
     "output_type": "stream",
     "text": [
      "N\t7600\n",
      "P@1\t0.919\n",
      "R@1\t0.919\n",
      "\n",
      "Training model with lr=0.25, dim=10, epoch=5, and wordNgrams=3\n"
     ]
    },
    {
     "name": "stderr",
     "output_type": "stream",
     "text": [
      "Read 4M words\n",
      "Number of words:  188111\n",
      "Number of labels: 4\n",
      "Progress: 100.0% words/sec/thread:  316850 lr:  0.000000 avg.loss:  0.133967 ETA:   0h 0m 0s\n"
     ]
    },
    {
     "name": "stdout",
     "output_type": "stream",
     "text": [
      "N\t7600\n",
      "P@1\t0.917\n",
      "R@1\t0.917\n",
      "\n",
      "Training model with lr=0.25, dim=10, epoch=10, and wordNgrams=3\n"
     ]
    },
    {
     "name": "stderr",
     "output_type": "stream",
     "text": [
      "Read 4M words\n",
      "Number of words:  188111\n",
      "Number of labels: 4\n",
      "Progress: 100.0% words/sec/thread:  408424 lr:  0.000000 avg.loss:  0.073903 ETA:   0h 0m 0s\n"
     ]
    },
    {
     "name": "stdout",
     "output_type": "stream",
     "text": [
      "N\t7600\n",
      "P@1\t0.917\n",
      "R@1\t0.917\n",
      "\n",
      "Training model with lr=0.25, dim=10, epoch=15, and wordNgrams=3\n"
     ]
    },
    {
     "name": "stderr",
     "output_type": "stream",
     "text": [
      "Read 4M words\n",
      "Number of words:  188111\n",
      "Number of labels: 4\n",
      "Progress: 100.0% words/sec/thread:  317618 lr:  0.000000 avg.loss:  0.050935 ETA:   0h 0m 0s\n"
     ]
    },
    {
     "name": "stdout",
     "output_type": "stream",
     "text": [
      "N\t7600\n",
      "P@1\t0.918\n",
      "R@1\t0.918\n",
      "\n",
      "Training model with lr=0.25, dim=10, epoch=5, and wordNgrams=4\n"
     ]
    },
    {
     "name": "stderr",
     "output_type": "stream",
     "text": [
      "Read 4M words\n",
      "Number of words:  188111\n",
      "Number of labels: 4\n",
      "Progress: 100.0% words/sec/thread:  373009 lr:  0.000000 avg.loss:  0.149408 ETA:   0h 0m 0s\n"
     ]
    },
    {
     "name": "stdout",
     "output_type": "stream",
     "text": [
      "N\t7600\n",
      "P@1\t0.917\n",
      "R@1\t0.917\n",
      "\n",
      "Training model with lr=0.25, dim=10, epoch=10, and wordNgrams=4\n"
     ]
    },
    {
     "name": "stderr",
     "output_type": "stream",
     "text": [
      "Read 4M words\n",
      "Number of words:  188111\n",
      "Number of labels: 4\n",
      "Progress: 100.0% words/sec/thread:  432429 lr:  0.000000 avg.loss:  0.077596 ETA:   0h 0m 0s\n"
     ]
    },
    {
     "name": "stdout",
     "output_type": "stream",
     "text": [
      "N\t7600\n",
      "P@1\t0.916\n",
      "R@1\t0.916\n",
      "\n",
      "Training model with lr=0.25, dim=10, epoch=15, and wordNgrams=4\n"
     ]
    },
    {
     "name": "stderr",
     "output_type": "stream",
     "text": [
      "Read 4M words\n",
      "Number of words:  188111\n",
      "Number of labels: 4\n",
      "Progress: 100.0% words/sec/thread:  435674 lr:  0.000000 avg.loss:  0.052236 ETA:   0h 0m 0s\n"
     ]
    },
    {
     "name": "stdout",
     "output_type": "stream",
     "text": [
      "N\t7600\n",
      "P@1\t0.917\n",
      "R@1\t0.917\n",
      "\n",
      "Training model with lr=0.25, dim=10, epoch=5, and wordNgrams=5\n"
     ]
    },
    {
     "name": "stderr",
     "output_type": "stream",
     "text": [
      "Read 4M words\n",
      "Number of words:  188111\n",
      "Number of labels: 4\n",
      "Progress: 100.0% words/sec/thread:  598527 lr:  0.000000 avg.loss:  0.159167 ETA:   0h 0m 0s\n"
     ]
    },
    {
     "name": "stdout",
     "output_type": "stream",
     "text": [
      "N\t7600\n",
      "P@1\t0.913\n",
      "R@1\t0.913\n",
      "\n",
      "Training model with lr=0.25, dim=10, epoch=10, and wordNgrams=5\n"
     ]
    },
    {
     "name": "stderr",
     "output_type": "stream",
     "text": [
      "Read 4M words\n",
      "Number of words:  188111\n",
      "Number of labels: 4\n",
      "Progress: 100.0% words/sec/thread:  618480 lr:  0.000000 avg.loss:  0.083104 ETA:   0h 0m 0s\n"
     ]
    },
    {
     "name": "stdout",
     "output_type": "stream",
     "text": [
      "N\t7600\n",
      "P@1\t0.914\n",
      "R@1\t0.914\n",
      "\n",
      "Training model with lr=0.25, dim=10, epoch=15, and wordNgrams=5\n"
     ]
    },
    {
     "name": "stderr",
     "output_type": "stream",
     "text": [
      "Read 4M words\n",
      "Number of words:  188111\n",
      "Number of labels: 4\n",
      "Progress: 100.0% words/sec/thread:  451081 lr:  0.000000 avg.loss:  0.057009 ETA:   0h 0m 0s\n",
      "Read 1M words"
     ]
    },
    {
     "name": "stdout",
     "output_type": "stream",
     "text": [
      "N\t7600\n",
      "P@1\t0.915\n",
      "R@1\t0.915\n",
      "\n",
      "Training model with lr=0.25, dim=25, epoch=5, and wordNgrams=2\n"
     ]
    },
    {
     "name": "stderr",
     "output_type": "stream",
     "text": [
      "Read 4M words\n",
      "Number of words:  188111\n",
      "Number of labels: 4\n",
      "Progress: 100.0% words/sec/thread: 1169427 lr:  0.000000 avg.loss:  0.140132 ETA:   0h 0m 0s\n"
     ]
    },
    {
     "name": "stdout",
     "output_type": "stream",
     "text": [
      "N\t7600\n",
      "P@1\t0.918\n",
      "R@1\t0.918\n",
      "\n",
      "Training model with lr=0.25, dim=25, epoch=10, and wordNgrams=2\n"
     ]
    },
    {
     "name": "stderr",
     "output_type": "stream",
     "text": [
      "Read 4M words\n",
      "Number of words:  188111\n",
      "Number of labels: 4\n",
      "Progress: 100.0% words/sec/thread: 1309215 lr:  0.000000 avg.loss:  0.077732 ETA:   0h 0m 0s\n"
     ]
    },
    {
     "name": "stdout",
     "output_type": "stream",
     "text": [
      "N\t7600\n",
      "P@1\t0.918\n",
      "R@1\t0.918\n",
      "\n",
      "Training model with lr=0.25, dim=25, epoch=15, and wordNgrams=2\n"
     ]
    },
    {
     "name": "stderr",
     "output_type": "stream",
     "text": [
      "Read 4M words\n",
      "Number of words:  188111\n",
      "Number of labels: 4\n",
      "Progress: 100.0% words/sec/thread: 1281392 lr:  0.000000 avg.loss:  0.054067 ETA:   0h 0m 0s\n"
     ]
    },
    {
     "name": "stdout",
     "output_type": "stream",
     "text": [
      "N\t7600\n",
      "P@1\t0.919\n",
      "R@1\t0.919\n",
      "\n",
      "Training model with lr=0.25, dim=25, epoch=5, and wordNgrams=3\n"
     ]
    },
    {
     "name": "stderr",
     "output_type": "stream",
     "text": [
      "Read 4M words\n",
      "Number of words:  188111\n",
      "Number of labels: 4\n",
      "Progress: 100.0% words/sec/thread: 1055441 lr:  0.000000 avg.loss:  0.143070 ETA:   0h 0m 0s\n"
     ]
    },
    {
     "name": "stdout",
     "output_type": "stream",
     "text": [
      "N\t7600\n",
      "P@1\t0.920\n",
      "R@1\t0.920\n",
      "\n",
      "Training model with lr=0.25, dim=25, epoch=10, and wordNgrams=3\n"
     ]
    },
    {
     "name": "stderr",
     "output_type": "stream",
     "text": [
      "Read 4M words\n",
      "Number of words:  188111\n",
      "Number of labels: 4\n",
      "Progress: 100.0% words/sec/thread:  997071 lr:  0.000000 avg.loss:  0.074623 ETA:   0h 0m 0s\n"
     ]
    },
    {
     "name": "stdout",
     "output_type": "stream",
     "text": [
      "N\t7600\n",
      "P@1\t0.919\n",
      "R@1\t0.919\n",
      "\n",
      "Training model with lr=0.25, dim=25, epoch=15, and wordNgrams=3\n"
     ]
    },
    {
     "name": "stderr",
     "output_type": "stream",
     "text": [
      "Read 4M words\n",
      "Number of words:  188111\n",
      "Number of labels: 4\n",
      "Progress: 100.0% words/sec/thread:  964565 lr:  0.000000 avg.loss:  0.053862 ETA:   0h 0m 0s\n"
     ]
    },
    {
     "name": "stdout",
     "output_type": "stream",
     "text": [
      "N\t7600\n",
      "P@1\t0.919\n",
      "R@1\t0.919\n",
      "\n",
      "Training model with lr=0.25, dim=25, epoch=5, and wordNgrams=4\n"
     ]
    },
    {
     "name": "stderr",
     "output_type": "stream",
     "text": [
      "Read 4M words\n",
      "Number of words:  188111\n",
      "Number of labels: 4\n",
      "Progress: 100.0% words/sec/thread:  780488 lr:  0.000000 avg.loss:  0.154896 ETA:   0h 0m 0s\n"
     ]
    },
    {
     "name": "stdout",
     "output_type": "stream",
     "text": [
      "N\t7600\n",
      "P@1\t0.916\n",
      "R@1\t0.916\n",
      "\n",
      "Training model with lr=0.25, dim=25, epoch=10, and wordNgrams=4\n"
     ]
    },
    {
     "name": "stderr",
     "output_type": "stream",
     "text": [
      "Read 4M words\n",
      "Number of words:  188111\n",
      "Number of labels: 4\n",
      "Progress: 100.0% words/sec/thread:  814321 lr:  0.000000 avg.loss:  0.077678 ETA:   0h 0m 0s 62.8% words/sec/thread:  813876 lr:  0.092933 avg.loss:  0.120329 ETA:   0h 0m 3s\n"
     ]
    },
    {
     "name": "stdout",
     "output_type": "stream",
     "text": [
      "N\t7600\n",
      "P@1\t0.916\n",
      "R@1\t0.916\n",
      "\n",
      "Training model with lr=0.25, dim=25, epoch=15, and wordNgrams=4\n"
     ]
    },
    {
     "name": "stderr",
     "output_type": "stream",
     "text": [
      "Read 4M words\n",
      "Number of words:  188111\n",
      "Number of labels: 4\n",
      "Progress: 100.0% words/sec/thread:  446401 lr:  0.000000 avg.loss:  0.054454 ETA:   0h 0m 0s\n"
     ]
    },
    {
     "name": "stdout",
     "output_type": "stream",
     "text": [
      "N\t7600\n",
      "P@1\t0.917\n",
      "R@1\t0.917\n",
      "\n",
      "Training model with lr=0.25, dim=25, epoch=5, and wordNgrams=5\n"
     ]
    },
    {
     "name": "stderr",
     "output_type": "stream",
     "text": [
      "Read 4M words\n",
      "Number of words:  188111\n",
      "Number of labels: 4\n",
      "Progress: 100.0% words/sec/thread:  314845 lr:  0.000000 avg.loss:  0.164046 ETA:   0h 0m 0s\n"
     ]
    },
    {
     "name": "stdout",
     "output_type": "stream",
     "text": [
      "N\t7600\n",
      "P@1\t0.913\n",
      "R@1\t0.913\n",
      "\n",
      "Training model with lr=0.25, dim=25, epoch=10, and wordNgrams=5\n"
     ]
    },
    {
     "name": "stderr",
     "output_type": "stream",
     "text": [
      "Read 4M words\n",
      "Number of words:  188111\n",
      "Number of labels: 4\n",
      "Progress: 100.0% words/sec/thread:  279368 lr:  0.000000 avg.loss:  0.086274 ETA:   0h 0m 0s\n"
     ]
    },
    {
     "name": "stdout",
     "output_type": "stream",
     "text": [
      "N\t7600\n",
      "P@1\t0.914\n",
      "R@1\t0.914\n",
      "\n",
      "Training model with lr=0.25, dim=25, epoch=15, and wordNgrams=5\n"
     ]
    },
    {
     "name": "stderr",
     "output_type": "stream",
     "text": [
      "Read 4M words\n",
      "Number of words:  188111\n",
      "Number of labels: 4\n",
      "Progress: 100.0% words/sec/thread:  204203 lr:  0.000000 avg.loss:  0.059298 ETA:   0h 0m 0s\n"
     ]
    },
    {
     "name": "stdout",
     "output_type": "stream",
     "text": [
      "N\t7600\n",
      "P@1\t0.914\n",
      "R@1\t0.914\n",
      "\n"
     ]
    }
   ],
   "source": [
    "lr_list = [0.05, 0.1, 0.25]\n",
    "dim_list = [5, 10, 25] # hidden units\n",
    "ngrams_list = [2, 3, 4, 5]\n",
    "epoch_list = [5, 10, 15]\n",
    "\n",
    "best_p, best_r = 0, 0\n",
    "best_l, best_d, best_n, best_e = 0, 0, 0, 0\n",
    "\n",
    "for l in lr_list:\n",
    "    for d in dim_list:\n",
    "        for n in ngrams_list:\n",
    "            for e in epoch_list:\n",
    "                print(f\"Training model with lr={l}, dim={d}, epoch={e}, and wordNgrams={n}\")\n",
    "                model = fasttext.train_supervised(input='train.txt', lr=l, dim=d, epoch=e, wordNgrams=n)\n",
    "                N, p, r = model.test('test.txt')\n",
    "                print_results(N, p, r)\n",
    "                if p > best_p and r > best_r:\n",
    "                    best_p, best_r = p, r\n",
    "                    best_l, best_d, best_n, best_e = l, d, n, e\n",
    "                print()"
   ]
  },
  {
   "cell_type": "code",
   "execution_count": 10,
   "metadata": {
    "colab": {
     "base_uri": "https://localhost:8080/"
    },
    "executionInfo": {
     "elapsed": 182,
     "status": "ok",
     "timestamp": 1712297745153,
     "user": {
      "displayName": "Mengtong Shi",
      "userId": "17422019785472594156"
     },
     "user_tz": 240
    },
    "id": "MKSt6qX1-70H",
    "outputId": "2bdf2ee4-8440-4d45-9b9c-f13da2297232"
   },
   "outputs": [
    {
     "name": "stdout",
     "output_type": "stream",
     "text": [
      "Training the best model with lr=0.1, dim=25, epoch=10, and wordNgrams=2\n"
     ]
    },
    {
     "name": "stderr",
     "output_type": "stream",
     "text": [
      "Read 4M words\n",
      "Number of words:  188111\n",
      "Number of labels: 4\n",
      "Progress: 100.0% words/sec/thread:  411090 lr:  0.000000 avg.loss:  0.119793 ETA:   0h 0m 0s\n"
     ]
    }
   ],
   "source": [
    "print(f\"Training the best model with lr={best_l}, dim={best_d}, epoch={best_e}, and wordNgrams={best_n}\")\n",
    "model = fasttext.train_supervised(input='train.txt', lr=best_l, dim=best_d, epoch=best_e, wordNgrams=best_n, verbose=2)\n",
    "model.save_model('ag_news.bin')"
   ]
  },
  {
   "cell_type": "code",
   "execution_count": 11,
   "metadata": {
    "colab": {
     "base_uri": "https://localhost:8080/"
    },
    "executionInfo": {
     "elapsed": 128,
     "status": "ok",
     "timestamp": 1712297745277,
     "user": {
      "displayName": "Mengtong Shi",
      "userId": "17422019785472594156"
     },
     "user_tz": 240
    },
    "id": "kwdt9WwkCHtU",
    "outputId": "137c329b-7f27-4413-84b1-36656b3652fa"
   },
   "outputs": [
    {
     "name": "stdout",
     "output_type": "stream",
     "text": [
      "Accuracy: 0.9190789473684211\n"
     ]
    }
   ],
   "source": [
    "predictions = []\n",
    "for text in test_texts:\n",
    "    prediction = model.predict(text)\n",
    "    predictions.append(int(prediction[0][0].split('__label__')[1]))\n",
    "accuracy = accuracy_score(test_labels, predictions)\n",
    "print(\"Accuracy:\", accuracy)"
   ]
  }
 ],
 "metadata": {
  "colab": {
   "authorship_tag": "ABX9TyMVG60DvXC81i+vxe2BsbyR",
   "provenance": []
  },
  "kernelspec": {
   "display_name": "Python 3 (ipykernel)",
   "language": "python",
   "name": "python3"
  },
  "language_info": {
   "codemirror_mode": {
    "name": "ipython",
    "version": 3
   },
   "file_extension": ".py",
   "mimetype": "text/x-python",
   "name": "python",
   "nbconvert_exporter": "python",
   "pygments_lexer": "ipython3",
   "version": "3.11.7"
  }
 },
 "nbformat": 4,
 "nbformat_minor": 4
}
