{
 "cells": [
  {
   "cell_type": "code",
   "execution_count": 1,
   "metadata": {
    "id": "N3wkwe22T4hV"
   },
   "outputs": [],
   "source": [
    "import fasttext\n",
    "import pandas as pd\n",
    "from datasets import load_dataset\n",
    "from sklearn.metrics import accuracy_score"
   ]
  },
  {
   "cell_type": "code",
   "execution_count": 2,
   "metadata": {
    "colab": {
     "base_uri": "https://localhost:8080/",
     "height": 571,
     "referenced_widgets": [
      "c46c20a83b6647bb9fe1cbd3ee75f693",
      "7391e8db628b46a098a9fa4bf367af8d",
      "70b94e3bb7eb4788a418e402303ea66b",
      "a562914629344bc8a0675c35561ead29",
      "cb30e687b6bc4b61a9abbe786d6c3e0d",
      "04a617b3381b4144891c54c3b23d393a",
      "fa4d8462351444e09167e838f0d96c4f",
      "b4bea9ace4f24e7689c6c9b8dc4c3b95",
      "c980177dfb0347e1a26dc49b7ef27bd4",
      "ae5ed03dfda6492ba856935876d2a5ee",
      "382c0b7fc0f04d318242fd063170127d",
      "fd2216681231479da6f1b5d3d600c2ab",
      "eea8686a1c8845b5af6a0594c08fc8cf",
      "484cafe6e48444b690412c6d5e89e1c1",
      "711b8c69099a410390f5b204762d05dc",
      "275cd937152540768373fbed8bb2d803",
      "76b0bae3b2034bdda3c2307636a02174",
      "7a845e4fe1eb4427b5c3b161e0b6ab45",
      "ac8deed43d6649139b7a2bfe5ebfc5ee",
      "8b527b02c93548ca90e24dc66472946a",
      "bc8541f090124602a69004b01de3f01c",
      "59d125db39af4ff5a53553bfb5617a70",
      "590a105f928448b0a65e3ab3f55496b8",
      "5d3193f9742c4ce79890bb6e2ab70ecd",
      "9f3612475b4b4e9ea52e53a87a3b2517",
      "2a444cfc124e4693880b9b63046a4743",
      "298e8000d8e94d6db334d86fc0d94317",
      "2b438cece0364b0aaab6d6e85c15bc3e",
      "ca239156d2e04ffc86f00f2877c890c1",
      "df466336992c403fbd7671223524e04b",
      "78db20d85b5649e4a59cb5de8975c6cf",
      "bd23b265c11746e585ee1a6dc1983d28",
      "4cfb8c2e58334590a1381b8daa532715",
      "b8042c1ba431497ba200c436fe9d08c3",
      "81098438a0c247d6abca9d8af75f325d",
      "dc665a86db334f268a2c71cdff63c3e7",
      "d89754a8dcf04768b3fc65a1c7b78302",
      "3f9fb92642d047128788341920e9f401",
      "6affd26385744cd7b0c5e12f70e65e07",
      "b80d2b3ccf964f939e5733cfa07af953",
      "141903261c794ed6b4628e2e581ac5c4",
      "0c2a431694324acfab97bd9b58484a00",
      "b21dd54548e64d6b967e3af98c9a0098",
      "1a0c386fd4ff49a0a9d1745551845c0b",
      "bf2bd31d005b493db640394a00b64567",
      "401b729126e34d44a6b7b6691cd8dff7",
      "8bb1ffe9603c4f92acd81a8e928d52ab",
      "81407708ed514cc99ebdb95d242c6782",
      "03d9ca69814c4af5b1c6b3edb1688801",
      "2f661b79fc934b51aa50722ffd3ea264",
      "cd41726b1b4c49fbbab9e2e7bd0f061a",
      "6080fda01a724949ba27ef3aec3f2c18",
      "01ad44a28f45440d9502e6694299a0b1",
      "838bfe34e6bf4ef8bc747bf9fed06175",
      "dd964f3782474985b6a03d14cd295b0f",
      "64696c3e2e7a43218e3fa27f67c0047d",
      "64be8595fdd840a58774ba96414ce99f",
      "3c09e1659f6a4edca36f6a10d3c855c5",
      "6af65e45185b49768a939a5f50a6f654",
      "1f06abd328254ee391c1ce3403bfb01c",
      "daa5ef22f2cf4d779033ba312ac051e1",
      "fd4a0031a7ab46beb11f1e726be993df",
      "fa86023d4f5d49e58ac584feb422d89e",
      "9c3895f777fb4ec38a722424aa343e6f",
      "fc4b638ce16d4249a8ae1ab43480af2f",
      "ec1d7277df034e14aefd9ae23c6c6407",
      "db2b7003ed174c128f7da1a180314f8d",
      "07c38a5343104df392666f096df9b1b4",
      "234ea4aa5e934140ab978d36ff1b4ac7",
      "24029d275256499a833b3fa72492c425",
      "45d4603c5ed44608803db839159df344",
      "ff8c1785394d4d71ac373bcbbdd294b7",
      "7390a17fd0934470b959ede874cb74ca",
      "062757e4756540d495cb16a1cef52bc2",
      "d0c977896d7e4cf7a00e70f7cb1b9cf7",
      "f53f1b8d89224dbd9700e61a88b5ce23",
      "b8e1d6498c7e456da5bf392380c6fbc7",
      "e8379dc372fb416a9211392eaa114738",
      "5c43d23ba8ec46669b04dd7403413ee3",
      "97fae36081744dd4a057486fa6e7ee21",
      "f0e18b5f090c42d492b6647c32953f5d",
      "36dfc93d23ca4c6b920007f0e9a994e2",
      "077d8f9caa8545f49ef17c75bceeca4e",
      "7a77bfa4cefa4f28937e0034fae050a0",
      "cb470708cf7f49fb85264d128a2774a6",
      "6c660aa324404832a10864696efedc54",
      "9327175d189941d9a0a337e4445a82b8",
      "d78e2d43593b465f871c983bd6a731bf"
     ]
    },
    "id": "k-0t6xeIT9Qc",
    "outputId": "a678e3ce-9563-45a4-a21d-48299e830e9b"
   },
   "outputs": [
    {
     "name": "stderr",
     "output_type": "stream",
     "text": [
      "Using the latest cached version of the dataset since amazon_polarity couldn't be found on the Hugging Face Hub\n",
      "Found the latest cached dataset configuration 'amazon_polarity' at /Users/mengtongshi/.cache/huggingface/datasets/amazon_polarity/amazon_polarity/0.0.0/9d9c45c18f8c3cf1b23a3c27917b60cbf28f3289 (last modified on Sun Apr 21 21:11:11 2024).\n"
     ]
    },
    {
     "name": "stdout",
     "output_type": "stream",
     "text": [
      "DatasetDict({\n",
      "    train: Dataset({\n",
      "        features: ['label', 'title', 'content'],\n",
      "        num_rows: 3600000\n",
      "    })\n",
      "    test: Dataset({\n",
      "        features: ['label', 'title', 'content'],\n",
      "        num_rows: 400000\n",
      "    })\n",
      "})\n"
     ]
    }
   ],
   "source": [
    "amazon_polarity = load_dataset(\"amazon_polarity\")\n",
    "print(amazon_polarity)"
   ]
  },
  {
   "cell_type": "code",
   "execution_count": 3,
   "metadata": {
    "colab": {
     "base_uri": "https://localhost:8080/"
    },
    "id": "axSFkifFT-uT",
    "outputId": "fa0c4ea4-a698-47e1-b05a-0aa601c62456"
   },
   "outputs": [
    {
     "name": "stdout",
     "output_type": "stream",
     "text": [
      "<class 'list'>\n",
      "<class 'str'>\n",
      "Stuning even for the non-gamer\n",
      "<class 'list'>\n",
      "<class 'str'>\n",
      "This sound track was beautiful! It paints the senery in your mind so well I would recomend it even to people who hate vid. game music! I have played the game Chrono Cross but out of all of the games I have ever played it has the best music! It backs away from crude keyboarding and takes a fresher step with grate guitars and soulful orchestras. It would impress anyone who cares to listen! ^_^\n",
      "<class 'list'>\n",
      "<class 'int'>\n",
      "1\n"
     ]
    }
   ],
   "source": [
    "print(type(amazon_polarity['train']['title']))\n",
    "print(type(amazon_polarity['train']['title'][0]))\n",
    "print(amazon_polarity['train']['title'][0])\n",
    "print(type(amazon_polarity['train']['content']))\n",
    "print(type(amazon_polarity['train']['content'][0]))\n",
    "print(amazon_polarity['train']['content'][0])\n",
    "print(type(amazon_polarity['train']['label']))\n",
    "print(type(amazon_polarity['train']['label'][0]))\n",
    "print(amazon_polarity['train']['label'][0])"
   ]
  },
  {
   "cell_type": "code",
   "execution_count": 4,
   "metadata": {},
   "outputs": [
    {
     "name": "stdout",
     "output_type": "stream",
     "text": [
      "<class 'list'>\n",
      "<class 'str'>\n",
      "Great CD\n",
      "<class 'list'>\n",
      "<class 'str'>\n",
      "My lovely Pat has one of the GREAT voices of her generation. I have listened to this CD for YEARS and I still LOVE IT. When I'm in a good mood it makes me feel better. A bad mood just evaporates like sugar in the rain. This CD just oozes LIFE. Vocals are jusat STUUNNING and lyrics just kill. One of life's hidden gems. This is a desert isle CD in my book. Why she never made it big is just beyond me. Everytime I play this, no matter black, white, young, old, male, female EVERYBODY says one thing \"Who was that singing ?\"\n",
      "<class 'list'>\n",
      "<class 'int'>\n",
      "1\n"
     ]
    }
   ],
   "source": [
    "print(type(amazon_polarity['test']['title']))\n",
    "print(type(amazon_polarity['test']['title'][0]))\n",
    "print(amazon_polarity['test']['title'][0])\n",
    "print(type(amazon_polarity['test']['content']))\n",
    "print(type(amazon_polarity['test']['content'][0]))\n",
    "print(amazon_polarity['test']['content'][0])\n",
    "print(type(amazon_polarity['test']['label']))\n",
    "print(type(amazon_polarity['test']['label'][0]))\n",
    "print(amazon_polarity['test']['label'][0])"
   ]
  },
  {
   "cell_type": "code",
   "execution_count": 5,
   "metadata": {
    "id": "J_ZoG424UBch"
   },
   "outputs": [],
   "source": [
    "def print_results(N, p, r):\n",
    "    print(\"N\\t\" + str(N))\n",
    "    print(\"P@{}\\t{:.3f}\".format(1, p))\n",
    "    print(\"R@{}\\t{:.3f}\".format(1, r))"
   ]
  },
  {
   "cell_type": "code",
   "execution_count": 6,
   "metadata": {
    "id": "tn1VSt3mUCMu"
   },
   "outputs": [],
   "source": [
    "dataset = amazon_polarity"
   ]
  },
  {
   "cell_type": "code",
   "execution_count": 7,
   "metadata": {
    "id": "xlW4ww1eUImn"
   },
   "outputs": [],
   "source": [
    "titles = dataset['train']['title']\n",
    "contents = dataset['train']['content']\n",
    "train_texts = [str(x) + str(y) for x, y in zip(titles, contents)]\n",
    "train_labels = dataset['train']['label']\n",
    "\n",
    "with open(\"train.txt\", \"w\") as f:\n",
    "    for text, label in zip(train_texts, train_labels):\n",
    "        f.write(f\"__label__{label} {text}\\n\")"
   ]
  },
  {
   "cell_type": "code",
   "execution_count": 8,
   "metadata": {
    "id": "272ncYNuUMBG"
   },
   "outputs": [],
   "source": [
    "titles = dataset['test']['title']\n",
    "contents = dataset['test']['content']\n",
    "test_texts = [str(x) + str(y) for x, y in zip(titles, contents)]\n",
    "test_labels = dataset['test']['label']\n",
    "\n",
    "with open(\"test.txt\", \"w\") as f:\n",
    "    for text, label in zip(test_texts, test_labels):\n",
    "        f.write(f\"__label__{label} {text}\\n\")"
   ]
  },
  {
   "cell_type": "code",
   "execution_count": 9,
   "metadata": {
    "id": "IB7SJzCsUPMU"
   },
   "outputs": [
    {
     "name": "stdout",
     "output_type": "stream",
     "text": [
      "Training model with lr=0.05, dim=5, epoch=5, and wordNgrams=2\n"
     ]
    },
    {
     "name": "stderr",
     "output_type": "stream",
     "text": [
      "Read 286M words\n",
      "Number of words:  6228957\n",
      "Number of labels: 2\n",
      "Progress: 100.0% words/sec/thread: 1948592 lr:  0.000000 avg.loss:  0.161352 ETA:   0h 0m 0s 95.7% words/sec/thread: 1954784 lr:  0.002168 avg.loss:  0.164566 ETA:   0h 0m 4s\n"
     ]
    },
    {
     "name": "stdout",
     "output_type": "stream",
     "text": [
      "N\t400000\n",
      "P@1\t0.933\n",
      "R@1\t0.933\n",
      "\n",
      "Training model with lr=0.05, dim=5, epoch=10, and wordNgrams=2\n"
     ]
    },
    {
     "name": "stderr",
     "output_type": "stream",
     "text": [
      "Read 286M words\n",
      "Number of words:  6228957\n",
      "Number of labels: 2\n",
      "Progress: 100.0% words/sec/thread: 1772841 lr:  0.000000 avg.loss:  0.114082 ETA:   0h 0m 0s 49.7% words/sec/thread: 1783102 lr:  0.025147 avg.loss:  0.164727 ETA:   0h 1m55s\n"
     ]
    },
    {
     "name": "stdout",
     "output_type": "stream",
     "text": [
      "N\t400000\n",
      "P@1\t0.929\n",
      "R@1\t0.929\n",
      "\n",
      "Training model with lr=0.05, dim=5, epoch=15, and wordNgrams=2\n"
     ]
    },
    {
     "name": "stderr",
     "output_type": "stream",
     "text": [
      "Read 286M words\n",
      "Number of words:  6228957\n",
      "Number of labels: 2\n",
      "Progress: 100.0% words/sec/thread: 1925245 lr:  0.000000 avg.loss:  0.084806 ETA:   0h 0m 0s\n",
      "Read 1M words"
     ]
    },
    {
     "name": "stdout",
     "output_type": "stream",
     "text": [
      "N\t400000\n",
      "P@1\t0.925\n",
      "R@1\t0.925\n",
      "\n",
      "Training model with lr=0.05, dim=5, epoch=5, and wordNgrams=3\n"
     ]
    },
    {
     "name": "stderr",
     "output_type": "stream",
     "text": [
      "Read 286M words\n",
      "Number of words:  6228957\n",
      "Number of labels: 2\n",
      "Progress: 100.0% words/sec/thread: 1559269 lr:  0.000000 avg.loss:  0.130160 ETA:   0h 0m 0s\n"
     ]
    },
    {
     "name": "stdout",
     "output_type": "stream",
     "text": [
      "N\t400000\n",
      "P@1\t0.932\n",
      "R@1\t0.932\n",
      "\n",
      "Training model with lr=0.05, dim=5, epoch=10, and wordNgrams=3\n"
     ]
    },
    {
     "name": "stderr",
     "output_type": "stream",
     "text": [
      "Read 286M words\n",
      "Number of words:  6228957\n",
      "Number of labels: 2\n",
      "Progress: 100.0% words/sec/thread: 1473604 lr:  0.000000 avg.loss:  0.074949 ETA:   0h 0m 0s0.007336 avg.loss:  0.084975 ETA:   0h 0m38s% words/sec/thread: 1493358 lr:  0.002014 avg.loss:  0.077530 ETA:   0h 0m11s\n"
     ]
    },
    {
     "name": "stdout",
     "output_type": "stream",
     "text": [
      "N\t400000\n",
      "P@1\t0.926\n",
      "R@1\t0.926\n",
      "\n",
      "Training model with lr=0.05, dim=5, epoch=15, and wordNgrams=3\n"
     ]
    },
    {
     "name": "stderr",
     "output_type": "stream",
     "text": [
      "Read 286M words\n",
      "Number of words:  6228957\n",
      "Number of labels: 2\n",
      "Progress: 100.0% words/sec/thread: 1655775 lr:  0.000000 avg.loss:  0.051400 ETA:   0h 0m 0s 91.5% words/sec/thread: 1693271 lr:  0.004230 avg.loss:  0.055711 ETA:   0h 0m30s\n"
     ]
    },
    {
     "name": "stdout",
     "output_type": "stream",
     "text": [
      "N\t400000\n",
      "P@1\t0.925\n",
      "R@1\t0.925\n",
      "\n",
      "Training model with lr=0.05, dim=5, epoch=5, and wordNgrams=4\n"
     ]
    },
    {
     "name": "stderr",
     "output_type": "stream",
     "text": [
      "Read 286M wordsM words\n",
      "Number of words:  6228957\n",
      "Number of labels: 2\n",
      "Progress: 100.0% words/sec/thread: 1550793 lr:  0.000000 avg.loss:  0.115151 ETA:   0h 0m 0s\n"
     ]
    },
    {
     "name": "stdout",
     "output_type": "stream",
     "text": [
      "N\t400000\n",
      "P@1\t0.928\n",
      "R@1\t0.928\n",
      "\n",
      "Training model with lr=0.05, dim=5, epoch=10, and wordNgrams=4\n"
     ]
    },
    {
     "name": "stderr",
     "output_type": "stream",
     "text": [
      "Read 286M words\n",
      "Number of words:  6228957\n",
      "Number of labels: 2\n",
      "Progress: 100.0% words/sec/thread: 1460675 lr:  0.000000 avg.loss:  0.066530 ETA:   0h 0m 0s% words/sec/thread: 1206714 lr:  0.028484 avg.loss:  0.127829 ETA:   0h 3m12s\n"
     ]
    },
    {
     "name": "stdout",
     "output_type": "stream",
     "text": [
      "N\t400000\n",
      "P@1\t0.923\n",
      "R@1\t0.923\n",
      "\n",
      "Training model with lr=0.05, dim=5, epoch=15, and wordNgrams=4\n"
     ]
    },
    {
     "name": "stderr",
     "output_type": "stream",
     "text": [
      "Read 286M words\n",
      "Number of words:  6228957\n",
      "Number of labels: 2\n",
      "Progress: 100.0% words/sec/thread: 1245636 lr:  0.000000 avg.loss:  0.044495 ETA:   0h 0m 0s\n"
     ]
    },
    {
     "name": "stdout",
     "output_type": "stream",
     "text": [
      "N\t400000\n",
      "P@1\t0.921\n",
      "R@1\t0.921\n",
      "\n",
      "Training model with lr=0.05, dim=5, epoch=5, and wordNgrams=5\n"
     ]
    },
    {
     "name": "stderr",
     "output_type": "stream",
     "text": [
      "Read 286M words\n",
      "Number of words:  6228957\n",
      "Number of labels: 2\n",
      "Progress: 100.0% words/sec/thread: 1077467 lr:  0.000000 avg.loss:  0.119679 ETA:   0h 0m 0s 29.4% words/sec/thread:  975491 lr:  0.035294 avg.loss:  0.227017 ETA:   0h 2m27ss\n"
     ]
    },
    {
     "name": "stdout",
     "output_type": "stream",
     "text": [
      "N\t400000\n",
      "P@1\t0.925\n",
      "R@1\t0.925\n",
      "\n",
      "Training model with lr=0.05, dim=5, epoch=10, and wordNgrams=5\n"
     ]
    },
    {
     "name": "stderr",
     "output_type": "stream",
     "text": [
      "Read 286M words\n",
      "Number of words:  6228957\n",
      "Number of labels: 2\n",
      "Progress: 100.0% words/sec/thread: 1190229 lr:  0.000000 avg.loss:  0.061459 ETA:   0h 0m 0ss\n"
     ]
    },
    {
     "name": "stdout",
     "output_type": "stream",
     "text": [
      "N\t400000\n",
      "P@1\t0.920\n",
      "R@1\t0.920\n",
      "\n",
      "Training model with lr=0.05, dim=5, epoch=15, and wordNgrams=5\n"
     ]
    },
    {
     "name": "stderr",
     "output_type": "stream",
     "text": [
      "Read 286M words\n",
      "Number of words:  6228957\n",
      "Number of labels: 2\n",
      "Progress: 100.0% words/sec/thread: 1258437 lr:  0.000000 avg.loss:  0.043115 ETA:   0h 0m 0s avg.loss:  0.075528 ETA:   0h 4m 8s\n"
     ]
    },
    {
     "name": "stdout",
     "output_type": "stream",
     "text": [
      "N\t400000\n",
      "P@1\t0.919\n",
      "R@1\t0.919\n",
      "\n",
      "Training model with lr=0.05, dim=10, epoch=5, and wordNgrams=2\n"
     ]
    },
    {
     "name": "stderr",
     "output_type": "stream",
     "text": [
      "Read 286M words\n",
      "Number of words:  6228957\n",
      "Number of labels: 2\n",
      "Progress: 100.0% words/sec/thread: 1390268 lr:  0.000000 avg.loss:  0.155359 ETA:   0h 0m 0s\n"
     ]
    },
    {
     "name": "stdout",
     "output_type": "stream",
     "text": [
      "N\t400000\n",
      "P@1\t0.934\n",
      "R@1\t0.934\n",
      "\n",
      "Training model with lr=0.05, dim=10, epoch=10, and wordNgrams=2\n"
     ]
    },
    {
     "name": "stderr",
     "output_type": "stream",
     "text": [
      "Read 286M words\n",
      "Number of words:  6228957\n",
      "Number of labels: 2\n",
      "Progress: 100.0% words/sec/thread: 1995337 lr:  0.000000 avg.loss:  0.110829 ETA:   0h 0m 0s\n"
     ]
    },
    {
     "name": "stdout",
     "output_type": "stream",
     "text": [
      "N\t400000\n",
      "P@1\t0.929\n",
      "R@1\t0.929\n",
      "\n",
      "Training model with lr=0.05, dim=10, epoch=15, and wordNgrams=2\n"
     ]
    },
    {
     "name": "stderr",
     "output_type": "stream",
     "text": [
      "Read 286M words\n",
      "Number of words:  6228957\n",
      "Number of labels: 2\n",
      "Progress: 100.0% words/sec/thread: 1962505 lr:  0.000000 avg.loss:  0.084240 ETA:   0h 0m 0s\n"
     ]
    },
    {
     "name": "stdout",
     "output_type": "stream",
     "text": [
      "N\t400000\n",
      "P@1\t0.926\n",
      "R@1\t0.926\n",
      "\n",
      "Training model with lr=0.05, dim=10, epoch=5, and wordNgrams=3\n"
     ]
    },
    {
     "name": "stderr",
     "output_type": "stream",
     "text": [
      "Read 286M words\n",
      "Number of words:  6228957\n",
      "Number of labels: 2\n",
      "Progress: 100.0% words/sec/thread: 1104047 lr:  0.000000 avg.loss:  0.124181 ETA:   0h 0m 0s\n"
     ]
    },
    {
     "name": "stdout",
     "output_type": "stream",
     "text": [
      "N\t400000\n",
      "P@1\t0.932\n",
      "R@1\t0.932\n",
      "\n",
      "Training model with lr=0.05, dim=10, epoch=10, and wordNgrams=3\n"
     ]
    },
    {
     "name": "stderr",
     "output_type": "stream",
     "text": [
      "Read 286M words\n",
      "Number of words:  6228957\n",
      "Number of labels: 2\n",
      "Progress: 100.0% words/sec/thread: 1147651 lr:  0.000000 avg.loss:  0.075517 ETA:   0h 0m 0s\n"
     ]
    },
    {
     "name": "stdout",
     "output_type": "stream",
     "text": [
      "N\t400000\n",
      "P@1\t0.926\n",
      "R@1\t0.926\n",
      "\n",
      "Training model with lr=0.05, dim=10, epoch=15, and wordNgrams=3\n"
     ]
    },
    {
     "name": "stderr",
     "output_type": "stream",
     "text": [
      "Read 286M words\n",
      "Number of words:  6228957\n",
      "Number of labels: 2\n",
      "Progress: 100.0% words/sec/thread: 1045218 lr:  0.000000 avg.loss:  0.052392 ETA:   0h 0m 0s 966655 lr:  0.017691 avg.loss:  0.078838 ETA:   0h 3m44s\n"
     ]
    },
    {
     "name": "stdout",
     "output_type": "stream",
     "text": [
      "N\t400000\n",
      "P@1\t0.925\n",
      "R@1\t0.925\n",
      "\n",
      "Training model with lr=0.05, dim=10, epoch=5, and wordNgrams=4\n"
     ]
    },
    {
     "name": "stderr",
     "output_type": "stream",
     "text": [
      "Read 286M words\n",
      "Number of words:  6228957\n",
      "Number of labels: 2\n",
      "Progress: 100.0% words/sec/thread:  803604 lr:  0.000000 avg.loss:  0.121755 ETA:   0h 0m 0s\n"
     ]
    },
    {
     "name": "stdout",
     "output_type": "stream",
     "text": [
      "N\t400000\n",
      "P@1\t0.928\n",
      "R@1\t0.928\n",
      "\n",
      "Training model with lr=0.05, dim=10, epoch=10, and wordNgrams=4\n"
     ]
    },
    {
     "name": "stderr",
     "output_type": "stream",
     "text": [
      "Read 286M words\n",
      "Number of words:  6228957\n",
      "Number of labels: 2\n",
      "Progress: 100.0% words/sec/thread:  950000 lr:  0.000000 avg.loss:  0.066372 ETA:   0h 0m 0s17s\n"
     ]
    },
    {
     "name": "stdout",
     "output_type": "stream",
     "text": [
      "N\t400000\n",
      "P@1\t0.923\n",
      "R@1\t0.923\n",
      "\n",
      "Training model with lr=0.05, dim=10, epoch=15, and wordNgrams=4\n"
     ]
    },
    {
     "name": "stderr",
     "output_type": "stream",
     "text": [
      "Read 286M words\n",
      "Number of words:  6228957\n",
      "Number of labels: 2\n",
      "Progress: 100.0% words/sec/thread:  976376 lr:  0.000000 avg.loss:  0.043904 ETA:   0h 0m 0s 32.4% words/sec/thread:  990279 lr:  0.033796 avg.loss:  0.113796 ETA:   0h 6m58s 71.4% words/sec/thread:  844121 lr:  0.014314 avg.loss:  0.059356 ETA:   0h 3m27s\n"
     ]
    },
    {
     "name": "stdout",
     "output_type": "stream",
     "text": [
      "N\t400000\n",
      "P@1\t0.921\n",
      "R@1\t0.921\n",
      "\n",
      "Training model with lr=0.05, dim=10, epoch=5, and wordNgrams=5\n"
     ]
    },
    {
     "name": "stderr",
     "output_type": "stream",
     "text": [
      "Read 286M words\n",
      "Number of words:  6228957\n",
      "Number of labels: 2\n",
      "Progress: 100.0% words/sec/thread:  676654 lr:  0.000000 avg.loss:  0.119270 ETA:   0h 0m 0s\n"
     ]
    },
    {
     "name": "stdout",
     "output_type": "stream",
     "text": [
      "N\t400000\n",
      "P@1\t0.925\n",
      "R@1\t0.925\n",
      "\n",
      "Training model with lr=0.05, dim=10, epoch=10, and wordNgrams=5\n"
     ]
    },
    {
     "name": "stderr",
     "output_type": "stream",
     "text": [
      "Read 286M words\n",
      "Number of words:  6228957\n",
      "Number of labels: 2\n",
      "Progress: 100.0% words/sec/thread:  767184 lr:  0.000000 avg.loss:  0.062568 ETA:   0h 0m 0s 728598 lr:  0.018646 avg.loss:  0.086911 ETA:   0h 3m29s\n"
     ]
    },
    {
     "name": "stdout",
     "output_type": "stream",
     "text": [
      "N\t400000\n",
      "P@1\t0.920\n",
      "R@1\t0.920\n",
      "\n",
      "Training model with lr=0.05, dim=10, epoch=15, and wordNgrams=5\n"
     ]
    },
    {
     "name": "stderr",
     "output_type": "stream",
     "text": [
      "Read 286M words\n",
      "Number of words:  6228957\n",
      "Number of labels: 2\n",
      "Progress: 100.0% words/sec/thread:  872785 lr:  0.000000 avg.loss:  0.043021 ETA:   0h 0m 0s 31.1% words/sec/thread: 1032611 lr:  0.034464 avg.loss:  0.120969 ETA:   0h 6m49s\n"
     ]
    },
    {
     "name": "stdout",
     "output_type": "stream",
     "text": [
      "N\t400000\n",
      "P@1\t0.919\n",
      "R@1\t0.919\n",
      "\n",
      "Training model with lr=0.05, dim=25, epoch=5, and wordNgrams=2\n"
     ]
    },
    {
     "name": "stderr",
     "output_type": "stream",
     "text": [
      "Read 286M words\n",
      "Number of words:  6228957\n",
      "Number of labels: 2\n",
      "Progress: 100.0% words/sec/thread: 1341566 lr:  0.000000 avg.loss:  0.160486 ETA:   0h 0m 0s\n"
     ]
    },
    {
     "name": "stdout",
     "output_type": "stream",
     "text": [
      "N\t400000\n",
      "P@1\t0.934\n",
      "R@1\t0.934\n",
      "\n",
      "Training model with lr=0.05, dim=25, epoch=10, and wordNgrams=2\n"
     ]
    },
    {
     "name": "stderr",
     "output_type": "stream",
     "text": [
      "Read 286M words\n",
      "Number of words:  6228957\n",
      "Number of labels: 2\n",
      "Progress: 100.0% words/sec/thread: 1420329 lr:  0.000000 avg.loss:  0.109268 ETA:   0h 0m 0s\n"
     ]
    },
    {
     "name": "stdout",
     "output_type": "stream",
     "text": [
      "N\t400000\n",
      "P@1\t0.929\n",
      "R@1\t0.929\n",
      "\n",
      "Training model with lr=0.05, dim=25, epoch=15, and wordNgrams=2\n"
     ]
    },
    {
     "name": "stderr",
     "output_type": "stream",
     "text": [
      "Read 286M words\n",
      "Number of words:  6228957\n",
      "Number of labels: 2\n",
      "Progress: 100.0% words/sec/thread: 1259700 lr:  0.000000 avg.loss:  0.083108 ETA:   0h 0m 0s\n"
     ]
    },
    {
     "name": "stdout",
     "output_type": "stream",
     "text": [
      "N\t400000\n",
      "P@1\t0.925\n",
      "R@1\t0.925\n",
      "\n",
      "Training model with lr=0.05, dim=25, epoch=5, and wordNgrams=3\n"
     ]
    },
    {
     "name": "stderr",
     "output_type": "stream",
     "text": [
      "Read 286M words\n",
      "Number of words:  6228957\n",
      "Number of labels: 2\n",
      "Progress: 100.0% words/sec/thread: 1258625 lr:  0.000000 avg.loss:  0.103313 ETA:   0h 0m 0s 37.1% words/sec/thread: 1606926 lr:  0.031466 avg.loss:  0.197213 ETA:   0h 1m20s100.0% words/sec/thread: 1258626 lr: -0.000000 avg.loss:  0.103313 ETA:   0h 0m 0s\n"
     ]
    },
    {
     "name": "stdout",
     "output_type": "stream",
     "text": [
      "N\t400000\n",
      "P@1\t0.930\n",
      "R@1\t0.930\n",
      "\n",
      "Training model with lr=0.05, dim=25, epoch=10, and wordNgrams=3\n"
     ]
    },
    {
     "name": "stderr",
     "output_type": "stream",
     "text": [
      "Read 286M words\n",
      "Number of words:  6228957\n",
      "Number of labels: 2\n",
      "Progress: 100.0% words/sec/thread: 1188658 lr:  0.000000 avg.loss:  0.075019 ETA:   0h 0m 0s\n"
     ]
    },
    {
     "name": "stdout",
     "output_type": "stream",
     "text": [
      "N\t400000\n",
      "P@1\t0.926\n",
      "R@1\t0.926\n",
      "\n",
      "Training model with lr=0.05, dim=25, epoch=15, and wordNgrams=3\n"
     ]
    },
    {
     "name": "stderr",
     "output_type": "stream",
     "text": [
      "Read 286M words\n",
      "Number of words:  6228957\n",
      "Number of labels: 2\n",
      "Progress: 100.0% words/sec/thread: 1185875 lr:  0.000000 avg.loss:  0.051354 ETA:   0h 0m 0s\n"
     ]
    },
    {
     "name": "stdout",
     "output_type": "stream",
     "text": [
      "N\t400000\n",
      "P@1\t0.925\n",
      "R@1\t0.925\n",
      "\n",
      "Training model with lr=0.05, dim=25, epoch=5, and wordNgrams=4\n"
     ]
    },
    {
     "name": "stderr",
     "output_type": "stream",
     "text": [
      "Read 286M words\n",
      "Number of words:  6228957\n",
      "Number of labels: 2\n",
      "Progress: 100.0% words/sec/thread:  921341 lr:  0.000000 avg.loss:  0.120663 ETA:   0h 0m 0s\n"
     ]
    },
    {
     "name": "stdout",
     "output_type": "stream",
     "text": [
      "N\t400000\n",
      "P@1\t0.928\n",
      "R@1\t0.928\n",
      "\n",
      "Training model with lr=0.05, dim=25, epoch=10, and wordNgrams=4\n"
     ]
    },
    {
     "name": "stderr",
     "output_type": "stream",
     "text": [
      "Read 286M words\n",
      "Number of words:  6228957\n",
      "Number of labels: 2\n",
      "Progress: 100.0% words/sec/thread:  847151 lr: -0.000000 avg.loss:  0.065085 ETA:   0h 0m 0s100.0% words/sec/thread:  847100 lr:  0.000000 avg.loss:  0.065085 ETA:   0h 0m 0s\n"
     ]
    },
    {
     "name": "stdout",
     "output_type": "stream",
     "text": [
      "N\t400000\n",
      "P@1\t0.923\n",
      "R@1\t0.923\n",
      "\n",
      "Training model with lr=0.05, dim=25, epoch=15, and wordNgrams=4\n"
     ]
    },
    {
     "name": "stderr",
     "output_type": "stream",
     "text": [
      "Read 286M words\n",
      "Number of words:  6228957\n",
      "Number of labels: 2\n",
      "Progress: 100.0% words/sec/thread:  947867 lr:  0.000000 avg.loss:  0.044874 ETA:   0h 0m 0s  6.8% words/sec/thread:  742920 lr:  0.046596 avg.loss:  0.251195 ETA:   0h12m49s\n"
     ]
    },
    {
     "name": "stdout",
     "output_type": "stream",
     "text": [
      "N\t400000\n",
      "P@1\t0.922\n",
      "R@1\t0.922\n",
      "\n",
      "Training model with lr=0.05, dim=25, epoch=5, and wordNgrams=5\n"
     ]
    },
    {
     "name": "stderr",
     "output_type": "stream",
     "text": [
      "Read 286M words\n",
      "Number of words:  6228957\n",
      "Number of labels: 2\n",
      "Progress: 100.0% words/sec/thread:  594919 lr:  0.000000 avg.loss:  0.113972 ETA:   0h 0m 0s  6.7% words/sec/thread:  468480 lr:  0.046657 avg.loss:  0.345808 ETA:   0h 6m47s9.5% words/sec/thread:  473545 lr:  0.045239 avg.loss:  0.312491 ETA:   0h 6m30s0.008471 avg.loss:  0.128595 ETA:   0h 0m56s\n"
     ]
    },
    {
     "name": "stdout",
     "output_type": "stream",
     "text": [
      "N\t400000\n",
      "P@1\t0.925\n",
      "R@1\t0.925\n",
      "\n",
      "Training model with lr=0.05, dim=25, epoch=10, and wordNgrams=5\n"
     ]
    },
    {
     "name": "stderr",
     "output_type": "stream",
     "text": [
      "Read 286M wordsM words\n",
      "Number of words:  6228957\n",
      "Number of labels: 2\n",
      "Progress: 100.0% words/sec/thread: 1009446 lr:  0.000000 avg.loss:  0.065694 ETA:   0h 0m 0s100.0% words/sec/thread: 1009446 lr: -0.000000 avg.loss:  0.065694 ETA:   0h 0m 0s\n"
     ]
    },
    {
     "name": "stdout",
     "output_type": "stream",
     "text": [
      "N\t400000\n",
      "P@1\t0.920\n",
      "R@1\t0.920\n",
      "\n",
      "Training model with lr=0.05, dim=25, epoch=15, and wordNgrams=5\n"
     ]
    },
    {
     "name": "stderr",
     "output_type": "stream",
     "text": [
      "Read 286M words\n",
      "Number of words:  6228957\n",
      "Number of labels: 2\n",
      "Progress: 100.0% words/sec/thread:  837841 lr:  0.000000 avg.loss:  0.043370 ETA:   0h 0m 0s 72.2% words/sec/thread:  771854 lr:  0.013904 avg.loss:  0.056746 ETA:   0h 3m40s 74.3% words/sec/thread:  778684 lr:  0.012837 avg.loss:  0.055976 ETA:   0h 3m22s\n"
     ]
    },
    {
     "name": "stdout",
     "output_type": "stream",
     "text": [
      "N\t400000\n",
      "P@1\t0.918\n",
      "R@1\t0.918\n",
      "\n",
      "Training model with lr=0.1, dim=5, epoch=5, and wordNgrams=2\n"
     ]
    },
    {
     "name": "stderr",
     "output_type": "stream",
     "text": [
      "Read 286M words\n",
      "Number of words:  6228957\n",
      "Number of labels: 2\n",
      "Progress: 100.0% words/sec/thread: 2431512 lr:  0.000000 avg.loss:  0.141350 ETA:   0h 0m 0s\n"
     ]
    },
    {
     "name": "stdout",
     "output_type": "stream",
     "text": [
      "N\t400000\n",
      "P@1\t0.932\n",
      "R@1\t0.932\n",
      "\n",
      "Training model with lr=0.1, dim=5, epoch=10, and wordNgrams=2\n"
     ]
    },
    {
     "name": "stderr",
     "output_type": "stream",
     "text": [
      "Read 286M words\n",
      "Number of words:  6228957\n",
      "Number of labels: 2\n",
      "Progress: 100.0% words/sec/thread: 1726711 lr:  0.000000 avg.loss:  0.106405 ETA:   0h 0m 0s100.0% words/sec/thread: 1726712 lr: -0.000000 avg.loss:  0.106405 ETA:   0h 0m 0s\n"
     ]
    },
    {
     "name": "stdout",
     "output_type": "stream",
     "text": [
      "N\t400000\n",
      "P@1\t0.927\n",
      "R@1\t0.927\n",
      "\n",
      "Training model with lr=0.1, dim=5, epoch=15, and wordNgrams=2\n"
     ]
    },
    {
     "name": "stderr",
     "output_type": "stream",
     "text": [
      "Read 286M words\n",
      "Number of words:  6228957\n",
      "Number of labels: 2\n",
      "Progress: 100.0% words/sec/thread: 1722837 lr: -0.000000 avg.loss:  0.080879 ETA:   0h 0m 0s100.0% words/sec/thread: 1722422 lr:  0.000000 avg.loss:  0.080879 ETA:   0h 0m 0s\n"
     ]
    },
    {
     "name": "stdout",
     "output_type": "stream",
     "text": [
      "N\t400000\n",
      "P@1\t0.923\n",
      "R@1\t0.923\n",
      "\n",
      "Training model with lr=0.1, dim=5, epoch=5, and wordNgrams=3\n"
     ]
    },
    {
     "name": "stderr",
     "output_type": "stream",
     "text": [
      "Read 286M words\n",
      "Number of words:  6228957\n",
      "Number of labels: 2\n",
      "Progress: 100.0% words/sec/thread: 1232139 lr:  0.000000 avg.loss:  0.118517 ETA:   0h 0m 0s100.0% words/sec/thread: 1232141 lr: -0.000000 avg.loss:  0.118517 ETA:   0h 0m 0s\n"
     ]
    },
    {
     "name": "stdout",
     "output_type": "stream",
     "text": [
      "N\t400000\n",
      "P@1\t0.929\n",
      "R@1\t0.929\n",
      "\n",
      "Training model with lr=0.1, dim=5, epoch=10, and wordNgrams=3\n"
     ]
    },
    {
     "name": "stderr",
     "output_type": "stream",
     "text": [
      "Read 286M words\n",
      "Number of words:  6228957\n",
      "Number of labels: 2\n",
      "Progress:  99.9% words/sec/thread: 1104707 lr:  0.000050 avg.loss:  0.068995 ETA:   0h 0m 0s"
     ]
    },
    {
     "name": "stdout",
     "output_type": "stream",
     "text": [
      "N\t400000\n",
      "P@1\t0.924\n",
      "R@1\t0.924\n",
      "\n",
      "Training model with lr=0.1, dim=5, epoch=15, and wordNgrams=3\n"
     ]
    },
    {
     "name": "stderr",
     "output_type": "stream",
     "text": [
      "Progress: 100.0% words/sec/thread: 1104931 lr:  0.000000 avg.loss:  0.068990 ETA:   0h 0m 0s\n",
      "Read 286M words\n",
      "Number of words:  6228957\n",
      "Number of labels: 2\n",
      "Progress: 100.0% words/sec/thread: 1128472 lr:  0.000000 avg.loss:  0.049049 ETA:   0h 0m 0s\n"
     ]
    },
    {
     "name": "stdout",
     "output_type": "stream",
     "text": [
      "N\t400000\n",
      "P@1\t0.923\n",
      "R@1\t0.923\n",
      "\n",
      "Training model with lr=0.1, dim=5, epoch=5, and wordNgrams=4\n"
     ]
    },
    {
     "name": "stderr",
     "output_type": "stream",
     "text": [
      "Read 286M words\n",
      "Number of words:  6228957\n",
      "Number of labels: 2\n",
      "Progress: 100.0% words/sec/thread: 1200351 lr:  0.000000 avg.loss:  0.101342 ETA:   0h 0m 0s 86.5% words/sec/thread: 1237084 lr:  0.013451 avg.loss:  0.112564 ETA:   0h 0m22s\n"
     ]
    },
    {
     "name": "stdout",
     "output_type": "stream",
     "text": [
      "N\t400000\n",
      "P@1\t0.924\n",
      "R@1\t0.924\n",
      "\n",
      "Training model with lr=0.1, dim=5, epoch=10, and wordNgrams=4\n"
     ]
    },
    {
     "name": "stderr",
     "output_type": "stream",
     "text": [
      "Read 286M words\n",
      "Number of words:  6228957\n",
      "Number of labels: 2\n",
      "Progress: 100.0% words/sec/thread: 1113315 lr:  0.000000 avg.loss:  0.052191 ETA:   0h 0m 0s\n"
     ]
    },
    {
     "name": "stdout",
     "output_type": "stream",
     "text": [
      "N\t400000\n",
      "P@1\t0.920\n",
      "R@1\t0.920\n",
      "\n",
      "Training model with lr=0.1, dim=5, epoch=15, and wordNgrams=4\n"
     ]
    },
    {
     "name": "stderr",
     "output_type": "stream",
     "text": [
      "Read 286M words\n",
      "Number of words:  6228957\n",
      "Number of labels: 2\n",
      "Progress: 100.0% words/sec/thread: 1074166 lr:  0.000000 avg.loss:  0.039090 ETA:   0h 0m 0s\n"
     ]
    },
    {
     "name": "stdout",
     "output_type": "stream",
     "text": [
      "N\t400000\n",
      "P@1\t0.919\n",
      "R@1\t0.919\n",
      "\n",
      "Training model with lr=0.1, dim=5, epoch=5, and wordNgrams=5\n"
     ]
    },
    {
     "name": "stderr",
     "output_type": "stream",
     "text": [
      "Read 286M words\n",
      "Number of words:  6228957\n",
      "Number of labels: 2\n",
      "Progress: 100.0% words/sec/thread: 1053572 lr:  0.000000 avg.loss:  0.103563 ETA:   0h 0m 0s\n",
      "Read 2M words"
     ]
    },
    {
     "name": "stdout",
     "output_type": "stream",
     "text": [
      "N\t400000\n",
      "P@1\t0.921\n",
      "R@1\t0.921\n",
      "\n",
      "Training model with lr=0.1, dim=5, epoch=10, and wordNgrams=5\n"
     ]
    },
    {
     "name": "stderr",
     "output_type": "stream",
     "text": [
      "Read 286M words\n",
      "Number of words:  6228957\n",
      "Number of labels: 2\n",
      "Progress: 100.0% words/sec/thread: 1029605 lr:  0.000000 avg.loss:  0.053026 ETA:   0h 0m 0s"
     ]
    },
    {
     "name": "stdout",
     "output_type": "stream",
     "text": [
      "N\t400000\n",
      "P@1\t0.918\n",
      "R@1\t0.918\n",
      "\n",
      "Training model with lr=0.1, dim=5, epoch=15, and wordNgrams=5\n"
     ]
    },
    {
     "name": "stderr",
     "output_type": "stream",
     "text": [
      "0.000000 avg.loss:  0.053026 ETA:   0h 0m 0s\n",
      "Read 286M words\n",
      "Number of words:  6228957\n",
      "Number of labels: 2\n",
      "Progress: 100.0% words/sec/thread:  982296 lr:  0.000000 avg.loss:  0.037160 ETA:   0h 0m 0s\n"
     ]
    },
    {
     "name": "stdout",
     "output_type": "stream",
     "text": [
      "N\t400000\n",
      "P@1\t0.916\n",
      "R@1\t0.916\n",
      "\n",
      "Training model with lr=0.1, dim=10, epoch=5, and wordNgrams=2\n"
     ]
    },
    {
     "name": "stderr",
     "output_type": "stream",
     "text": [
      "Read 286M words\n",
      "Number of words:  6228957\n",
      "Number of labels: 2\n",
      "Progress: 100.0% words/sec/thread: 1261264 lr:  0.000000 avg.loss:  0.144286 ETA:   0h 0m 0s 0s\n"
     ]
    },
    {
     "name": "stdout",
     "output_type": "stream",
     "text": [
      "N\t400000\n",
      "P@1\t0.932\n",
      "R@1\t0.932\n",
      "\n",
      "Training model with lr=0.1, dim=10, epoch=10, and wordNgrams=2\n"
     ]
    },
    {
     "name": "stderr",
     "output_type": "stream",
     "text": [
      "Read 286M words\n",
      "Number of words:  6228957\n",
      "Number of labels: 2\n",
      "Progress: 100.0% words/sec/thread: 1275785 lr:  0.000000 avg.loss:  0.106954 ETA:   0h 0m 0s\n"
     ]
    },
    {
     "name": "stdout",
     "output_type": "stream",
     "text": [
      "N\t400000\n",
      "P@1\t0.927\n",
      "R@1\t0.927\n",
      "\n",
      "Training model with lr=0.1, dim=10, epoch=15, and wordNgrams=2\n"
     ]
    },
    {
     "name": "stderr",
     "output_type": "stream",
     "text": [
      "Read 286M words\n",
      "Number of words:  6228957\n",
      "Number of labels: 2\n",
      "Progress: 100.0% words/sec/thread: 1281129 lr:  0.000000 avg.loss:  0.081041 ETA:   0h 0m 0s0.086674 ETA:   0h 0m36s100.0% words/sec/thread: 1281130 lr: -0.000000 avg.loss:  0.081041 ETA:   0h 0m 0s\n"
     ]
    },
    {
     "name": "stdout",
     "output_type": "stream",
     "text": [
      "N\t400000\n",
      "P@1\t0.924\n",
      "R@1\t0.924\n",
      "\n",
      "Training model with lr=0.1, dim=10, epoch=5, and wordNgrams=3\n"
     ]
    },
    {
     "name": "stderr",
     "output_type": "stream",
     "text": [
      "Read 286M words\n",
      "Number of words:  6228957\n",
      "Number of labels: 2\n",
      "Progress: 100.0% words/sec/thread:  963341 lr:  0.000000 avg.loss:  0.118487 ETA:   0h 0m 0s\n"
     ]
    },
    {
     "name": "stdout",
     "output_type": "stream",
     "text": [
      "N\t400000\n",
      "P@1\t0.929\n",
      "R@1\t0.929\n",
      "\n",
      "Training model with lr=0.1, dim=10, epoch=10, and wordNgrams=3\n"
     ]
    },
    {
     "name": "stderr",
     "output_type": "stream",
     "text": [
      "Read 286M words\n",
      "Number of words:  6228957\n",
      "Number of labels: 2\n",
      "Progress: 100.0% words/sec/thread: 1064111 lr:  0.000000 avg.loss:  0.068120 ETA:   0h 0m 0s\n"
     ]
    },
    {
     "name": "stdout",
     "output_type": "stream",
     "text": [
      "N\t400000\n",
      "P@1\t0.924\n",
      "R@1\t0.924\n",
      "\n",
      "Training model with lr=0.1, dim=10, epoch=15, and wordNgrams=3\n"
     ]
    },
    {
     "name": "stderr",
     "output_type": "stream",
     "text": [
      "Read 286M wordsM words\n",
      "Number of words:  6228957\n",
      "Number of labels: 2\n",
      "Progress: 100.0% words/sec/thread:  847566 lr:  0.000000 avg.loss:  0.046787 ETA:   0h 0m 0s 40.3% words/sec/thread:  943734 lr:  0.059672 avg.loss:  0.102483 ETA:   0h 6m27s 874651 lr:  0.038022 avg.loss:  0.071737 ETA:   0h 4m26s\n"
     ]
    },
    {
     "name": "stdout",
     "output_type": "stream",
     "text": [
      "N\t400000\n",
      "P@1\t0.923\n",
      "R@1\t0.923\n",
      "\n",
      "Training model with lr=0.1, dim=10, epoch=5, and wordNgrams=4\n"
     ]
    },
    {
     "name": "stderr",
     "output_type": "stream",
     "text": [
      "Read 286M words\n",
      "Number of words:  6228957\n",
      "Number of labels: 2\n",
      "Progress: 100.0% words/sec/thread: 1325234 lr:  0.000000 avg.loss:  0.106694 ETA:   0h 0m 0s\n"
     ]
    },
    {
     "name": "stdout",
     "output_type": "stream",
     "text": [
      "N\t400000\n",
      "P@1\t0.924\n",
      "R@1\t0.924\n",
      "\n",
      "Training model with lr=0.1, dim=10, epoch=10, and wordNgrams=4\n"
     ]
    },
    {
     "name": "stderr",
     "output_type": "stream",
     "text": [
      "Read 286M words\n",
      "Number of words:  6228957\n",
      "Number of labels: 2\n",
      "Progress: 100.0% words/sec/thread:  891535 lr:  0.000000 avg.loss:  0.058469 ETA:   0h 0m 0s\n"
     ]
    },
    {
     "name": "stdout",
     "output_type": "stream",
     "text": [
      "N\t400000\n",
      "P@1\t0.921\n",
      "R@1\t0.921\n",
      "\n",
      "Training model with lr=0.1, dim=10, epoch=15, and wordNgrams=4\n"
     ]
    },
    {
     "name": "stderr",
     "output_type": "stream",
     "text": [
      "Read 286M words\n",
      "Number of words:  6228957\n",
      "Number of labels: 2\n",
      "Progress: 100.0% words/sec/thread:  850023 lr:  0.000000 avg.loss:  0.038873 ETA:   0h 0m 0s1122115 lr:  0.049838 avg.loss:  0.073089 ETA:   0h 4m32s% words/sec/thread:  891441 lr:  0.010925 avg.loss:  0.043221 ETA:   0h 1m15s\n"
     ]
    },
    {
     "name": "stdout",
     "output_type": "stream",
     "text": [
      "N\t400000\n",
      "P@1\t0.919\n",
      "R@1\t0.919\n",
      "\n",
      "Training model with lr=0.1, dim=10, epoch=5, and wordNgrams=5\n"
     ]
    },
    {
     "name": "stderr",
     "output_type": "stream",
     "text": [
      "Read 286M words\n",
      "Number of words:  6228957\n",
      "Number of labels: 2\n",
      "Progress: 100.0% words/sec/thread: 1050251 lr:  0.000000 avg.loss:  0.079546 ETA:   0h 0m 0s\n"
     ]
    },
    {
     "name": "stdout",
     "output_type": "stream",
     "text": [
      "N\t400000\n",
      "P@1\t0.920\n",
      "R@1\t0.920\n",
      "\n",
      "Training model with lr=0.1, dim=10, epoch=10, and wordNgrams=5\n"
     ]
    },
    {
     "name": "stderr",
     "output_type": "stream",
     "text": [
      "Read 286M words\n",
      "Number of words:  6228957\n",
      "Number of labels: 2\n",
      "Progress: 100.0% words/sec/thread:  605495 lr:  0.000000 avg.loss:  0.053406 ETA:   0h 0m 0s ETA:   0h 6m50s 0.045824 avg.loss:  0.095011 ETA:   0h 5m32s 564731 lr:  0.012730 avg.loss:  0.060823 ETA:   0h 1m32s\n"
     ]
    },
    {
     "name": "stdout",
     "output_type": "stream",
     "text": [
      "N\t400000\n",
      "P@1\t0.918\n",
      "R@1\t0.918\n",
      "\n",
      "Training model with lr=0.1, dim=10, epoch=15, and wordNgrams=5\n"
     ]
    },
    {
     "name": "stderr",
     "output_type": "stream",
     "text": [
      "Read 286M words\n",
      "Number of words:  6228957\n",
      "Number of labels: 2\n",
      "Progress: 100.0% words/sec/thread:  814527 lr:  0.000000 avg.loss:  0.036599 ETA:   0h 0m 0s ETA:   0h10m50s 56.0% words/sec/thread:  648098 lr:  0.043999 avg.loss:  0.063897 ETA:   0h 6m56s\n"
     ]
    },
    {
     "name": "stdout",
     "output_type": "stream",
     "text": [
      "N\t400000\n",
      "P@1\t0.916\n",
      "R@1\t0.916\n",
      "\n",
      "Training model with lr=0.1, dim=25, epoch=5, and wordNgrams=2\n"
     ]
    },
    {
     "name": "stderr",
     "output_type": "stream",
     "text": [
      "Read 286M words\n",
      "Number of words:  6228957\n",
      "Number of labels: 2\n",
      "Progress: 100.0% words/sec/thread: 1587085 lr:  0.000000 avg.loss:  0.150138 ETA:   0h 0m 0s\n"
     ]
    },
    {
     "name": "stdout",
     "output_type": "stream",
     "text": [
      "N\t400000\n",
      "P@1\t0.932\n",
      "R@1\t0.932\n",
      "\n",
      "Training model with lr=0.1, dim=25, epoch=10, and wordNgrams=2\n"
     ]
    },
    {
     "name": "stderr",
     "output_type": "stream",
     "text": [
      "Read 286M words\n",
      "Number of words:  6228957\n",
      "Number of labels: 2\n",
      "Progress: 100.0% words/sec/thread: 1184712 lr:  0.000000 avg.loss:  0.108858 ETA:   0h 0m 0s11s\n"
     ]
    },
    {
     "name": "stdout",
     "output_type": "stream",
     "text": [
      "N\t400000\n",
      "P@1\t0.927\n",
      "R@1\t0.927\n",
      "\n",
      "Training model with lr=0.1, dim=25, epoch=15, and wordNgrams=2\n"
     ]
    },
    {
     "name": "stderr",
     "output_type": "stream",
     "text": [
      "Read 286M words\n",
      "Number of words:  6228957\n",
      "Number of labels: 2\n",
      "Progress: 100.0% words/sec/thread:  777586 lr:  0.000000 avg.loss:  0.081231 ETA:   0h 0m 0s 12.1% words/sec/thread:  729870 lr:  0.087875 avg.loss:  0.215710 ETA:   0h12m18s 33.4% words/sec/thread:  779539 lr:  0.066640 avg.loss:  0.164572 ETA:   0h 8m44s\n"
     ]
    },
    {
     "name": "stdout",
     "output_type": "stream",
     "text": [
      "N\t400000\n",
      "P@1\t0.923\n",
      "R@1\t0.923\n",
      "\n",
      "Training model with lr=0.1, dim=25, epoch=5, and wordNgrams=3\n"
     ]
    },
    {
     "name": "stderr",
     "output_type": "stream",
     "text": [
      "Read 286M words\n",
      "Number of words:  6228957\n",
      "Number of labels: 2\n",
      "Progress: 100.0% words/sec/thread:  565065 lr:  0.000000 avg.loss:  0.118508 ETA:   0h 0m 0s\n"
     ]
    },
    {
     "name": "stdout",
     "output_type": "stream",
     "text": [
      "N\t400000\n",
      "P@1\t0.929\n",
      "R@1\t0.929\n",
      "\n",
      "Training model with lr=0.1, dim=25, epoch=10, and wordNgrams=3\n"
     ]
    },
    {
     "name": "stderr",
     "output_type": "stream",
     "text": [
      "Read 286M words\n",
      "Number of words:  6228957\n",
      "Number of labels: 2\n",
      "Progress: 100.0% words/sec/thread:  524669 lr:  0.000000 avg.loss:  0.068986 ETA:   0h 0m 0sh 8m51s 0.144626 ETA:   0h 7m 1s 48.6% words/sec/thread:  555289 lr:  0.051406 avg.loss:  0.127806 ETA:   0h 6m18s 0.051224 avg.loss:  0.127543 ETA:   0h 6m17s lr:  0.048261 avg.loss:  0.122363 ETA:   0h 5m58s 55.6% words/sec/thread:  548341 lr:  0.044415 avg.loss:  0.115871 ETA:   0h 5m31s513939 lr:  0.014185 avg.loss:  0.079581 ETA:   0h 1m52s\n"
     ]
    },
    {
     "name": "stdout",
     "output_type": "stream",
     "text": [
      "N\t400000\n",
      "P@1\t0.924\n",
      "R@1\t0.924\n",
      "\n",
      "Training model with lr=0.1, dim=25, epoch=15, and wordNgrams=3\n"
     ]
    },
    {
     "name": "stderr",
     "output_type": "stream",
     "text": [
      "Read 286M words\n",
      "Number of words:  6228957\n",
      "Number of labels: 2\n",
      "Progress: 100.0% words/sec/thread:  704047 lr:  0.000000 avg.loss:  0.048656 ETA:   0h 0m 0s\n"
     ]
    },
    {
     "name": "stdout",
     "output_type": "stream",
     "text": [
      "N\t400000\n",
      "P@1\t0.923\n",
      "R@1\t0.923\n",
      "\n",
      "Training model with lr=0.1, dim=25, epoch=5, and wordNgrams=4\n"
     ]
    },
    {
     "name": "stderr",
     "output_type": "stream",
     "text": [
      "Read 286M words\n",
      "Number of words:  6228957\n",
      "Number of labels: 2\n",
      "Progress: 100.0% words/sec/thread:  740924 lr:  0.000000 avg.loss:  0.101719 ETA:   0h 0m 0s\n"
     ]
    },
    {
     "name": "stdout",
     "output_type": "stream",
     "text": [
      "N\t400000\n",
      "P@1\t0.924\n",
      "R@1\t0.924\n",
      "\n",
      "Training model with lr=0.1, dim=25, epoch=10, and wordNgrams=4\n"
     ]
    },
    {
     "name": "stderr",
     "output_type": "stream",
     "text": [
      "Read 286M words\n",
      "Number of words:  6228957\n",
      "Number of labels: 2\n",
      "Progress: 100.0% words/sec/thread:  575700 lr:  0.000000 avg.loss:  0.057379 ETA:   0h 0m 0s 55.6% words/sec/thread:  830648 lr:  0.044352 avg.loss:  0.097921 ETA:   0h 3m38s% words/sec/thread:  680453 lr:  0.024565 avg.loss:  0.074498 ETA:   0h 2m27s\n"
     ]
    },
    {
     "name": "stdout",
     "output_type": "stream",
     "text": [
      "N\t400000\n",
      "P@1\t0.920\n",
      "R@1\t0.920\n",
      "\n",
      "Training model with lr=0.1, dim=25, epoch=15, and wordNgrams=4\n"
     ]
    },
    {
     "name": "stderr",
     "output_type": "stream",
     "text": [
      "Read 286M words\n",
      "Number of words:  6228957\n",
      "Number of labels: 2\n",
      "Progress: 100.0% words/sec/thread:  649506 lr:  0.000000 avg.loss:  0.038324 ETA:   0h 0m 0s words/sec/thread:  978220 lr:  0.055321 avg.loss:  0.079785 ETA:   0h 5m46s58.0% words/sec/thread:  793022 lr:  0.041973 avg.loss:  0.063569 ETA:   0h 5m24s lr:  0.038213 avg.loss:  0.060107 ETA:   0h 5m11s84.4% words/sec/thread:  684357 lr:  0.015624 avg.loss:  0.044767 ETA:   0h 2m19s\n"
     ]
    },
    {
     "name": "stdout",
     "output_type": "stream",
     "text": [
      "N\t400000\n",
      "P@1\t0.919\n",
      "R@1\t0.919\n",
      "\n",
      "Training model with lr=0.1, dim=25, epoch=5, and wordNgrams=5\n"
     ]
    },
    {
     "name": "stderr",
     "output_type": "stream",
     "text": [
      "Read 286M words\n",
      "Number of words:  6228957\n",
      "Number of labels: 2\n",
      "Progress: 100.0% words/sec/thread:  719114 lr:  0.000000 avg.loss:  0.081739 ETA:   0h 0m 0s\n"
     ]
    },
    {
     "name": "stdout",
     "output_type": "stream",
     "text": [
      "N\t400000\n",
      "P@1\t0.920\n",
      "R@1\t0.920\n",
      "\n",
      "Training model with lr=0.1, dim=25, epoch=10, and wordNgrams=5\n"
     ]
    },
    {
     "name": "stderr",
     "output_type": "stream",
     "text": [
      "Read 286M words\n",
      "Number of words:  6228957\n",
      "Number of labels: 2\n",
      "Progress: 100.0% words/sec/thread:  644648 lr: -0.000000 avg.loss:  0.053846 ETA:   0h 0m 0s 32.4% words/sec/thread:  784490 lr:  0.067580 avg.loss:  0.139926 ETA:   0h 5m52s words/sec/thread:  651090 lr:  0.050438 avg.loss:  0.101454 ETA:   0h 5m16s ETA:   0h 0m30s100.0% words/sec/thread:  644648 lr:  0.000000 avg.loss:  0.053846 ETA:   0h 0m 0s\n"
     ]
    },
    {
     "name": "stdout",
     "output_type": "stream",
     "text": [
      "N\t400000\n",
      "P@1\t0.917\n",
      "R@1\t0.917\n",
      "\n",
      "Training model with lr=0.1, dim=25, epoch=15, and wordNgrams=5\n"
     ]
    },
    {
     "name": "stderr",
     "output_type": "stream",
     "text": [
      "Read 286M words\n",
      "Number of words:  6228957\n",
      "Number of labels: 2\n",
      "Progress: 100.0% words/sec/thread:  726987 lr:  0.000000 avg.loss:  0.037407 ETA:   0h 0m 0s  6.9% words/sec/thread:  637078 lr:  0.093116 avg.loss:  0.243208 ETA:   0h14m56s0.071515 avg.loss:  0.119100 ETA:   0h 9m11s avg.loss:  0.078763 ETA:   0h 6m49s 80.2% words/sec/thread:  738706 lr:  0.019795 avg.loss:  0.046289 ETA:   0h 2m44s100.0% words/sec/thread:  726987 lr: -0.000000 avg.loss:  0.037407 ETA:   0h 0m 0s\n"
     ]
    },
    {
     "name": "stdout",
     "output_type": "stream",
     "text": [
      "N\t400000\n",
      "P@1\t0.917\n",
      "R@1\t0.917\n",
      "\n",
      "Training model with lr=0.25, dim=5, epoch=5, and wordNgrams=2\n"
     ]
    },
    {
     "name": "stderr",
     "output_type": "stream",
     "text": [
      "Read 286M words\n",
      "Number of words:  6228957\n",
      "Number of labels: 2\n",
      "Progress: 100.0% words/sec/thread: 1341689 lr:  0.000000 avg.loss:  0.151166 ETA:   0h 0m 0s 20.5% words/sec/thread: 1012132 lr:  0.198674 avg.loss:  0.231127 ETA:   0h 2m40s\n"
     ]
    },
    {
     "name": "stdout",
     "output_type": "stream",
     "text": [
      "N\t400000\n",
      "P@1\t0.931\n",
      "R@1\t0.931\n",
      "\n",
      "Training model with lr=0.25, dim=5, epoch=10, and wordNgrams=2\n"
     ]
    },
    {
     "name": "stderr",
     "output_type": "stream",
     "text": [
      "Read 286M words\n",
      "Number of words:  6228957\n",
      "Number of labels: 2\n",
      "Progress: 100.0% words/sec/thread: 1067532 lr:  0.000000 avg.loss:  0.103780 ETA:   0h 0m 0s avg.loss:  0.217169 ETA:   0h 5m37s 17.0% words/sec/thread:  991341 lr:  0.207578 avg.loss:  0.207217 ETA:   0h 5m42s 34.7% words/sec/thread:  838622 lr:  0.163363 avg.loss:  0.169917 ETA:   0h 5m18s\n"
     ]
    },
    {
     "name": "stdout",
     "output_type": "stream",
     "text": [
      "N\t400000\n",
      "P@1\t0.925\n",
      "R@1\t0.925\n",
      "\n",
      "Training model with lr=0.25, dim=5, epoch=15, and wordNgrams=2\n"
     ]
    },
    {
     "name": "stderr",
     "output_type": "stream",
     "text": [
      "Read 286M words\n",
      "Number of words:  6228957\n",
      "Number of labels: 2\n",
      "Progress: 100.0% words/sec/thread: 1584291 lr:  0.000000 avg.loss:  0.079556 ETA:   0h 0m 0s 0.122002 ETA:   0h 3m54s 74.9% words/sec/thread: 1445960 lr:  0.062834 avg.loss:  0.097567 ETA:   0h 1m46s\n"
     ]
    },
    {
     "name": "stdout",
     "output_type": "stream",
     "text": [
      "N\t400000\n",
      "P@1\t0.922\n",
      "R@1\t0.922\n",
      "\n",
      "Training model with lr=0.25, dim=5, epoch=5, and wordNgrams=3\n"
     ]
    },
    {
     "name": "stderr",
     "output_type": "stream",
     "text": [
      "Read 286M words\n",
      "Number of words:  6228957\n",
      "Number of labels: 2\n",
      "Progress: 100.0% words/sec/thread:  983398 lr:  0.000000 avg.loss:  0.104441 ETA:   0h 0m 0s\n"
     ]
    },
    {
     "name": "stdout",
     "output_type": "stream",
     "text": [
      "N\t400000\n",
      "P@1\t0.927\n",
      "R@1\t0.927\n",
      "\n",
      "Training model with lr=0.25, dim=5, epoch=10, and wordNgrams=3\n"
     ]
    },
    {
     "name": "stderr",
     "output_type": "stream",
     "text": [
      "Read 286M words\n",
      "Number of words:  6228957\n",
      "Number of labels: 2\n",
      "Progress: 100.0% words/sec/thread: 1248960 lr:  0.000000 avg.loss:  0.061299 ETA:   0h 0m 0s\n"
     ]
    },
    {
     "name": "stdout",
     "output_type": "stream",
     "text": [
      "N\t400000\n",
      "P@1\t0.923\n",
      "R@1\t0.923\n",
      "\n",
      "Training model with lr=0.25, dim=5, epoch=15, and wordNgrams=3\n"
     ]
    },
    {
     "name": "stderr",
     "output_type": "stream",
     "text": [
      "Read 286M words\n",
      "Number of words:  6228957\n",
      "Number of labels: 2\n",
      "Progress: 100.0% words/sec/thread: 1238089 lr:  0.000000 avg.loss:  0.044736 ETA:   0h 0m 0s% words/sec/thread:  755639 lr:  0.211634 avg.loss:  0.153760 ETA:   0h11m26s words/sec/thread: 1091600 lr:  0.074780 avg.loss:  0.059527 ETA:   0h 2m48s\n"
     ]
    },
    {
     "name": "stdout",
     "output_type": "stream",
     "text": [
      "N\t400000\n",
      "P@1\t0.922\n",
      "R@1\t0.922\n",
      "\n",
      "Training model with lr=0.25, dim=5, epoch=5, and wordNgrams=4\n"
     ]
    },
    {
     "name": "stderr",
     "output_type": "stream",
     "text": [
      "Read 286M words\n",
      "Number of words:  6228957\n",
      "Number of labels: 2\n",
      "Progress: 100.0% words/sec/thread:  900874 lr:  0.000000 avg.loss:  0.093694 ETA:   0h 0m 0s% words/sec/thread:  903374 lr:  0.082351 avg.loss:  0.127806 ETA:   0h 1m14s\n"
     ]
    },
    {
     "name": "stdout",
     "output_type": "stream",
     "text": [
      "N\t400000\n",
      "P@1\t0.921\n",
      "R@1\t0.921\n",
      "\n",
      "Training model with lr=0.25, dim=5, epoch=10, and wordNgrams=4\n"
     ]
    },
    {
     "name": "stderr",
     "output_type": "stream",
     "text": [
      "Read 286M words\n",
      "Number of words:  6228957\n",
      "Number of labels: 2\n",
      "Progress: 100.0% words/sec/thread: 1332998 lr:  0.000000 avg.loss:  0.056385 ETA:   0h 0m 0s% words/sec/thread: 1571839 lr:  0.184412 avg.loss:  0.160633 ETA:   0h 3m11s\n"
     ]
    },
    {
     "name": "stdout",
     "output_type": "stream",
     "text": [
      "N\t400000\n",
      "P@1\t0.918\n",
      "R@1\t0.918\n",
      "\n",
      "Training model with lr=0.25, dim=5, epoch=15, and wordNgrams=4\n"
     ]
    },
    {
     "name": "stderr",
     "output_type": "stream",
     "text": [
      "Read 286M words\n",
      "Number of words:  6228957\n",
      "Number of labels: 2\n",
      "Progress: 100.0% words/sec/thread: 1256989 lr:  0.000000 avg.loss:  0.039384 ETA:   0h 0m 0s  9.0% words/sec/thread: 1133660 lr:  0.227456 avg.loss:  0.212235 ETA:   0h 8m12s 53.0% words/sec/thread: 1138929 lr:  0.117469 avg.loss:  0.080832 ETA:   0h 4m12s\n"
     ]
    },
    {
     "name": "stdout",
     "output_type": "stream",
     "text": [
      "N\t400000\n",
      "P@1\t0.917\n",
      "R@1\t0.917\n",
      "\n",
      "Training model with lr=0.25, dim=5, epoch=5, and wordNgrams=5\n"
     ]
    },
    {
     "name": "stderr",
     "output_type": "stream",
     "text": [
      "Read 286M words\n",
      "Number of words:  6228957\n",
      "Number of labels: 2\n",
      "Progress: 100.0% words/sec/thread: 1069686 lr:  0.000000 avg.loss:  0.085057 ETA:   0h 0m 0s60.7% words/sec/thread: 1195205 lr:  0.098310 avg.loss:  0.112507 ETA:   0h 1m 7s100.0% words/sec/thread: 1069687 lr: -0.000000 avg.loss:  0.085057 ETA:   0h 0m 0s\n"
     ]
    },
    {
     "name": "stdout",
     "output_type": "stream",
     "text": [
      "N\t400000\n",
      "P@1\t0.918\n",
      "R@1\t0.918\n",
      "\n",
      "Training model with lr=0.25, dim=5, epoch=10, and wordNgrams=5\n"
     ]
    },
    {
     "name": "stderr",
     "output_type": "stream",
     "text": [
      "Read 286M words\n",
      "Number of words:  6228957\n",
      "Number of labels: 2\n",
      "Progress: 100.0% words/sec/thread: 1366772 lr:  0.000000 avg.loss:  0.050850 ETA:   0h 0m 0s\n"
     ]
    },
    {
     "name": "stdout",
     "output_type": "stream",
     "text": [
      "N\t400000\n",
      "P@1\t0.915\n",
      "R@1\t0.915\n",
      "\n",
      "Training model with lr=0.25, dim=5, epoch=15, and wordNgrams=5\n"
     ]
    },
    {
     "name": "stderr",
     "output_type": "stream",
     "text": [
      "Read 286M words\n",
      "Number of words:  6228957\n",
      "Number of labels: 2\n",
      "Progress: 100.0% words/sec/thread: 1098952 lr:  0.000000 avg.loss:  0.035077 ETA:   0h 0m 0s\n"
     ]
    },
    {
     "name": "stdout",
     "output_type": "stream",
     "text": [
      "N\t400000\n",
      "P@1\t0.914\n",
      "R@1\t0.914\n",
      "\n",
      "Training model with lr=0.25, dim=10, epoch=5, and wordNgrams=2\n"
     ]
    },
    {
     "name": "stderr",
     "output_type": "stream",
     "text": [
      "Read 286M words\n",
      "Number of words:  6228957\n",
      "Number of labels: 2\n",
      "Progress: 100.0% words/sec/thread: 1409749 lr:  0.000000 avg.loss:  0.146228 ETA:   0h 0m 0s\n"
     ]
    },
    {
     "name": "stdout",
     "output_type": "stream",
     "text": [
      "N\t400000\n",
      "P@1\t0.931\n",
      "R@1\t0.931\n",
      "\n",
      "Training model with lr=0.25, dim=10, epoch=10, and wordNgrams=2\n"
     ]
    },
    {
     "name": "stderr",
     "output_type": "stream",
     "text": [
      "Read 286M words\n",
      "Number of words:  6228957\n",
      "Number of labels: 2\n",
      "Progress: 100.0% words/sec/thread: 1103285 lr:  0.000000 avg.loss:  0.108182 ETA:   0h 0m 0s\n"
     ]
    },
    {
     "name": "stdout",
     "output_type": "stream",
     "text": [
      "N\t400000\n",
      "P@1\t0.925\n",
      "R@1\t0.925\n",
      "\n",
      "Training model with lr=0.25, dim=10, epoch=15, and wordNgrams=2\n"
     ]
    },
    {
     "name": "stderr",
     "output_type": "stream",
     "text": [
      "Read 286M words\n",
      "Number of words:  6228957\n",
      "Number of labels: 2\n",
      "Progress: 100.0% words/sec/thread: 1466446 lr:  0.000000 avg.loss:  0.079107 ETA:   0h 0m 0s\n"
     ]
    },
    {
     "name": "stdout",
     "output_type": "stream",
     "text": [
      "N\t400000\n",
      "P@1\t0.922\n",
      "R@1\t0.922\n",
      "\n",
      "Training model with lr=0.25, dim=10, epoch=5, and wordNgrams=3\n"
     ]
    },
    {
     "name": "stderr",
     "output_type": "stream",
     "text": [
      "Read 286M words194M words\n",
      "Number of words:  6228957\n",
      "Number of labels: 2\n",
      "Progress: 100.0% words/sec/thread: 1058310 lr:  0.000000 avg.loss:  0.102988 ETA:   0h 0m 0s\n"
     ]
    },
    {
     "name": "stdout",
     "output_type": "stream",
     "text": [
      "N\t400000\n",
      "P@1\t0.926\n",
      "R@1\t0.926\n",
      "\n",
      "Training model with lr=0.25, dim=10, epoch=10, and wordNgrams=3\n"
     ]
    },
    {
     "name": "stderr",
     "output_type": "stream",
     "text": [
      "Read 286M words\n",
      "Number of words:  6228957\n",
      "Number of labels: 2\n",
      "Progress: 100.0% words/sec/thread: 1149472 lr:  0.000000 avg.loss:  0.067636 ETA:   0h 0m 0s 24.8% words/sec/thread: 1186453 lr:  0.187913 avg.loss:  0.177441 ETA:   0h 4m18s\n"
     ]
    },
    {
     "name": "stdout",
     "output_type": "stream",
     "text": [
      "N\t400000\n",
      "P@1\t0.923\n",
      "R@1\t0.923\n",
      "\n",
      "Training model with lr=0.25, dim=10, epoch=15, and wordNgrams=3\n"
     ]
    },
    {
     "name": "stderr",
     "output_type": "stream",
     "text": [
      "Read 286M words\n",
      "Number of words:  6228957\n",
      "Number of labels: 2\n",
      "Progress: 100.0% words/sec/thread: 1199447 lr:  0.000000 avg.loss:  0.045248 ETA:   0h 0m 0s0h 1m15s\n"
     ]
    },
    {
     "name": "stdout",
     "output_type": "stream",
     "text": [
      "N\t400000\n",
      "P@1\t0.922\n",
      "R@1\t0.922\n",
      "\n",
      "Training model with lr=0.25, dim=10, epoch=5, and wordNgrams=4\n"
     ]
    },
    {
     "name": "stderr",
     "output_type": "stream",
     "text": [
      "Read 286M words\n",
      "Number of words:  6228957\n",
      "Number of labels: 2\n",
      "Progress: 100.0% words/sec/thread: 1111852 lr:  0.000000 avg.loss:  0.088778 ETA:   0h 0m 0s\n"
     ]
    },
    {
     "name": "stdout",
     "output_type": "stream",
     "text": [
      "N\t400000\n",
      "P@1\t0.922\n",
      "R@1\t0.922\n",
      "\n",
      "Training model with lr=0.25, dim=10, epoch=10, and wordNgrams=4\n"
     ]
    },
    {
     "name": "stderr",
     "output_type": "stream",
     "text": [
      "Read 286M words\n",
      "Number of words:  6228957\n",
      "Number of labels: 2\n",
      "Progress: 100.0% words/sec/thread:  916142 lr:  0.000000 avg.loss:  0.055906 ETA:   0h 0m 0s\n"
     ]
    },
    {
     "name": "stdout",
     "output_type": "stream",
     "text": [
      "N\t400000\n",
      "P@1\t0.918\n",
      "R@1\t0.918\n",
      "\n",
      "Training model with lr=0.25, dim=10, epoch=15, and wordNgrams=4\n"
     ]
    },
    {
     "name": "stderr",
     "output_type": "stream",
     "text": [
      "Read 286M words\n",
      "Number of words:  6228957\n",
      "Number of labels: 2\n",
      "Progress: 100.0% words/sec/thread: 1063934 lr:  0.000000 avg.loss:  0.037840 ETA:   0h 0m 0s\n"
     ]
    },
    {
     "name": "stdout",
     "output_type": "stream",
     "text": [
      "N\t400000\n",
      "P@1\t0.917\n",
      "R@1\t0.917\n",
      "\n",
      "Training model with lr=0.25, dim=10, epoch=5, and wordNgrams=5\n"
     ]
    },
    {
     "name": "stderr",
     "output_type": "stream",
     "text": [
      "Read 286M words\n",
      "Number of words:  6228957\n",
      "Number of labels: 2\n",
      "Progress: 100.0% words/sec/thread:  881491 lr:  0.000000 avg.loss:  0.089345 ETA:   0h 0m 0s\n"
     ]
    },
    {
     "name": "stdout",
     "output_type": "stream",
     "text": [
      "N\t400000\n",
      "P@1\t0.918\n",
      "R@1\t0.918\n",
      "\n",
      "Training model with lr=0.25, dim=10, epoch=10, and wordNgrams=5\n"
     ]
    },
    {
     "name": "stderr",
     "output_type": "stream",
     "text": [
      "Read 286M words\n",
      "Number of words:  6228957\n",
      "Number of labels: 2\n",
      "Progress: 100.0% words/sec/thread: 1110244 lr:  0.000000 avg.loss:  0.048261 ETA:   0h 0m 0s 66.4% words/sec/thread: 1017451 lr:  0.083972 avg.loss:  0.073588 ETA:   0h 2m14s\n"
     ]
    },
    {
     "name": "stdout",
     "output_type": "stream",
     "text": [
      "N\t400000\n",
      "P@1\t0.915\n",
      "R@1\t0.915\n",
      "\n",
      "Training model with lr=0.25, dim=10, epoch=15, and wordNgrams=5\n"
     ]
    },
    {
     "name": "stderr",
     "output_type": "stream",
     "text": [
      "Read 286M words140M wordsM words\n",
      "Number of words:  6228957\n",
      "Number of labels: 2\n",
      "Progress: 100.0% words/sec/thread: 1311689 lr:  0.000000 avg.loss:  0.035011 ETA:   0h 0m 0s100.0% words/sec/thread: 1311690 lr: -0.000000 avg.loss:  0.035011 ETA:   0h 0m 0s\n",
      "Read 1M words"
     ]
    },
    {
     "name": "stdout",
     "output_type": "stream",
     "text": [
      "N\t400000\n",
      "P@1\t0.913\n",
      "R@1\t0.913\n",
      "\n",
      "Training model with lr=0.25, dim=25, epoch=5, and wordNgrams=2\n"
     ]
    },
    {
     "name": "stderr",
     "output_type": "stream",
     "text": [
      "Read 286M words\n",
      "Number of words:  6228957\n",
      "Number of labels: 2\n",
      "Progress: 100.0% words/sec/thread: 1374253 lr:  0.000000 avg.loss:  0.137521 ETA:   0h 0m 0s\n"
     ]
    },
    {
     "name": "stdout",
     "output_type": "stream",
     "text": [
      "N\t400000\n",
      "P@1\t0.931\n",
      "R@1\t0.931\n",
      "\n",
      "Training model with lr=0.25, dim=25, epoch=10, and wordNgrams=2\n"
     ]
    },
    {
     "name": "stderr",
     "output_type": "stream",
     "text": [
      "Read 286M wordsM words\n",
      "Number of words:  6228957\n",
      "Number of labels: 2\n",
      "Progress: 100.0% words/sec/thread: 1690642 lr:  0.000000 avg.loss:  0.103939 ETA:   0h 0m 0s\n"
     ]
    },
    {
     "name": "stdout",
     "output_type": "stream",
     "text": [
      "N\t400000\n",
      "P@1\t0.925\n",
      "R@1\t0.925\n",
      "\n",
      "Training model with lr=0.25, dim=25, epoch=15, and wordNgrams=2\n"
     ]
    },
    {
     "name": "stderr",
     "output_type": "stream",
     "text": [
      "Read 286M words\n",
      "Number of words:  6228957\n",
      "Number of labels: 2\n",
      "Progress: 100.0% words/sec/thread: 1547128 lr:  0.000000 avg.loss:  0.078605 ETA:   0h 0m 0s 30.3% words/sec/thread: 1620676 lr:  0.174346 avg.loss:  0.147525 ETA:   0h 4m23s\n"
     ]
    },
    {
     "name": "stdout",
     "output_type": "stream",
     "text": [
      "N\t400000\n",
      "P@1\t0.922\n",
      "R@1\t0.922\n",
      "\n",
      "Training model with lr=0.25, dim=25, epoch=5, and wordNgrams=3\n"
     ]
    },
    {
     "name": "stderr",
     "output_type": "stream",
     "text": [
      "Read 286M words\n",
      "Number of words:  6228957\n",
      "Number of labels: 2\n",
      "Progress:  99.9% words/sec/thread: 1252488 lr:  0.000150 avg.loss:  0.111696 ETA:   0h 0m 0s 89.0% words/sec/thread: 1235513 lr:  0.027564 avg.loss:  0.120124 ETA:   0h 0m18s\r"
     ]
    },
    {
     "name": "stdout",
     "output_type": "stream",
     "text": [
      "N\t400000\n",
      "P@1\t0.927\n",
      "R@1\t0.927\n",
      "\n",
      "Training model with lr=0.25, dim=25, epoch=10, and wordNgrams=3\n"
     ]
    },
    {
     "name": "stderr",
     "output_type": "stream",
     "text": [
      "Progress: 100.0% words/sec/thread: 1252465 lr:  0.000000 avg.loss:  0.111652 ETA:   0h 0m 0s\n",
      "Read 286M words\n",
      "Number of words:  6228957\n",
      "Number of labels: 2\n",
      "Progress: 100.0% words/sec/thread:  901423 lr:  0.000000 avg.loss:  0.059303 ETA:   0h 0m 0s\n"
     ]
    },
    {
     "name": "stdout",
     "output_type": "stream",
     "text": [
      "N\t400000\n",
      "P@1\t0.923\n",
      "R@1\t0.923\n",
      "\n",
      "Training model with lr=0.25, dim=25, epoch=15, and wordNgrams=3\n"
     ]
    },
    {
     "name": "stderr",
     "output_type": "stream",
     "text": [
      "Read 286M words\n",
      "Number of words:  6228957\n",
      "Number of labels: 2\n",
      "Progress: 100.0% words/sec/thread: 1097705 lr:  0.000000 avg.loss:  0.046452 ETA:   0h 0m 0s100.0% words/sec/thread: 1097705 lr: -0.000000 avg.loss:  0.046452 ETA:   0h 0m 0s\n"
     ]
    },
    {
     "name": "stdout",
     "output_type": "stream",
     "text": [
      "N\t400000\n",
      "P@1\t0.922\n",
      "R@1\t0.922\n",
      "\n",
      "Training model with lr=0.25, dim=25, epoch=5, and wordNgrams=4\n"
     ]
    },
    {
     "name": "stderr",
     "output_type": "stream",
     "text": [
      "Read 286M words\n",
      "Number of words:  6228957\n",
      "Number of labels: 2\n",
      "Progress: 100.0% words/sec/thread: 1185847 lr:  0.000000 avg.loss:  0.095751 ETA:   0h 0m 0s\n"
     ]
    },
    {
     "name": "stdout",
     "output_type": "stream",
     "text": [
      "N\t400000\n",
      "P@1\t0.922\n",
      "R@1\t0.922\n",
      "\n",
      "Training model with lr=0.25, dim=25, epoch=10, and wordNgrams=4\n"
     ]
    },
    {
     "name": "stderr",
     "output_type": "stream",
     "text": [
      "Read 286M words\n",
      "Number of words:  6228957\n",
      "Number of labels: 2\n",
      "Progress: 100.0% words/sec/thread:  824604 lr:  0.000000 avg.loss:  0.053631 ETA:   0h 0m 0s% words/sec/thread:  912890 lr:  0.187395 avg.loss:  0.147511 ETA:   0h 5m35s 37.3% words/sec/thread:  837727 lr:  0.156808 avg.loss:  0.116710 ETA:   0h 5m 6sm47s 84.8% words/sec/thread:  807535 lr:  0.038091 avg.loss:  0.062322 ETA:   0h 1m17s\n"
     ]
    },
    {
     "name": "stdout",
     "output_type": "stream",
     "text": [
      "N\t400000\n",
      "P@1\t0.918\n",
      "R@1\t0.918\n",
      "\n",
      "Training model with lr=0.25, dim=25, epoch=15, and wordNgrams=4\n"
     ]
    },
    {
     "name": "stderr",
     "output_type": "stream",
     "text": [
      "Read 286M words\n",
      "Number of words:  6228957\n",
      "Number of labels: 2\n",
      "Progress: 100.0% words/sec/thread: 1088907 lr:  0.000000 avg.loss:  0.041490 ETA:   0h 0m 0s 83.1% words/sec/thread: 1052802 lr:  0.042233 avg.loss:  0.049765 ETA:   0h 1m38s 98.4% words/sec/thread: 1088796 lr:  0.004069 avg.loss:  0.042166 ETA:   0h 0m 9s\n",
      "Read 1M words"
     ]
    },
    {
     "name": "stdout",
     "output_type": "stream",
     "text": [
      "N\t400000\n",
      "P@1\t0.917\n",
      "R@1\t0.917\n",
      "\n",
      "Training model with lr=0.25, dim=25, epoch=5, and wordNgrams=5\n"
     ]
    },
    {
     "name": "stderr",
     "output_type": "stream",
     "text": [
      "Read 286M words\n",
      "Number of words:  6228957\n",
      "Number of labels: 2\n",
      "Progress: 100.0% words/sec/thread:  951605 lr:  0.000000 avg.loss:  0.094531 ETA:   0h 0m 0s\n",
      "Read 1M words"
     ]
    },
    {
     "name": "stdout",
     "output_type": "stream",
     "text": [
      "N\t400000\n",
      "P@1\t0.917\n",
      "R@1\t0.917\n",
      "\n",
      "Training model with lr=0.25, dim=25, epoch=10, and wordNgrams=5\n"
     ]
    },
    {
     "name": "stderr",
     "output_type": "stream",
     "text": [
      "Read 286M words\n",
      "Number of words:  6228957\n",
      "Number of labels: 2\n",
      "Progress: 100.0% words/sec/thread:  914510 lr:  0.000000 avg.loss:  0.052289 ETA:   0h 0m 0s 20.8% words/sec/thread: 1073112 lr:  0.197987 avg.loss:  0.182926 ETA:   0h 5m 1s 89.1% words/sec/thread:  920579 lr:  0.027263 avg.loss:  0.058546 ETA:   0h 0m48s 95.0% words/sec/thread:  911495 lr:  0.012378 avg.loss:  0.054943 ETA:   0h 0m22s\n"
     ]
    },
    {
     "name": "stdout",
     "output_type": "stream",
     "text": [
      "N\t400000\n",
      "P@1\t0.914\n",
      "R@1\t0.914\n",
      "\n",
      "Training model with lr=0.25, dim=25, epoch=15, and wordNgrams=5\n"
     ]
    },
    {
     "name": "stderr",
     "output_type": "stream",
     "text": [
      "Read 286M words\n",
      "Number of words:  6228957\n",
      "Number of labels: 2\n",
      "Progress: 100.0% words/sec/thread:  982635 lr:  0.000000 avg.loss:  0.037651 ETA:   0h 0m 0s 50.3% words/sec/thread:  929623 lr:  0.124267 avg.loss:  0.074212 ETA:   0h 5m27s 59.8% words/sec/thread:  959533 lr:  0.100617 avg.loss:  0.062839 ETA:   0h 4m17s"
     ]
    },
    {
     "name": "stdout",
     "output_type": "stream",
     "text": [
      "N\t400000\n",
      "P@1\t0.913\n",
      "R@1\t0.913\n",
      "\n"
     ]
    },
    {
     "name": "stderr",
     "output_type": "stream",
     "text": [
      " 0s\n"
     ]
    }
   ],
   "source": [
    "lr_list = [0.05, 0.1, 0.25]\n",
    "dim_list = [5, 10, 25] # hidden units\n",
    "ngrams_list = [2, 3, 4, 5]\n",
    "epoch_list = [5, 10, 15]\n",
    "\n",
    "best_p, best_r = 0, 0\n",
    "best_l, best_d, best_n, best_e = 0, 0, 0, 0\n",
    "\n",
    "for l in lr_list:\n",
    "    for d in dim_list:\n",
    "        for n in ngrams_list:\n",
    "            for e in epoch_list:\n",
    "                print(f\"Training model with lr={l}, dim={d}, epoch={e}, and wordNgrams={n}\")\n",
    "                model = fasttext.train_supervised(input='train.txt', lr=l, dim=d, epoch=e, wordNgrams=n)\n",
    "                N, p, r = model.test('test.txt')\n",
    "                print_results(N, p, r)\n",
    "                if p > best_p and r > best_r:\n",
    "                    best_p, best_r = p, r\n",
    "                    best_l, best_d, best_n, best_e = l, d, n, e\n",
    "                print()"
   ]
  },
  {
   "cell_type": "code",
   "execution_count": 10,
   "metadata": {},
   "outputs": [
    {
     "name": "stderr",
     "output_type": "stream",
     "text": [
      "Read 1M words"
     ]
    },
    {
     "name": "stdout",
     "output_type": "stream",
     "text": [
      "Training the best model with lr=0.05, dim=25, epoch=5, and wordNgrams=2\n"
     ]
    },
    {
     "name": "stderr",
     "output_type": "stream",
     "text": [
      "Read 286M words\n",
      "Number of words:  6228957\n",
      "Number of labels: 2\n",
      "Progress: 100.0% words/sec/thread: 2218937 lr:  0.000000 avg.loss:  0.159801 ETA:   0h 0m 0s\n"
     ]
    }
   ],
   "source": [
    "print(f\"Training the best model with lr={best_l}, dim={best_d}, epoch={best_e}, and wordNgrams={best_n}\")\n",
    "model = fasttext.train_supervised(input='train.txt', lr=best_l, dim=best_d, epoch=best_e, wordNgrams=best_n, verbose=2)\n",
    "model.save_model('amazon_polarity.bin')"
   ]
  },
  {
   "cell_type": "code",
   "execution_count": 11,
   "metadata": {},
   "outputs": [
    {
     "name": "stdout",
     "output_type": "stream",
     "text": [
      "Accuracy: 0.9338575\n"
     ]
    }
   ],
   "source": [
    "predictions = []\n",
    "for text in test_texts:\n",
    "    prediction = model.predict(text)\n",
    "    predictions.append(int(prediction[0][0].split('__label__')[1]))\n",
    "accuracy = accuracy_score(test_labels, predictions)\n",
    "print(\"Accuracy:\", accuracy)"
   ]
  }
 ],
 "metadata": {
  "colab": {
   "provenance": []
  },
  "kernelspec": {
   "display_name": "Python 3 (ipykernel)",
   "language": "python",
   "name": "python3"
  },
  "language_info": {
   "codemirror_mode": {
    "name": "ipython",
    "version": 3
   },
   "file_extension": ".py",
   "mimetype": "text/x-python",
   "name": "python",
   "nbconvert_exporter": "python",
   "pygments_lexer": "ipython3",
   "version": "3.11.7"
  },
  "widgets": {
   "application/vnd.jupyter.widget-state+json": {
    "01ad44a28f45440d9502e6694299a0b1": {
     "model_module": "@jupyter-widgets/controls",
     "model_module_version": "1.5.0",
     "model_name": "ProgressStyleModel",
     "state": {
      "_model_module": "@jupyter-widgets/controls",
      "_model_module_version": "1.5.0",
      "_model_name": "ProgressStyleModel",
      "_view_count": null,
      "_view_module": "@jupyter-widgets/base",
      "_view_module_version": "1.2.0",
      "_view_name": "StyleView",
      "bar_color": null,
      "description_width": ""
     }
    },
    "03d9ca69814c4af5b1c6b3edb1688801": {
     "model_module": "@jupyter-widgets/base",
     "model_module_version": "1.2.0",
     "model_name": "LayoutModel",
     "state": {
      "_model_module": "@jupyter-widgets/base",
      "_model_module_version": "1.2.0",
      "_model_name": "LayoutModel",
      "_view_count": null,
      "_view_module": "@jupyter-widgets/base",
      "_view_module_version": "1.2.0",
      "_view_name": "LayoutView",
      "align_content": null,
      "align_items": null,
      "align_self": null,
      "border": null,
      "bottom": null,
      "display": null,
      "flex": null,
      "flex_flow": null,
      "grid_area": null,
      "grid_auto_columns": null,
      "grid_auto_flow": null,
      "grid_auto_rows": null,
      "grid_column": null,
      "grid_gap": null,
      "grid_row": null,
      "grid_template_areas": null,
      "grid_template_columns": null,
      "grid_template_rows": null,
      "height": null,
      "justify_content": null,
      "justify_items": null,
      "left": null,
      "margin": null,
      "max_height": null,
      "max_width": null,
      "min_height": null,
      "min_width": null,
      "object_fit": null,
      "object_position": null,
      "order": null,
      "overflow": null,
      "overflow_x": null,
      "overflow_y": null,
      "padding": null,
      "right": null,
      "top": null,
      "visibility": null,
      "width": null
     }
    },
    "04a617b3381b4144891c54c3b23d393a": {
     "model_module": "@jupyter-widgets/base",
     "model_module_version": "1.2.0",
     "model_name": "LayoutModel",
     "state": {
      "_model_module": "@jupyter-widgets/base",
      "_model_module_version": "1.2.0",
      "_model_name": "LayoutModel",
      "_view_count": null,
      "_view_module": "@jupyter-widgets/base",
      "_view_module_version": "1.2.0",
      "_view_name": "LayoutView",
      "align_content": null,
      "align_items": null,
      "align_self": null,
      "border": null,
      "bottom": null,
      "display": null,
      "flex": null,
      "flex_flow": null,
      "grid_area": null,
      "grid_auto_columns": null,
      "grid_auto_flow": null,
      "grid_auto_rows": null,
      "grid_column": null,
      "grid_gap": null,
      "grid_row": null,
      "grid_template_areas": null,
      "grid_template_columns": null,
      "grid_template_rows": null,
      "height": null,
      "justify_content": null,
      "justify_items": null,
      "left": null,
      "margin": null,
      "max_height": null,
      "max_width": null,
      "min_height": null,
      "min_width": null,
      "object_fit": null,
      "object_position": null,
      "order": null,
      "overflow": null,
      "overflow_x": null,
      "overflow_y": null,
      "padding": null,
      "right": null,
      "top": null,
      "visibility": null,
      "width": null
     }
    },
    "062757e4756540d495cb16a1cef52bc2": {
     "model_module": "@jupyter-widgets/base",
     "model_module_version": "1.2.0",
     "model_name": "LayoutModel",
     "state": {
      "_model_module": "@jupyter-widgets/base",
      "_model_module_version": "1.2.0",
      "_model_name": "LayoutModel",
      "_view_count": null,
      "_view_module": "@jupyter-widgets/base",
      "_view_module_version": "1.2.0",
      "_view_name": "LayoutView",
      "align_content": null,
      "align_items": null,
      "align_self": null,
      "border": null,
      "bottom": null,
      "display": null,
      "flex": null,
      "flex_flow": null,
      "grid_area": null,
      "grid_auto_columns": null,
      "grid_auto_flow": null,
      "grid_auto_rows": null,
      "grid_column": null,
      "grid_gap": null,
      "grid_row": null,
      "grid_template_areas": null,
      "grid_template_columns": null,
      "grid_template_rows": null,
      "height": null,
      "justify_content": null,
      "justify_items": null,
      "left": null,
      "margin": null,
      "max_height": null,
      "max_width": null,
      "min_height": null,
      "min_width": null,
      "object_fit": null,
      "object_position": null,
      "order": null,
      "overflow": null,
      "overflow_x": null,
      "overflow_y": null,
      "padding": null,
      "right": null,
      "top": null,
      "visibility": null,
      "width": null
     }
    },
    "077d8f9caa8545f49ef17c75bceeca4e": {
     "model_module": "@jupyter-widgets/base",
     "model_module_version": "1.2.0",
     "model_name": "LayoutModel",
     "state": {
      "_model_module": "@jupyter-widgets/base",
      "_model_module_version": "1.2.0",
      "_model_name": "LayoutModel",
      "_view_count": null,
      "_view_module": "@jupyter-widgets/base",
      "_view_module_version": "1.2.0",
      "_view_name": "LayoutView",
      "align_content": null,
      "align_items": null,
      "align_self": null,
      "border": null,
      "bottom": null,
      "display": null,
      "flex": null,
      "flex_flow": null,
      "grid_area": null,
      "grid_auto_columns": null,
      "grid_auto_flow": null,
      "grid_auto_rows": null,
      "grid_column": null,
      "grid_gap": null,
      "grid_row": null,
      "grid_template_areas": null,
      "grid_template_columns": null,
      "grid_template_rows": null,
      "height": null,
      "justify_content": null,
      "justify_items": null,
      "left": null,
      "margin": null,
      "max_height": null,
      "max_width": null,
      "min_height": null,
      "min_width": null,
      "object_fit": null,
      "object_position": null,
      "order": null,
      "overflow": null,
      "overflow_x": null,
      "overflow_y": null,
      "padding": null,
      "right": null,
      "top": null,
      "visibility": null,
      "width": null
     }
    },
    "07c38a5343104df392666f096df9b1b4": {
     "model_module": "@jupyter-widgets/controls",
     "model_module_version": "1.5.0",
     "model_name": "HTMLModel",
     "state": {
      "_dom_classes": [],
      "_model_module": "@jupyter-widgets/controls",
      "_model_module_version": "1.5.0",
      "_model_name": "HTMLModel",
      "_view_count": null,
      "_view_module": "@jupyter-widgets/controls",
      "_view_module_version": "1.5.0",
      "_view_name": "HTMLView",
      "description": "",
      "description_tooltip": null,
      "layout": "IPY_MODEL_ff8c1785394d4d71ac373bcbbdd294b7",
      "placeholder": "​",
      "style": "IPY_MODEL_7390a17fd0934470b959ede874cb74ca",
      "value": "Generating train split: 100%"
     }
    },
    "0c2a431694324acfab97bd9b58484a00": {
     "model_module": "@jupyter-widgets/controls",
     "model_module_version": "1.5.0",
     "model_name": "ProgressStyleModel",
     "state": {
      "_model_module": "@jupyter-widgets/controls",
      "_model_module_version": "1.5.0",
      "_model_name": "ProgressStyleModel",
      "_view_count": null,
      "_view_module": "@jupyter-widgets/base",
      "_view_module_version": "1.2.0",
      "_view_name": "StyleView",
      "bar_color": null,
      "description_width": ""
     }
    },
    "141903261c794ed6b4628e2e581ac5c4": {
     "model_module": "@jupyter-widgets/base",
     "model_module_version": "1.2.0",
     "model_name": "LayoutModel",
     "state": {
      "_model_module": "@jupyter-widgets/base",
      "_model_module_version": "1.2.0",
      "_model_name": "LayoutModel",
      "_view_count": null,
      "_view_module": "@jupyter-widgets/base",
      "_view_module_version": "1.2.0",
      "_view_name": "LayoutView",
      "align_content": null,
      "align_items": null,
      "align_self": null,
      "border": null,
      "bottom": null,
      "display": null,
      "flex": null,
      "flex_flow": null,
      "grid_area": null,
      "grid_auto_columns": null,
      "grid_auto_flow": null,
      "grid_auto_rows": null,
      "grid_column": null,
      "grid_gap": null,
      "grid_row": null,
      "grid_template_areas": null,
      "grid_template_columns": null,
      "grid_template_rows": null,
      "height": null,
      "justify_content": null,
      "justify_items": null,
      "left": null,
      "margin": null,
      "max_height": null,
      "max_width": null,
      "min_height": null,
      "min_width": null,
      "object_fit": null,
      "object_position": null,
      "order": null,
      "overflow": null,
      "overflow_x": null,
      "overflow_y": null,
      "padding": null,
      "right": null,
      "top": null,
      "visibility": null,
      "width": null
     }
    },
    "1a0c386fd4ff49a0a9d1745551845c0b": {
     "model_module": "@jupyter-widgets/controls",
     "model_module_version": "1.5.0",
     "model_name": "DescriptionStyleModel",
     "state": {
      "_model_module": "@jupyter-widgets/controls",
      "_model_module_version": "1.5.0",
      "_model_name": "DescriptionStyleModel",
      "_view_count": null,
      "_view_module": "@jupyter-widgets/base",
      "_view_module_version": "1.2.0",
      "_view_name": "StyleView",
      "description_width": ""
     }
    },
    "1f06abd328254ee391c1ce3403bfb01c": {
     "model_module": "@jupyter-widgets/base",
     "model_module_version": "1.2.0",
     "model_name": "LayoutModel",
     "state": {
      "_model_module": "@jupyter-widgets/base",
      "_model_module_version": "1.2.0",
      "_model_name": "LayoutModel",
      "_view_count": null,
      "_view_module": "@jupyter-widgets/base",
      "_view_module_version": "1.2.0",
      "_view_name": "LayoutView",
      "align_content": null,
      "align_items": null,
      "align_self": null,
      "border": null,
      "bottom": null,
      "display": null,
      "flex": null,
      "flex_flow": null,
      "grid_area": null,
      "grid_auto_columns": null,
      "grid_auto_flow": null,
      "grid_auto_rows": null,
      "grid_column": null,
      "grid_gap": null,
      "grid_row": null,
      "grid_template_areas": null,
      "grid_template_columns": null,
      "grid_template_rows": null,
      "height": null,
      "justify_content": null,
      "justify_items": null,
      "left": null,
      "margin": null,
      "max_height": null,
      "max_width": null,
      "min_height": null,
      "min_width": null,
      "object_fit": null,
      "object_position": null,
      "order": null,
      "overflow": null,
      "overflow_x": null,
      "overflow_y": null,
      "padding": null,
      "right": null,
      "top": null,
      "visibility": null,
      "width": null
     }
    },
    "234ea4aa5e934140ab978d36ff1b4ac7": {
     "model_module": "@jupyter-widgets/controls",
     "model_module_version": "1.5.0",
     "model_name": "FloatProgressModel",
     "state": {
      "_dom_classes": [],
      "_model_module": "@jupyter-widgets/controls",
      "_model_module_version": "1.5.0",
      "_model_name": "FloatProgressModel",
      "_view_count": null,
      "_view_module": "@jupyter-widgets/controls",
      "_view_module_version": "1.5.0",
      "_view_name": "ProgressView",
      "bar_style": "success",
      "description": "",
      "description_tooltip": null,
      "layout": "IPY_MODEL_062757e4756540d495cb16a1cef52bc2",
      "max": 3600000,
      "min": 0,
      "orientation": "horizontal",
      "style": "IPY_MODEL_d0c977896d7e4cf7a00e70f7cb1b9cf7",
      "value": 3600000
     }
    },
    "24029d275256499a833b3fa72492c425": {
     "model_module": "@jupyter-widgets/controls",
     "model_module_version": "1.5.0",
     "model_name": "HTMLModel",
     "state": {
      "_dom_classes": [],
      "_model_module": "@jupyter-widgets/controls",
      "_model_module_version": "1.5.0",
      "_model_name": "HTMLModel",
      "_view_count": null,
      "_view_module": "@jupyter-widgets/controls",
      "_view_module_version": "1.5.0",
      "_view_name": "HTMLView",
      "description": "",
      "description_tooltip": null,
      "layout": "IPY_MODEL_f53f1b8d89224dbd9700e61a88b5ce23",
      "placeholder": "​",
      "style": "IPY_MODEL_b8e1d6498c7e456da5bf392380c6fbc7",
      "value": " 3600000/3600000 [00:15&lt;00:00, 224913.95 examples/s]"
     }
    },
    "275cd937152540768373fbed8bb2d803": {
     "model_module": "@jupyter-widgets/base",
     "model_module_version": "1.2.0",
     "model_name": "LayoutModel",
     "state": {
      "_model_module": "@jupyter-widgets/base",
      "_model_module_version": "1.2.0",
      "_model_name": "LayoutModel",
      "_view_count": null,
      "_view_module": "@jupyter-widgets/base",
      "_view_module_version": "1.2.0",
      "_view_name": "LayoutView",
      "align_content": null,
      "align_items": null,
      "align_self": null,
      "border": null,
      "bottom": null,
      "display": null,
      "flex": null,
      "flex_flow": null,
      "grid_area": null,
      "grid_auto_columns": null,
      "grid_auto_flow": null,
      "grid_auto_rows": null,
      "grid_column": null,
      "grid_gap": null,
      "grid_row": null,
      "grid_template_areas": null,
      "grid_template_columns": null,
      "grid_template_rows": null,
      "height": null,
      "justify_content": null,
      "justify_items": null,
      "left": null,
      "margin": null,
      "max_height": null,
      "max_width": null,
      "min_height": null,
      "min_width": null,
      "object_fit": null,
      "object_position": null,
      "order": null,
      "overflow": null,
      "overflow_x": null,
      "overflow_y": null,
      "padding": null,
      "right": null,
      "top": null,
      "visibility": null,
      "width": null
     }
    },
    "298e8000d8e94d6db334d86fc0d94317": {
     "model_module": "@jupyter-widgets/base",
     "model_module_version": "1.2.0",
     "model_name": "LayoutModel",
     "state": {
      "_model_module": "@jupyter-widgets/base",
      "_model_module_version": "1.2.0",
      "_model_name": "LayoutModel",
      "_view_count": null,
      "_view_module": "@jupyter-widgets/base",
      "_view_module_version": "1.2.0",
      "_view_name": "LayoutView",
      "align_content": null,
      "align_items": null,
      "align_self": null,
      "border": null,
      "bottom": null,
      "display": null,
      "flex": null,
      "flex_flow": null,
      "grid_area": null,
      "grid_auto_columns": null,
      "grid_auto_flow": null,
      "grid_auto_rows": null,
      "grid_column": null,
      "grid_gap": null,
      "grid_row": null,
      "grid_template_areas": null,
      "grid_template_columns": null,
      "grid_template_rows": null,
      "height": null,
      "justify_content": null,
      "justify_items": null,
      "left": null,
      "margin": null,
      "max_height": null,
      "max_width": null,
      "min_height": null,
      "min_width": null,
      "object_fit": null,
      "object_position": null,
      "order": null,
      "overflow": null,
      "overflow_x": null,
      "overflow_y": null,
      "padding": null,
      "right": null,
      "top": null,
      "visibility": null,
      "width": null
     }
    },
    "2a444cfc124e4693880b9b63046a4743": {
     "model_module": "@jupyter-widgets/controls",
     "model_module_version": "1.5.0",
     "model_name": "HTMLModel",
     "state": {
      "_dom_classes": [],
      "_model_module": "@jupyter-widgets/controls",
      "_model_module_version": "1.5.0",
      "_model_name": "HTMLModel",
      "_view_count": null,
      "_view_module": "@jupyter-widgets/controls",
      "_view_module_version": "1.5.0",
      "_view_name": "HTMLView",
      "description": "",
      "description_tooltip": null,
      "layout": "IPY_MODEL_bd23b265c11746e585ee1a6dc1983d28",
      "placeholder": "​",
      "style": "IPY_MODEL_4cfb8c2e58334590a1381b8daa532715",
      "value": " 258M/258M [00:07&lt;00:00, 38.7MB/s]"
     }
    },
    "2b438cece0364b0aaab6d6e85c15bc3e": {
     "model_module": "@jupyter-widgets/base",
     "model_module_version": "1.2.0",
     "model_name": "LayoutModel",
     "state": {
      "_model_module": "@jupyter-widgets/base",
      "_model_module_version": "1.2.0",
      "_model_name": "LayoutModel",
      "_view_count": null,
      "_view_module": "@jupyter-widgets/base",
      "_view_module_version": "1.2.0",
      "_view_name": "LayoutView",
      "align_content": null,
      "align_items": null,
      "align_self": null,
      "border": null,
      "bottom": null,
      "display": null,
      "flex": null,
      "flex_flow": null,
      "grid_area": null,
      "grid_auto_columns": null,
      "grid_auto_flow": null,
      "grid_auto_rows": null,
      "grid_column": null,
      "grid_gap": null,
      "grid_row": null,
      "grid_template_areas": null,
      "grid_template_columns": null,
      "grid_template_rows": null,
      "height": null,
      "justify_content": null,
      "justify_items": null,
      "left": null,
      "margin": null,
      "max_height": null,
      "max_width": null,
      "min_height": null,
      "min_width": null,
      "object_fit": null,
      "object_position": null,
      "order": null,
      "overflow": null,
      "overflow_x": null,
      "overflow_y": null,
      "padding": null,
      "right": null,
      "top": null,
      "visibility": null,
      "width": null
     }
    },
    "2f661b79fc934b51aa50722ffd3ea264": {
     "model_module": "@jupyter-widgets/base",
     "model_module_version": "1.2.0",
     "model_name": "LayoutModel",
     "state": {
      "_model_module": "@jupyter-widgets/base",
      "_model_module_version": "1.2.0",
      "_model_name": "LayoutModel",
      "_view_count": null,
      "_view_module": "@jupyter-widgets/base",
      "_view_module_version": "1.2.0",
      "_view_name": "LayoutView",
      "align_content": null,
      "align_items": null,
      "align_self": null,
      "border": null,
      "bottom": null,
      "display": null,
      "flex": null,
      "flex_flow": null,
      "grid_area": null,
      "grid_auto_columns": null,
      "grid_auto_flow": null,
      "grid_auto_rows": null,
      "grid_column": null,
      "grid_gap": null,
      "grid_row": null,
      "grid_template_areas": null,
      "grid_template_columns": null,
      "grid_template_rows": null,
      "height": null,
      "justify_content": null,
      "justify_items": null,
      "left": null,
      "margin": null,
      "max_height": null,
      "max_width": null,
      "min_height": null,
      "min_width": null,
      "object_fit": null,
      "object_position": null,
      "order": null,
      "overflow": null,
      "overflow_x": null,
      "overflow_y": null,
      "padding": null,
      "right": null,
      "top": null,
      "visibility": null,
      "width": null
     }
    },
    "36dfc93d23ca4c6b920007f0e9a994e2": {
     "model_module": "@jupyter-widgets/base",
     "model_module_version": "1.2.0",
     "model_name": "LayoutModel",
     "state": {
      "_model_module": "@jupyter-widgets/base",
      "_model_module_version": "1.2.0",
      "_model_name": "LayoutModel",
      "_view_count": null,
      "_view_module": "@jupyter-widgets/base",
      "_view_module_version": "1.2.0",
      "_view_name": "LayoutView",
      "align_content": null,
      "align_items": null,
      "align_self": null,
      "border": null,
      "bottom": null,
      "display": null,
      "flex": null,
      "flex_flow": null,
      "grid_area": null,
      "grid_auto_columns": null,
      "grid_auto_flow": null,
      "grid_auto_rows": null,
      "grid_column": null,
      "grid_gap": null,
      "grid_row": null,
      "grid_template_areas": null,
      "grid_template_columns": null,
      "grid_template_rows": null,
      "height": null,
      "justify_content": null,
      "justify_items": null,
      "left": null,
      "margin": null,
      "max_height": null,
      "max_width": null,
      "min_height": null,
      "min_width": null,
      "object_fit": null,
      "object_position": null,
      "order": null,
      "overflow": null,
      "overflow_x": null,
      "overflow_y": null,
      "padding": null,
      "right": null,
      "top": null,
      "visibility": null,
      "width": null
     }
    },
    "382c0b7fc0f04d318242fd063170127d": {
     "model_module": "@jupyter-widgets/controls",
     "model_module_version": "1.5.0",
     "model_name": "DescriptionStyleModel",
     "state": {
      "_model_module": "@jupyter-widgets/controls",
      "_model_module_version": "1.5.0",
      "_model_name": "DescriptionStyleModel",
      "_view_count": null,
      "_view_module": "@jupyter-widgets/base",
      "_view_module_version": "1.2.0",
      "_view_name": "StyleView",
      "description_width": ""
     }
    },
    "3c09e1659f6a4edca36f6a10d3c855c5": {
     "model_module": "@jupyter-widgets/controls",
     "model_module_version": "1.5.0",
     "model_name": "FloatProgressModel",
     "state": {
      "_dom_classes": [],
      "_model_module": "@jupyter-widgets/controls",
      "_model_module_version": "1.5.0",
      "_model_name": "FloatProgressModel",
      "_view_count": null,
      "_view_module": "@jupyter-widgets/controls",
      "_view_module_version": "1.5.0",
      "_view_name": "ProgressView",
      "bar_style": "success",
      "description": "",
      "description_tooltip": null,
      "layout": "IPY_MODEL_fa86023d4f5d49e58ac584feb422d89e",
      "max": 117422360,
      "min": 0,
      "orientation": "horizontal",
      "style": "IPY_MODEL_9c3895f777fb4ec38a722424aa343e6f",
      "value": 117422360
     }
    },
    "3f9fb92642d047128788341920e9f401": {
     "model_module": "@jupyter-widgets/base",
     "model_module_version": "1.2.0",
     "model_name": "LayoutModel",
     "state": {
      "_model_module": "@jupyter-widgets/base",
      "_model_module_version": "1.2.0",
      "_model_name": "LayoutModel",
      "_view_count": null,
      "_view_module": "@jupyter-widgets/base",
      "_view_module_version": "1.2.0",
      "_view_name": "LayoutView",
      "align_content": null,
      "align_items": null,
      "align_self": null,
      "border": null,
      "bottom": null,
      "display": null,
      "flex": null,
      "flex_flow": null,
      "grid_area": null,
      "grid_auto_columns": null,
      "grid_auto_flow": null,
      "grid_auto_rows": null,
      "grid_column": null,
      "grid_gap": null,
      "grid_row": null,
      "grid_template_areas": null,
      "grid_template_columns": null,
      "grid_template_rows": null,
      "height": null,
      "justify_content": null,
      "justify_items": null,
      "left": null,
      "margin": null,
      "max_height": null,
      "max_width": null,
      "min_height": null,
      "min_width": null,
      "object_fit": null,
      "object_position": null,
      "order": null,
      "overflow": null,
      "overflow_x": null,
      "overflow_y": null,
      "padding": null,
      "right": null,
      "top": null,
      "visibility": null,
      "width": null
     }
    },
    "401b729126e34d44a6b7b6691cd8dff7": {
     "model_module": "@jupyter-widgets/controls",
     "model_module_version": "1.5.0",
     "model_name": "HTMLModel",
     "state": {
      "_dom_classes": [],
      "_model_module": "@jupyter-widgets/controls",
      "_model_module_version": "1.5.0",
      "_model_name": "HTMLModel",
      "_view_count": null,
      "_view_module": "@jupyter-widgets/controls",
      "_view_module_version": "1.5.0",
      "_view_name": "HTMLView",
      "description": "",
      "description_tooltip": null,
      "layout": "IPY_MODEL_2f661b79fc934b51aa50722ffd3ea264",
      "placeholder": "​",
      "style": "IPY_MODEL_cd41726b1b4c49fbbab9e2e7bd0f061a",
      "value": "Downloading data: 100%"
     }
    },
    "45d4603c5ed44608803db839159df344": {
     "model_module": "@jupyter-widgets/base",
     "model_module_version": "1.2.0",
     "model_name": "LayoutModel",
     "state": {
      "_model_module": "@jupyter-widgets/base",
      "_model_module_version": "1.2.0",
      "_model_name": "LayoutModel",
      "_view_count": null,
      "_view_module": "@jupyter-widgets/base",
      "_view_module_version": "1.2.0",
      "_view_name": "LayoutView",
      "align_content": null,
      "align_items": null,
      "align_self": null,
      "border": null,
      "bottom": null,
      "display": null,
      "flex": null,
      "flex_flow": null,
      "grid_area": null,
      "grid_auto_columns": null,
      "grid_auto_flow": null,
      "grid_auto_rows": null,
      "grid_column": null,
      "grid_gap": null,
      "grid_row": null,
      "grid_template_areas": null,
      "grid_template_columns": null,
      "grid_template_rows": null,
      "height": null,
      "justify_content": null,
      "justify_items": null,
      "left": null,
      "margin": null,
      "max_height": null,
      "max_width": null,
      "min_height": null,
      "min_width": null,
      "object_fit": null,
      "object_position": null,
      "order": null,
      "overflow": null,
      "overflow_x": null,
      "overflow_y": null,
      "padding": null,
      "right": null,
      "top": null,
      "visibility": null,
      "width": null
     }
    },
    "484cafe6e48444b690412c6d5e89e1c1": {
     "model_module": "@jupyter-widgets/controls",
     "model_module_version": "1.5.0",
     "model_name": "FloatProgressModel",
     "state": {
      "_dom_classes": [],
      "_model_module": "@jupyter-widgets/controls",
      "_model_module_version": "1.5.0",
      "_model_name": "FloatProgressModel",
      "_view_count": null,
      "_view_module": "@jupyter-widgets/controls",
      "_view_module_version": "1.5.0",
      "_view_name": "ProgressView",
      "bar_style": "success",
      "description": "",
      "description_tooltip": null,
      "layout": "IPY_MODEL_ac8deed43d6649139b7a2bfe5ebfc5ee",
      "max": 259761770,
      "min": 0,
      "orientation": "horizontal",
      "style": "IPY_MODEL_8b527b02c93548ca90e24dc66472946a",
      "value": 259761770
     }
    },
    "4cfb8c2e58334590a1381b8daa532715": {
     "model_module": "@jupyter-widgets/controls",
     "model_module_version": "1.5.0",
     "model_name": "DescriptionStyleModel",
     "state": {
      "_model_module": "@jupyter-widgets/controls",
      "_model_module_version": "1.5.0",
      "_model_name": "DescriptionStyleModel",
      "_view_count": null,
      "_view_module": "@jupyter-widgets/base",
      "_view_module_version": "1.2.0",
      "_view_name": "StyleView",
      "description_width": ""
     }
    },
    "590a105f928448b0a65e3ab3f55496b8": {
     "model_module": "@jupyter-widgets/controls",
     "model_module_version": "1.5.0",
     "model_name": "HBoxModel",
     "state": {
      "_dom_classes": [],
      "_model_module": "@jupyter-widgets/controls",
      "_model_module_version": "1.5.0",
      "_model_name": "HBoxModel",
      "_view_count": null,
      "_view_module": "@jupyter-widgets/controls",
      "_view_module_version": "1.5.0",
      "_view_name": "HBoxView",
      "box_style": "",
      "children": [
       "IPY_MODEL_5d3193f9742c4ce79890bb6e2ab70ecd",
       "IPY_MODEL_9f3612475b4b4e9ea52e53a87a3b2517",
       "IPY_MODEL_2a444cfc124e4693880b9b63046a4743"
      ],
      "layout": "IPY_MODEL_298e8000d8e94d6db334d86fc0d94317"
     }
    },
    "59d125db39af4ff5a53553bfb5617a70": {
     "model_module": "@jupyter-widgets/controls",
     "model_module_version": "1.5.0",
     "model_name": "DescriptionStyleModel",
     "state": {
      "_model_module": "@jupyter-widgets/controls",
      "_model_module_version": "1.5.0",
      "_model_name": "DescriptionStyleModel",
      "_view_count": null,
      "_view_module": "@jupyter-widgets/base",
      "_view_module_version": "1.2.0",
      "_view_name": "StyleView",
      "description_width": ""
     }
    },
    "5c43d23ba8ec46669b04dd7403413ee3": {
     "model_module": "@jupyter-widgets/controls",
     "model_module_version": "1.5.0",
     "model_name": "HTMLModel",
     "state": {
      "_dom_classes": [],
      "_model_module": "@jupyter-widgets/controls",
      "_model_module_version": "1.5.0",
      "_model_name": "HTMLModel",
      "_view_count": null,
      "_view_module": "@jupyter-widgets/controls",
      "_view_module_version": "1.5.0",
      "_view_name": "HTMLView",
      "description": "",
      "description_tooltip": null,
      "layout": "IPY_MODEL_077d8f9caa8545f49ef17c75bceeca4e",
      "placeholder": "​",
      "style": "IPY_MODEL_7a77bfa4cefa4f28937e0034fae050a0",
      "value": "Generating test split: 100%"
     }
    },
    "5d3193f9742c4ce79890bb6e2ab70ecd": {
     "model_module": "@jupyter-widgets/controls",
     "model_module_version": "1.5.0",
     "model_name": "HTMLModel",
     "state": {
      "_dom_classes": [],
      "_model_module": "@jupyter-widgets/controls",
      "_model_module_version": "1.5.0",
      "_model_name": "HTMLModel",
      "_view_count": null,
      "_view_module": "@jupyter-widgets/controls",
      "_view_module_version": "1.5.0",
      "_view_name": "HTMLView",
      "description": "",
      "description_tooltip": null,
      "layout": "IPY_MODEL_2b438cece0364b0aaab6d6e85c15bc3e",
      "placeholder": "​",
      "style": "IPY_MODEL_ca239156d2e04ffc86f00f2877c890c1",
      "value": "Downloading data: 100%"
     }
    },
    "6080fda01a724949ba27ef3aec3f2c18": {
     "model_module": "@jupyter-widgets/base",
     "model_module_version": "1.2.0",
     "model_name": "LayoutModel",
     "state": {
      "_model_module": "@jupyter-widgets/base",
      "_model_module_version": "1.2.0",
      "_model_name": "LayoutModel",
      "_view_count": null,
      "_view_module": "@jupyter-widgets/base",
      "_view_module_version": "1.2.0",
      "_view_name": "LayoutView",
      "align_content": null,
      "align_items": null,
      "align_self": null,
      "border": null,
      "bottom": null,
      "display": null,
      "flex": null,
      "flex_flow": null,
      "grid_area": null,
      "grid_auto_columns": null,
      "grid_auto_flow": null,
      "grid_auto_rows": null,
      "grid_column": null,
      "grid_gap": null,
      "grid_row": null,
      "grid_template_areas": null,
      "grid_template_columns": null,
      "grid_template_rows": null,
      "height": null,
      "justify_content": null,
      "justify_items": null,
      "left": null,
      "margin": null,
      "max_height": null,
      "max_width": null,
      "min_height": null,
      "min_width": null,
      "object_fit": null,
      "object_position": null,
      "order": null,
      "overflow": null,
      "overflow_x": null,
      "overflow_y": null,
      "padding": null,
      "right": null,
      "top": null,
      "visibility": null,
      "width": null
     }
    },
    "64696c3e2e7a43218e3fa27f67c0047d": {
     "model_module": "@jupyter-widgets/controls",
     "model_module_version": "1.5.0",
     "model_name": "HBoxModel",
     "state": {
      "_dom_classes": [],
      "_model_module": "@jupyter-widgets/controls",
      "_model_module_version": "1.5.0",
      "_model_name": "HBoxModel",
      "_view_count": null,
      "_view_module": "@jupyter-widgets/controls",
      "_view_module_version": "1.5.0",
      "_view_name": "HBoxView",
      "box_style": "",
      "children": [
       "IPY_MODEL_64be8595fdd840a58774ba96414ce99f",
       "IPY_MODEL_3c09e1659f6a4edca36f6a10d3c855c5",
       "IPY_MODEL_6af65e45185b49768a939a5f50a6f654"
      ],
      "layout": "IPY_MODEL_1f06abd328254ee391c1ce3403bfb01c"
     }
    },
    "64be8595fdd840a58774ba96414ce99f": {
     "model_module": "@jupyter-widgets/controls",
     "model_module_version": "1.5.0",
     "model_name": "HTMLModel",
     "state": {
      "_dom_classes": [],
      "_model_module": "@jupyter-widgets/controls",
      "_model_module_version": "1.5.0",
      "_model_name": "HTMLModel",
      "_view_count": null,
      "_view_module": "@jupyter-widgets/controls",
      "_view_module_version": "1.5.0",
      "_view_name": "HTMLView",
      "description": "",
      "description_tooltip": null,
      "layout": "IPY_MODEL_daa5ef22f2cf4d779033ba312ac051e1",
      "placeholder": "​",
      "style": "IPY_MODEL_fd4a0031a7ab46beb11f1e726be993df",
      "value": "Downloading data: 100%"
     }
    },
    "6af65e45185b49768a939a5f50a6f654": {
     "model_module": "@jupyter-widgets/controls",
     "model_module_version": "1.5.0",
     "model_name": "HTMLModel",
     "state": {
      "_dom_classes": [],
      "_model_module": "@jupyter-widgets/controls",
      "_model_module_version": "1.5.0",
      "_model_name": "HTMLModel",
      "_view_count": null,
      "_view_module": "@jupyter-widgets/controls",
      "_view_module_version": "1.5.0",
      "_view_name": "HTMLView",
      "description": "",
      "description_tooltip": null,
      "layout": "IPY_MODEL_fc4b638ce16d4249a8ae1ab43480af2f",
      "placeholder": "​",
      "style": "IPY_MODEL_ec1d7277df034e14aefd9ae23c6c6407",
      "value": " 117M/117M [00:02&lt;00:00, 65.3MB/s]"
     }
    },
    "6affd26385744cd7b0c5e12f70e65e07": {
     "model_module": "@jupyter-widgets/base",
     "model_module_version": "1.2.0",
     "model_name": "LayoutModel",
     "state": {
      "_model_module": "@jupyter-widgets/base",
      "_model_module_version": "1.2.0",
      "_model_name": "LayoutModel",
      "_view_count": null,
      "_view_module": "@jupyter-widgets/base",
      "_view_module_version": "1.2.0",
      "_view_name": "LayoutView",
      "align_content": null,
      "align_items": null,
      "align_self": null,
      "border": null,
      "bottom": null,
      "display": null,
      "flex": null,
      "flex_flow": null,
      "grid_area": null,
      "grid_auto_columns": null,
      "grid_auto_flow": null,
      "grid_auto_rows": null,
      "grid_column": null,
      "grid_gap": null,
      "grid_row": null,
      "grid_template_areas": null,
      "grid_template_columns": null,
      "grid_template_rows": null,
      "height": null,
      "justify_content": null,
      "justify_items": null,
      "left": null,
      "margin": null,
      "max_height": null,
      "max_width": null,
      "min_height": null,
      "min_width": null,
      "object_fit": null,
      "object_position": null,
      "order": null,
      "overflow": null,
      "overflow_x": null,
      "overflow_y": null,
      "padding": null,
      "right": null,
      "top": null,
      "visibility": null,
      "width": null
     }
    },
    "6c660aa324404832a10864696efedc54": {
     "model_module": "@jupyter-widgets/controls",
     "model_module_version": "1.5.0",
     "model_name": "ProgressStyleModel",
     "state": {
      "_model_module": "@jupyter-widgets/controls",
      "_model_module_version": "1.5.0",
      "_model_name": "ProgressStyleModel",
      "_view_count": null,
      "_view_module": "@jupyter-widgets/base",
      "_view_module_version": "1.2.0",
      "_view_name": "StyleView",
      "bar_color": null,
      "description_width": ""
     }
    },
    "70b94e3bb7eb4788a418e402303ea66b": {
     "model_module": "@jupyter-widgets/controls",
     "model_module_version": "1.5.0",
     "model_name": "FloatProgressModel",
     "state": {
      "_dom_classes": [],
      "_model_module": "@jupyter-widgets/controls",
      "_model_module_version": "1.5.0",
      "_model_name": "FloatProgressModel",
      "_view_count": null,
      "_view_module": "@jupyter-widgets/controls",
      "_view_module_version": "1.5.0",
      "_view_name": "ProgressView",
      "bar_style": "success",
      "description": "",
      "description_tooltip": null,
      "layout": "IPY_MODEL_b4bea9ace4f24e7689c6c9b8dc4c3b95",
      "max": 6812,
      "min": 0,
      "orientation": "horizontal",
      "style": "IPY_MODEL_c980177dfb0347e1a26dc49b7ef27bd4",
      "value": 6812
     }
    },
    "711b8c69099a410390f5b204762d05dc": {
     "model_module": "@jupyter-widgets/controls",
     "model_module_version": "1.5.0",
     "model_name": "HTMLModel",
     "state": {
      "_dom_classes": [],
      "_model_module": "@jupyter-widgets/controls",
      "_model_module_version": "1.5.0",
      "_model_name": "HTMLModel",
      "_view_count": null,
      "_view_module": "@jupyter-widgets/controls",
      "_view_module_version": "1.5.0",
      "_view_name": "HTMLView",
      "description": "",
      "description_tooltip": null,
      "layout": "IPY_MODEL_bc8541f090124602a69004b01de3f01c",
      "placeholder": "​",
      "style": "IPY_MODEL_59d125db39af4ff5a53553bfb5617a70",
      "value": " 260M/260M [00:06&lt;00:00, 35.5MB/s]"
     }
    },
    "7390a17fd0934470b959ede874cb74ca": {
     "model_module": "@jupyter-widgets/controls",
     "model_module_version": "1.5.0",
     "model_name": "DescriptionStyleModel",
     "state": {
      "_model_module": "@jupyter-widgets/controls",
      "_model_module_version": "1.5.0",
      "_model_name": "DescriptionStyleModel",
      "_view_count": null,
      "_view_module": "@jupyter-widgets/base",
      "_view_module_version": "1.2.0",
      "_view_name": "StyleView",
      "description_width": ""
     }
    },
    "7391e8db628b46a098a9fa4bf367af8d": {
     "model_module": "@jupyter-widgets/controls",
     "model_module_version": "1.5.0",
     "model_name": "HTMLModel",
     "state": {
      "_dom_classes": [],
      "_model_module": "@jupyter-widgets/controls",
      "_model_module_version": "1.5.0",
      "_model_name": "HTMLModel",
      "_view_count": null,
      "_view_module": "@jupyter-widgets/controls",
      "_view_module_version": "1.5.0",
      "_view_name": "HTMLView",
      "description": "",
      "description_tooltip": null,
      "layout": "IPY_MODEL_04a617b3381b4144891c54c3b23d393a",
      "placeholder": "​",
      "style": "IPY_MODEL_fa4d8462351444e09167e838f0d96c4f",
      "value": "Downloading readme: 100%"
     }
    },
    "76b0bae3b2034bdda3c2307636a02174": {
     "model_module": "@jupyter-widgets/base",
     "model_module_version": "1.2.0",
     "model_name": "LayoutModel",
     "state": {
      "_model_module": "@jupyter-widgets/base",
      "_model_module_version": "1.2.0",
      "_model_name": "LayoutModel",
      "_view_count": null,
      "_view_module": "@jupyter-widgets/base",
      "_view_module_version": "1.2.0",
      "_view_name": "LayoutView",
      "align_content": null,
      "align_items": null,
      "align_self": null,
      "border": null,
      "bottom": null,
      "display": null,
      "flex": null,
      "flex_flow": null,
      "grid_area": null,
      "grid_auto_columns": null,
      "grid_auto_flow": null,
      "grid_auto_rows": null,
      "grid_column": null,
      "grid_gap": null,
      "grid_row": null,
      "grid_template_areas": null,
      "grid_template_columns": null,
      "grid_template_rows": null,
      "height": null,
      "justify_content": null,
      "justify_items": null,
      "left": null,
      "margin": null,
      "max_height": null,
      "max_width": null,
      "min_height": null,
      "min_width": null,
      "object_fit": null,
      "object_position": null,
      "order": null,
      "overflow": null,
      "overflow_x": null,
      "overflow_y": null,
      "padding": null,
      "right": null,
      "top": null,
      "visibility": null,
      "width": null
     }
    },
    "78db20d85b5649e4a59cb5de8975c6cf": {
     "model_module": "@jupyter-widgets/controls",
     "model_module_version": "1.5.0",
     "model_name": "ProgressStyleModel",
     "state": {
      "_model_module": "@jupyter-widgets/controls",
      "_model_module_version": "1.5.0",
      "_model_name": "ProgressStyleModel",
      "_view_count": null,
      "_view_module": "@jupyter-widgets/base",
      "_view_module_version": "1.2.0",
      "_view_name": "StyleView",
      "bar_color": null,
      "description_width": ""
     }
    },
    "7a77bfa4cefa4f28937e0034fae050a0": {
     "model_module": "@jupyter-widgets/controls",
     "model_module_version": "1.5.0",
     "model_name": "DescriptionStyleModel",
     "state": {
      "_model_module": "@jupyter-widgets/controls",
      "_model_module_version": "1.5.0",
      "_model_name": "DescriptionStyleModel",
      "_view_count": null,
      "_view_module": "@jupyter-widgets/base",
      "_view_module_version": "1.2.0",
      "_view_name": "StyleView",
      "description_width": ""
     }
    },
    "7a845e4fe1eb4427b5c3b161e0b6ab45": {
     "model_module": "@jupyter-widgets/controls",
     "model_module_version": "1.5.0",
     "model_name": "DescriptionStyleModel",
     "state": {
      "_model_module": "@jupyter-widgets/controls",
      "_model_module_version": "1.5.0",
      "_model_name": "DescriptionStyleModel",
      "_view_count": null,
      "_view_module": "@jupyter-widgets/base",
      "_view_module_version": "1.2.0",
      "_view_name": "StyleView",
      "description_width": ""
     }
    },
    "81098438a0c247d6abca9d8af75f325d": {
     "model_module": "@jupyter-widgets/controls",
     "model_module_version": "1.5.0",
     "model_name": "HTMLModel",
     "state": {
      "_dom_classes": [],
      "_model_module": "@jupyter-widgets/controls",
      "_model_module_version": "1.5.0",
      "_model_name": "HTMLModel",
      "_view_count": null,
      "_view_module": "@jupyter-widgets/controls",
      "_view_module_version": "1.5.0",
      "_view_name": "HTMLView",
      "description": "",
      "description_tooltip": null,
      "layout": "IPY_MODEL_6affd26385744cd7b0c5e12f70e65e07",
      "placeholder": "​",
      "style": "IPY_MODEL_b80d2b3ccf964f939e5733cfa07af953",
      "value": "Downloading data: 100%"
     }
    },
    "81407708ed514cc99ebdb95d242c6782": {
     "model_module": "@jupyter-widgets/controls",
     "model_module_version": "1.5.0",
     "model_name": "HTMLModel",
     "state": {
      "_dom_classes": [],
      "_model_module": "@jupyter-widgets/controls",
      "_model_module_version": "1.5.0",
      "_model_name": "HTMLModel",
      "_view_count": null,
      "_view_module": "@jupyter-widgets/controls",
      "_view_module_version": "1.5.0",
      "_view_name": "HTMLView",
      "description": "",
      "description_tooltip": null,
      "layout": "IPY_MODEL_838bfe34e6bf4ef8bc747bf9fed06175",
      "placeholder": "​",
      "style": "IPY_MODEL_dd964f3782474985b6a03d14cd295b0f",
      "value": " 254M/254M [00:03&lt;00:00, 64.0MB/s]"
     }
    },
    "838bfe34e6bf4ef8bc747bf9fed06175": {
     "model_module": "@jupyter-widgets/base",
     "model_module_version": "1.2.0",
     "model_name": "LayoutModel",
     "state": {
      "_model_module": "@jupyter-widgets/base",
      "_model_module_version": "1.2.0",
      "_model_name": "LayoutModel",
      "_view_count": null,
      "_view_module": "@jupyter-widgets/base",
      "_view_module_version": "1.2.0",
      "_view_name": "LayoutView",
      "align_content": null,
      "align_items": null,
      "align_self": null,
      "border": null,
      "bottom": null,
      "display": null,
      "flex": null,
      "flex_flow": null,
      "grid_area": null,
      "grid_auto_columns": null,
      "grid_auto_flow": null,
      "grid_auto_rows": null,
      "grid_column": null,
      "grid_gap": null,
      "grid_row": null,
      "grid_template_areas": null,
      "grid_template_columns": null,
      "grid_template_rows": null,
      "height": null,
      "justify_content": null,
      "justify_items": null,
      "left": null,
      "margin": null,
      "max_height": null,
      "max_width": null,
      "min_height": null,
      "min_width": null,
      "object_fit": null,
      "object_position": null,
      "order": null,
      "overflow": null,
      "overflow_x": null,
      "overflow_y": null,
      "padding": null,
      "right": null,
      "top": null,
      "visibility": null,
      "width": null
     }
    },
    "8b527b02c93548ca90e24dc66472946a": {
     "model_module": "@jupyter-widgets/controls",
     "model_module_version": "1.5.0",
     "model_name": "ProgressStyleModel",
     "state": {
      "_model_module": "@jupyter-widgets/controls",
      "_model_module_version": "1.5.0",
      "_model_name": "ProgressStyleModel",
      "_view_count": null,
      "_view_module": "@jupyter-widgets/base",
      "_view_module_version": "1.2.0",
      "_view_name": "StyleView",
      "bar_color": null,
      "description_width": ""
     }
    },
    "8bb1ffe9603c4f92acd81a8e928d52ab": {
     "model_module": "@jupyter-widgets/controls",
     "model_module_version": "1.5.0",
     "model_name": "FloatProgressModel",
     "state": {
      "_dom_classes": [],
      "_model_module": "@jupyter-widgets/controls",
      "_model_module_version": "1.5.0",
      "_model_name": "FloatProgressModel",
      "_view_count": null,
      "_view_module": "@jupyter-widgets/controls",
      "_view_module_version": "1.5.0",
      "_view_name": "ProgressView",
      "bar_style": "success",
      "description": "",
      "description_tooltip": null,
      "layout": "IPY_MODEL_6080fda01a724949ba27ef3aec3f2c18",
      "max": 254410930,
      "min": 0,
      "orientation": "horizontal",
      "style": "IPY_MODEL_01ad44a28f45440d9502e6694299a0b1",
      "value": 254410930
     }
    },
    "9327175d189941d9a0a337e4445a82b8": {
     "model_module": "@jupyter-widgets/base",
     "model_module_version": "1.2.0",
     "model_name": "LayoutModel",
     "state": {
      "_model_module": "@jupyter-widgets/base",
      "_model_module_version": "1.2.0",
      "_model_name": "LayoutModel",
      "_view_count": null,
      "_view_module": "@jupyter-widgets/base",
      "_view_module_version": "1.2.0",
      "_view_name": "LayoutView",
      "align_content": null,
      "align_items": null,
      "align_self": null,
      "border": null,
      "bottom": null,
      "display": null,
      "flex": null,
      "flex_flow": null,
      "grid_area": null,
      "grid_auto_columns": null,
      "grid_auto_flow": null,
      "grid_auto_rows": null,
      "grid_column": null,
      "grid_gap": null,
      "grid_row": null,
      "grid_template_areas": null,
      "grid_template_columns": null,
      "grid_template_rows": null,
      "height": null,
      "justify_content": null,
      "justify_items": null,
      "left": null,
      "margin": null,
      "max_height": null,
      "max_width": null,
      "min_height": null,
      "min_width": null,
      "object_fit": null,
      "object_position": null,
      "order": null,
      "overflow": null,
      "overflow_x": null,
      "overflow_y": null,
      "padding": null,
      "right": null,
      "top": null,
      "visibility": null,
      "width": null
     }
    },
    "97fae36081744dd4a057486fa6e7ee21": {
     "model_module": "@jupyter-widgets/controls",
     "model_module_version": "1.5.0",
     "model_name": "FloatProgressModel",
     "state": {
      "_dom_classes": [],
      "_model_module": "@jupyter-widgets/controls",
      "_model_module_version": "1.5.0",
      "_model_name": "FloatProgressModel",
      "_view_count": null,
      "_view_module": "@jupyter-widgets/controls",
      "_view_module_version": "1.5.0",
      "_view_name": "ProgressView",
      "bar_style": "success",
      "description": "",
      "description_tooltip": null,
      "layout": "IPY_MODEL_cb470708cf7f49fb85264d128a2774a6",
      "max": 400000,
      "min": 0,
      "orientation": "horizontal",
      "style": "IPY_MODEL_6c660aa324404832a10864696efedc54",
      "value": 400000
     }
    },
    "9c3895f777fb4ec38a722424aa343e6f": {
     "model_module": "@jupyter-widgets/controls",
     "model_module_version": "1.5.0",
     "model_name": "ProgressStyleModel",
     "state": {
      "_model_module": "@jupyter-widgets/controls",
      "_model_module_version": "1.5.0",
      "_model_name": "ProgressStyleModel",
      "_view_count": null,
      "_view_module": "@jupyter-widgets/base",
      "_view_module_version": "1.2.0",
      "_view_name": "StyleView",
      "bar_color": null,
      "description_width": ""
     }
    },
    "9f3612475b4b4e9ea52e53a87a3b2517": {
     "model_module": "@jupyter-widgets/controls",
     "model_module_version": "1.5.0",
     "model_name": "FloatProgressModel",
     "state": {
      "_dom_classes": [],
      "_model_module": "@jupyter-widgets/controls",
      "_model_module_version": "1.5.0",
      "_model_name": "FloatProgressModel",
      "_view_count": null,
      "_view_module": "@jupyter-widgets/controls",
      "_view_module_version": "1.5.0",
      "_view_name": "ProgressView",
      "bar_style": "success",
      "description": "",
      "description_tooltip": null,
      "layout": "IPY_MODEL_df466336992c403fbd7671223524e04b",
      "max": 258363554,
      "min": 0,
      "orientation": "horizontal",
      "style": "IPY_MODEL_78db20d85b5649e4a59cb5de8975c6cf",
      "value": 258363554
     }
    },
    "a562914629344bc8a0675c35561ead29": {
     "model_module": "@jupyter-widgets/controls",
     "model_module_version": "1.5.0",
     "model_name": "HTMLModel",
     "state": {
      "_dom_classes": [],
      "_model_module": "@jupyter-widgets/controls",
      "_model_module_version": "1.5.0",
      "_model_name": "HTMLModel",
      "_view_count": null,
      "_view_module": "@jupyter-widgets/controls",
      "_view_module_version": "1.5.0",
      "_view_name": "HTMLView",
      "description": "",
      "description_tooltip": null,
      "layout": "IPY_MODEL_ae5ed03dfda6492ba856935876d2a5ee",
      "placeholder": "​",
      "style": "IPY_MODEL_382c0b7fc0f04d318242fd063170127d",
      "value": " 6.81k/6.81k [00:00&lt;00:00, 249kB/s]"
     }
    },
    "ac8deed43d6649139b7a2bfe5ebfc5ee": {
     "model_module": "@jupyter-widgets/base",
     "model_module_version": "1.2.0",
     "model_name": "LayoutModel",
     "state": {
      "_model_module": "@jupyter-widgets/base",
      "_model_module_version": "1.2.0",
      "_model_name": "LayoutModel",
      "_view_count": null,
      "_view_module": "@jupyter-widgets/base",
      "_view_module_version": "1.2.0",
      "_view_name": "LayoutView",
      "align_content": null,
      "align_items": null,
      "align_self": null,
      "border": null,
      "bottom": null,
      "display": null,
      "flex": null,
      "flex_flow": null,
      "grid_area": null,
      "grid_auto_columns": null,
      "grid_auto_flow": null,
      "grid_auto_rows": null,
      "grid_column": null,
      "grid_gap": null,
      "grid_row": null,
      "grid_template_areas": null,
      "grid_template_columns": null,
      "grid_template_rows": null,
      "height": null,
      "justify_content": null,
      "justify_items": null,
      "left": null,
      "margin": null,
      "max_height": null,
      "max_width": null,
      "min_height": null,
      "min_width": null,
      "object_fit": null,
      "object_position": null,
      "order": null,
      "overflow": null,
      "overflow_x": null,
      "overflow_y": null,
      "padding": null,
      "right": null,
      "top": null,
      "visibility": null,
      "width": null
     }
    },
    "ae5ed03dfda6492ba856935876d2a5ee": {
     "model_module": "@jupyter-widgets/base",
     "model_module_version": "1.2.0",
     "model_name": "LayoutModel",
     "state": {
      "_model_module": "@jupyter-widgets/base",
      "_model_module_version": "1.2.0",
      "_model_name": "LayoutModel",
      "_view_count": null,
      "_view_module": "@jupyter-widgets/base",
      "_view_module_version": "1.2.0",
      "_view_name": "LayoutView",
      "align_content": null,
      "align_items": null,
      "align_self": null,
      "border": null,
      "bottom": null,
      "display": null,
      "flex": null,
      "flex_flow": null,
      "grid_area": null,
      "grid_auto_columns": null,
      "grid_auto_flow": null,
      "grid_auto_rows": null,
      "grid_column": null,
      "grid_gap": null,
      "grid_row": null,
      "grid_template_areas": null,
      "grid_template_columns": null,
      "grid_template_rows": null,
      "height": null,
      "justify_content": null,
      "justify_items": null,
      "left": null,
      "margin": null,
      "max_height": null,
      "max_width": null,
      "min_height": null,
      "min_width": null,
      "object_fit": null,
      "object_position": null,
      "order": null,
      "overflow": null,
      "overflow_x": null,
      "overflow_y": null,
      "padding": null,
      "right": null,
      "top": null,
      "visibility": null,
      "width": null
     }
    },
    "b21dd54548e64d6b967e3af98c9a0098": {
     "model_module": "@jupyter-widgets/base",
     "model_module_version": "1.2.0",
     "model_name": "LayoutModel",
     "state": {
      "_model_module": "@jupyter-widgets/base",
      "_model_module_version": "1.2.0",
      "_model_name": "LayoutModel",
      "_view_count": null,
      "_view_module": "@jupyter-widgets/base",
      "_view_module_version": "1.2.0",
      "_view_name": "LayoutView",
      "align_content": null,
      "align_items": null,
      "align_self": null,
      "border": null,
      "bottom": null,
      "display": null,
      "flex": null,
      "flex_flow": null,
      "grid_area": null,
      "grid_auto_columns": null,
      "grid_auto_flow": null,
      "grid_auto_rows": null,
      "grid_column": null,
      "grid_gap": null,
      "grid_row": null,
      "grid_template_areas": null,
      "grid_template_columns": null,
      "grid_template_rows": null,
      "height": null,
      "justify_content": null,
      "justify_items": null,
      "left": null,
      "margin": null,
      "max_height": null,
      "max_width": null,
      "min_height": null,
      "min_width": null,
      "object_fit": null,
      "object_position": null,
      "order": null,
      "overflow": null,
      "overflow_x": null,
      "overflow_y": null,
      "padding": null,
      "right": null,
      "top": null,
      "visibility": null,
      "width": null
     }
    },
    "b4bea9ace4f24e7689c6c9b8dc4c3b95": {
     "model_module": "@jupyter-widgets/base",
     "model_module_version": "1.2.0",
     "model_name": "LayoutModel",
     "state": {
      "_model_module": "@jupyter-widgets/base",
      "_model_module_version": "1.2.0",
      "_model_name": "LayoutModel",
      "_view_count": null,
      "_view_module": "@jupyter-widgets/base",
      "_view_module_version": "1.2.0",
      "_view_name": "LayoutView",
      "align_content": null,
      "align_items": null,
      "align_self": null,
      "border": null,
      "bottom": null,
      "display": null,
      "flex": null,
      "flex_flow": null,
      "grid_area": null,
      "grid_auto_columns": null,
      "grid_auto_flow": null,
      "grid_auto_rows": null,
      "grid_column": null,
      "grid_gap": null,
      "grid_row": null,
      "grid_template_areas": null,
      "grid_template_columns": null,
      "grid_template_rows": null,
      "height": null,
      "justify_content": null,
      "justify_items": null,
      "left": null,
      "margin": null,
      "max_height": null,
      "max_width": null,
      "min_height": null,
      "min_width": null,
      "object_fit": null,
      "object_position": null,
      "order": null,
      "overflow": null,
      "overflow_x": null,
      "overflow_y": null,
      "padding": null,
      "right": null,
      "top": null,
      "visibility": null,
      "width": null
     }
    },
    "b8042c1ba431497ba200c436fe9d08c3": {
     "model_module": "@jupyter-widgets/controls",
     "model_module_version": "1.5.0",
     "model_name": "HBoxModel",
     "state": {
      "_dom_classes": [],
      "_model_module": "@jupyter-widgets/controls",
      "_model_module_version": "1.5.0",
      "_model_name": "HBoxModel",
      "_view_count": null,
      "_view_module": "@jupyter-widgets/controls",
      "_view_module_version": "1.5.0",
      "_view_name": "HBoxView",
      "box_style": "",
      "children": [
       "IPY_MODEL_81098438a0c247d6abca9d8af75f325d",
       "IPY_MODEL_dc665a86db334f268a2c71cdff63c3e7",
       "IPY_MODEL_d89754a8dcf04768b3fc65a1c7b78302"
      ],
      "layout": "IPY_MODEL_3f9fb92642d047128788341920e9f401"
     }
    },
    "b80d2b3ccf964f939e5733cfa07af953": {
     "model_module": "@jupyter-widgets/controls",
     "model_module_version": "1.5.0",
     "model_name": "DescriptionStyleModel",
     "state": {
      "_model_module": "@jupyter-widgets/controls",
      "_model_module_version": "1.5.0",
      "_model_name": "DescriptionStyleModel",
      "_view_count": null,
      "_view_module": "@jupyter-widgets/base",
      "_view_module_version": "1.2.0",
      "_view_name": "StyleView",
      "description_width": ""
     }
    },
    "b8e1d6498c7e456da5bf392380c6fbc7": {
     "model_module": "@jupyter-widgets/controls",
     "model_module_version": "1.5.0",
     "model_name": "DescriptionStyleModel",
     "state": {
      "_model_module": "@jupyter-widgets/controls",
      "_model_module_version": "1.5.0",
      "_model_name": "DescriptionStyleModel",
      "_view_count": null,
      "_view_module": "@jupyter-widgets/base",
      "_view_module_version": "1.2.0",
      "_view_name": "StyleView",
      "description_width": ""
     }
    },
    "bc8541f090124602a69004b01de3f01c": {
     "model_module": "@jupyter-widgets/base",
     "model_module_version": "1.2.0",
     "model_name": "LayoutModel",
     "state": {
      "_model_module": "@jupyter-widgets/base",
      "_model_module_version": "1.2.0",
      "_model_name": "LayoutModel",
      "_view_count": null,
      "_view_module": "@jupyter-widgets/base",
      "_view_module_version": "1.2.0",
      "_view_name": "LayoutView",
      "align_content": null,
      "align_items": null,
      "align_self": null,
      "border": null,
      "bottom": null,
      "display": null,
      "flex": null,
      "flex_flow": null,
      "grid_area": null,
      "grid_auto_columns": null,
      "grid_auto_flow": null,
      "grid_auto_rows": null,
      "grid_column": null,
      "grid_gap": null,
      "grid_row": null,
      "grid_template_areas": null,
      "grid_template_columns": null,
      "grid_template_rows": null,
      "height": null,
      "justify_content": null,
      "justify_items": null,
      "left": null,
      "margin": null,
      "max_height": null,
      "max_width": null,
      "min_height": null,
      "min_width": null,
      "object_fit": null,
      "object_position": null,
      "order": null,
      "overflow": null,
      "overflow_x": null,
      "overflow_y": null,
      "padding": null,
      "right": null,
      "top": null,
      "visibility": null,
      "width": null
     }
    },
    "bd23b265c11746e585ee1a6dc1983d28": {
     "model_module": "@jupyter-widgets/base",
     "model_module_version": "1.2.0",
     "model_name": "LayoutModel",
     "state": {
      "_model_module": "@jupyter-widgets/base",
      "_model_module_version": "1.2.0",
      "_model_name": "LayoutModel",
      "_view_count": null,
      "_view_module": "@jupyter-widgets/base",
      "_view_module_version": "1.2.0",
      "_view_name": "LayoutView",
      "align_content": null,
      "align_items": null,
      "align_self": null,
      "border": null,
      "bottom": null,
      "display": null,
      "flex": null,
      "flex_flow": null,
      "grid_area": null,
      "grid_auto_columns": null,
      "grid_auto_flow": null,
      "grid_auto_rows": null,
      "grid_column": null,
      "grid_gap": null,
      "grid_row": null,
      "grid_template_areas": null,
      "grid_template_columns": null,
      "grid_template_rows": null,
      "height": null,
      "justify_content": null,
      "justify_items": null,
      "left": null,
      "margin": null,
      "max_height": null,
      "max_width": null,
      "min_height": null,
      "min_width": null,
      "object_fit": null,
      "object_position": null,
      "order": null,
      "overflow": null,
      "overflow_x": null,
      "overflow_y": null,
      "padding": null,
      "right": null,
      "top": null,
      "visibility": null,
      "width": null
     }
    },
    "bf2bd31d005b493db640394a00b64567": {
     "model_module": "@jupyter-widgets/controls",
     "model_module_version": "1.5.0",
     "model_name": "HBoxModel",
     "state": {
      "_dom_classes": [],
      "_model_module": "@jupyter-widgets/controls",
      "_model_module_version": "1.5.0",
      "_model_name": "HBoxModel",
      "_view_count": null,
      "_view_module": "@jupyter-widgets/controls",
      "_view_module_version": "1.5.0",
      "_view_name": "HBoxView",
      "box_style": "",
      "children": [
       "IPY_MODEL_401b729126e34d44a6b7b6691cd8dff7",
       "IPY_MODEL_8bb1ffe9603c4f92acd81a8e928d52ab",
       "IPY_MODEL_81407708ed514cc99ebdb95d242c6782"
      ],
      "layout": "IPY_MODEL_03d9ca69814c4af5b1c6b3edb1688801"
     }
    },
    "c46c20a83b6647bb9fe1cbd3ee75f693": {
     "model_module": "@jupyter-widgets/controls",
     "model_module_version": "1.5.0",
     "model_name": "HBoxModel",
     "state": {
      "_dom_classes": [],
      "_model_module": "@jupyter-widgets/controls",
      "_model_module_version": "1.5.0",
      "_model_name": "HBoxModel",
      "_view_count": null,
      "_view_module": "@jupyter-widgets/controls",
      "_view_module_version": "1.5.0",
      "_view_name": "HBoxView",
      "box_style": "",
      "children": [
       "IPY_MODEL_7391e8db628b46a098a9fa4bf367af8d",
       "IPY_MODEL_70b94e3bb7eb4788a418e402303ea66b",
       "IPY_MODEL_a562914629344bc8a0675c35561ead29"
      ],
      "layout": "IPY_MODEL_cb30e687b6bc4b61a9abbe786d6c3e0d"
     }
    },
    "c980177dfb0347e1a26dc49b7ef27bd4": {
     "model_module": "@jupyter-widgets/controls",
     "model_module_version": "1.5.0",
     "model_name": "ProgressStyleModel",
     "state": {
      "_model_module": "@jupyter-widgets/controls",
      "_model_module_version": "1.5.0",
      "_model_name": "ProgressStyleModel",
      "_view_count": null,
      "_view_module": "@jupyter-widgets/base",
      "_view_module_version": "1.2.0",
      "_view_name": "StyleView",
      "bar_color": null,
      "description_width": ""
     }
    },
    "ca239156d2e04ffc86f00f2877c890c1": {
     "model_module": "@jupyter-widgets/controls",
     "model_module_version": "1.5.0",
     "model_name": "DescriptionStyleModel",
     "state": {
      "_model_module": "@jupyter-widgets/controls",
      "_model_module_version": "1.5.0",
      "_model_name": "DescriptionStyleModel",
      "_view_count": null,
      "_view_module": "@jupyter-widgets/base",
      "_view_module_version": "1.2.0",
      "_view_name": "StyleView",
      "description_width": ""
     }
    },
    "cb30e687b6bc4b61a9abbe786d6c3e0d": {
     "model_module": "@jupyter-widgets/base",
     "model_module_version": "1.2.0",
     "model_name": "LayoutModel",
     "state": {
      "_model_module": "@jupyter-widgets/base",
      "_model_module_version": "1.2.0",
      "_model_name": "LayoutModel",
      "_view_count": null,
      "_view_module": "@jupyter-widgets/base",
      "_view_module_version": "1.2.0",
      "_view_name": "LayoutView",
      "align_content": null,
      "align_items": null,
      "align_self": null,
      "border": null,
      "bottom": null,
      "display": null,
      "flex": null,
      "flex_flow": null,
      "grid_area": null,
      "grid_auto_columns": null,
      "grid_auto_flow": null,
      "grid_auto_rows": null,
      "grid_column": null,
      "grid_gap": null,
      "grid_row": null,
      "grid_template_areas": null,
      "grid_template_columns": null,
      "grid_template_rows": null,
      "height": null,
      "justify_content": null,
      "justify_items": null,
      "left": null,
      "margin": null,
      "max_height": null,
      "max_width": null,
      "min_height": null,
      "min_width": null,
      "object_fit": null,
      "object_position": null,
      "order": null,
      "overflow": null,
      "overflow_x": null,
      "overflow_y": null,
      "padding": null,
      "right": null,
      "top": null,
      "visibility": null,
      "width": null
     }
    },
    "cb470708cf7f49fb85264d128a2774a6": {
     "model_module": "@jupyter-widgets/base",
     "model_module_version": "1.2.0",
     "model_name": "LayoutModel",
     "state": {
      "_model_module": "@jupyter-widgets/base",
      "_model_module_version": "1.2.0",
      "_model_name": "LayoutModel",
      "_view_count": null,
      "_view_module": "@jupyter-widgets/base",
      "_view_module_version": "1.2.0",
      "_view_name": "LayoutView",
      "align_content": null,
      "align_items": null,
      "align_self": null,
      "border": null,
      "bottom": null,
      "display": null,
      "flex": null,
      "flex_flow": null,
      "grid_area": null,
      "grid_auto_columns": null,
      "grid_auto_flow": null,
      "grid_auto_rows": null,
      "grid_column": null,
      "grid_gap": null,
      "grid_row": null,
      "grid_template_areas": null,
      "grid_template_columns": null,
      "grid_template_rows": null,
      "height": null,
      "justify_content": null,
      "justify_items": null,
      "left": null,
      "margin": null,
      "max_height": null,
      "max_width": null,
      "min_height": null,
      "min_width": null,
      "object_fit": null,
      "object_position": null,
      "order": null,
      "overflow": null,
      "overflow_x": null,
      "overflow_y": null,
      "padding": null,
      "right": null,
      "top": null,
      "visibility": null,
      "width": null
     }
    },
    "cd41726b1b4c49fbbab9e2e7bd0f061a": {
     "model_module": "@jupyter-widgets/controls",
     "model_module_version": "1.5.0",
     "model_name": "DescriptionStyleModel",
     "state": {
      "_model_module": "@jupyter-widgets/controls",
      "_model_module_version": "1.5.0",
      "_model_name": "DescriptionStyleModel",
      "_view_count": null,
      "_view_module": "@jupyter-widgets/base",
      "_view_module_version": "1.2.0",
      "_view_name": "StyleView",
      "description_width": ""
     }
    },
    "d0c977896d7e4cf7a00e70f7cb1b9cf7": {
     "model_module": "@jupyter-widgets/controls",
     "model_module_version": "1.5.0",
     "model_name": "ProgressStyleModel",
     "state": {
      "_model_module": "@jupyter-widgets/controls",
      "_model_module_version": "1.5.0",
      "_model_name": "ProgressStyleModel",
      "_view_count": null,
      "_view_module": "@jupyter-widgets/base",
      "_view_module_version": "1.2.0",
      "_view_name": "StyleView",
      "bar_color": null,
      "description_width": ""
     }
    },
    "d78e2d43593b465f871c983bd6a731bf": {
     "model_module": "@jupyter-widgets/controls",
     "model_module_version": "1.5.0",
     "model_name": "DescriptionStyleModel",
     "state": {
      "_model_module": "@jupyter-widgets/controls",
      "_model_module_version": "1.5.0",
      "_model_name": "DescriptionStyleModel",
      "_view_count": null,
      "_view_module": "@jupyter-widgets/base",
      "_view_module_version": "1.2.0",
      "_view_name": "StyleView",
      "description_width": ""
     }
    },
    "d89754a8dcf04768b3fc65a1c7b78302": {
     "model_module": "@jupyter-widgets/controls",
     "model_module_version": "1.5.0",
     "model_name": "HTMLModel",
     "state": {
      "_dom_classes": [],
      "_model_module": "@jupyter-widgets/controls",
      "_model_module_version": "1.5.0",
      "_model_name": "HTMLModel",
      "_view_count": null,
      "_view_module": "@jupyter-widgets/controls",
      "_view_module_version": "1.5.0",
      "_view_name": "HTMLView",
      "description": "",
      "description_tooltip": null,
      "layout": "IPY_MODEL_b21dd54548e64d6b967e3af98c9a0098",
      "placeholder": "​",
      "style": "IPY_MODEL_1a0c386fd4ff49a0a9d1745551845c0b",
      "value": " 255M/255M [00:05&lt;00:00, 55.0MB/s]"
     }
    },
    "daa5ef22f2cf4d779033ba312ac051e1": {
     "model_module": "@jupyter-widgets/base",
     "model_module_version": "1.2.0",
     "model_name": "LayoutModel",
     "state": {
      "_model_module": "@jupyter-widgets/base",
      "_model_module_version": "1.2.0",
      "_model_name": "LayoutModel",
      "_view_count": null,
      "_view_module": "@jupyter-widgets/base",
      "_view_module_version": "1.2.0",
      "_view_name": "LayoutView",
      "align_content": null,
      "align_items": null,
      "align_self": null,
      "border": null,
      "bottom": null,
      "display": null,
      "flex": null,
      "flex_flow": null,
      "grid_area": null,
      "grid_auto_columns": null,
      "grid_auto_flow": null,
      "grid_auto_rows": null,
      "grid_column": null,
      "grid_gap": null,
      "grid_row": null,
      "grid_template_areas": null,
      "grid_template_columns": null,
      "grid_template_rows": null,
      "height": null,
      "justify_content": null,
      "justify_items": null,
      "left": null,
      "margin": null,
      "max_height": null,
      "max_width": null,
      "min_height": null,
      "min_width": null,
      "object_fit": null,
      "object_position": null,
      "order": null,
      "overflow": null,
      "overflow_x": null,
      "overflow_y": null,
      "padding": null,
      "right": null,
      "top": null,
      "visibility": null,
      "width": null
     }
    },
    "db2b7003ed174c128f7da1a180314f8d": {
     "model_module": "@jupyter-widgets/controls",
     "model_module_version": "1.5.0",
     "model_name": "HBoxModel",
     "state": {
      "_dom_classes": [],
      "_model_module": "@jupyter-widgets/controls",
      "_model_module_version": "1.5.0",
      "_model_name": "HBoxModel",
      "_view_count": null,
      "_view_module": "@jupyter-widgets/controls",
      "_view_module_version": "1.5.0",
      "_view_name": "HBoxView",
      "box_style": "",
      "children": [
       "IPY_MODEL_07c38a5343104df392666f096df9b1b4",
       "IPY_MODEL_234ea4aa5e934140ab978d36ff1b4ac7",
       "IPY_MODEL_24029d275256499a833b3fa72492c425"
      ],
      "layout": "IPY_MODEL_45d4603c5ed44608803db839159df344"
     }
    },
    "dc665a86db334f268a2c71cdff63c3e7": {
     "model_module": "@jupyter-widgets/controls",
     "model_module_version": "1.5.0",
     "model_name": "FloatProgressModel",
     "state": {
      "_dom_classes": [],
      "_model_module": "@jupyter-widgets/controls",
      "_model_module_version": "1.5.0",
      "_model_name": "FloatProgressModel",
      "_view_count": null,
      "_view_module": "@jupyter-widgets/controls",
      "_view_module_version": "1.5.0",
      "_view_name": "ProgressView",
      "bar_style": "success",
      "description": "",
      "description_tooltip": null,
      "layout": "IPY_MODEL_141903261c794ed6b4628e2e581ac5c4",
      "max": 255471883,
      "min": 0,
      "orientation": "horizontal",
      "style": "IPY_MODEL_0c2a431694324acfab97bd9b58484a00",
      "value": 255471883
     }
    },
    "dd964f3782474985b6a03d14cd295b0f": {
     "model_module": "@jupyter-widgets/controls",
     "model_module_version": "1.5.0",
     "model_name": "DescriptionStyleModel",
     "state": {
      "_model_module": "@jupyter-widgets/controls",
      "_model_module_version": "1.5.0",
      "_model_name": "DescriptionStyleModel",
      "_view_count": null,
      "_view_module": "@jupyter-widgets/base",
      "_view_module_version": "1.2.0",
      "_view_name": "StyleView",
      "description_width": ""
     }
    },
    "df466336992c403fbd7671223524e04b": {
     "model_module": "@jupyter-widgets/base",
     "model_module_version": "1.2.0",
     "model_name": "LayoutModel",
     "state": {
      "_model_module": "@jupyter-widgets/base",
      "_model_module_version": "1.2.0",
      "_model_name": "LayoutModel",
      "_view_count": null,
      "_view_module": "@jupyter-widgets/base",
      "_view_module_version": "1.2.0",
      "_view_name": "LayoutView",
      "align_content": null,
      "align_items": null,
      "align_self": null,
      "border": null,
      "bottom": null,
      "display": null,
      "flex": null,
      "flex_flow": null,
      "grid_area": null,
      "grid_auto_columns": null,
      "grid_auto_flow": null,
      "grid_auto_rows": null,
      "grid_column": null,
      "grid_gap": null,
      "grid_row": null,
      "grid_template_areas": null,
      "grid_template_columns": null,
      "grid_template_rows": null,
      "height": null,
      "justify_content": null,
      "justify_items": null,
      "left": null,
      "margin": null,
      "max_height": null,
      "max_width": null,
      "min_height": null,
      "min_width": null,
      "object_fit": null,
      "object_position": null,
      "order": null,
      "overflow": null,
      "overflow_x": null,
      "overflow_y": null,
      "padding": null,
      "right": null,
      "top": null,
      "visibility": null,
      "width": null
     }
    },
    "e8379dc372fb416a9211392eaa114738": {
     "model_module": "@jupyter-widgets/controls",
     "model_module_version": "1.5.0",
     "model_name": "HBoxModel",
     "state": {
      "_dom_classes": [],
      "_model_module": "@jupyter-widgets/controls",
      "_model_module_version": "1.5.0",
      "_model_name": "HBoxModel",
      "_view_count": null,
      "_view_module": "@jupyter-widgets/controls",
      "_view_module_version": "1.5.0",
      "_view_name": "HBoxView",
      "box_style": "",
      "children": [
       "IPY_MODEL_5c43d23ba8ec46669b04dd7403413ee3",
       "IPY_MODEL_97fae36081744dd4a057486fa6e7ee21",
       "IPY_MODEL_f0e18b5f090c42d492b6647c32953f5d"
      ],
      "layout": "IPY_MODEL_36dfc93d23ca4c6b920007f0e9a994e2"
     }
    },
    "ec1d7277df034e14aefd9ae23c6c6407": {
     "model_module": "@jupyter-widgets/controls",
     "model_module_version": "1.5.0",
     "model_name": "DescriptionStyleModel",
     "state": {
      "_model_module": "@jupyter-widgets/controls",
      "_model_module_version": "1.5.0",
      "_model_name": "DescriptionStyleModel",
      "_view_count": null,
      "_view_module": "@jupyter-widgets/base",
      "_view_module_version": "1.2.0",
      "_view_name": "StyleView",
      "description_width": ""
     }
    },
    "eea8686a1c8845b5af6a0594c08fc8cf": {
     "model_module": "@jupyter-widgets/controls",
     "model_module_version": "1.5.0",
     "model_name": "HTMLModel",
     "state": {
      "_dom_classes": [],
      "_model_module": "@jupyter-widgets/controls",
      "_model_module_version": "1.5.0",
      "_model_name": "HTMLModel",
      "_view_count": null,
      "_view_module": "@jupyter-widgets/controls",
      "_view_module_version": "1.5.0",
      "_view_name": "HTMLView",
      "description": "",
      "description_tooltip": null,
      "layout": "IPY_MODEL_76b0bae3b2034bdda3c2307636a02174",
      "placeholder": "​",
      "style": "IPY_MODEL_7a845e4fe1eb4427b5c3b161e0b6ab45",
      "value": "Downloading data: 100%"
     }
    },
    "f0e18b5f090c42d492b6647c32953f5d": {
     "model_module": "@jupyter-widgets/controls",
     "model_module_version": "1.5.0",
     "model_name": "HTMLModel",
     "state": {
      "_dom_classes": [],
      "_model_module": "@jupyter-widgets/controls",
      "_model_module_version": "1.5.0",
      "_model_name": "HTMLModel",
      "_view_count": null,
      "_view_module": "@jupyter-widgets/controls",
      "_view_module_version": "1.5.0",
      "_view_name": "HTMLView",
      "description": "",
      "description_tooltip": null,
      "layout": "IPY_MODEL_9327175d189941d9a0a337e4445a82b8",
      "placeholder": "​",
      "style": "IPY_MODEL_d78e2d43593b465f871c983bd6a731bf",
      "value": " 400000/400000 [00:01&lt;00:00, 286270.79 examples/s]"
     }
    },
    "f53f1b8d89224dbd9700e61a88b5ce23": {
     "model_module": "@jupyter-widgets/base",
     "model_module_version": "1.2.0",
     "model_name": "LayoutModel",
     "state": {
      "_model_module": "@jupyter-widgets/base",
      "_model_module_version": "1.2.0",
      "_model_name": "LayoutModel",
      "_view_count": null,
      "_view_module": "@jupyter-widgets/base",
      "_view_module_version": "1.2.0",
      "_view_name": "LayoutView",
      "align_content": null,
      "align_items": null,
      "align_self": null,
      "border": null,
      "bottom": null,
      "display": null,
      "flex": null,
      "flex_flow": null,
      "grid_area": null,
      "grid_auto_columns": null,
      "grid_auto_flow": null,
      "grid_auto_rows": null,
      "grid_column": null,
      "grid_gap": null,
      "grid_row": null,
      "grid_template_areas": null,
      "grid_template_columns": null,
      "grid_template_rows": null,
      "height": null,
      "justify_content": null,
      "justify_items": null,
      "left": null,
      "margin": null,
      "max_height": null,
      "max_width": null,
      "min_height": null,
      "min_width": null,
      "object_fit": null,
      "object_position": null,
      "order": null,
      "overflow": null,
      "overflow_x": null,
      "overflow_y": null,
      "padding": null,
      "right": null,
      "top": null,
      "visibility": null,
      "width": null
     }
    },
    "fa4d8462351444e09167e838f0d96c4f": {
     "model_module": "@jupyter-widgets/controls",
     "model_module_version": "1.5.0",
     "model_name": "DescriptionStyleModel",
     "state": {
      "_model_module": "@jupyter-widgets/controls",
      "_model_module_version": "1.5.0",
      "_model_name": "DescriptionStyleModel",
      "_view_count": null,
      "_view_module": "@jupyter-widgets/base",
      "_view_module_version": "1.2.0",
      "_view_name": "StyleView",
      "description_width": ""
     }
    },
    "fa86023d4f5d49e58ac584feb422d89e": {
     "model_module": "@jupyter-widgets/base",
     "model_module_version": "1.2.0",
     "model_name": "LayoutModel",
     "state": {
      "_model_module": "@jupyter-widgets/base",
      "_model_module_version": "1.2.0",
      "_model_name": "LayoutModel",
      "_view_count": null,
      "_view_module": "@jupyter-widgets/base",
      "_view_module_version": "1.2.0",
      "_view_name": "LayoutView",
      "align_content": null,
      "align_items": null,
      "align_self": null,
      "border": null,
      "bottom": null,
      "display": null,
      "flex": null,
      "flex_flow": null,
      "grid_area": null,
      "grid_auto_columns": null,
      "grid_auto_flow": null,
      "grid_auto_rows": null,
      "grid_column": null,
      "grid_gap": null,
      "grid_row": null,
      "grid_template_areas": null,
      "grid_template_columns": null,
      "grid_template_rows": null,
      "height": null,
      "justify_content": null,
      "justify_items": null,
      "left": null,
      "margin": null,
      "max_height": null,
      "max_width": null,
      "min_height": null,
      "min_width": null,
      "object_fit": null,
      "object_position": null,
      "order": null,
      "overflow": null,
      "overflow_x": null,
      "overflow_y": null,
      "padding": null,
      "right": null,
      "top": null,
      "visibility": null,
      "width": null
     }
    },
    "fc4b638ce16d4249a8ae1ab43480af2f": {
     "model_module": "@jupyter-widgets/base",
     "model_module_version": "1.2.0",
     "model_name": "LayoutModel",
     "state": {
      "_model_module": "@jupyter-widgets/base",
      "_model_module_version": "1.2.0",
      "_model_name": "LayoutModel",
      "_view_count": null,
      "_view_module": "@jupyter-widgets/base",
      "_view_module_version": "1.2.0",
      "_view_name": "LayoutView",
      "align_content": null,
      "align_items": null,
      "align_self": null,
      "border": null,
      "bottom": null,
      "display": null,
      "flex": null,
      "flex_flow": null,
      "grid_area": null,
      "grid_auto_columns": null,
      "grid_auto_flow": null,
      "grid_auto_rows": null,
      "grid_column": null,
      "grid_gap": null,
      "grid_row": null,
      "grid_template_areas": null,
      "grid_template_columns": null,
      "grid_template_rows": null,
      "height": null,
      "justify_content": null,
      "justify_items": null,
      "left": null,
      "margin": null,
      "max_height": null,
      "max_width": null,
      "min_height": null,
      "min_width": null,
      "object_fit": null,
      "object_position": null,
      "order": null,
      "overflow": null,
      "overflow_x": null,
      "overflow_y": null,
      "padding": null,
      "right": null,
      "top": null,
      "visibility": null,
      "width": null
     }
    },
    "fd2216681231479da6f1b5d3d600c2ab": {
     "model_module": "@jupyter-widgets/controls",
     "model_module_version": "1.5.0",
     "model_name": "HBoxModel",
     "state": {
      "_dom_classes": [],
      "_model_module": "@jupyter-widgets/controls",
      "_model_module_version": "1.5.0",
      "_model_name": "HBoxModel",
      "_view_count": null,
      "_view_module": "@jupyter-widgets/controls",
      "_view_module_version": "1.5.0",
      "_view_name": "HBoxView",
      "box_style": "",
      "children": [
       "IPY_MODEL_eea8686a1c8845b5af6a0594c08fc8cf",
       "IPY_MODEL_484cafe6e48444b690412c6d5e89e1c1",
       "IPY_MODEL_711b8c69099a410390f5b204762d05dc"
      ],
      "layout": "IPY_MODEL_275cd937152540768373fbed8bb2d803"
     }
    },
    "fd4a0031a7ab46beb11f1e726be993df": {
     "model_module": "@jupyter-widgets/controls",
     "model_module_version": "1.5.0",
     "model_name": "DescriptionStyleModel",
     "state": {
      "_model_module": "@jupyter-widgets/controls",
      "_model_module_version": "1.5.0",
      "_model_name": "DescriptionStyleModel",
      "_view_count": null,
      "_view_module": "@jupyter-widgets/base",
      "_view_module_version": "1.2.0",
      "_view_name": "StyleView",
      "description_width": ""
     }
    },
    "ff8c1785394d4d71ac373bcbbdd294b7": {
     "model_module": "@jupyter-widgets/base",
     "model_module_version": "1.2.0",
     "model_name": "LayoutModel",
     "state": {
      "_model_module": "@jupyter-widgets/base",
      "_model_module_version": "1.2.0",
      "_model_name": "LayoutModel",
      "_view_count": null,
      "_view_module": "@jupyter-widgets/base",
      "_view_module_version": "1.2.0",
      "_view_name": "LayoutView",
      "align_content": null,
      "align_items": null,
      "align_self": null,
      "border": null,
      "bottom": null,
      "display": null,
      "flex": null,
      "flex_flow": null,
      "grid_area": null,
      "grid_auto_columns": null,
      "grid_auto_flow": null,
      "grid_auto_rows": null,
      "grid_column": null,
      "grid_gap": null,
      "grid_row": null,
      "grid_template_areas": null,
      "grid_template_columns": null,
      "grid_template_rows": null,
      "height": null,
      "justify_content": null,
      "justify_items": null,
      "left": null,
      "margin": null,
      "max_height": null,
      "max_width": null,
      "min_height": null,
      "min_width": null,
      "object_fit": null,
      "object_position": null,
      "order": null,
      "overflow": null,
      "overflow_x": null,
      "overflow_y": null,
      "padding": null,
      "right": null,
      "top": null,
      "visibility": null,
      "width": null
     }
    }
   }
  }
 },
 "nbformat": 4,
 "nbformat_minor": 4
}
