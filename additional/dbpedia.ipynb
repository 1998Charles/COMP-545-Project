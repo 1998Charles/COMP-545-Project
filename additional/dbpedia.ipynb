{
 "cells": [
  {
   "cell_type": "code",
   "execution_count": 1,
   "metadata": {
    "id": "iJ_oDrl4Fu7c"
   },
   "outputs": [],
   "source": [
    "import fasttext\n",
    "import pandas as pd\n",
    "from datasets import load_dataset\n",
    "from sklearn.metrics import accuracy_score"
   ]
  },
  {
   "cell_type": "code",
   "execution_count": 2,
   "metadata": {
    "colab": {
     "base_uri": "https://localhost:8080/",
     "height": 475,
     "referenced_widgets": [
      "1c0e2c04e079433b8a032e2756b510d5",
      "e531a90ee5c04bcd9454a2d40265aa15",
      "8b429870d3994cbfbaadd7f256a32417",
      "688a40543df4446183862e933f4247e8",
      "368d8c4b568542679ec12427f555322e",
      "9a6e7f7b79ca43a59dec592dbe1188ff",
      "7a97e0f7e40643e388ac9d7327a9b1e2",
      "33db39ca158a4361aeed0828818f2abe",
      "6b6334d5094147b68b25d2d3fe7d775c",
      "228e2365264142689d5790e2b1f25df6",
      "e140d579eda24fb8be0eab8c7661e7ee",
      "f8c0dce043324536a705e33bf09e4d1b",
      "1b342f01e1ed44bca53507ae4e55bd2a",
      "4db26f188b2241c59c5e48728cf239da",
      "b44638d045fe426fa9d79503ba8c2396",
      "9c7fdc889fdc4cc588631b172a429bc4",
      "8093aab399874e4cafa238bb2449ad49",
      "8059ee21e2714ef3968b495cdd6be695",
      "0f1f209762ca4509926be25901ac8560",
      "a614b6ff30d847b6a51f0127a95fa4ab",
      "6d3043a0c6024ba5b6349fd1761bc05e",
      "704ae1e8611c4f5884f75c6e1ffd2fdd",
      "524925f934f6460dbce7e3fea4753e7d",
      "13a5ee82a62946118a2772ff8c1c691c",
      "96f1b809229c4342ac57041afb832e98",
      "456a62216bb3431285b84db976e0d4e0",
      "52b365f5f33f41e699ae755d8cd80016",
      "87a6f09dcbac46aa8cedfccee930b38f",
      "e6df96be62dc4d508f93831d2a02a118",
      "4d4809c0c5794bb089b906b71ce34825",
      "58cb1d700ba84ec597f06d09af4071cd",
      "8e78b178aa3b48c7a5e7ea9554b8952f",
      "4109c2e1bba744bb9538cad70e60bcc5",
      "ed0150f53e03462ba9ff76e835ece91e",
      "765553fccd9f4ec39117984fa17fbece",
      "278ed79853f44106914f7d56f66c9e46",
      "03fa9451a4af4082893a69795b4bbbe4",
      "9dafbf2255154c2f93a7e99fb4d1406e",
      "d08f2ed84a0146eeb1f90cb59e2c989f",
      "14801640d8c74f1c924e4fb9928f674d",
      "1973fa39802145e790cf219bc2b23e70",
      "1b73ba424c8d40c38eb6eb7ac21f87aa",
      "5c23ff0ca8614875935570cc9025a20a",
      "52c4dbb9aaaa4bb4bc8d283283666f27",
      "682744a7e28a4fcf98276c598c1b38b2",
      "3db0fbac9a0f4034be230a7046fc6356",
      "6b72eb9769b24b8fb7d18711511d94de",
      "b5174764bd454d4b886a53c6b63cfc1c",
      "c1ac2a9e9d6a42eca1caffd1e04427ba",
      "f8ec9b2452fa4d3380995d10c422bdab",
      "d8a8a8fc3c81463e811ac3e816391810",
      "102f250af797417bae6b757a2b97a5af",
      "4f4eb27215b54cbbb3a2d745ab03b4f8",
      "d98686341fd749d2bc6660a45fe6c4ed",
      "f92b2199d2914ec19dc58b55a9bf93f3"
     ]
    },
    "id": "ewS9sbPnF0RN",
    "outputId": "58a455cc-c549-4cf3-c8ea-13183956746f"
   },
   "outputs": [
    {
     "name": "stdout",
     "output_type": "stream",
     "text": [
      "DatasetDict({\n",
      "    train: Dataset({\n",
      "        features: ['label', 'title', 'content'],\n",
      "        num_rows: 560000\n",
      "    })\n",
      "    test: Dataset({\n",
      "        features: ['label', 'title', 'content'],\n",
      "        num_rows: 70000\n",
      "    })\n",
      "})\n"
     ]
    }
   ],
   "source": [
    "dbpedia = load_dataset(\"fancyzhx/dbpedia_14\")\n",
    "print(dbpedia)"
   ]
  },
  {
   "cell_type": "code",
   "execution_count": 3,
   "metadata": {
    "colab": {
     "base_uri": "https://localhost:8080/"
    },
    "id": "jQcOmlghFxXy",
    "outputId": "089a454d-961a-4e5c-abf4-f08ff90b2776"
   },
   "outputs": [
    {
     "name": "stdout",
     "output_type": "stream",
     "text": [
      "<class 'list'>\n",
      "<class 'str'>\n",
      "E. D. Abbott Ltd\n",
      "<class 'list'>\n",
      "<class 'str'>\n",
      " Abbott of Farnham E D Abbott Limited was a British coachbuilding business based in Farnham Surrey trading under that name from 1929. A major part of their output was under sub-contract to motor vehicle manufacturers. Their business closed in 1972.\n",
      "<class 'list'>\n",
      "<class 'int'>\n",
      "0\n"
     ]
    }
   ],
   "source": [
    "print(type(dbpedia['train']['title']))\n",
    "print(type(dbpedia['train']['title'][0]))\n",
    "print(dbpedia['train']['title'][0])\n",
    "print(type(dbpedia['train']['content']))\n",
    "print(type(dbpedia['train']['content'][0]))\n",
    "print(dbpedia['train']['content'][0])\n",
    "print(type(dbpedia['train']['label']))\n",
    "print(type(dbpedia['train']['label'][0]))\n",
    "print(dbpedia['train']['label'][0])"
   ]
  },
  {
   "cell_type": "code",
   "execution_count": 4,
   "metadata": {},
   "outputs": [
    {
     "name": "stdout",
     "output_type": "stream",
     "text": [
      "<class 'list'>\n",
      "<class 'str'>\n",
      "TY KU\n",
      "<class 'list'>\n",
      "<class 'str'>\n",
      " TY KU /taɪkuː/ is an American alcoholic beverage company that specializes in sake and other spirits. The privately-held company was founded in 2004 and is headquartered in New York City New York. While based in New York TY KU's beverages are made in Japan through a joint venture with two sake breweries. Since 2011 TY KU's growth has extended its products into all 50 states.\n",
      "<class 'list'>\n",
      "<class 'int'>\n",
      "0\n"
     ]
    }
   ],
   "source": [
    "print(type(dbpedia['test']['title']))\n",
    "print(type(dbpedia['test']['title'][0]))\n",
    "print(dbpedia['test']['title'][0])\n",
    "print(type(dbpedia['test']['content']))\n",
    "print(type(dbpedia['test']['content'][0]))\n",
    "print(dbpedia['test']['content'][0])\n",
    "print(type(dbpedia['test']['label']))\n",
    "print(type(dbpedia['test']['label'][0]))\n",
    "print(dbpedia['test']['label'][0])"
   ]
  },
  {
   "cell_type": "code",
   "execution_count": 5,
   "metadata": {
    "id": "7DbNxatLF2ZB"
   },
   "outputs": [],
   "source": [
    "def print_results(N, p, r):\n",
    "    print(\"N\\t\" + str(N))\n",
    "    print(\"P@{}\\t{:.3f}\".format(1, p))\n",
    "    print(\"R@{}\\t{:.3f}\".format(1, r))"
   ]
  },
  {
   "cell_type": "code",
   "execution_count": 6,
   "metadata": {
    "id": "gkxujTyBF-dQ"
   },
   "outputs": [],
   "source": [
    "dataset = dbpedia"
   ]
  },
  {
   "cell_type": "code",
   "execution_count": 7,
   "metadata": {
    "id": "YWjh2BtoF-uv"
   },
   "outputs": [],
   "source": [
    "titles = dataset['train']['title']\n",
    "contents = dataset['train']['content']\n",
    "train_texts = [str(x) + str(y) for x, y in zip(titles, contents)]\n",
    "train_labels = dataset['train']['label']\n",
    "\n",
    "with open(\"train.txt\", \"w\") as f:\n",
    "    for text, label in zip(train_texts, train_labels):\n",
    "        f.write(f\"__label__{label} {text}\\n\")"
   ]
  },
  {
   "cell_type": "code",
   "execution_count": 8,
   "metadata": {
    "id": "DMpsR0qKGCZ-"
   },
   "outputs": [],
   "source": [
    "titles = dataset['test']['title']\n",
    "contents = dataset['test']['content']\n",
    "test_texts = [str(x) + str(y) for x, y in zip(titles, contents)]\n",
    "test_labels = dataset['test']['label']\n",
    "\n",
    "with open(\"test.txt\", \"w\") as f:\n",
    "    for text, label in zip(test_texts, test_labels):\n",
    "        f.write(f\"__label__{label} {text}\\n\")"
   ]
  },
  {
   "cell_type": "code",
   "execution_count": 9,
   "metadata": {
    "id": "32zGlByyGDvU"
   },
   "outputs": [
    {
     "name": "stdout",
     "output_type": "stream",
     "text": [
      "Training model with lr=0.05, dim=5, epoch=5, and wordNgrams=2\n"
     ]
    },
    {
     "name": "stderr",
     "output_type": "stream",
     "text": [
      "Read 28M words\n",
      "Number of words:  1215996\n",
      "Number of labels: 14\n",
      "Progress: 100.0% words/sec/thread: 1597167 lr:  0.000000 avg.loss:  0.156260 ETA:   0h 0m 0s\n"
     ]
    },
    {
     "name": "stdout",
     "output_type": "stream",
     "text": [
      "N\t70000\n",
      "P@1\t0.921\n",
      "R@1\t0.921\n",
      "\n",
      "Training model with lr=0.05, dim=5, epoch=10, and wordNgrams=2\n"
     ]
    },
    {
     "name": "stderr",
     "output_type": "stream",
     "text": [
      "Read 28M words\n",
      "Number of words:  1215996\n",
      "Number of labels: 14\n",
      "Progress: 100.0% words/sec/thread: 2649609 lr:  0.000000 avg.loss:  0.086260 ETA:   0h 0m 0s\n"
     ]
    },
    {
     "name": "stdout",
     "output_type": "stream",
     "text": [
      "N\t70000\n",
      "P@1\t0.935\n",
      "R@1\t0.935\n",
      "\n",
      "Training model with lr=0.05, dim=5, epoch=15, and wordNgrams=2\n"
     ]
    },
    {
     "name": "stderr",
     "output_type": "stream",
     "text": [
      "Read 28M words\n",
      "Number of words:  1215996\n",
      "Number of labels: 14\n",
      "Progress: 100.0% words/sec/thread:  954730 lr:  0.000000 avg.loss:  0.067610 ETA:   0h 0m 0s\n"
     ]
    },
    {
     "name": "stdout",
     "output_type": "stream",
     "text": [
      "N\t70000\n",
      "P@1\t0.966\n",
      "R@1\t0.966\n",
      "\n",
      "Training model with lr=0.05, dim=5, epoch=5, and wordNgrams=3\n"
     ]
    },
    {
     "name": "stderr",
     "output_type": "stream",
     "text": [
      "Read 28M words\n",
      "Number of words:  1215996\n",
      "Number of labels: 14\n",
      "Progress: 100.0% words/sec/thread:  637022 lr:  0.000000 avg.loss:  0.207897 ETA:   0h 0m 0s\n"
     ]
    },
    {
     "name": "stdout",
     "output_type": "stream",
     "text": [
      "N\t70000\n",
      "P@1\t0.860\n",
      "R@1\t0.860\n",
      "\n",
      "Training model with lr=0.05, dim=5, epoch=10, and wordNgrams=3\n"
     ]
    },
    {
     "name": "stderr",
     "output_type": "stream",
     "text": [
      "Read 28M words\n",
      "Number of words:  1215996\n",
      "Number of labels: 14\n",
      "Progress: 100.0% words/sec/thread:  904443 lr:  0.000000 avg.loss:  0.119198 ETA:   0h 0m 0s 85.0% words/sec/thread:  965786 lr:  0.007525 avg.loss:  0.128023 ETA:   0h 0m 6s\n"
     ]
    },
    {
     "name": "stdout",
     "output_type": "stream",
     "text": [
      "N\t70000\n",
      "P@1\t0.952\n",
      "R@1\t0.952\n",
      "\n",
      "Training model with lr=0.05, dim=5, epoch=15, and wordNgrams=3\n"
     ]
    },
    {
     "name": "stderr",
     "output_type": "stream",
     "text": [
      "Read 28M words\n",
      "Number of words:  1215996\n",
      "Number of labels: 14\n",
      "Progress: 100.0% words/sec/thread:  460200 lr:  0.000000 avg.loss:  0.077405 ETA:   0h 0m 0s 535770 lr:  0.037749 avg.loss:  0.223282 ETA:   0h 1m26s\n"
     ]
    },
    {
     "name": "stdout",
     "output_type": "stream",
     "text": [
      "N\t70000\n",
      "P@1\t0.961\n",
      "R@1\t0.961\n",
      "\n",
      "Training model with lr=0.05, dim=5, epoch=5, and wordNgrams=4\n"
     ]
    },
    {
     "name": "stderr",
     "output_type": "stream",
     "text": [
      "Read 28M words\n",
      "Number of words:  1215996\n",
      "Number of labels: 14\n",
      "Progress: 100.0% words/sec/thread:  420870 lr:  0.000000 avg.loss:  0.229842 ETA:   0h 0m 0s 0s\n"
     ]
    },
    {
     "name": "stdout",
     "output_type": "stream",
     "text": [
      "N\t70000\n",
      "P@1\t0.900\n",
      "R@1\t0.900\n",
      "\n",
      "Training model with lr=0.05, dim=5, epoch=10, and wordNgrams=4\n"
     ]
    },
    {
     "name": "stderr",
     "output_type": "stream",
     "text": [
      "Read 28M words\n",
      "Number of words:  1215996\n",
      "Number of labels: 14\n",
      "Progress: 100.0% words/sec/thread: 1058913 lr:  0.000000 avg.loss:  0.135084 ETA:   0h 0m 0s\n"
     ]
    },
    {
     "name": "stdout",
     "output_type": "stream",
     "text": [
      "N\t70000\n",
      "P@1\t0.952\n",
      "R@1\t0.952\n",
      "\n",
      "Training model with lr=0.05, dim=5, epoch=15, and wordNgrams=4\n"
     ]
    },
    {
     "name": "stderr",
     "output_type": "stream",
     "text": [
      "Read 28M words\n",
      "Number of words:  1215996\n",
      "Number of labels: 14\n",
      "Progress: 100.0% words/sec/thread: 1029476 lr:  0.000000 avg.loss:  0.094708 ETA:   0h 0m 0s\n"
     ]
    },
    {
     "name": "stdout",
     "output_type": "stream",
     "text": [
      "N\t70000\n",
      "P@1\t0.962\n",
      "R@1\t0.962\n",
      "\n",
      "Training model with lr=0.05, dim=5, epoch=5, and wordNgrams=5\n"
     ]
    },
    {
     "name": "stderr",
     "output_type": "stream",
     "text": [
      "Read 28M words\n",
      "Number of words:  1215996\n",
      "Number of labels: 14\n",
      "Progress: 100.0% words/sec/thread:  506201 lr:  0.000000 avg.loss:  0.270034 ETA:   0h 0m 0s\n"
     ]
    },
    {
     "name": "stdout",
     "output_type": "stream",
     "text": [
      "N\t70000\n",
      "P@1\t0.911\n",
      "R@1\t0.911\n",
      "\n",
      "Training model with lr=0.05, dim=5, epoch=10, and wordNgrams=5\n"
     ]
    },
    {
     "name": "stderr",
     "output_type": "stream",
     "text": [
      "Read 28M words\n",
      "Number of words:  1215996\n",
      "Number of labels: 14\n",
      "Progress: 100.0% words/sec/thread:  413415 lr:  0.000000 avg.loss:  0.164249 ETA:   0h 0m 0s\n"
     ]
    },
    {
     "name": "stdout",
     "output_type": "stream",
     "text": [
      "N\t70000\n",
      "P@1\t0.952\n",
      "R@1\t0.952\n",
      "\n",
      "Training model with lr=0.05, dim=5, epoch=15, and wordNgrams=5\n"
     ]
    },
    {
     "name": "stderr",
     "output_type": "stream",
     "text": [
      "Read 28M words\n",
      "Number of words:  1215996\n",
      "Number of labels: 14\n",
      "Progress: 100.0% words/sec/thread:  462522 lr:  0.000000 avg.loss:  0.119471 ETA:   0h 0m 0s\n"
     ]
    },
    {
     "name": "stdout",
     "output_type": "stream",
     "text": [
      "N\t70000\n",
      "P@1\t0.960\n",
      "R@1\t0.960\n",
      "\n",
      "Training model with lr=0.05, dim=10, epoch=5, and wordNgrams=2\n"
     ]
    },
    {
     "name": "stderr",
     "output_type": "stream",
     "text": [
      "Read 28M words\n",
      "Number of words:  1215996\n",
      "Number of labels: 14\n",
      "Progress: 100.0% words/sec/thread:  686639 lr:  0.000000 avg.loss:  0.136365 ETA:   0h 0m 0s\n"
     ]
    },
    {
     "name": "stdout",
     "output_type": "stream",
     "text": [
      "N\t70000\n",
      "P@1\t0.882\n",
      "R@1\t0.882\n",
      "\n",
      "Training model with lr=0.05, dim=10, epoch=10, and wordNgrams=2\n"
     ]
    },
    {
     "name": "stderr",
     "output_type": "stream",
     "text": [
      "Read 28M words\n",
      "Number of words:  1215996\n",
      "Number of labels: 14\n",
      "Progress: 100.0% words/sec/thread:  564258 lr:  0.000000 avg.loss:  0.077898 ETA:   0h 0m 0s\n"
     ]
    },
    {
     "name": "stdout",
     "output_type": "stream",
     "text": [
      "N\t70000\n",
      "P@1\t0.934\n",
      "R@1\t0.934\n",
      "\n",
      "Training model with lr=0.05, dim=10, epoch=15, and wordNgrams=2\n"
     ]
    },
    {
     "name": "stderr",
     "output_type": "stream",
     "text": [
      "Read 28M words\n",
      "Number of words:  1215996\n",
      "Number of labels: 14\n",
      "Progress: 100.0% words/sec/thread:  866709 lr:  0.000000 avg.loss:  0.056040 ETA:   0h 0m 0s\n"
     ]
    },
    {
     "name": "stdout",
     "output_type": "stream",
     "text": [
      "N\t70000\n",
      "P@1\t0.955\n",
      "R@1\t0.955\n",
      "\n",
      "Training model with lr=0.05, dim=10, epoch=5, and wordNgrams=3\n"
     ]
    },
    {
     "name": "stderr",
     "output_type": "stream",
     "text": [
      "Read 28M words\n",
      "Number of words:  1215996\n",
      "Number of labels: 14\n",
      "Progress: 100.0% words/sec/thread:  524456 lr:  0.000000 avg.loss:  0.182021 ETA:   0h 0m 0s\n"
     ]
    },
    {
     "name": "stdout",
     "output_type": "stream",
     "text": [
      "N\t70000\n",
      "P@1\t0.901\n",
      "R@1\t0.901\n",
      "\n",
      "Training model with lr=0.05, dim=10, epoch=10, and wordNgrams=3\n"
     ]
    },
    {
     "name": "stderr",
     "output_type": "stream",
     "text": [
      "Read 28M words\n",
      "Number of words:  1215996\n",
      "Number of labels: 14\n",
      "Progress: 100.0% words/sec/thread:  562854 lr:  0.000000 avg.loss:  0.098443 ETA:   0h 0m 0s\n",
      "Read 1M words"
     ]
    },
    {
     "name": "stdout",
     "output_type": "stream",
     "text": [
      "N\t70000\n",
      "P@1\t0.952\n",
      "R@1\t0.952\n",
      "\n",
      "Training model with lr=0.05, dim=10, epoch=15, and wordNgrams=3\n"
     ]
    },
    {
     "name": "stderr",
     "output_type": "stream",
     "text": [
      "Read 28M words\n",
      "Number of words:  1215996\n",
      "Number of labels: 14\n",
      "Progress: 100.0% words/sec/thread: 2049153 lr:  0.000000 avg.loss:  0.070814 ETA:   0h 0m 0s\n",
      "Read 1M words"
     ]
    },
    {
     "name": "stdout",
     "output_type": "stream",
     "text": [
      "N\t70000\n",
      "P@1\t0.973\n",
      "R@1\t0.973\n",
      "\n",
      "Training model with lr=0.05, dim=10, epoch=5, and wordNgrams=4\n"
     ]
    },
    {
     "name": "stderr",
     "output_type": "stream",
     "text": [
      "Read 28M words\n",
      "Number of words:  1215996\n",
      "Number of labels: 14\n",
      "Progress: 100.0% words/sec/thread:  476483 lr:  0.000000 avg.loss:  0.197626 ETA:   0h 0m 0s\n"
     ]
    },
    {
     "name": "stdout",
     "output_type": "stream",
     "text": [
      "N\t70000\n",
      "P@1\t0.882\n",
      "R@1\t0.882\n",
      "\n",
      "Training model with lr=0.05, dim=10, epoch=10, and wordNgrams=4\n"
     ]
    },
    {
     "name": "stderr",
     "output_type": "stream",
     "text": [
      "Read 28M words\n",
      "Number of words:  1215996\n",
      "Number of labels: 14\n",
      "Progress:  99.8% words/sec/thread:  347586 lr:  0.000090 avg.loss:  0.115529 ETA:   0h 0m 0s"
     ]
    },
    {
     "name": "stdout",
     "output_type": "stream",
     "text": [
      "N\t70000\n",
      "P@1\t0.948\n",
      "R@1\t0.948\n",
      "\n",
      "Training model with lr=0.05, dim=10, epoch=15, and wordNgrams=4\n"
     ]
    },
    {
     "name": "stderr",
     "output_type": "stream",
     "text": [
      "Progress: 100.0% words/sec/thread:  347898 lr:  0.000000 avg.loss:  0.115362 ETA:   0h 0m 0s\n",
      "Read 28M words\n",
      "Number of words:  1215996\n",
      "Number of labels: 14\n",
      "Progress: 100.0% words/sec/thread:  318710 lr:  0.000000 avg.loss:  0.081641 ETA:   0h 0m 0s69.8% words/sec/thread:  321423 lr:  0.015085 avg.loss:  0.104941 ETA:   0h 0m57s\n"
     ]
    },
    {
     "name": "stdout",
     "output_type": "stream",
     "text": [
      "N\t70000\n",
      "P@1\t0.960\n",
      "R@1\t0.960\n",
      "\n",
      "Training model with lr=0.05, dim=10, epoch=5, and wordNgrams=5\n"
     ]
    },
    {
     "name": "stderr",
     "output_type": "stream",
     "text": [
      "Read 28M words\n",
      "Number of words:  1215996\n",
      "Number of labels: 14\n",
      "Progress: 100.0% words/sec/thread:  297280 lr:  0.000000 avg.loss:  0.217775 ETA:   0h 0m 0s\n",
      "Read 1M words"
     ]
    },
    {
     "name": "stdout",
     "output_type": "stream",
     "text": [
      "N\t70000\n",
      "P@1\t0.956\n",
      "R@1\t0.956\n",
      "\n",
      "Training model with lr=0.05, dim=10, epoch=10, and wordNgrams=5\n"
     ]
    },
    {
     "name": "stderr",
     "output_type": "stream",
     "text": [
      "Read 28M words\n",
      "Number of words:  1215996\n",
      "Number of labels: 14\n",
      "Progress: 100.0% words/sec/thread:  870375 lr:  0.000000 avg.loss:  0.137098 ETA:   0h 0m 0s\n"
     ]
    },
    {
     "name": "stdout",
     "output_type": "stream",
     "text": [
      "N\t70000\n",
      "P@1\t0.963\n",
      "R@1\t0.963\n",
      "\n",
      "Training model with lr=0.05, dim=10, epoch=15, and wordNgrams=5\n"
     ]
    },
    {
     "name": "stderr",
     "output_type": "stream",
     "text": [
      "Read 28M words\n",
      "Number of words:  1215996\n",
      "Number of labels: 14\n",
      "Progress: 100.0% words/sec/thread:  365459 lr:  0.000000 avg.loss:  0.099722 ETA:   0h 0m 0s\n"
     ]
    },
    {
     "name": "stdout",
     "output_type": "stream",
     "text": [
      "N\t70000\n",
      "P@1\t0.971\n",
      "R@1\t0.971\n",
      "\n",
      "Training model with lr=0.05, dim=25, epoch=5, and wordNgrams=2\n"
     ]
    },
    {
     "name": "stderr",
     "output_type": "stream",
     "text": [
      "Read 28M words\n",
      "Number of words:  1215996\n",
      "Number of labels: 14\n",
      "Progress: 100.0% words/sec/thread:  634735 lr:  0.000000 avg.loss:  0.136304 ETA:   0h 0m 0s\n"
     ]
    },
    {
     "name": "stdout",
     "output_type": "stream",
     "text": [
      "N\t70000\n",
      "P@1\t0.876\n",
      "R@1\t0.876\n",
      "\n",
      "Training model with lr=0.05, dim=25, epoch=10, and wordNgrams=2\n"
     ]
    },
    {
     "name": "stderr",
     "output_type": "stream",
     "text": [
      "Read 28M words\n",
      "Number of words:  1215996\n",
      "Number of labels: 14\n",
      "Progress: 100.0% words/sec/thread:  583866 lr:  0.000000 avg.loss:  0.081990 ETA:   0h 0m 0s\n"
     ]
    },
    {
     "name": "stdout",
     "output_type": "stream",
     "text": [
      "N\t70000\n",
      "P@1\t0.947\n",
      "R@1\t0.947\n",
      "\n",
      "Training model with lr=0.05, dim=25, epoch=15, and wordNgrams=2\n"
     ]
    },
    {
     "name": "stderr",
     "output_type": "stream",
     "text": [
      "Read 28M words\n",
      "Number of words:  1215996\n",
      "Number of labels: 14\n",
      "Progress: 100.0% words/sec/thread:  477906 lr:  0.000000 avg.loss:  0.052479 ETA:   0h 0m 0s\n"
     ]
    },
    {
     "name": "stdout",
     "output_type": "stream",
     "text": [
      "N\t70000\n",
      "P@1\t0.935\n",
      "R@1\t0.935\n",
      "\n",
      "Training model with lr=0.05, dim=25, epoch=5, and wordNgrams=3\n"
     ]
    },
    {
     "name": "stderr",
     "output_type": "stream",
     "text": [
      "Read 28M words\n",
      "Number of words:  1215996\n",
      "Number of labels: 14\n",
      "Progress: 100.0% words/sec/thread:  781242 lr:  0.000000 avg.loss:  0.162232 ETA:   0h 0m 0s\n"
     ]
    },
    {
     "name": "stdout",
     "output_type": "stream",
     "text": [
      "N\t70000\n",
      "P@1\t0.867\n",
      "R@1\t0.867\n",
      "\n",
      "Training model with lr=0.05, dim=25, epoch=10, and wordNgrams=3\n"
     ]
    },
    {
     "name": "stderr",
     "output_type": "stream",
     "text": [
      "Read 28M words\n",
      "Number of words:  1215996\n",
      "Number of labels: 14\n",
      "Progress: 100.0% words/sec/thread:  556774 lr:  0.000000 avg.loss:  0.097638 ETA:   0h 0m 0s0s\n"
     ]
    },
    {
     "name": "stdout",
     "output_type": "stream",
     "text": [
      "N\t70000\n",
      "P@1\t0.936\n",
      "R@1\t0.936\n",
      "\n",
      "Training model with lr=0.05, dim=25, epoch=15, and wordNgrams=3\n"
     ]
    },
    {
     "name": "stderr",
     "output_type": "stream",
     "text": [
      "Read 28M words\n",
      "Number of words:  1215996\n",
      "Number of labels: 14\n",
      "Progress: 100.0% words/sec/thread:  313010 lr:  0.000000 avg.loss:  0.069640 ETA:   0h 0m 0s0.087627 ETA:   0h 0m55s\n"
     ]
    },
    {
     "name": "stdout",
     "output_type": "stream",
     "text": [
      "N\t70000\n",
      "P@1\t0.959\n",
      "R@1\t0.959\n",
      "\n",
      "Training model with lr=0.05, dim=25, epoch=5, and wordNgrams=4\n"
     ]
    },
    {
     "name": "stderr",
     "output_type": "stream",
     "text": [
      "Read 28M words\n",
      "Number of words:  1215996\n",
      "Number of labels: 14\n",
      "Progress: 100.0% words/sec/thread:  560780 lr:  0.000000 avg.loss:  0.199259 ETA:   0h 0m 0s\n"
     ]
    },
    {
     "name": "stdout",
     "output_type": "stream",
     "text": [
      "N\t70000\n",
      "P@1\t0.864\n",
      "R@1\t0.864\n",
      "\n",
      "Training model with lr=0.05, dim=25, epoch=10, and wordNgrams=4\n"
     ]
    },
    {
     "name": "stderr",
     "output_type": "stream",
     "text": [
      "Read 28M words\n",
      "Number of words:  1215996\n",
      "Number of labels: 14\n",
      "Progress: 100.0% words/sec/thread:  905141 lr:  0.000000 avg.loss:  0.119319 ETA:   0h 0m 0s\n"
     ]
    },
    {
     "name": "stdout",
     "output_type": "stream",
     "text": [
      "N\t70000\n",
      "P@1\t0.952\n",
      "R@1\t0.952\n",
      "\n",
      "Training model with lr=0.05, dim=25, epoch=15, and wordNgrams=4\n"
     ]
    },
    {
     "name": "stderr",
     "output_type": "stream",
     "text": [
      "Read 28M words\n",
      "Number of words:  1215996\n",
      "Number of labels: 14\n",
      "Progress: 100.0% words/sec/thread:  269546 lr:  0.000000 avg.loss:  0.082466 ETA:   0h 0m 0s\n"
     ]
    },
    {
     "name": "stdout",
     "output_type": "stream",
     "text": [
      "N\t70000\n",
      "P@1\t0.959\n",
      "R@1\t0.959\n",
      "\n",
      "Training model with lr=0.05, dim=25, epoch=5, and wordNgrams=5\n"
     ]
    },
    {
     "name": "stderr",
     "output_type": "stream",
     "text": [
      "Read 28M words\n",
      "Number of words:  1215996\n",
      "Number of labels: 14\n",
      "Progress: 100.0% words/sec/thread:  273721 lr:  0.000000 avg.loss:  0.276832 ETA:   0h 0m 0s\n"
     ]
    },
    {
     "name": "stdout",
     "output_type": "stream",
     "text": [
      "N\t70000\n",
      "P@1\t0.884\n",
      "R@1\t0.884\n",
      "\n",
      "Training model with lr=0.05, dim=25, epoch=10, and wordNgrams=5\n"
     ]
    },
    {
     "name": "stderr",
     "output_type": "stream",
     "text": [
      "Read 28M words\n",
      "Number of words:  1215996\n",
      "Number of labels: 14\n",
      "Progress: 100.0% words/sec/thread:  219125 lr:  0.000000 avg.loss:  0.142709 ETA:   0h 0m 0s\n"
     ]
    },
    {
     "name": "stdout",
     "output_type": "stream",
     "text": [
      "N\t70000\n",
      "P@1\t0.946\n",
      "R@1\t0.946\n",
      "\n",
      "Training model with lr=0.05, dim=25, epoch=15, and wordNgrams=5\n"
     ]
    },
    {
     "name": "stderr",
     "output_type": "stream",
     "text": [
      "Read 28M words\n",
      "Number of words:  1215996\n",
      "Number of labels: 14\n",
      "Progress: 100.0% words/sec/thread:  323743 lr:  0.000000 avg.loss:  0.100224 ETA:   0h 0m 0s\n"
     ]
    },
    {
     "name": "stdout",
     "output_type": "stream",
     "text": [
      "N\t70000\n",
      "P@1\t0.965\n",
      "R@1\t0.965\n",
      "\n",
      "Training model with lr=0.1, dim=5, epoch=5, and wordNgrams=2\n"
     ]
    },
    {
     "name": "stderr",
     "output_type": "stream",
     "text": [
      "Read 28M words\n",
      "Number of words:  1215996\n",
      "Number of labels: 14\n",
      "Progress: 100.0% words/sec/thread:  703861 lr:  0.000000 avg.loss:  0.091432 ETA:   0h 0m 0s\n"
     ]
    },
    {
     "name": "stdout",
     "output_type": "stream",
     "text": [
      "N\t70000\n",
      "P@1\t0.863\n",
      "R@1\t0.863\n",
      "\n",
      "Training model with lr=0.1, dim=5, epoch=10, and wordNgrams=2\n"
     ]
    },
    {
     "name": "stderr",
     "output_type": "stream",
     "text": [
      "Read 28M words\n",
      "Number of words:  1215996\n",
      "Number of labels: 14\n",
      "Progress: 100.0% words/sec/thread: 1147454 lr:  0.000000 avg.loss:  0.053231 ETA:   0h 0m 0s\n",
      "Read 1M words"
     ]
    },
    {
     "name": "stdout",
     "output_type": "stream",
     "text": [
      "N\t70000\n",
      "P@1\t0.917\n",
      "R@1\t0.917\n",
      "\n",
      "Training model with lr=0.1, dim=5, epoch=15, and wordNgrams=2\n"
     ]
    },
    {
     "name": "stderr",
     "output_type": "stream",
     "text": [
      "Read 28M words\n",
      "Number of words:  1215996\n",
      "Number of labels: 14\n",
      "Progress: 100.0% words/sec/thread: 1227129 lr:  0.000000 avg.loss:  0.034961 ETA:   0h 0m 0s\n"
     ]
    },
    {
     "name": "stdout",
     "output_type": "stream",
     "text": [
      "N\t70000\n",
      "P@1\t0.950\n",
      "R@1\t0.950\n",
      "\n",
      "Training model with lr=0.1, dim=5, epoch=5, and wordNgrams=3\n"
     ]
    },
    {
     "name": "stderr",
     "output_type": "stream",
     "text": [
      "Read 28M words\n",
      "Number of words:  1215996\n",
      "Number of labels: 14\n",
      "Progress: 100.0% words/sec/thread:  563962 lr:  0.000000 avg.loss:  0.116147 ETA:   0h 0m 0s\n"
     ]
    },
    {
     "name": "stdout",
     "output_type": "stream",
     "text": [
      "N\t70000\n",
      "P@1\t0.891\n",
      "R@1\t0.891\n",
      "\n",
      "Training model with lr=0.1, dim=5, epoch=10, and wordNgrams=3\n"
     ]
    },
    {
     "name": "stderr",
     "output_type": "stream",
     "text": [
      "Read 28M words\n",
      "Number of words:  1215996\n",
      "Number of labels: 14\n",
      "Progress: 100.0% words/sec/thread:  563076 lr:  0.000000 avg.loss:  0.064463 ETA:   0h 0m 0s\n"
     ]
    },
    {
     "name": "stdout",
     "output_type": "stream",
     "text": [
      "N\t70000\n",
      "P@1\t0.961\n",
      "R@1\t0.961\n",
      "\n",
      "Training model with lr=0.1, dim=5, epoch=15, and wordNgrams=3\n"
     ]
    },
    {
     "name": "stderr",
     "output_type": "stream",
     "text": [
      "Read 28M words\n",
      "Number of words:  1215996\n",
      "Number of labels: 14\n",
      "Progress: 100.0% words/sec/thread:  967157 lr:  0.000000 avg.loss:  0.043009 ETA:   0h 0m 0s\n"
     ]
    },
    {
     "name": "stdout",
     "output_type": "stream",
     "text": [
      "N\t70000\n",
      "P@1\t0.973\n",
      "R@1\t0.973\n",
      "\n",
      "Training model with lr=0.1, dim=5, epoch=5, and wordNgrams=4\n"
     ]
    },
    {
     "name": "stderr",
     "output_type": "stream",
     "text": [
      "Read 28M words\n",
      "Number of words:  1215996\n",
      "Number of labels: 14\n",
      "Progress: 100.0% words/sec/thread:  555476 lr:  0.000000 avg.loss:  0.144670 ETA:   0h 0m 0s\n"
     ]
    },
    {
     "name": "stdout",
     "output_type": "stream",
     "text": [
      "N\t70000\n",
      "P@1\t0.917\n",
      "R@1\t0.917\n",
      "\n",
      "Training model with lr=0.1, dim=5, epoch=10, and wordNgrams=4\n"
     ]
    },
    {
     "name": "stderr",
     "output_type": "stream",
     "text": [
      "Read 28M words\n",
      "Number of words:  1215996\n",
      "Number of labels: 14\n",
      "Progress: 100.0% words/sec/thread: 1118957 lr:  0.000000 avg.loss:  0.072619 ETA:   0h 0m 0s\n"
     ]
    },
    {
     "name": "stdout",
     "output_type": "stream",
     "text": [
      "N\t70000\n",
      "P@1\t0.941\n",
      "R@1\t0.941\n",
      "\n",
      "Training model with lr=0.1, dim=5, epoch=15, and wordNgrams=4\n"
     ]
    },
    {
     "name": "stderr",
     "output_type": "stream",
     "text": [
      "Read 28M words\n",
      "Number of words:  1215996\n",
      "Number of labels: 14\n",
      "Progress: 100.0% words/sec/thread:  682526 lr:  0.000000 avg.loss:  0.048749 ETA:   0h 0m 0s\n"
     ]
    },
    {
     "name": "stdout",
     "output_type": "stream",
     "text": [
      "N\t70000\n",
      "P@1\t0.967\n",
      "R@1\t0.967\n",
      "\n",
      "Training model with lr=0.1, dim=5, epoch=5, and wordNgrams=5\n"
     ]
    },
    {
     "name": "stderr",
     "output_type": "stream",
     "text": [
      "Read 28M words\n",
      "Number of words:  1215996\n",
      "Number of labels: 14\n",
      "Progress: 100.0% words/sec/thread:  434052 lr:  0.000000 avg.loss:  0.156188 ETA:   0h 0m 0s\n"
     ]
    },
    {
     "name": "stdout",
     "output_type": "stream",
     "text": [
      "N\t70000\n",
      "P@1\t0.909\n",
      "R@1\t0.909\n",
      "\n",
      "Training model with lr=0.1, dim=5, epoch=10, and wordNgrams=5\n"
     ]
    },
    {
     "name": "stderr",
     "output_type": "stream",
     "text": [
      "Read 28M words\n",
      "Number of words:  1215996\n",
      "Number of labels: 14\n",
      "Progress: 100.0% words/sec/thread:  435485 lr:  0.000000 avg.loss:  0.085069 ETA:   0h 0m 0s\n"
     ]
    },
    {
     "name": "stdout",
     "output_type": "stream",
     "text": [
      "N\t70000\n",
      "P@1\t0.956\n",
      "R@1\t0.956\n",
      "\n",
      "Training model with lr=0.1, dim=5, epoch=15, and wordNgrams=5\n"
     ]
    },
    {
     "name": "stderr",
     "output_type": "stream",
     "text": [
      "Read 28M words\n",
      "Number of words:  1215996\n",
      "Number of labels: 14\n",
      "Progress: 100.0% words/sec/thread:  513659 lr:  0.000000 avg.loss:  0.056800 ETA:   0h 0m 0s\n"
     ]
    },
    {
     "name": "stdout",
     "output_type": "stream",
     "text": [
      "N\t70000\n",
      "P@1\t0.965\n",
      "R@1\t0.965\n",
      "\n",
      "Training model with lr=0.1, dim=10, epoch=5, and wordNgrams=2\n"
     ]
    },
    {
     "name": "stderr",
     "output_type": "stream",
     "text": [
      "Read 28M words\n",
      "Number of words:  1215996\n",
      "Number of labels: 14\n",
      "Progress: 100.0% words/sec/thread:  881556 lr:  0.000000 avg.loss:  0.072466 ETA:   0h 0m 0s\n"
     ]
    },
    {
     "name": "stdout",
     "output_type": "stream",
     "text": [
      "N\t70000\n",
      "P@1\t0.890\n",
      "R@1\t0.890\n",
      "\n",
      "Training model with lr=0.1, dim=10, epoch=10, and wordNgrams=2\n"
     ]
    },
    {
     "name": "stderr",
     "output_type": "stream",
     "text": [
      "Read 28M words\n",
      "Number of words:  1215996\n",
      "Number of labels: 14\n",
      "Progress: 100.0% words/sec/thread:  573015 lr:  0.000000 avg.loss:  0.043134 ETA:   0h 0m 0s\n"
     ]
    },
    {
     "name": "stdout",
     "output_type": "stream",
     "text": [
      "N\t70000\n",
      "P@1\t0.954\n",
      "R@1\t0.954\n",
      "\n",
      "Training model with lr=0.1, dim=10, epoch=15, and wordNgrams=2\n"
     ]
    },
    {
     "name": "stderr",
     "output_type": "stream",
     "text": [
      "Read 28M words\n",
      "Number of words:  1215996\n",
      "Number of labels: 14\n",
      "Progress: 100.0% words/sec/thread:  729185 lr:  0.000000 avg.loss:  0.030090 ETA:   0h 0m 0s% words/sec/thread:  525596 lr:  0.094664 avg.loss:  0.243718 ETA:   0h 1m49s\n"
     ]
    },
    {
     "name": "stdout",
     "output_type": "stream",
     "text": [
      "N\t70000\n",
      "P@1\t0.962\n",
      "R@1\t0.962\n",
      "\n",
      "Training model with lr=0.1, dim=10, epoch=5, and wordNgrams=3\n"
     ]
    },
    {
     "name": "stderr",
     "output_type": "stream",
     "text": [
      "Read 28M words\n",
      "Number of words:  1215996\n",
      "Number of labels: 14\n",
      "Progress: 100.0% words/sec/thread:  468019 lr:  0.000000 avg.loss:  0.108002 ETA:   0h 0m 0s\n"
     ]
    },
    {
     "name": "stdout",
     "output_type": "stream",
     "text": [
      "N\t70000\n",
      "P@1\t0.914\n",
      "R@1\t0.914\n",
      "\n",
      "Training model with lr=0.1, dim=10, epoch=10, and wordNgrams=3\n"
     ]
    },
    {
     "name": "stderr",
     "output_type": "stream",
     "text": [
      "Read 28M words\n",
      "Number of words:  1215996\n",
      "Number of labels: 14\n",
      "Progress: 100.0% words/sec/thread:  379567 lr:  0.000000 avg.loss:  0.055349 ETA:   0h 0m 0s\n"
     ]
    },
    {
     "name": "stdout",
     "output_type": "stream",
     "text": [
      "N\t70000\n",
      "P@1\t0.947\n",
      "R@1\t0.947\n",
      "\n",
      "Training model with lr=0.1, dim=10, epoch=15, and wordNgrams=3\n"
     ]
    },
    {
     "name": "stderr",
     "output_type": "stream",
     "text": [
      "Read 28M words\n",
      "Number of words:  1215996\n",
      "Number of labels: 14\n",
      "Progress: 100.0% words/sec/thread:  541769 lr:  0.000000 avg.loss:  0.037668 ETA:   0h 0m 0s\n"
     ]
    },
    {
     "name": "stdout",
     "output_type": "stream",
     "text": [
      "N\t70000\n",
      "P@1\t0.954\n",
      "R@1\t0.954\n",
      "\n",
      "Training model with lr=0.1, dim=10, epoch=5, and wordNgrams=4\n"
     ]
    },
    {
     "name": "stderr",
     "output_type": "stream",
     "text": [
      "Read 28M words\n",
      "Number of words:  1215996\n",
      "Number of labels: 14\n",
      "Progress: 100.0% words/sec/thread:  509981 lr:  0.000000 avg.loss:  0.115179 ETA:   0h 0m 0s\n"
     ]
    },
    {
     "name": "stdout",
     "output_type": "stream",
     "text": [
      "N\t70000\n",
      "P@1\t0.900\n",
      "R@1\t0.900\n",
      "\n",
      "Training model with lr=0.1, dim=10, epoch=10, and wordNgrams=4\n"
     ]
    },
    {
     "name": "stderr",
     "output_type": "stream",
     "text": [
      "Read 28M words\n",
      "Number of words:  1215996\n",
      "Number of labels: 14\n",
      "Progress: 100.0% words/sec/thread:  240734 lr:  0.000000 avg.loss:  0.066005 ETA:   0h 0m 0s\n"
     ]
    },
    {
     "name": "stdout",
     "output_type": "stream",
     "text": [
      "N\t70000\n",
      "P@1\t0.950\n",
      "R@1\t0.950\n",
      "\n",
      "Training model with lr=0.1, dim=10, epoch=15, and wordNgrams=4\n"
     ]
    },
    {
     "name": "stderr",
     "output_type": "stream",
     "text": [
      "Read 28M words\n",
      "Number of words:  1215996\n",
      "Number of labels: 14\n",
      "Progress: 100.0% words/sec/thread:  499606 lr:  0.000000 avg.loss:  0.044502 ETA:   0h 0m 0s\n"
     ]
    },
    {
     "name": "stdout",
     "output_type": "stream",
     "text": [
      "N\t70000\n",
      "P@1\t0.959\n",
      "R@1\t0.959\n",
      "\n",
      "Training model with lr=0.1, dim=10, epoch=5, and wordNgrams=5\n"
     ]
    },
    {
     "name": "stderr",
     "output_type": "stream",
     "text": [
      "Read 28M words\n",
      "Number of words:  1215996\n",
      "Number of labels: 14\n",
      "Progress: 100.0% words/sec/thread:  559761 lr:  0.000000 avg.loss:  0.126508 ETA:   0h 0m 0s\n"
     ]
    },
    {
     "name": "stdout",
     "output_type": "stream",
     "text": [
      "N\t70000\n",
      "P@1\t0.898\n",
      "R@1\t0.898\n",
      "\n",
      "Training model with lr=0.1, dim=10, epoch=10, and wordNgrams=5\n"
     ]
    },
    {
     "name": "stderr",
     "output_type": "stream",
     "text": [
      "Read 28M words\n",
      "Number of words:  1215996\n",
      "Number of labels: 14\n",
      "Progress: 100.0% words/sec/thread:  562481 lr:  0.000000 avg.loss:  0.073337 ETA:   0h 0m 0s\n"
     ]
    },
    {
     "name": "stdout",
     "output_type": "stream",
     "text": [
      "N\t70000\n",
      "P@1\t0.975\n",
      "R@1\t0.975\n",
      "\n",
      "Training model with lr=0.1, dim=10, epoch=15, and wordNgrams=5\n"
     ]
    },
    {
     "name": "stderr",
     "output_type": "stream",
     "text": [
      "Read 28M words\n",
      "Number of words:  1215996\n",
      "Number of labels: 14\n",
      "Progress: 100.0% words/sec/thread:  231845 lr:  0.000000 avg.loss:  0.047230 ETA:   0h 0m 0s16s\n"
     ]
    },
    {
     "name": "stdout",
     "output_type": "stream",
     "text": [
      "N\t70000\n",
      "P@1\t0.978\n",
      "R@1\t0.978\n",
      "\n",
      "Training model with lr=0.1, dim=25, epoch=5, and wordNgrams=2\n"
     ]
    },
    {
     "name": "stderr",
     "output_type": "stream",
     "text": [
      "Read 28M words\n",
      "Number of words:  1215996\n",
      "Number of labels: 14\n",
      "Progress: 100.0% words/sec/thread:  465979 lr:  0.000000 avg.loss:  0.077016 ETA:   0h 0m 0s100.0% words/sec/thread:  465985 lr: -0.000000 avg.loss:  0.077016 ETA:   0h 0m 0s\n"
     ]
    },
    {
     "name": "stdout",
     "output_type": "stream",
     "text": [
      "N\t70000\n",
      "P@1\t0.869\n",
      "R@1\t0.869\n",
      "\n",
      "Training model with lr=0.1, dim=25, epoch=10, and wordNgrams=2\n"
     ]
    },
    {
     "name": "stderr",
     "output_type": "stream",
     "text": [
      "Read 28M words\n",
      "Number of words:  1215996\n",
      "Number of labels: 14\n",
      "Progress: 100.0% words/sec/thread:  485333 lr:  0.000000 avg.loss:  0.041715 ETA:   0h 0m 0s\n"
     ]
    },
    {
     "name": "stdout",
     "output_type": "stream",
     "text": [
      "N\t70000\n",
      "P@1\t0.933\n",
      "R@1\t0.933\n",
      "\n",
      "Training model with lr=0.1, dim=25, epoch=15, and wordNgrams=2\n"
     ]
    },
    {
     "name": "stderr",
     "output_type": "stream",
     "text": [
      "Read 28M words\n",
      "Number of words:  1215996\n",
      "Number of labels: 14\n",
      "Progress: 100.0% words/sec/thread:  476085 lr:  0.000000 avg.loss:  0.030018 ETA:   0h 0m 0s\n"
     ]
    },
    {
     "name": "stdout",
     "output_type": "stream",
     "text": [
      "N\t70000\n",
      "P@1\t0.951\n",
      "R@1\t0.951\n",
      "\n",
      "Training model with lr=0.1, dim=25, epoch=5, and wordNgrams=3\n"
     ]
    },
    {
     "name": "stderr",
     "output_type": "stream",
     "text": [
      "Read 28M words\n",
      "Number of words:  1215996\n",
      "Number of labels: 14\n",
      "Progress: 100.0% words/sec/thread:  676412 lr:  0.000000 avg.loss:  0.096766 ETA:   0h 0m 0s\n"
     ]
    },
    {
     "name": "stdout",
     "output_type": "stream",
     "text": [
      "N\t70000\n",
      "P@1\t0.917\n",
      "R@1\t0.917\n",
      "\n",
      "Training model with lr=0.1, dim=25, epoch=10, and wordNgrams=3\n"
     ]
    },
    {
     "name": "stderr",
     "output_type": "stream",
     "text": [
      "Read 28M words\n",
      "Number of words:  1215996\n",
      "Number of labels: 14\n",
      "Progress: 100.0% words/sec/thread:  350552 lr:  0.000000 avg.loss:  0.055669 ETA:   0h 0m 0s\n"
     ]
    },
    {
     "name": "stdout",
     "output_type": "stream",
     "text": [
      "N\t70000\n",
      "P@1\t0.949\n",
      "R@1\t0.949\n",
      "\n",
      "Training model with lr=0.1, dim=25, epoch=15, and wordNgrams=3\n"
     ]
    },
    {
     "name": "stderr",
     "output_type": "stream",
     "text": [
      "Read 28M words\n",
      "Number of words:  1215996\n",
      "Number of labels: 14\n",
      "Progress: 100.0% words/sec/thread:  287038 lr:  0.000000 avg.loss:  0.036804 ETA:   0h 0m 0s261632 lr:  0.058160 avg.loss:  0.067640 ETA:   0h 2m15s\n"
     ]
    },
    {
     "name": "stdout",
     "output_type": "stream",
     "text": [
      "N\t70000\n",
      "P@1\t0.962\n",
      "R@1\t0.962\n",
      "\n",
      "Training model with lr=0.1, dim=25, epoch=5, and wordNgrams=4\n"
     ]
    },
    {
     "name": "stderr",
     "output_type": "stream",
     "text": [
      "Read 28M words\n",
      "Number of words:  1215996\n",
      "Number of labels: 14\n",
      "Progress: 100.0% words/sec/thread:  279927 lr:  0.000000 avg.loss:  0.130329 ETA:   0h 0m 0s\n"
     ]
    },
    {
     "name": "stdout",
     "output_type": "stream",
     "text": [
      "N\t70000\n",
      "P@1\t0.902\n",
      "R@1\t0.902\n",
      "\n",
      "Training model with lr=0.1, dim=25, epoch=10, and wordNgrams=4\n"
     ]
    },
    {
     "name": "stderr",
     "output_type": "stream",
     "text": [
      "Read 28M words\n",
      "Number of words:  1215996\n",
      "Number of labels: 14\n",
      "Progress: 100.0% words/sec/thread:  561808 lr:  0.000000 avg.loss:  0.064892 ETA:   0h 0m 0s\n"
     ]
    },
    {
     "name": "stdout",
     "output_type": "stream",
     "text": [
      "N\t70000\n",
      "P@1\t0.946\n",
      "R@1\t0.946\n",
      "\n",
      "Training model with lr=0.1, dim=25, epoch=15, and wordNgrams=4\n"
     ]
    },
    {
     "name": "stderr",
     "output_type": "stream",
     "text": [
      "Read 28M words\n",
      "Number of words:  1215996\n",
      "Number of labels: 14\n",
      "Progress: 100.0% words/sec/thread:  246713 lr:  0.000000 avg.loss:  0.043754 ETA:   0h 0m 0s234349 lr:  0.057454 avg.loss:  0.079457 ETA:   0h 2m29s\n"
     ]
    },
    {
     "name": "stdout",
     "output_type": "stream",
     "text": [
      "N\t70000\n",
      "P@1\t0.957\n",
      "R@1\t0.957\n",
      "\n",
      "Training model with lr=0.1, dim=25, epoch=5, and wordNgrams=5\n"
     ]
    },
    {
     "name": "stderr",
     "output_type": "stream",
     "text": [
      "Read 28M words\n",
      "Number of words:  1215996\n",
      "Number of labels: 14\n",
      "Progress: 100.0% words/sec/thread:  158217 lr:  0.000000 avg.loss:  0.142286 ETA:   0h 0m 0s 47.9% words/sec/thread:  155966 lr:  0.052076 avg.loss:  0.209170 ETA:   0h 1m 7s 77.0% words/sec/thread:  152971 lr:  0.022978 avg.loss:  0.158070 ETA:   0h 0m30s\n"
     ]
    },
    {
     "name": "stdout",
     "output_type": "stream",
     "text": [
      "N\t70000\n",
      "P@1\t0.920\n",
      "R@1\t0.920\n",
      "\n",
      "Training model with lr=0.1, dim=25, epoch=10, and wordNgrams=5\n"
     ]
    },
    {
     "name": "stderr",
     "output_type": "stream",
     "text": [
      "Read 28M words\n",
      "Number of words:  1215996\n",
      "Number of labels: 14\n",
      "Progress: 100.0% words/sec/thread:  308264 lr:  0.000000 avg.loss:  0.073050 ETA:   0h 0m 0s\n"
     ]
    },
    {
     "name": "stdout",
     "output_type": "stream",
     "text": [
      "N\t70000\n",
      "P@1\t0.944\n",
      "R@1\t0.944\n",
      "\n",
      "Training model with lr=0.1, dim=25, epoch=15, and wordNgrams=5\n"
     ]
    },
    {
     "name": "stderr",
     "output_type": "stream",
     "text": [
      "Read 28M words\n",
      "Number of words:  1215996\n",
      "Number of labels: 14\n",
      "Progress: 100.0% words/sec/thread:  218562 lr:  0.000000 avg.loss:  0.053128 ETA:   0h 0m 0s\n"
     ]
    },
    {
     "name": "stdout",
     "output_type": "stream",
     "text": [
      "N\t70000\n",
      "P@1\t0.965\n",
      "R@1\t0.965\n",
      "\n",
      "Training model with lr=0.25, dim=5, epoch=5, and wordNgrams=2\n"
     ]
    },
    {
     "name": "stderr",
     "output_type": "stream",
     "text": [
      "Read 28M words\n",
      "Number of words:  1215996\n",
      "Number of labels: 14\n",
      "Progress: 100.0% words/sec/thread:  465943 lr:  0.000000 avg.loss:  0.047145 ETA:   0h 0m 0s\n"
     ]
    },
    {
     "name": "stdout",
     "output_type": "stream",
     "text": [
      "N\t70000\n",
      "P@1\t0.940\n",
      "R@1\t0.940\n",
      "\n",
      "Training model with lr=0.25, dim=5, epoch=10, and wordNgrams=2\n"
     ]
    },
    {
     "name": "stderr",
     "output_type": "stream",
     "text": [
      "Read 28M words\n",
      "Number of words:  1215996\n",
      "Number of labels: 14\n",
      "Progress: 100.0% words/sec/thread:  532792 lr:  0.000000 avg.loss:  0.023747 ETA:   0h 0m 0s\n"
     ]
    },
    {
     "name": "stdout",
     "output_type": "stream",
     "text": [
      "N\t70000\n",
      "P@1\t0.957\n",
      "R@1\t0.957\n",
      "\n",
      "Training model with lr=0.25, dim=5, epoch=15, and wordNgrams=2\n"
     ]
    },
    {
     "name": "stderr",
     "output_type": "stream",
     "text": [
      "Read 28M words\n",
      "Number of words:  1215996\n",
      "Number of labels: 14\n",
      "Progress: 100.0% words/sec/thread:  628058 lr:  0.000000 avg.loss:  0.016865 ETA:   0h 0m 0s\n"
     ]
    },
    {
     "name": "stdout",
     "output_type": "stream",
     "text": [
      "N\t70000\n",
      "P@1\t0.974\n",
      "R@1\t0.974\n",
      "\n",
      "Training model with lr=0.25, dim=5, epoch=5, and wordNgrams=3\n"
     ]
    },
    {
     "name": "stderr",
     "output_type": "stream",
     "text": [
      "Read 28M words\n",
      "Number of words:  1215996\n",
      "Number of labels: 14\n",
      "Progress: 100.0% words/sec/thread:  618022 lr:  0.000000 avg.loss:  0.053743 ETA:   0h 0m 0s\n"
     ]
    },
    {
     "name": "stdout",
     "output_type": "stream",
     "text": [
      "N\t70000\n",
      "P@1\t0.908\n",
      "R@1\t0.908\n",
      "\n",
      "Training model with lr=0.25, dim=5, epoch=10, and wordNgrams=3\n"
     ]
    },
    {
     "name": "stderr",
     "output_type": "stream",
     "text": [
      "Read 28M words\n",
      "Number of words:  1215996\n",
      "Number of labels: 14\n",
      "Progress: 100.0% words/sec/thread: 1512877 lr:  0.000000 avg.loss:  0.030000 ETA:   0h 0m 0s\n"
     ]
    },
    {
     "name": "stdout",
     "output_type": "stream",
     "text": [
      "N\t70000\n",
      "P@1\t0.964\n",
      "R@1\t0.964\n",
      "\n",
      "Training model with lr=0.25, dim=5, epoch=15, and wordNgrams=3\n"
     ]
    },
    {
     "name": "stderr",
     "output_type": "stream",
     "text": [
      "Read 28M words\n",
      "Number of words:  1215996\n",
      "Number of labels: 14\n",
      "Progress: 100.0% words/sec/thread:  913036 lr:  0.000000 avg.loss:  0.018441 ETA:   0h 0m 0s\n"
     ]
    },
    {
     "name": "stdout",
     "output_type": "stream",
     "text": [
      "N\t70000\n",
      "P@1\t0.951\n",
      "R@1\t0.951\n",
      "\n",
      "Training model with lr=0.25, dim=5, epoch=5, and wordNgrams=4\n"
     ]
    },
    {
     "name": "stderr",
     "output_type": "stream",
     "text": [
      "Read 28M words\n",
      "Number of words:  1215996\n",
      "Number of labels: 14\n",
      "Progress: 100.0% words/sec/thread:  384813 lr:  0.000000 avg.loss:  0.059260 ETA:   0h 0m 0s\n"
     ]
    },
    {
     "name": "stdout",
     "output_type": "stream",
     "text": [
      "N\t70000\n",
      "P@1\t0.886\n",
      "R@1\t0.886\n",
      "\n",
      "Training model with lr=0.25, dim=5, epoch=10, and wordNgrams=4\n"
     ]
    },
    {
     "name": "stderr",
     "output_type": "stream",
     "text": [
      "Read 28M words\n",
      "Number of words:  1215996\n",
      "Number of labels: 14\n",
      "Progress: 100.0% words/sec/thread:  295535 lr: -0.000000 avg.loss:  0.031056 ETA:   0h 0m 0s words/sec/thread:  381442 lr:  0.231985 avg.loss:  0.252469 ETA:   0h 1m39s"
     ]
    },
    {
     "name": "stdout",
     "output_type": "stream",
     "text": [
      "N\t70000\n",
      "P@1\t0.939\n",
      "R@1\t0.939\n",
      "\n",
      "Training model with lr=0.25, dim=5, epoch=15, and wordNgrams=4\n"
     ]
    },
    {
     "name": "stderr",
     "output_type": "stream",
     "text": [
      "Progress: 100.0% words/sec/thread:  295535 lr:  0.000000 avg.loss:  0.031056 ETA:   0h 0m 0s\n",
      "Read 28M words\n",
      "Number of words:  1215996\n",
      "Number of labels: 14\n",
      "Progress: 100.0% words/sec/thread:  367372 lr:  0.000000 avg.loss:  0.022555 ETA:   0h 0m 0s325924 lr:  0.225462 avg.loss:  0.155123 ETA:   0h 2m48s\n"
     ]
    },
    {
     "name": "stdout",
     "output_type": "stream",
     "text": [
      "N\t70000\n",
      "P@1\t0.945\n",
      "R@1\t0.945\n",
      "\n",
      "Training model with lr=0.25, dim=5, epoch=5, and wordNgrams=5\n"
     ]
    },
    {
     "name": "stderr",
     "output_type": "stream",
     "text": [
      "Read 28M words\n",
      "Number of words:  1215996\n",
      "Number of labels: 14\n",
      "Progress: 100.0% words/sec/thread:  391372 lr:  0.000000 avg.loss:  0.074254 ETA:   0h 0m 0s\n"
     ]
    },
    {
     "name": "stdout",
     "output_type": "stream",
     "text": [
      "N\t70000\n",
      "P@1\t0.871\n",
      "R@1\t0.871\n",
      "\n",
      "Training model with lr=0.25, dim=5, epoch=10, and wordNgrams=5\n"
     ]
    },
    {
     "name": "stderr",
     "output_type": "stream",
     "text": [
      "Read 28M words\n",
      "Number of words:  1215996\n",
      "Number of labels: 14\n",
      "Progress: 100.0% words/sec/thread:  438831 lr:  0.000000 avg.loss:  0.036832 ETA:   0h 0m 0s\n"
     ]
    },
    {
     "name": "stdout",
     "output_type": "stream",
     "text": [
      "N\t70000\n",
      "P@1\t0.945\n",
      "R@1\t0.945\n",
      "\n",
      "Training model with lr=0.25, dim=5, epoch=15, and wordNgrams=5\n"
     ]
    },
    {
     "name": "stderr",
     "output_type": "stream",
     "text": [
      "Read 28M words\n",
      "Number of words:  1215996\n",
      "Number of labels: 14\n",
      "Progress: 100.0% words/sec/thread:  397733 lr:  0.000000 avg.loss:  0.025175 ETA:   0h 0m 0s\n"
     ]
    },
    {
     "name": "stdout",
     "output_type": "stream",
     "text": [
      "N\t70000\n",
      "P@1\t0.974\n",
      "R@1\t0.974\n",
      "\n",
      "Training model with lr=0.25, dim=10, epoch=5, and wordNgrams=2\n"
     ]
    },
    {
     "name": "stderr",
     "output_type": "stream",
     "text": [
      "Read 28M words\n",
      "Number of words:  1215996\n",
      "Number of labels: 14\n",
      "Progress: 100.0% words/sec/thread:  498891 lr:  0.000000 avg.loss:  0.040058 ETA:   0h 0m 0s\n"
     ]
    },
    {
     "name": "stdout",
     "output_type": "stream",
     "text": [
      "N\t70000\n",
      "P@1\t0.921\n",
      "R@1\t0.921\n",
      "\n",
      "Training model with lr=0.25, dim=10, epoch=10, and wordNgrams=2\n"
     ]
    },
    {
     "name": "stderr",
     "output_type": "stream",
     "text": [
      "Read 28M words\n",
      "Number of words:  1215996\n",
      "Number of labels: 14\n",
      "Progress: 100.0% words/sec/thread:  439195 lr:  0.000000 avg.loss:  0.020696 ETA:   0h 0m 0s\n"
     ]
    },
    {
     "name": "stdout",
     "output_type": "stream",
     "text": [
      "N\t70000\n",
      "P@1\t0.917\n",
      "R@1\t0.917\n",
      "\n",
      "Training model with lr=0.25, dim=10, epoch=15, and wordNgrams=2\n"
     ]
    },
    {
     "name": "stderr",
     "output_type": "stream",
     "text": [
      "Read 28M words\n",
      "Number of words:  1215996\n",
      "Number of labels: 14\n",
      "Progress: 100.0% words/sec/thread:  479583 lr:  0.000000 avg.loss:  0.014967 ETA:   0h 0m 0s 37.6% words/sec/thread:  408974 lr:  0.155936 avg.loss:  0.030452 ETA:   0h 1m33s44.6% words/sec/thread:  409970 lr:  0.138421 avg.loss:  0.026900 ETA:   0h 1m22s\n"
     ]
    },
    {
     "name": "stdout",
     "output_type": "stream",
     "text": [
      "N\t70000\n",
      "P@1\t0.946\n",
      "R@1\t0.946\n",
      "\n",
      "Training model with lr=0.25, dim=10, epoch=5, and wordNgrams=3\n"
     ]
    },
    {
     "name": "stderr",
     "output_type": "stream",
     "text": [
      "Read 28M words\n",
      "Number of words:  1215996\n",
      "Number of labels: 14\n",
      "Progress: 100.0% words/sec/thread:  799670 lr:  0.000000 avg.loss:  0.053448 ETA:   0h 0m 0s\n",
      "Read 2M words"
     ]
    },
    {
     "name": "stdout",
     "output_type": "stream",
     "text": [
      "N\t70000\n",
      "P@1\t0.931\n",
      "R@1\t0.931\n",
      "\n",
      "Training model with lr=0.25, dim=10, epoch=10, and wordNgrams=3\n"
     ]
    },
    {
     "name": "stderr",
     "output_type": "stream",
     "text": [
      "Read 28M words\n",
      "Number of words:  1215996\n",
      "Number of labels: 14\n",
      "Progress: 100.0% words/sec/thread:  786958 lr:  0.000000 avg.loss:  0.023878 ETA:   0h 0m 0s\n"
     ]
    },
    {
     "name": "stdout",
     "output_type": "stream",
     "text": [
      "N\t70000\n",
      "P@1\t0.956\n",
      "R@1\t0.956\n",
      "\n",
      "Training model with lr=0.25, dim=10, epoch=15, and wordNgrams=3\n"
     ]
    },
    {
     "name": "stderr",
     "output_type": "stream",
     "text": [
      "Read 28M words\n",
      "Number of words:  1215996\n",
      "Number of labels: 14\n",
      "Progress: 100.0% words/sec/thread:  407790 lr:  0.000000 avg.loss:  0.017608 ETA:   0h 0m 0s\n"
     ]
    },
    {
     "name": "stdout",
     "output_type": "stream",
     "text": [
      "N\t70000\n",
      "P@1\t0.946\n",
      "R@1\t0.946\n",
      "\n",
      "Training model with lr=0.25, dim=10, epoch=5, and wordNgrams=4\n"
     ]
    },
    {
     "name": "stderr",
     "output_type": "stream",
     "text": [
      "Read 28M words\n",
      "Number of words:  1215996\n",
      "Number of labels: 14\n",
      "Progress: 100.0% words/sec/thread:  309582 lr:  0.000000 avg.loss:  0.053085 ETA:   0h 0m 0s\n"
     ]
    },
    {
     "name": "stdout",
     "output_type": "stream",
     "text": [
      "N\t70000\n",
      "P@1\t0.917\n",
      "R@1\t0.917\n",
      "\n",
      "Training model with lr=0.25, dim=10, epoch=10, and wordNgrams=4\n"
     ]
    },
    {
     "name": "stderr",
     "output_type": "stream",
     "text": [
      "Read 28M words\n",
      "Number of words:  1215996\n",
      "Number of labels: 14\n",
      "Progress: 100.0% words/sec/thread:  383768 lr:  0.000000 avg.loss:  0.029159 ETA:   0h 0m 0s\n"
     ]
    },
    {
     "name": "stdout",
     "output_type": "stream",
     "text": [
      "N\t70000\n",
      "P@1\t0.948\n",
      "R@1\t0.948\n",
      "\n",
      "Training model with lr=0.25, dim=10, epoch=15, and wordNgrams=4\n"
     ]
    },
    {
     "name": "stderr",
     "output_type": "stream",
     "text": [
      "Read 28M words\n",
      "Number of words:  1215996\n",
      "Number of labels: 14\n",
      "Progress: 100.0% words/sec/thread:  282944 lr:  0.000000 avg.loss:  0.018795 ETA:   0h 0m 0s\n"
     ]
    },
    {
     "name": "stdout",
     "output_type": "stream",
     "text": [
      "N\t70000\n",
      "P@1\t0.974\n",
      "R@1\t0.974\n",
      "\n",
      "Training model with lr=0.25, dim=10, epoch=5, and wordNgrams=5\n"
     ]
    },
    {
     "name": "stderr",
     "output_type": "stream",
     "text": [
      "Read 28M words\n",
      "Number of words:  1215996\n",
      "Number of labels: 14\n",
      "Progress: 100.0% words/sec/thread:  211174 lr:  0.000000 avg.loss:  0.062087 ETA:   0h 0m 0s\n"
     ]
    },
    {
     "name": "stdout",
     "output_type": "stream",
     "text": [
      "N\t70000\n",
      "P@1\t0.870\n",
      "R@1\t0.870\n",
      "\n",
      "Training model with lr=0.25, dim=10, epoch=10, and wordNgrams=5\n"
     ]
    },
    {
     "name": "stderr",
     "output_type": "stream",
     "text": [
      "Read 28M words\n",
      "Number of words:  1215996\n",
      "Number of labels: 14\n",
      "Progress: 100.0% words/sec/thread:  240774 lr:  0.000000 avg.loss:  0.031866 ETA:   0h 0m 0s 17.9% words/sec/thread:  200752 lr:  0.205277 avg.loss:  0.140263 ETA:   0h 2m46s\n"
     ]
    },
    {
     "name": "stdout",
     "output_type": "stream",
     "text": [
      "N\t70000\n",
      "P@1\t0.954\n",
      "R@1\t0.954\n",
      "\n",
      "Training model with lr=0.25, dim=10, epoch=15, and wordNgrams=5\n"
     ]
    },
    {
     "name": "stderr",
     "output_type": "stream",
     "text": [
      "Read 28M words\n",
      "Number of words:  1215996\n",
      "Number of labels: 14\n",
      "Progress: 100.0% words/sec/thread:  611667 lr:  0.000000 avg.loss:  0.023258 ETA:   0h 0m 0s\n"
     ]
    },
    {
     "name": "stdout",
     "output_type": "stream",
     "text": [
      "N\t70000\n",
      "P@1\t0.977\n",
      "R@1\t0.977\n",
      "\n",
      "Training model with lr=0.25, dim=25, epoch=5, and wordNgrams=2\n"
     ]
    },
    {
     "name": "stderr",
     "output_type": "stream",
     "text": [
      "Read 28M words\n",
      "Number of words:  1215996\n",
      "Number of labels: 14\n",
      "Progress: 100.0% words/sec/thread:  405394 lr:  0.000000 avg.loss:  0.038449 ETA:   0h 0m 0s\n"
     ]
    },
    {
     "name": "stdout",
     "output_type": "stream",
     "text": [
      "N\t70000\n",
      "P@1\t0.850\n",
      "R@1\t0.850\n",
      "\n",
      "Training model with lr=0.25, dim=25, epoch=10, and wordNgrams=2\n"
     ]
    },
    {
     "name": "stderr",
     "output_type": "stream",
     "text": [
      "Read 28M words\n",
      "Number of words:  1215996\n",
      "Number of labels: 14\n",
      "Progress:  99.9% words/sec/thread:  411106 lr:  0.000285 avg.loss:  0.020054 ETA:   0h 0m 0s"
     ]
    },
    {
     "name": "stdout",
     "output_type": "stream",
     "text": [
      "N\t70000\n",
      "P@1\t0.920\n",
      "R@1\t0.920\n",
      "\n",
      "Training model with lr=0.25, dim=25, epoch=15, and wordNgrams=2\n"
     ]
    },
    {
     "name": "stderr",
     "output_type": "stream",
     "text": [
      "Progress: 100.0% words/sec/thread:  411136 lr:  0.000000 avg.loss:  0.020043 ETA:   0h 0m 0s\n",
      "Read 28M words\n",
      "Number of words:  1215996\n",
      "Number of labels: 14\n",
      "Progress: 100.0% words/sec/thread:  421310 lr:  0.000000 avg.loss:  0.013758 ETA:   0h 0m 0s\n"
     ]
    },
    {
     "name": "stdout",
     "output_type": "stream",
     "text": [
      "N\t70000\n",
      "P@1\t0.955\n",
      "R@1\t0.955\n",
      "\n",
      "Training model with lr=0.25, dim=25, epoch=5, and wordNgrams=3\n"
     ]
    },
    {
     "name": "stderr",
     "output_type": "stream",
     "text": [
      "Read 28M words\n",
      "Number of words:  1215996\n",
      "Number of labels: 14\n",
      "Progress: 100.0% words/sec/thread:  338707 lr:  0.000000 avg.loss:  0.044396 ETA:   0h 0m 0s\n"
     ]
    },
    {
     "name": "stdout",
     "output_type": "stream",
     "text": [
      "N\t70000\n",
      "P@1\t0.864\n",
      "R@1\t0.864\n",
      "\n",
      "Training model with lr=0.25, dim=25, epoch=10, and wordNgrams=3\n"
     ]
    },
    {
     "name": "stderr",
     "output_type": "stream",
     "text": [
      "Read 28M words\n",
      "Number of words:  1215996\n",
      "Number of labels: 14\n",
      "Progress: 100.0% words/sec/thread:  335896 lr:  0.000000 avg.loss:  0.024224 ETA:   0h 0m 0s\n"
     ]
    },
    {
     "name": "stdout",
     "output_type": "stream",
     "text": [
      "N\t70000\n",
      "P@1\t0.955\n",
      "R@1\t0.955\n",
      "\n",
      "Training model with lr=0.25, dim=25, epoch=15, and wordNgrams=3\n"
     ]
    },
    {
     "name": "stderr",
     "output_type": "stream",
     "text": [
      "Read 28M words\n",
      "Number of words:  1215996\n",
      "Number of labels: 14\n",
      "Progress: 100.0% words/sec/thread:  382272 lr:  0.000000 avg.loss:  0.016001 ETA:   0h 0m 0s\n"
     ]
    },
    {
     "name": "stdout",
     "output_type": "stream",
     "text": [
      "N\t70000\n",
      "P@1\t0.974\n",
      "R@1\t0.974\n",
      "\n",
      "Training model with lr=0.25, dim=25, epoch=5, and wordNgrams=4\n"
     ]
    },
    {
     "name": "stderr",
     "output_type": "stream",
     "text": [
      "Read 28M words\n",
      "Number of words:  1215996\n",
      "Number of labels: 14\n",
      "Progress: 100.0% words/sec/thread:  336955 lr:  0.000000 avg.loss:  0.061962 ETA:   0h 0m 0s\n"
     ]
    },
    {
     "name": "stdout",
     "output_type": "stream",
     "text": [
      "N\t70000\n",
      "P@1\t0.927\n",
      "R@1\t0.927\n",
      "\n",
      "Training model with lr=0.25, dim=25, epoch=10, and wordNgrams=4\n"
     ]
    },
    {
     "name": "stderr",
     "output_type": "stream",
     "text": [
      "Read 28M words\n",
      "Number of words:  1215996\n",
      "Number of labels: 14\n",
      "Progress:  99.9% words/sec/thread:  609922 lr:  0.000326 avg.loss:  0.029186 ETA:   0h 0m 0s"
     ]
    },
    {
     "name": "stdout",
     "output_type": "stream",
     "text": [
      "N\t70000\n",
      "P@1\t0.962\n",
      "R@1\t0.962\n",
      "\n",
      "Training model with lr=0.25, dim=25, epoch=15, and wordNgrams=4\n"
     ]
    },
    {
     "name": "stderr",
     "output_type": "stream",
     "text": [
      "Progress: 100.0% words/sec/thread:  609794 lr:  0.000000 avg.loss:  0.029163 ETA:   0h 0m 0s\n",
      "Read 28M words\n",
      "Number of words:  1215996\n",
      "Number of labels: 14\n",
      "Progress: 100.0% words/sec/thread:  319353 lr:  0.000000 avg.loss:  0.019084 ETA:   0h 0m 0s 0.001092 avg.loss:  0.019136 ETA:   0h 0m 0s\n"
     ]
    },
    {
     "name": "stdout",
     "output_type": "stream",
     "text": [
      "N\t70000\n",
      "P@1\t0.979\n",
      "R@1\t0.979\n",
      "\n",
      "Training model with lr=0.25, dim=25, epoch=5, and wordNgrams=5\n"
     ]
    },
    {
     "name": "stderr",
     "output_type": "stream",
     "text": [
      "Read 28M words\n",
      "Number of words:  1215996\n",
      "Number of labels: 14\n",
      "Progress: 100.0% words/sec/thread:  207411 lr:  0.000000 avg.loss:  0.058481 ETA:   0h 0m 0s\n"
     ]
    },
    {
     "name": "stdout",
     "output_type": "stream",
     "text": [
      "N\t70000\n",
      "P@1\t0.940\n",
      "R@1\t0.940\n",
      "\n",
      "Training model with lr=0.25, dim=25, epoch=10, and wordNgrams=5\n"
     ]
    },
    {
     "name": "stderr",
     "output_type": "stream",
     "text": [
      "Read 28M words\n",
      "Number of words:  1215996\n",
      "Number of labels: 14\n",
      "Progress: 100.0% words/sec/thread:  221164 lr:  0.000000 avg.loss:  0.029819 ETA:   0h 0m 0s\n"
     ]
    },
    {
     "name": "stdout",
     "output_type": "stream",
     "text": [
      "N\t70000\n",
      "P@1\t0.973\n",
      "R@1\t0.973\n",
      "\n",
      "Training model with lr=0.25, dim=25, epoch=15, and wordNgrams=5\n"
     ]
    },
    {
     "name": "stderr",
     "output_type": "stream",
     "text": [
      "Read 28M words\n",
      "Number of words:  1215996\n",
      "Number of labels: 14\n",
      "Progress: 100.0% words/sec/thread:  281739 lr: -0.000000 avg.loss:  0.021070 ETA:   0h 0m 0s"
     ]
    },
    {
     "name": "stdout",
     "output_type": "stream",
     "text": [
      "N\t70000\n",
      "P@1\t0.962\n",
      "R@1\t0.962\n",
      "\n"
     ]
    },
    {
     "name": "stderr",
     "output_type": "stream",
     "text": [
      "Progress: 100.0% words/sec/thread:  281739 lr:  0.000000 avg.loss:  0.021070 ETA:   0h 0m 0s\n"
     ]
    }
   ],
   "source": [
    "lr_list = [0.05, 0.1, 0.25]\n",
    "dim_list = [5, 10, 25] # hidden units\n",
    "ngrams_list = [2, 3, 4, 5]\n",
    "epoch_list = [5, 10, 15]\n",
    "\n",
    "best_p, best_r = 0, 0\n",
    "best_l, best_d, best_n, best_e = 0, 0, 0, 0\n",
    "\n",
    "for l in lr_list:\n",
    "    for d in dim_list:\n",
    "        for n in ngrams_list:\n",
    "            for e in epoch_list:\n",
    "                print(f\"Training model with lr={l}, dim={d}, epoch={e}, and wordNgrams={n}\")\n",
    "                model = fasttext.train_supervised(input='train.txt', lr=l, dim=d, epoch=e, wordNgrams=n)\n",
    "                N, p, r = model.test('test.txt')\n",
    "                print_results(N, p, r)\n",
    "                if p > best_p and r > best_r:\n",
    "                    best_p, best_r = p, r\n",
    "                    best_l, best_d, best_n, best_e = l, d, n, e\n",
    "                print()"
   ]
  },
  {
   "cell_type": "code",
   "execution_count": 10,
   "metadata": {},
   "outputs": [
    {
     "name": "stdout",
     "output_type": "stream",
     "text": [
      "Training the best model with lr=0.25, dim=25, epoch=15, and wordNgrams=4\n"
     ]
    },
    {
     "name": "stderr",
     "output_type": "stream",
     "text": [
      "Read 28M words\n",
      "Number of words:  1215996\n",
      "Number of labels: 14\n",
      "Progress: 100.0% words/sec/thread:  354920 lr:  0.000000 avg.loss:  0.018666 ETA:   0h 0m 0s99.5% words/sec/thread:  355637 lr:  0.001214 avg.loss:  0.018736 ETA:   0h 0m 0s\n"
     ]
    }
   ],
   "source": [
    "print(f\"Training the best model with lr={best_l}, dim={best_d}, epoch={best_e}, and wordNgrams={best_n}\")\n",
    "model = fasttext.train_supervised(input='train.txt', lr=best_l, dim=best_d, epoch=best_e, wordNgrams=best_n, verbose=2)\n",
    "model.save_model('dbpedia.bin')"
   ]
  },
  {
   "cell_type": "code",
   "execution_count": 11,
   "metadata": {},
   "outputs": [
    {
     "name": "stdout",
     "output_type": "stream",
     "text": [
      "Accuracy: 0.9653857142857143\n"
     ]
    }
   ],
   "source": [
    "predictions = []\n",
    "for text in test_texts:\n",
    "    prediction = model.predict(text)\n",
    "    predictions.append(int(prediction[0][0].split('__label__')[1]))\n",
    "accuracy = accuracy_score(test_labels, predictions)\n",
    "print(\"Accuracy:\", accuracy)"
   ]
  }
 ],
 "metadata": {
  "colab": {
   "provenance": []
  },
  "kernelspec": {
   "display_name": "Python 3 (ipykernel)",
   "language": "python",
   "name": "python3"
  },
  "language_info": {
   "codemirror_mode": {
    "name": "ipython",
    "version": 3
   },
   "file_extension": ".py",
   "mimetype": "text/x-python",
   "name": "python",
   "nbconvert_exporter": "python",
   "pygments_lexer": "ipython3",
   "version": "3.11.7"
  },
  "widgets": {
   "application/vnd.jupyter.widget-state+json": {
    "03fa9451a4af4082893a69795b4bbbe4": {
     "model_module": "@jupyter-widgets/controls",
     "model_module_version": "1.5.0",
     "model_name": "HTMLModel",
     "state": {
      "_dom_classes": [],
      "_model_module": "@jupyter-widgets/controls",
      "_model_module_version": "1.5.0",
      "_model_name": "HTMLModel",
      "_view_count": null,
      "_view_module": "@jupyter-widgets/controls",
      "_view_module_version": "1.5.0",
      "_view_name": "HTMLView",
      "description": "",
      "description_tooltip": null,
      "layout": "IPY_MODEL_5c23ff0ca8614875935570cc9025a20a",
      "placeholder": "​",
      "style": "IPY_MODEL_52c4dbb9aaaa4bb4bc8d283283666f27",
      "value": " 560000/560000 [00:00&lt;00:00, 708298.41 examples/s]"
     }
    },
    "0f1f209762ca4509926be25901ac8560": {
     "model_module": "@jupyter-widgets/base",
     "model_module_version": "1.2.0",
     "model_name": "LayoutModel",
     "state": {
      "_model_module": "@jupyter-widgets/base",
      "_model_module_version": "1.2.0",
      "_model_name": "LayoutModel",
      "_view_count": null,
      "_view_module": "@jupyter-widgets/base",
      "_view_module_version": "1.2.0",
      "_view_name": "LayoutView",
      "align_content": null,
      "align_items": null,
      "align_self": null,
      "border": null,
      "bottom": null,
      "display": null,
      "flex": null,
      "flex_flow": null,
      "grid_area": null,
      "grid_auto_columns": null,
      "grid_auto_flow": null,
      "grid_auto_rows": null,
      "grid_column": null,
      "grid_gap": null,
      "grid_row": null,
      "grid_template_areas": null,
      "grid_template_columns": null,
      "grid_template_rows": null,
      "height": null,
      "justify_content": null,
      "justify_items": null,
      "left": null,
      "margin": null,
      "max_height": null,
      "max_width": null,
      "min_height": null,
      "min_width": null,
      "object_fit": null,
      "object_position": null,
      "order": null,
      "overflow": null,
      "overflow_x": null,
      "overflow_y": null,
      "padding": null,
      "right": null,
      "top": null,
      "visibility": null,
      "width": null
     }
    },
    "102f250af797417bae6b757a2b97a5af": {
     "model_module": "@jupyter-widgets/base",
     "model_module_version": "1.2.0",
     "model_name": "LayoutModel",
     "state": {
      "_model_module": "@jupyter-widgets/base",
      "_model_module_version": "1.2.0",
      "_model_name": "LayoutModel",
      "_view_count": null,
      "_view_module": "@jupyter-widgets/base",
      "_view_module_version": "1.2.0",
      "_view_name": "LayoutView",
      "align_content": null,
      "align_items": null,
      "align_self": null,
      "border": null,
      "bottom": null,
      "display": null,
      "flex": null,
      "flex_flow": null,
      "grid_area": null,
      "grid_auto_columns": null,
      "grid_auto_flow": null,
      "grid_auto_rows": null,
      "grid_column": null,
      "grid_gap": null,
      "grid_row": null,
      "grid_template_areas": null,
      "grid_template_columns": null,
      "grid_template_rows": null,
      "height": null,
      "justify_content": null,
      "justify_items": null,
      "left": null,
      "margin": null,
      "max_height": null,
      "max_width": null,
      "min_height": null,
      "min_width": null,
      "object_fit": null,
      "object_position": null,
      "order": null,
      "overflow": null,
      "overflow_x": null,
      "overflow_y": null,
      "padding": null,
      "right": null,
      "top": null,
      "visibility": null,
      "width": null
     }
    },
    "13a5ee82a62946118a2772ff8c1c691c": {
     "model_module": "@jupyter-widgets/controls",
     "model_module_version": "1.5.0",
     "model_name": "HTMLModel",
     "state": {
      "_dom_classes": [],
      "_model_module": "@jupyter-widgets/controls",
      "_model_module_version": "1.5.0",
      "_model_name": "HTMLModel",
      "_view_count": null,
      "_view_module": "@jupyter-widgets/controls",
      "_view_module_version": "1.5.0",
      "_view_name": "HTMLView",
      "description": "",
      "description_tooltip": null,
      "layout": "IPY_MODEL_87a6f09dcbac46aa8cedfccee930b38f",
      "placeholder": "​",
      "style": "IPY_MODEL_e6df96be62dc4d508f93831d2a02a118",
      "value": "Downloading data: 100%"
     }
    },
    "14801640d8c74f1c924e4fb9928f674d": {
     "model_module": "@jupyter-widgets/controls",
     "model_module_version": "1.5.0",
     "model_name": "DescriptionStyleModel",
     "state": {
      "_model_module": "@jupyter-widgets/controls",
      "_model_module_version": "1.5.0",
      "_model_name": "DescriptionStyleModel",
      "_view_count": null,
      "_view_module": "@jupyter-widgets/base",
      "_view_module_version": "1.2.0",
      "_view_name": "StyleView",
      "description_width": ""
     }
    },
    "1973fa39802145e790cf219bc2b23e70": {
     "model_module": "@jupyter-widgets/base",
     "model_module_version": "1.2.0",
     "model_name": "LayoutModel",
     "state": {
      "_model_module": "@jupyter-widgets/base",
      "_model_module_version": "1.2.0",
      "_model_name": "LayoutModel",
      "_view_count": null,
      "_view_module": "@jupyter-widgets/base",
      "_view_module_version": "1.2.0",
      "_view_name": "LayoutView",
      "align_content": null,
      "align_items": null,
      "align_self": null,
      "border": null,
      "bottom": null,
      "display": null,
      "flex": null,
      "flex_flow": null,
      "grid_area": null,
      "grid_auto_columns": null,
      "grid_auto_flow": null,
      "grid_auto_rows": null,
      "grid_column": null,
      "grid_gap": null,
      "grid_row": null,
      "grid_template_areas": null,
      "grid_template_columns": null,
      "grid_template_rows": null,
      "height": null,
      "justify_content": null,
      "justify_items": null,
      "left": null,
      "margin": null,
      "max_height": null,
      "max_width": null,
      "min_height": null,
      "min_width": null,
      "object_fit": null,
      "object_position": null,
      "order": null,
      "overflow": null,
      "overflow_x": null,
      "overflow_y": null,
      "padding": null,
      "right": null,
      "top": null,
      "visibility": null,
      "width": null
     }
    },
    "1b342f01e1ed44bca53507ae4e55bd2a": {
     "model_module": "@jupyter-widgets/controls",
     "model_module_version": "1.5.0",
     "model_name": "HTMLModel",
     "state": {
      "_dom_classes": [],
      "_model_module": "@jupyter-widgets/controls",
      "_model_module_version": "1.5.0",
      "_model_name": "HTMLModel",
      "_view_count": null,
      "_view_module": "@jupyter-widgets/controls",
      "_view_module_version": "1.5.0",
      "_view_name": "HTMLView",
      "description": "",
      "description_tooltip": null,
      "layout": "IPY_MODEL_8093aab399874e4cafa238bb2449ad49",
      "placeholder": "​",
      "style": "IPY_MODEL_8059ee21e2714ef3968b495cdd6be695",
      "value": "Downloading data: 100%"
     }
    },
    "1b73ba424c8d40c38eb6eb7ac21f87aa": {
     "model_module": "@jupyter-widgets/controls",
     "model_module_version": "1.5.0",
     "model_name": "ProgressStyleModel",
     "state": {
      "_model_module": "@jupyter-widgets/controls",
      "_model_module_version": "1.5.0",
      "_model_name": "ProgressStyleModel",
      "_view_count": null,
      "_view_module": "@jupyter-widgets/base",
      "_view_module_version": "1.2.0",
      "_view_name": "StyleView",
      "bar_color": null,
      "description_width": ""
     }
    },
    "1c0e2c04e079433b8a032e2756b510d5": {
     "model_module": "@jupyter-widgets/controls",
     "model_module_version": "1.5.0",
     "model_name": "HBoxModel",
     "state": {
      "_dom_classes": [],
      "_model_module": "@jupyter-widgets/controls",
      "_model_module_version": "1.5.0",
      "_model_name": "HBoxModel",
      "_view_count": null,
      "_view_module": "@jupyter-widgets/controls",
      "_view_module_version": "1.5.0",
      "_view_name": "HBoxView",
      "box_style": "",
      "children": [
       "IPY_MODEL_e531a90ee5c04bcd9454a2d40265aa15",
       "IPY_MODEL_8b429870d3994cbfbaadd7f256a32417",
       "IPY_MODEL_688a40543df4446183862e933f4247e8"
      ],
      "layout": "IPY_MODEL_368d8c4b568542679ec12427f555322e"
     }
    },
    "228e2365264142689d5790e2b1f25df6": {
     "model_module": "@jupyter-widgets/base",
     "model_module_version": "1.2.0",
     "model_name": "LayoutModel",
     "state": {
      "_model_module": "@jupyter-widgets/base",
      "_model_module_version": "1.2.0",
      "_model_name": "LayoutModel",
      "_view_count": null,
      "_view_module": "@jupyter-widgets/base",
      "_view_module_version": "1.2.0",
      "_view_name": "LayoutView",
      "align_content": null,
      "align_items": null,
      "align_self": null,
      "border": null,
      "bottom": null,
      "display": null,
      "flex": null,
      "flex_flow": null,
      "grid_area": null,
      "grid_auto_columns": null,
      "grid_auto_flow": null,
      "grid_auto_rows": null,
      "grid_column": null,
      "grid_gap": null,
      "grid_row": null,
      "grid_template_areas": null,
      "grid_template_columns": null,
      "grid_template_rows": null,
      "height": null,
      "justify_content": null,
      "justify_items": null,
      "left": null,
      "margin": null,
      "max_height": null,
      "max_width": null,
      "min_height": null,
      "min_width": null,
      "object_fit": null,
      "object_position": null,
      "order": null,
      "overflow": null,
      "overflow_x": null,
      "overflow_y": null,
      "padding": null,
      "right": null,
      "top": null,
      "visibility": null,
      "width": null
     }
    },
    "278ed79853f44106914f7d56f66c9e46": {
     "model_module": "@jupyter-widgets/controls",
     "model_module_version": "1.5.0",
     "model_name": "FloatProgressModel",
     "state": {
      "_dom_classes": [],
      "_model_module": "@jupyter-widgets/controls",
      "_model_module_version": "1.5.0",
      "_model_name": "FloatProgressModel",
      "_view_count": null,
      "_view_module": "@jupyter-widgets/controls",
      "_view_module_version": "1.5.0",
      "_view_name": "ProgressView",
      "bar_style": "success",
      "description": "",
      "description_tooltip": null,
      "layout": "IPY_MODEL_1973fa39802145e790cf219bc2b23e70",
      "max": 560000,
      "min": 0,
      "orientation": "horizontal",
      "style": "IPY_MODEL_1b73ba424c8d40c38eb6eb7ac21f87aa",
      "value": 560000
     }
    },
    "33db39ca158a4361aeed0828818f2abe": {
     "model_module": "@jupyter-widgets/base",
     "model_module_version": "1.2.0",
     "model_name": "LayoutModel",
     "state": {
      "_model_module": "@jupyter-widgets/base",
      "_model_module_version": "1.2.0",
      "_model_name": "LayoutModel",
      "_view_count": null,
      "_view_module": "@jupyter-widgets/base",
      "_view_module_version": "1.2.0",
      "_view_name": "LayoutView",
      "align_content": null,
      "align_items": null,
      "align_self": null,
      "border": null,
      "bottom": null,
      "display": null,
      "flex": null,
      "flex_flow": null,
      "grid_area": null,
      "grid_auto_columns": null,
      "grid_auto_flow": null,
      "grid_auto_rows": null,
      "grid_column": null,
      "grid_gap": null,
      "grid_row": null,
      "grid_template_areas": null,
      "grid_template_columns": null,
      "grid_template_rows": null,
      "height": null,
      "justify_content": null,
      "justify_items": null,
      "left": null,
      "margin": null,
      "max_height": null,
      "max_width": null,
      "min_height": null,
      "min_width": null,
      "object_fit": null,
      "object_position": null,
      "order": null,
      "overflow": null,
      "overflow_x": null,
      "overflow_y": null,
      "padding": null,
      "right": null,
      "top": null,
      "visibility": null,
      "width": null
     }
    },
    "368d8c4b568542679ec12427f555322e": {
     "model_module": "@jupyter-widgets/base",
     "model_module_version": "1.2.0",
     "model_name": "LayoutModel",
     "state": {
      "_model_module": "@jupyter-widgets/base",
      "_model_module_version": "1.2.0",
      "_model_name": "LayoutModel",
      "_view_count": null,
      "_view_module": "@jupyter-widgets/base",
      "_view_module_version": "1.2.0",
      "_view_name": "LayoutView",
      "align_content": null,
      "align_items": null,
      "align_self": null,
      "border": null,
      "bottom": null,
      "display": null,
      "flex": null,
      "flex_flow": null,
      "grid_area": null,
      "grid_auto_columns": null,
      "grid_auto_flow": null,
      "grid_auto_rows": null,
      "grid_column": null,
      "grid_gap": null,
      "grid_row": null,
      "grid_template_areas": null,
      "grid_template_columns": null,
      "grid_template_rows": null,
      "height": null,
      "justify_content": null,
      "justify_items": null,
      "left": null,
      "margin": null,
      "max_height": null,
      "max_width": null,
      "min_height": null,
      "min_width": null,
      "object_fit": null,
      "object_position": null,
      "order": null,
      "overflow": null,
      "overflow_x": null,
      "overflow_y": null,
      "padding": null,
      "right": null,
      "top": null,
      "visibility": null,
      "width": null
     }
    },
    "3db0fbac9a0f4034be230a7046fc6356": {
     "model_module": "@jupyter-widgets/controls",
     "model_module_version": "1.5.0",
     "model_name": "HTMLModel",
     "state": {
      "_dom_classes": [],
      "_model_module": "@jupyter-widgets/controls",
      "_model_module_version": "1.5.0",
      "_model_name": "HTMLModel",
      "_view_count": null,
      "_view_module": "@jupyter-widgets/controls",
      "_view_module_version": "1.5.0",
      "_view_name": "HTMLView",
      "description": "",
      "description_tooltip": null,
      "layout": "IPY_MODEL_f8ec9b2452fa4d3380995d10c422bdab",
      "placeholder": "​",
      "style": "IPY_MODEL_d8a8a8fc3c81463e811ac3e816391810",
      "value": "Generating test split: 100%"
     }
    },
    "4109c2e1bba744bb9538cad70e60bcc5": {
     "model_module": "@jupyter-widgets/controls",
     "model_module_version": "1.5.0",
     "model_name": "DescriptionStyleModel",
     "state": {
      "_model_module": "@jupyter-widgets/controls",
      "_model_module_version": "1.5.0",
      "_model_name": "DescriptionStyleModel",
      "_view_count": null,
      "_view_module": "@jupyter-widgets/base",
      "_view_module_version": "1.2.0",
      "_view_name": "StyleView",
      "description_width": ""
     }
    },
    "456a62216bb3431285b84db976e0d4e0": {
     "model_module": "@jupyter-widgets/controls",
     "model_module_version": "1.5.0",
     "model_name": "HTMLModel",
     "state": {
      "_dom_classes": [],
      "_model_module": "@jupyter-widgets/controls",
      "_model_module_version": "1.5.0",
      "_model_name": "HTMLModel",
      "_view_count": null,
      "_view_module": "@jupyter-widgets/controls",
      "_view_module_version": "1.5.0",
      "_view_name": "HTMLView",
      "description": "",
      "description_tooltip": null,
      "layout": "IPY_MODEL_8e78b178aa3b48c7a5e7ea9554b8952f",
      "placeholder": "​",
      "style": "IPY_MODEL_4109c2e1bba744bb9538cad70e60bcc5",
      "value": " 13.3M/13.3M [00:01&lt;00:00, 7.44MB/s]"
     }
    },
    "4d4809c0c5794bb089b906b71ce34825": {
     "model_module": "@jupyter-widgets/base",
     "model_module_version": "1.2.0",
     "model_name": "LayoutModel",
     "state": {
      "_model_module": "@jupyter-widgets/base",
      "_model_module_version": "1.2.0",
      "_model_name": "LayoutModel",
      "_view_count": null,
      "_view_module": "@jupyter-widgets/base",
      "_view_module_version": "1.2.0",
      "_view_name": "LayoutView",
      "align_content": null,
      "align_items": null,
      "align_self": null,
      "border": null,
      "bottom": null,
      "display": null,
      "flex": null,
      "flex_flow": null,
      "grid_area": null,
      "grid_auto_columns": null,
      "grid_auto_flow": null,
      "grid_auto_rows": null,
      "grid_column": null,
      "grid_gap": null,
      "grid_row": null,
      "grid_template_areas": null,
      "grid_template_columns": null,
      "grid_template_rows": null,
      "height": null,
      "justify_content": null,
      "justify_items": null,
      "left": null,
      "margin": null,
      "max_height": null,
      "max_width": null,
      "min_height": null,
      "min_width": null,
      "object_fit": null,
      "object_position": null,
      "order": null,
      "overflow": null,
      "overflow_x": null,
      "overflow_y": null,
      "padding": null,
      "right": null,
      "top": null,
      "visibility": null,
      "width": null
     }
    },
    "4db26f188b2241c59c5e48728cf239da": {
     "model_module": "@jupyter-widgets/controls",
     "model_module_version": "1.5.0",
     "model_name": "FloatProgressModel",
     "state": {
      "_dom_classes": [],
      "_model_module": "@jupyter-widgets/controls",
      "_model_module_version": "1.5.0",
      "_model_name": "FloatProgressModel",
      "_view_count": null,
      "_view_module": "@jupyter-widgets/controls",
      "_view_module_version": "1.5.0",
      "_view_name": "ProgressView",
      "bar_style": "success",
      "description": "",
      "description_tooltip": null,
      "layout": "IPY_MODEL_0f1f209762ca4509926be25901ac8560",
      "max": 106151899,
      "min": 0,
      "orientation": "horizontal",
      "style": "IPY_MODEL_a614b6ff30d847b6a51f0127a95fa4ab",
      "value": 106151899
     }
    },
    "4f4eb27215b54cbbb3a2d745ab03b4f8": {
     "model_module": "@jupyter-widgets/controls",
     "model_module_version": "1.5.0",
     "model_name": "ProgressStyleModel",
     "state": {
      "_model_module": "@jupyter-widgets/controls",
      "_model_module_version": "1.5.0",
      "_model_name": "ProgressStyleModel",
      "_view_count": null,
      "_view_module": "@jupyter-widgets/base",
      "_view_module_version": "1.2.0",
      "_view_name": "StyleView",
      "bar_color": null,
      "description_width": ""
     }
    },
    "524925f934f6460dbce7e3fea4753e7d": {
     "model_module": "@jupyter-widgets/controls",
     "model_module_version": "1.5.0",
     "model_name": "HBoxModel",
     "state": {
      "_dom_classes": [],
      "_model_module": "@jupyter-widgets/controls",
      "_model_module_version": "1.5.0",
      "_model_name": "HBoxModel",
      "_view_count": null,
      "_view_module": "@jupyter-widgets/controls",
      "_view_module_version": "1.5.0",
      "_view_name": "HBoxView",
      "box_style": "",
      "children": [
       "IPY_MODEL_13a5ee82a62946118a2772ff8c1c691c",
       "IPY_MODEL_96f1b809229c4342ac57041afb832e98",
       "IPY_MODEL_456a62216bb3431285b84db976e0d4e0"
      ],
      "layout": "IPY_MODEL_52b365f5f33f41e699ae755d8cd80016"
     }
    },
    "52b365f5f33f41e699ae755d8cd80016": {
     "model_module": "@jupyter-widgets/base",
     "model_module_version": "1.2.0",
     "model_name": "LayoutModel",
     "state": {
      "_model_module": "@jupyter-widgets/base",
      "_model_module_version": "1.2.0",
      "_model_name": "LayoutModel",
      "_view_count": null,
      "_view_module": "@jupyter-widgets/base",
      "_view_module_version": "1.2.0",
      "_view_name": "LayoutView",
      "align_content": null,
      "align_items": null,
      "align_self": null,
      "border": null,
      "bottom": null,
      "display": null,
      "flex": null,
      "flex_flow": null,
      "grid_area": null,
      "grid_auto_columns": null,
      "grid_auto_flow": null,
      "grid_auto_rows": null,
      "grid_column": null,
      "grid_gap": null,
      "grid_row": null,
      "grid_template_areas": null,
      "grid_template_columns": null,
      "grid_template_rows": null,
      "height": null,
      "justify_content": null,
      "justify_items": null,
      "left": null,
      "margin": null,
      "max_height": null,
      "max_width": null,
      "min_height": null,
      "min_width": null,
      "object_fit": null,
      "object_position": null,
      "order": null,
      "overflow": null,
      "overflow_x": null,
      "overflow_y": null,
      "padding": null,
      "right": null,
      "top": null,
      "visibility": null,
      "width": null
     }
    },
    "52c4dbb9aaaa4bb4bc8d283283666f27": {
     "model_module": "@jupyter-widgets/controls",
     "model_module_version": "1.5.0",
     "model_name": "DescriptionStyleModel",
     "state": {
      "_model_module": "@jupyter-widgets/controls",
      "_model_module_version": "1.5.0",
      "_model_name": "DescriptionStyleModel",
      "_view_count": null,
      "_view_module": "@jupyter-widgets/base",
      "_view_module_version": "1.2.0",
      "_view_name": "StyleView",
      "description_width": ""
     }
    },
    "58cb1d700ba84ec597f06d09af4071cd": {
     "model_module": "@jupyter-widgets/controls",
     "model_module_version": "1.5.0",
     "model_name": "ProgressStyleModel",
     "state": {
      "_model_module": "@jupyter-widgets/controls",
      "_model_module_version": "1.5.0",
      "_model_name": "ProgressStyleModel",
      "_view_count": null,
      "_view_module": "@jupyter-widgets/base",
      "_view_module_version": "1.2.0",
      "_view_name": "StyleView",
      "bar_color": null,
      "description_width": ""
     }
    },
    "5c23ff0ca8614875935570cc9025a20a": {
     "model_module": "@jupyter-widgets/base",
     "model_module_version": "1.2.0",
     "model_name": "LayoutModel",
     "state": {
      "_model_module": "@jupyter-widgets/base",
      "_model_module_version": "1.2.0",
      "_model_name": "LayoutModel",
      "_view_count": null,
      "_view_module": "@jupyter-widgets/base",
      "_view_module_version": "1.2.0",
      "_view_name": "LayoutView",
      "align_content": null,
      "align_items": null,
      "align_self": null,
      "border": null,
      "bottom": null,
      "display": null,
      "flex": null,
      "flex_flow": null,
      "grid_area": null,
      "grid_auto_columns": null,
      "grid_auto_flow": null,
      "grid_auto_rows": null,
      "grid_column": null,
      "grid_gap": null,
      "grid_row": null,
      "grid_template_areas": null,
      "grid_template_columns": null,
      "grid_template_rows": null,
      "height": null,
      "justify_content": null,
      "justify_items": null,
      "left": null,
      "margin": null,
      "max_height": null,
      "max_width": null,
      "min_height": null,
      "min_width": null,
      "object_fit": null,
      "object_position": null,
      "order": null,
      "overflow": null,
      "overflow_x": null,
      "overflow_y": null,
      "padding": null,
      "right": null,
      "top": null,
      "visibility": null,
      "width": null
     }
    },
    "682744a7e28a4fcf98276c598c1b38b2": {
     "model_module": "@jupyter-widgets/controls",
     "model_module_version": "1.5.0",
     "model_name": "HBoxModel",
     "state": {
      "_dom_classes": [],
      "_model_module": "@jupyter-widgets/controls",
      "_model_module_version": "1.5.0",
      "_model_name": "HBoxModel",
      "_view_count": null,
      "_view_module": "@jupyter-widgets/controls",
      "_view_module_version": "1.5.0",
      "_view_name": "HBoxView",
      "box_style": "",
      "children": [
       "IPY_MODEL_3db0fbac9a0f4034be230a7046fc6356",
       "IPY_MODEL_6b72eb9769b24b8fb7d18711511d94de",
       "IPY_MODEL_b5174764bd454d4b886a53c6b63cfc1c"
      ],
      "layout": "IPY_MODEL_c1ac2a9e9d6a42eca1caffd1e04427ba"
     }
    },
    "688a40543df4446183862e933f4247e8": {
     "model_module": "@jupyter-widgets/controls",
     "model_module_version": "1.5.0",
     "model_name": "HTMLModel",
     "state": {
      "_dom_classes": [],
      "_model_module": "@jupyter-widgets/controls",
      "_model_module_version": "1.5.0",
      "_model_name": "HTMLModel",
      "_view_count": null,
      "_view_module": "@jupyter-widgets/controls",
      "_view_module_version": "1.5.0",
      "_view_name": "HTMLView",
      "description": "",
      "description_tooltip": null,
      "layout": "IPY_MODEL_228e2365264142689d5790e2b1f25df6",
      "placeholder": "​",
      "style": "IPY_MODEL_e140d579eda24fb8be0eab8c7661e7ee",
      "value": " 7.64k/7.64k [00:00&lt;00:00, 639kB/s]"
     }
    },
    "6b6334d5094147b68b25d2d3fe7d775c": {
     "model_module": "@jupyter-widgets/controls",
     "model_module_version": "1.5.0",
     "model_name": "ProgressStyleModel",
     "state": {
      "_model_module": "@jupyter-widgets/controls",
      "_model_module_version": "1.5.0",
      "_model_name": "ProgressStyleModel",
      "_view_count": null,
      "_view_module": "@jupyter-widgets/base",
      "_view_module_version": "1.2.0",
      "_view_name": "StyleView",
      "bar_color": null,
      "description_width": ""
     }
    },
    "6b72eb9769b24b8fb7d18711511d94de": {
     "model_module": "@jupyter-widgets/controls",
     "model_module_version": "1.5.0",
     "model_name": "FloatProgressModel",
     "state": {
      "_dom_classes": [],
      "_model_module": "@jupyter-widgets/controls",
      "_model_module_version": "1.5.0",
      "_model_name": "FloatProgressModel",
      "_view_count": null,
      "_view_module": "@jupyter-widgets/controls",
      "_view_module_version": "1.5.0",
      "_view_name": "ProgressView",
      "bar_style": "success",
      "description": "",
      "description_tooltip": null,
      "layout": "IPY_MODEL_102f250af797417bae6b757a2b97a5af",
      "max": 70000,
      "min": 0,
      "orientation": "horizontal",
      "style": "IPY_MODEL_4f4eb27215b54cbbb3a2d745ab03b4f8",
      "value": 70000
     }
    },
    "6d3043a0c6024ba5b6349fd1761bc05e": {
     "model_module": "@jupyter-widgets/base",
     "model_module_version": "1.2.0",
     "model_name": "LayoutModel",
     "state": {
      "_model_module": "@jupyter-widgets/base",
      "_model_module_version": "1.2.0",
      "_model_name": "LayoutModel",
      "_view_count": null,
      "_view_module": "@jupyter-widgets/base",
      "_view_module_version": "1.2.0",
      "_view_name": "LayoutView",
      "align_content": null,
      "align_items": null,
      "align_self": null,
      "border": null,
      "bottom": null,
      "display": null,
      "flex": null,
      "flex_flow": null,
      "grid_area": null,
      "grid_auto_columns": null,
      "grid_auto_flow": null,
      "grid_auto_rows": null,
      "grid_column": null,
      "grid_gap": null,
      "grid_row": null,
      "grid_template_areas": null,
      "grid_template_columns": null,
      "grid_template_rows": null,
      "height": null,
      "justify_content": null,
      "justify_items": null,
      "left": null,
      "margin": null,
      "max_height": null,
      "max_width": null,
      "min_height": null,
      "min_width": null,
      "object_fit": null,
      "object_position": null,
      "order": null,
      "overflow": null,
      "overflow_x": null,
      "overflow_y": null,
      "padding": null,
      "right": null,
      "top": null,
      "visibility": null,
      "width": null
     }
    },
    "704ae1e8611c4f5884f75c6e1ffd2fdd": {
     "model_module": "@jupyter-widgets/controls",
     "model_module_version": "1.5.0",
     "model_name": "DescriptionStyleModel",
     "state": {
      "_model_module": "@jupyter-widgets/controls",
      "_model_module_version": "1.5.0",
      "_model_name": "DescriptionStyleModel",
      "_view_count": null,
      "_view_module": "@jupyter-widgets/base",
      "_view_module_version": "1.2.0",
      "_view_name": "StyleView",
      "description_width": ""
     }
    },
    "765553fccd9f4ec39117984fa17fbece": {
     "model_module": "@jupyter-widgets/controls",
     "model_module_version": "1.5.0",
     "model_name": "HTMLModel",
     "state": {
      "_dom_classes": [],
      "_model_module": "@jupyter-widgets/controls",
      "_model_module_version": "1.5.0",
      "_model_name": "HTMLModel",
      "_view_count": null,
      "_view_module": "@jupyter-widgets/controls",
      "_view_module_version": "1.5.0",
      "_view_name": "HTMLView",
      "description": "",
      "description_tooltip": null,
      "layout": "IPY_MODEL_d08f2ed84a0146eeb1f90cb59e2c989f",
      "placeholder": "​",
      "style": "IPY_MODEL_14801640d8c74f1c924e4fb9928f674d",
      "value": "Generating train split: 100%"
     }
    },
    "7a97e0f7e40643e388ac9d7327a9b1e2": {
     "model_module": "@jupyter-widgets/controls",
     "model_module_version": "1.5.0",
     "model_name": "DescriptionStyleModel",
     "state": {
      "_model_module": "@jupyter-widgets/controls",
      "_model_module_version": "1.5.0",
      "_model_name": "DescriptionStyleModel",
      "_view_count": null,
      "_view_module": "@jupyter-widgets/base",
      "_view_module_version": "1.2.0",
      "_view_name": "StyleView",
      "description_width": ""
     }
    },
    "8059ee21e2714ef3968b495cdd6be695": {
     "model_module": "@jupyter-widgets/controls",
     "model_module_version": "1.5.0",
     "model_name": "DescriptionStyleModel",
     "state": {
      "_model_module": "@jupyter-widgets/controls",
      "_model_module_version": "1.5.0",
      "_model_name": "DescriptionStyleModel",
      "_view_count": null,
      "_view_module": "@jupyter-widgets/base",
      "_view_module_version": "1.2.0",
      "_view_name": "StyleView",
      "description_width": ""
     }
    },
    "8093aab399874e4cafa238bb2449ad49": {
     "model_module": "@jupyter-widgets/base",
     "model_module_version": "1.2.0",
     "model_name": "LayoutModel",
     "state": {
      "_model_module": "@jupyter-widgets/base",
      "_model_module_version": "1.2.0",
      "_model_name": "LayoutModel",
      "_view_count": null,
      "_view_module": "@jupyter-widgets/base",
      "_view_module_version": "1.2.0",
      "_view_name": "LayoutView",
      "align_content": null,
      "align_items": null,
      "align_self": null,
      "border": null,
      "bottom": null,
      "display": null,
      "flex": null,
      "flex_flow": null,
      "grid_area": null,
      "grid_auto_columns": null,
      "grid_auto_flow": null,
      "grid_auto_rows": null,
      "grid_column": null,
      "grid_gap": null,
      "grid_row": null,
      "grid_template_areas": null,
      "grid_template_columns": null,
      "grid_template_rows": null,
      "height": null,
      "justify_content": null,
      "justify_items": null,
      "left": null,
      "margin": null,
      "max_height": null,
      "max_width": null,
      "min_height": null,
      "min_width": null,
      "object_fit": null,
      "object_position": null,
      "order": null,
      "overflow": null,
      "overflow_x": null,
      "overflow_y": null,
      "padding": null,
      "right": null,
      "top": null,
      "visibility": null,
      "width": null
     }
    },
    "87a6f09dcbac46aa8cedfccee930b38f": {
     "model_module": "@jupyter-widgets/base",
     "model_module_version": "1.2.0",
     "model_name": "LayoutModel",
     "state": {
      "_model_module": "@jupyter-widgets/base",
      "_model_module_version": "1.2.0",
      "_model_name": "LayoutModel",
      "_view_count": null,
      "_view_module": "@jupyter-widgets/base",
      "_view_module_version": "1.2.0",
      "_view_name": "LayoutView",
      "align_content": null,
      "align_items": null,
      "align_self": null,
      "border": null,
      "bottom": null,
      "display": null,
      "flex": null,
      "flex_flow": null,
      "grid_area": null,
      "grid_auto_columns": null,
      "grid_auto_flow": null,
      "grid_auto_rows": null,
      "grid_column": null,
      "grid_gap": null,
      "grid_row": null,
      "grid_template_areas": null,
      "grid_template_columns": null,
      "grid_template_rows": null,
      "height": null,
      "justify_content": null,
      "justify_items": null,
      "left": null,
      "margin": null,
      "max_height": null,
      "max_width": null,
      "min_height": null,
      "min_width": null,
      "object_fit": null,
      "object_position": null,
      "order": null,
      "overflow": null,
      "overflow_x": null,
      "overflow_y": null,
      "padding": null,
      "right": null,
      "top": null,
      "visibility": null,
      "width": null
     }
    },
    "8b429870d3994cbfbaadd7f256a32417": {
     "model_module": "@jupyter-widgets/controls",
     "model_module_version": "1.5.0",
     "model_name": "FloatProgressModel",
     "state": {
      "_dom_classes": [],
      "_model_module": "@jupyter-widgets/controls",
      "_model_module_version": "1.5.0",
      "_model_name": "FloatProgressModel",
      "_view_count": null,
      "_view_module": "@jupyter-widgets/controls",
      "_view_module_version": "1.5.0",
      "_view_name": "ProgressView",
      "bar_style": "success",
      "description": "",
      "description_tooltip": null,
      "layout": "IPY_MODEL_33db39ca158a4361aeed0828818f2abe",
      "max": 7642,
      "min": 0,
      "orientation": "horizontal",
      "style": "IPY_MODEL_6b6334d5094147b68b25d2d3fe7d775c",
      "value": 7642
     }
    },
    "8e78b178aa3b48c7a5e7ea9554b8952f": {
     "model_module": "@jupyter-widgets/base",
     "model_module_version": "1.2.0",
     "model_name": "LayoutModel",
     "state": {
      "_model_module": "@jupyter-widgets/base",
      "_model_module_version": "1.2.0",
      "_model_name": "LayoutModel",
      "_view_count": null,
      "_view_module": "@jupyter-widgets/base",
      "_view_module_version": "1.2.0",
      "_view_name": "LayoutView",
      "align_content": null,
      "align_items": null,
      "align_self": null,
      "border": null,
      "bottom": null,
      "display": null,
      "flex": null,
      "flex_flow": null,
      "grid_area": null,
      "grid_auto_columns": null,
      "grid_auto_flow": null,
      "grid_auto_rows": null,
      "grid_column": null,
      "grid_gap": null,
      "grid_row": null,
      "grid_template_areas": null,
      "grid_template_columns": null,
      "grid_template_rows": null,
      "height": null,
      "justify_content": null,
      "justify_items": null,
      "left": null,
      "margin": null,
      "max_height": null,
      "max_width": null,
      "min_height": null,
      "min_width": null,
      "object_fit": null,
      "object_position": null,
      "order": null,
      "overflow": null,
      "overflow_x": null,
      "overflow_y": null,
      "padding": null,
      "right": null,
      "top": null,
      "visibility": null,
      "width": null
     }
    },
    "96f1b809229c4342ac57041afb832e98": {
     "model_module": "@jupyter-widgets/controls",
     "model_module_version": "1.5.0",
     "model_name": "FloatProgressModel",
     "state": {
      "_dom_classes": [],
      "_model_module": "@jupyter-widgets/controls",
      "_model_module_version": "1.5.0",
      "_model_name": "FloatProgressModel",
      "_view_count": null,
      "_view_module": "@jupyter-widgets/controls",
      "_view_module_version": "1.5.0",
      "_view_name": "ProgressView",
      "bar_style": "success",
      "description": "",
      "description_tooltip": null,
      "layout": "IPY_MODEL_4d4809c0c5794bb089b906b71ce34825",
      "max": 13272475,
      "min": 0,
      "orientation": "horizontal",
      "style": "IPY_MODEL_58cb1d700ba84ec597f06d09af4071cd",
      "value": 13272475
     }
    },
    "9a6e7f7b79ca43a59dec592dbe1188ff": {
     "model_module": "@jupyter-widgets/base",
     "model_module_version": "1.2.0",
     "model_name": "LayoutModel",
     "state": {
      "_model_module": "@jupyter-widgets/base",
      "_model_module_version": "1.2.0",
      "_model_name": "LayoutModel",
      "_view_count": null,
      "_view_module": "@jupyter-widgets/base",
      "_view_module_version": "1.2.0",
      "_view_name": "LayoutView",
      "align_content": null,
      "align_items": null,
      "align_self": null,
      "border": null,
      "bottom": null,
      "display": null,
      "flex": null,
      "flex_flow": null,
      "grid_area": null,
      "grid_auto_columns": null,
      "grid_auto_flow": null,
      "grid_auto_rows": null,
      "grid_column": null,
      "grid_gap": null,
      "grid_row": null,
      "grid_template_areas": null,
      "grid_template_columns": null,
      "grid_template_rows": null,
      "height": null,
      "justify_content": null,
      "justify_items": null,
      "left": null,
      "margin": null,
      "max_height": null,
      "max_width": null,
      "min_height": null,
      "min_width": null,
      "object_fit": null,
      "object_position": null,
      "order": null,
      "overflow": null,
      "overflow_x": null,
      "overflow_y": null,
      "padding": null,
      "right": null,
      "top": null,
      "visibility": null,
      "width": null
     }
    },
    "9c7fdc889fdc4cc588631b172a429bc4": {
     "model_module": "@jupyter-widgets/base",
     "model_module_version": "1.2.0",
     "model_name": "LayoutModel",
     "state": {
      "_model_module": "@jupyter-widgets/base",
      "_model_module_version": "1.2.0",
      "_model_name": "LayoutModel",
      "_view_count": null,
      "_view_module": "@jupyter-widgets/base",
      "_view_module_version": "1.2.0",
      "_view_name": "LayoutView",
      "align_content": null,
      "align_items": null,
      "align_self": null,
      "border": null,
      "bottom": null,
      "display": null,
      "flex": null,
      "flex_flow": null,
      "grid_area": null,
      "grid_auto_columns": null,
      "grid_auto_flow": null,
      "grid_auto_rows": null,
      "grid_column": null,
      "grid_gap": null,
      "grid_row": null,
      "grid_template_areas": null,
      "grid_template_columns": null,
      "grid_template_rows": null,
      "height": null,
      "justify_content": null,
      "justify_items": null,
      "left": null,
      "margin": null,
      "max_height": null,
      "max_width": null,
      "min_height": null,
      "min_width": null,
      "object_fit": null,
      "object_position": null,
      "order": null,
      "overflow": null,
      "overflow_x": null,
      "overflow_y": null,
      "padding": null,
      "right": null,
      "top": null,
      "visibility": null,
      "width": null
     }
    },
    "9dafbf2255154c2f93a7e99fb4d1406e": {
     "model_module": "@jupyter-widgets/base",
     "model_module_version": "1.2.0",
     "model_name": "LayoutModel",
     "state": {
      "_model_module": "@jupyter-widgets/base",
      "_model_module_version": "1.2.0",
      "_model_name": "LayoutModel",
      "_view_count": null,
      "_view_module": "@jupyter-widgets/base",
      "_view_module_version": "1.2.0",
      "_view_name": "LayoutView",
      "align_content": null,
      "align_items": null,
      "align_self": null,
      "border": null,
      "bottom": null,
      "display": null,
      "flex": null,
      "flex_flow": null,
      "grid_area": null,
      "grid_auto_columns": null,
      "grid_auto_flow": null,
      "grid_auto_rows": null,
      "grid_column": null,
      "grid_gap": null,
      "grid_row": null,
      "grid_template_areas": null,
      "grid_template_columns": null,
      "grid_template_rows": null,
      "height": null,
      "justify_content": null,
      "justify_items": null,
      "left": null,
      "margin": null,
      "max_height": null,
      "max_width": null,
      "min_height": null,
      "min_width": null,
      "object_fit": null,
      "object_position": null,
      "order": null,
      "overflow": null,
      "overflow_x": null,
      "overflow_y": null,
      "padding": null,
      "right": null,
      "top": null,
      "visibility": null,
      "width": null
     }
    },
    "a614b6ff30d847b6a51f0127a95fa4ab": {
     "model_module": "@jupyter-widgets/controls",
     "model_module_version": "1.5.0",
     "model_name": "ProgressStyleModel",
     "state": {
      "_model_module": "@jupyter-widgets/controls",
      "_model_module_version": "1.5.0",
      "_model_name": "ProgressStyleModel",
      "_view_count": null,
      "_view_module": "@jupyter-widgets/base",
      "_view_module_version": "1.2.0",
      "_view_name": "StyleView",
      "bar_color": null,
      "description_width": ""
     }
    },
    "b44638d045fe426fa9d79503ba8c2396": {
     "model_module": "@jupyter-widgets/controls",
     "model_module_version": "1.5.0",
     "model_name": "HTMLModel",
     "state": {
      "_dom_classes": [],
      "_model_module": "@jupyter-widgets/controls",
      "_model_module_version": "1.5.0",
      "_model_name": "HTMLModel",
      "_view_count": null,
      "_view_module": "@jupyter-widgets/controls",
      "_view_module_version": "1.5.0",
      "_view_name": "HTMLView",
      "description": "",
      "description_tooltip": null,
      "layout": "IPY_MODEL_6d3043a0c6024ba5b6349fd1761bc05e",
      "placeholder": "​",
      "style": "IPY_MODEL_704ae1e8611c4f5884f75c6e1ffd2fdd",
      "value": " 106M/106M [00:08&lt;00:00, 16.1MB/s]"
     }
    },
    "b5174764bd454d4b886a53c6b63cfc1c": {
     "model_module": "@jupyter-widgets/controls",
     "model_module_version": "1.5.0",
     "model_name": "HTMLModel",
     "state": {
      "_dom_classes": [],
      "_model_module": "@jupyter-widgets/controls",
      "_model_module_version": "1.5.0",
      "_model_name": "HTMLModel",
      "_view_count": null,
      "_view_module": "@jupyter-widgets/controls",
      "_view_module_version": "1.5.0",
      "_view_name": "HTMLView",
      "description": "",
      "description_tooltip": null,
      "layout": "IPY_MODEL_d98686341fd749d2bc6660a45fe6c4ed",
      "placeholder": "​",
      "style": "IPY_MODEL_f92b2199d2914ec19dc58b55a9bf93f3",
      "value": " 70000/70000 [00:00&lt;00:00, 491067.10 examples/s]"
     }
    },
    "c1ac2a9e9d6a42eca1caffd1e04427ba": {
     "model_module": "@jupyter-widgets/base",
     "model_module_version": "1.2.0",
     "model_name": "LayoutModel",
     "state": {
      "_model_module": "@jupyter-widgets/base",
      "_model_module_version": "1.2.0",
      "_model_name": "LayoutModel",
      "_view_count": null,
      "_view_module": "@jupyter-widgets/base",
      "_view_module_version": "1.2.0",
      "_view_name": "LayoutView",
      "align_content": null,
      "align_items": null,
      "align_self": null,
      "border": null,
      "bottom": null,
      "display": null,
      "flex": null,
      "flex_flow": null,
      "grid_area": null,
      "grid_auto_columns": null,
      "grid_auto_flow": null,
      "grid_auto_rows": null,
      "grid_column": null,
      "grid_gap": null,
      "grid_row": null,
      "grid_template_areas": null,
      "grid_template_columns": null,
      "grid_template_rows": null,
      "height": null,
      "justify_content": null,
      "justify_items": null,
      "left": null,
      "margin": null,
      "max_height": null,
      "max_width": null,
      "min_height": null,
      "min_width": null,
      "object_fit": null,
      "object_position": null,
      "order": null,
      "overflow": null,
      "overflow_x": null,
      "overflow_y": null,
      "padding": null,
      "right": null,
      "top": null,
      "visibility": null,
      "width": null
     }
    },
    "d08f2ed84a0146eeb1f90cb59e2c989f": {
     "model_module": "@jupyter-widgets/base",
     "model_module_version": "1.2.0",
     "model_name": "LayoutModel",
     "state": {
      "_model_module": "@jupyter-widgets/base",
      "_model_module_version": "1.2.0",
      "_model_name": "LayoutModel",
      "_view_count": null,
      "_view_module": "@jupyter-widgets/base",
      "_view_module_version": "1.2.0",
      "_view_name": "LayoutView",
      "align_content": null,
      "align_items": null,
      "align_self": null,
      "border": null,
      "bottom": null,
      "display": null,
      "flex": null,
      "flex_flow": null,
      "grid_area": null,
      "grid_auto_columns": null,
      "grid_auto_flow": null,
      "grid_auto_rows": null,
      "grid_column": null,
      "grid_gap": null,
      "grid_row": null,
      "grid_template_areas": null,
      "grid_template_columns": null,
      "grid_template_rows": null,
      "height": null,
      "justify_content": null,
      "justify_items": null,
      "left": null,
      "margin": null,
      "max_height": null,
      "max_width": null,
      "min_height": null,
      "min_width": null,
      "object_fit": null,
      "object_position": null,
      "order": null,
      "overflow": null,
      "overflow_x": null,
      "overflow_y": null,
      "padding": null,
      "right": null,
      "top": null,
      "visibility": null,
      "width": null
     }
    },
    "d8a8a8fc3c81463e811ac3e816391810": {
     "model_module": "@jupyter-widgets/controls",
     "model_module_version": "1.5.0",
     "model_name": "DescriptionStyleModel",
     "state": {
      "_model_module": "@jupyter-widgets/controls",
      "_model_module_version": "1.5.0",
      "_model_name": "DescriptionStyleModel",
      "_view_count": null,
      "_view_module": "@jupyter-widgets/base",
      "_view_module_version": "1.2.0",
      "_view_name": "StyleView",
      "description_width": ""
     }
    },
    "d98686341fd749d2bc6660a45fe6c4ed": {
     "model_module": "@jupyter-widgets/base",
     "model_module_version": "1.2.0",
     "model_name": "LayoutModel",
     "state": {
      "_model_module": "@jupyter-widgets/base",
      "_model_module_version": "1.2.0",
      "_model_name": "LayoutModel",
      "_view_count": null,
      "_view_module": "@jupyter-widgets/base",
      "_view_module_version": "1.2.0",
      "_view_name": "LayoutView",
      "align_content": null,
      "align_items": null,
      "align_self": null,
      "border": null,
      "bottom": null,
      "display": null,
      "flex": null,
      "flex_flow": null,
      "grid_area": null,
      "grid_auto_columns": null,
      "grid_auto_flow": null,
      "grid_auto_rows": null,
      "grid_column": null,
      "grid_gap": null,
      "grid_row": null,
      "grid_template_areas": null,
      "grid_template_columns": null,
      "grid_template_rows": null,
      "height": null,
      "justify_content": null,
      "justify_items": null,
      "left": null,
      "margin": null,
      "max_height": null,
      "max_width": null,
      "min_height": null,
      "min_width": null,
      "object_fit": null,
      "object_position": null,
      "order": null,
      "overflow": null,
      "overflow_x": null,
      "overflow_y": null,
      "padding": null,
      "right": null,
      "top": null,
      "visibility": null,
      "width": null
     }
    },
    "e140d579eda24fb8be0eab8c7661e7ee": {
     "model_module": "@jupyter-widgets/controls",
     "model_module_version": "1.5.0",
     "model_name": "DescriptionStyleModel",
     "state": {
      "_model_module": "@jupyter-widgets/controls",
      "_model_module_version": "1.5.0",
      "_model_name": "DescriptionStyleModel",
      "_view_count": null,
      "_view_module": "@jupyter-widgets/base",
      "_view_module_version": "1.2.0",
      "_view_name": "StyleView",
      "description_width": ""
     }
    },
    "e531a90ee5c04bcd9454a2d40265aa15": {
     "model_module": "@jupyter-widgets/controls",
     "model_module_version": "1.5.0",
     "model_name": "HTMLModel",
     "state": {
      "_dom_classes": [],
      "_model_module": "@jupyter-widgets/controls",
      "_model_module_version": "1.5.0",
      "_model_name": "HTMLModel",
      "_view_count": null,
      "_view_module": "@jupyter-widgets/controls",
      "_view_module_version": "1.5.0",
      "_view_name": "HTMLView",
      "description": "",
      "description_tooltip": null,
      "layout": "IPY_MODEL_9a6e7f7b79ca43a59dec592dbe1188ff",
      "placeholder": "​",
      "style": "IPY_MODEL_7a97e0f7e40643e388ac9d7327a9b1e2",
      "value": "Downloading readme: 100%"
     }
    },
    "e6df96be62dc4d508f93831d2a02a118": {
     "model_module": "@jupyter-widgets/controls",
     "model_module_version": "1.5.0",
     "model_name": "DescriptionStyleModel",
     "state": {
      "_model_module": "@jupyter-widgets/controls",
      "_model_module_version": "1.5.0",
      "_model_name": "DescriptionStyleModel",
      "_view_count": null,
      "_view_module": "@jupyter-widgets/base",
      "_view_module_version": "1.2.0",
      "_view_name": "StyleView",
      "description_width": ""
     }
    },
    "ed0150f53e03462ba9ff76e835ece91e": {
     "model_module": "@jupyter-widgets/controls",
     "model_module_version": "1.5.0",
     "model_name": "HBoxModel",
     "state": {
      "_dom_classes": [],
      "_model_module": "@jupyter-widgets/controls",
      "_model_module_version": "1.5.0",
      "_model_name": "HBoxModel",
      "_view_count": null,
      "_view_module": "@jupyter-widgets/controls",
      "_view_module_version": "1.5.0",
      "_view_name": "HBoxView",
      "box_style": "",
      "children": [
       "IPY_MODEL_765553fccd9f4ec39117984fa17fbece",
       "IPY_MODEL_278ed79853f44106914f7d56f66c9e46",
       "IPY_MODEL_03fa9451a4af4082893a69795b4bbbe4"
      ],
      "layout": "IPY_MODEL_9dafbf2255154c2f93a7e99fb4d1406e"
     }
    },
    "f8c0dce043324536a705e33bf09e4d1b": {
     "model_module": "@jupyter-widgets/controls",
     "model_module_version": "1.5.0",
     "model_name": "HBoxModel",
     "state": {
      "_dom_classes": [],
      "_model_module": "@jupyter-widgets/controls",
      "_model_module_version": "1.5.0",
      "_model_name": "HBoxModel",
      "_view_count": null,
      "_view_module": "@jupyter-widgets/controls",
      "_view_module_version": "1.5.0",
      "_view_name": "HBoxView",
      "box_style": "",
      "children": [
       "IPY_MODEL_1b342f01e1ed44bca53507ae4e55bd2a",
       "IPY_MODEL_4db26f188b2241c59c5e48728cf239da",
       "IPY_MODEL_b44638d045fe426fa9d79503ba8c2396"
      ],
      "layout": "IPY_MODEL_9c7fdc889fdc4cc588631b172a429bc4"
     }
    },
    "f8ec9b2452fa4d3380995d10c422bdab": {
     "model_module": "@jupyter-widgets/base",
     "model_module_version": "1.2.0",
     "model_name": "LayoutModel",
     "state": {
      "_model_module": "@jupyter-widgets/base",
      "_model_module_version": "1.2.0",
      "_model_name": "LayoutModel",
      "_view_count": null,
      "_view_module": "@jupyter-widgets/base",
      "_view_module_version": "1.2.0",
      "_view_name": "LayoutView",
      "align_content": null,
      "align_items": null,
      "align_self": null,
      "border": null,
      "bottom": null,
      "display": null,
      "flex": null,
      "flex_flow": null,
      "grid_area": null,
      "grid_auto_columns": null,
      "grid_auto_flow": null,
      "grid_auto_rows": null,
      "grid_column": null,
      "grid_gap": null,
      "grid_row": null,
      "grid_template_areas": null,
      "grid_template_columns": null,
      "grid_template_rows": null,
      "height": null,
      "justify_content": null,
      "justify_items": null,
      "left": null,
      "margin": null,
      "max_height": null,
      "max_width": null,
      "min_height": null,
      "min_width": null,
      "object_fit": null,
      "object_position": null,
      "order": null,
      "overflow": null,
      "overflow_x": null,
      "overflow_y": null,
      "padding": null,
      "right": null,
      "top": null,
      "visibility": null,
      "width": null
     }
    },
    "f92b2199d2914ec19dc58b55a9bf93f3": {
     "model_module": "@jupyter-widgets/controls",
     "model_module_version": "1.5.0",
     "model_name": "DescriptionStyleModel",
     "state": {
      "_model_module": "@jupyter-widgets/controls",
      "_model_module_version": "1.5.0",
      "_model_name": "DescriptionStyleModel",
      "_view_count": null,
      "_view_module": "@jupyter-widgets/base",
      "_view_module_version": "1.2.0",
      "_view_name": "StyleView",
      "description_width": ""
     }
    }
   }
  }
 },
 "nbformat": 4,
 "nbformat_minor": 4
}
