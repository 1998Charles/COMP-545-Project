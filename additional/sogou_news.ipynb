{
 "cells": [
  {
   "cell_type": "code",
   "execution_count": 1,
   "metadata": {
    "id": "zZyxheKp_giC"
   },
   "outputs": [],
   "source": [
    "import fasttext\n",
    "import pandas as pd\n",
    "from datasets import load_dataset\n",
    "from sklearn.metrics import accuracy_score"
   ]
  },
  {
   "cell_type": "code",
   "execution_count": 2,
   "metadata": {
    "colab": {
     "base_uri": "https://localhost:8080/",
     "height": 333,
     "referenced_widgets": [
      "319874031cb84d2fb36c3806d52f1592",
      "7d05f0708c8749508d0d8f6c980efc5a",
      "b41ad6e4963f4f258527dce10a6bd748",
      "76b9d40b63754278ad5a0159e0c66460",
      "5fe94f41b4b840bd8182c5061157fa33",
      "1c319e9513a3480f90a736b98c99fa6d",
      "dbde094eded24204939a454ec2f2a9e3",
      "d43a8922d21f4dd8b8a5e40b548efd1f",
      "0815efff25ee4b9590957ca7dc6b1b11",
      "88857987ab9b457eab286b21609398fc",
      "56281bec6be04620bab82d38f79a43fe",
      "63b2fe3287614c409fc8de2982bca2d7",
      "9d6ac8b1b3784aa786df2f00403a9e4e",
      "92b9f8cc8ff243b8a04d13cb4562691e",
      "8c54afa354d0482782b14490116ec71b",
      "9b560eed4f5747d79b4a1b89073d1d08",
      "be8eacf5117a44829beacdc36679f5f1",
      "205c1836c90c4b6f907b5cd92f3bf502",
      "694a4ff0aab345a1b13742a050e5e6eb",
      "7a49f986890a4f8ab689ac1a03f5659f",
      "7b320ee4083c4cee8eefd6a52e879093",
      "13bf65e1d8ce427b9718b033f68a9b3a",
      "c718d241606040958f4400c2e30f9258",
      "5ae62b6f8f2e41d88147a30b306ade4d",
      "40a0b3587782438c82514888d83fbfc2",
      "b22f0f6d26db4acea85e57032123bbca",
      "66e3cfb0c22c4816b9b5ebf09100093d",
      "bc6a2db82bae42b48c114f55ee961598",
      "ab8b758cb7fa411baffd0c3f3deace5b",
      "3f58b221baa24341a61e827efb01ea78",
      "f9436f05bfa6450d818bd6e884455507",
      "955099fe68ca4eda9e6b361d4950014f",
      "e2ab3281d8d24d5cb3b7072c1869f5cf",
      "4d851efd833e4c1ca8922ba280c26c0f",
      "a9e3e690bf6f42639b781042a9d2bfab",
      "302b9425b6df467da94d0179c3dba4bf",
      "065291be185543368400c39a24b7b95c",
      "404ce0ec763f4d56a87c80537d240a8f",
      "c808c4fa93db44038c6dc7b1cd8cc9ac",
      "667894c57dda453c919909679b4ab96b",
      "0958784247a446c19238159774ceed01",
      "59c17348c123465bae850586d074c066",
      "947fe909674342bea2d92ccbf0ecae0c",
      "f84f586031af4e2dbb7457c561fff781",
      "74c5710c61a44befa2f46e02ee5196fc",
      "aa914b493b2b4414a4cf54ed9dd09b38",
      "de255c57f78443149205d713dcefed23",
      "a405dc46a7f844ec8a52eb218d499248",
      "6e86f88e14464d16b39f139f42e8e8b9",
      "ae081f63dc8d4b2ba1ff97b8768d19ce",
      "5d7f0cc94ee341ea810dee3a27d7765c",
      "19c99f4a1a2f4d07aadf4da0bc7a029f",
      "23b4d038d0ab4278a3db2449a2beb79c",
      "09f25c19fec74439bf8a86187140afc3",
      "ef37fdc2dcf04e049868347380527596",
      "0fe0a7ab049f46e3accc4a701310784c",
      "fb462904a86b4c34961f038d5c6b639b",
      "524799ed0ba54c348119f855a0df5cdf",
      "17674ac8bafe41b18e30e435771ab287",
      "d8991f32953840f7a403bcd5e84c68cc",
      "90a4aab2338940bcb984ba82c06bea69",
      "1ca2fe50377a42f2bd94f6afa73ce255",
      "6378c3e95828445d81dbe240a60975fe",
      "94104d91add24a4896705c1609ba02b0",
      "3c84fcfe23ab49459022254930f4b075",
      "17e344e4cab946e2986833129cea246b"
     ]
    },
    "id": "qemHkSMo_jlb",
    "outputId": "7181484e-9e66-4ce2-8ee6-8abeb98355c9"
   },
   "outputs": [
    {
     "name": "stderr",
     "output_type": "stream",
     "text": [
      "Using the latest cached version of the dataset since sogou_news couldn't be found on the Hugging Face Hub\n",
      "Found the latest cached dataset configuration 'default' at /Users/mengtongshi/.cache/huggingface/datasets/sogou_news/default/0.0.0/b7e9afda15b5c433a71cb8bdca7b3a5c5ae6a4b8 (last modified on Sun Apr 21 23:19:15 2024).\n"
     ]
    },
    {
     "name": "stdout",
     "output_type": "stream",
     "text": [
      "DatasetDict({\n",
      "    test: Dataset({\n",
      "        features: ['title', 'content', 'label'],\n",
      "        num_rows: 60000\n",
      "    })\n",
      "    train: Dataset({\n",
      "        features: ['title', 'content', 'label'],\n",
      "        num_rows: 450000\n",
      "    })\n",
      "})\n"
     ]
    }
   ],
   "source": [
    "sogou_news = load_dataset(\"sogou_news\")\n",
    "print(sogou_news)"
   ]
  },
  {
   "cell_type": "code",
   "execution_count": 3,
   "metadata": {
    "id": "5wi9PhWi_pPS"
   },
   "outputs": [
    {
     "name": "stdout",
     "output_type": "stream",
     "text": [
      "<class 'list'>\n",
      "<class 'str'>\n",
      "2008 di4 qi1 jie4 qi1ng da3o guo2 ji4 che1 zha3n me3i nv3 mo2 te4 \n",
      "<class 'list'>\n",
      "<class 'str'>\n",
      "2008di4 qi1 jie4 qi1ng da3o guo2 ji4 che1 zha3n yu2 15 ri4 za4i qi1ng da3o guo2 ji4 hui4 zha3n zho1ng xi1n she4ng da4 ka1i mu4 . be3n ci4 che1 zha3n jia1ng chi2 xu4 da4o be3n yue4 19 ri4 . ji1n nia2n qi1ng da3o guo2 ji4 che1 zha3n shi4 li4 nia2n da3o che2ng che1 zha3n gui1 mo2 zui4 da4 di2 yi1 ci4 , shi3 yo4ng lia3o qi1ng da3o guo2 ji4 hui4 zha3n zho1ng xi1n di2 qua2n bu4 shi4 ne4i wa4i zha3n gua3n . yi3 xia4 we2i xia4n cha3ng mo2 te4 tu2 pia4n .\n",
      "<class 'list'>\n",
      "<class 'int'>\n",
      "3\n"
     ]
    }
   ],
   "source": [
    "print(type(sogou_news['train']['title']))\n",
    "print(type(sogou_news['train']['title'][0]))\n",
    "print(sogou_news['train']['title'][0])\n",
    "print(type(sogou_news['train']['content']))\n",
    "print(type(sogou_news['train']['content'][0]))\n",
    "print(sogou_news['train']['content'][0])\n",
    "print(type(sogou_news['train']['label']))\n",
    "print(type(sogou_news['train']['label'][0]))\n",
    "print(sogou_news['train']['label'][0])"
   ]
  },
  {
   "cell_type": "code",
   "execution_count": 4,
   "metadata": {},
   "outputs": [
    {
     "name": "stdout",
     "output_type": "stream",
     "text": [
      "<class 'list'>\n",
      "<class 'str'>\n",
      " ti3 ca1o shi4 jie4 be1i : che2ng fe1i na2 pi2ng he2ng mu4 zi4 yo2u ca1o ji1n pa2i \n",
      "<class 'list'>\n",
      "<class 'str'>\n",
      "su4 du4 : ( shuo1 mi2ng : dia3n ji1 zi4 do4ng bo1 fa4ng )\\n  shuo1 mi2ng : dia3n ji1 ga1i a4n niu3 , xua3n ze2 yi1 lu4n ta2n ji2 ke3 \n",
      "<class 'list'>\n",
      "<class 'int'>\n",
      "0\n"
     ]
    }
   ],
   "source": [
    "print(type(sogou_news['test']['title']))\n",
    "print(type(sogou_news['test']['title'][0]))\n",
    "print(sogou_news['test']['title'][0])\n",
    "print(type(sogou_news['test']['content']))\n",
    "print(type(sogou_news['test']['content'][0]))\n",
    "print(sogou_news['test']['content'][0])\n",
    "print(type(sogou_news['test']['label']))\n",
    "print(type(sogou_news['test']['label'][0]))\n",
    "print(sogou_news['test']['label'][0])"
   ]
  },
  {
   "cell_type": "code",
   "execution_count": 5,
   "metadata": {
    "id": "e2P4kkXXByhC"
   },
   "outputs": [],
   "source": [
    "def print_results(N, p, r):\n",
    "    print(\"N\\t\" + str(N))\n",
    "    print(\"P@{}\\t{:.3f}\".format(1, p))\n",
    "    print(\"R@{}\\t{:.3f}\".format(1, r))"
   ]
  },
  {
   "cell_type": "code",
   "execution_count": 6,
   "metadata": {
    "id": "BoUhJGND_pt4"
   },
   "outputs": [],
   "source": [
    "dataset = sogou_news"
   ]
  },
  {
   "cell_type": "code",
   "execution_count": 7,
   "metadata": {
    "id": "QwIkiBg4BjZM"
   },
   "outputs": [],
   "source": [
    "titles = dataset['train']['title']\n",
    "contents = dataset['train']['content']\n",
    "train_texts = [str(x) + str(y) for x, y in zip(titles, contents)]\n",
    "train_labels = dataset['train']['label']\n",
    "\n",
    "with open(\"train.txt\", \"w\") as f:\n",
    "    for text, label in zip(train_texts, train_labels):\n",
    "        f.write(f\"__label__{label} {text}\\n\")"
   ]
  },
  {
   "cell_type": "code",
   "execution_count": 8,
   "metadata": {
    "id": "vz9wkyc1Bjxg"
   },
   "outputs": [],
   "source": [
    "titles = dataset['test']['title']\n",
    "contents = dataset['test']['content']\n",
    "test_texts = [str(x) + str(y) for x, y in zip(titles, contents)]\n",
    "test_labels = dataset['test']['label']\n",
    "\n",
    "with open(\"test.txt\", \"w\") as f:\n",
    "    for text, label in zip(test_texts, test_labels):\n",
    "        f.write(f\"__label__{label} {text}\\n\")"
   ]
  },
  {
   "cell_type": "code",
   "execution_count": 9,
   "metadata": {
    "id": "QFg1_Y-rBtkG"
   },
   "outputs": [
    {
     "name": "stdout",
     "output_type": "stream",
     "text": [
      "Training model with lr=0.05, dim=5, epoch=5, and wordNgrams=2\n"
     ]
    },
    {
     "name": "stderr",
     "output_type": "stream",
     "text": [
      "Read 255M words\n",
      "Number of words:  819445\n",
      "Number of labels: 5\n",
      "Progress: 100.0% words/sec/thread: 3088973 lr:  0.000000 avg.loss:  0.228028 ETA:   0h 0m 0s\n",
      "Read 3M words"
     ]
    },
    {
     "name": "stdout",
     "output_type": "stream",
     "text": [
      "N\t60000\n",
      "P@1\t0.953\n",
      "R@1\t0.953\n",
      "\n",
      "Training model with lr=0.05, dim=5, epoch=10, and wordNgrams=2\n"
     ]
    },
    {
     "name": "stderr",
     "output_type": "stream",
     "text": [
      "Read 255M words\n",
      "Number of words:  819445\n",
      "Number of labels: 5\n",
      "Progress: 100.0% words/sec/thread: 3633346 lr:  0.000000 avg.loss:  0.148643 ETA:   0h 0m 0s\n"
     ]
    },
    {
     "name": "stdout",
     "output_type": "stream",
     "text": [
      "N\t60000\n",
      "P@1\t0.961\n",
      "R@1\t0.961\n",
      "\n",
      "Training model with lr=0.05, dim=5, epoch=15, and wordNgrams=2\n"
     ]
    },
    {
     "name": "stderr",
     "output_type": "stream",
     "text": [
      "Read 255M words\n",
      "Number of words:  819445\n",
      "Number of labels: 5\n",
      "Progress: 100.0% words/sec/thread: 4485541 lr:  0.000000 avg.loss:  0.118920 ETA:   0h 0m 0s\n"
     ]
    },
    {
     "name": "stdout",
     "output_type": "stream",
     "text": [
      "N\t60000\n",
      "P@1\t0.964\n",
      "R@1\t0.964\n",
      "\n",
      "Training model with lr=0.05, dim=5, epoch=5, and wordNgrams=3\n"
     ]
    },
    {
     "name": "stderr",
     "output_type": "stream",
     "text": [
      "Read 255M words\n",
      "Number of words:  819445\n",
      "Number of labels: 5\n",
      "Progress: 100.0% words/sec/thread: 1572872 lr:  0.000000 avg.loss:  0.237707 ETA:   0h 0m 0s\n"
     ]
    },
    {
     "name": "stdout",
     "output_type": "stream",
     "text": [
      "N\t60000\n",
      "P@1\t0.956\n",
      "R@1\t0.956\n",
      "\n",
      "Training model with lr=0.05, dim=5, epoch=10, and wordNgrams=3\n"
     ]
    },
    {
     "name": "stderr",
     "output_type": "stream",
     "text": [
      "Read 255M words\n",
      "Number of words:  819445\n",
      "Number of labels: 5\n",
      "Progress: 100.0% words/sec/thread: 2135914 lr:  0.000000 avg.loss:  0.166473 ETA:   0h 0m 0s\n"
     ]
    },
    {
     "name": "stdout",
     "output_type": "stream",
     "text": [
      "N\t60000\n",
      "P@1\t0.961\n",
      "R@1\t0.961\n",
      "\n",
      "Training model with lr=0.05, dim=5, epoch=15, and wordNgrams=3\n"
     ]
    },
    {
     "name": "stderr",
     "output_type": "stream",
     "text": [
      "Read 255M words\n",
      "Number of words:  819445\n",
      "Number of labels: 5\n",
      "Progress: 100.0% words/sec/thread: 2349934 lr:  0.000000 avg.loss:  0.136140 ETA:   0h 0m 0s\n"
     ]
    },
    {
     "name": "stdout",
     "output_type": "stream",
     "text": [
      "N\t60000\n",
      "P@1\t0.964\n",
      "R@1\t0.964\n",
      "\n",
      "Training model with lr=0.05, dim=5, epoch=5, and wordNgrams=4\n"
     ]
    },
    {
     "name": "stderr",
     "output_type": "stream",
     "text": [
      "Read 255M words\n",
      "Number of words:  819445\n",
      "Number of labels: 5\n",
      "Progress: 100.0% words/sec/thread: 1484683 lr:  0.000000 avg.loss:  0.267353 ETA:   0h 0m 0s\n"
     ]
    },
    {
     "name": "stdout",
     "output_type": "stream",
     "text": [
      "N\t60000\n",
      "P@1\t0.953\n",
      "R@1\t0.953\n",
      "\n",
      "Training model with lr=0.05, dim=5, epoch=10, and wordNgrams=4\n"
     ]
    },
    {
     "name": "stderr",
     "output_type": "stream",
     "text": [
      "Read 255M words\n",
      "Number of words:  819445\n",
      "Number of labels: 5\n",
      "Progress: 100.0% words/sec/thread: 1294851 lr:  0.000000 avg.loss:  0.164834 ETA:   0h 0m 0s\n"
     ]
    },
    {
     "name": "stdout",
     "output_type": "stream",
     "text": [
      "N\t60000\n",
      "P@1\t0.960\n",
      "R@1\t0.960\n",
      "\n",
      "Training model with lr=0.05, dim=5, epoch=15, and wordNgrams=4\n"
     ]
    },
    {
     "name": "stderr",
     "output_type": "stream",
     "text": [
      "Read 255M words\n",
      "Number of words:  819445\n",
      "Number of labels: 5\n",
      "Progress: 100.0% words/sec/thread: 1727647 lr:  0.000000 avg.loss:  0.137333 ETA:   0h 0m 0s words/sec/thread: 1687067 lr:  0.034770 avg.loss:  0.232929 ETA:   0h 3m45s% words/sec/thread: 1599304 lr:  0.014171 avg.loss:  0.164245 ETA:   0h 1m37s\n"
     ]
    },
    {
     "name": "stdout",
     "output_type": "stream",
     "text": [
      "N\t60000\n",
      "P@1\t0.964\n",
      "R@1\t0.964\n",
      "\n",
      "Training model with lr=0.05, dim=5, epoch=5, and wordNgrams=5\n"
     ]
    },
    {
     "name": "stderr",
     "output_type": "stream",
     "text": [
      "Read 255M words\n",
      "Number of words:  819445\n",
      "Number of labels: 5\n",
      "Progress: 100.0% words/sec/thread: 1655213 lr:  0.000000 avg.loss:  0.297553 ETA:   0h 0m 0s1879088 lr:  0.038333 avg.loss:  0.582791 ETA:   0h 1m14s\n",
      "Read 1M words"
     ]
    },
    {
     "name": "stdout",
     "output_type": "stream",
     "text": [
      "N\t60000\n",
      "P@1\t0.951\n",
      "R@1\t0.951\n",
      "\n",
      "Training model with lr=0.05, dim=5, epoch=10, and wordNgrams=5\n"
     ]
    },
    {
     "name": "stderr",
     "output_type": "stream",
     "text": [
      "Read 255M words\n",
      "Number of words:  819445\n",
      "Number of labels: 5\n",
      "Progress: 100.0% words/sec/thread: 1197577 lr:  0.000000 avg.loss:  0.203075 ETA:   0h 0m 0s  5.7% words/sec/thread:  457952 lr:  0.047156 avg.loss:  0.838909 ETA:   0h12m32s7s\n"
     ]
    },
    {
     "name": "stdout",
     "output_type": "stream",
     "text": [
      "N\t60000\n",
      "P@1\t0.959\n",
      "R@1\t0.959\n",
      "\n",
      "Training model with lr=0.05, dim=5, epoch=15, and wordNgrams=5\n"
     ]
    },
    {
     "name": "stderr",
     "output_type": "stream",
     "text": [
      "Read 255M words\n",
      "Number of words:  819445\n",
      "Number of labels: 5\n",
      "Progress: 100.0% words/sec/thread: 1239692 lr:  0.000000 avg.loss:  0.148768 ETA:   0h 0m 0s\n"
     ]
    },
    {
     "name": "stdout",
     "output_type": "stream",
     "text": [
      "N\t60000\n",
      "P@1\t0.963\n",
      "R@1\t0.963\n",
      "\n",
      "Training model with lr=0.05, dim=10, epoch=5, and wordNgrams=2\n"
     ]
    },
    {
     "name": "stderr",
     "output_type": "stream",
     "text": [
      "Read 255M words\n",
      "Number of words:  819445\n",
      "Number of labels: 5\n",
      "Progress: 100.0% words/sec/thread: 1947087 lr:  0.000000 avg.loss:  0.219608 ETA:   0h 0m 0s\n",
      "Read 2M words"
     ]
    },
    {
     "name": "stdout",
     "output_type": "stream",
     "text": [
      "N\t60000\n",
      "P@1\t0.954\n",
      "R@1\t0.954\n",
      "\n",
      "Training model with lr=0.05, dim=10, epoch=10, and wordNgrams=2\n"
     ]
    },
    {
     "name": "stderr",
     "output_type": "stream",
     "text": [
      "Read 255M words\n",
      "Number of words:  819445\n",
      "Number of labels: 5\n",
      "Progress: 100.0% words/sec/thread: 2523735 lr:  0.000000 avg.loss:  0.155055 ETA:   0h 0m 0s\n"
     ]
    },
    {
     "name": "stdout",
     "output_type": "stream",
     "text": [
      "N\t60000\n",
      "P@1\t0.961\n",
      "R@1\t0.961\n",
      "\n",
      "Training model with lr=0.05, dim=10, epoch=15, and wordNgrams=2\n"
     ]
    },
    {
     "name": "stderr",
     "output_type": "stream",
     "text": [
      "Read 255M words\n",
      "Number of words:  819445\n",
      "Number of labels: 5\n",
      "Progress: 100.0% words/sec/thread: 1893462 lr:  0.000000 avg.loss:  0.123173 ETA:   0h 0m 0s words/sec/thread: 1170149 lr:  0.046048 avg.loss:  0.405442 ETA:   0h 7m11s\n"
     ]
    },
    {
     "name": "stdout",
     "output_type": "stream",
     "text": [
      "N\t60000\n",
      "P@1\t0.964\n",
      "R@1\t0.964\n",
      "\n",
      "Training model with lr=0.05, dim=10, epoch=5, and wordNgrams=3\n"
     ]
    },
    {
     "name": "stderr",
     "output_type": "stream",
     "text": [
      "Read 255M words\n",
      "Number of words:  819445\n",
      "Number of labels: 5\n",
      "Progress: 100.0% words/sec/thread: 1623367 lr:  0.000000 avg.loss:  0.219071 ETA:   0h 0m 0s\n"
     ]
    },
    {
     "name": "stdout",
     "output_type": "stream",
     "text": [
      "N\t60000\n",
      "P@1\t0.953\n",
      "R@1\t0.953\n",
      "\n",
      "Training model with lr=0.05, dim=10, epoch=10, and wordNgrams=3\n"
     ]
    },
    {
     "name": "stderr",
     "output_type": "stream",
     "text": [
      "Read 255M words\n",
      "Number of words:  819445\n",
      "Number of labels: 5\n",
      "Progress: 100.0% words/sec/thread: 1535803 lr:  0.000000 avg.loss:  0.166239 ETA:   0h 0m 0s\n"
     ]
    },
    {
     "name": "stdout",
     "output_type": "stream",
     "text": [
      "N\t60000\n",
      "P@1\t0.961\n",
      "R@1\t0.961\n",
      "\n",
      "Training model with lr=0.05, dim=10, epoch=15, and wordNgrams=3\n"
     ]
    },
    {
     "name": "stderr",
     "output_type": "stream",
     "text": [
      "Read 255M words\n",
      "Number of words:  819445\n",
      "Number of labels: 5\n",
      "Progress: 100.0% words/sec/thread: 1669017 lr:  0.000000 avg.loss:  0.133113 ETA:   0h 0m 0s\n"
     ]
    },
    {
     "name": "stdout",
     "output_type": "stream",
     "text": [
      "N\t60000\n",
      "P@1\t0.965\n",
      "R@1\t0.965\n",
      "\n",
      "Training model with lr=0.05, dim=10, epoch=5, and wordNgrams=4\n"
     ]
    },
    {
     "name": "stderr",
     "output_type": "stream",
     "text": [
      "Read 255M words\n",
      "Number of words:  819445\n",
      "Number of labels: 5\n",
      "Progress: 100.0% words/sec/thread: 1325079 lr:  0.000000 avg.loss:  0.236865 ETA:   0h 0m 0s 97.2% words/sec/thread: 1334763 lr:  0.001402 avg.loss:  0.246083 ETA:   0h 0m 3s\n"
     ]
    },
    {
     "name": "stdout",
     "output_type": "stream",
     "text": [
      "N\t60000\n",
      "P@1\t0.952\n",
      "R@1\t0.952\n",
      "\n",
      "Training model with lr=0.05, dim=10, epoch=10, and wordNgrams=4\n"
     ]
    },
    {
     "name": "stderr",
     "output_type": "stream",
     "text": [
      "Read 255M words\n",
      "Number of words:  819445\n",
      "Number of labels: 5\n",
      "Progress: 100.0% words/sec/thread: 1099920 lr:  0.000000 avg.loss:  0.165801 ETA:   0h 0m 0s\n"
     ]
    },
    {
     "name": "stdout",
     "output_type": "stream",
     "text": [
      "N\t60000\n",
      "P@1\t0.960\n",
      "R@1\t0.960\n",
      "\n",
      "Training model with lr=0.05, dim=10, epoch=15, and wordNgrams=4\n"
     ]
    },
    {
     "name": "stderr",
     "output_type": "stream",
     "text": [
      "Read 255M words\n",
      "Number of words:  819445\n",
      "Number of labels: 5\n",
      "Progress: 100.0% words/sec/thread: 1448470 lr:  0.000000 avg.loss:  0.135692 ETA:   0h 0m 0s 17.2% words/sec/thread:  992841 lr:  0.041418 avg.loss:  0.348850 ETA:   0h 7m37s\n"
     ]
    },
    {
     "name": "stdout",
     "output_type": "stream",
     "text": [
      "N\t60000\n",
      "P@1\t0.964\n",
      "R@1\t0.964\n",
      "\n",
      "Training model with lr=0.05, dim=10, epoch=5, and wordNgrams=5\n"
     ]
    },
    {
     "name": "stderr",
     "output_type": "stream",
     "text": [
      "Read 255M words220M words\n",
      "Number of words:  819445\n",
      "Number of labels: 5\n",
      "Progress: 100.0% words/sec/thread:  956062 lr:  0.000000 avg.loss:  0.267652 ETA:   0h 0m 0s 92.0% words/sec/thread:  948075 lr:  0.003996 avg.loss:  0.287423 ETA:   0h 0m15s\n"
     ]
    },
    {
     "name": "stdout",
     "output_type": "stream",
     "text": [
      "N\t60000\n",
      "P@1\t0.951\n",
      "R@1\t0.951\n",
      "\n",
      "Training model with lr=0.05, dim=10, epoch=10, and wordNgrams=5\n"
     ]
    },
    {
     "name": "stderr",
     "output_type": "stream",
     "text": [
      "Read 255M words\n",
      "Number of words:  819445\n",
      "Number of labels: 5\n",
      "Progress: 100.0% words/sec/thread:  822849 lr:  0.000000 avg.loss:  0.185604 ETA:   0h 0m 0s0.035009 avg.loss:  0.351602 ETA:   0h 7m55s\n"
     ]
    },
    {
     "name": "stdout",
     "output_type": "stream",
     "text": [
      "N\t60000\n",
      "P@1\t0.959\n",
      "R@1\t0.959\n",
      "\n",
      "Training model with lr=0.05, dim=10, epoch=15, and wordNgrams=5\n"
     ]
    },
    {
     "name": "stderr",
     "output_type": "stream",
     "text": [
      "Read 255M words\n",
      "Number of words:  819445\n",
      "Number of labels: 5\n",
      "Progress: 100.0% words/sec/thread: 1072459 lr:  0.000000 avg.loss:  0.144444 ETA:   0h 0m 0s 0.012696 avg.loss:  0.176889 ETA:   0h 1m45s\n"
     ]
    },
    {
     "name": "stdout",
     "output_type": "stream",
     "text": [
      "N\t60000\n",
      "P@1\t0.963\n",
      "R@1\t0.963\n",
      "\n",
      "Training model with lr=0.05, dim=25, epoch=5, and wordNgrams=2\n"
     ]
    },
    {
     "name": "stderr",
     "output_type": "stream",
     "text": [
      "Read 255M words\n",
      "Number of words:  819445\n",
      "Number of labels: 5\n",
      "Progress: 100.0% words/sec/thread: 2492097 lr:  0.000000 avg.loss:  0.234769 ETA:   0h 0m 0s\n"
     ]
    },
    {
     "name": "stdout",
     "output_type": "stream",
     "text": [
      "N\t60000\n",
      "P@1\t0.956\n",
      "R@1\t0.956\n",
      "\n",
      "Training model with lr=0.05, dim=25, epoch=10, and wordNgrams=2\n"
     ]
    },
    {
     "name": "stderr",
     "output_type": "stream",
     "text": [
      "Read 255M words\n",
      "Number of words:  819445\n",
      "Number of labels: 5\n",
      "Progress: 100.0% words/sec/thread: 1410951 lr:  0.000000 avg.loss:  0.151365 ETA:   0h 0m 0s 32.9% words/sec/thread: 1443435 lr:  0.033572 avg.loss:  0.265911 ETA:   0h 2m49s\n"
     ]
    },
    {
     "name": "stdout",
     "output_type": "stream",
     "text": [
      "N\t60000\n",
      "P@1\t0.961\n",
      "R@1\t0.961\n",
      "\n",
      "Training model with lr=0.05, dim=25, epoch=15, and wordNgrams=2\n"
     ]
    },
    {
     "name": "stderr",
     "output_type": "stream",
     "text": [
      "Read 255M words\n",
      "Number of words:  819445\n",
      "Number of labels: 5\n",
      "Progress: 100.0% words/sec/thread: 2169435 lr:  0.000000 avg.loss:  0.129445 ETA:   0h 0m 0s\n"
     ]
    },
    {
     "name": "stdout",
     "output_type": "stream",
     "text": [
      "N\t60000\n",
      "P@1\t0.965\n",
      "R@1\t0.965\n",
      "\n",
      "Training model with lr=0.05, dim=25, epoch=5, and wordNgrams=3\n"
     ]
    },
    {
     "name": "stderr",
     "output_type": "stream",
     "text": [
      "Read 255M words137M words\n",
      "Number of words:  819445\n",
      "Number of labels: 5\n",
      "Progress: 100.0% words/sec/thread:  902805 lr:  0.000000 avg.loss:  0.242955 ETA:   0h 0m 0s\n"
     ]
    },
    {
     "name": "stdout",
     "output_type": "stream",
     "text": [
      "N\t60000\n",
      "P@1\t0.955\n",
      "R@1\t0.955\n",
      "\n",
      "Training model with lr=0.05, dim=25, epoch=10, and wordNgrams=3\n"
     ]
    },
    {
     "name": "stderr",
     "output_type": "stream",
     "text": [
      "Read 255M words155M words\n",
      "Number of words:  819445\n",
      "Number of labels: 5\n",
      "Progress: 100.0% words/sec/thread: 1206196 lr:  0.000000 avg.loss:  0.179991 ETA:   0h 0m 0s9.8% words/sec/thread:  918210 lr:  0.045083 avg.loss:  0.496859 ETA:   0h 5m58s\n"
     ]
    },
    {
     "name": "stdout",
     "output_type": "stream",
     "text": [
      "N\t60000\n",
      "P@1\t0.963\n",
      "R@1\t0.963\n",
      "\n",
      "Training model with lr=0.05, dim=25, epoch=15, and wordNgrams=3\n"
     ]
    },
    {
     "name": "stderr",
     "output_type": "stream",
     "text": [
      "Read 255M words\n",
      "Number of words:  819445\n",
      "Number of labels: 5\n",
      "Progress: 100.0% words/sec/thread: 1629667 lr:  0.000000 avg.loss:  0.123437 ETA:   0h 0m 0s\n"
     ]
    },
    {
     "name": "stdout",
     "output_type": "stream",
     "text": [
      "N\t60000\n",
      "P@1\t0.966\n",
      "R@1\t0.966\n",
      "\n",
      "Training model with lr=0.05, dim=25, epoch=5, and wordNgrams=4\n"
     ]
    },
    {
     "name": "stderr",
     "output_type": "stream",
     "text": [
      "Read 255M words\n",
      "Number of words:  819445\n",
      "Number of labels: 5\n",
      "Progress: 100.0% words/sec/thread:  553080 lr:  0.000000 avg.loss:  0.284699 ETA:   0h 0m 0s\n"
     ]
    },
    {
     "name": "stdout",
     "output_type": "stream",
     "text": [
      "N\t60000\n",
      "P@1\t0.952\n",
      "R@1\t0.952\n",
      "\n",
      "Training model with lr=0.05, dim=25, epoch=10, and wordNgrams=4\n"
     ]
    },
    {
     "name": "stderr",
     "output_type": "stream",
     "text": [
      "Read 255M words\n",
      "Number of words:  819445\n",
      "Number of labels: 5\n",
      "Progress: 100.0% words/sec/thread:  787129 lr:  0.000000 avg.loss:  0.170582 ETA:   0h 0m 0sh 2m10s\n"
     ]
    },
    {
     "name": "stdout",
     "output_type": "stream",
     "text": [
      "N\t60000\n",
      "P@1\t0.960\n",
      "R@1\t0.960\n",
      "\n",
      "Training model with lr=0.05, dim=25, epoch=15, and wordNgrams=4\n"
     ]
    },
    {
     "name": "stderr",
     "output_type": "stream",
     "text": [
      "Read 255M wordsM words\n",
      "Number of words:  819445\n",
      "Number of labels: 5\n",
      "Progress: 100.0% words/sec/thread:  896985 lr:  0.000000 avg.loss:  0.139283 ETA:   0h 0m 0s 74.6% words/sec/thread: 1001691 lr:  0.012700 avg.loss:  0.168331 ETA:   0h 2m18s 82.1% words/sec/thread:  953312 lr:  0.008941 avg.loss:  0.154639 ETA:   0h 1m42s 92.4% words/sec/thread:  911704 lr:  0.003797 avg.loss:  0.141141 ETA:   0h 0m45s\n"
     ]
    },
    {
     "name": "stdout",
     "output_type": "stream",
     "text": [
      "N\t60000\n",
      "P@1\t0.965\n",
      "R@1\t0.965\n",
      "\n",
      "Training model with lr=0.05, dim=25, epoch=5, and wordNgrams=5\n"
     ]
    },
    {
     "name": "stderr",
     "output_type": "stream",
     "text": [
      "Read 255M words\n",
      "Number of words:  819445\n",
      "Number of labels: 5\n",
      "Progress: 100.0% words/sec/thread:  971449 lr:  0.000000 avg.loss:  0.293999 ETA:   0h 0m 0s\n"
     ]
    },
    {
     "name": "stdout",
     "output_type": "stream",
     "text": [
      "N\t60000\n",
      "P@1\t0.951\n",
      "R@1\t0.951\n",
      "\n",
      "Training model with lr=0.05, dim=25, epoch=10, and wordNgrams=5\n"
     ]
    },
    {
     "name": "stderr",
     "output_type": "stream",
     "text": [
      "Read 255M words\n",
      "Number of words:  819445\n",
      "Number of labels: 5\n",
      "Progress: 100.0% words/sec/thread:  561032 lr:  0.000000 avg.loss:  0.203910 ETA:   0h 0m 0s0.047462 avg.loss:  0.961516 ETA:   0h15m23s 26.5% words/sec/thread:  523130 lr:  0.036768 avg.loss:  0.456444 ETA:   0h 8m33s\n",
      "Read 1M words"
     ]
    },
    {
     "name": "stdout",
     "output_type": "stream",
     "text": [
      "N\t60000\n",
      "P@1\t0.960\n",
      "R@1\t0.960\n",
      "\n",
      "Training model with lr=0.05, dim=25, epoch=15, and wordNgrams=5\n"
     ]
    },
    {
     "name": "stderr",
     "output_type": "stream",
     "text": [
      "Read 255M words\n",
      "Number of words:  819445\n",
      "Number of labels: 5\n",
      "Progress: 100.0% words/sec/thread:  858861 lr:  0.000000 avg.loss:  0.147256 ETA:   0h 0m 0s\n"
     ]
    },
    {
     "name": "stdout",
     "output_type": "stream",
     "text": [
      "N\t60000\n",
      "P@1\t0.964\n",
      "R@1\t0.964\n",
      "\n",
      "Training model with lr=0.1, dim=5, epoch=5, and wordNgrams=2\n"
     ]
    },
    {
     "name": "stderr",
     "output_type": "stream",
     "text": [
      "Read 255M words\n",
      "Number of words:  819445\n",
      "Number of labels: 5\n",
      "Progress: 100.0% words/sec/thread: 1756893 lr:  0.000000 avg.loss:  0.175794 ETA:   0h 0m 0s\n"
     ]
    },
    {
     "name": "stdout",
     "output_type": "stream",
     "text": [
      "N\t60000\n",
      "P@1\t0.958\n",
      "R@1\t0.958\n",
      "\n",
      "Training model with lr=0.1, dim=5, epoch=10, and wordNgrams=2\n"
     ]
    },
    {
     "name": "stderr",
     "output_type": "stream",
     "text": [
      "Read 255M words\n",
      "Number of words:  819445\n",
      "Number of labels: 5\n",
      "Progress: 100.0% words/sec/thread: 2369100 lr:  0.000000 avg.loss:  0.115581 ETA:   0h 0m 0s\n"
     ]
    },
    {
     "name": "stdout",
     "output_type": "stream",
     "text": [
      "N\t60000\n",
      "P@1\t0.965\n",
      "R@1\t0.965\n",
      "\n",
      "Training model with lr=0.1, dim=5, epoch=15, and wordNgrams=2\n"
     ]
    },
    {
     "name": "stderr",
     "output_type": "stream",
     "text": [
      "Read 255M words\n",
      "Number of words:  819445\n",
      "Number of labels: 5\n",
      "Progress: 100.0% words/sec/thread: 1759186 lr:  0.000000 avg.loss:  0.091720 ETA:   0h 0m 0s 56.7% words/sec/thread: 1709082 lr:  0.043334 avg.loss:  0.118626 ETA:   0h 2m18s\n"
     ]
    },
    {
     "name": "stdout",
     "output_type": "stream",
     "text": [
      "N\t60000\n",
      "P@1\t0.967\n",
      "R@1\t0.967\n",
      "\n",
      "Training model with lr=0.1, dim=5, epoch=5, and wordNgrams=3\n"
     ]
    },
    {
     "name": "stderr",
     "output_type": "stream",
     "text": [
      "Read 255M words\n",
      "Number of words:  819445\n",
      "Number of labels: 5\n",
      "Progress: 100.0% words/sec/thread: 1634978 lr:  0.000000 avg.loss:  0.156987 ETA:   0h 0m 0s\n"
     ]
    },
    {
     "name": "stdout",
     "output_type": "stream",
     "text": [
      "N\t60000\n",
      "P@1\t0.962\n",
      "R@1\t0.962\n",
      "\n",
      "Training model with lr=0.1, dim=5, epoch=10, and wordNgrams=3\n"
     ]
    },
    {
     "name": "stderr",
     "output_type": "stream",
     "text": [
      "Read 255M wordsM words253M words\n",
      "Number of words:  819445\n",
      "Number of labels: 5\n",
      "Progress: 100.0% words/sec/thread: 2055752 lr:  0.000000 avg.loss:  0.125344 ETA:   0h 0m 0s\n"
     ]
    },
    {
     "name": "stdout",
     "output_type": "stream",
     "text": [
      "N\t60000\n",
      "P@1\t0.966\n",
      "R@1\t0.966\n",
      "\n",
      "Training model with lr=0.1, dim=5, epoch=15, and wordNgrams=3\n"
     ]
    },
    {
     "name": "stderr",
     "output_type": "stream",
     "text": [
      "Read 255M words\n",
      "Number of words:  819445\n",
      "Number of labels: 5\n",
      "Progress: 100.0% words/sec/thread: 2163310 lr:  0.000000 avg.loss:  0.095530 ETA:   0h 0m 0s\n"
     ]
    },
    {
     "name": "stdout",
     "output_type": "stream",
     "text": [
      "N\t60000\n",
      "P@1\t0.969\n",
      "R@1\t0.969\n",
      "\n",
      "Training model with lr=0.1, dim=5, epoch=5, and wordNgrams=4\n"
     ]
    },
    {
     "name": "stderr",
     "output_type": "stream",
     "text": [
      "Read 255M words\n",
      "Number of words:  819445\n",
      "Number of labels: 5\n",
      "Progress: 100.0% words/sec/thread: 1324452 lr:  0.000000 avg.loss:  0.223986 ETA:   0h 0m 0s 30.5% words/sec/thread: 1067348 lr:  0.069469 avg.loss:  0.291041 ETA:   0h 1m58s\n"
     ]
    },
    {
     "name": "stdout",
     "output_type": "stream",
     "text": [
      "N\t60000\n",
      "P@1\t0.958\n",
      "R@1\t0.958\n",
      "\n",
      "Training model with lr=0.1, dim=5, epoch=10, and wordNgrams=4\n"
     ]
    },
    {
     "name": "stderr",
     "output_type": "stream",
     "text": [
      "Read 255M words\n",
      "Number of words:  819445\n",
      "Number of labels: 5\n",
      "Progress: 100.0% words/sec/thread: 1474217 lr:  0.000000 avg.loss:  0.133445 ETA:   0h 0m 0s\n"
     ]
    },
    {
     "name": "stdout",
     "output_type": "stream",
     "text": [
      "N\t60000\n",
      "P@1\t0.966\n",
      "R@1\t0.966\n",
      "\n",
      "Training model with lr=0.1, dim=5, epoch=15, and wordNgrams=4\n"
     ]
    },
    {
     "name": "stderr",
     "output_type": "stream",
     "text": [
      "Read 255M words138M words\n",
      "Number of words:  819445\n",
      "Number of labels: 5\n",
      "Progress: 100.0% words/sec/thread: 1200915 lr:  0.000000 avg.loss:  0.100665 ETA:   0h 0m 0s 32.0% words/sec/thread:  860949 lr:  0.068045 avg.loss:  0.189966 ETA:   0h 7m13s 72.4% words/sec/thread: 1051625 lr:  0.027591 avg.loss:  0.128986 ETA:   0h 2m23s 83.2% words/sec/thread: 1108821 lr:  0.016832 avg.loss:  0.117352 ETA:   0h 1m23s\n"
     ]
    },
    {
     "name": "stdout",
     "output_type": "stream",
     "text": [
      "N\t60000\n",
      "P@1\t0.969\n",
      "R@1\t0.969\n",
      "\n",
      "Training model with lr=0.1, dim=5, epoch=5, and wordNgrams=5\n"
     ]
    },
    {
     "name": "stderr",
     "output_type": "stream",
     "text": [
      "Read 255M words\n",
      "Number of words:  819445\n",
      "Number of labels: 5\n",
      "Progress: 100.0% words/sec/thread:  987980 lr:  0.000000 avg.loss:  0.211981 ETA:   0h 0m 0s\n"
     ]
    },
    {
     "name": "stdout",
     "output_type": "stream",
     "text": [
      "N\t60000\n",
      "P@1\t0.958\n",
      "R@1\t0.958\n",
      "\n",
      "Training model with lr=0.1, dim=5, epoch=10, and wordNgrams=5\n"
     ]
    },
    {
     "name": "stderr",
     "output_type": "stream",
     "text": [
      "Read 255M words\n",
      "Number of words:  819445\n",
      "Number of labels: 5\n",
      "Progress: 100.0% words/sec/thread:  877870 lr:  0.000000 avg.loss:  0.136666 ETA:   0h 0m 0s 94.9% words/sec/thread:  865992 lr:  0.005124 avg.loss:  0.138304 ETA:   0h 0m21s\n"
     ]
    },
    {
     "name": "stdout",
     "output_type": "stream",
     "text": [
      "N\t60000\n",
      "P@1\t0.965\n",
      "R@1\t0.965\n",
      "\n",
      "Training model with lr=0.1, dim=5, epoch=15, and wordNgrams=5\n"
     ]
    },
    {
     "name": "stderr",
     "output_type": "stream",
     "text": [
      "Read 255M words\n",
      "Number of words:  819445\n",
      "Number of labels: 5\n",
      "Progress: 100.0% words/sec/thread:  787319 lr:  0.000000 avg.loss:  0.097360 ETA:   0h 0m 0s 5m32s 39.7% words/sec/thread:  898603 lr:  0.060260 avg.loss:  0.174157 ETA:   0h 6m 7s\n"
     ]
    },
    {
     "name": "stdout",
     "output_type": "stream",
     "text": [
      "N\t60000\n",
      "P@1\t0.968\n",
      "R@1\t0.968\n",
      "\n",
      "Training model with lr=0.1, dim=10, epoch=5, and wordNgrams=2\n"
     ]
    },
    {
     "name": "stderr",
     "output_type": "stream",
     "text": [
      "Read 255M words\n",
      "Number of words:  819445\n",
      "Number of labels: 5\n",
      "Progress: 100.0% words/sec/thread: 2426853 lr:  0.000000 avg.loss:  0.203336 ETA:   0h 0m 0s\n"
     ]
    },
    {
     "name": "stdout",
     "output_type": "stream",
     "text": [
      "N\t60000\n",
      "P@1\t0.962\n",
      "R@1\t0.962\n",
      "\n",
      "Training model with lr=0.1, dim=10, epoch=10, and wordNgrams=2\n"
     ]
    },
    {
     "name": "stderr",
     "output_type": "stream",
     "text": [
      "Read 255M words\n",
      "Number of words:  819445\n",
      "Number of labels: 5\n",
      "Progress: 100.0% words/sec/thread: 2018193 lr:  0.000000 avg.loss:  0.122971 ETA:   0h 0m 0s ETA:   0h 0m35s 81.7% words/sec/thread: 2115365 lr:  0.018349 avg.loss:  0.127388 ETA:   0h 0m31s\n"
     ]
    },
    {
     "name": "stdout",
     "output_type": "stream",
     "text": [
      "N\t60000\n",
      "P@1\t0.966\n",
      "R@1\t0.966\n",
      "\n",
      "Training model with lr=0.1, dim=10, epoch=15, and wordNgrams=2\n"
     ]
    },
    {
     "name": "stderr",
     "output_type": "stream",
     "text": [
      "Read 255M words\n",
      "Number of words:  819445\n",
      "Number of labels: 5\n",
      "Progress: 100.0% words/sec/thread: 1651240 lr:  0.000000 avg.loss:  0.090156 ETA:   0h 0m 0s  6.5% words/sec/thread: 1289627 lr:  0.093526 avg.loss:  0.320054 ETA:   0h 6m37s\n"
     ]
    },
    {
     "name": "stdout",
     "output_type": "stream",
     "text": [
      "N\t60000\n",
      "P@1\t0.967\n",
      "R@1\t0.967\n",
      "\n",
      "Training model with lr=0.1, dim=10, epoch=5, and wordNgrams=3\n"
     ]
    },
    {
     "name": "stderr",
     "output_type": "stream",
     "text": [
      "Read 255M words\n",
      "Number of words:  819445\n",
      "Number of labels: 5\n",
      "Progress: 100.0% words/sec/thread: 1252030 lr:  0.000000 avg.loss:  0.168865 ETA:   0h 0m 0s\n"
     ]
    },
    {
     "name": "stdout",
     "output_type": "stream",
     "text": [
      "N\t60000\n",
      "P@1\t0.962\n",
      "R@1\t0.962\n",
      "\n",
      "Training model with lr=0.1, dim=10, epoch=10, and wordNgrams=3\n"
     ]
    },
    {
     "name": "stderr",
     "output_type": "stream",
     "text": [
      "Read 255M words\n",
      "Number of words:  819445\n",
      "Number of labels: 5\n",
      "Progress: 100.0% words/sec/thread: 1348275 lr: -0.000000 avg.loss:  0.110598 ETA:   0h 0m 0s100.0% words/sec/thread: 1348138 lr:  0.000000 avg.loss:  0.110598 ETA:   0h 0m 0s\n"
     ]
    },
    {
     "name": "stdout",
     "output_type": "stream",
     "text": [
      "N\t60000\n",
      "P@1\t0.966\n",
      "R@1\t0.966\n",
      "\n",
      "Training model with lr=0.1, dim=10, epoch=15, and wordNgrams=3\n"
     ]
    },
    {
     "name": "stderr",
     "output_type": "stream",
     "text": [
      "Read 255M words\n",
      "Number of words:  819445\n",
      "Number of labels: 5\n",
      "Progress: 100.0% words/sec/thread:  819287 lr:  0.000000 avg.loss:  0.084829 ETA:   0h 0m 0s\n"
     ]
    },
    {
     "name": "stdout",
     "output_type": "stream",
     "text": [
      "N\t60000\n",
      "P@1\t0.969\n",
      "R@1\t0.969\n",
      "\n",
      "Training model with lr=0.1, dim=10, epoch=5, and wordNgrams=4\n"
     ]
    },
    {
     "name": "stderr",
     "output_type": "stream",
     "text": [
      "Read 255M words\n",
      "Number of words:  819445\n",
      "Number of labels: 5\n",
      "Progress: 100.0% words/sec/thread: 1395349 lr:  0.000000 avg.loss:  0.188448 ETA:   0h 0m 0s0m16s\n"
     ]
    },
    {
     "name": "stdout",
     "output_type": "stream",
     "text": [
      "N\t60000\n",
      "P@1\t0.959\n",
      "R@1\t0.959\n",
      "\n",
      "Training model with lr=0.1, dim=10, epoch=10, and wordNgrams=4\n"
     ]
    },
    {
     "name": "stderr",
     "output_type": "stream",
     "text": [
      "Read 255M words\n",
      "Number of words:  819445\n",
      "Number of labels: 5\n",
      "Progress: 100.0% words/sec/thread:  899980 lr:  0.000000 avg.loss:  0.118809 ETA:   0h 0m 0s 73.8% words/sec/thread:  794041 lr:  0.026230 avg.loss:  0.128210 ETA:   0h 2m 0s\n"
     ]
    },
    {
     "name": "stdout",
     "output_type": "stream",
     "text": [
      "N\t60000\n",
      "P@1\t0.966\n",
      "R@1\t0.966\n",
      "\n",
      "Training model with lr=0.1, dim=10, epoch=15, and wordNgrams=4\n"
     ]
    },
    {
     "name": "stderr",
     "output_type": "stream",
     "text": [
      "Read 255M words\n",
      "Number of words:  819445\n",
      "Number of labels: 5\n",
      "Progress: 100.0% words/sec/thread:  770095 lr:  0.000000 avg.loss:  0.093838 ETA:   0h 0m 0s words/sec/thread:  433103 lr:  0.094469 avg.loss:  0.406339 ETA:   0h19m55s\n"
     ]
    },
    {
     "name": "stdout",
     "output_type": "stream",
     "text": [
      "N\t60000\n",
      "P@1\t0.969\n",
      "R@1\t0.969\n",
      "\n",
      "Training model with lr=0.1, dim=10, epoch=5, and wordNgrams=5\n"
     ]
    },
    {
     "name": "stderr",
     "output_type": "stream",
     "text": [
      "Read 255M words\n",
      "Number of words:  819445\n",
      "Number of labels: 5\n",
      "Progress: 100.0% words/sec/thread:  494923 lr:  0.000000 avg.loss:  0.225875 ETA:   0h 0m 0s\n"
     ]
    },
    {
     "name": "stdout",
     "output_type": "stream",
     "text": [
      "N\t60000\n",
      "P@1\t0.958\n",
      "R@1\t0.958\n",
      "\n",
      "Training model with lr=0.1, dim=10, epoch=10, and wordNgrams=5\n"
     ]
    },
    {
     "name": "stderr",
     "output_type": "stream",
     "text": [
      "Read 255M words\n",
      "Number of words:  819445\n",
      "Number of labels: 5\n",
      "Progress: 100.0% words/sec/thread:  773804 lr:  0.000000 avg.loss:  0.142346 ETA:   0h 0m 0s\n"
     ]
    },
    {
     "name": "stdout",
     "output_type": "stream",
     "text": [
      "N\t60000\n",
      "P@1\t0.965\n",
      "R@1\t0.965\n",
      "\n",
      "Training model with lr=0.1, dim=10, epoch=15, and wordNgrams=5\n"
     ]
    },
    {
     "name": "stderr",
     "output_type": "stream",
     "text": [
      "Read 255M words\n",
      "Number of words:  819445\n",
      "Number of labels: 5\n",
      "Progress: 100.0% words/sec/thread:  975798 lr:  0.000000 avg.loss:  0.093936 ETA:   0h 0m 0s 31.6% words/sec/thread:  775132 lr:  0.068437 avg.loss:  0.209508 ETA:   0h 8m 3s 76.4% words/sec/thread:  905452 lr:  0.023568 avg.loss:  0.116388 ETA:   0h 2m22s\n"
     ]
    },
    {
     "name": "stdout",
     "output_type": "stream",
     "text": [
      "N\t60000\n",
      "P@1\t0.968\n",
      "R@1\t0.968\n",
      "\n",
      "Training model with lr=0.1, dim=25, epoch=5, and wordNgrams=2\n"
     ]
    },
    {
     "name": "stderr",
     "output_type": "stream",
     "text": [
      "Read 255M words\n",
      "Number of words:  819445\n",
      "Number of labels: 5\n",
      "Progress: 100.0% words/sec/thread:  782190 lr:  0.000000 avg.loss:  0.174958 ETA:   0h 0m 0s\n"
     ]
    },
    {
     "name": "stdout",
     "output_type": "stream",
     "text": [
      "N\t60000\n",
      "P@1\t0.960\n",
      "R@1\t0.960\n",
      "\n",
      "Training model with lr=0.1, dim=25, epoch=10, and wordNgrams=2\n"
     ]
    },
    {
     "name": "stderr",
     "output_type": "stream",
     "text": [
      "Read 255M words\n",
      "Number of words:  819445\n",
      "Number of labels: 5\n",
      "Progress: 100.0% words/sec/thread: 1791088 lr:  0.000000 avg.loss:  0.120117 ETA:   0h 0m 0s lr:  0.000476 avg.loss:  0.120230 ETA:   0h 0m 0s\n"
     ]
    },
    {
     "name": "stdout",
     "output_type": "stream",
     "text": [
      "N\t60000\n",
      "P@1\t0.966\n",
      "R@1\t0.966\n",
      "\n",
      "Training model with lr=0.1, dim=25, epoch=15, and wordNgrams=2\n"
     ]
    },
    {
     "name": "stderr",
     "output_type": "stream",
     "text": [
      "Read 255M words\n",
      "Number of words:  819445\n",
      "Number of labels: 5\n",
      "Progress: 100.0% words/sec/thread: 1317476 lr:  0.000000 avg.loss:  0.093159 ETA:   0h 0m 0s\n"
     ]
    },
    {
     "name": "stdout",
     "output_type": "stream",
     "text": [
      "N\t60000\n",
      "P@1\t0.967\n",
      "R@1\t0.967\n",
      "\n",
      "Training model with lr=0.1, dim=25, epoch=5, and wordNgrams=3\n"
     ]
    },
    {
     "name": "stderr",
     "output_type": "stream",
     "text": [
      "Read 255M words\n",
      "Number of words:  819445\n",
      "Number of labels: 5\n",
      "Progress: 100.0% words/sec/thread: 1282398 lr:  0.000000 avg.loss:  0.208305 ETA:   0h 0m 0s\n"
     ]
    },
    {
     "name": "stdout",
     "output_type": "stream",
     "text": [
      "N\t60000\n",
      "P@1\t0.962\n",
      "R@1\t0.962\n",
      "\n",
      "Training model with lr=0.1, dim=25, epoch=10, and wordNgrams=3\n"
     ]
    },
    {
     "name": "stderr",
     "output_type": "stream",
     "text": [
      "Read 255M words\n",
      "Number of words:  819445\n",
      "Number of labels: 5\n",
      "Progress: 100.0% words/sec/thread: 1075752 lr:  0.000000 avg.loss:  0.119884 ETA:   0h 0m 0s 59.9% words/sec/thread: 1424123 lr:  0.040062 avg.loss:  0.153143 ETA:   0h 1m42s\n"
     ]
    },
    {
     "name": "stdout",
     "output_type": "stream",
     "text": [
      "N\t60000\n",
      "P@1\t0.967\n",
      "R@1\t0.967\n",
      "\n",
      "Training model with lr=0.1, dim=25, epoch=15, and wordNgrams=3\n"
     ]
    },
    {
     "name": "stderr",
     "output_type": "stream",
     "text": [
      "Read 255M words\n",
      "Number of words:  819445\n",
      "Number of labels: 5\n",
      "Progress: 100.0% words/sec/thread: 1083107 lr:  0.000000 avg.loss:  0.092370 ETA:   0h 0m 0s 17.5% words/sec/thread: 1407078 lr:  0.082471 avg.loss:  0.257855 ETA:   0h 5m21s 96.2% words/sec/thread: 1086497 lr:  0.003757 avg.loss:  0.093279 ETA:   0h 0m18s\n"
     ]
    },
    {
     "name": "stdout",
     "output_type": "stream",
     "text": [
      "N\t60000\n",
      "P@1\t0.969\n",
      "R@1\t0.969\n",
      "\n",
      "Training model with lr=0.1, dim=25, epoch=5, and wordNgrams=4\n"
     ]
    },
    {
     "name": "stderr",
     "output_type": "stream",
     "text": [
      "Read 255M words\n",
      "Number of words:  819445\n",
      "Number of labels: 5\n",
      "Progress: 100.0% words/sec/thread:  910744 lr:  0.000000 avg.loss:  0.219990 ETA:   0h 0m 0s 22.1% words/sec/thread:  691210 lr:  0.077878 avg.loss:  0.388227 ETA:   0h 3m25s 34.8% words/sec/thread:  720859 lr:  0.065223 avg.loss:  0.324497 ETA:   0h 2m45s\n"
     ]
    },
    {
     "name": "stdout",
     "output_type": "stream",
     "text": [
      "N\t60000\n",
      "P@1\t0.961\n",
      "R@1\t0.961\n",
      "\n",
      "Training model with lr=0.1, dim=25, epoch=10, and wordNgrams=4\n"
     ]
    },
    {
     "name": "stderr",
     "output_type": "stream",
     "text": [
      "Read 255M words\n",
      "Number of words:  819445\n",
      "Number of labels: 5\n",
      "Progress: 100.0% words/sec/thread:  990569 lr:  0.000000 avg.loss:  0.134677 ETA:   0h 0m 0s\n"
     ]
    },
    {
     "name": "stdout",
     "output_type": "stream",
     "text": [
      "N\t60000\n",
      "P@1\t0.966\n",
      "R@1\t0.966\n",
      "\n",
      "Training model with lr=0.1, dim=25, epoch=15, and wordNgrams=4\n"
     ]
    },
    {
     "name": "stderr",
     "output_type": "stream",
     "text": [
      "Read 255M words\n",
      "Number of words:  819445\n",
      "Number of labels: 5\n",
      "Progress: 100.0% words/sec/thread: 1134942 lr:  0.000000 avg.loss:  0.093086 ETA:   0h 0m 0s\n"
     ]
    },
    {
     "name": "stdout",
     "output_type": "stream",
     "text": [
      "N\t60000\n",
      "P@1\t0.969\n",
      "R@1\t0.969\n",
      "\n",
      "Training model with lr=0.1, dim=25, epoch=5, and wordNgrams=5\n"
     ]
    },
    {
     "name": "stderr",
     "output_type": "stream",
     "text": [
      "Read 255M words\n",
      "Number of words:  819445\n",
      "Number of labels: 5\n",
      "Progress: 100.0% words/sec/thread:  409448 lr:  0.000000 avg.loss:  0.221405 ETA:   0h 0m 0s% words/sec/thread:  319277 lr:  0.064836 avg.loss:  0.345738 ETA:   0h 6m10s68.5% words/sec/thread:  331902 lr:  0.031520 avg.loss:  0.273606 ETA:   0h 2m53s\n"
     ]
    },
    {
     "name": "stdout",
     "output_type": "stream",
     "text": [
      "N\t60000\n",
      "P@1\t0.958\n",
      "R@1\t0.958\n",
      "\n",
      "Training model with lr=0.1, dim=25, epoch=10, and wordNgrams=5\n"
     ]
    },
    {
     "name": "stderr",
     "output_type": "stream",
     "text": [
      "Read 255M words\n",
      "Number of words:  819445\n",
      "Number of labels: 5\n",
      "Progress: 100.0% words/sec/thread:  632271 lr:  0.000000 avg.loss:  0.136088 ETA:   0h 0m 0s 0.086794 avg.loss:  0.382158 ETA:   0h12m19s 87.5% words/sec/thread:  656142 lr:  0.012511 avg.loss:  0.140342 ETA:   0h 1m 9s\n"
     ]
    },
    {
     "name": "stdout",
     "output_type": "stream",
     "text": [
      "N\t60000\n",
      "P@1\t0.965\n",
      "R@1\t0.965\n",
      "\n",
      "Training model with lr=0.1, dim=25, epoch=15, and wordNgrams=5\n"
     ]
    },
    {
     "name": "stderr",
     "output_type": "stream",
     "text": [
      "Read 255M words\n",
      "Number of words:  819445\n",
      "Number of labels: 5\n",
      "Progress: 100.0% words/sec/thread:  609173 lr:  0.000000 avg.loss:  0.103378 ETA:   0h 0m 0s 23.5% words/sec/thread:  936255 lr:  0.076466 avg.loss:  0.251025 ETA:   0h 7m27s 67.0% words/sec/thread:  698345 lr:  0.033029 avg.loss:  0.133446 ETA:   0h 4m19s92.8% words/sec/thread:  625512 lr:  0.007238 avg.loss:  0.105286 ETA:   0h 1m 3s\n"
     ]
    },
    {
     "name": "stdout",
     "output_type": "stream",
     "text": [
      "N\t60000\n",
      "P@1\t0.968\n",
      "R@1\t0.968\n",
      "\n",
      "Training model with lr=0.25, dim=5, epoch=5, and wordNgrams=2\n"
     ]
    },
    {
     "name": "stderr",
     "output_type": "stream",
     "text": [
      "Read 255M words\n",
      "Number of words:  819445\n",
      "Number of labels: 5\n",
      "Progress: 100.0% words/sec/thread: 1886996 lr:  0.000000 avg.loss:  0.161993 ETA:   0h 0m 0s\n"
     ]
    },
    {
     "name": "stdout",
     "output_type": "stream",
     "text": [
      "N\t60000\n",
      "P@1\t0.965\n",
      "R@1\t0.965\n",
      "\n",
      "Training model with lr=0.25, dim=5, epoch=10, and wordNgrams=2\n"
     ]
    },
    {
     "name": "stderr",
     "output_type": "stream",
     "text": [
      "Read 255M words\n",
      "Number of words:  819445\n",
      "Number of labels: 5\n",
      "Progress: 100.0% words/sec/thread: 2217765 lr:  0.000000 avg.loss:  0.095099 ETA:   0h 0m 0s\n"
     ]
    },
    {
     "name": "stdout",
     "output_type": "stream",
     "text": [
      "N\t60000\n",
      "P@1\t0.965\n",
      "R@1\t0.965\n",
      "\n",
      "Training model with lr=0.25, dim=5, epoch=15, and wordNgrams=2\n"
     ]
    },
    {
     "name": "stderr",
     "output_type": "stream",
     "text": [
      "Read 255M words119M wordsM words\n",
      "Number of words:  819445\n",
      "Number of labels: 5\n",
      "Progress: 100.0% words/sec/thread: 2353446 lr:  0.000000 avg.loss:  0.067081 ETA:   0h 0m 0s18s 97.5% words/sec/thread: 2346832 lr:  0.006214 avg.loss:  0.067528 ETA:   0h 0m 5s\n"
     ]
    },
    {
     "name": "stdout",
     "output_type": "stream",
     "text": [
      "N\t60000\n",
      "P@1\t0.967\n",
      "R@1\t0.967\n",
      "\n",
      "Training model with lr=0.25, dim=5, epoch=5, and wordNgrams=3\n"
     ]
    },
    {
     "name": "stderr",
     "output_type": "stream",
     "text": [
      "Read 255M words\n",
      "Number of words:  819445\n",
      "Number of labels: 5\n",
      "Progress: 100.0% words/sec/thread: 1170856 lr:  0.000000 avg.loss:  0.120125 ETA:   0h 0m 0s avg.loss:  0.120125 ETA:   0h 0m 0s\n",
      "Read 1M words"
     ]
    },
    {
     "name": "stdout",
     "output_type": "stream",
     "text": [
      "N\t60000\n",
      "P@1\t0.965\n",
      "R@1\t0.965\n",
      "\n",
      "Training model with lr=0.25, dim=5, epoch=10, and wordNgrams=3\n"
     ]
    },
    {
     "name": "stderr",
     "output_type": "stream",
     "text": [
      "Read 255M words133M words\n",
      "Number of words:  819445\n",
      "Number of labels: 5\n",
      "Progress: 100.0% words/sec/thread: 1559710 lr:  0.000000 avg.loss:  0.082507 ETA:   0h 0m 0s\n"
     ]
    },
    {
     "name": "stdout",
     "output_type": "stream",
     "text": [
      "N\t60000\n",
      "P@1\t0.969\n",
      "R@1\t0.969\n",
      "\n",
      "Training model with lr=0.25, dim=5, epoch=15, and wordNgrams=3\n"
     ]
    },
    {
     "name": "stderr",
     "output_type": "stream",
     "text": [
      "Read 255M words\n",
      "Number of words:  819445\n",
      "Number of labels: 5\n",
      "Progress: 100.0% words/sec/thread: 1214426 lr: -0.000000 avg.loss:  0.058869 ETA:   0h 0m 0s words/sec/thread:  999530 lr:  0.212834 avg.loss:  0.188285 ETA:   0h 7m46s65.4% words/sec/thread: 1159011 lr:  0.086594 avg.loss:  0.082428 ETA:   0h 2m43s"
     ]
    },
    {
     "name": "stdout",
     "output_type": "stream",
     "text": [
      "N\t60000\n",
      "P@1\t0.970\n",
      "R@1\t0.970\n",
      "\n",
      "Training model with lr=0.25, dim=5, epoch=5, and wordNgrams=4\n"
     ]
    },
    {
     "name": "stderr",
     "output_type": "stream",
     "text": [
      "Progress: 100.0% words/sec/thread: 1214426 lr:  0.000000 avg.loss:  0.058869 ETA:   0h 0m 0s\n",
      "Read 255M words\n",
      "Number of words:  819445\n",
      "Number of labels: 5\n",
      "Progress: 100.0% words/sec/thread: 1352939 lr:  0.000000 avg.loss:  0.122102 ETA:   0h 0m 0s\n"
     ]
    },
    {
     "name": "stdout",
     "output_type": "stream",
     "text": [
      "N\t60000\n",
      "P@1\t0.966\n",
      "R@1\t0.966\n",
      "\n",
      "Training model with lr=0.25, dim=5, epoch=10, and wordNgrams=4\n"
     ]
    },
    {
     "name": "stderr",
     "output_type": "stream",
     "text": [
      "Read 255M words\n",
      "Number of words:  819445\n",
      "Number of labels: 5\n",
      "Progress: 100.0% words/sec/thread: 1606468 lr:  0.000000 avg.loss:  0.080714 ETA:   0h 0m 0s 62.3% words/sec/thread: 1622359 lr:  0.094273 avg.loss:  0.094016 ETA:   0h 1m24s\n"
     ]
    },
    {
     "name": "stdout",
     "output_type": "stream",
     "text": [
      "N\t60000\n",
      "P@1\t0.970\n",
      "R@1\t0.970\n",
      "\n",
      "Training model with lr=0.25, dim=5, epoch=15, and wordNgrams=4\n"
     ]
    },
    {
     "name": "stderr",
     "output_type": "stream",
     "text": [
      "Read 255M words\n",
      "Number of words:  819445\n",
      "Number of labels: 5\n",
      "Progress: 100.0% words/sec/thread:  957633 lr:  0.000000 avg.loss:  0.056411 ETA:   0h 0m 0s8s 40.1% words/sec/thread: 1065375 lr:  0.149749 avg.loss:  0.098330 ETA:   0h 5m 8s  0h 4m58s 74.4% words/sec/thread:  973005 lr:  0.063928 avg.loss:  0.074173 ETA:   0h 2m23s\n"
     ]
    },
    {
     "name": "stdout",
     "output_type": "stream",
     "text": [
      "N\t60000\n",
      "P@1\t0.971\n",
      "R@1\t0.971\n",
      "\n",
      "Training model with lr=0.25, dim=5, epoch=5, and wordNgrams=5\n"
     ]
    },
    {
     "name": "stderr",
     "output_type": "stream",
     "text": [
      "Read 255M words\n",
      "Number of words:  819445\n",
      "Number of labels: 5\n",
      "Progress: 100.0% words/sec/thread: 1170730 lr:  0.000000 avg.loss:  0.150795 ETA:   0h 0m 0s\n"
     ]
    },
    {
     "name": "stdout",
     "output_type": "stream",
     "text": [
      "N\t60000\n",
      "P@1\t0.964\n",
      "R@1\t0.964\n",
      "\n",
      "Training model with lr=0.25, dim=5, epoch=10, and wordNgrams=5\n"
     ]
    },
    {
     "name": "stderr",
     "output_type": "stream",
     "text": [
      "Read 255M words\n",
      "Number of words:  819445\n",
      "Number of labels: 5\n",
      "Progress: 100.0% words/sec/thread:  964272 lr:  0.000000 avg.loss:  0.082461 ETA:   0h 0m 0s 11.0% words/sec/thread:  790083 lr:  0.222381 avg.loss:  0.280830 ETA:   0h 6m51s\n"
     ]
    },
    {
     "name": "stdout",
     "output_type": "stream",
     "text": [
      "N\t60000\n",
      "P@1\t0.970\n",
      "R@1\t0.970\n",
      "\n",
      "Training model with lr=0.25, dim=5, epoch=15, and wordNgrams=5\n"
     ]
    },
    {
     "name": "stderr",
     "output_type": "stream",
     "text": [
      "Read 255M words\n",
      "Number of words:  819445\n",
      "Number of labels: 5\n",
      "Progress: 100.0% words/sec/thread: 1370615 lr:  0.000000 avg.loss:  0.057795 ETA:   0h 0m 0s\n"
     ]
    },
    {
     "name": "stdout",
     "output_type": "stream",
     "text": [
      "N\t60000\n",
      "P@1\t0.970\n",
      "R@1\t0.970\n",
      "\n",
      "Training model with lr=0.25, dim=10, epoch=5, and wordNgrams=2\n"
     ]
    },
    {
     "name": "stderr",
     "output_type": "stream",
     "text": [
      "Read 255M words\n",
      "Number of words:  819445\n",
      "Number of labels: 5\n",
      "Progress: 100.0% words/sec/thread: 2044587 lr:  0.000000 avg.loss:  0.117750 ETA:   0h 0m 0s\n"
     ]
    },
    {
     "name": "stdout",
     "output_type": "stream",
     "text": [
      "N\t60000\n",
      "P@1\t0.965\n",
      "R@1\t0.965\n",
      "\n",
      "Training model with lr=0.25, dim=10, epoch=10, and wordNgrams=2\n"
     ]
    },
    {
     "name": "stderr",
     "output_type": "stream",
     "text": [
      "Read 255M words\n",
      "Number of words:  819445\n",
      "Number of labels: 5\n",
      "Progress: 100.0% words/sec/thread: 1861256 lr:  0.000000 avg.loss:  0.092344 ETA:   0h 0m 0s 40.2% words/sec/thread: 1749972 lr:  0.149618 avg.loss:  0.164240 ETA:   0h 2m 4s\n"
     ]
    },
    {
     "name": "stdout",
     "output_type": "stream",
     "text": [
      "N\t60000\n",
      "P@1\t0.968\n",
      "R@1\t0.968\n",
      "\n",
      "Training model with lr=0.25, dim=10, epoch=15, and wordNgrams=2\n"
     ]
    },
    {
     "name": "stderr",
     "output_type": "stream",
     "text": [
      "Read 255M words\n",
      "Number of words:  819445\n",
      "Number of labels: 5\n",
      "Progress: 100.0% words/sec/thread: 2601476 lr:  0.000000 avg.loss:  0.068460 ETA:   0h 0m 0s\n"
     ]
    },
    {
     "name": "stdout",
     "output_type": "stream",
     "text": [
      "N\t60000\n",
      "P@1\t0.968\n",
      "R@1\t0.968\n",
      "\n",
      "Training model with lr=0.25, dim=10, epoch=5, and wordNgrams=3\n"
     ]
    },
    {
     "name": "stderr",
     "output_type": "stream",
     "text": [
      "Read 255M words\n",
      "Number of words:  819445\n",
      "Number of labels: 5\n",
      "Progress: 100.0% words/sec/thread:  977108 lr:  0.000000 avg.loss:  0.140927 ETA:   0h 0m 0s\n"
     ]
    },
    {
     "name": "stdout",
     "output_type": "stream",
     "text": [
      "N\t60000\n",
      "P@1\t0.967\n",
      "R@1\t0.967\n",
      "\n",
      "Training model with lr=0.25, dim=10, epoch=10, and wordNgrams=3\n"
     ]
    },
    {
     "name": "stderr",
     "output_type": "stream",
     "text": [
      "Read 255M words\n",
      "Number of words:  819445\n",
      "Number of labels: 5\n",
      "Progress: 100.0% words/sec/thread:  877454 lr:  0.000000 avg.loss:  0.076944 ETA:   0h 0m 0s avg.loss:  0.197395 ETA:   0h 6m46s\n"
     ]
    },
    {
     "name": "stdout",
     "output_type": "stream",
     "text": [
      "N\t60000\n",
      "P@1\t0.971\n",
      "R@1\t0.971\n",
      "\n",
      "Training model with lr=0.25, dim=10, epoch=15, and wordNgrams=3\n"
     ]
    },
    {
     "name": "stderr",
     "output_type": "stream",
     "text": [
      "Read 255M words\n",
      "Number of words:  819445\n",
      "Number of labels: 5\n",
      "Progress: 100.0% words/sec/thread: 1057646 lr:  0.000000 avg.loss:  0.056217 ETA:   0h 0m 0s\n"
     ]
    },
    {
     "name": "stdout",
     "output_type": "stream",
     "text": [
      "N\t60000\n",
      "P@1\t0.971\n",
      "R@1\t0.971\n",
      "\n",
      "Training model with lr=0.25, dim=10, epoch=5, and wordNgrams=4\n"
     ]
    },
    {
     "name": "stderr",
     "output_type": "stream",
     "text": [
      "Read 255M wordsM words\n",
      "Number of words:  819445\n",
      "Number of labels: 5\n",
      "Progress: 100.0% words/sec/thread: 1623524 lr:  0.000000 avg.loss:  0.129407 ETA:   0h 0m 0s\n"
     ]
    },
    {
     "name": "stdout",
     "output_type": "stream",
     "text": [
      "N\t60000\n",
      "P@1\t0.966\n",
      "R@1\t0.966\n",
      "\n",
      "Training model with lr=0.25, dim=10, epoch=10, and wordNgrams=4\n"
     ]
    },
    {
     "name": "stderr",
     "output_type": "stream",
     "text": [
      "Read 255M words\n",
      "Number of words:  819445\n",
      "Number of labels: 5\n",
      "Progress: 100.0% words/sec/thread:  606950 lr:  0.000000 avg.loss:  0.076577 ETA:   0h 0m 0s 12.3% words/sec/thread:  658077 lr:  0.219309 avg.loss:  0.239152 ETA:   0h 8m 6s 17.1% words/sec/thread:  656391 lr:  0.207294 avg.loss:  0.216845 ETA:   0h 7m41s 46.4% words/sec/thread:  637000 lr:  0.133933 avg.loss:  0.142575 ETA:   0h 5m 7s\n"
     ]
    },
    {
     "name": "stdout",
     "output_type": "stream",
     "text": [
      "N\t60000\n",
      "P@1\t0.971\n",
      "R@1\t0.971\n",
      "\n",
      "Training model with lr=0.25, dim=10, epoch=15, and wordNgrams=4\n"
     ]
    },
    {
     "name": "stderr",
     "output_type": "stream",
     "text": [
      "Read 255M wordsM words175M wordsM words\n",
      "Number of words:  819445\n",
      "Number of labels: 5\n",
      "Progress: 100.0% words/sec/thread:  902358 lr:  0.000000 avg.loss:  0.055418 ETA:   0h 0m 0s 19.2% words/sec/thread: 1466391 lr:  0.202089 avg.loss:  0.145864 ETA:   0h 5m 2ss 75.3% words/sec/thread:  992542 lr:  0.061839 avg.loss:  0.071760 ETA:   0h 2m16s 963139 lr:  0.049874 avg.loss:  0.067758 ETA:   0h 1m53s\n"
     ]
    },
    {
     "name": "stdout",
     "output_type": "stream",
     "text": [
      "N\t60000\n",
      "P@1\t0.971\n",
      "R@1\t0.971\n",
      "\n",
      "Training model with lr=0.25, dim=10, epoch=5, and wordNgrams=5\n"
     ]
    },
    {
     "name": "stderr",
     "output_type": "stream",
     "text": [
      "Read 255M words\n",
      "Number of words:  819445\n",
      "Number of labels: 5\n",
      "Progress: 100.0% words/sec/thread:  646407 lr:  0.000000 avg.loss:  0.154402 ETA:   0h 0m 0s  6.0% words/sec/thread:  444873 lr:  0.235050 avg.loss:  0.490933 ETA:   0h 6m25s\n"
     ]
    },
    {
     "name": "stdout",
     "output_type": "stream",
     "text": [
      "N\t60000\n",
      "P@1\t0.966\n",
      "R@1\t0.966\n",
      "\n",
      "Training model with lr=0.25, dim=10, epoch=10, and wordNgrams=5\n"
     ]
    },
    {
     "name": "stderr",
     "output_type": "stream",
     "text": [
      "Read 255M words\n",
      "Number of words:  819445\n",
      "Number of labels: 5\n",
      "Progress: 100.0% words/sec/thread:  839111 lr:  0.000000 avg.loss:  0.087369 ETA:   0h 0m 0s 26.2% words/sec/thread:  838133 lr:  0.184513 avg.loss:  0.194354 ETA:   0h 5m21s\n"
     ]
    },
    {
     "name": "stdout",
     "output_type": "stream",
     "text": [
      "N\t60000\n",
      "P@1\t0.970\n",
      "R@1\t0.970\n",
      "\n",
      "Training model with lr=0.25, dim=10, epoch=15, and wordNgrams=5\n"
     ]
    },
    {
     "name": "stderr",
     "output_type": "stream",
     "text": [
      "Read 255M words141M words\n",
      "Number of words:  819445\n",
      "Number of labels: 5\n",
      "Progress: 100.0% words/sec/thread:  640126 lr:  0.000000 avg.loss:  0.058984 ETA:   0h 0m 0s 0.077979 avg.loss:  0.079915 ETA:   0h 4m 5s 71.2% words/sec/thread:  682849 lr:  0.071932 avg.loss:  0.078708 ETA:   0h 3m50s\n"
     ]
    },
    {
     "name": "stdout",
     "output_type": "stream",
     "text": [
      "N\t60000\n",
      "P@1\t0.971\n",
      "R@1\t0.971\n",
      "\n",
      "Training model with lr=0.25, dim=25, epoch=5, and wordNgrams=2\n"
     ]
    },
    {
     "name": "stderr",
     "output_type": "stream",
     "text": [
      "Read 255M words\n",
      "Number of words:  819445\n",
      "Number of labels: 5\n",
      "Progress: 100.0% words/sec/thread: 1546374 lr:  0.000000 avg.loss:  0.151349 ETA:   0h 0m 0s 99.7% words/sec/thread: 1547590 lr:  0.000685 avg.loss:  0.151451 ETA:   0h 0m 0s\n"
     ]
    },
    {
     "name": "stdout",
     "output_type": "stream",
     "text": [
      "N\t60000\n",
      "P@1\t0.964\n",
      "R@1\t0.964\n",
      "\n",
      "Training model with lr=0.25, dim=25, epoch=10, and wordNgrams=2\n"
     ]
    },
    {
     "name": "stderr",
     "output_type": "stream",
     "text": [
      "Read 255M words\n",
      "Number of words:  819445\n",
      "Number of labels: 5\n",
      "Progress: 100.0% words/sec/thread: 1197511 lr:  0.000000 avg.loss:  0.091219 ETA:   0h 0m 0s\n"
     ]
    },
    {
     "name": "stdout",
     "output_type": "stream",
     "text": [
      "N\t60000\n",
      "P@1\t0.968\n",
      "R@1\t0.968\n",
      "\n",
      "Training model with lr=0.25, dim=25, epoch=15, and wordNgrams=2\n"
     ]
    },
    {
     "name": "stderr",
     "output_type": "stream",
     "text": [
      "Read 255M words\n",
      "Number of words:  819445\n",
      "Number of labels: 5\n",
      "Progress: 100.0% words/sec/thread: 1398624 lr:  0.000000 avg.loss:  0.068089 ETA:   0h 0m 0s  1.8% words/sec/thread:  982077 lr:  0.245605 avg.loss:  0.353767 ETA:   0h 9m 8s\n"
     ]
    },
    {
     "name": "stdout",
     "output_type": "stream",
     "text": [
      "N\t60000\n",
      "P@1\t0.967\n",
      "R@1\t0.967\n",
      "\n",
      "Training model with lr=0.25, dim=25, epoch=5, and wordNgrams=3\n"
     ]
    },
    {
     "name": "stderr",
     "output_type": "stream",
     "text": [
      "Read 255M words\n",
      "Number of words:  819445\n",
      "Number of labels: 5\n",
      "Progress: 100.0% words/sec/thread:  870881 lr:  0.000000 avg.loss:  0.131040 ETA:   0h 0m 0s 76.2% words/sec/thread:  804327 lr:  0.059602 avg.loss:  0.152157 ETA:   0h 0m54s\n"
     ]
    },
    {
     "name": "stdout",
     "output_type": "stream",
     "text": [
      "N\t60000\n",
      "P@1\t0.967\n",
      "R@1\t0.967\n",
      "\n",
      "Training model with lr=0.25, dim=25, epoch=10, and wordNgrams=3\n"
     ]
    },
    {
     "name": "stderr",
     "output_type": "stream",
     "text": [
      "Read 255M words words\n",
      "Number of words:  819445\n",
      "Number of labels: 5\n",
      "Progress: 100.0% words/sec/thread: 1372502 lr:  0.000000 avg.loss:  0.079896 ETA:   0h 0m 0s792606 lr:  0.248297 avg.loss:  0.848213 ETA:   0h 7m37s 51.1% words/sec/thread: 1186152 lr:  0.122210 avg.loss:  0.118797 ETA:   0h 2m30s 64.0% words/sec/thread: 1226639 lr:  0.090068 avg.loss:  0.092776 ETA:   0h 1m47s\n"
     ]
    },
    {
     "name": "stdout",
     "output_type": "stream",
     "text": [
      "N\t60000\n",
      "P@1\t0.970\n",
      "R@1\t0.970\n",
      "\n",
      "Training model with lr=0.25, dim=25, epoch=15, and wordNgrams=3\n"
     ]
    },
    {
     "name": "stderr",
     "output_type": "stream",
     "text": [
      "Read 255M words words\n",
      "Number of words:  819445\n",
      "Number of labels: 5\n",
      "Progress: 100.0% words/sec/thread:  902994 lr:  0.000000 avg.loss:  0.058621 ETA:   0h 0m 0s 57.0% words/sec/thread:  997980 lr:  0.107602 avg.loss:  0.082318 ETA:   0h 3m56s 67.1% words/sec/thread:  962221 lr:  0.082258 avg.loss:  0.078183 ETA:   0h 3m 7s 0.046898 avg.loss:  0.069133 ETA:   0h 1m53s 0.058935 ETA:   0h 0m10s\n"
     ]
    },
    {
     "name": "stdout",
     "output_type": "stream",
     "text": [
      "N\t60000\n",
      "P@1\t0.971\n",
      "R@1\t0.971\n",
      "\n",
      "Training model with lr=0.25, dim=25, epoch=5, and wordNgrams=4\n"
     ]
    },
    {
     "name": "stderr",
     "output_type": "stream",
     "text": [
      "Read 255M words\n",
      "Number of words:  819445\n",
      "Number of labels: 5\n",
      "Progress: 100.0% words/sec/thread:  936627 lr:  0.000000 avg.loss:  0.137715 ETA:   0h 0m 0s 82.8% words/sec/thread:  927190 lr:  0.043049 avg.loss:  0.164880 ETA:   0h 0m33s\n"
     ]
    },
    {
     "name": "stdout",
     "output_type": "stream",
     "text": [
      "N\t60000\n",
      "P@1\t0.967\n",
      "R@1\t0.967\n",
      "\n",
      "Training model with lr=0.25, dim=25, epoch=10, and wordNgrams=4\n"
     ]
    },
    {
     "name": "stderr",
     "output_type": "stream",
     "text": [
      "Read 255M words\n",
      "Number of words:  819445\n",
      "Number of labels: 5\n",
      "Progress: 100.0% words/sec/thread:  513765 lr:  0.000000 avg.loss:  0.083495 ETA:   0h 0m 0s 20.5% words/sec/thread:  418609 lr:  0.198625 avg.loss:  0.211381 ETA:   0h11m33s\n"
     ]
    },
    {
     "name": "stdout",
     "output_type": "stream",
     "text": [
      "N\t60000\n",
      "P@1\t0.970\n",
      "R@1\t0.970\n",
      "\n",
      "Training model with lr=0.25, dim=25, epoch=15, and wordNgrams=4\n"
     ]
    },
    {
     "name": "stderr",
     "output_type": "stream",
     "text": [
      "Read 255M words\n",
      "Number of words:  819445\n",
      "Number of labels: 5\n",
      "Progress: 100.0% words/sec/thread:  817743 lr:  0.000000 avg.loss:  0.058465 ETA:   0h 0m 0s\n"
     ]
    },
    {
     "name": "stdout",
     "output_type": "stream",
     "text": [
      "N\t60000\n",
      "P@1\t0.971\n",
      "R@1\t0.971\n",
      "\n",
      "Training model with lr=0.25, dim=25, epoch=5, and wordNgrams=5\n"
     ]
    },
    {
     "name": "stderr",
     "output_type": "stream",
     "text": [
      "Read 255M words\n",
      "Number of words:  819445\n",
      "Number of labels: 5\n",
      "Progress: 100.0% words/sec/thread:  459601 lr:  0.000000 avg.loss:  0.150158 ETA:   0h 0m 0s\n"
     ]
    },
    {
     "name": "stdout",
     "output_type": "stream",
     "text": [
      "N\t60000\n",
      "P@1\t0.964\n",
      "R@1\t0.964\n",
      "\n",
      "Training model with lr=0.25, dim=25, epoch=10, and wordNgrams=5\n"
     ]
    },
    {
     "name": "stderr",
     "output_type": "stream",
     "text": [
      "Read 255M words words\n",
      "Number of words:  819445\n",
      "Number of labels: 5\n",
      "Progress: 100.0% words/sec/thread:  661148 lr:  0.000000 avg.loss:  0.084813 ETA:   0h 0m 0s\n"
     ]
    },
    {
     "name": "stdout",
     "output_type": "stream",
     "text": [
      "N\t60000\n",
      "P@1\t0.969\n",
      "R@1\t0.969\n",
      "\n",
      "Training model with lr=0.25, dim=25, epoch=15, and wordNgrams=5\n"
     ]
    },
    {
     "name": "stderr",
     "output_type": "stream",
     "text": [
      "Read 255M words\n",
      "Number of words:  819445\n",
      "Number of labels: 5\n",
      "Progress: 100.0% words/sec/thread:  724190 lr:  0.000000 avg.loss:  0.055945 ETA:   0h 0m 0s lr:  0.211483 avg.loss:  0.214083 ETA:   0h21m11s\n"
     ]
    },
    {
     "name": "stdout",
     "output_type": "stream",
     "text": [
      "N\t60000\n",
      "P@1\t0.971\n",
      "R@1\t0.971\n",
      "\n"
     ]
    }
   ],
   "source": [
    "lr_list = [0.05, 0.1, 0.25]\n",
    "dim_list = [5, 10, 25] # hidden units\n",
    "ngrams_list = [2, 3, 4, 5]\n",
    "epoch_list = [5, 10, 15]\n",
    "\n",
    "best_p, best_r = 0, 0\n",
    "best_l, best_d, best_n, best_e = 0, 0, 0, 0\n",
    "\n",
    "for l in lr_list:\n",
    "    for d in dim_list:\n",
    "        for n in ngrams_list:\n",
    "            for e in epoch_list:\n",
    "                print(f\"Training model with lr={l}, dim={d}, epoch={e}, and wordNgrams={n}\")\n",
    "                model = fasttext.train_supervised(input='train.txt', lr=l, dim=d, epoch=e, wordNgrams=n)\n",
    "                N, p, r = model.test('test.txt')\n",
    "                print_results(N, p, r)\n",
    "                if p > best_p and r > best_r:\n",
    "                    best_p, best_r = p, r\n",
    "                    best_l, best_d, best_n, best_e = l, d, n, e\n",
    "                print()"
   ]
  },
  {
   "cell_type": "code",
   "execution_count": 10,
   "metadata": {},
   "outputs": [
    {
     "name": "stdout",
     "output_type": "stream",
     "text": [
      "Training the best model with lr=0.25, dim=25, epoch=15, and wordNgrams=4\n"
     ]
    },
    {
     "name": "stderr",
     "output_type": "stream",
     "text": [
      "Read 255M words\n",
      "Number of words:  819445\n",
      "Number of labels: 5\n",
      "Progress: 100.0% words/sec/thread:  707195 lr:  0.000000 avg.loss:  0.055521 ETA:   0h 0m 0s\n"
     ]
    }
   ],
   "source": [
    "print(f\"Training the best model with lr={best_l}, dim={best_d}, epoch={best_e}, and wordNgrams={best_n}\")\n",
    "model = fasttext.train_supervised(input='train.txt', lr=best_l, dim=best_d, epoch=best_e, wordNgrams=best_n, verbose=2)\n",
    "model.save_model('sogou_news.bin')"
   ]
  },
  {
   "cell_type": "code",
   "execution_count": 11,
   "metadata": {},
   "outputs": [
    {
     "name": "stdout",
     "output_type": "stream",
     "text": [
      "Accuracy: 0.9705833333333334\n"
     ]
    }
   ],
   "source": [
    "predictions = []\n",
    "for text in test_texts:\n",
    "    prediction = model.predict(text)\n",
    "    predictions.append(int(prediction[0][0].split('__label__')[1]))\n",
    "accuracy = accuracy_score(test_labels, predictions)\n",
    "print(\"Accuracy:\", accuracy)"
   ]
  }
 ],
 "metadata": {
  "colab": {
   "provenance": []
  },
  "kernelspec": {
   "display_name": "Python 3 (ipykernel)",
   "language": "python",
   "name": "python3"
  },
  "language_info": {
   "codemirror_mode": {
    "name": "ipython",
    "version": 3
   },
   "file_extension": ".py",
   "mimetype": "text/x-python",
   "name": "python",
   "nbconvert_exporter": "python",
   "pygments_lexer": "ipython3",
   "version": "3.11.7"
  },
  "widgets": {
   "application/vnd.jupyter.widget-state+json": {
    "065291be185543368400c39a24b7b95c": {
     "model_module": "@jupyter-widgets/controls",
     "model_module_version": "1.5.0",
     "model_name": "HTMLModel",
     "state": {
      "_dom_classes": [],
      "_model_module": "@jupyter-widgets/controls",
      "_model_module_version": "1.5.0",
      "_model_name": "HTMLModel",
      "_view_count": null,
      "_view_module": "@jupyter-widgets/controls",
      "_view_module_version": "1.5.0",
      "_view_name": "HTMLView",
      "description": "",
      "description_tooltip": null,
      "layout": "IPY_MODEL_947fe909674342bea2d92ccbf0ecae0c",
      "placeholder": "​",
      "style": "IPY_MODEL_f84f586031af4e2dbb7457c561fff781",
      "value": " 97.1M/97.1M [00:46&lt;00:00, 2.04MB/s]"
     }
    },
    "0815efff25ee4b9590957ca7dc6b1b11": {
     "model_module": "@jupyter-widgets/controls",
     "model_module_version": "1.5.0",
     "model_name": "ProgressStyleModel",
     "state": {
      "_model_module": "@jupyter-widgets/controls",
      "_model_module_version": "1.5.0",
      "_model_name": "ProgressStyleModel",
      "_view_count": null,
      "_view_module": "@jupyter-widgets/base",
      "_view_module_version": "1.2.0",
      "_view_name": "StyleView",
      "bar_color": null,
      "description_width": ""
     }
    },
    "0958784247a446c19238159774ceed01": {
     "model_module": "@jupyter-widgets/base",
     "model_module_version": "1.2.0",
     "model_name": "LayoutModel",
     "state": {
      "_model_module": "@jupyter-widgets/base",
      "_model_module_version": "1.2.0",
      "_model_name": "LayoutModel",
      "_view_count": null,
      "_view_module": "@jupyter-widgets/base",
      "_view_module_version": "1.2.0",
      "_view_name": "LayoutView",
      "align_content": null,
      "align_items": null,
      "align_self": null,
      "border": null,
      "bottom": null,
      "display": null,
      "flex": null,
      "flex_flow": null,
      "grid_area": null,
      "grid_auto_columns": null,
      "grid_auto_flow": null,
      "grid_auto_rows": null,
      "grid_column": null,
      "grid_gap": null,
      "grid_row": null,
      "grid_template_areas": null,
      "grid_template_columns": null,
      "grid_template_rows": null,
      "height": null,
      "justify_content": null,
      "justify_items": null,
      "left": null,
      "margin": null,
      "max_height": null,
      "max_width": null,
      "min_height": null,
      "min_width": null,
      "object_fit": null,
      "object_position": null,
      "order": null,
      "overflow": null,
      "overflow_x": null,
      "overflow_y": null,
      "padding": null,
      "right": null,
      "top": null,
      "visibility": null,
      "width": null
     }
    },
    "09f25c19fec74439bf8a86187140afc3": {
     "model_module": "@jupyter-widgets/base",
     "model_module_version": "1.2.0",
     "model_name": "LayoutModel",
     "state": {
      "_model_module": "@jupyter-widgets/base",
      "_model_module_version": "1.2.0",
      "_model_name": "LayoutModel",
      "_view_count": null,
      "_view_module": "@jupyter-widgets/base",
      "_view_module_version": "1.2.0",
      "_view_name": "LayoutView",
      "align_content": null,
      "align_items": null,
      "align_self": null,
      "border": null,
      "bottom": null,
      "display": null,
      "flex": null,
      "flex_flow": null,
      "grid_area": null,
      "grid_auto_columns": null,
      "grid_auto_flow": null,
      "grid_auto_rows": null,
      "grid_column": null,
      "grid_gap": null,
      "grid_row": null,
      "grid_template_areas": null,
      "grid_template_columns": null,
      "grid_template_rows": null,
      "height": null,
      "justify_content": null,
      "justify_items": null,
      "left": null,
      "margin": null,
      "max_height": null,
      "max_width": null,
      "min_height": null,
      "min_width": null,
      "object_fit": null,
      "object_position": null,
      "order": null,
      "overflow": null,
      "overflow_x": null,
      "overflow_y": null,
      "padding": null,
      "right": null,
      "top": null,
      "visibility": null,
      "width": null
     }
    },
    "0fe0a7ab049f46e3accc4a701310784c": {
     "model_module": "@jupyter-widgets/controls",
     "model_module_version": "1.5.0",
     "model_name": "HBoxModel",
     "state": {
      "_dom_classes": [],
      "_model_module": "@jupyter-widgets/controls",
      "_model_module_version": "1.5.0",
      "_model_name": "HBoxModel",
      "_view_count": null,
      "_view_module": "@jupyter-widgets/controls",
      "_view_module_version": "1.5.0",
      "_view_name": "HBoxView",
      "box_style": "",
      "children": [
       "IPY_MODEL_fb462904a86b4c34961f038d5c6b639b",
       "IPY_MODEL_524799ed0ba54c348119f855a0df5cdf",
       "IPY_MODEL_17674ac8bafe41b18e30e435771ab287"
      ],
      "layout": "IPY_MODEL_d8991f32953840f7a403bcd5e84c68cc"
     }
    },
    "13bf65e1d8ce427b9718b033f68a9b3a": {
     "model_module": "@jupyter-widgets/controls",
     "model_module_version": "1.5.0",
     "model_name": "DescriptionStyleModel",
     "state": {
      "_model_module": "@jupyter-widgets/controls",
      "_model_module_version": "1.5.0",
      "_model_name": "DescriptionStyleModel",
      "_view_count": null,
      "_view_module": "@jupyter-widgets/base",
      "_view_module_version": "1.2.0",
      "_view_name": "StyleView",
      "description_width": ""
     }
    },
    "17674ac8bafe41b18e30e435771ab287": {
     "model_module": "@jupyter-widgets/controls",
     "model_module_version": "1.5.0",
     "model_name": "HTMLModel",
     "state": {
      "_dom_classes": [],
      "_model_module": "@jupyter-widgets/controls",
      "_model_module_version": "1.5.0",
      "_model_name": "HTMLModel",
      "_view_count": null,
      "_view_module": "@jupyter-widgets/controls",
      "_view_module_version": "1.5.0",
      "_view_name": "HTMLView",
      "description": "",
      "description_tooltip": null,
      "layout": "IPY_MODEL_3c84fcfe23ab49459022254930f4b075",
      "placeholder": "​",
      "style": "IPY_MODEL_17e344e4cab946e2986833129cea246b",
      "value": " 215000/450000 [00:06&lt;00:04, 49791.29 examples/s]"
     }
    },
    "17e344e4cab946e2986833129cea246b": {
     "model_module": "@jupyter-widgets/controls",
     "model_module_version": "1.5.0",
     "model_name": "DescriptionStyleModel",
     "state": {
      "_model_module": "@jupyter-widgets/controls",
      "_model_module_version": "1.5.0",
      "_model_name": "DescriptionStyleModel",
      "_view_count": null,
      "_view_module": "@jupyter-widgets/base",
      "_view_module_version": "1.2.0",
      "_view_name": "StyleView",
      "description_width": ""
     }
    },
    "19c99f4a1a2f4d07aadf4da0bc7a029f": {
     "model_module": "@jupyter-widgets/base",
     "model_module_version": "1.2.0",
     "model_name": "LayoutModel",
     "state": {
      "_model_module": "@jupyter-widgets/base",
      "_model_module_version": "1.2.0",
      "_model_name": "LayoutModel",
      "_view_count": null,
      "_view_module": "@jupyter-widgets/base",
      "_view_module_version": "1.2.0",
      "_view_name": "LayoutView",
      "align_content": null,
      "align_items": null,
      "align_self": null,
      "border": null,
      "bottom": null,
      "display": null,
      "flex": null,
      "flex_flow": null,
      "grid_area": null,
      "grid_auto_columns": null,
      "grid_auto_flow": null,
      "grid_auto_rows": null,
      "grid_column": null,
      "grid_gap": null,
      "grid_row": null,
      "grid_template_areas": null,
      "grid_template_columns": null,
      "grid_template_rows": null,
      "height": null,
      "justify_content": null,
      "justify_items": null,
      "left": null,
      "margin": null,
      "max_height": null,
      "max_width": null,
      "min_height": null,
      "min_width": null,
      "object_fit": null,
      "object_position": null,
      "order": null,
      "overflow": null,
      "overflow_x": null,
      "overflow_y": null,
      "padding": null,
      "right": null,
      "top": null,
      "visibility": null,
      "width": null
     }
    },
    "1c319e9513a3480f90a736b98c99fa6d": {
     "model_module": "@jupyter-widgets/base",
     "model_module_version": "1.2.0",
     "model_name": "LayoutModel",
     "state": {
      "_model_module": "@jupyter-widgets/base",
      "_model_module_version": "1.2.0",
      "_model_name": "LayoutModel",
      "_view_count": null,
      "_view_module": "@jupyter-widgets/base",
      "_view_module_version": "1.2.0",
      "_view_name": "LayoutView",
      "align_content": null,
      "align_items": null,
      "align_self": null,
      "border": null,
      "bottom": null,
      "display": null,
      "flex": null,
      "flex_flow": null,
      "grid_area": null,
      "grid_auto_columns": null,
      "grid_auto_flow": null,
      "grid_auto_rows": null,
      "grid_column": null,
      "grid_gap": null,
      "grid_row": null,
      "grid_template_areas": null,
      "grid_template_columns": null,
      "grid_template_rows": null,
      "height": null,
      "justify_content": null,
      "justify_items": null,
      "left": null,
      "margin": null,
      "max_height": null,
      "max_width": null,
      "min_height": null,
      "min_width": null,
      "object_fit": null,
      "object_position": null,
      "order": null,
      "overflow": null,
      "overflow_x": null,
      "overflow_y": null,
      "padding": null,
      "right": null,
      "top": null,
      "visibility": null,
      "width": null
     }
    },
    "1ca2fe50377a42f2bd94f6afa73ce255": {
     "model_module": "@jupyter-widgets/controls",
     "model_module_version": "1.5.0",
     "model_name": "DescriptionStyleModel",
     "state": {
      "_model_module": "@jupyter-widgets/controls",
      "_model_module_version": "1.5.0",
      "_model_name": "DescriptionStyleModel",
      "_view_count": null,
      "_view_module": "@jupyter-widgets/base",
      "_view_module_version": "1.2.0",
      "_view_name": "StyleView",
      "description_width": ""
     }
    },
    "205c1836c90c4b6f907b5cd92f3bf502": {
     "model_module": "@jupyter-widgets/controls",
     "model_module_version": "1.5.0",
     "model_name": "DescriptionStyleModel",
     "state": {
      "_model_module": "@jupyter-widgets/controls",
      "_model_module_version": "1.5.0",
      "_model_name": "DescriptionStyleModel",
      "_view_count": null,
      "_view_module": "@jupyter-widgets/base",
      "_view_module_version": "1.2.0",
      "_view_name": "StyleView",
      "description_width": ""
     }
    },
    "23b4d038d0ab4278a3db2449a2beb79c": {
     "model_module": "@jupyter-widgets/controls",
     "model_module_version": "1.5.0",
     "model_name": "ProgressStyleModel",
     "state": {
      "_model_module": "@jupyter-widgets/controls",
      "_model_module_version": "1.5.0",
      "_model_name": "ProgressStyleModel",
      "_view_count": null,
      "_view_module": "@jupyter-widgets/base",
      "_view_module_version": "1.2.0",
      "_view_name": "StyleView",
      "bar_color": null,
      "description_width": ""
     }
    },
    "302b9425b6df467da94d0179c3dba4bf": {
     "model_module": "@jupyter-widgets/controls",
     "model_module_version": "1.5.0",
     "model_name": "FloatProgressModel",
     "state": {
      "_dom_classes": [],
      "_model_module": "@jupyter-widgets/controls",
      "_model_module_version": "1.5.0",
      "_model_name": "FloatProgressModel",
      "_view_count": null,
      "_view_module": "@jupyter-widgets/controls",
      "_view_module_version": "1.5.0",
      "_view_name": "ProgressView",
      "bar_style": "success",
      "description": "",
      "description_tooltip": null,
      "layout": "IPY_MODEL_0958784247a446c19238159774ceed01",
      "max": 97056452,
      "min": 0,
      "orientation": "horizontal",
      "style": "IPY_MODEL_59c17348c123465bae850586d074c066",
      "value": 97056452
     }
    },
    "319874031cb84d2fb36c3806d52f1592": {
     "model_module": "@jupyter-widgets/controls",
     "model_module_version": "1.5.0",
     "model_name": "HBoxModel",
     "state": {
      "_dom_classes": [],
      "_model_module": "@jupyter-widgets/controls",
      "_model_module_version": "1.5.0",
      "_model_name": "HBoxModel",
      "_view_count": null,
      "_view_module": "@jupyter-widgets/controls",
      "_view_module_version": "1.5.0",
      "_view_name": "HBoxView",
      "box_style": "",
      "children": [
       "IPY_MODEL_7d05f0708c8749508d0d8f6c980efc5a",
       "IPY_MODEL_b41ad6e4963f4f258527dce10a6bd748",
       "IPY_MODEL_76b9d40b63754278ad5a0159e0c66460"
      ],
      "layout": "IPY_MODEL_5fe94f41b4b840bd8182c5061157fa33"
     }
    },
    "3c84fcfe23ab49459022254930f4b075": {
     "model_module": "@jupyter-widgets/base",
     "model_module_version": "1.2.0",
     "model_name": "LayoutModel",
     "state": {
      "_model_module": "@jupyter-widgets/base",
      "_model_module_version": "1.2.0",
      "_model_name": "LayoutModel",
      "_view_count": null,
      "_view_module": "@jupyter-widgets/base",
      "_view_module_version": "1.2.0",
      "_view_name": "LayoutView",
      "align_content": null,
      "align_items": null,
      "align_self": null,
      "border": null,
      "bottom": null,
      "display": null,
      "flex": null,
      "flex_flow": null,
      "grid_area": null,
      "grid_auto_columns": null,
      "grid_auto_flow": null,
      "grid_auto_rows": null,
      "grid_column": null,
      "grid_gap": null,
      "grid_row": null,
      "grid_template_areas": null,
      "grid_template_columns": null,
      "grid_template_rows": null,
      "height": null,
      "justify_content": null,
      "justify_items": null,
      "left": null,
      "margin": null,
      "max_height": null,
      "max_width": null,
      "min_height": null,
      "min_width": null,
      "object_fit": null,
      "object_position": null,
      "order": null,
      "overflow": null,
      "overflow_x": null,
      "overflow_y": null,
      "padding": null,
      "right": null,
      "top": null,
      "visibility": null,
      "width": null
     }
    },
    "3f58b221baa24341a61e827efb01ea78": {
     "model_module": "@jupyter-widgets/base",
     "model_module_version": "1.2.0",
     "model_name": "LayoutModel",
     "state": {
      "_model_module": "@jupyter-widgets/base",
      "_model_module_version": "1.2.0",
      "_model_name": "LayoutModel",
      "_view_count": null,
      "_view_module": "@jupyter-widgets/base",
      "_view_module_version": "1.2.0",
      "_view_name": "LayoutView",
      "align_content": null,
      "align_items": null,
      "align_self": null,
      "border": null,
      "bottom": null,
      "display": null,
      "flex": null,
      "flex_flow": null,
      "grid_area": null,
      "grid_auto_columns": null,
      "grid_auto_flow": null,
      "grid_auto_rows": null,
      "grid_column": null,
      "grid_gap": null,
      "grid_row": null,
      "grid_template_areas": null,
      "grid_template_columns": null,
      "grid_template_rows": null,
      "height": null,
      "justify_content": null,
      "justify_items": null,
      "left": null,
      "margin": null,
      "max_height": null,
      "max_width": null,
      "min_height": null,
      "min_width": null,
      "object_fit": null,
      "object_position": null,
      "order": null,
      "overflow": null,
      "overflow_x": null,
      "overflow_y": null,
      "padding": null,
      "right": null,
      "top": null,
      "visibility": null,
      "width": null
     }
    },
    "404ce0ec763f4d56a87c80537d240a8f": {
     "model_module": "@jupyter-widgets/base",
     "model_module_version": "1.2.0",
     "model_name": "LayoutModel",
     "state": {
      "_model_module": "@jupyter-widgets/base",
      "_model_module_version": "1.2.0",
      "_model_name": "LayoutModel",
      "_view_count": null,
      "_view_module": "@jupyter-widgets/base",
      "_view_module_version": "1.2.0",
      "_view_name": "LayoutView",
      "align_content": null,
      "align_items": null,
      "align_self": null,
      "border": null,
      "bottom": null,
      "display": null,
      "flex": null,
      "flex_flow": null,
      "grid_area": null,
      "grid_auto_columns": null,
      "grid_auto_flow": null,
      "grid_auto_rows": null,
      "grid_column": null,
      "grid_gap": null,
      "grid_row": null,
      "grid_template_areas": null,
      "grid_template_columns": null,
      "grid_template_rows": null,
      "height": null,
      "justify_content": null,
      "justify_items": null,
      "left": null,
      "margin": null,
      "max_height": null,
      "max_width": null,
      "min_height": null,
      "min_width": null,
      "object_fit": null,
      "object_position": null,
      "order": null,
      "overflow": null,
      "overflow_x": null,
      "overflow_y": null,
      "padding": null,
      "right": null,
      "top": null,
      "visibility": null,
      "width": null
     }
    },
    "40a0b3587782438c82514888d83fbfc2": {
     "model_module": "@jupyter-widgets/controls",
     "model_module_version": "1.5.0",
     "model_name": "FloatProgressModel",
     "state": {
      "_dom_classes": [],
      "_model_module": "@jupyter-widgets/controls",
      "_model_module_version": "1.5.0",
      "_model_name": "FloatProgressModel",
      "_view_count": null,
      "_view_module": "@jupyter-widgets/controls",
      "_view_module_version": "1.5.0",
      "_view_name": "ProgressView",
      "bar_style": "success",
      "description": "",
      "description_tooltip": null,
      "layout": "IPY_MODEL_3f58b221baa24341a61e827efb01ea78",
      "max": 228209561,
      "min": 0,
      "orientation": "horizontal",
      "style": "IPY_MODEL_f9436f05bfa6450d818bd6e884455507",
      "value": 228209561
     }
    },
    "4d851efd833e4c1ca8922ba280c26c0f": {
     "model_module": "@jupyter-widgets/controls",
     "model_module_version": "1.5.0",
     "model_name": "HBoxModel",
     "state": {
      "_dom_classes": [],
      "_model_module": "@jupyter-widgets/controls",
      "_model_module_version": "1.5.0",
      "_model_name": "HBoxModel",
      "_view_count": null,
      "_view_module": "@jupyter-widgets/controls",
      "_view_module_version": "1.5.0",
      "_view_name": "HBoxView",
      "box_style": "",
      "children": [
       "IPY_MODEL_a9e3e690bf6f42639b781042a9d2bfab",
       "IPY_MODEL_302b9425b6df467da94d0179c3dba4bf",
       "IPY_MODEL_065291be185543368400c39a24b7b95c"
      ],
      "layout": "IPY_MODEL_404ce0ec763f4d56a87c80537d240a8f"
     }
    },
    "524799ed0ba54c348119f855a0df5cdf": {
     "model_module": "@jupyter-widgets/controls",
     "model_module_version": "1.5.0",
     "model_name": "FloatProgressModel",
     "state": {
      "_dom_classes": [],
      "_model_module": "@jupyter-widgets/controls",
      "_model_module_version": "1.5.0",
      "_model_name": "FloatProgressModel",
      "_view_count": null,
      "_view_module": "@jupyter-widgets/controls",
      "_view_module_version": "1.5.0",
      "_view_name": "ProgressView",
      "bar_style": "",
      "description": "",
      "description_tooltip": null,
      "layout": "IPY_MODEL_6378c3e95828445d81dbe240a60975fe",
      "max": 450000,
      "min": 0,
      "orientation": "horizontal",
      "style": "IPY_MODEL_94104d91add24a4896705c1609ba02b0",
      "value": 215000
     }
    },
    "56281bec6be04620bab82d38f79a43fe": {
     "model_module": "@jupyter-widgets/controls",
     "model_module_version": "1.5.0",
     "model_name": "DescriptionStyleModel",
     "state": {
      "_model_module": "@jupyter-widgets/controls",
      "_model_module_version": "1.5.0",
      "_model_name": "DescriptionStyleModel",
      "_view_count": null,
      "_view_module": "@jupyter-widgets/base",
      "_view_module_version": "1.2.0",
      "_view_name": "StyleView",
      "description_width": ""
     }
    },
    "59c17348c123465bae850586d074c066": {
     "model_module": "@jupyter-widgets/controls",
     "model_module_version": "1.5.0",
     "model_name": "ProgressStyleModel",
     "state": {
      "_model_module": "@jupyter-widgets/controls",
      "_model_module_version": "1.5.0",
      "_model_name": "ProgressStyleModel",
      "_view_count": null,
      "_view_module": "@jupyter-widgets/base",
      "_view_module_version": "1.2.0",
      "_view_name": "StyleView",
      "bar_color": null,
      "description_width": ""
     }
    },
    "5ae62b6f8f2e41d88147a30b306ade4d": {
     "model_module": "@jupyter-widgets/controls",
     "model_module_version": "1.5.0",
     "model_name": "HTMLModel",
     "state": {
      "_dom_classes": [],
      "_model_module": "@jupyter-widgets/controls",
      "_model_module_version": "1.5.0",
      "_model_name": "HTMLModel",
      "_view_count": null,
      "_view_module": "@jupyter-widgets/controls",
      "_view_module_version": "1.5.0",
      "_view_name": "HTMLView",
      "description": "",
      "description_tooltip": null,
      "layout": "IPY_MODEL_bc6a2db82bae42b48c114f55ee961598",
      "placeholder": "​",
      "style": "IPY_MODEL_ab8b758cb7fa411baffd0c3f3deace5b",
      "value": "Downloading data: 100%"
     }
    },
    "5d7f0cc94ee341ea810dee3a27d7765c": {
     "model_module": "@jupyter-widgets/controls",
     "model_module_version": "1.5.0",
     "model_name": "DescriptionStyleModel",
     "state": {
      "_model_module": "@jupyter-widgets/controls",
      "_model_module_version": "1.5.0",
      "_model_name": "DescriptionStyleModel",
      "_view_count": null,
      "_view_module": "@jupyter-widgets/base",
      "_view_module_version": "1.2.0",
      "_view_name": "StyleView",
      "description_width": ""
     }
    },
    "5fe94f41b4b840bd8182c5061157fa33": {
     "model_module": "@jupyter-widgets/base",
     "model_module_version": "1.2.0",
     "model_name": "LayoutModel",
     "state": {
      "_model_module": "@jupyter-widgets/base",
      "_model_module_version": "1.2.0",
      "_model_name": "LayoutModel",
      "_view_count": null,
      "_view_module": "@jupyter-widgets/base",
      "_view_module_version": "1.2.0",
      "_view_name": "LayoutView",
      "align_content": null,
      "align_items": null,
      "align_self": null,
      "border": null,
      "bottom": null,
      "display": null,
      "flex": null,
      "flex_flow": null,
      "grid_area": null,
      "grid_auto_columns": null,
      "grid_auto_flow": null,
      "grid_auto_rows": null,
      "grid_column": null,
      "grid_gap": null,
      "grid_row": null,
      "grid_template_areas": null,
      "grid_template_columns": null,
      "grid_template_rows": null,
      "height": null,
      "justify_content": null,
      "justify_items": null,
      "left": null,
      "margin": null,
      "max_height": null,
      "max_width": null,
      "min_height": null,
      "min_width": null,
      "object_fit": null,
      "object_position": null,
      "order": null,
      "overflow": null,
      "overflow_x": null,
      "overflow_y": null,
      "padding": null,
      "right": null,
      "top": null,
      "visibility": null,
      "width": null
     }
    },
    "6378c3e95828445d81dbe240a60975fe": {
     "model_module": "@jupyter-widgets/base",
     "model_module_version": "1.2.0",
     "model_name": "LayoutModel",
     "state": {
      "_model_module": "@jupyter-widgets/base",
      "_model_module_version": "1.2.0",
      "_model_name": "LayoutModel",
      "_view_count": null,
      "_view_module": "@jupyter-widgets/base",
      "_view_module_version": "1.2.0",
      "_view_name": "LayoutView",
      "align_content": null,
      "align_items": null,
      "align_self": null,
      "border": null,
      "bottom": null,
      "display": null,
      "flex": null,
      "flex_flow": null,
      "grid_area": null,
      "grid_auto_columns": null,
      "grid_auto_flow": null,
      "grid_auto_rows": null,
      "grid_column": null,
      "grid_gap": null,
      "grid_row": null,
      "grid_template_areas": null,
      "grid_template_columns": null,
      "grid_template_rows": null,
      "height": null,
      "justify_content": null,
      "justify_items": null,
      "left": null,
      "margin": null,
      "max_height": null,
      "max_width": null,
      "min_height": null,
      "min_width": null,
      "object_fit": null,
      "object_position": null,
      "order": null,
      "overflow": null,
      "overflow_x": null,
      "overflow_y": null,
      "padding": null,
      "right": null,
      "top": null,
      "visibility": null,
      "width": null
     }
    },
    "63b2fe3287614c409fc8de2982bca2d7": {
     "model_module": "@jupyter-widgets/controls",
     "model_module_version": "1.5.0",
     "model_name": "HBoxModel",
     "state": {
      "_dom_classes": [],
      "_model_module": "@jupyter-widgets/controls",
      "_model_module_version": "1.5.0",
      "_model_name": "HBoxModel",
      "_view_count": null,
      "_view_module": "@jupyter-widgets/controls",
      "_view_module_version": "1.5.0",
      "_view_name": "HBoxView",
      "box_style": "",
      "children": [
       "IPY_MODEL_9d6ac8b1b3784aa786df2f00403a9e4e",
       "IPY_MODEL_92b9f8cc8ff243b8a04d13cb4562691e",
       "IPY_MODEL_8c54afa354d0482782b14490116ec71b"
      ],
      "layout": "IPY_MODEL_9b560eed4f5747d79b4a1b89073d1d08"
     }
    },
    "667894c57dda453c919909679b4ab96b": {
     "model_module": "@jupyter-widgets/controls",
     "model_module_version": "1.5.0",
     "model_name": "DescriptionStyleModel",
     "state": {
      "_model_module": "@jupyter-widgets/controls",
      "_model_module_version": "1.5.0",
      "_model_name": "DescriptionStyleModel",
      "_view_count": null,
      "_view_module": "@jupyter-widgets/base",
      "_view_module_version": "1.2.0",
      "_view_name": "StyleView",
      "description_width": ""
     }
    },
    "66e3cfb0c22c4816b9b5ebf09100093d": {
     "model_module": "@jupyter-widgets/base",
     "model_module_version": "1.2.0",
     "model_name": "LayoutModel",
     "state": {
      "_model_module": "@jupyter-widgets/base",
      "_model_module_version": "1.2.0",
      "_model_name": "LayoutModel",
      "_view_count": null,
      "_view_module": "@jupyter-widgets/base",
      "_view_module_version": "1.2.0",
      "_view_name": "LayoutView",
      "align_content": null,
      "align_items": null,
      "align_self": null,
      "border": null,
      "bottom": null,
      "display": null,
      "flex": null,
      "flex_flow": null,
      "grid_area": null,
      "grid_auto_columns": null,
      "grid_auto_flow": null,
      "grid_auto_rows": null,
      "grid_column": null,
      "grid_gap": null,
      "grid_row": null,
      "grid_template_areas": null,
      "grid_template_columns": null,
      "grid_template_rows": null,
      "height": null,
      "justify_content": null,
      "justify_items": null,
      "left": null,
      "margin": null,
      "max_height": null,
      "max_width": null,
      "min_height": null,
      "min_width": null,
      "object_fit": null,
      "object_position": null,
      "order": null,
      "overflow": null,
      "overflow_x": null,
      "overflow_y": null,
      "padding": null,
      "right": null,
      "top": null,
      "visibility": null,
      "width": null
     }
    },
    "694a4ff0aab345a1b13742a050e5e6eb": {
     "model_module": "@jupyter-widgets/base",
     "model_module_version": "1.2.0",
     "model_name": "LayoutModel",
     "state": {
      "_model_module": "@jupyter-widgets/base",
      "_model_module_version": "1.2.0",
      "_model_name": "LayoutModel",
      "_view_count": null,
      "_view_module": "@jupyter-widgets/base",
      "_view_module_version": "1.2.0",
      "_view_name": "LayoutView",
      "align_content": null,
      "align_items": null,
      "align_self": null,
      "border": null,
      "bottom": null,
      "display": null,
      "flex": null,
      "flex_flow": null,
      "grid_area": null,
      "grid_auto_columns": null,
      "grid_auto_flow": null,
      "grid_auto_rows": null,
      "grid_column": null,
      "grid_gap": null,
      "grid_row": null,
      "grid_template_areas": null,
      "grid_template_columns": null,
      "grid_template_rows": null,
      "height": null,
      "justify_content": null,
      "justify_items": null,
      "left": null,
      "margin": null,
      "max_height": null,
      "max_width": null,
      "min_height": null,
      "min_width": null,
      "object_fit": null,
      "object_position": null,
      "order": null,
      "overflow": null,
      "overflow_x": null,
      "overflow_y": null,
      "padding": null,
      "right": null,
      "top": null,
      "visibility": null,
      "width": null
     }
    },
    "6e86f88e14464d16b39f139f42e8e8b9": {
     "model_module": "@jupyter-widgets/base",
     "model_module_version": "1.2.0",
     "model_name": "LayoutModel",
     "state": {
      "_model_module": "@jupyter-widgets/base",
      "_model_module_version": "1.2.0",
      "_model_name": "LayoutModel",
      "_view_count": null,
      "_view_module": "@jupyter-widgets/base",
      "_view_module_version": "1.2.0",
      "_view_name": "LayoutView",
      "align_content": null,
      "align_items": null,
      "align_self": null,
      "border": null,
      "bottom": null,
      "display": null,
      "flex": null,
      "flex_flow": null,
      "grid_area": null,
      "grid_auto_columns": null,
      "grid_auto_flow": null,
      "grid_auto_rows": null,
      "grid_column": null,
      "grid_gap": null,
      "grid_row": null,
      "grid_template_areas": null,
      "grid_template_columns": null,
      "grid_template_rows": null,
      "height": null,
      "justify_content": null,
      "justify_items": null,
      "left": null,
      "margin": null,
      "max_height": null,
      "max_width": null,
      "min_height": null,
      "min_width": null,
      "object_fit": null,
      "object_position": null,
      "order": null,
      "overflow": null,
      "overflow_x": null,
      "overflow_y": null,
      "padding": null,
      "right": null,
      "top": null,
      "visibility": null,
      "width": null
     }
    },
    "74c5710c61a44befa2f46e02ee5196fc": {
     "model_module": "@jupyter-widgets/controls",
     "model_module_version": "1.5.0",
     "model_name": "HBoxModel",
     "state": {
      "_dom_classes": [],
      "_model_module": "@jupyter-widgets/controls",
      "_model_module_version": "1.5.0",
      "_model_name": "HBoxModel",
      "_view_count": null,
      "_view_module": "@jupyter-widgets/controls",
      "_view_module_version": "1.5.0",
      "_view_name": "HBoxView",
      "box_style": "",
      "children": [
       "IPY_MODEL_aa914b493b2b4414a4cf54ed9dd09b38",
       "IPY_MODEL_de255c57f78443149205d713dcefed23",
       "IPY_MODEL_a405dc46a7f844ec8a52eb218d499248"
      ],
      "layout": "IPY_MODEL_6e86f88e14464d16b39f139f42e8e8b9"
     }
    },
    "76b9d40b63754278ad5a0159e0c66460": {
     "model_module": "@jupyter-widgets/controls",
     "model_module_version": "1.5.0",
     "model_name": "HTMLModel",
     "state": {
      "_dom_classes": [],
      "_model_module": "@jupyter-widgets/controls",
      "_model_module_version": "1.5.0",
      "_model_name": "HTMLModel",
      "_view_count": null,
      "_view_module": "@jupyter-widgets/controls",
      "_view_module_version": "1.5.0",
      "_view_name": "HTMLView",
      "description": "",
      "description_tooltip": null,
      "layout": "IPY_MODEL_88857987ab9b457eab286b21609398fc",
      "placeholder": "​",
      "style": "IPY_MODEL_56281bec6be04620bab82d38f79a43fe",
      "value": " 75.5M/75.5M [00:31&lt;00:00, 2.83MB/s]"
     }
    },
    "7a49f986890a4f8ab689ac1a03f5659f": {
     "model_module": "@jupyter-widgets/controls",
     "model_module_version": "1.5.0",
     "model_name": "ProgressStyleModel",
     "state": {
      "_model_module": "@jupyter-widgets/controls",
      "_model_module_version": "1.5.0",
      "_model_name": "ProgressStyleModel",
      "_view_count": null,
      "_view_module": "@jupyter-widgets/base",
      "_view_module_version": "1.2.0",
      "_view_name": "StyleView",
      "bar_color": null,
      "description_width": ""
     }
    },
    "7b320ee4083c4cee8eefd6a52e879093": {
     "model_module": "@jupyter-widgets/base",
     "model_module_version": "1.2.0",
     "model_name": "LayoutModel",
     "state": {
      "_model_module": "@jupyter-widgets/base",
      "_model_module_version": "1.2.0",
      "_model_name": "LayoutModel",
      "_view_count": null,
      "_view_module": "@jupyter-widgets/base",
      "_view_module_version": "1.2.0",
      "_view_name": "LayoutView",
      "align_content": null,
      "align_items": null,
      "align_self": null,
      "border": null,
      "bottom": null,
      "display": null,
      "flex": null,
      "flex_flow": null,
      "grid_area": null,
      "grid_auto_columns": null,
      "grid_auto_flow": null,
      "grid_auto_rows": null,
      "grid_column": null,
      "grid_gap": null,
      "grid_row": null,
      "grid_template_areas": null,
      "grid_template_columns": null,
      "grid_template_rows": null,
      "height": null,
      "justify_content": null,
      "justify_items": null,
      "left": null,
      "margin": null,
      "max_height": null,
      "max_width": null,
      "min_height": null,
      "min_width": null,
      "object_fit": null,
      "object_position": null,
      "order": null,
      "overflow": null,
      "overflow_x": null,
      "overflow_y": null,
      "padding": null,
      "right": null,
      "top": null,
      "visibility": null,
      "width": null
     }
    },
    "7d05f0708c8749508d0d8f6c980efc5a": {
     "model_module": "@jupyter-widgets/controls",
     "model_module_version": "1.5.0",
     "model_name": "HTMLModel",
     "state": {
      "_dom_classes": [],
      "_model_module": "@jupyter-widgets/controls",
      "_model_module_version": "1.5.0",
      "_model_name": "HTMLModel",
      "_view_count": null,
      "_view_module": "@jupyter-widgets/controls",
      "_view_module_version": "1.5.0",
      "_view_name": "HTMLView",
      "description": "",
      "description_tooltip": null,
      "layout": "IPY_MODEL_1c319e9513a3480f90a736b98c99fa6d",
      "placeholder": "​",
      "style": "IPY_MODEL_dbde094eded24204939a454ec2f2a9e3",
      "value": "Downloading data: 100%"
     }
    },
    "88857987ab9b457eab286b21609398fc": {
     "model_module": "@jupyter-widgets/base",
     "model_module_version": "1.2.0",
     "model_name": "LayoutModel",
     "state": {
      "_model_module": "@jupyter-widgets/base",
      "_model_module_version": "1.2.0",
      "_model_name": "LayoutModel",
      "_view_count": null,
      "_view_module": "@jupyter-widgets/base",
      "_view_module_version": "1.2.0",
      "_view_name": "LayoutView",
      "align_content": null,
      "align_items": null,
      "align_self": null,
      "border": null,
      "bottom": null,
      "display": null,
      "flex": null,
      "flex_flow": null,
      "grid_area": null,
      "grid_auto_columns": null,
      "grid_auto_flow": null,
      "grid_auto_rows": null,
      "grid_column": null,
      "grid_gap": null,
      "grid_row": null,
      "grid_template_areas": null,
      "grid_template_columns": null,
      "grid_template_rows": null,
      "height": null,
      "justify_content": null,
      "justify_items": null,
      "left": null,
      "margin": null,
      "max_height": null,
      "max_width": null,
      "min_height": null,
      "min_width": null,
      "object_fit": null,
      "object_position": null,
      "order": null,
      "overflow": null,
      "overflow_x": null,
      "overflow_y": null,
      "padding": null,
      "right": null,
      "top": null,
      "visibility": null,
      "width": null
     }
    },
    "8c54afa354d0482782b14490116ec71b": {
     "model_module": "@jupyter-widgets/controls",
     "model_module_version": "1.5.0",
     "model_name": "HTMLModel",
     "state": {
      "_dom_classes": [],
      "_model_module": "@jupyter-widgets/controls",
      "_model_module_version": "1.5.0",
      "_model_name": "HTMLModel",
      "_view_count": null,
      "_view_module": "@jupyter-widgets/controls",
      "_view_module_version": "1.5.0",
      "_view_name": "HTMLView",
      "description": "",
      "description_tooltip": null,
      "layout": "IPY_MODEL_7b320ee4083c4cee8eefd6a52e879093",
      "placeholder": "​",
      "style": "IPY_MODEL_13bf65e1d8ce427b9718b033f68a9b3a",
      "value": " 232M/232M [01:36&lt;00:00, 3.16MB/s]"
     }
    },
    "90a4aab2338940bcb984ba82c06bea69": {
     "model_module": "@jupyter-widgets/base",
     "model_module_version": "1.2.0",
     "model_name": "LayoutModel",
     "state": {
      "_model_module": "@jupyter-widgets/base",
      "_model_module_version": "1.2.0",
      "_model_name": "LayoutModel",
      "_view_count": null,
      "_view_module": "@jupyter-widgets/base",
      "_view_module_version": "1.2.0",
      "_view_name": "LayoutView",
      "align_content": null,
      "align_items": null,
      "align_self": null,
      "border": null,
      "bottom": null,
      "display": null,
      "flex": null,
      "flex_flow": null,
      "grid_area": null,
      "grid_auto_columns": null,
      "grid_auto_flow": null,
      "grid_auto_rows": null,
      "grid_column": null,
      "grid_gap": null,
      "grid_row": null,
      "grid_template_areas": null,
      "grid_template_columns": null,
      "grid_template_rows": null,
      "height": null,
      "justify_content": null,
      "justify_items": null,
      "left": null,
      "margin": null,
      "max_height": null,
      "max_width": null,
      "min_height": null,
      "min_width": null,
      "object_fit": null,
      "object_position": null,
      "order": null,
      "overflow": null,
      "overflow_x": null,
      "overflow_y": null,
      "padding": null,
      "right": null,
      "top": null,
      "visibility": null,
      "width": null
     }
    },
    "92b9f8cc8ff243b8a04d13cb4562691e": {
     "model_module": "@jupyter-widgets/controls",
     "model_module_version": "1.5.0",
     "model_name": "FloatProgressModel",
     "state": {
      "_dom_classes": [],
      "_model_module": "@jupyter-widgets/controls",
      "_model_module_version": "1.5.0",
      "_model_name": "FloatProgressModel",
      "_view_count": null,
      "_view_module": "@jupyter-widgets/controls",
      "_view_module_version": "1.5.0",
      "_view_name": "ProgressView",
      "bar_style": "success",
      "description": "",
      "description_tooltip": null,
      "layout": "IPY_MODEL_694a4ff0aab345a1b13742a050e5e6eb",
      "max": 231761096,
      "min": 0,
      "orientation": "horizontal",
      "style": "IPY_MODEL_7a49f986890a4f8ab689ac1a03f5659f",
      "value": 231761096
     }
    },
    "94104d91add24a4896705c1609ba02b0": {
     "model_module": "@jupyter-widgets/controls",
     "model_module_version": "1.5.0",
     "model_name": "ProgressStyleModel",
     "state": {
      "_model_module": "@jupyter-widgets/controls",
      "_model_module_version": "1.5.0",
      "_model_name": "ProgressStyleModel",
      "_view_count": null,
      "_view_module": "@jupyter-widgets/base",
      "_view_module_version": "1.2.0",
      "_view_name": "StyleView",
      "bar_color": null,
      "description_width": ""
     }
    },
    "947fe909674342bea2d92ccbf0ecae0c": {
     "model_module": "@jupyter-widgets/base",
     "model_module_version": "1.2.0",
     "model_name": "LayoutModel",
     "state": {
      "_model_module": "@jupyter-widgets/base",
      "_model_module_version": "1.2.0",
      "_model_name": "LayoutModel",
      "_view_count": null,
      "_view_module": "@jupyter-widgets/base",
      "_view_module_version": "1.2.0",
      "_view_name": "LayoutView",
      "align_content": null,
      "align_items": null,
      "align_self": null,
      "border": null,
      "bottom": null,
      "display": null,
      "flex": null,
      "flex_flow": null,
      "grid_area": null,
      "grid_auto_columns": null,
      "grid_auto_flow": null,
      "grid_auto_rows": null,
      "grid_column": null,
      "grid_gap": null,
      "grid_row": null,
      "grid_template_areas": null,
      "grid_template_columns": null,
      "grid_template_rows": null,
      "height": null,
      "justify_content": null,
      "justify_items": null,
      "left": null,
      "margin": null,
      "max_height": null,
      "max_width": null,
      "min_height": null,
      "min_width": null,
      "object_fit": null,
      "object_position": null,
      "order": null,
      "overflow": null,
      "overflow_x": null,
      "overflow_y": null,
      "padding": null,
      "right": null,
      "top": null,
      "visibility": null,
      "width": null
     }
    },
    "955099fe68ca4eda9e6b361d4950014f": {
     "model_module": "@jupyter-widgets/base",
     "model_module_version": "1.2.0",
     "model_name": "LayoutModel",
     "state": {
      "_model_module": "@jupyter-widgets/base",
      "_model_module_version": "1.2.0",
      "_model_name": "LayoutModel",
      "_view_count": null,
      "_view_module": "@jupyter-widgets/base",
      "_view_module_version": "1.2.0",
      "_view_name": "LayoutView",
      "align_content": null,
      "align_items": null,
      "align_self": null,
      "border": null,
      "bottom": null,
      "display": null,
      "flex": null,
      "flex_flow": null,
      "grid_area": null,
      "grid_auto_columns": null,
      "grid_auto_flow": null,
      "grid_auto_rows": null,
      "grid_column": null,
      "grid_gap": null,
      "grid_row": null,
      "grid_template_areas": null,
      "grid_template_columns": null,
      "grid_template_rows": null,
      "height": null,
      "justify_content": null,
      "justify_items": null,
      "left": null,
      "margin": null,
      "max_height": null,
      "max_width": null,
      "min_height": null,
      "min_width": null,
      "object_fit": null,
      "object_position": null,
      "order": null,
      "overflow": null,
      "overflow_x": null,
      "overflow_y": null,
      "padding": null,
      "right": null,
      "top": null,
      "visibility": null,
      "width": null
     }
    },
    "9b560eed4f5747d79b4a1b89073d1d08": {
     "model_module": "@jupyter-widgets/base",
     "model_module_version": "1.2.0",
     "model_name": "LayoutModel",
     "state": {
      "_model_module": "@jupyter-widgets/base",
      "_model_module_version": "1.2.0",
      "_model_name": "LayoutModel",
      "_view_count": null,
      "_view_module": "@jupyter-widgets/base",
      "_view_module_version": "1.2.0",
      "_view_name": "LayoutView",
      "align_content": null,
      "align_items": null,
      "align_self": null,
      "border": null,
      "bottom": null,
      "display": null,
      "flex": null,
      "flex_flow": null,
      "grid_area": null,
      "grid_auto_columns": null,
      "grid_auto_flow": null,
      "grid_auto_rows": null,
      "grid_column": null,
      "grid_gap": null,
      "grid_row": null,
      "grid_template_areas": null,
      "grid_template_columns": null,
      "grid_template_rows": null,
      "height": null,
      "justify_content": null,
      "justify_items": null,
      "left": null,
      "margin": null,
      "max_height": null,
      "max_width": null,
      "min_height": null,
      "min_width": null,
      "object_fit": null,
      "object_position": null,
      "order": null,
      "overflow": null,
      "overflow_x": null,
      "overflow_y": null,
      "padding": null,
      "right": null,
      "top": null,
      "visibility": null,
      "width": null
     }
    },
    "9d6ac8b1b3784aa786df2f00403a9e4e": {
     "model_module": "@jupyter-widgets/controls",
     "model_module_version": "1.5.0",
     "model_name": "HTMLModel",
     "state": {
      "_dom_classes": [],
      "_model_module": "@jupyter-widgets/controls",
      "_model_module_version": "1.5.0",
      "_model_name": "HTMLModel",
      "_view_count": null,
      "_view_module": "@jupyter-widgets/controls",
      "_view_module_version": "1.5.0",
      "_view_name": "HTMLView",
      "description": "",
      "description_tooltip": null,
      "layout": "IPY_MODEL_be8eacf5117a44829beacdc36679f5f1",
      "placeholder": "​",
      "style": "IPY_MODEL_205c1836c90c4b6f907b5cd92f3bf502",
      "value": "Downloading data: 100%"
     }
    },
    "a405dc46a7f844ec8a52eb218d499248": {
     "model_module": "@jupyter-widgets/controls",
     "model_module_version": "1.5.0",
     "model_name": "HTMLModel",
     "state": {
      "_dom_classes": [],
      "_model_module": "@jupyter-widgets/controls",
      "_model_module_version": "1.5.0",
      "_model_name": "HTMLModel",
      "_view_count": null,
      "_view_module": "@jupyter-widgets/controls",
      "_view_module_version": "1.5.0",
      "_view_name": "HTMLView",
      "description": "",
      "description_tooltip": null,
      "layout": "IPY_MODEL_09f25c19fec74439bf8a86187140afc3",
      "placeholder": "​",
      "style": "IPY_MODEL_ef37fdc2dcf04e049868347380527596",
      "value": " 60000/60000 [00:00&lt;00:00, 66779.40 examples/s]"
     }
    },
    "a9e3e690bf6f42639b781042a9d2bfab": {
     "model_module": "@jupyter-widgets/controls",
     "model_module_version": "1.5.0",
     "model_name": "HTMLModel",
     "state": {
      "_dom_classes": [],
      "_model_module": "@jupyter-widgets/controls",
      "_model_module_version": "1.5.0",
      "_model_name": "HTMLModel",
      "_view_count": null,
      "_view_module": "@jupyter-widgets/controls",
      "_view_module_version": "1.5.0",
      "_view_name": "HTMLView",
      "description": "",
      "description_tooltip": null,
      "layout": "IPY_MODEL_c808c4fa93db44038c6dc7b1cd8cc9ac",
      "placeholder": "​",
      "style": "IPY_MODEL_667894c57dda453c919909679b4ab96b",
      "value": "Downloading data: 100%"
     }
    },
    "aa914b493b2b4414a4cf54ed9dd09b38": {
     "model_module": "@jupyter-widgets/controls",
     "model_module_version": "1.5.0",
     "model_name": "HTMLModel",
     "state": {
      "_dom_classes": [],
      "_model_module": "@jupyter-widgets/controls",
      "_model_module_version": "1.5.0",
      "_model_name": "HTMLModel",
      "_view_count": null,
      "_view_module": "@jupyter-widgets/controls",
      "_view_module_version": "1.5.0",
      "_view_name": "HTMLView",
      "description": "",
      "description_tooltip": null,
      "layout": "IPY_MODEL_ae081f63dc8d4b2ba1ff97b8768d19ce",
      "placeholder": "​",
      "style": "IPY_MODEL_5d7f0cc94ee341ea810dee3a27d7765c",
      "value": "Generating test split: 100%"
     }
    },
    "ab8b758cb7fa411baffd0c3f3deace5b": {
     "model_module": "@jupyter-widgets/controls",
     "model_module_version": "1.5.0",
     "model_name": "DescriptionStyleModel",
     "state": {
      "_model_module": "@jupyter-widgets/controls",
      "_model_module_version": "1.5.0",
      "_model_name": "DescriptionStyleModel",
      "_view_count": null,
      "_view_module": "@jupyter-widgets/base",
      "_view_module_version": "1.2.0",
      "_view_name": "StyleView",
      "description_width": ""
     }
    },
    "ae081f63dc8d4b2ba1ff97b8768d19ce": {
     "model_module": "@jupyter-widgets/base",
     "model_module_version": "1.2.0",
     "model_name": "LayoutModel",
     "state": {
      "_model_module": "@jupyter-widgets/base",
      "_model_module_version": "1.2.0",
      "_model_name": "LayoutModel",
      "_view_count": null,
      "_view_module": "@jupyter-widgets/base",
      "_view_module_version": "1.2.0",
      "_view_name": "LayoutView",
      "align_content": null,
      "align_items": null,
      "align_self": null,
      "border": null,
      "bottom": null,
      "display": null,
      "flex": null,
      "flex_flow": null,
      "grid_area": null,
      "grid_auto_columns": null,
      "grid_auto_flow": null,
      "grid_auto_rows": null,
      "grid_column": null,
      "grid_gap": null,
      "grid_row": null,
      "grid_template_areas": null,
      "grid_template_columns": null,
      "grid_template_rows": null,
      "height": null,
      "justify_content": null,
      "justify_items": null,
      "left": null,
      "margin": null,
      "max_height": null,
      "max_width": null,
      "min_height": null,
      "min_width": null,
      "object_fit": null,
      "object_position": null,
      "order": null,
      "overflow": null,
      "overflow_x": null,
      "overflow_y": null,
      "padding": null,
      "right": null,
      "top": null,
      "visibility": null,
      "width": null
     }
    },
    "b22f0f6d26db4acea85e57032123bbca": {
     "model_module": "@jupyter-widgets/controls",
     "model_module_version": "1.5.0",
     "model_name": "HTMLModel",
     "state": {
      "_dom_classes": [],
      "_model_module": "@jupyter-widgets/controls",
      "_model_module_version": "1.5.0",
      "_model_name": "HTMLModel",
      "_view_count": null,
      "_view_module": "@jupyter-widgets/controls",
      "_view_module_version": "1.5.0",
      "_view_name": "HTMLView",
      "description": "",
      "description_tooltip": null,
      "layout": "IPY_MODEL_955099fe68ca4eda9e6b361d4950014f",
      "placeholder": "​",
      "style": "IPY_MODEL_e2ab3281d8d24d5cb3b7072c1869f5cf",
      "value": " 228M/228M [01:01&lt;00:00, 6.45MB/s]"
     }
    },
    "b41ad6e4963f4f258527dce10a6bd748": {
     "model_module": "@jupyter-widgets/controls",
     "model_module_version": "1.5.0",
     "model_name": "FloatProgressModel",
     "state": {
      "_dom_classes": [],
      "_model_module": "@jupyter-widgets/controls",
      "_model_module_version": "1.5.0",
      "_model_name": "FloatProgressModel",
      "_view_count": null,
      "_view_module": "@jupyter-widgets/controls",
      "_view_module_version": "1.5.0",
      "_view_name": "ProgressView",
      "bar_style": "success",
      "description": "",
      "description_tooltip": null,
      "layout": "IPY_MODEL_d43a8922d21f4dd8b8a5e40b548efd1f",
      "max": 75513418,
      "min": 0,
      "orientation": "horizontal",
      "style": "IPY_MODEL_0815efff25ee4b9590957ca7dc6b1b11",
      "value": 75513418
     }
    },
    "bc6a2db82bae42b48c114f55ee961598": {
     "model_module": "@jupyter-widgets/base",
     "model_module_version": "1.2.0",
     "model_name": "LayoutModel",
     "state": {
      "_model_module": "@jupyter-widgets/base",
      "_model_module_version": "1.2.0",
      "_model_name": "LayoutModel",
      "_view_count": null,
      "_view_module": "@jupyter-widgets/base",
      "_view_module_version": "1.2.0",
      "_view_name": "LayoutView",
      "align_content": null,
      "align_items": null,
      "align_self": null,
      "border": null,
      "bottom": null,
      "display": null,
      "flex": null,
      "flex_flow": null,
      "grid_area": null,
      "grid_auto_columns": null,
      "grid_auto_flow": null,
      "grid_auto_rows": null,
      "grid_column": null,
      "grid_gap": null,
      "grid_row": null,
      "grid_template_areas": null,
      "grid_template_columns": null,
      "grid_template_rows": null,
      "height": null,
      "justify_content": null,
      "justify_items": null,
      "left": null,
      "margin": null,
      "max_height": null,
      "max_width": null,
      "min_height": null,
      "min_width": null,
      "object_fit": null,
      "object_position": null,
      "order": null,
      "overflow": null,
      "overflow_x": null,
      "overflow_y": null,
      "padding": null,
      "right": null,
      "top": null,
      "visibility": null,
      "width": null
     }
    },
    "be8eacf5117a44829beacdc36679f5f1": {
     "model_module": "@jupyter-widgets/base",
     "model_module_version": "1.2.0",
     "model_name": "LayoutModel",
     "state": {
      "_model_module": "@jupyter-widgets/base",
      "_model_module_version": "1.2.0",
      "_model_name": "LayoutModel",
      "_view_count": null,
      "_view_module": "@jupyter-widgets/base",
      "_view_module_version": "1.2.0",
      "_view_name": "LayoutView",
      "align_content": null,
      "align_items": null,
      "align_self": null,
      "border": null,
      "bottom": null,
      "display": null,
      "flex": null,
      "flex_flow": null,
      "grid_area": null,
      "grid_auto_columns": null,
      "grid_auto_flow": null,
      "grid_auto_rows": null,
      "grid_column": null,
      "grid_gap": null,
      "grid_row": null,
      "grid_template_areas": null,
      "grid_template_columns": null,
      "grid_template_rows": null,
      "height": null,
      "justify_content": null,
      "justify_items": null,
      "left": null,
      "margin": null,
      "max_height": null,
      "max_width": null,
      "min_height": null,
      "min_width": null,
      "object_fit": null,
      "object_position": null,
      "order": null,
      "overflow": null,
      "overflow_x": null,
      "overflow_y": null,
      "padding": null,
      "right": null,
      "top": null,
      "visibility": null,
      "width": null
     }
    },
    "c718d241606040958f4400c2e30f9258": {
     "model_module": "@jupyter-widgets/controls",
     "model_module_version": "1.5.0",
     "model_name": "HBoxModel",
     "state": {
      "_dom_classes": [],
      "_model_module": "@jupyter-widgets/controls",
      "_model_module_version": "1.5.0",
      "_model_name": "HBoxModel",
      "_view_count": null,
      "_view_module": "@jupyter-widgets/controls",
      "_view_module_version": "1.5.0",
      "_view_name": "HBoxView",
      "box_style": "",
      "children": [
       "IPY_MODEL_5ae62b6f8f2e41d88147a30b306ade4d",
       "IPY_MODEL_40a0b3587782438c82514888d83fbfc2",
       "IPY_MODEL_b22f0f6d26db4acea85e57032123bbca"
      ],
      "layout": "IPY_MODEL_66e3cfb0c22c4816b9b5ebf09100093d"
     }
    },
    "c808c4fa93db44038c6dc7b1cd8cc9ac": {
     "model_module": "@jupyter-widgets/base",
     "model_module_version": "1.2.0",
     "model_name": "LayoutModel",
     "state": {
      "_model_module": "@jupyter-widgets/base",
      "_model_module_version": "1.2.0",
      "_model_name": "LayoutModel",
      "_view_count": null,
      "_view_module": "@jupyter-widgets/base",
      "_view_module_version": "1.2.0",
      "_view_name": "LayoutView",
      "align_content": null,
      "align_items": null,
      "align_self": null,
      "border": null,
      "bottom": null,
      "display": null,
      "flex": null,
      "flex_flow": null,
      "grid_area": null,
      "grid_auto_columns": null,
      "grid_auto_flow": null,
      "grid_auto_rows": null,
      "grid_column": null,
      "grid_gap": null,
      "grid_row": null,
      "grid_template_areas": null,
      "grid_template_columns": null,
      "grid_template_rows": null,
      "height": null,
      "justify_content": null,
      "justify_items": null,
      "left": null,
      "margin": null,
      "max_height": null,
      "max_width": null,
      "min_height": null,
      "min_width": null,
      "object_fit": null,
      "object_position": null,
      "order": null,
      "overflow": null,
      "overflow_x": null,
      "overflow_y": null,
      "padding": null,
      "right": null,
      "top": null,
      "visibility": null,
      "width": null
     }
    },
    "d43a8922d21f4dd8b8a5e40b548efd1f": {
     "model_module": "@jupyter-widgets/base",
     "model_module_version": "1.2.0",
     "model_name": "LayoutModel",
     "state": {
      "_model_module": "@jupyter-widgets/base",
      "_model_module_version": "1.2.0",
      "_model_name": "LayoutModel",
      "_view_count": null,
      "_view_module": "@jupyter-widgets/base",
      "_view_module_version": "1.2.0",
      "_view_name": "LayoutView",
      "align_content": null,
      "align_items": null,
      "align_self": null,
      "border": null,
      "bottom": null,
      "display": null,
      "flex": null,
      "flex_flow": null,
      "grid_area": null,
      "grid_auto_columns": null,
      "grid_auto_flow": null,
      "grid_auto_rows": null,
      "grid_column": null,
      "grid_gap": null,
      "grid_row": null,
      "grid_template_areas": null,
      "grid_template_columns": null,
      "grid_template_rows": null,
      "height": null,
      "justify_content": null,
      "justify_items": null,
      "left": null,
      "margin": null,
      "max_height": null,
      "max_width": null,
      "min_height": null,
      "min_width": null,
      "object_fit": null,
      "object_position": null,
      "order": null,
      "overflow": null,
      "overflow_x": null,
      "overflow_y": null,
      "padding": null,
      "right": null,
      "top": null,
      "visibility": null,
      "width": null
     }
    },
    "d8991f32953840f7a403bcd5e84c68cc": {
     "model_module": "@jupyter-widgets/base",
     "model_module_version": "1.2.0",
     "model_name": "LayoutModel",
     "state": {
      "_model_module": "@jupyter-widgets/base",
      "_model_module_version": "1.2.0",
      "_model_name": "LayoutModel",
      "_view_count": null,
      "_view_module": "@jupyter-widgets/base",
      "_view_module_version": "1.2.0",
      "_view_name": "LayoutView",
      "align_content": null,
      "align_items": null,
      "align_self": null,
      "border": null,
      "bottom": null,
      "display": null,
      "flex": null,
      "flex_flow": null,
      "grid_area": null,
      "grid_auto_columns": null,
      "grid_auto_flow": null,
      "grid_auto_rows": null,
      "grid_column": null,
      "grid_gap": null,
      "grid_row": null,
      "grid_template_areas": null,
      "grid_template_columns": null,
      "grid_template_rows": null,
      "height": null,
      "justify_content": null,
      "justify_items": null,
      "left": null,
      "margin": null,
      "max_height": null,
      "max_width": null,
      "min_height": null,
      "min_width": null,
      "object_fit": null,
      "object_position": null,
      "order": null,
      "overflow": null,
      "overflow_x": null,
      "overflow_y": null,
      "padding": null,
      "right": null,
      "top": null,
      "visibility": null,
      "width": null
     }
    },
    "dbde094eded24204939a454ec2f2a9e3": {
     "model_module": "@jupyter-widgets/controls",
     "model_module_version": "1.5.0",
     "model_name": "DescriptionStyleModel",
     "state": {
      "_model_module": "@jupyter-widgets/controls",
      "_model_module_version": "1.5.0",
      "_model_name": "DescriptionStyleModel",
      "_view_count": null,
      "_view_module": "@jupyter-widgets/base",
      "_view_module_version": "1.2.0",
      "_view_name": "StyleView",
      "description_width": ""
     }
    },
    "de255c57f78443149205d713dcefed23": {
     "model_module": "@jupyter-widgets/controls",
     "model_module_version": "1.5.0",
     "model_name": "FloatProgressModel",
     "state": {
      "_dom_classes": [],
      "_model_module": "@jupyter-widgets/controls",
      "_model_module_version": "1.5.0",
      "_model_name": "FloatProgressModel",
      "_view_count": null,
      "_view_module": "@jupyter-widgets/controls",
      "_view_module_version": "1.5.0",
      "_view_name": "ProgressView",
      "bar_style": "success",
      "description": "",
      "description_tooltip": null,
      "layout": "IPY_MODEL_19c99f4a1a2f4d07aadf4da0bc7a029f",
      "max": 60000,
      "min": 0,
      "orientation": "horizontal",
      "style": "IPY_MODEL_23b4d038d0ab4278a3db2449a2beb79c",
      "value": 60000
     }
    },
    "e2ab3281d8d24d5cb3b7072c1869f5cf": {
     "model_module": "@jupyter-widgets/controls",
     "model_module_version": "1.5.0",
     "model_name": "DescriptionStyleModel",
     "state": {
      "_model_module": "@jupyter-widgets/controls",
      "_model_module_version": "1.5.0",
      "_model_name": "DescriptionStyleModel",
      "_view_count": null,
      "_view_module": "@jupyter-widgets/base",
      "_view_module_version": "1.2.0",
      "_view_name": "StyleView",
      "description_width": ""
     }
    },
    "ef37fdc2dcf04e049868347380527596": {
     "model_module": "@jupyter-widgets/controls",
     "model_module_version": "1.5.0",
     "model_name": "DescriptionStyleModel",
     "state": {
      "_model_module": "@jupyter-widgets/controls",
      "_model_module_version": "1.5.0",
      "_model_name": "DescriptionStyleModel",
      "_view_count": null,
      "_view_module": "@jupyter-widgets/base",
      "_view_module_version": "1.2.0",
      "_view_name": "StyleView",
      "description_width": ""
     }
    },
    "f84f586031af4e2dbb7457c561fff781": {
     "model_module": "@jupyter-widgets/controls",
     "model_module_version": "1.5.0",
     "model_name": "DescriptionStyleModel",
     "state": {
      "_model_module": "@jupyter-widgets/controls",
      "_model_module_version": "1.5.0",
      "_model_name": "DescriptionStyleModel",
      "_view_count": null,
      "_view_module": "@jupyter-widgets/base",
      "_view_module_version": "1.2.0",
      "_view_name": "StyleView",
      "description_width": ""
     }
    },
    "f9436f05bfa6450d818bd6e884455507": {
     "model_module": "@jupyter-widgets/controls",
     "model_module_version": "1.5.0",
     "model_name": "ProgressStyleModel",
     "state": {
      "_model_module": "@jupyter-widgets/controls",
      "_model_module_version": "1.5.0",
      "_model_name": "ProgressStyleModel",
      "_view_count": null,
      "_view_module": "@jupyter-widgets/base",
      "_view_module_version": "1.2.0",
      "_view_name": "StyleView",
      "bar_color": null,
      "description_width": ""
     }
    },
    "fb462904a86b4c34961f038d5c6b639b": {
     "model_module": "@jupyter-widgets/controls",
     "model_module_version": "1.5.0",
     "model_name": "HTMLModel",
     "state": {
      "_dom_classes": [],
      "_model_module": "@jupyter-widgets/controls",
      "_model_module_version": "1.5.0",
      "_model_name": "HTMLModel",
      "_view_count": null,
      "_view_module": "@jupyter-widgets/controls",
      "_view_module_version": "1.5.0",
      "_view_name": "HTMLView",
      "description": "",
      "description_tooltip": null,
      "layout": "IPY_MODEL_90a4aab2338940bcb984ba82c06bea69",
      "placeholder": "​",
      "style": "IPY_MODEL_1ca2fe50377a42f2bd94f6afa73ce255",
      "value": "Generating train split:  48%"
     }
    }
   }
  }
 },
 "nbformat": 4,
 "nbformat_minor": 4
}
