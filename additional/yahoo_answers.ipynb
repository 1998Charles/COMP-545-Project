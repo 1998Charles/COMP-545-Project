{
 "cells": [
  {
   "cell_type": "code",
   "execution_count": 1,
   "metadata": {
    "executionInfo": {
     "elapsed": 3871,
     "status": "ok",
     "timestamp": 1712288960116,
     "user": {
      "displayName": "Mengtong Shi",
      "userId": "17422019785472594156"
     },
     "user_tz": 240
    },
    "id": "tb7MGIMYWxHh"
   },
   "outputs": [],
   "source": [
    "import fasttext\n",
    "import pandas as pd\n",
    "from datasets import load_dataset\n",
    "from sklearn.metrics import accuracy_score"
   ]
  },
  {
   "cell_type": "code",
   "execution_count": 2,
   "metadata": {
    "colab": {
     "base_uri": "https://localhost:8080/",
     "height": 475,
     "referenced_widgets": [
      "ea42af9bac03407aa9d74bf1c56879b2",
      "5a89096aed914492a6251f024b4e7684",
      "c13cae46f5fb499188675bfb81f5a26e",
      "98eb186482fe42778bb7b33415a14418",
      "45613a02ad8b41698efa5a411d133ac7",
      "bb1fde3de75a4395b19d89347700cf6d",
      "4aefb89d0f9e4fc4840ef88e20837612",
      "bc7f3c31f5a24b1982a7afb05a5b34bb",
      "b101a6e3ef69435fa97ef5ae811e21a6",
      "0ae88e79cc554dd88baf71597b8c4b84",
      "167310ad528b4cc1989c432180532a7c",
      "993c393513fa4ecf9da9fcdb1fe831f7",
      "66696415e0ad4c5e9651d14ed3c855c7",
      "36db6f645f884b19ab370a452388f313",
      "22982be8e166431bb8aaf473ce1eb91d",
      "624f917ceff6483ba3c639916f06bd38",
      "0edd3d026df9493ca14f9f9047e86b66",
      "114f4389500d45d7bf44c19ee2b1518b",
      "3cd1edfca3564825a019a01fb9fb84e2",
      "65cf725563c846b6857bb1a8f8e8f4d6",
      "43223b3a50fd49af9af7019301518335",
      "9ceb5cf4a62e4b7f98e578a134b965af",
      "386ad9c951064c08b4b272c1b7cb1b13",
      "7ec3391d324842e2accfb56df8903d64",
      "3f674fed41164b6592edb74f4bcd17a6",
      "d45d4b8fd0164f1a8e6d13b75cae02c5",
      "16a8ea0b50af422fb3ec3d9bc496a2d4",
      "b8e106ff43144dd094f575ebb3f18932",
      "b090d5b040f740cd869c452a39749815",
      "04684340e60447e18033d05996e5121c",
      "acd22ce50a764f068fc9a75dcf3e4ee2",
      "a859a6ba08af4d84a41ee0234556f873",
      "dcd7da213d3941709645441dfcfcd30f",
      "bcae375a7d224283ba29887ed7d170b7",
      "5fe9ed66ca3c4e93855cf2a8f942e5ac",
      "478e335d4b794327839a1f3c1d3d22ff",
      "68c13e195e3744d0a6c787bbaf5227a4",
      "ca3535baad5244c48bb7f929612ea3fb",
      "9836265b95904a9582f46063e2aed068",
      "da0892b9d4d741a3be219e04ea92bb3d",
      "79ae3082525946bab43ebfe8911c1842",
      "c5103274fd004d38aa7f341f35250dac",
      "3d0d7f54e26d4829abb634c9e7c775a7",
      "79413d71606040e4963e658a700416e1",
      "279a8e5de1144099a6049c221551631c",
      "09796c334a40402ab78a334d6349bd31",
      "805b2f8002e44631beff11310177622e",
      "8a7d7ce12e6146d8a394249db94c19ca",
      "170ad0862e1b418b8468549a53872c8d",
      "60b0237ed1b044c7a49f2449e4804175",
      "8296e8410f7743f5ad542fcb0ec6ec78",
      "f056ad39de644a508de2652f45abc530",
      "3a60075f465c44c982943801d948f0c7",
      "b7a4b7bdf786442bb1b5ad3b876623f3",
      "f0a7b728d7904a6cb759678fdaef6675"
     ]
    },
    "executionInfo": {
     "elapsed": 70028,
     "status": "ok",
     "timestamp": 1712289030135,
     "user": {
      "displayName": "Mengtong Shi",
      "userId": "17422019785472594156"
     },
     "user_tz": 240
    },
    "id": "C7_zpd-rW4lj",
    "outputId": "fbb733e3-80a7-42ed-fa8e-3870ad851162"
   },
   "outputs": [
    {
     "name": "stdout",
     "output_type": "stream",
     "text": [
      "DatasetDict({\n",
      "    train: Dataset({\n",
      "        features: ['id', 'topic', 'question_title', 'question_content', 'best_answer'],\n",
      "        num_rows: 1400000\n",
      "    })\n",
      "    test: Dataset({\n",
      "        features: ['id', 'topic', 'question_title', 'question_content', 'best_answer'],\n",
      "        num_rows: 60000\n",
      "    })\n",
      "})\n"
     ]
    }
   ],
   "source": [
    "yahoo_answers = load_dataset(\"yahoo_answers_topics\")\n",
    "print(yahoo_answers)"
   ]
  },
  {
   "cell_type": "code",
   "execution_count": 3,
   "metadata": {
    "colab": {
     "base_uri": "https://localhost:8080/"
    },
    "executionInfo": {
     "elapsed": 7651,
     "status": "ok",
     "timestamp": 1712289037760,
     "user": {
      "displayName": "Mengtong Shi",
      "userId": "17422019785472594156"
     },
     "user_tz": 240
    },
    "id": "neLwlLQ0Wzd8",
    "outputId": "c16dc7de-5546-461e-d1ec-5b63b7dddf38"
   },
   "outputs": [
    {
     "name": "stdout",
     "output_type": "stream",
     "text": [
      "<class 'list'>\n",
      "<class 'str'>\n",
      "why doesn't an optical mouse work on a glass table?\n",
      "<class 'list'>\n",
      "<class 'str'>\n",
      "or even on some surfaces?\n",
      "<class 'list'>\n",
      "<class 'str'>\n",
      "Optical mice use an LED and a camera to rapidly capture images of the surface beneath the mouse.  The infomation from the camera is analyzed by a DSP (Digital Signal Processor) and used to detect imperfections in the underlying surface and determine motion. Some materials, such as glass, mirrors or other very shiny, uniform surfaces interfere with the ability of the DSP to accurately analyze the surface beneath the mouse.  \\nSince glass is transparent and very uniform, the mouse is unable to pick up enough imperfections in the underlying surface to determine motion.  Mirrored surfaces are also a problem, since they constantly reflect back the same image, causing the DSP not to recognize motion properly. When the system is unable to see surface changes associated with movement, the mouse will not work properly.\n",
      "<class 'list'>\n",
      "<class 'int'>\n",
      "4\n"
     ]
    }
   ],
   "source": [
    "print(type(yahoo_answers['train']['question_title']))\n",
    "print(type(yahoo_answers['train']['question_title'][0]))\n",
    "print(yahoo_answers['train']['question_title'][0])\n",
    "print(type(yahoo_answers['train']['question_content']))\n",
    "print(type(yahoo_answers['train']['question_content'][0]))\n",
    "print(yahoo_answers['train']['question_content'][0])\n",
    "print(type(yahoo_answers['train']['best_answer']))\n",
    "print(type(yahoo_answers['train']['best_answer'][0]))\n",
    "print(yahoo_answers['train']['best_answer'][0])\n",
    "print(type(yahoo_answers['train']['topic']))\n",
    "print(type(yahoo_answers['train']['topic'][0]))\n",
    "print(yahoo_answers['train']['topic'][0])"
   ]
  },
  {
   "cell_type": "code",
   "execution_count": 4,
   "metadata": {},
   "outputs": [
    {
     "name": "stdout",
     "output_type": "stream",
     "text": [
      "<class 'list'>\n",
      "<class 'str'>\n",
      "What makes friendship click?\n",
      "<class 'list'>\n",
      "<class 'str'>\n",
      "How does the spark keep going?\n",
      "<class 'list'>\n",
      "<class 'str'>\n",
      "good communication is what does it.  Can you move beyond small talk and say what's really on your mind.  If you start doing this, my expereince is that potentially good friends will respond or shun you.  Then you know who the really good friends are.\n",
      "<class 'list'>\n",
      "<class 'int'>\n",
      "8\n"
     ]
    }
   ],
   "source": [
    "print(type(yahoo_answers['test']['question_title']))\n",
    "print(type(yahoo_answers['test']['question_title'][0]))\n",
    "print(yahoo_answers['test']['question_title'][0])\n",
    "print(type(yahoo_answers['test']['question_content']))\n",
    "print(type(yahoo_answers['test']['question_content'][0]))\n",
    "print(yahoo_answers['test']['question_content'][0])\n",
    "print(type(yahoo_answers['test']['best_answer']))\n",
    "print(type(yahoo_answers['test']['best_answer'][0]))\n",
    "print(yahoo_answers['test']['best_answer'][0])\n",
    "print(type(yahoo_answers['test']['topic']))\n",
    "print(type(yahoo_answers['test']['topic'][0]))\n",
    "print(yahoo_answers['test']['topic'][0])"
   ]
  },
  {
   "cell_type": "code",
   "execution_count": 5,
   "metadata": {
    "executionInfo": {
     "elapsed": 26,
     "status": "ok",
     "timestamp": 1712289037761,
     "user": {
      "displayName": "Mengtong Shi",
      "userId": "17422019785472594156"
     },
     "user_tz": 240
    },
    "id": "BWEM2dOLW7Mm"
   },
   "outputs": [],
   "source": [
    "def print_results(N, p, r):\n",
    "    print(\"N\\t\" + str(N))\n",
    "    print(\"P@{}\\t{:.3f}\".format(1, p))\n",
    "    print(\"R@{}\\t{:.3f}\".format(1, r))"
   ]
  },
  {
   "cell_type": "code",
   "execution_count": 6,
   "metadata": {
    "executionInfo": {
     "elapsed": 24,
     "status": "ok",
     "timestamp": 1712289037761,
     "user": {
      "displayName": "Mengtong Shi",
      "userId": "17422019785472594156"
     },
     "user_tz": 240
    },
    "id": "eJXDmn7rW9TQ"
   },
   "outputs": [],
   "source": [
    "dataset = yahoo_answers"
   ]
  },
  {
   "cell_type": "code",
   "execution_count": 7,
   "metadata": {
    "executionInfo": {
     "elapsed": 328781,
     "status": "ok",
     "timestamp": 1712289405572,
     "user": {
      "displayName": "Mengtong Shi",
      "userId": "17422019785472594156"
     },
     "user_tz": 240
    },
    "id": "kVngP9gzXBLr"
   },
   "outputs": [],
   "source": [
    "titles = dataset['train']['question_title']\n",
    "contents = dataset['train']['question_content']\n",
    "answers = dataset['train']['best_answer']\n",
    "train_texts = [str(x) + str(y) + str(z) for x, y, z in zip(titles, contents, answers)]\n",
    "train_labels = dataset['train']['topic']\n",
    "\n",
    "with open(\"train.txt\", \"w\") as f:\n",
    "    for text, label in zip(train_texts, train_labels):\n",
    "        f.write(f\"__label__{label} {text}\\n\")"
   ]
  },
  {
   "cell_type": "code",
   "execution_count": 8,
   "metadata": {
    "colab": {
     "base_uri": "https://localhost:8080/"
    },
    "executionInfo": {
     "elapsed": 1939,
     "status": "ok",
     "timestamp": 1712289407506,
     "user": {
      "displayName": "Mengtong Shi",
      "userId": "17422019785472594156"
     },
     "user_tz": 240
    },
    "id": "RdkDf95lXGGx",
    "outputId": "cbeffdc4-6b1c-476b-f862-274c1b2d9de9"
   },
   "outputs": [],
   "source": [
    "titles = dataset['test']['question_title']\n",
    "contents = dataset['test']['question_content']\n",
    "answers = dataset['test']['best_answer']\n",
    "test_texts = [str(x) + str(y) + str(z) for x, y, z in zip(titles, contents, answers)]\n",
    "test_labels = dataset['test']['topic']\n",
    "\n",
    "with open(\"test.txt\", \"w\") as f:\n",
    "    for text, label in zip(test_texts, test_labels):\n",
    "        f.write(f\"__label__{label} {text}\\n\")"
   ]
  },
  {
   "cell_type": "code",
   "execution_count": 9,
   "metadata": {
    "colab": {
     "base_uri": "https://localhost:8080/"
    },
    "executionInfo": {
     "elapsed": 2542,
     "status": "ok",
     "timestamp": 1712289410045,
     "user": {
      "displayName": "Mengtong Shi",
      "userId": "17422019785472594156"
     },
     "user_tz": 240
    },
    "id": "sS_63lCTYx3u",
    "outputId": "b333287b-a718-4071-daf0-3dd646988b1f"
   },
   "outputs": [
    {
     "name": "stdout",
     "output_type": "stream",
     "text": [
      "Training model with lr=0.05, dim=5, epoch=5, and wordNgrams=2\n"
     ]
    },
    {
     "name": "stderr",
     "output_type": "stream",
     "text": [
      "Read 128M words\n",
      "Number of words:  5783083\n",
      "Number of labels: 10\n",
      "Progress: 100.0% words/sec/thread: 1474724 lr:  0.000000 avg.loss:  1.013695 ETA:   0h 0m 0s\n"
     ]
    },
    {
     "name": "stdout",
     "output_type": "stream",
     "text": [
      "N\t60000\n",
      "P@1\t0.684\n",
      "R@1\t0.684\n",
      "\n",
      "Training model with lr=0.05, dim=5, epoch=10, and wordNgrams=2\n"
     ]
    },
    {
     "name": "stderr",
     "output_type": "stream",
     "text": [
      "Read 128M words\n",
      "Number of words:  5783083\n",
      "Number of labels: 10\n",
      "Progress: 100.0% words/sec/thread: 1382413 lr:  0.000000 avg.loss:  0.697110 ETA:   0h 0m 0s\n"
     ]
    },
    {
     "name": "stdout",
     "output_type": "stream",
     "text": [
      "N\t60000\n",
      "P@1\t0.671\n",
      "R@1\t0.671\n",
      "\n",
      "Training model with lr=0.05, dim=5, epoch=15, and wordNgrams=2\n"
     ]
    },
    {
     "name": "stderr",
     "output_type": "stream",
     "text": [
      "Read 128M words\n",
      "Number of words:  5783083\n",
      "Number of labels: 10\n",
      "Progress: 100.0% words/sec/thread:  726570 lr:  0.000000 avg.loss:  0.501772 ETA:   0h 0m 0s  6.5% words/sec/thread:  968224 lr:  0.046774 avg.loss:  1.617404 ETA:   0h 4m26s\n"
     ]
    },
    {
     "name": "stdout",
     "output_type": "stream",
     "text": [
      "N\t60000\n",
      "P@1\t0.667\n",
      "R@1\t0.667\n",
      "\n",
      "Training model with lr=0.05, dim=5, epoch=5, and wordNgrams=3\n"
     ]
    },
    {
     "name": "stderr",
     "output_type": "stream",
     "text": [
      "Read 128M words\n",
      "Number of words:  5783083\n",
      "Number of labels: 10\n",
      "Progress: 100.0% words/sec/thread:  872219 lr:  0.000000 avg.loss:  0.933395 ETA:   0h 0m 0s-0.000000 avg.loss:  0.933395 ETA:   0h 0m 0s\n"
     ]
    },
    {
     "name": "stdout",
     "output_type": "stream",
     "text": [
      "N\t60000\n",
      "P@1\t0.684\n",
      "R@1\t0.684\n",
      "\n",
      "Training model with lr=0.05, dim=5, epoch=10, and wordNgrams=3\n"
     ]
    },
    {
     "name": "stderr",
     "output_type": "stream",
     "text": [
      "Read 128M words\n",
      "Number of words:  5783083\n",
      "Number of labels: 10\n",
      "Progress: 100.0% words/sec/thread:  976850 lr:  0.000000 avg.loss:  0.604834 ETA:   0h 0m 0s\n"
     ]
    },
    {
     "name": "stdout",
     "output_type": "stream",
     "text": [
      "N\t60000\n",
      "P@1\t0.669\n",
      "R@1\t0.669\n",
      "\n",
      "Training model with lr=0.05, dim=5, epoch=15, and wordNgrams=3\n"
     ]
    },
    {
     "name": "stderr",
     "output_type": "stream",
     "text": [
      "Read 128M words\n",
      "Number of words:  5783083\n",
      "Number of labels: 10\n",
      "Progress: 100.0% words/sec/thread: 1038528 lr:  0.000000 avg.loss:  0.413159 ETA:   0h 0m 0s\n"
     ]
    },
    {
     "name": "stdout",
     "output_type": "stream",
     "text": [
      "N\t60000\n",
      "P@1\t0.663\n",
      "R@1\t0.663\n",
      "\n",
      "Training model with lr=0.05, dim=5, epoch=5, and wordNgrams=4\n"
     ]
    },
    {
     "name": "stderr",
     "output_type": "stream",
     "text": [
      "Read 128M words\n",
      "Number of words:  5783083\n",
      "Number of labels: 10\n",
      "Progress: 100.0% words/sec/thread:  654655 lr:  0.000000 avg.loss:  0.961775 ETA:   0h 0m 0s 663421 lr:  0.004180 avg.loss:  0.994038 ETA:   0h 0m11s\n"
     ]
    },
    {
     "name": "stdout",
     "output_type": "stream",
     "text": [
      "N\t60000\n",
      "P@1\t0.676\n",
      "R@1\t0.676\n",
      "\n",
      "Training model with lr=0.05, dim=5, epoch=10, and wordNgrams=4\n"
     ]
    },
    {
     "name": "stderr",
     "output_type": "stream",
     "text": [
      "Read 128M words\n",
      "Number of words:  5783083\n",
      "Number of labels: 10\n",
      "Progress: 100.0% words/sec/thread:  494026 lr:  0.000000 avg.loss:  0.596176 ETA:   0h 0m 0ss 33.9% words/sec/thread:  544575 lr:  0.033031 avg.loss:  1.198648 ETA:   0h 3m43s63.1% words/sec/thread:  516070 lr:  0.018445 avg.loss:  0.832362 ETA:   0h 2m11s 514371 lr:  0.014239 avg.loss:  0.764240 ETA:   0h 1m41s 77.8% words/sec/thread:  510364 lr:  0.011119 avg.loss:  0.719735 ETA:   0h 1m20s 0.604664 ETA:   0h 0m 7s\n"
     ]
    },
    {
     "name": "stdout",
     "output_type": "stream",
     "text": [
      "N\t60000\n",
      "P@1\t0.667\n",
      "R@1\t0.667\n",
      "\n",
      "Training model with lr=0.05, dim=5, epoch=15, and wordNgrams=4\n"
     ]
    },
    {
     "name": "stderr",
     "output_type": "stream",
     "text": [
      "Read 128M words\n",
      "Number of words:  5783083\n",
      "Number of labels: 10\n",
      "Progress: 100.0% words/sec/thread:  504012 lr:  0.000000 avg.loss:  0.412076 ETA:   0h 0m 0s 98.4% words/sec/thread:  506360 lr:  0.000792 avg.loss:  0.418372 ETA:   0h 0m 8s\n"
     ]
    },
    {
     "name": "stdout",
     "output_type": "stream",
     "text": [
      "N\t60000\n",
      "P@1\t0.659\n",
      "R@1\t0.659\n",
      "\n",
      "Training model with lr=0.05, dim=5, epoch=5, and wordNgrams=5\n"
     ]
    },
    {
     "name": "stderr",
     "output_type": "stream",
     "text": [
      "Read 128M words\n",
      "Number of words:  5783083\n",
      "Number of labels: 10\n",
      "Progress: 100.0% words/sec/thread:  341676 lr: -0.000000 avg.loss:  1.074645 ETA:   0h 0m 0s"
     ]
    },
    {
     "name": "stdout",
     "output_type": "stream",
     "text": [
      "N\t60000\n",
      "P@1\t0.673\n",
      "R@1\t0.673\n",
      "\n",
      "Training model with lr=0.05, dim=5, epoch=10, and wordNgrams=5\n"
     ]
    },
    {
     "name": "stderr",
     "output_type": "stream",
     "text": [
      "Progress: 100.0% words/sec/thread:  341676 lr:  0.000000 avg.loss:  1.074645 ETA:   0h 0m 0s\n",
      "Read 128M words\n",
      "Number of words:  5783083\n",
      "Number of labels: 10\n",
      "Progress: 100.0% words/sec/thread:  438432 lr:  0.000000 avg.loss:  0.611843 ETA:   0h 0m 0s\n"
     ]
    },
    {
     "name": "stdout",
     "output_type": "stream",
     "text": [
      "N\t60000\n",
      "P@1\t0.665\n",
      "R@1\t0.665\n",
      "\n",
      "Training model with lr=0.05, dim=5, epoch=15, and wordNgrams=5\n"
     ]
    },
    {
     "name": "stderr",
     "output_type": "stream",
     "text": [
      "Read 128M words\n",
      "Number of words:  5783083\n",
      "Number of labels: 10\n",
      "Progress: 100.0% words/sec/thread:  367382 lr:  0.000000 avg.loss:  0.406053 ETA:   0h 0m 0ss\n"
     ]
    },
    {
     "name": "stdout",
     "output_type": "stream",
     "text": [
      "N\t60000\n",
      "P@1\t0.656\n",
      "R@1\t0.656\n",
      "\n",
      "Training model with lr=0.05, dim=10, epoch=5, and wordNgrams=2\n"
     ]
    },
    {
     "name": "stderr",
     "output_type": "stream",
     "text": [
      "Read 128M words\n",
      "Number of words:  5783083\n",
      "Number of labels: 10\n",
      "Progress: 100.0% words/sec/thread:  772133 lr:  0.000000 avg.loss:  0.936594 ETA:   0h 0m 0s 0.040752 avg.loss:  1.581080 ETA:   0h 2m 0s\n",
      "Read 1M words"
     ]
    },
    {
     "name": "stdout",
     "output_type": "stream",
     "text": [
      "N\t60000\n",
      "P@1\t0.701\n",
      "R@1\t0.701\n",
      "\n",
      "Training model with lr=0.05, dim=10, epoch=10, and wordNgrams=2\n"
     ]
    },
    {
     "name": "stderr",
     "output_type": "stream",
     "text": [
      "Read 128M words\n",
      "Number of words:  5783083\n",
      "Number of labels: 10\n",
      "Progress: 100.0% words/sec/thread: 1167122 lr:  0.000000 avg.loss:  0.563614 ETA:   0h 0m 0s\n"
     ]
    },
    {
     "name": "stdout",
     "output_type": "stream",
     "text": [
      "N\t60000\n",
      "P@1\t0.694\n",
      "R@1\t0.694\n",
      "\n",
      "Training model with lr=0.05, dim=10, epoch=15, and wordNgrams=2\n"
     ]
    },
    {
     "name": "stderr",
     "output_type": "stream",
     "text": [
      "Read 128M words\n",
      "Number of words:  5783083\n",
      "Number of labels: 10\n",
      "Progress: 100.0% words/sec/thread:  634920 lr:  0.000000 avg.loss:  0.407412 ETA:   0h 0m 0s 27.1% words/sec/thread:  650501 lr:  0.036454 avg.loss:  0.916070 ETA:   0h 5m 9s% words/sec/thread:  609265 lr:  0.031665 avg.loss:  0.819781 ETA:   0h 4m46s  0h 2m18s 92.2% words/sec/thread:  639604 lr:  0.003901 avg.loss:  0.435403 ETA:   0h 0m33s% words/sec/thread:  639464 lr:  0.003824 avg.loss:  0.434930 ETA:   0h 0m33s\n"
     ]
    },
    {
     "name": "stdout",
     "output_type": "stream",
     "text": [
      "N\t60000\n",
      "P@1\t0.683\n",
      "R@1\t0.683\n",
      "\n",
      "Training model with lr=0.05, dim=10, epoch=5, and wordNgrams=3\n"
     ]
    },
    {
     "name": "stderr",
     "output_type": "stream",
     "text": [
      "Read 128M words\n",
      "Number of words:  5783083\n",
      "Number of labels: 10\n",
      "Progress: 100.0% words/sec/thread:  670451 lr:  0.000000 avg.loss:  0.922607 ETA:   0h 0m 0s 57.7% words/sec/thread:  613552 lr:  0.021152 avg.loss:  1.206535 ETA:   0h 1m 3sm 6s\n"
     ]
    },
    {
     "name": "stdout",
     "output_type": "stream",
     "text": [
      "N\t60000\n",
      "P@1\t0.697\n",
      "R@1\t0.697\n",
      "\n",
      "Training model with lr=0.05, dim=10, epoch=10, and wordNgrams=3\n"
     ]
    },
    {
     "name": "stderr",
     "output_type": "stream",
     "text": [
      "Read 128M words\n",
      "Number of words:  5783083\n",
      "Number of labels: 10\n",
      "Progress: 100.0% words/sec/thread:  895789 lr:  0.000000 avg.loss:  0.537634 ETA:   0h 0m 0s\n"
     ]
    },
    {
     "name": "stdout",
     "output_type": "stream",
     "text": [
      "N\t60000\n",
      "P@1\t0.689\n",
      "R@1\t0.689\n",
      "\n",
      "Training model with lr=0.05, dim=10, epoch=15, and wordNgrams=3\n"
     ]
    },
    {
     "name": "stderr",
     "output_type": "stream",
     "text": [
      "Read 128M words\n",
      "Number of words:  5783083\n",
      "Number of labels: 10\n",
      "Progress: 100.0% words/sec/thread:  528849 lr:  0.000000 avg.loss:  0.350575 ETA:   0h 0m 0s 11.0% words/sec/thread:  729138 lr:  0.044507 avg.loss:  1.461030 ETA:   0h 5m37s 39.2% words/sec/thread:  464755 lr:  0.030384 avg.loss:  0.764358 ETA:   0h 6m 1s 80.1% words/sec/thread:  542845 lr:  0.009952 avg.loss:  0.423528 ETA:   0h 1m41s\n"
     ]
    },
    {
     "name": "stdout",
     "output_type": "stream",
     "text": [
      "N\t60000\n",
      "P@1\t0.686\n",
      "R@1\t0.686\n",
      "\n",
      "Training model with lr=0.05, dim=10, epoch=5, and wordNgrams=4\n"
     ]
    },
    {
     "name": "stderr",
     "output_type": "stream",
     "text": [
      "Read 128M words\n",
      "Number of words:  5783083\n",
      "Number of labels: 10\n",
      "Progress: 100.0% words/sec/thread:  442209 lr:  0.000000 avg.loss:  0.933899 ETA:   0h 0m 0s 39.4% words/sec/thread:  422881 lr:  0.030312 avg.loss:  1.372308 ETA:   0h 2m11s 84.4% words/sec/thread:  438867 lr:  0.007802 avg.loss:  1.010742 ETA:   0h 0m32s 84.7% words/sec/thread:  438724 lr:  0.007637 avg.loss:  1.009094 ETA:   0h 0m32s\n"
     ]
    },
    {
     "name": "stdout",
     "output_type": "stream",
     "text": [
      "N\t60000\n",
      "P@1\t0.689\n",
      "R@1\t0.689\n",
      "\n",
      "Training model with lr=0.05, dim=10, epoch=10, and wordNgrams=4\n"
     ]
    },
    {
     "name": "stderr",
     "output_type": "stream",
     "text": [
      "Read 128M words\n",
      "Number of words:  5783083\n",
      "Number of labels: 10\n",
      "Progress: 100.0% words/sec/thread:  469993 lr:  0.000000 avg.loss:  0.538949 ETA:   0h 0m 0s  0.8% words/sec/thread:  524181 lr:  0.049604 avg.loss:  2.247682 ETA:   0h 5m48s\n"
     ]
    },
    {
     "name": "stdout",
     "output_type": "stream",
     "text": [
      "N\t60000\n",
      "P@1\t0.688\n",
      "R@1\t0.688\n",
      "\n",
      "Training model with lr=0.05, dim=10, epoch=15, and wordNgrams=4\n"
     ]
    },
    {
     "name": "stderr",
     "output_type": "stream",
     "text": [
      "Read 128M words\n",
      "Number of words:  5783083\n",
      "Number of labels: 10\n",
      "Progress: 100.0% words/sec/thread:  381559 lr:  0.000000 avg.loss:  0.358370 ETA:   0h 0m 0s34.3% words/sec/thread:  300781 lr:  0.032866 avg.loss:  0.842920 ETA:   0h10m 3sh 9m52s 50.2% words/sec/thread:  301103 lr:  0.024878 avg.loss:  0.639667 ETA:   0h 7m36s words/sec/thread:  305133 lr:  0.020398 avg.loss:  0.555400 ETA:   0h 6m 9s\n"
     ]
    },
    {
     "name": "stdout",
     "output_type": "stream",
     "text": [
      "N\t60000\n",
      "P@1\t0.684\n",
      "R@1\t0.684\n",
      "\n",
      "Training model with lr=0.05, dim=10, epoch=5, and wordNgrams=5\n"
     ]
    },
    {
     "name": "stderr",
     "output_type": "stream",
     "text": [
      "Read 128M words\n",
      "Number of words:  5783083\n",
      "Number of labels: 10\n",
      "Progress: 100.0% words/sec/thread:  368684 lr:  0.000000 avg.loss:  1.000394 ETA:   0h 0m 0s 1.472658 ETA:   0h 3m33s\n"
     ]
    },
    {
     "name": "stdout",
     "output_type": "stream",
     "text": [
      "N\t60000\n",
      "P@1\t0.687\n",
      "R@1\t0.687\n",
      "\n",
      "Training model with lr=0.05, dim=10, epoch=10, and wordNgrams=5\n"
     ]
    },
    {
     "name": "stderr",
     "output_type": "stream",
     "text": [
      "Read 128M words\n",
      "Number of words:  5783083\n",
      "Number of labels: 10\n",
      "Progress: 100.0% words/sec/thread:  432190 lr: -0.000000 avg.loss:  0.570386 ETA:   0h 0m 0s56.2% words/sec/thread:  341005 lr:  0.021896 avg.loss:  0.876287 ETA:   0h 3m56s100.0% words/sec/thread:  432182 lr:  0.000000 avg.loss:  0.570386 ETA:   0h 0m 0s\n"
     ]
    },
    {
     "name": "stdout",
     "output_type": "stream",
     "text": [
      "N\t60000\n",
      "P@1\t0.685\n",
      "R@1\t0.685\n",
      "\n",
      "Training model with lr=0.05, dim=10, epoch=15, and wordNgrams=5\n"
     ]
    },
    {
     "name": "stderr",
     "output_type": "stream",
     "text": [
      "Read 128M words\n",
      "Number of words:  5783083\n",
      "Number of labels: 10\n",
      "Progress: 100.0% words/sec/thread:  464935 lr:  0.000000 avg.loss:  0.379614 ETA:   0h 0m 0s  5.5% words/sec/thread:  701498 lr:  0.047249 avg.loss:  1.805242 ETA:   0h 6m11s 39.7% words/sec/thread:  359774 lr:  0.030149 avg.loss:  0.814102 ETA:   0h 7m42s\n"
     ]
    },
    {
     "name": "stdout",
     "output_type": "stream",
     "text": [
      "N\t60000\n",
      "P@1\t0.681\n",
      "R@1\t0.681\n",
      "\n",
      "Training model with lr=0.05, dim=25, epoch=5, and wordNgrams=2\n"
     ]
    },
    {
     "name": "stderr",
     "output_type": "stream",
     "text": [
      "Read 128M words\n",
      "Number of words:  5783083\n",
      "Number of labels: 10\n",
      "Progress: 100.0% words/sec/thread:  557775 lr:  0.000000 avg.loss:  0.875461 ETA:   0h 0m 0s 11.4% words/sec/thread:  656332 lr:  0.044320 avg.loss:  1.615554 ETA:   0h 2m 4s\n"
     ]
    },
    {
     "name": "stdout",
     "output_type": "stream",
     "text": [
      "N\t60000\n",
      "P@1\t0.699\n",
      "R@1\t0.699\n",
      "\n",
      "Training model with lr=0.05, dim=25, epoch=10, and wordNgrams=2\n"
     ]
    },
    {
     "name": "stderr",
     "output_type": "stream",
     "text": [
      "Read 128M words\n",
      "Number of words:  5783083\n",
      "Number of labels: 10\n",
      "Progress: 100.0% words/sec/thread:  548818 lr:  0.000000 avg.loss:  0.582784 ETA:   0h 0m 0s\n"
     ]
    },
    {
     "name": "stdout",
     "output_type": "stream",
     "text": [
      "N\t60000\n",
      "P@1\t0.693\n",
      "R@1\t0.693\n",
      "\n",
      "Training model with lr=0.05, dim=25, epoch=15, and wordNgrams=2\n"
     ]
    },
    {
     "name": "stderr",
     "output_type": "stream",
     "text": [
      "Read 128M words\n",
      "Number of words:  5783083\n",
      "Number of labels: 10\n",
      "Progress: 100.0% words/sec/thread:  452979 lr:  0.000000 avg.loss:  0.403528 ETA:   0h 0m 0s\n"
     ]
    },
    {
     "name": "stdout",
     "output_type": "stream",
     "text": [
      "N\t60000\n",
      "P@1\t0.685\n",
      "R@1\t0.685\n",
      "\n",
      "Training model with lr=0.05, dim=25, epoch=5, and wordNgrams=3\n"
     ]
    },
    {
     "name": "stderr",
     "output_type": "stream",
     "text": [
      "Read 128M words\n",
      "Number of words:  5783083\n",
      "Number of labels: 10\n",
      "Progress: 100.0% words/sec/thread:  553132 lr:  0.000000 avg.loss:  0.911099 ETA:   0h 0m 0s 74.8% words/sec/thread:  710083 lr:  0.012585 avg.loss:  1.058655 ETA:   0h 0m32s\n"
     ]
    },
    {
     "name": "stdout",
     "output_type": "stream",
     "text": [
      "N\t60000\n",
      "P@1\t0.698\n",
      "R@1\t0.698\n",
      "\n",
      "Training model with lr=0.05, dim=25, epoch=10, and wordNgrams=3\n"
     ]
    },
    {
     "name": "stderr",
     "output_type": "stream",
     "text": [
      "Read 128M words\n",
      "Number of words:  5783083\n",
      "Number of labels: 10\n",
      "Progress: 100.0% words/sec/thread:  405708 lr:  0.000000 avg.loss:  0.516503 ETA:   0h 0m 0s\n"
     ]
    },
    {
     "name": "stdout",
     "output_type": "stream",
     "text": [
      "N\t60000\n",
      "P@1\t0.690\n",
      "R@1\t0.690\n",
      "\n",
      "Training model with lr=0.05, dim=25, epoch=15, and wordNgrams=3\n"
     ]
    },
    {
     "name": "stderr",
     "output_type": "stream",
     "text": [
      "Read 128M words\n",
      "Number of words:  5783083\n",
      "Number of labels: 10\n",
      "Progress: 100.0% words/sec/thread:  556648 lr:  0.000000 avg.loss:  0.347205 ETA:   0h 0m 0s\n"
     ]
    },
    {
     "name": "stdout",
     "output_type": "stream",
     "text": [
      "N\t60000\n",
      "P@1\t0.687\n",
      "R@1\t0.687\n",
      "\n",
      "Training model with lr=0.05, dim=25, epoch=5, and wordNgrams=4\n"
     ]
    },
    {
     "name": "stderr",
     "output_type": "stream",
     "text": [
      "Read 128M words\n",
      "Number of words:  5783083\n",
      "Number of labels: 10\n",
      "Progress: 100.0% words/sec/thread:  510465 lr:  0.000000 avg.loss:  0.997781 ETA:   0h 0m 0s\n"
     ]
    },
    {
     "name": "stdout",
     "output_type": "stream",
     "text": [
      "N\t60000\n",
      "P@1\t0.693\n",
      "R@1\t0.693\n",
      "\n",
      "Training model with lr=0.05, dim=25, epoch=10, and wordNgrams=4\n"
     ]
    },
    {
     "name": "stderr",
     "output_type": "stream",
     "text": [
      "Read 128M words\n",
      "Number of words:  5783083\n",
      "Number of labels: 10\n",
      "Progress: 100.0% words/sec/thread:  647859 lr:  0.000000 avg.loss:  0.546479 ETA:   0h 0m 0s 37.3% words/sec/thread:  728633 lr:  0.031364 avg.loss:  1.111288 ETA:   0h 2m38s\n"
     ]
    },
    {
     "name": "stdout",
     "output_type": "stream",
     "text": [
      "N\t60000\n",
      "P@1\t0.690\n",
      "R@1\t0.690\n",
      "\n",
      "Training model with lr=0.05, dim=25, epoch=15, and wordNgrams=4\n"
     ]
    },
    {
     "name": "stderr",
     "output_type": "stream",
     "text": [
      "Read 128M words\n",
      "Number of words:  5783083\n",
      "Number of labels: 10\n",
      "Progress: 100.0% words/sec/thread:  515986 lr:  0.000000 avg.loss:  0.373318 ETA:   0h 0m 0s\n"
     ]
    },
    {
     "name": "stdout",
     "output_type": "stream",
     "text": [
      "N\t60000\n",
      "P@1\t0.685\n",
      "R@1\t0.685\n",
      "\n",
      "Training model with lr=0.05, dim=25, epoch=5, and wordNgrams=5\n"
     ]
    },
    {
     "name": "stderr",
     "output_type": "stream",
     "text": [
      "Read 128M words111M words\n",
      "Number of words:  5783083\n",
      "Number of labels: 10\n",
      "Progress: 100.0% words/sec/thread:  342770 lr:  0.000000 avg.loss:  1.042641 ETA:   0h 0m 0s% words/sec/thread:  376124 lr:  0.010346 avg.loss:  1.158904 ETA:   0h 0m50s\n"
     ]
    },
    {
     "name": "stdout",
     "output_type": "stream",
     "text": [
      "N\t60000\n",
      "P@1\t0.689\n",
      "R@1\t0.689\n",
      "\n",
      "Training model with lr=0.05, dim=25, epoch=10, and wordNgrams=5\n"
     ]
    },
    {
     "name": "stderr",
     "output_type": "stream",
     "text": [
      "Read 128M words\n",
      "Number of words:  5783083\n",
      "Number of labels: 10\n",
      "Progress: 100.0% words/sec/thread:  355252 lr:  0.000000 avg.loss:  0.546799 ETA:   0h 0m 0s\n"
     ]
    },
    {
     "name": "stdout",
     "output_type": "stream",
     "text": [
      "N\t60000\n",
      "P@1\t0.687\n",
      "R@1\t0.687\n",
      "\n",
      "Training model with lr=0.05, dim=25, epoch=15, and wordNgrams=5\n"
     ]
    },
    {
     "name": "stderr",
     "output_type": "stream",
     "text": [
      "Read 128M words\n",
      "Number of words:  5783083\n",
      "Number of labels: 10\n",
      "Progress: 100.0% words/sec/thread:  675616 lr:  0.000000 avg.loss:  0.393103 ETA:   0h 0m 0s 646893 lr:  0.020139 avg.loss:  0.595695 ETA:   0h 2m51s\n",
      "Read 1M words"
     ]
    },
    {
     "name": "stdout",
     "output_type": "stream",
     "text": [
      "N\t60000\n",
      "P@1\t0.681\n",
      "R@1\t0.681\n",
      "\n",
      "Training model with lr=0.1, dim=5, epoch=5, and wordNgrams=2\n"
     ]
    },
    {
     "name": "stderr",
     "output_type": "stream",
     "text": [
      "Read 128M words words\n",
      "Number of words:  5783083\n",
      "Number of labels: 10\n",
      "Progress: 100.0% words/sec/thread: 1385254 lr:  0.000000 avg.loss:  0.868989 ETA:   0h 0m 0s\n"
     ]
    },
    {
     "name": "stdout",
     "output_type": "stream",
     "text": [
      "N\t60000\n",
      "P@1\t0.685\n",
      "R@1\t0.685\n",
      "\n",
      "Training model with lr=0.1, dim=5, epoch=10, and wordNgrams=2\n"
     ]
    },
    {
     "name": "stderr",
     "output_type": "stream",
     "text": [
      "Read 128M words\n",
      "Number of words:  5783083\n",
      "Number of labels: 10\n",
      "Progress: 100.0% words/sec/thread:  761553 lr:  0.000000 avg.loss:  0.575754 ETA:   0h 0m 0s\n",
      "Read 1M words"
     ]
    },
    {
     "name": "stdout",
     "output_type": "stream",
     "text": [
      "N\t60000\n",
      "P@1\t0.664\n",
      "R@1\t0.664\n",
      "\n",
      "Training model with lr=0.1, dim=5, epoch=15, and wordNgrams=2\n"
     ]
    },
    {
     "name": "stderr",
     "output_type": "stream",
     "text": [
      "Read 128M wordsM words\n",
      "Number of words:  5783083\n",
      "Number of labels: 10\n",
      "Progress: 100.0% words/sec/thread: 1320936 lr:  0.000000 avg.loss:  0.410132 ETA:   0h 0m 0s 34.6% words/sec/thread: 2883939 lr:  0.065429 avg.loss:  0.921556 ETA:   0h 1m 2s\n"
     ]
    },
    {
     "name": "stdout",
     "output_type": "stream",
     "text": [
      "N\t60000\n",
      "P@1\t0.656\n",
      "R@1\t0.656\n",
      "\n",
      "Training model with lr=0.1, dim=5, epoch=5, and wordNgrams=3\n"
     ]
    },
    {
     "name": "stderr",
     "output_type": "stream",
     "text": [
      "Read 128M words\n",
      "Number of words:  5783083\n",
      "Number of labels: 10\n",
      "Progress: 100.0% words/sec/thread:  651121 lr:  0.000000 avg.loss:  0.812859 ETA:   0h 0m 0s 29.0% words/sec/thread:  663236 lr:  0.070989 avg.loss:  1.472340 ETA:   0h 1m38s\n"
     ]
    },
    {
     "name": "stdout",
     "output_type": "stream",
     "text": [
      "N\t60000\n",
      "P@1\t0.676\n",
      "R@1\t0.676\n",
      "\n",
      "Training model with lr=0.1, dim=5, epoch=10, and wordNgrams=3\n"
     ]
    },
    {
     "name": "stderr",
     "output_type": "stream",
     "text": [
      "Read 128M words\n",
      "Number of words:  5783083\n",
      "Number of labels: 10\n",
      "Progress: 100.0% words/sec/thread: 1023205 lr:  0.000000 avg.loss:  0.444462 ETA:   0h 0m 0s\n"
     ]
    },
    {
     "name": "stdout",
     "output_type": "stream",
     "text": [
      "N\t60000\n",
      "P@1\t0.659\n",
      "R@1\t0.659\n",
      "\n",
      "Training model with lr=0.1, dim=5, epoch=15, and wordNgrams=3\n"
     ]
    },
    {
     "name": "stderr",
     "output_type": "stream",
     "text": [
      "Read 128M words\n",
      "Number of words:  5783083\n",
      "Number of labels: 10\n",
      "Progress: 100.0% words/sec/thread: 1116468 lr:  0.000000 avg.loss:  0.301233 ETA:   0h 0m 0s 27.3% words/sec/thread:  868479 lr:  0.072709 avg.loss:  0.912791 ETA:   0h 3m51s\n"
     ]
    },
    {
     "name": "stdout",
     "output_type": "stream",
     "text": [
      "N\t60000\n",
      "P@1\t0.654\n",
      "R@1\t0.654\n",
      "\n",
      "Training model with lr=0.1, dim=5, epoch=5, and wordNgrams=4\n"
     ]
    },
    {
     "name": "stderr",
     "output_type": "stream",
     "text": [
      "Read 128M words\n",
      "Number of words:  5783083\n",
      "Number of labels: 10\n",
      "Progress: 100.0% words/sec/thread:  561979 lr:  0.000000 avg.loss:  0.784047 ETA:   0h 0m 0s\n"
     ]
    },
    {
     "name": "stdout",
     "output_type": "stream",
     "text": [
      "N\t60000\n",
      "P@1\t0.670\n",
      "R@1\t0.670\n",
      "\n",
      "Training model with lr=0.1, dim=5, epoch=10, and wordNgrams=4\n"
     ]
    },
    {
     "name": "stderr",
     "output_type": "stream",
     "text": [
      "Read 128M words\n",
      "Number of words:  5783083\n",
      "Number of labels: 10\n",
      "Progress: 100.0% words/sec/thread:  979741 lr:  0.000000 avg.loss:  0.413143 ETA:   0h 0m 0s\n"
     ]
    },
    {
     "name": "stdout",
     "output_type": "stream",
     "text": [
      "N\t60000\n",
      "P@1\t0.655\n",
      "R@1\t0.655\n",
      "\n",
      "Training model with lr=0.1, dim=5, epoch=15, and wordNgrams=4\n"
     ]
    },
    {
     "name": "stderr",
     "output_type": "stream",
     "text": [
      "Read 128M words\n",
      "Number of words:  5783083\n",
      "Number of labels: 10\n",
      "Progress: 100.0% words/sec/thread:  775510 lr:  0.000000 avg.loss:  0.274510 ETA:   0h 0m 0s 26.3% words/sec/thread:  700029 lr:  0.073676 avg.loss:  0.886725 ETA:   0h 4m50s\n"
     ]
    },
    {
     "name": "stdout",
     "output_type": "stream",
     "text": [
      "N\t60000\n",
      "P@1\t0.650\n",
      "R@1\t0.650\n",
      "\n",
      "Training model with lr=0.1, dim=5, epoch=5, and wordNgrams=5\n"
     ]
    },
    {
     "name": "stderr",
     "output_type": "stream",
     "text": [
      "Read 128M words\n",
      "Number of words:  5783083\n",
      "Number of labels: 10\n",
      "Progress: 100.0% words/sec/thread:  523342 lr:  0.000000 avg.loss:  0.791370 ETA:   0h 0m 0s\n"
     ]
    },
    {
     "name": "stdout",
     "output_type": "stream",
     "text": [
      "N\t60000\n",
      "P@1\t0.668\n",
      "R@1\t0.668\n",
      "\n",
      "Training model with lr=0.1, dim=5, epoch=10, and wordNgrams=5\n"
     ]
    },
    {
     "name": "stderr",
     "output_type": "stream",
     "text": [
      "Read 128M words\n",
      "Number of words:  5783083\n",
      "Number of labels: 10\n",
      "Progress: 100.0% words/sec/thread:  758810 lr:  0.000000 avg.loss:  0.412916 ETA:   0h 0m 0s 99.2% words/sec/thread:  759708 lr:  0.000761 avg.loss:  0.415709 ETA:   0h 0m 1s\n"
     ]
    },
    {
     "name": "stdout",
     "output_type": "stream",
     "text": [
      "N\t60000\n",
      "P@1\t0.653\n",
      "R@1\t0.653\n",
      "\n",
      "Training model with lr=0.1, dim=5, epoch=15, and wordNgrams=5\n"
     ]
    },
    {
     "name": "stderr",
     "output_type": "stream",
     "text": [
      "Read 128M words\n",
      "Number of words:  5783083\n",
      "Number of labels: 10\n",
      "Progress: 100.0% words/sec/thread:  559240 lr:  0.000000 avg.loss:  0.272886 ETA:   0h 0m 0s 0.086090 avg.loss:  1.308101 ETA:   0h 5m30s\n"
     ]
    },
    {
     "name": "stdout",
     "output_type": "stream",
     "text": [
      "N\t60000\n",
      "P@1\t0.648\n",
      "R@1\t0.648\n",
      "\n",
      "Training model with lr=0.1, dim=10, epoch=5, and wordNgrams=2\n"
     ]
    },
    {
     "name": "stderr",
     "output_type": "stream",
     "text": [
      "Read 128M words\n",
      "Number of words:  5783083\n",
      "Number of labels: 10\n",
      "Progress: 100.0% words/sec/thread:  712829 lr:  0.000000 avg.loss:  0.823264 ETA:   0h 0m 0s\n"
     ]
    },
    {
     "name": "stdout",
     "output_type": "stream",
     "text": [
      "N\t60000\n",
      "P@1\t0.697\n",
      "R@1\t0.697\n",
      "\n",
      "Training model with lr=0.1, dim=10, epoch=10, and wordNgrams=2\n"
     ]
    },
    {
     "name": "stderr",
     "output_type": "stream",
     "text": [
      "Read 128M words\n",
      "Number of words:  5783083\n",
      "Number of labels: 10\n",
      "Progress: 100.0% words/sec/thread: 1743086 lr:  0.000000 avg.loss:  0.481329 ETA:   0h 0m 0s\n"
     ]
    },
    {
     "name": "stdout",
     "output_type": "stream",
     "text": [
      "N\t60000\n",
      "P@1\t0.684\n",
      "R@1\t0.684\n",
      "\n",
      "Training model with lr=0.1, dim=10, epoch=15, and wordNgrams=2\n"
     ]
    },
    {
     "name": "stderr",
     "output_type": "stream",
     "text": [
      "Read 128M words\n",
      "Number of words:  5783083\n",
      "Number of labels: 10\n",
      "Progress: 100.0% words/sec/thread: 1163857 lr:  0.000000 avg.loss:  0.336229 ETA:   0h 0m 0s\n"
     ]
    },
    {
     "name": "stdout",
     "output_type": "stream",
     "text": [
      "N\t60000\n",
      "P@1\t0.677\n",
      "R@1\t0.677\n",
      "\n",
      "Training model with lr=0.1, dim=10, epoch=5, and wordNgrams=3\n"
     ]
    },
    {
     "name": "stderr",
     "output_type": "stream",
     "text": [
      "Read 128M words\n",
      "Number of words:  5783083\n",
      "Number of labels: 10\n",
      "Progress: 100.0% words/sec/thread: 1065617 lr:  0.000000 avg.loss:  0.721545 ETA:   0h 0m 0s 57.6% words/sec/thread: 1488047 lr:  0.042382 avg.loss:  1.024432 ETA:   0h 0m26s\n"
     ]
    },
    {
     "name": "stdout",
     "output_type": "stream",
     "text": [
      "N\t60000\n",
      "P@1\t0.692\n",
      "R@1\t0.692\n",
      "\n",
      "Training model with lr=0.1, dim=10, epoch=10, and wordNgrams=3\n"
     ]
    },
    {
     "name": "stderr",
     "output_type": "stream",
     "text": [
      "Read 128M words\n",
      "Number of words:  5783083\n",
      "Number of labels: 10\n",
      "Progress: 100.0% words/sec/thread:  569588 lr:  0.000000 avg.loss:  0.379066 ETA:   0h 0m 0s\n",
      "Read 1M words"
     ]
    },
    {
     "name": "stdout",
     "output_type": "stream",
     "text": [
      "N\t60000\n",
      "P@1\t0.684\n",
      "R@1\t0.684\n",
      "\n",
      "Training model with lr=0.1, dim=10, epoch=15, and wordNgrams=3\n"
     ]
    },
    {
     "name": "stderr",
     "output_type": "stream",
     "text": [
      "Read 128M words\n",
      "Number of words:  5783083\n",
      "Number of labels: 10\n",
      "Progress: 100.0% words/sec/thread:  975176 lr:  0.000000 avg.loss:  0.259519 ETA:   0h 0m 0s 75.0% words/sec/thread: 1072105 lr:  0.025035 avg.loss:  0.339810 ETA:   0h 1m 4s100.0% words/sec/thread:  975177 lr: -0.000000 avg.loss:  0.259519 ETA:   0h 0m 0s\n",
      "Read 1M words"
     ]
    },
    {
     "name": "stdout",
     "output_type": "stream",
     "text": [
      "N\t60000\n",
      "P@1\t0.681\n",
      "R@1\t0.681\n",
      "\n",
      "Training model with lr=0.1, dim=10, epoch=5, and wordNgrams=4\n"
     ]
    },
    {
     "name": "stderr",
     "output_type": "stream",
     "text": [
      "Read 128M words\n",
      "Number of words:  5783083\n",
      "Number of labels: 10\n",
      "Progress: 100.0% words/sec/thread:  689496 lr:  0.000000 avg.loss:  0.641849 ETA:   0h 0m 0s\n"
     ]
    },
    {
     "name": "stdout",
     "output_type": "stream",
     "text": [
      "N\t60000\n",
      "P@1\t0.688\n",
      "R@1\t0.688\n",
      "\n",
      "Training model with lr=0.1, dim=10, epoch=10, and wordNgrams=4\n"
     ]
    },
    {
     "name": "stderr",
     "output_type": "stream",
     "text": [
      "Read 128M words\n",
      "Number of words:  5783083\n",
      "Number of labels: 10\n",
      "Progress: 100.0% words/sec/thread:  898179 lr:  0.000000 avg.loss:  0.365737 ETA:   0h 0m 0s\n"
     ]
    },
    {
     "name": "stdout",
     "output_type": "stream",
     "text": [
      "N\t60000\n",
      "P@1\t0.683\n",
      "R@1\t0.683\n",
      "\n",
      "Training model with lr=0.1, dim=10, epoch=15, and wordNgrams=4\n"
     ]
    },
    {
     "name": "stderr",
     "output_type": "stream",
     "text": [
      "Read 128M words\n",
      "Number of words:  5783083\n",
      "Number of labels: 10\n",
      "Progress: 100.0% words/sec/thread:  706829 lr:  0.000000 avg.loss:  0.238967 ETA:   0h 0m 0s\n"
     ]
    },
    {
     "name": "stdout",
     "output_type": "stream",
     "text": [
      "N\t60000\n",
      "P@1\t0.679\n",
      "R@1\t0.679\n",
      "\n",
      "Training model with lr=0.1, dim=10, epoch=5, and wordNgrams=5\n"
     ]
    },
    {
     "name": "stderr",
     "output_type": "stream",
     "text": [
      "Read 128M words\n",
      "Number of words:  5783083\n",
      "Number of labels: 10\n",
      "Progress: 100.0% words/sec/thread:  856945 lr:  0.000000 avg.loss:  0.714177 ETA:   0h 0m 0s\n",
      "Read 2M words"
     ]
    },
    {
     "name": "stdout",
     "output_type": "stream",
     "text": [
      "N\t60000\n",
      "P@1\t0.686\n",
      "R@1\t0.686\n",
      "\n",
      "Training model with lr=0.1, dim=10, epoch=10, and wordNgrams=5\n"
     ]
    },
    {
     "name": "stderr",
     "output_type": "stream",
     "text": [
      "Read 128M words words\n",
      "Number of words:  5783083\n",
      "Number of labels: 10\n",
      "Progress: 100.0% words/sec/thread:  453401 lr:  0.000000 avg.loss:  0.365737 ETA:   0h 0m 0s60.4% words/sec/thread:  499552 lr:  0.039589 avg.loss:  0.608224 ETA:   0h 2m25s% words/sec/thread:  455406 lr:  0.001562 avg.loss:  0.373043 ETA:   0h 0m 6s\n"
     ]
    },
    {
     "name": "stdout",
     "output_type": "stream",
     "text": [
      "N\t60000\n",
      "P@1\t0.680\n",
      "R@1\t0.680\n",
      "\n",
      "Training model with lr=0.1, dim=10, epoch=15, and wordNgrams=5\n"
     ]
    },
    {
     "name": "stderr",
     "output_type": "stream",
     "text": [
      "Read 128M words\n",
      "Number of words:  5783083\n",
      "Number of labels: 10\n",
      "Progress: 100.0% words/sec/thread:  619929 lr:  0.000000 avg.loss:  0.240875 ETA:   0h 0m 0s\n"
     ]
    },
    {
     "name": "stdout",
     "output_type": "stream",
     "text": [
      "N\t60000\n",
      "P@1\t0.677\n",
      "R@1\t0.677\n",
      "\n",
      "Training model with lr=0.1, dim=25, epoch=5, and wordNgrams=2\n"
     ]
    },
    {
     "name": "stderr",
     "output_type": "stream",
     "text": [
      "Read 128M words\n",
      "Number of words:  5783083\n",
      "Number of labels: 10\n",
      "Progress: 100.0% words/sec/thread:  837415 lr:  0.000000 avg.loss:  0.760663 ETA:   0h 0m 0s\n"
     ]
    },
    {
     "name": "stdout",
     "output_type": "stream",
     "text": [
      "N\t60000\n",
      "P@1\t0.696\n",
      "R@1\t0.696\n",
      "\n",
      "Training model with lr=0.1, dim=25, epoch=10, and wordNgrams=2\n"
     ]
    },
    {
     "name": "stderr",
     "output_type": "stream",
     "text": [
      "Read 128M words\n",
      "Number of words:  5783083\n",
      "Number of labels: 10\n",
      "Progress: 100.0% words/sec/thread:  755015 lr:  0.000000 avg.loss:  0.480960 ETA:   0h 0m 0s\n"
     ]
    },
    {
     "name": "stdout",
     "output_type": "stream",
     "text": [
      "N\t60000\n",
      "P@1\t0.684\n",
      "R@1\t0.684\n",
      "\n",
      "Training model with lr=0.1, dim=25, epoch=15, and wordNgrams=2\n"
     ]
    },
    {
     "name": "stderr",
     "output_type": "stream",
     "text": [
      "Read 128M words\n",
      "Number of words:  5783083\n",
      "Number of labels: 10\n",
      "Progress: 100.0% words/sec/thread: 1073708 lr:  0.000000 avg.loss:  0.336591 ETA:   0h 0m 0s 31.7% words/sec/thread: 1143051 lr:  0.068279 avg.loss:  0.864196 ETA:   0h 2m44s\n"
     ]
    },
    {
     "name": "stdout",
     "output_type": "stream",
     "text": [
      "N\t60000\n",
      "P@1\t0.678\n",
      "R@1\t0.678\n",
      "\n",
      "Training model with lr=0.1, dim=25, epoch=5, and wordNgrams=3\n"
     ]
    },
    {
     "name": "stderr",
     "output_type": "stream",
     "text": [
      "Read 128M words\n",
      "Number of words:  5783083\n",
      "Number of labels: 10\n",
      "Progress: 100.0% words/sec/thread:  353439 lr:  0.000000 avg.loss:  0.722763 ETA:   0h 0m 0s\n"
     ]
    },
    {
     "name": "stdout",
     "output_type": "stream",
     "text": [
      "N\t60000\n",
      "P@1\t0.694\n",
      "R@1\t0.694\n",
      "\n",
      "Training model with lr=0.1, dim=25, epoch=10, and wordNgrams=3\n"
     ]
    },
    {
     "name": "stderr",
     "output_type": "stream",
     "text": [
      "Read 128M words\n",
      "Number of words:  5783083\n",
      "Number of labels: 10\n",
      "Progress: 100.0% words/sec/thread: 1007963 lr:  0.000000 avg.loss:  0.379164 ETA:   0h 0m 0s100.0% words/sec/thread: 1007964 lr: -0.000000 avg.loss:  0.379164 ETA:   0h 0m 0s\n"
     ]
    },
    {
     "name": "stdout",
     "output_type": "stream",
     "text": [
      "N\t60000\n",
      "P@1\t0.683\n",
      "R@1\t0.683\n",
      "\n",
      "Training model with lr=0.1, dim=25, epoch=15, and wordNgrams=3\n"
     ]
    },
    {
     "name": "stderr",
     "output_type": "stream",
     "text": [
      "Read 128M words\n",
      "Number of words:  5783083\n",
      "Number of labels: 10\n",
      "Progress: 100.0% words/sec/thread: 1167323 lr:  0.000000 avg.loss:  0.252991 ETA:   0h 0m 0s 41.7% words/sec/thread: 1040146 lr:  0.058315 avg.loss:  0.581602 ETA:   0h 2m34s\n"
     ]
    },
    {
     "name": "stdout",
     "output_type": "stream",
     "text": [
      "N\t60000\n",
      "P@1\t0.682\n",
      "R@1\t0.682\n",
      "\n",
      "Training model with lr=0.1, dim=25, epoch=5, and wordNgrams=4\n"
     ]
    },
    {
     "name": "stderr",
     "output_type": "stream",
     "text": [
      "Read 128M words\n",
      "Number of words:  5783083\n",
      "Number of labels: 10\n",
      "Progress: 100.0% words/sec/thread: 1022433 lr:  0.000000 avg.loss:  0.701238 ETA:   0h 0m 0s"
     ]
    },
    {
     "name": "stdout",
     "output_type": "stream",
     "text": [
      "N\t60000\n",
      "P@1\t0.690\n",
      "R@1\t0.690\n",
      "\n",
      "Training model with lr=0.1, dim=25, epoch=10, and wordNgrams=4\n"
     ]
    },
    {
     "name": "stderr",
     "output_type": "stream",
     "text": [
      "s\n",
      "Read 128M words\n",
      "Number of words:  5783083\n",
      "Number of labels: 10\n",
      "Progress: 100.0% words/sec/thread: 1345047 lr:  0.000000 avg.loss:  0.357643 ETA:   0h 0m 0s 93.9% words/sec/thread: 1371425 lr:  0.006092 avg.loss:  0.378942 ETA:   0h 0m 8s\n"
     ]
    },
    {
     "name": "stdout",
     "output_type": "stream",
     "text": [
      "N\t60000\n",
      "P@1\t0.683\n",
      "R@1\t0.683\n",
      "\n",
      "Training model with lr=0.1, dim=25, epoch=15, and wordNgrams=4\n"
     ]
    },
    {
     "name": "stderr",
     "output_type": "stream",
     "text": [
      "Read 128M words\n",
      "Number of words:  5783083\n",
      "Number of labels: 10\n",
      "Progress: 100.0% words/sec/thread: 1117644 lr:  0.000000 avg.loss:  0.241780 ETA:   0h 0m 0s 42.8% words/sec/thread:  980441 lr:  0.057249 avg.loss:  0.541264 ETA:   0h 2m41s\n",
      "Read 1M words"
     ]
    },
    {
     "name": "stdout",
     "output_type": "stream",
     "text": [
      "N\t60000\n",
      "P@1\t0.681\n",
      "R@1\t0.681\n",
      "\n",
      "Training model with lr=0.1, dim=25, epoch=5, and wordNgrams=5\n"
     ]
    },
    {
     "name": "stderr",
     "output_type": "stream",
     "text": [
      "Read 128M words\n",
      "Number of words:  5783083\n",
      "Number of labels: 10\n",
      "Progress: 100.0% words/sec/thread:  847971 lr:  0.000000 avg.loss:  0.709596 ETA:   0h 0m 0s\n",
      "Read 1M words"
     ]
    },
    {
     "name": "stdout",
     "output_type": "stream",
     "text": [
      "N\t60000\n",
      "P@1\t0.687\n",
      "R@1\t0.687\n",
      "\n",
      "Training model with lr=0.1, dim=25, epoch=10, and wordNgrams=5\n"
     ]
    },
    {
     "name": "stderr",
     "output_type": "stream",
     "text": [
      "Read 128M words\n",
      "Number of words:  5783083\n",
      "Number of labels: 10\n",
      "Progress: 100.0% words/sec/thread:  777276 lr:  0.000031 avg.loss:  0.359497 ETA:   0h 0m 0s 14.7% words/sec/thread:  853434 lr:  0.085270 avg.loss:  1.458264 ETA:   0h 3m 3s 24.2% words/sec/thread:  853987 lr:  0.075765 avg.loss:  1.135371 ETA:   0h 2m43s 52.0% words/sec/thread:  793001 lr:  0.048025 avg.loss:  0.653623 ETA:   0h 1m51s"
     ]
    },
    {
     "name": "stdout",
     "output_type": "stream",
     "text": [
      "N\t60000\n",
      "P@1\t0.681\n",
      "R@1\t0.681\n",
      "\n",
      "Training model with lr=0.1, dim=25, epoch=15, and wordNgrams=5\n"
     ]
    },
    {
     "name": "stderr",
     "output_type": "stream",
     "text": [
      "Progress: 100.0% words/sec/thread:  777189 lr:  0.000000 avg.loss:  0.359401 ETA:   0h 0m 0s\n",
      "Read 128M words\n",
      "Number of words:  5783083\n",
      "Number of labels: 10\n",
      "Progress: 100.0% words/sec/thread:  853437 lr:  0.000000 avg.loss:  0.242973 ETA:   0h 0m 0s 73.9% words/sec/thread:  872178 lr:  0.026081 avg.loss:  0.321550 ETA:   0h 1m22s\n"
     ]
    },
    {
     "name": "stdout",
     "output_type": "stream",
     "text": [
      "N\t60000\n",
      "P@1\t0.679\n",
      "R@1\t0.679\n",
      "\n",
      "Training model with lr=0.25, dim=5, epoch=5, and wordNgrams=2\n"
     ]
    },
    {
     "name": "stderr",
     "output_type": "stream",
     "text": [
      "Read 128M words\n",
      "Number of words:  5783083\n",
      "Number of labels: 10\n",
      "Progress: 100.0% words/sec/thread: 2602749 lr: -0.000001 avg.loss:  0.875292 ETA:   0h 0m 0s 0.000000 avg.loss:  0.875292 ETA:   0h 0m 0s\n",
      "Read 1M words"
     ]
    },
    {
     "name": "stdout",
     "output_type": "stream",
     "text": [
      "N\t60000\n",
      "P@1\t0.674\n",
      "R@1\t0.674\n",
      "\n",
      "Training model with lr=0.25, dim=5, epoch=10, and wordNgrams=2\n"
     ]
    },
    {
     "name": "stderr",
     "output_type": "stream",
     "text": [
      "Read 128M words\n",
      "Number of words:  5783083\n",
      "Number of labels: 10\n",
      "Progress: 100.0% words/sec/thread: 2553709 lr:  0.000000 avg.loss:  0.538749 ETA:   0h 0m 0s\n",
      "Read 1M words"
     ]
    },
    {
     "name": "stdout",
     "output_type": "stream",
     "text": [
      "N\t60000\n",
      "P@1\t0.653\n",
      "R@1\t0.653\n",
      "\n",
      "Training model with lr=0.25, dim=5, epoch=15, and wordNgrams=2\n"
     ]
    },
    {
     "name": "stderr",
     "output_type": "stream",
     "text": [
      "Read 128M words\n",
      "Number of words:  5783083\n",
      "Number of labels: 10\n",
      "Progress: 100.0% words/sec/thread: 2607054 lr:  0.000000 avg.loss:  0.389340 ETA:   0h 0m 0s\n"
     ]
    },
    {
     "name": "stdout",
     "output_type": "stream",
     "text": [
      "N\t60000\n",
      "P@1\t0.647\n",
      "R@1\t0.647\n",
      "\n",
      "Training model with lr=0.25, dim=5, epoch=5, and wordNgrams=3\n"
     ]
    },
    {
     "name": "stderr",
     "output_type": "stream",
     "text": [
      "Read 128M words\n",
      "Number of words:  5783083\n",
      "Number of labels: 10\n",
      "Progress: 100.0% words/sec/thread: 2028602 lr:  0.000000 avg.loss:  0.711014 ETA:   0h 0m 0s\n"
     ]
    },
    {
     "name": "stdout",
     "output_type": "stream",
     "text": [
      "N\t60000\n",
      "P@1\t0.661\n",
      "R@1\t0.661\n",
      "\n",
      "Training model with lr=0.25, dim=5, epoch=10, and wordNgrams=3\n"
     ]
    },
    {
     "name": "stderr",
     "output_type": "stream",
     "text": [
      "Read 128M words\n",
      "Number of words:  5783083\n",
      "Number of labels: 10\n",
      "Progress: 100.0% words/sec/thread: 3069203 lr:  0.000000 avg.loss:  0.398986 ETA:   0h 0m 0s\n"
     ]
    },
    {
     "name": "stdout",
     "output_type": "stream",
     "text": [
      "N\t60000\n",
      "P@1\t0.647\n",
      "R@1\t0.647\n",
      "\n",
      "Training model with lr=0.25, dim=5, epoch=15, and wordNgrams=3\n"
     ]
    },
    {
     "name": "stderr",
     "output_type": "stream",
     "text": [
      "Read 128M words words\n",
      "Number of words:  5783083\n",
      "Number of labels: 10\n",
      "Progress: 100.0% words/sec/thread: 2886202 lr:  0.000000 avg.loss:  0.274724 ETA:   0h 0m 0s\n",
      "Read 3M words"
     ]
    },
    {
     "name": "stdout",
     "output_type": "stream",
     "text": [
      "N\t60000\n",
      "P@1\t0.642\n",
      "R@1\t0.642\n",
      "\n",
      "Training model with lr=0.25, dim=5, epoch=5, and wordNgrams=4\n"
     ]
    },
    {
     "name": "stderr",
     "output_type": "stream",
     "text": [
      "Read 128M words\n",
      "Number of words:  5783083\n",
      "Number of labels: 10\n",
      "Progress: 100.0% words/sec/thread: 3224519 lr:  0.000000 avg.loss:  0.660021 ETA:   0h 0m 0s100.0% words/sec/thread: 3224525 lr: -0.000001 avg.loss:  0.660021 ETA:   0h 0m 0s\n",
      "Read 3M words"
     ]
    },
    {
     "name": "stdout",
     "output_type": "stream",
     "text": [
      "N\t60000\n",
      "P@1\t0.654\n",
      "R@1\t0.654\n",
      "\n",
      "Training model with lr=0.25, dim=5, epoch=10, and wordNgrams=4\n"
     ]
    },
    {
     "name": "stderr",
     "output_type": "stream",
     "text": [
      "Read 128M words\n",
      "Number of words:  5783083\n",
      "Number of labels: 10\n",
      "Progress: 100.0% words/sec/thread: 3482122 lr:  0.000000 avg.loss:  0.341332 ETA:   0h 0m 0s\n"
     ]
    },
    {
     "name": "stdout",
     "output_type": "stream",
     "text": [
      "N\t60000\n",
      "P@1\t0.641\n",
      "R@1\t0.641\n",
      "\n",
      "Training model with lr=0.25, dim=5, epoch=15, and wordNgrams=4\n"
     ]
    },
    {
     "name": "stderr",
     "output_type": "stream",
     "text": [
      "Read 128M words\n",
      "Number of words:  5783083\n",
      "Number of labels: 10\n",
      "Progress: 100.0% words/sec/thread: 3397210 lr:  0.000000 avg.loss:  0.237168 ETA:   0h 0m 0s\n"
     ]
    },
    {
     "name": "stdout",
     "output_type": "stream",
     "text": [
      "N\t60000\n",
      "P@1\t0.637\n",
      "R@1\t0.637\n",
      "\n",
      "Training model with lr=0.25, dim=5, epoch=5, and wordNgrams=5\n"
     ]
    },
    {
     "name": "stderr",
     "output_type": "stream",
     "text": [
      "Read 128M words\n",
      "Number of words:  5783083\n",
      "Number of labels: 10\n",
      "Progress: 100.0% words/sec/thread: 2960667 lr:  0.000000 avg.loss:  0.623689 ETA:   0h 0m 0s\n"
     ]
    },
    {
     "name": "stdout",
     "output_type": "stream",
     "text": [
      "N\t60000\n",
      "P@1\t0.648\n",
      "R@1\t0.648\n",
      "\n",
      "Training model with lr=0.25, dim=5, epoch=10, and wordNgrams=5\n"
     ]
    },
    {
     "name": "stderr",
     "output_type": "stream",
     "text": [
      "Read 128M words\n",
      "Number of words:  5783083\n",
      "Number of labels: 10\n",
      "Progress: 100.0% words/sec/thread: 2934087 lr:  0.000167 avg.loss:  0.322569 ETA:   0h 0m 0s"
     ]
    },
    {
     "name": "stdout",
     "output_type": "stream",
     "text": [
      "N\t60000\n",
      "P@1\t0.638\n",
      "R@1\t0.638\n",
      "\n",
      "Training model with lr=0.25, dim=5, epoch=15, and wordNgrams=5\n"
     ]
    },
    {
     "name": "stderr",
     "output_type": "stream",
     "text": [
      "Progress: 100.0% words/sec/thread: 2930902 lr:  0.000000 avg.loss:  0.322359 ETA:   0h 0m 0s\n",
      "Read 128M words\n",
      "Number of words:  5783083\n",
      "Number of labels: 10\n",
      "Progress: 100.0% words/sec/thread: 2827281 lr:  0.000000 avg.loss:  0.222737 ETA:   0h 0m 0s\n"
     ]
    },
    {
     "name": "stdout",
     "output_type": "stream",
     "text": [
      "N\t60000\n",
      "P@1\t0.634\n",
      "R@1\t0.634\n",
      "\n",
      "Training model with lr=0.25, dim=10, epoch=5, and wordNgrams=2\n"
     ]
    },
    {
     "name": "stderr",
     "output_type": "stream",
     "text": [
      "Read 128M words\n",
      "Number of words:  5783083\n",
      "Number of labels: 10\n",
      "Progress: 100.0% words/sec/thread: 4335438 lr:  0.000000 avg.loss:  0.775422 ETA:   0h 0m 0s\n"
     ]
    },
    {
     "name": "stdout",
     "output_type": "stream",
     "text": [
      "N\t60000\n",
      "P@1\t0.686\n",
      "R@1\t0.686\n",
      "\n",
      "Training model with lr=0.25, dim=10, epoch=10, and wordNgrams=2\n"
     ]
    },
    {
     "name": "stderr",
     "output_type": "stream",
     "text": [
      "Read 128M words\n",
      "Number of words:  5783083\n",
      "Number of labels: 10\n",
      "Progress: 100.0% words/sec/thread: 4439325 lr:  0.000000 avg.loss:  0.452244 ETA:   0h 0m 0s\n"
     ]
    },
    {
     "name": "stdout",
     "output_type": "stream",
     "text": [
      "N\t60000\n",
      "P@1\t0.673\n",
      "R@1\t0.673\n",
      "\n",
      "Training model with lr=0.25, dim=10, epoch=15, and wordNgrams=2\n"
     ]
    },
    {
     "name": "stderr",
     "output_type": "stream",
     "text": [
      "Read 128M words\n",
      "Number of words:  5783083\n",
      "Number of labels: 10\n",
      "Progress: 100.0% words/sec/thread: 4361640 lr:  0.000000 avg.loss:  0.329450 ETA:   0h 0m 0s\n",
      "Read 3M words"
     ]
    },
    {
     "name": "stdout",
     "output_type": "stream",
     "text": [
      "N\t60000\n",
      "P@1\t0.670\n",
      "R@1\t0.670\n",
      "\n",
      "Training model with lr=0.25, dim=10, epoch=5, and wordNgrams=3\n"
     ]
    },
    {
     "name": "stderr",
     "output_type": "stream",
     "text": [
      "Read 128M words\n",
      "Number of words:  5783083\n",
      "Number of labels: 10\n",
      "Progress: 100.0% words/sec/thread: 3331291 lr:  0.000000 avg.loss:  0.618795 ETA:   0h 0m 0s% words/sec/thread: 3331300 lr: -0.000000 avg.loss:  0.618795 ETA:   0h 0m 0s\n",
      "Read 3M words"
     ]
    },
    {
     "name": "stdout",
     "output_type": "stream",
     "text": [
      "N\t60000\n",
      "P@1\t0.681\n",
      "R@1\t0.681\n",
      "\n",
      "Training model with lr=0.25, dim=10, epoch=10, and wordNgrams=3\n"
     ]
    },
    {
     "name": "stderr",
     "output_type": "stream",
     "text": [
      "Read 128M words\n",
      "Number of words:  5783083\n",
      "Number of labels: 10\n",
      "Progress: 100.0% words/sec/thread: 3254089 lr:  0.000000 avg.loss:  0.329641 ETA:   0h 0m 0s\n"
     ]
    },
    {
     "name": "stdout",
     "output_type": "stream",
     "text": [
      "N\t60000\n",
      "P@1\t0.674\n",
      "R@1\t0.674\n",
      "\n",
      "Training model with lr=0.25, dim=10, epoch=15, and wordNgrams=3\n"
     ]
    },
    {
     "name": "stderr",
     "output_type": "stream",
     "text": [
      "Read 128M words\n",
      "Number of words:  5783083\n",
      "Number of labels: 10\n",
      "Progress:  99.9% words/sec/thread: 3212325 lr:  0.000186 avg.loss:  0.232932 ETA:   0h 0m 0s"
     ]
    },
    {
     "name": "stdout",
     "output_type": "stream",
     "text": [
      "N\t60000\n",
      "P@1\t0.672\n",
      "R@1\t0.672\n",
      "\n",
      "Training model with lr=0.25, dim=10, epoch=5, and wordNgrams=4\n"
     ]
    },
    {
     "name": "stderr",
     "output_type": "stream",
     "text": [
      "Progress: 100.0% words/sec/thread: 3210784 lr:  0.000000 avg.loss:  0.232766 ETA:   0h 0m 0s\n",
      "Read 128M words\n",
      "Number of words:  5783083\n",
      "Number of labels: 10\n",
      "Progress: 100.0% words/sec/thread: 2600026 lr:  0.000000 avg.loss:  0.561406 ETA:   0h 0m 0s 16.6% words/sec/thread: 2703964 lr:  0.208466 avg.loss:  1.529406 ETA:   0h 0m28s\n"
     ]
    },
    {
     "name": "stdout",
     "output_type": "stream",
     "text": [
      "N\t60000\n",
      "P@1\t0.680\n",
      "R@1\t0.680\n",
      "\n",
      "Training model with lr=0.25, dim=10, epoch=10, and wordNgrams=4\n"
     ]
    },
    {
     "name": "stderr",
     "output_type": "stream",
     "text": [
      "Read 128M words\n",
      "Number of words:  5783083\n",
      "Number of labels: 10\n",
      "Progress: 100.0% words/sec/thread: 2600655 lr:  0.000000 avg.loss:  0.298586 ETA:   0h 0m 0s\n"
     ]
    },
    {
     "name": "stdout",
     "output_type": "stream",
     "text": [
      "N\t60000\n",
      "P@1\t0.673\n",
      "R@1\t0.673\n",
      "\n",
      "Training model with lr=0.25, dim=10, epoch=15, and wordNgrams=4\n"
     ]
    },
    {
     "name": "stderr",
     "output_type": "stream",
     "text": [
      "Read 128M words\n",
      "Number of words:  5783083\n",
      "Number of labels: 10\n",
      "Progress: 100.0% words/sec/thread: 2580050 lr:  0.000000 avg.loss:  0.200190 ETA:   0h 0m 0s\n",
      "Read 3M words"
     ]
    },
    {
     "name": "stdout",
     "output_type": "stream",
     "text": [
      "N\t60000\n",
      "P@1\t0.672\n",
      "R@1\t0.672\n",
      "\n",
      "Training model with lr=0.25, dim=10, epoch=5, and wordNgrams=5\n"
     ]
    },
    {
     "name": "stderr",
     "output_type": "stream",
     "text": [
      "Read 128M words\n",
      "Number of words:  5783083\n",
      "Number of labels: 10\n",
      "Progress: 100.0% words/sec/thread: 2168083 lr:  0.000000 avg.loss:  0.538087 ETA:   0h 0m 0s\n"
     ]
    },
    {
     "name": "stdout",
     "output_type": "stream",
     "text": [
      "N\t60000\n",
      "P@1\t0.678\n",
      "R@1\t0.678\n",
      "\n",
      "Training model with lr=0.25, dim=10, epoch=10, and wordNgrams=5\n"
     ]
    },
    {
     "name": "stderr",
     "output_type": "stream",
     "text": [
      "Read 128M words\n",
      "Number of words:  5783083\n",
      "Number of labels: 10\n",
      "Progress: 100.0% words/sec/thread: 2162552 lr:  0.000000 avg.loss:  0.274843 ETA:   0h 0m 0s"
     ]
    },
    {
     "name": "stdout",
     "output_type": "stream",
     "text": [
      "N\t60000\n",
      "P@1\t0.672\n",
      "R@1\t0.672\n",
      "\n",
      "Training model with lr=0.25, dim=10, epoch=15, and wordNgrams=5\n"
     ]
    },
    {
     "name": "stderr",
     "output_type": "stream",
     "text": [
      " ETA:   0h 0m 0s\n",
      "Read 128M words\n",
      "Number of words:  5783083\n",
      "Number of labels: 10\n",
      "Progress: 100.0% words/sec/thread: 1896015 lr:  0.000000 avg.loss:  0.187172 ETA:   0h 0m 0s\n"
     ]
    },
    {
     "name": "stdout",
     "output_type": "stream",
     "text": [
      "N\t60000\n",
      "P@1\t0.669\n",
      "R@1\t0.669\n",
      "\n",
      "Training model with lr=0.25, dim=25, epoch=5, and wordNgrams=2\n"
     ]
    },
    {
     "name": "stderr",
     "output_type": "stream",
     "text": [
      "Read 128M words\n",
      "Number of words:  5783083\n",
      "Number of labels: 10\n",
      "Progress: 100.0% words/sec/thread: 3340686 lr:  0.000000 avg.loss:  0.774382 ETA:   0h 0m 0s\n"
     ]
    },
    {
     "name": "stdout",
     "output_type": "stream",
     "text": [
      "N\t60000\n",
      "P@1\t0.687\n",
      "R@1\t0.687\n",
      "\n",
      "Training model with lr=0.25, dim=25, epoch=10, and wordNgrams=2\n"
     ]
    },
    {
     "name": "stderr",
     "output_type": "stream",
     "text": [
      "Read 128M words\n",
      "Number of words:  5783083\n",
      "Number of labels: 10\n",
      "Progress: 100.0% words/sec/thread: 3384901 lr:  0.000000 avg.loss:  0.449883 ETA:   0h 0m 0s\n"
     ]
    },
    {
     "name": "stdout",
     "output_type": "stream",
     "text": [
      "N\t60000\n",
      "P@1\t0.674\n",
      "R@1\t0.674\n",
      "\n",
      "Training model with lr=0.25, dim=25, epoch=15, and wordNgrams=2\n"
     ]
    },
    {
     "name": "stderr",
     "output_type": "stream",
     "text": [
      "Read 128M words\n",
      "Number of words:  5783083\n",
      "Number of labels: 10\n",
      "Progress: 100.0% words/sec/thread: 3603530 lr:  0.000000 avg.loss:  0.324811 ETA:   0h 0m 0s 52.1% words/sec/thread: 3546265 lr:  0.119782 avg.loss:  0.595227 ETA:   0h 0m37s\n"
     ]
    },
    {
     "name": "stdout",
     "output_type": "stream",
     "text": [
      "N\t60000\n",
      "P@1\t0.669\n",
      "R@1\t0.669\n",
      "\n",
      "Training model with lr=0.25, dim=25, epoch=5, and wordNgrams=3\n"
     ]
    },
    {
     "name": "stderr",
     "output_type": "stream",
     "text": [
      "Read 128M words\n",
      "Number of words:  5783083\n",
      "Number of labels: 10\n",
      "Progress: 100.0% words/sec/thread: 2624237 lr:  0.000000 avg.loss:  0.619247 ETA:   0h 0m 0s words/sec/thread: 2624243 lr: -0.000001 avg.loss:  0.619247 ETA:   0h 0m 0s\n",
      "Read 3M words"
     ]
    },
    {
     "name": "stdout",
     "output_type": "stream",
     "text": [
      "N\t60000\n",
      "P@1\t0.682\n",
      "R@1\t0.682\n",
      "\n",
      "Training model with lr=0.25, dim=25, epoch=10, and wordNgrams=3\n"
     ]
    },
    {
     "name": "stderr",
     "output_type": "stream",
     "text": [
      "Read 128M words\n",
      "Number of words:  5783083\n",
      "Number of labels: 10\n",
      "Progress: 100.0% words/sec/thread: 2555449 lr:  0.000000 avg.loss:  0.330332 ETA:   0h 0m 0s\n",
      "Read 3M words"
     ]
    },
    {
     "name": "stdout",
     "output_type": "stream",
     "text": [
      "N\t60000\n",
      "P@1\t0.674\n",
      "R@1\t0.674\n",
      "\n",
      "Training model with lr=0.25, dim=25, epoch=15, and wordNgrams=3\n"
     ]
    },
    {
     "name": "stderr",
     "output_type": "stream",
     "text": [
      "Read 128M words\n",
      "Number of words:  5783083\n",
      "Number of labels: 10\n",
      "Progress: 100.0% words/sec/thread: 2517501 lr:  0.000000 avg.loss:  0.231663 ETA:   0h 0m 0s\n"
     ]
    },
    {
     "name": "stdout",
     "output_type": "stream",
     "text": [
      "N\t60000\n",
      "P@1\t0.671\n",
      "R@1\t0.671\n",
      "\n",
      "Training model with lr=0.25, dim=25, epoch=5, and wordNgrams=4\n"
     ]
    },
    {
     "name": "stderr",
     "output_type": "stream",
     "text": [
      "Read 128M words\n",
      "Number of words:  5783083\n",
      "Number of labels: 10\n",
      "Progress: 100.0% words/sec/thread: 1816001 lr:  0.000000 avg.loss:  0.576551 ETA:   0h 0m 0s\n"
     ]
    },
    {
     "name": "stdout",
     "output_type": "stream",
     "text": [
      "N\t60000\n",
      "P@1\t0.681\n",
      "R@1\t0.681\n",
      "\n",
      "Training model with lr=0.25, dim=25, epoch=10, and wordNgrams=4\n"
     ]
    },
    {
     "name": "stderr",
     "output_type": "stream",
     "text": [
      "Read 128M words\n",
      "Number of words:  5783083\n",
      "Number of labels: 10\n",
      "Progress: 100.0% words/sec/thread: 1958870 lr:  0.000000 avg.loss:  0.293117 ETA:   0h 0m 0s100.0% words/sec/thread: 1958871 lr: -0.000000 avg.loss:  0.293117 ETA:   0h 0m 0s\n",
      "Read 3M words"
     ]
    },
    {
     "name": "stdout",
     "output_type": "stream",
     "text": [
      "N\t60000\n",
      "P@1\t0.674\n",
      "R@1\t0.674\n",
      "\n",
      "Training model with lr=0.25, dim=25, epoch=15, and wordNgrams=4\n"
     ]
    },
    {
     "name": "stderr",
     "output_type": "stream",
     "text": [
      "Read 128M words\n",
      "Number of words:  5783083\n",
      "Number of labels: 10\n",
      "Progress: 100.0% words/sec/thread: 1942213 lr:  0.000000 avg.loss:  0.203720 ETA:   0h 0m 0s\n"
     ]
    },
    {
     "name": "stdout",
     "output_type": "stream",
     "text": [
      "N\t60000\n",
      "P@1\t0.672\n",
      "R@1\t0.672\n",
      "\n",
      "Training model with lr=0.25, dim=25, epoch=5, and wordNgrams=5\n"
     ]
    },
    {
     "name": "stderr",
     "output_type": "stream",
     "text": [
      "Read 128M words\n",
      "Number of words:  5783083\n",
      "Number of labels: 10\n",
      "Progress: 100.0% words/sec/thread: 1631590 lr:  0.000000 avg.loss:  0.540958 ETA:   0h 0m 0s\n"
     ]
    },
    {
     "name": "stdout",
     "output_type": "stream",
     "text": [
      "N\t60000\n",
      "P@1\t0.678\n",
      "R@1\t0.678\n",
      "\n",
      "Training model with lr=0.25, dim=25, epoch=10, and wordNgrams=5\n"
     ]
    },
    {
     "name": "stderr",
     "output_type": "stream",
     "text": [
      "Read 128M words\n",
      "Number of words:  5783083\n",
      "Number of labels: 10\n",
      "Progress: 100.0% words/sec/thread: 1575075 lr:  0.000000 avg.loss:  0.274314 ETA:   0h 0m 0s\n"
     ]
    },
    {
     "name": "stdout",
     "output_type": "stream",
     "text": [
      "N\t60000\n",
      "P@1\t0.673\n",
      "R@1\t0.673\n",
      "\n",
      "Training model with lr=0.25, dim=25, epoch=15, and wordNgrams=5\n"
     ]
    },
    {
     "name": "stderr",
     "output_type": "stream",
     "text": [
      "Read 128M words\n",
      "Number of words:  5783083\n",
      "Number of labels: 10\n",
      "Progress: 100.0% words/sec/thread: 1579720 lr:  0.000000 avg.loss:  0.189460 ETA:   0h 0m 0s\n"
     ]
    },
    {
     "name": "stdout",
     "output_type": "stream",
     "text": [
      "N\t60000\n",
      "P@1\t0.671\n",
      "R@1\t0.671\n",
      "\n"
     ]
    }
   ],
   "source": [
    "lr_list = [0.05, 0.1, 0.25]\n",
    "dim_list = [5, 10, 25] # hidden units\n",
    "ngrams_list = [2, 3, 4, 5]\n",
    "epoch_list = [5, 10, 15]\n",
    "\n",
    "best_p, best_r = 0, 0\n",
    "best_l, best_d, best_n, best_e = 0, 0, 0, 0\n",
    "\n",
    "for l in lr_list:\n",
    "    for d in dim_list:\n",
    "        for n in ngrams_list:\n",
    "            for e in epoch_list:\n",
    "                print(f\"Training model with lr={l}, dim={d}, epoch={e}, and wordNgrams={n}\")\n",
    "                model = fasttext.train_supervised(input='train.txt', lr=l, dim=d, epoch=e, wordNgrams=n)\n",
    "                N, p, r = model.test('test.txt')\n",
    "                print_results(N, p, r)\n",
    "                if p > best_p and r > best_r:\n",
    "                    best_p, best_r = p, r\n",
    "                    best_l, best_d, best_n, best_e = l, d, n, e\n",
    "                print()"
   ]
  },
  {
   "cell_type": "code",
   "execution_count": 10,
   "metadata": {},
   "outputs": [
    {
     "name": "stdout",
     "output_type": "stream",
     "text": [
      "Training the best model with lr=0.05, dim=10, epoch=5, and wordNgrams=2\n"
     ]
    },
    {
     "name": "stderr",
     "output_type": "stream",
     "text": [
      "Read 128M words\n",
      "Number of words:  5783083\n",
      "Number of labels: 10\n",
      "Progress: 100.0% words/sec/thread: 4244898 lr:  0.000000 avg.loss:  0.936072 ETA:   0h 0m 0sh 0m 0s\n"
     ]
    }
   ],
   "source": [
    "print(f\"Training the best model with lr={best_l}, dim={best_d}, epoch={best_e}, and wordNgrams={best_n}\")\n",
    "model = fasttext.train_supervised(input='train.txt', lr=best_l, dim=best_d, epoch=best_e, wordNgrams=best_n, verbose=2)\n",
    "model.save_model('yahoo_answers.bin')"
   ]
  },
  {
   "cell_type": "code",
   "execution_count": 11,
   "metadata": {},
   "outputs": [
    {
     "name": "stdout",
     "output_type": "stream",
     "text": [
      "Accuracy: 0.7008666666666666\n"
     ]
    }
   ],
   "source": [
    "predictions = []\n",
    "for text in test_texts:\n",
    "    prediction = model.predict(text)\n",
    "    predictions.append(int(prediction[0][0].split('__label__')[1]))\n",
    "accuracy = accuracy_score(test_labels, predictions)\n",
    "print(\"Accuracy:\", accuracy)"
   ]
  }
 ],
 "metadata": {
  "colab": {
   "authorship_tag": "ABX9TyMywHldIi7MaSwVruCCuChq",
   "provenance": []
  },
  "kernelspec": {
   "display_name": "Python 3 (ipykernel)",
   "language": "python",
   "name": "python3"
  },
  "language_info": {
   "codemirror_mode": {
    "name": "ipython",
    "version": 3
   },
   "file_extension": ".py",
   "mimetype": "text/x-python",
   "name": "python",
   "nbconvert_exporter": "python",
   "pygments_lexer": "ipython3",
   "version": "3.11.7"
  },
  "widgets": {
   "application/vnd.jupyter.widget-state+json": {
    "04684340e60447e18033d05996e5121c": {
     "model_module": "@jupyter-widgets/base",
     "model_module_version": "1.2.0",
     "model_name": "LayoutModel",
     "state": {
      "_model_module": "@jupyter-widgets/base",
      "_model_module_version": "1.2.0",
      "_model_name": "LayoutModel",
      "_view_count": null,
      "_view_module": "@jupyter-widgets/base",
      "_view_module_version": "1.2.0",
      "_view_name": "LayoutView",
      "align_content": null,
      "align_items": null,
      "align_self": null,
      "border": null,
      "bottom": null,
      "display": null,
      "flex": null,
      "flex_flow": null,
      "grid_area": null,
      "grid_auto_columns": null,
      "grid_auto_flow": null,
      "grid_auto_rows": null,
      "grid_column": null,
      "grid_gap": null,
      "grid_row": null,
      "grid_template_areas": null,
      "grid_template_columns": null,
      "grid_template_rows": null,
      "height": null,
      "justify_content": null,
      "justify_items": null,
      "left": null,
      "margin": null,
      "max_height": null,
      "max_width": null,
      "min_height": null,
      "min_width": null,
      "object_fit": null,
      "object_position": null,
      "order": null,
      "overflow": null,
      "overflow_x": null,
      "overflow_y": null,
      "padding": null,
      "right": null,
      "top": null,
      "visibility": null,
      "width": null
     }
    },
    "09796c334a40402ab78a334d6349bd31": {
     "model_module": "@jupyter-widgets/controls",
     "model_module_version": "1.5.0",
     "model_name": "HTMLModel",
     "state": {
      "_dom_classes": [],
      "_model_module": "@jupyter-widgets/controls",
      "_model_module_version": "1.5.0",
      "_model_name": "HTMLModel",
      "_view_count": null,
      "_view_module": "@jupyter-widgets/controls",
      "_view_module_version": "1.5.0",
      "_view_name": "HTMLView",
      "description": "",
      "description_tooltip": null,
      "layout": "IPY_MODEL_60b0237ed1b044c7a49f2449e4804175",
      "placeholder": "​",
      "style": "IPY_MODEL_8296e8410f7743f5ad542fcb0ec6ec78",
      "value": "Generating test split: 100%"
     }
    },
    "0ae88e79cc554dd88baf71597b8c4b84": {
     "model_module": "@jupyter-widgets/base",
     "model_module_version": "1.2.0",
     "model_name": "LayoutModel",
     "state": {
      "_model_module": "@jupyter-widgets/base",
      "_model_module_version": "1.2.0",
      "_model_name": "LayoutModel",
      "_view_count": null,
      "_view_module": "@jupyter-widgets/base",
      "_view_module_version": "1.2.0",
      "_view_name": "LayoutView",
      "align_content": null,
      "align_items": null,
      "align_self": null,
      "border": null,
      "bottom": null,
      "display": null,
      "flex": null,
      "flex_flow": null,
      "grid_area": null,
      "grid_auto_columns": null,
      "grid_auto_flow": null,
      "grid_auto_rows": null,
      "grid_column": null,
      "grid_gap": null,
      "grid_row": null,
      "grid_template_areas": null,
      "grid_template_columns": null,
      "grid_template_rows": null,
      "height": null,
      "justify_content": null,
      "justify_items": null,
      "left": null,
      "margin": null,
      "max_height": null,
      "max_width": null,
      "min_height": null,
      "min_width": null,
      "object_fit": null,
      "object_position": null,
      "order": null,
      "overflow": null,
      "overflow_x": null,
      "overflow_y": null,
      "padding": null,
      "right": null,
      "top": null,
      "visibility": null,
      "width": null
     }
    },
    "0edd3d026df9493ca14f9f9047e86b66": {
     "model_module": "@jupyter-widgets/base",
     "model_module_version": "1.2.0",
     "model_name": "LayoutModel",
     "state": {
      "_model_module": "@jupyter-widgets/base",
      "_model_module_version": "1.2.0",
      "_model_name": "LayoutModel",
      "_view_count": null,
      "_view_module": "@jupyter-widgets/base",
      "_view_module_version": "1.2.0",
      "_view_name": "LayoutView",
      "align_content": null,
      "align_items": null,
      "align_self": null,
      "border": null,
      "bottom": null,
      "display": null,
      "flex": null,
      "flex_flow": null,
      "grid_area": null,
      "grid_auto_columns": null,
      "grid_auto_flow": null,
      "grid_auto_rows": null,
      "grid_column": null,
      "grid_gap": null,
      "grid_row": null,
      "grid_template_areas": null,
      "grid_template_columns": null,
      "grid_template_rows": null,
      "height": null,
      "justify_content": null,
      "justify_items": null,
      "left": null,
      "margin": null,
      "max_height": null,
      "max_width": null,
      "min_height": null,
      "min_width": null,
      "object_fit": null,
      "object_position": null,
      "order": null,
      "overflow": null,
      "overflow_x": null,
      "overflow_y": null,
      "padding": null,
      "right": null,
      "top": null,
      "visibility": null,
      "width": null
     }
    },
    "114f4389500d45d7bf44c19ee2b1518b": {
     "model_module": "@jupyter-widgets/controls",
     "model_module_version": "1.5.0",
     "model_name": "DescriptionStyleModel",
     "state": {
      "_model_module": "@jupyter-widgets/controls",
      "_model_module_version": "1.5.0",
      "_model_name": "DescriptionStyleModel",
      "_view_count": null,
      "_view_module": "@jupyter-widgets/base",
      "_view_module_version": "1.2.0",
      "_view_name": "StyleView",
      "description_width": ""
     }
    },
    "167310ad528b4cc1989c432180532a7c": {
     "model_module": "@jupyter-widgets/controls",
     "model_module_version": "1.5.0",
     "model_name": "DescriptionStyleModel",
     "state": {
      "_model_module": "@jupyter-widgets/controls",
      "_model_module_version": "1.5.0",
      "_model_name": "DescriptionStyleModel",
      "_view_count": null,
      "_view_module": "@jupyter-widgets/base",
      "_view_module_version": "1.2.0",
      "_view_name": "StyleView",
      "description_width": ""
     }
    },
    "16a8ea0b50af422fb3ec3d9bc496a2d4": {
     "model_module": "@jupyter-widgets/base",
     "model_module_version": "1.2.0",
     "model_name": "LayoutModel",
     "state": {
      "_model_module": "@jupyter-widgets/base",
      "_model_module_version": "1.2.0",
      "_model_name": "LayoutModel",
      "_view_count": null,
      "_view_module": "@jupyter-widgets/base",
      "_view_module_version": "1.2.0",
      "_view_name": "LayoutView",
      "align_content": null,
      "align_items": null,
      "align_self": null,
      "border": null,
      "bottom": null,
      "display": null,
      "flex": null,
      "flex_flow": null,
      "grid_area": null,
      "grid_auto_columns": null,
      "grid_auto_flow": null,
      "grid_auto_rows": null,
      "grid_column": null,
      "grid_gap": null,
      "grid_row": null,
      "grid_template_areas": null,
      "grid_template_columns": null,
      "grid_template_rows": null,
      "height": null,
      "justify_content": null,
      "justify_items": null,
      "left": null,
      "margin": null,
      "max_height": null,
      "max_width": null,
      "min_height": null,
      "min_width": null,
      "object_fit": null,
      "object_position": null,
      "order": null,
      "overflow": null,
      "overflow_x": null,
      "overflow_y": null,
      "padding": null,
      "right": null,
      "top": null,
      "visibility": null,
      "width": null
     }
    },
    "170ad0862e1b418b8468549a53872c8d": {
     "model_module": "@jupyter-widgets/base",
     "model_module_version": "1.2.0",
     "model_name": "LayoutModel",
     "state": {
      "_model_module": "@jupyter-widgets/base",
      "_model_module_version": "1.2.0",
      "_model_name": "LayoutModel",
      "_view_count": null,
      "_view_module": "@jupyter-widgets/base",
      "_view_module_version": "1.2.0",
      "_view_name": "LayoutView",
      "align_content": null,
      "align_items": null,
      "align_self": null,
      "border": null,
      "bottom": null,
      "display": null,
      "flex": null,
      "flex_flow": null,
      "grid_area": null,
      "grid_auto_columns": null,
      "grid_auto_flow": null,
      "grid_auto_rows": null,
      "grid_column": null,
      "grid_gap": null,
      "grid_row": null,
      "grid_template_areas": null,
      "grid_template_columns": null,
      "grid_template_rows": null,
      "height": null,
      "justify_content": null,
      "justify_items": null,
      "left": null,
      "margin": null,
      "max_height": null,
      "max_width": null,
      "min_height": null,
      "min_width": null,
      "object_fit": null,
      "object_position": null,
      "order": null,
      "overflow": null,
      "overflow_x": null,
      "overflow_y": null,
      "padding": null,
      "right": null,
      "top": null,
      "visibility": null,
      "width": null
     }
    },
    "22982be8e166431bb8aaf473ce1eb91d": {
     "model_module": "@jupyter-widgets/controls",
     "model_module_version": "1.5.0",
     "model_name": "HTMLModel",
     "state": {
      "_dom_classes": [],
      "_model_module": "@jupyter-widgets/controls",
      "_model_module_version": "1.5.0",
      "_model_name": "HTMLModel",
      "_view_count": null,
      "_view_module": "@jupyter-widgets/controls",
      "_view_module_version": "1.5.0",
      "_view_name": "HTMLView",
      "description": "",
      "description_tooltip": null,
      "layout": "IPY_MODEL_43223b3a50fd49af9af7019301518335",
      "placeholder": "​",
      "style": "IPY_MODEL_9ceb5cf4a62e4b7f98e578a134b965af",
      "value": " 175M/175M [00:30&lt;00:00, 7.27MB/s]"
     }
    },
    "279a8e5de1144099a6049c221551631c": {
     "model_module": "@jupyter-widgets/controls",
     "model_module_version": "1.5.0",
     "model_name": "HBoxModel",
     "state": {
      "_dom_classes": [],
      "_model_module": "@jupyter-widgets/controls",
      "_model_module_version": "1.5.0",
      "_model_name": "HBoxModel",
      "_view_count": null,
      "_view_module": "@jupyter-widgets/controls",
      "_view_module_version": "1.5.0",
      "_view_name": "HBoxView",
      "box_style": "",
      "children": [
       "IPY_MODEL_09796c334a40402ab78a334d6349bd31",
       "IPY_MODEL_805b2f8002e44631beff11310177622e",
       "IPY_MODEL_8a7d7ce12e6146d8a394249db94c19ca"
      ],
      "layout": "IPY_MODEL_170ad0862e1b418b8468549a53872c8d"
     }
    },
    "36db6f645f884b19ab370a452388f313": {
     "model_module": "@jupyter-widgets/controls",
     "model_module_version": "1.5.0",
     "model_name": "FloatProgressModel",
     "state": {
      "_dom_classes": [],
      "_model_module": "@jupyter-widgets/controls",
      "_model_module_version": "1.5.0",
      "_model_name": "FloatProgressModel",
      "_view_count": null,
      "_view_module": "@jupyter-widgets/controls",
      "_view_module_version": "1.5.0",
      "_view_name": "ProgressView",
      "bar_style": "success",
      "description": "",
      "description_tooltip": null,
      "layout": "IPY_MODEL_3cd1edfca3564825a019a01fb9fb84e2",
      "max": 175056288,
      "min": 0,
      "orientation": "horizontal",
      "style": "IPY_MODEL_65cf725563c846b6857bb1a8f8e8f4d6",
      "value": 175056288
     }
    },
    "386ad9c951064c08b4b272c1b7cb1b13": {
     "model_module": "@jupyter-widgets/controls",
     "model_module_version": "1.5.0",
     "model_name": "HBoxModel",
     "state": {
      "_dom_classes": [],
      "_model_module": "@jupyter-widgets/controls",
      "_model_module_version": "1.5.0",
      "_model_name": "HBoxModel",
      "_view_count": null,
      "_view_module": "@jupyter-widgets/controls",
      "_view_module_version": "1.5.0",
      "_view_name": "HBoxView",
      "box_style": "",
      "children": [
       "IPY_MODEL_7ec3391d324842e2accfb56df8903d64",
       "IPY_MODEL_3f674fed41164b6592edb74f4bcd17a6",
       "IPY_MODEL_d45d4b8fd0164f1a8e6d13b75cae02c5"
      ],
      "layout": "IPY_MODEL_16a8ea0b50af422fb3ec3d9bc496a2d4"
     }
    },
    "3a60075f465c44c982943801d948f0c7": {
     "model_module": "@jupyter-widgets/controls",
     "model_module_version": "1.5.0",
     "model_name": "ProgressStyleModel",
     "state": {
      "_model_module": "@jupyter-widgets/controls",
      "_model_module_version": "1.5.0",
      "_model_name": "ProgressStyleModel",
      "_view_count": null,
      "_view_module": "@jupyter-widgets/base",
      "_view_module_version": "1.2.0",
      "_view_name": "StyleView",
      "bar_color": null,
      "description_width": ""
     }
    },
    "3cd1edfca3564825a019a01fb9fb84e2": {
     "model_module": "@jupyter-widgets/base",
     "model_module_version": "1.2.0",
     "model_name": "LayoutModel",
     "state": {
      "_model_module": "@jupyter-widgets/base",
      "_model_module_version": "1.2.0",
      "_model_name": "LayoutModel",
      "_view_count": null,
      "_view_module": "@jupyter-widgets/base",
      "_view_module_version": "1.2.0",
      "_view_name": "LayoutView",
      "align_content": null,
      "align_items": null,
      "align_self": null,
      "border": null,
      "bottom": null,
      "display": null,
      "flex": null,
      "flex_flow": null,
      "grid_area": null,
      "grid_auto_columns": null,
      "grid_auto_flow": null,
      "grid_auto_rows": null,
      "grid_column": null,
      "grid_gap": null,
      "grid_row": null,
      "grid_template_areas": null,
      "grid_template_columns": null,
      "grid_template_rows": null,
      "height": null,
      "justify_content": null,
      "justify_items": null,
      "left": null,
      "margin": null,
      "max_height": null,
      "max_width": null,
      "min_height": null,
      "min_width": null,
      "object_fit": null,
      "object_position": null,
      "order": null,
      "overflow": null,
      "overflow_x": null,
      "overflow_y": null,
      "padding": null,
      "right": null,
      "top": null,
      "visibility": null,
      "width": null
     }
    },
    "3d0d7f54e26d4829abb634c9e7c775a7": {
     "model_module": "@jupyter-widgets/base",
     "model_module_version": "1.2.0",
     "model_name": "LayoutModel",
     "state": {
      "_model_module": "@jupyter-widgets/base",
      "_model_module_version": "1.2.0",
      "_model_name": "LayoutModel",
      "_view_count": null,
      "_view_module": "@jupyter-widgets/base",
      "_view_module_version": "1.2.0",
      "_view_name": "LayoutView",
      "align_content": null,
      "align_items": null,
      "align_self": null,
      "border": null,
      "bottom": null,
      "display": null,
      "flex": null,
      "flex_flow": null,
      "grid_area": null,
      "grid_auto_columns": null,
      "grid_auto_flow": null,
      "grid_auto_rows": null,
      "grid_column": null,
      "grid_gap": null,
      "grid_row": null,
      "grid_template_areas": null,
      "grid_template_columns": null,
      "grid_template_rows": null,
      "height": null,
      "justify_content": null,
      "justify_items": null,
      "left": null,
      "margin": null,
      "max_height": null,
      "max_width": null,
      "min_height": null,
      "min_width": null,
      "object_fit": null,
      "object_position": null,
      "order": null,
      "overflow": null,
      "overflow_x": null,
      "overflow_y": null,
      "padding": null,
      "right": null,
      "top": null,
      "visibility": null,
      "width": null
     }
    },
    "3f674fed41164b6592edb74f4bcd17a6": {
     "model_module": "@jupyter-widgets/controls",
     "model_module_version": "1.5.0",
     "model_name": "FloatProgressModel",
     "state": {
      "_dom_classes": [],
      "_model_module": "@jupyter-widgets/controls",
      "_model_module_version": "1.5.0",
      "_model_name": "FloatProgressModel",
      "_view_count": null,
      "_view_module": "@jupyter-widgets/controls",
      "_view_module_version": "1.5.0",
      "_view_name": "ProgressView",
      "bar_style": "success",
      "description": "",
      "description_tooltip": null,
      "layout": "IPY_MODEL_04684340e60447e18033d05996e5121c",
      "max": 21939321,
      "min": 0,
      "orientation": "horizontal",
      "style": "IPY_MODEL_acd22ce50a764f068fc9a75dcf3e4ee2",
      "value": 21939321
     }
    },
    "43223b3a50fd49af9af7019301518335": {
     "model_module": "@jupyter-widgets/base",
     "model_module_version": "1.2.0",
     "model_name": "LayoutModel",
     "state": {
      "_model_module": "@jupyter-widgets/base",
      "_model_module_version": "1.2.0",
      "_model_name": "LayoutModel",
      "_view_count": null,
      "_view_module": "@jupyter-widgets/base",
      "_view_module_version": "1.2.0",
      "_view_name": "LayoutView",
      "align_content": null,
      "align_items": null,
      "align_self": null,
      "border": null,
      "bottom": null,
      "display": null,
      "flex": null,
      "flex_flow": null,
      "grid_area": null,
      "grid_auto_columns": null,
      "grid_auto_flow": null,
      "grid_auto_rows": null,
      "grid_column": null,
      "grid_gap": null,
      "grid_row": null,
      "grid_template_areas": null,
      "grid_template_columns": null,
      "grid_template_rows": null,
      "height": null,
      "justify_content": null,
      "justify_items": null,
      "left": null,
      "margin": null,
      "max_height": null,
      "max_width": null,
      "min_height": null,
      "min_width": null,
      "object_fit": null,
      "object_position": null,
      "order": null,
      "overflow": null,
      "overflow_x": null,
      "overflow_y": null,
      "padding": null,
      "right": null,
      "top": null,
      "visibility": null,
      "width": null
     }
    },
    "45613a02ad8b41698efa5a411d133ac7": {
     "model_module": "@jupyter-widgets/base",
     "model_module_version": "1.2.0",
     "model_name": "LayoutModel",
     "state": {
      "_model_module": "@jupyter-widgets/base",
      "_model_module_version": "1.2.0",
      "_model_name": "LayoutModel",
      "_view_count": null,
      "_view_module": "@jupyter-widgets/base",
      "_view_module_version": "1.2.0",
      "_view_name": "LayoutView",
      "align_content": null,
      "align_items": null,
      "align_self": null,
      "border": null,
      "bottom": null,
      "display": null,
      "flex": null,
      "flex_flow": null,
      "grid_area": null,
      "grid_auto_columns": null,
      "grid_auto_flow": null,
      "grid_auto_rows": null,
      "grid_column": null,
      "grid_gap": null,
      "grid_row": null,
      "grid_template_areas": null,
      "grid_template_columns": null,
      "grid_template_rows": null,
      "height": null,
      "justify_content": null,
      "justify_items": null,
      "left": null,
      "margin": null,
      "max_height": null,
      "max_width": null,
      "min_height": null,
      "min_width": null,
      "object_fit": null,
      "object_position": null,
      "order": null,
      "overflow": null,
      "overflow_x": null,
      "overflow_y": null,
      "padding": null,
      "right": null,
      "top": null,
      "visibility": null,
      "width": null
     }
    },
    "478e335d4b794327839a1f3c1d3d22ff": {
     "model_module": "@jupyter-widgets/controls",
     "model_module_version": "1.5.0",
     "model_name": "FloatProgressModel",
     "state": {
      "_dom_classes": [],
      "_model_module": "@jupyter-widgets/controls",
      "_model_module_version": "1.5.0",
      "_model_name": "FloatProgressModel",
      "_view_count": null,
      "_view_module": "@jupyter-widgets/controls",
      "_view_module_version": "1.5.0",
      "_view_name": "ProgressView",
      "bar_style": "success",
      "description": "",
      "description_tooltip": null,
      "layout": "IPY_MODEL_79ae3082525946bab43ebfe8911c1842",
      "max": 1400000,
      "min": 0,
      "orientation": "horizontal",
      "style": "IPY_MODEL_c5103274fd004d38aa7f341f35250dac",
      "value": 1400000
     }
    },
    "4aefb89d0f9e4fc4840ef88e20837612": {
     "model_module": "@jupyter-widgets/controls",
     "model_module_version": "1.5.0",
     "model_name": "DescriptionStyleModel",
     "state": {
      "_model_module": "@jupyter-widgets/controls",
      "_model_module_version": "1.5.0",
      "_model_name": "DescriptionStyleModel",
      "_view_count": null,
      "_view_module": "@jupyter-widgets/base",
      "_view_module_version": "1.2.0",
      "_view_name": "StyleView",
      "description_width": ""
     }
    },
    "5a89096aed914492a6251f024b4e7684": {
     "model_module": "@jupyter-widgets/controls",
     "model_module_version": "1.5.0",
     "model_name": "HTMLModel",
     "state": {
      "_dom_classes": [],
      "_model_module": "@jupyter-widgets/controls",
      "_model_module_version": "1.5.0",
      "_model_name": "HTMLModel",
      "_view_count": null,
      "_view_module": "@jupyter-widgets/controls",
      "_view_module_version": "1.5.0",
      "_view_name": "HTMLView",
      "description": "",
      "description_tooltip": null,
      "layout": "IPY_MODEL_bb1fde3de75a4395b19d89347700cf6d",
      "placeholder": "​",
      "style": "IPY_MODEL_4aefb89d0f9e4fc4840ef88e20837612",
      "value": "Downloading data: 100%"
     }
    },
    "5fe9ed66ca3c4e93855cf2a8f942e5ac": {
     "model_module": "@jupyter-widgets/controls",
     "model_module_version": "1.5.0",
     "model_name": "HTMLModel",
     "state": {
      "_dom_classes": [],
      "_model_module": "@jupyter-widgets/controls",
      "_model_module_version": "1.5.0",
      "_model_name": "HTMLModel",
      "_view_count": null,
      "_view_module": "@jupyter-widgets/controls",
      "_view_module_version": "1.5.0",
      "_view_name": "HTMLView",
      "description": "",
      "description_tooltip": null,
      "layout": "IPY_MODEL_9836265b95904a9582f46063e2aed068",
      "placeholder": "​",
      "style": "IPY_MODEL_da0892b9d4d741a3be219e04ea92bb3d",
      "value": "Generating train split: 100%"
     }
    },
    "60b0237ed1b044c7a49f2449e4804175": {
     "model_module": "@jupyter-widgets/base",
     "model_module_version": "1.2.0",
     "model_name": "LayoutModel",
     "state": {
      "_model_module": "@jupyter-widgets/base",
      "_model_module_version": "1.2.0",
      "_model_name": "LayoutModel",
      "_view_count": null,
      "_view_module": "@jupyter-widgets/base",
      "_view_module_version": "1.2.0",
      "_view_name": "LayoutView",
      "align_content": null,
      "align_items": null,
      "align_self": null,
      "border": null,
      "bottom": null,
      "display": null,
      "flex": null,
      "flex_flow": null,
      "grid_area": null,
      "grid_auto_columns": null,
      "grid_auto_flow": null,
      "grid_auto_rows": null,
      "grid_column": null,
      "grid_gap": null,
      "grid_row": null,
      "grid_template_areas": null,
      "grid_template_columns": null,
      "grid_template_rows": null,
      "height": null,
      "justify_content": null,
      "justify_items": null,
      "left": null,
      "margin": null,
      "max_height": null,
      "max_width": null,
      "min_height": null,
      "min_width": null,
      "object_fit": null,
      "object_position": null,
      "order": null,
      "overflow": null,
      "overflow_x": null,
      "overflow_y": null,
      "padding": null,
      "right": null,
      "top": null,
      "visibility": null,
      "width": null
     }
    },
    "624f917ceff6483ba3c639916f06bd38": {
     "model_module": "@jupyter-widgets/base",
     "model_module_version": "1.2.0",
     "model_name": "LayoutModel",
     "state": {
      "_model_module": "@jupyter-widgets/base",
      "_model_module_version": "1.2.0",
      "_model_name": "LayoutModel",
      "_view_count": null,
      "_view_module": "@jupyter-widgets/base",
      "_view_module_version": "1.2.0",
      "_view_name": "LayoutView",
      "align_content": null,
      "align_items": null,
      "align_self": null,
      "border": null,
      "bottom": null,
      "display": null,
      "flex": null,
      "flex_flow": null,
      "grid_area": null,
      "grid_auto_columns": null,
      "grid_auto_flow": null,
      "grid_auto_rows": null,
      "grid_column": null,
      "grid_gap": null,
      "grid_row": null,
      "grid_template_areas": null,
      "grid_template_columns": null,
      "grid_template_rows": null,
      "height": null,
      "justify_content": null,
      "justify_items": null,
      "left": null,
      "margin": null,
      "max_height": null,
      "max_width": null,
      "min_height": null,
      "min_width": null,
      "object_fit": null,
      "object_position": null,
      "order": null,
      "overflow": null,
      "overflow_x": null,
      "overflow_y": null,
      "padding": null,
      "right": null,
      "top": null,
      "visibility": null,
      "width": null
     }
    },
    "65cf725563c846b6857bb1a8f8e8f4d6": {
     "model_module": "@jupyter-widgets/controls",
     "model_module_version": "1.5.0",
     "model_name": "ProgressStyleModel",
     "state": {
      "_model_module": "@jupyter-widgets/controls",
      "_model_module_version": "1.5.0",
      "_model_name": "ProgressStyleModel",
      "_view_count": null,
      "_view_module": "@jupyter-widgets/base",
      "_view_module_version": "1.2.0",
      "_view_name": "StyleView",
      "bar_color": null,
      "description_width": ""
     }
    },
    "66696415e0ad4c5e9651d14ed3c855c7": {
     "model_module": "@jupyter-widgets/controls",
     "model_module_version": "1.5.0",
     "model_name": "HTMLModel",
     "state": {
      "_dom_classes": [],
      "_model_module": "@jupyter-widgets/controls",
      "_model_module_version": "1.5.0",
      "_model_name": "HTMLModel",
      "_view_count": null,
      "_view_module": "@jupyter-widgets/controls",
      "_view_module_version": "1.5.0",
      "_view_name": "HTMLView",
      "description": "",
      "description_tooltip": null,
      "layout": "IPY_MODEL_0edd3d026df9493ca14f9f9047e86b66",
      "placeholder": "​",
      "style": "IPY_MODEL_114f4389500d45d7bf44c19ee2b1518b",
      "value": "Downloading data: 100%"
     }
    },
    "68c13e195e3744d0a6c787bbaf5227a4": {
     "model_module": "@jupyter-widgets/controls",
     "model_module_version": "1.5.0",
     "model_name": "HTMLModel",
     "state": {
      "_dom_classes": [],
      "_model_module": "@jupyter-widgets/controls",
      "_model_module_version": "1.5.0",
      "_model_name": "HTMLModel",
      "_view_count": null,
      "_view_module": "@jupyter-widgets/controls",
      "_view_module_version": "1.5.0",
      "_view_name": "HTMLView",
      "description": "",
      "description_tooltip": null,
      "layout": "IPY_MODEL_3d0d7f54e26d4829abb634c9e7c775a7",
      "placeholder": "​",
      "style": "IPY_MODEL_79413d71606040e4963e658a700416e1",
      "value": " 1400000/1400000 [00:07&lt;00:00, 197584.05 examples/s]"
     }
    },
    "79413d71606040e4963e658a700416e1": {
     "model_module": "@jupyter-widgets/controls",
     "model_module_version": "1.5.0",
     "model_name": "DescriptionStyleModel",
     "state": {
      "_model_module": "@jupyter-widgets/controls",
      "_model_module_version": "1.5.0",
      "_model_name": "DescriptionStyleModel",
      "_view_count": null,
      "_view_module": "@jupyter-widgets/base",
      "_view_module_version": "1.2.0",
      "_view_name": "StyleView",
      "description_width": ""
     }
    },
    "79ae3082525946bab43ebfe8911c1842": {
     "model_module": "@jupyter-widgets/base",
     "model_module_version": "1.2.0",
     "model_name": "LayoutModel",
     "state": {
      "_model_module": "@jupyter-widgets/base",
      "_model_module_version": "1.2.0",
      "_model_name": "LayoutModel",
      "_view_count": null,
      "_view_module": "@jupyter-widgets/base",
      "_view_module_version": "1.2.0",
      "_view_name": "LayoutView",
      "align_content": null,
      "align_items": null,
      "align_self": null,
      "border": null,
      "bottom": null,
      "display": null,
      "flex": null,
      "flex_flow": null,
      "grid_area": null,
      "grid_auto_columns": null,
      "grid_auto_flow": null,
      "grid_auto_rows": null,
      "grid_column": null,
      "grid_gap": null,
      "grid_row": null,
      "grid_template_areas": null,
      "grid_template_columns": null,
      "grid_template_rows": null,
      "height": null,
      "justify_content": null,
      "justify_items": null,
      "left": null,
      "margin": null,
      "max_height": null,
      "max_width": null,
      "min_height": null,
      "min_width": null,
      "object_fit": null,
      "object_position": null,
      "order": null,
      "overflow": null,
      "overflow_x": null,
      "overflow_y": null,
      "padding": null,
      "right": null,
      "top": null,
      "visibility": null,
      "width": null
     }
    },
    "7ec3391d324842e2accfb56df8903d64": {
     "model_module": "@jupyter-widgets/controls",
     "model_module_version": "1.5.0",
     "model_name": "HTMLModel",
     "state": {
      "_dom_classes": [],
      "_model_module": "@jupyter-widgets/controls",
      "_model_module_version": "1.5.0",
      "_model_name": "HTMLModel",
      "_view_count": null,
      "_view_module": "@jupyter-widgets/controls",
      "_view_module_version": "1.5.0",
      "_view_name": "HTMLView",
      "description": "",
      "description_tooltip": null,
      "layout": "IPY_MODEL_b8e106ff43144dd094f575ebb3f18932",
      "placeholder": "​",
      "style": "IPY_MODEL_b090d5b040f740cd869c452a39749815",
      "value": "Downloading data: 100%"
     }
    },
    "805b2f8002e44631beff11310177622e": {
     "model_module": "@jupyter-widgets/controls",
     "model_module_version": "1.5.0",
     "model_name": "FloatProgressModel",
     "state": {
      "_dom_classes": [],
      "_model_module": "@jupyter-widgets/controls",
      "_model_module_version": "1.5.0",
      "_model_name": "FloatProgressModel",
      "_view_count": null,
      "_view_module": "@jupyter-widgets/controls",
      "_view_module_version": "1.5.0",
      "_view_name": "ProgressView",
      "bar_style": "success",
      "description": "",
      "description_tooltip": null,
      "layout": "IPY_MODEL_f056ad39de644a508de2652f45abc530",
      "max": 60000,
      "min": 0,
      "orientation": "horizontal",
      "style": "IPY_MODEL_3a60075f465c44c982943801d948f0c7",
      "value": 60000
     }
    },
    "8296e8410f7743f5ad542fcb0ec6ec78": {
     "model_module": "@jupyter-widgets/controls",
     "model_module_version": "1.5.0",
     "model_name": "DescriptionStyleModel",
     "state": {
      "_model_module": "@jupyter-widgets/controls",
      "_model_module_version": "1.5.0",
      "_model_name": "DescriptionStyleModel",
      "_view_count": null,
      "_view_module": "@jupyter-widgets/base",
      "_view_module_version": "1.2.0",
      "_view_name": "StyleView",
      "description_width": ""
     }
    },
    "8a7d7ce12e6146d8a394249db94c19ca": {
     "model_module": "@jupyter-widgets/controls",
     "model_module_version": "1.5.0",
     "model_name": "HTMLModel",
     "state": {
      "_dom_classes": [],
      "_model_module": "@jupyter-widgets/controls",
      "_model_module_version": "1.5.0",
      "_model_name": "HTMLModel",
      "_view_count": null,
      "_view_module": "@jupyter-widgets/controls",
      "_view_module_version": "1.5.0",
      "_view_name": "HTMLView",
      "description": "",
      "description_tooltip": null,
      "layout": "IPY_MODEL_b7a4b7bdf786442bb1b5ad3b876623f3",
      "placeholder": "​",
      "style": "IPY_MODEL_f0a7b728d7904a6cb759678fdaef6675",
      "value": " 60000/60000 [00:00&lt;00:00, 160089.20 examples/s]"
     }
    },
    "9836265b95904a9582f46063e2aed068": {
     "model_module": "@jupyter-widgets/base",
     "model_module_version": "1.2.0",
     "model_name": "LayoutModel",
     "state": {
      "_model_module": "@jupyter-widgets/base",
      "_model_module_version": "1.2.0",
      "_model_name": "LayoutModel",
      "_view_count": null,
      "_view_module": "@jupyter-widgets/base",
      "_view_module_version": "1.2.0",
      "_view_name": "LayoutView",
      "align_content": null,
      "align_items": null,
      "align_self": null,
      "border": null,
      "bottom": null,
      "display": null,
      "flex": null,
      "flex_flow": null,
      "grid_area": null,
      "grid_auto_columns": null,
      "grid_auto_flow": null,
      "grid_auto_rows": null,
      "grid_column": null,
      "grid_gap": null,
      "grid_row": null,
      "grid_template_areas": null,
      "grid_template_columns": null,
      "grid_template_rows": null,
      "height": null,
      "justify_content": null,
      "justify_items": null,
      "left": null,
      "margin": null,
      "max_height": null,
      "max_width": null,
      "min_height": null,
      "min_width": null,
      "object_fit": null,
      "object_position": null,
      "order": null,
      "overflow": null,
      "overflow_x": null,
      "overflow_y": null,
      "padding": null,
      "right": null,
      "top": null,
      "visibility": null,
      "width": null
     }
    },
    "98eb186482fe42778bb7b33415a14418": {
     "model_module": "@jupyter-widgets/controls",
     "model_module_version": "1.5.0",
     "model_name": "HTMLModel",
     "state": {
      "_dom_classes": [],
      "_model_module": "@jupyter-widgets/controls",
      "_model_module_version": "1.5.0",
      "_model_name": "HTMLModel",
      "_view_count": null,
      "_view_module": "@jupyter-widgets/controls",
      "_view_module_version": "1.5.0",
      "_view_name": "HTMLView",
      "description": "",
      "description_tooltip": null,
      "layout": "IPY_MODEL_0ae88e79cc554dd88baf71597b8c4b84",
      "placeholder": "​",
      "style": "IPY_MODEL_167310ad528b4cc1989c432180532a7c",
      "value": " 336M/336M [00:23&lt;00:00, 14.1MB/s]"
     }
    },
    "993c393513fa4ecf9da9fcdb1fe831f7": {
     "model_module": "@jupyter-widgets/controls",
     "model_module_version": "1.5.0",
     "model_name": "HBoxModel",
     "state": {
      "_dom_classes": [],
      "_model_module": "@jupyter-widgets/controls",
      "_model_module_version": "1.5.0",
      "_model_name": "HBoxModel",
      "_view_count": null,
      "_view_module": "@jupyter-widgets/controls",
      "_view_module_version": "1.5.0",
      "_view_name": "HBoxView",
      "box_style": "",
      "children": [
       "IPY_MODEL_66696415e0ad4c5e9651d14ed3c855c7",
       "IPY_MODEL_36db6f645f884b19ab370a452388f313",
       "IPY_MODEL_22982be8e166431bb8aaf473ce1eb91d"
      ],
      "layout": "IPY_MODEL_624f917ceff6483ba3c639916f06bd38"
     }
    },
    "9ceb5cf4a62e4b7f98e578a134b965af": {
     "model_module": "@jupyter-widgets/controls",
     "model_module_version": "1.5.0",
     "model_name": "DescriptionStyleModel",
     "state": {
      "_model_module": "@jupyter-widgets/controls",
      "_model_module_version": "1.5.0",
      "_model_name": "DescriptionStyleModel",
      "_view_count": null,
      "_view_module": "@jupyter-widgets/base",
      "_view_module_version": "1.2.0",
      "_view_name": "StyleView",
      "description_width": ""
     }
    },
    "a859a6ba08af4d84a41ee0234556f873": {
     "model_module": "@jupyter-widgets/base",
     "model_module_version": "1.2.0",
     "model_name": "LayoutModel",
     "state": {
      "_model_module": "@jupyter-widgets/base",
      "_model_module_version": "1.2.0",
      "_model_name": "LayoutModel",
      "_view_count": null,
      "_view_module": "@jupyter-widgets/base",
      "_view_module_version": "1.2.0",
      "_view_name": "LayoutView",
      "align_content": null,
      "align_items": null,
      "align_self": null,
      "border": null,
      "bottom": null,
      "display": null,
      "flex": null,
      "flex_flow": null,
      "grid_area": null,
      "grid_auto_columns": null,
      "grid_auto_flow": null,
      "grid_auto_rows": null,
      "grid_column": null,
      "grid_gap": null,
      "grid_row": null,
      "grid_template_areas": null,
      "grid_template_columns": null,
      "grid_template_rows": null,
      "height": null,
      "justify_content": null,
      "justify_items": null,
      "left": null,
      "margin": null,
      "max_height": null,
      "max_width": null,
      "min_height": null,
      "min_width": null,
      "object_fit": null,
      "object_position": null,
      "order": null,
      "overflow": null,
      "overflow_x": null,
      "overflow_y": null,
      "padding": null,
      "right": null,
      "top": null,
      "visibility": null,
      "width": null
     }
    },
    "acd22ce50a764f068fc9a75dcf3e4ee2": {
     "model_module": "@jupyter-widgets/controls",
     "model_module_version": "1.5.0",
     "model_name": "ProgressStyleModel",
     "state": {
      "_model_module": "@jupyter-widgets/controls",
      "_model_module_version": "1.5.0",
      "_model_name": "ProgressStyleModel",
      "_view_count": null,
      "_view_module": "@jupyter-widgets/base",
      "_view_module_version": "1.2.0",
      "_view_name": "StyleView",
      "bar_color": null,
      "description_width": ""
     }
    },
    "b090d5b040f740cd869c452a39749815": {
     "model_module": "@jupyter-widgets/controls",
     "model_module_version": "1.5.0",
     "model_name": "DescriptionStyleModel",
     "state": {
      "_model_module": "@jupyter-widgets/controls",
      "_model_module_version": "1.5.0",
      "_model_name": "DescriptionStyleModel",
      "_view_count": null,
      "_view_module": "@jupyter-widgets/base",
      "_view_module_version": "1.2.0",
      "_view_name": "StyleView",
      "description_width": ""
     }
    },
    "b101a6e3ef69435fa97ef5ae811e21a6": {
     "model_module": "@jupyter-widgets/controls",
     "model_module_version": "1.5.0",
     "model_name": "ProgressStyleModel",
     "state": {
      "_model_module": "@jupyter-widgets/controls",
      "_model_module_version": "1.5.0",
      "_model_name": "ProgressStyleModel",
      "_view_count": null,
      "_view_module": "@jupyter-widgets/base",
      "_view_module_version": "1.2.0",
      "_view_name": "StyleView",
      "bar_color": null,
      "description_width": ""
     }
    },
    "b7a4b7bdf786442bb1b5ad3b876623f3": {
     "model_module": "@jupyter-widgets/base",
     "model_module_version": "1.2.0",
     "model_name": "LayoutModel",
     "state": {
      "_model_module": "@jupyter-widgets/base",
      "_model_module_version": "1.2.0",
      "_model_name": "LayoutModel",
      "_view_count": null,
      "_view_module": "@jupyter-widgets/base",
      "_view_module_version": "1.2.0",
      "_view_name": "LayoutView",
      "align_content": null,
      "align_items": null,
      "align_self": null,
      "border": null,
      "bottom": null,
      "display": null,
      "flex": null,
      "flex_flow": null,
      "grid_area": null,
      "grid_auto_columns": null,
      "grid_auto_flow": null,
      "grid_auto_rows": null,
      "grid_column": null,
      "grid_gap": null,
      "grid_row": null,
      "grid_template_areas": null,
      "grid_template_columns": null,
      "grid_template_rows": null,
      "height": null,
      "justify_content": null,
      "justify_items": null,
      "left": null,
      "margin": null,
      "max_height": null,
      "max_width": null,
      "min_height": null,
      "min_width": null,
      "object_fit": null,
      "object_position": null,
      "order": null,
      "overflow": null,
      "overflow_x": null,
      "overflow_y": null,
      "padding": null,
      "right": null,
      "top": null,
      "visibility": null,
      "width": null
     }
    },
    "b8e106ff43144dd094f575ebb3f18932": {
     "model_module": "@jupyter-widgets/base",
     "model_module_version": "1.2.0",
     "model_name": "LayoutModel",
     "state": {
      "_model_module": "@jupyter-widgets/base",
      "_model_module_version": "1.2.0",
      "_model_name": "LayoutModel",
      "_view_count": null,
      "_view_module": "@jupyter-widgets/base",
      "_view_module_version": "1.2.0",
      "_view_name": "LayoutView",
      "align_content": null,
      "align_items": null,
      "align_self": null,
      "border": null,
      "bottom": null,
      "display": null,
      "flex": null,
      "flex_flow": null,
      "grid_area": null,
      "grid_auto_columns": null,
      "grid_auto_flow": null,
      "grid_auto_rows": null,
      "grid_column": null,
      "grid_gap": null,
      "grid_row": null,
      "grid_template_areas": null,
      "grid_template_columns": null,
      "grid_template_rows": null,
      "height": null,
      "justify_content": null,
      "justify_items": null,
      "left": null,
      "margin": null,
      "max_height": null,
      "max_width": null,
      "min_height": null,
      "min_width": null,
      "object_fit": null,
      "object_position": null,
      "order": null,
      "overflow": null,
      "overflow_x": null,
      "overflow_y": null,
      "padding": null,
      "right": null,
      "top": null,
      "visibility": null,
      "width": null
     }
    },
    "bb1fde3de75a4395b19d89347700cf6d": {
     "model_module": "@jupyter-widgets/base",
     "model_module_version": "1.2.0",
     "model_name": "LayoutModel",
     "state": {
      "_model_module": "@jupyter-widgets/base",
      "_model_module_version": "1.2.0",
      "_model_name": "LayoutModel",
      "_view_count": null,
      "_view_module": "@jupyter-widgets/base",
      "_view_module_version": "1.2.0",
      "_view_name": "LayoutView",
      "align_content": null,
      "align_items": null,
      "align_self": null,
      "border": null,
      "bottom": null,
      "display": null,
      "flex": null,
      "flex_flow": null,
      "grid_area": null,
      "grid_auto_columns": null,
      "grid_auto_flow": null,
      "grid_auto_rows": null,
      "grid_column": null,
      "grid_gap": null,
      "grid_row": null,
      "grid_template_areas": null,
      "grid_template_columns": null,
      "grid_template_rows": null,
      "height": null,
      "justify_content": null,
      "justify_items": null,
      "left": null,
      "margin": null,
      "max_height": null,
      "max_width": null,
      "min_height": null,
      "min_width": null,
      "object_fit": null,
      "object_position": null,
      "order": null,
      "overflow": null,
      "overflow_x": null,
      "overflow_y": null,
      "padding": null,
      "right": null,
      "top": null,
      "visibility": null,
      "width": null
     }
    },
    "bc7f3c31f5a24b1982a7afb05a5b34bb": {
     "model_module": "@jupyter-widgets/base",
     "model_module_version": "1.2.0",
     "model_name": "LayoutModel",
     "state": {
      "_model_module": "@jupyter-widgets/base",
      "_model_module_version": "1.2.0",
      "_model_name": "LayoutModel",
      "_view_count": null,
      "_view_module": "@jupyter-widgets/base",
      "_view_module_version": "1.2.0",
      "_view_name": "LayoutView",
      "align_content": null,
      "align_items": null,
      "align_self": null,
      "border": null,
      "bottom": null,
      "display": null,
      "flex": null,
      "flex_flow": null,
      "grid_area": null,
      "grid_auto_columns": null,
      "grid_auto_flow": null,
      "grid_auto_rows": null,
      "grid_column": null,
      "grid_gap": null,
      "grid_row": null,
      "grid_template_areas": null,
      "grid_template_columns": null,
      "grid_template_rows": null,
      "height": null,
      "justify_content": null,
      "justify_items": null,
      "left": null,
      "margin": null,
      "max_height": null,
      "max_width": null,
      "min_height": null,
      "min_width": null,
      "object_fit": null,
      "object_position": null,
      "order": null,
      "overflow": null,
      "overflow_x": null,
      "overflow_y": null,
      "padding": null,
      "right": null,
      "top": null,
      "visibility": null,
      "width": null
     }
    },
    "bcae375a7d224283ba29887ed7d170b7": {
     "model_module": "@jupyter-widgets/controls",
     "model_module_version": "1.5.0",
     "model_name": "HBoxModel",
     "state": {
      "_dom_classes": [],
      "_model_module": "@jupyter-widgets/controls",
      "_model_module_version": "1.5.0",
      "_model_name": "HBoxModel",
      "_view_count": null,
      "_view_module": "@jupyter-widgets/controls",
      "_view_module_version": "1.5.0",
      "_view_name": "HBoxView",
      "box_style": "",
      "children": [
       "IPY_MODEL_5fe9ed66ca3c4e93855cf2a8f942e5ac",
       "IPY_MODEL_478e335d4b794327839a1f3c1d3d22ff",
       "IPY_MODEL_68c13e195e3744d0a6c787bbaf5227a4"
      ],
      "layout": "IPY_MODEL_ca3535baad5244c48bb7f929612ea3fb"
     }
    },
    "c13cae46f5fb499188675bfb81f5a26e": {
     "model_module": "@jupyter-widgets/controls",
     "model_module_version": "1.5.0",
     "model_name": "FloatProgressModel",
     "state": {
      "_dom_classes": [],
      "_model_module": "@jupyter-widgets/controls",
      "_model_module_version": "1.5.0",
      "_model_name": "FloatProgressModel",
      "_view_count": null,
      "_view_module": "@jupyter-widgets/controls",
      "_view_module_version": "1.5.0",
      "_view_name": "ProgressView",
      "bar_style": "success",
      "description": "",
      "description_tooltip": null,
      "layout": "IPY_MODEL_bc7f3c31f5a24b1982a7afb05a5b34bb",
      "max": 336434116,
      "min": 0,
      "orientation": "horizontal",
      "style": "IPY_MODEL_b101a6e3ef69435fa97ef5ae811e21a6",
      "value": 336434116
     }
    },
    "c5103274fd004d38aa7f341f35250dac": {
     "model_module": "@jupyter-widgets/controls",
     "model_module_version": "1.5.0",
     "model_name": "ProgressStyleModel",
     "state": {
      "_model_module": "@jupyter-widgets/controls",
      "_model_module_version": "1.5.0",
      "_model_name": "ProgressStyleModel",
      "_view_count": null,
      "_view_module": "@jupyter-widgets/base",
      "_view_module_version": "1.2.0",
      "_view_name": "StyleView",
      "bar_color": null,
      "description_width": ""
     }
    },
    "ca3535baad5244c48bb7f929612ea3fb": {
     "model_module": "@jupyter-widgets/base",
     "model_module_version": "1.2.0",
     "model_name": "LayoutModel",
     "state": {
      "_model_module": "@jupyter-widgets/base",
      "_model_module_version": "1.2.0",
      "_model_name": "LayoutModel",
      "_view_count": null,
      "_view_module": "@jupyter-widgets/base",
      "_view_module_version": "1.2.0",
      "_view_name": "LayoutView",
      "align_content": null,
      "align_items": null,
      "align_self": null,
      "border": null,
      "bottom": null,
      "display": null,
      "flex": null,
      "flex_flow": null,
      "grid_area": null,
      "grid_auto_columns": null,
      "grid_auto_flow": null,
      "grid_auto_rows": null,
      "grid_column": null,
      "grid_gap": null,
      "grid_row": null,
      "grid_template_areas": null,
      "grid_template_columns": null,
      "grid_template_rows": null,
      "height": null,
      "justify_content": null,
      "justify_items": null,
      "left": null,
      "margin": null,
      "max_height": null,
      "max_width": null,
      "min_height": null,
      "min_width": null,
      "object_fit": null,
      "object_position": null,
      "order": null,
      "overflow": null,
      "overflow_x": null,
      "overflow_y": null,
      "padding": null,
      "right": null,
      "top": null,
      "visibility": null,
      "width": null
     }
    },
    "d45d4b8fd0164f1a8e6d13b75cae02c5": {
     "model_module": "@jupyter-widgets/controls",
     "model_module_version": "1.5.0",
     "model_name": "HTMLModel",
     "state": {
      "_dom_classes": [],
      "_model_module": "@jupyter-widgets/controls",
      "_model_module_version": "1.5.0",
      "_model_name": "HTMLModel",
      "_view_count": null,
      "_view_module": "@jupyter-widgets/controls",
      "_view_module_version": "1.5.0",
      "_view_name": "HTMLView",
      "description": "",
      "description_tooltip": null,
      "layout": "IPY_MODEL_a859a6ba08af4d84a41ee0234556f873",
      "placeholder": "​",
      "style": "IPY_MODEL_dcd7da213d3941709645441dfcfcd30f",
      "value": " 21.9M/21.9M [00:01&lt;00:00, 10.2MB/s]"
     }
    },
    "da0892b9d4d741a3be219e04ea92bb3d": {
     "model_module": "@jupyter-widgets/controls",
     "model_module_version": "1.5.0",
     "model_name": "DescriptionStyleModel",
     "state": {
      "_model_module": "@jupyter-widgets/controls",
      "_model_module_version": "1.5.0",
      "_model_name": "DescriptionStyleModel",
      "_view_count": null,
      "_view_module": "@jupyter-widgets/base",
      "_view_module_version": "1.2.0",
      "_view_name": "StyleView",
      "description_width": ""
     }
    },
    "dcd7da213d3941709645441dfcfcd30f": {
     "model_module": "@jupyter-widgets/controls",
     "model_module_version": "1.5.0",
     "model_name": "DescriptionStyleModel",
     "state": {
      "_model_module": "@jupyter-widgets/controls",
      "_model_module_version": "1.5.0",
      "_model_name": "DescriptionStyleModel",
      "_view_count": null,
      "_view_module": "@jupyter-widgets/base",
      "_view_module_version": "1.2.0",
      "_view_name": "StyleView",
      "description_width": ""
     }
    },
    "ea42af9bac03407aa9d74bf1c56879b2": {
     "model_module": "@jupyter-widgets/controls",
     "model_module_version": "1.5.0",
     "model_name": "HBoxModel",
     "state": {
      "_dom_classes": [],
      "_model_module": "@jupyter-widgets/controls",
      "_model_module_version": "1.5.0",
      "_model_name": "HBoxModel",
      "_view_count": null,
      "_view_module": "@jupyter-widgets/controls",
      "_view_module_version": "1.5.0",
      "_view_name": "HBoxView",
      "box_style": "",
      "children": [
       "IPY_MODEL_5a89096aed914492a6251f024b4e7684",
       "IPY_MODEL_c13cae46f5fb499188675bfb81f5a26e",
       "IPY_MODEL_98eb186482fe42778bb7b33415a14418"
      ],
      "layout": "IPY_MODEL_45613a02ad8b41698efa5a411d133ac7"
     }
    },
    "f056ad39de644a508de2652f45abc530": {
     "model_module": "@jupyter-widgets/base",
     "model_module_version": "1.2.0",
     "model_name": "LayoutModel",
     "state": {
      "_model_module": "@jupyter-widgets/base",
      "_model_module_version": "1.2.0",
      "_model_name": "LayoutModel",
      "_view_count": null,
      "_view_module": "@jupyter-widgets/base",
      "_view_module_version": "1.2.0",
      "_view_name": "LayoutView",
      "align_content": null,
      "align_items": null,
      "align_self": null,
      "border": null,
      "bottom": null,
      "display": null,
      "flex": null,
      "flex_flow": null,
      "grid_area": null,
      "grid_auto_columns": null,
      "grid_auto_flow": null,
      "grid_auto_rows": null,
      "grid_column": null,
      "grid_gap": null,
      "grid_row": null,
      "grid_template_areas": null,
      "grid_template_columns": null,
      "grid_template_rows": null,
      "height": null,
      "justify_content": null,
      "justify_items": null,
      "left": null,
      "margin": null,
      "max_height": null,
      "max_width": null,
      "min_height": null,
      "min_width": null,
      "object_fit": null,
      "object_position": null,
      "order": null,
      "overflow": null,
      "overflow_x": null,
      "overflow_y": null,
      "padding": null,
      "right": null,
      "top": null,
      "visibility": null,
      "width": null
     }
    },
    "f0a7b728d7904a6cb759678fdaef6675": {
     "model_module": "@jupyter-widgets/controls",
     "model_module_version": "1.5.0",
     "model_name": "DescriptionStyleModel",
     "state": {
      "_model_module": "@jupyter-widgets/controls",
      "_model_module_version": "1.5.0",
      "_model_name": "DescriptionStyleModel",
      "_view_count": null,
      "_view_module": "@jupyter-widgets/base",
      "_view_module_version": "1.2.0",
      "_view_name": "StyleView",
      "description_width": ""
     }
    }
   }
  }
 },
 "nbformat": 4,
 "nbformat_minor": 4
}
