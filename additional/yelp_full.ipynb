{
 "cells": [
  {
   "cell_type": "code",
   "execution_count": 1,
   "metadata": {
    "executionInfo": {
     "elapsed": 3745,
     "status": "ok",
     "timestamp": 1712287216360,
     "user": {
      "displayName": "Mengtong Shi",
      "userId": "17422019785472594156"
     },
     "user_tz": 240
    },
    "id": "liJAi1YoQQrg"
   },
   "outputs": [],
   "source": [
    "import fasttext\n",
    "import pandas as pd\n",
    "from datasets import load_dataset\n",
    "from sklearn.metrics import accuracy_score"
   ]
  },
  {
   "cell_type": "code",
   "execution_count": 2,
   "metadata": {
    "colab": {
     "base_uri": "https://localhost:8080/",
     "height": 475,
     "referenced_widgets": [
      "ecfd4e92155848099c5faf0e486a128f",
      "a3e8bd4d2f7d4785bf8a5f29615e8cce",
      "2f9b7554501d475b9b3d0c8683fe6afa",
      "e51e52e1a2e14ef981a9f77ca74eccf3",
      "fda4647626854b3dba27ce85d7f81d59",
      "eb619cf1c3c943d7b41c9a22f409bd4a",
      "952287487f844e9eac0e02097bcaaa55",
      "851db213e2004ca399f36123163b9afb",
      "17006b0d79a7463eb1c6fc5a37a9dcab",
      "227c3a65205047bf97babdf6686cf318",
      "244caedac51a47d3b7f551c9cf20c45b",
      "38499952fcf84b74965bd0827c053b01",
      "05c694187def4cd4871d20d278911a3e",
      "e7dc48e60302467d85efecfdf68fee86",
      "32096996b1f54fcfb3c309cf5cee63a8",
      "cdbaa4b61a0740b48c3c3931647bd77d",
      "35b022b7f4064d0c93d336b2dceb662a",
      "ed5fb5584ab24755aef84cb4c31599c2",
      "a12f9b36a3ad49f7b901eb74682662ae",
      "82dfddf36d494a9e9b41885f23de2201",
      "e69412998fb74231b5d3f01a7fe9f3eb",
      "46dac1c2fa50465f9bae4967057c82a3",
      "6f448a3c35e7495388e9bc258924029e",
      "ed89b115fbac49f1bcdb9021c02be5a3",
      "4f22bb20596a4d8ca7b7aaa6f4c859d9",
      "f947004547824c019851bd6354241312",
      "7566e72855004fe58014ce06438cca7a",
      "a7ce21db39f445b99112f161da6cec76",
      "f247d525d77345f7bbc36e578eafeba6",
      "8aba062e761147cf818c94a4566b98ac",
      "f915a666e30f4fee9d5ad747436042b2",
      "dbf6ab331e4642209c89b30afab0f8e4",
      "98bed2baede64eceafbfbcae4c156952",
      "8b2c1a9dfff7427d9c603f4a68a0413c",
      "8844de40708442da93b66cd62dba1e0f",
      "777b738c692f41769ac250afa36aa1a8",
      "97f4f8e208944e0fb7bb3215bc15d27f",
      "46295c6aaebd4613a54fabe458404a09",
      "63a2ac4f35e74fe28b5404404af4daa1",
      "7af6b0da78cb4ecfaf4eca9d3afd2262",
      "4560200eb05f4305951d1877775d34c5",
      "fbf372cf8fa44643ad796cf5ca7367d5",
      "389740c0308d4ab8a06af3fc527d363e",
      "301a4a771bce45fd8e74b4b4b133867e",
      "87f44bd979d348acbdb363cba7bd54e7",
      "d9a55c2980654cecb6c25fb75f81823f",
      "f9b9f1b206bd4265ac119bd8e52ee822",
      "59df381b5d04471da3bc76051d109896",
      "c1fa1588675642a9a16fe58b537b5405",
      "0c3a16e5084b47dcab6d9b9513914c9f",
      "ef23077b8ded4bf78d04bd075b05af4c",
      "fc881dcf129248778654750d3eae33b9",
      "68518500992843aa98fa8588aca9ef3f",
      "714e48502323455796824ef731a0274b",
      "ab4a849ca0d74bfaaec4cf8bff532351"
     ]
    },
    "executionInfo": {
     "elapsed": 19988,
     "status": "ok",
     "timestamp": 1712287236339,
     "user": {
      "displayName": "Mengtong Shi",
      "userId": "17422019785472594156"
     },
     "user_tz": 240
    },
    "id": "rawbEYfEQSdj",
    "outputId": "26094d44-c040-44e0-8860-b39ccc1ea087"
   },
   "outputs": [
    {
     "name": "stdout",
     "output_type": "stream",
     "text": [
      "DatasetDict({\n",
      "    train: Dataset({\n",
      "        features: ['label', 'text'],\n",
      "        num_rows: 650000\n",
      "    })\n",
      "    test: Dataset({\n",
      "        features: ['label', 'text'],\n",
      "        num_rows: 50000\n",
      "    })\n",
      "})\n"
     ]
    }
   ],
   "source": [
    "yelp_full = load_dataset(\"yelp_review_full\")\n",
    "print(yelp_full)"
   ]
  },
  {
   "cell_type": "code",
   "execution_count": 3,
   "metadata": {
    "colab": {
     "base_uri": "https://localhost:8080/"
    },
    "executionInfo": {
     "elapsed": 1986,
     "status": "ok",
     "timestamp": 1712287238321,
     "user": {
      "displayName": "Mengtong Shi",
      "userId": "17422019785472594156"
     },
     "user_tz": 240
    },
    "id": "o4QElesVQbEe",
    "outputId": "14b6265f-d7d2-40a1-c810-dd469f177825"
   },
   "outputs": [
    {
     "name": "stdout",
     "output_type": "stream",
     "text": [
      "<class 'list'>\n",
      "<class 'str'>\n",
      "dr. goldberg offers everything i look for in a general practitioner.  he's nice and easy to talk to without being patronizing; he's always on time in seeing his patients; he's affiliated with a top-notch hospital (nyu) which my parents have explained to me is very important in case something happens and you need surgery; and you can get referrals to see specialists without having to see him first.  really, what more do you need?  i'm sitting here trying to think of any complaints i have about him, but i'm really drawing a blank.\n",
      "<class 'list'>\n",
      "<class 'int'>\n",
      "4\n"
     ]
    }
   ],
   "source": [
    "print(type(yelp_full['train']['text']))\n",
    "print(type(yelp_full['train']['text'][0]))\n",
    "print(yelp_full['train']['text'][0])\n",
    "print(type(yelp_full['train']['label']))\n",
    "print(type(yelp_full['train']['label'][0]))\n",
    "print(yelp_full['train']['label'][0])"
   ]
  },
  {
   "cell_type": "code",
   "execution_count": 4,
   "metadata": {},
   "outputs": [
    {
     "name": "stdout",
     "output_type": "stream",
     "text": [
      "<class 'list'>\n",
      "<class 'str'>\n",
      "I got 'new' tires from them and within two weeks got a flat. I took my car to a local mechanic to see if i could get the hole patched, but they said the reason I had a flat was because the previous patch had blown - WAIT, WHAT? I just got the tire and never needed to have it patched? This was supposed to be a new tire. \\nI took the tire over to Flynn's and they told me that someone punctured my tire, then tried to patch it. So there are resentful tire slashers? I find that very unlikely. After arguing with the guy and telling him that his logic was far fetched he said he'd give me a new tire \\\"this time\\\". \\nI will never go back to Flynn's b/c of the way this guy treated me and the simple fact that they gave me a used tire!\n",
      "<class 'list'>\n",
      "<class 'int'>\n",
      "0\n"
     ]
    }
   ],
   "source": [
    "print(type(yelp_full['test']['text']))\n",
    "print(type(yelp_full['test']['text'][0]))\n",
    "print(yelp_full['test']['text'][0])\n",
    "print(type(yelp_full['test']['label']))\n",
    "print(type(yelp_full['test']['label'][0]))\n",
    "print(yelp_full['test']['label'][0])"
   ]
  },
  {
   "cell_type": "code",
   "execution_count": 5,
   "metadata": {
    "executionInfo": {
     "elapsed": 7,
     "status": "ok",
     "timestamp": 1712287238322,
     "user": {
      "displayName": "Mengtong Shi",
      "userId": "17422019785472594156"
     },
     "user_tz": 240
    },
    "id": "d9xoW0fyQgnh"
   },
   "outputs": [],
   "source": [
    "def print_results(N, p, r):\n",
    "    print(\"N\\t\" + str(N))\n",
    "    print(\"P@{}\\t{:.3f}\".format(1, p))\n",
    "    print(\"R@{}\\t{:.3f}\".format(1, r))"
   ]
  },
  {
   "cell_type": "code",
   "execution_count": 6,
   "metadata": {
    "executionInfo": {
     "elapsed": 5,
     "status": "ok",
     "timestamp": 1712287238322,
     "user": {
      "displayName": "Mengtong Shi",
      "userId": "17422019785472594156"
     },
     "user_tz": 240
    },
    "id": "Kd2-4yEnNuhJ"
   },
   "outputs": [],
   "source": [
    "dataset = yelp_full"
   ]
  },
  {
   "cell_type": "code",
   "execution_count": 7,
   "metadata": {
    "executionInfo": {
     "elapsed": 213996,
     "status": "ok",
     "timestamp": 1712287452314,
     "user": {
      "displayName": "Mengtong Shi",
      "userId": "17422019785472594156"
     },
     "user_tz": 240
    },
    "id": "NFrBZc32NxGO"
   },
   "outputs": [],
   "source": [
    "train_texts = dataset['train']['text']\n",
    "train_labels = dataset['train']['label']\n",
    "\n",
    "with open(\"train.txt\", \"w\") as f:\n",
    "    for text, label in zip(train_texts, train_labels):\n",
    "        f.write(f\"__label__{label} {text}\\n\")"
   ]
  },
  {
   "cell_type": "code",
   "execution_count": 8,
   "metadata": {
    "colab": {
     "base_uri": "https://localhost:8080/"
    },
    "executionInfo": {
     "elapsed": 2442,
     "status": "ok",
     "timestamp": 1712287454749,
     "user": {
      "displayName": "Mengtong Shi",
      "userId": "17422019785472594156"
     },
     "user_tz": 240
    },
    "id": "0QijH7MIQo15",
    "outputId": "2624b642-0e04-4600-826f-617cb7b48cf2"
   },
   "outputs": [],
   "source": [
    "test_texts = dataset['test']['text']\n",
    "test_labels = dataset['test']['label']\n",
    "\n",
    "with open(\"test.txt\", \"w\") as f:\n",
    "    for text, label in zip(test_texts, test_labels):\n",
    "        f.write(f\"__label__{label} {text}\\n\")"
   ]
  },
  {
   "cell_type": "code",
   "execution_count": 9,
   "metadata": {
    "colab": {
     "base_uri": "https://localhost:8080/"
    },
    "executionInfo": {
     "elapsed": 3502,
     "status": "ok",
     "timestamp": 1712287458246,
     "user": {
      "displayName": "Mengtong Shi",
      "userId": "17422019785472594156"
     },
     "user_tz": 240
    },
    "id": "08BHEXltQtNr",
    "outputId": "2e9aeda8-39d6-4d71-e22b-d4624c43f2a7"
   },
   "outputs": [
    {
     "name": "stdout",
     "output_type": "stream",
     "text": [
      "Training model with lr=0.05, dim=5, epoch=5, and wordNgrams=2\n"
     ]
    },
    {
     "name": "stderr",
     "output_type": "stream",
     "text": [
      "Read 88M words\n",
      "Number of words:  1622077\n",
      "Number of labels: 5\n",
      "Progress: 100.0% words/sec/thread: 1468902 lr:  0.000000 avg.loss:  0.921578 ETA:   0h 0m 0s\n"
     ]
    },
    {
     "name": "stdout",
     "output_type": "stream",
     "text": [
      "N\t50000\n",
      "P@1\t0.621\n",
      "R@1\t0.621\n",
      "\n",
      "Training model with lr=0.05, dim=5, epoch=10, and wordNgrams=2\n"
     ]
    },
    {
     "name": "stderr",
     "output_type": "stream",
     "text": [
      "Read 88M words\n",
      "Number of words:  1622077\n",
      "Number of labels: 5\n",
      "Progress: 100.0% words/sec/thread:  743711 lr:  0.000000 avg.loss:  0.740258 ETA:   0h 0m 0s\n"
     ]
    },
    {
     "name": "stdout",
     "output_type": "stream",
     "text": [
      "N\t50000\n",
      "P@1\t0.622\n",
      "R@1\t0.622\n",
      "\n",
      "Training model with lr=0.05, dim=5, epoch=15, and wordNgrams=2\n"
     ]
    },
    {
     "name": "stderr",
     "output_type": "stream",
     "text": [
      "Read 88M words\n",
      "Number of words:  1622077\n",
      "Number of labels: 5\n",
      "Progress: 100.0% words/sec/thread:  945711 lr:  0.000000 avg.loss:  0.593964 ETA:   0h 0m 0s 88.7% words/sec/thread:  898665 lr:  0.005647 avg.loss:  0.633131 ETA:   0h 0m23s\n"
     ]
    },
    {
     "name": "stdout",
     "output_type": "stream",
     "text": [
      "N\t50000\n",
      "P@1\t0.611\n",
      "R@1\t0.611\n",
      "\n",
      "Training model with lr=0.05, dim=5, epoch=5, and wordNgrams=3\n"
     ]
    },
    {
     "name": "stderr",
     "output_type": "stream",
     "text": [
      "Read 88M words words\n",
      "Number of words:  1622077\n",
      "Number of labels: 5\n",
      "Progress: 100.0% words/sec/thread:  783199 lr:  0.000000 avg.loss:  0.909853 ETA:   0h 0m 0s\n"
     ]
    },
    {
     "name": "stdout",
     "output_type": "stream",
     "text": [
      "N\t50000\n",
      "P@1\t0.621\n",
      "R@1\t0.621\n",
      "\n",
      "Training model with lr=0.05, dim=5, epoch=10, and wordNgrams=3\n"
     ]
    },
    {
     "name": "stderr",
     "output_type": "stream",
     "text": [
      "Read 88M words\n",
      "Number of words:  1622077\n",
      "Number of labels: 5\n",
      "Progress: 100.0% words/sec/thread:  909533 lr:  0.000000 avg.loss:  0.684353 ETA:   0h 0m 0s\n"
     ]
    },
    {
     "name": "stdout",
     "output_type": "stream",
     "text": [
      "N\t50000\n",
      "P@1\t0.623\n",
      "R@1\t0.623\n",
      "\n",
      "Training model with lr=0.05, dim=5, epoch=15, and wordNgrams=3\n"
     ]
    },
    {
     "name": "stderr",
     "output_type": "stream",
     "text": [
      "Read 88M words\n",
      "Number of words:  1622077\n",
      "Number of labels: 5\n",
      "Progress: 100.0% words/sec/thread:  488268 lr:  0.000000 avg.loss:  0.498598 ETA:   0h 0m 0sh 1m14s\n"
     ]
    },
    {
     "name": "stdout",
     "output_type": "stream",
     "text": [
      "N\t50000\n",
      "P@1\t0.617\n",
      "R@1\t0.617\n",
      "\n",
      "Training model with lr=0.05, dim=5, epoch=5, and wordNgrams=4\n"
     ]
    },
    {
     "name": "stderr",
     "output_type": "stream",
     "text": [
      "Read 88M words\n",
      "Number of words:  1622077\n",
      "Number of labels: 5\n",
      "Progress: 100.0% words/sec/thread: 1401910 lr:  0.000000 avg.loss:  0.932773 ETA:   0h 0m 0s 31.2% words/sec/thread: 1637699 lr:  0.034405 avg.loss:  1.144545 ETA:   0h 0m26s\n"
     ]
    },
    {
     "name": "stdout",
     "output_type": "stream",
     "text": [
      "N\t50000\n",
      "P@1\t0.615\n",
      "R@1\t0.615\n",
      "\n",
      "Training model with lr=0.05, dim=5, epoch=10, and wordNgrams=4\n"
     ]
    },
    {
     "name": "stderr",
     "output_type": "stream",
     "text": [
      "Read 88M words\n",
      "Number of words:  1622077\n",
      "Number of labels: 5\n",
      "Progress: 100.0% words/sec/thread:  367224 lr:  0.000000 avg.loss:  0.689765 ETA:   0h 0m 0s 73.1% words/sec/thread:  373463 lr:  0.013471 avg.loss:  0.784563 ETA:   0h 1m31s\n"
     ]
    },
    {
     "name": "stdout",
     "output_type": "stream",
     "text": [
      "N\t50000\n",
      "P@1\t0.619\n",
      "R@1\t0.619\n",
      "\n",
      "Training model with lr=0.05, dim=5, epoch=15, and wordNgrams=4\n"
     ]
    },
    {
     "name": "stderr",
     "output_type": "stream",
     "text": [
      "Read 88M words\n",
      "Number of words:  1622077\n",
      "Number of labels: 5\n",
      "Progress: 100.0% words/sec/thread:  723575 lr:  0.000000 avg.loss:  0.497593 ETA:   0h 0m 0s 17.6% words/sec/thread:  496712 lr:  0.041212 avg.loss:  1.050613 ETA:   0h 5m14s\n"
     ]
    },
    {
     "name": "stdout",
     "output_type": "stream",
     "text": [
      "N\t50000\n",
      "P@1\t0.614\n",
      "R@1\t0.614\n",
      "\n",
      "Training model with lr=0.05, dim=5, epoch=5, and wordNgrams=5\n"
     ]
    },
    {
     "name": "stderr",
     "output_type": "stream",
     "text": [
      "Read 88M words\n",
      "Number of words:  1622077\n",
      "Number of labels: 5\n",
      "Progress: 100.0% words/sec/thread:  324219 lr:  0.000000 avg.loss:  0.955192 ETA:   0h 0m 0s 55.7% words/sec/thread:  287716 lr:  0.022131 avg.loss:  1.074821 ETA:   0h 1m37s\n"
     ]
    },
    {
     "name": "stdout",
     "output_type": "stream",
     "text": [
      "N\t50000\n",
      "P@1\t0.609\n",
      "R@1\t0.609\n",
      "\n",
      "Training model with lr=0.05, dim=5, epoch=10, and wordNgrams=5\n"
     ]
    },
    {
     "name": "stderr",
     "output_type": "stream",
     "text": [
      "Read 88M words\n",
      "Number of words:  1622077\n",
      "Number of labels: 5\n",
      "Progress: 100.0% words/sec/thread:  497980 lr: -0.000000 avg.loss:  0.706002 ETA:   0h 0m 0s 27.1% words/sec/thread:  519453 lr:  0.036473 avg.loss:  1.078572 ETA:   0h 2m57s 0.000000 avg.loss:  0.706002 ETA:   0h 0m 0s\n"
     ]
    },
    {
     "name": "stdout",
     "output_type": "stream",
     "text": [
      "N\t50000\n",
      "P@1\t0.617\n",
      "R@1\t0.617\n",
      "\n",
      "Training model with lr=0.05, dim=5, epoch=15, and wordNgrams=5\n"
     ]
    },
    {
     "name": "stderr",
     "output_type": "stream",
     "text": [
      "Read 88M words\n",
      "Number of words:  1622077\n",
      "Number of labels: 5\n",
      "Progress: 100.0% words/sec/thread:  543608 lr:  0.000000 avg.loss:  0.509538 ETA:   0h 0m 0s-0.000000 avg.loss:  0.509538 ETA:   0h 0m 0s\n"
     ]
    },
    {
     "name": "stdout",
     "output_type": "stream",
     "text": [
      "N\t50000\n",
      "P@1\t0.612\n",
      "R@1\t0.612\n",
      "\n",
      "Training model with lr=0.05, dim=10, epoch=5, and wordNgrams=2\n"
     ]
    },
    {
     "name": "stderr",
     "output_type": "stream",
     "text": [
      "Read 88M words\n",
      "Number of words:  1622077\n",
      "Number of labels: 5\n",
      "Progress: 100.0% words/sec/thread:  666347 lr:  0.000000 avg.loss:  0.909920 ETA:   0h 0m 0s\n"
     ]
    },
    {
     "name": "stdout",
     "output_type": "stream",
     "text": [
      "N\t50000\n",
      "P@1\t0.625\n",
      "R@1\t0.625\n",
      "\n",
      "Training model with lr=0.05, dim=10, epoch=10, and wordNgrams=2\n"
     ]
    },
    {
     "name": "stderr",
     "output_type": "stream",
     "text": [
      "Read 88M words\n",
      "Number of words:  1622077\n",
      "Number of labels: 5\n",
      "Progress: 100.0% words/sec/thread:  517323 lr:  0.000000 avg.loss:  0.726987 ETA:   0h 0m 0s\n"
     ]
    },
    {
     "name": "stdout",
     "output_type": "stream",
     "text": [
      "N\t50000\n",
      "P@1\t0.621\n",
      "R@1\t0.621\n",
      "\n",
      "Training model with lr=0.05, dim=10, epoch=15, and wordNgrams=2\n"
     ]
    },
    {
     "name": "stderr",
     "output_type": "stream",
     "text": [
      "Read 88M words\n",
      "Number of words:  1622077\n",
      "Number of labels: 5\n",
      "Progress: 100.0% words/sec/thread: 1080455 lr:  0.000000 avg.loss:  0.579704 ETA:   0h 0m 0s\n"
     ]
    },
    {
     "name": "stdout",
     "output_type": "stream",
     "text": [
      "N\t50000\n",
      "P@1\t0.612\n",
      "R@1\t0.612\n",
      "\n",
      "Training model with lr=0.05, dim=10, epoch=5, and wordNgrams=3\n"
     ]
    },
    {
     "name": "stderr",
     "output_type": "stream",
     "text": [
      "Read 88M words\n",
      "Number of words:  1622077\n",
      "Number of labels: 5\n",
      "Progress: 100.0% words/sec/thread:  536065 lr:  0.000000 avg.loss:  0.902276 ETA:   0h 0m 0s46s\n"
     ]
    },
    {
     "name": "stdout",
     "output_type": "stream",
     "text": [
      "N\t50000\n",
      "P@1\t0.623\n",
      "R@1\t0.623\n",
      "\n",
      "Training model with lr=0.05, dim=10, epoch=10, and wordNgrams=3\n"
     ]
    },
    {
     "name": "stderr",
     "output_type": "stream",
     "text": [
      "Read 88M words\n",
      "Number of words:  1622077\n",
      "Number of labels: 5\n",
      "Progress: 100.0% words/sec/thread:  560529 lr:  0.000000 avg.loss:  0.665648 ETA:   0h 0m 0s\n"
     ]
    },
    {
     "name": "stdout",
     "output_type": "stream",
     "text": [
      "N\t50000\n",
      "P@1\t0.624\n",
      "R@1\t0.624\n",
      "\n",
      "Training model with lr=0.05, dim=10, epoch=15, and wordNgrams=3\n"
     ]
    },
    {
     "name": "stderr",
     "output_type": "stream",
     "text": [
      "Read 88M words\n",
      "Number of words:  1622077\n",
      "Number of labels: 5\n",
      "Progress: 100.0% words/sec/thread:  614176 lr:  0.000000 avg.loss:  0.480674 ETA:   0h 0m 0s\n"
     ]
    },
    {
     "name": "stdout",
     "output_type": "stream",
     "text": [
      "N\t50000\n",
      "P@1\t0.617\n",
      "R@1\t0.617\n",
      "\n",
      "Training model with lr=0.05, dim=10, epoch=5, and wordNgrams=4\n"
     ]
    },
    {
     "name": "stderr",
     "output_type": "stream",
     "text": [
      "Read 88M words\n",
      "Number of words:  1622077\n",
      "Number of labels: 5\n",
      "Progress: 100.0% words/sec/thread:  302723 lr:  0.000000 avg.loss:  0.925798 ETA:   0h 0m 0s 0.033116 avg.loss:  1.127767 ETA:   0h 2m 2s\n"
     ]
    },
    {
     "name": "stdout",
     "output_type": "stream",
     "text": [
      "N\t50000\n",
      "P@1\t0.616\n",
      "R@1\t0.616\n",
      "\n",
      "Training model with lr=0.05, dim=10, epoch=10, and wordNgrams=4\n"
     ]
    },
    {
     "name": "stderr",
     "output_type": "stream",
     "text": [
      "Read 88M words\n",
      "Number of words:  1622077\n",
      "Number of labels: 5\n",
      "Progress: 100.0% words/sec/thread:  354429 lr:  0.000000 avg.loss:  0.670129 ETA:   0h 0m 0s 77.2% words/sec/thread:  354167 lr:  0.011418 avg.loss:  0.742286 ETA:   0h 1m21s\n"
     ]
    },
    {
     "name": "stdout",
     "output_type": "stream",
     "text": [
      "N\t50000\n",
      "P@1\t0.622\n",
      "R@1\t0.622\n",
      "\n",
      "Training model with lr=0.05, dim=10, epoch=15, and wordNgrams=4\n"
     ]
    },
    {
     "name": "stderr",
     "output_type": "stream",
     "text": [
      "Read 88M words\n",
      "Number of words:  1622077\n",
      "Number of labels: 5\n",
      "Progress: 100.0% words/sec/thread:  480601 lr:  0.000000 avg.loss:  0.473862 ETA:   0h 0m 0s\n"
     ]
    },
    {
     "name": "stdout",
     "output_type": "stream",
     "text": [
      "N\t50000\n",
      "P@1\t0.615\n",
      "R@1\t0.615\n",
      "\n",
      "Training model with lr=0.05, dim=10, epoch=5, and wordNgrams=5\n"
     ]
    },
    {
     "name": "stderr",
     "output_type": "stream",
     "text": [
      "Read 88M words\n",
      "Number of words:  1622077\n",
      "Number of labels: 5\n",
      "Progress: 100.0% words/sec/thread:  350289 lr:  0.000000 avg.loss:  0.955523 ETA:   0h 0m 0s\n"
     ]
    },
    {
     "name": "stdout",
     "output_type": "stream",
     "text": [
      "N\t50000\n",
      "P@1\t0.610\n",
      "R@1\t0.610\n",
      "\n",
      "Training model with lr=0.05, dim=10, epoch=10, and wordNgrams=5\n"
     ]
    },
    {
     "name": "stderr",
     "output_type": "stream",
     "text": [
      "Read 88M words\n",
      "Number of words:  1622077\n",
      "Number of labels: 5\n",
      "Progress: 100.0% words/sec/thread:  321168 lr:  0.000000 avg.loss:  0.694163 ETA:   0h 0m 0s\n"
     ]
    },
    {
     "name": "stdout",
     "output_type": "stream",
     "text": [
      "N\t50000\n",
      "P@1\t0.620\n",
      "R@1\t0.620\n",
      "\n",
      "Training model with lr=0.05, dim=10, epoch=15, and wordNgrams=5\n"
     ]
    },
    {
     "name": "stderr",
     "output_type": "stream",
     "text": [
      "Read 88M words\n",
      "Number of words:  1622077\n",
      "Number of labels: 5\n",
      "Progress: 100.0% words/sec/thread:  346359 lr:  0.000000 avg.loss:  0.503588 ETA:   0h 0m 0s\n"
     ]
    },
    {
     "name": "stdout",
     "output_type": "stream",
     "text": [
      "N\t50000\n",
      "P@1\t0.615\n",
      "R@1\t0.615\n",
      "\n",
      "Training model with lr=0.05, dim=25, epoch=5, and wordNgrams=2\n"
     ]
    },
    {
     "name": "stderr",
     "output_type": "stream",
     "text": [
      "Read 88M words\n",
      "Number of words:  1622077\n",
      "Number of labels: 5\n",
      "Progress: 100.0% words/sec/thread:  623388 lr:  0.000000 avg.loss:  0.904371 ETA:   0h 0m 0s\n"
     ]
    },
    {
     "name": "stdout",
     "output_type": "stream",
     "text": [
      "N\t50000\n",
      "P@1\t0.624\n",
      "R@1\t0.624\n",
      "\n",
      "Training model with lr=0.05, dim=25, epoch=10, and wordNgrams=2\n"
     ]
    },
    {
     "name": "stderr",
     "output_type": "stream",
     "text": [
      "Read 88M words\n",
      "Number of words:  1622077\n",
      "Number of labels: 5\n",
      "Progress: 100.0% words/sec/thread:  604219 lr:  0.000000 avg.loss:  0.725636 ETA:   0h 0m 0s\n"
     ]
    },
    {
     "name": "stdout",
     "output_type": "stream",
     "text": [
      "N\t50000\n",
      "P@1\t0.621\n",
      "R@1\t0.621\n",
      "\n",
      "Training model with lr=0.05, dim=25, epoch=15, and wordNgrams=2\n"
     ]
    },
    {
     "name": "stderr",
     "output_type": "stream",
     "text": [
      "Read 88M words\n",
      "Number of words:  1622077\n",
      "Number of labels: 5\n",
      "Progress: 100.0% words/sec/thread:  598400 lr:  0.000000 avg.loss:  0.576434 ETA:   0h 0m 0s477156 lr:  0.037260 avg.loss:  0.943705 ETA:   0h 4m56s\n"
     ]
    },
    {
     "name": "stdout",
     "output_type": "stream",
     "text": [
      "N\t50000\n",
      "P@1\t0.612\n",
      "R@1\t0.612\n",
      "\n",
      "Training model with lr=0.05, dim=25, epoch=5, and wordNgrams=3\n"
     ]
    },
    {
     "name": "stderr",
     "output_type": "stream",
     "text": [
      "Read 88M words\n",
      "Number of words:  1622077\n",
      "Number of labels: 5\n",
      "Progress: 100.0% words/sec/thread:  332232 lr:  0.000000 avg.loss:  0.904198 ETA:   0h 0m 0s 49.1% words/sec/thread:  370858 lr:  0.025441 avg.loss:  1.045058 ETA:   0h 1m26s\n"
     ]
    },
    {
     "name": "stdout",
     "output_type": "stream",
     "text": [
      "N\t50000\n",
      "P@1\t0.623\n",
      "R@1\t0.623\n",
      "\n",
      "Training model with lr=0.05, dim=25, epoch=10, and wordNgrams=3\n"
     ]
    },
    {
     "name": "stderr",
     "output_type": "stream",
     "text": [
      "Read 88M words\n",
      "Number of words:  1622077\n",
      "Number of labels: 5\n",
      "Progress: 100.0% words/sec/thread:  282924 lr:  0.000000 avg.loss:  0.668187 ETA:   0h 0m 0s\n"
     ]
    },
    {
     "name": "stdout",
     "output_type": "stream",
     "text": [
      "N\t50000\n",
      "P@1\t0.624\n",
      "R@1\t0.624\n",
      "\n",
      "Training model with lr=0.05, dim=25, epoch=15, and wordNgrams=3\n"
     ]
    },
    {
     "name": "stderr",
     "output_type": "stream",
     "text": [
      "Read 88M words\n",
      "Number of words:  1622077\n",
      "Number of labels: 5\n",
      "Progress: 100.0% words/sec/thread:  530796 lr:  0.000000 avg.loss:  0.481656 ETA:   0h 0m 0s\n"
     ]
    },
    {
     "name": "stdout",
     "output_type": "stream",
     "text": [
      "N\t50000\n",
      "P@1\t0.618\n",
      "R@1\t0.618\n",
      "\n",
      "Training model with lr=0.05, dim=25, epoch=5, and wordNgrams=4\n"
     ]
    },
    {
     "name": "stderr",
     "output_type": "stream",
     "text": [
      "Read 88M words\n",
      "Number of words:  1622077\n",
      "Number of labels: 5\n",
      "Progress: 100.0% words/sec/thread:  726476 lr:  0.000000 avg.loss:  0.893353 ETA:   0h 0m 0s\n",
      "Read 1M words"
     ]
    },
    {
     "name": "stdout",
     "output_type": "stream",
     "text": [
      "N\t50000\n",
      "P@1\t0.616\n",
      "R@1\t0.616\n",
      "\n",
      "Training model with lr=0.05, dim=25, epoch=10, and wordNgrams=4\n"
     ]
    },
    {
     "name": "stderr",
     "output_type": "stream",
     "text": [
      "Read 88M words\n",
      "Number of words:  1622077\n",
      "Number of labels: 5\n",
      "Progress: 100.0% words/sec/thread:  282866 lr:  0.000000 avg.loss:  0.693664 ETA:   0h 0m 0s 92.2% words/sec/thread:  286369 lr:  0.003906 avg.loss:  0.718727 ETA:   0h 0m34s\n"
     ]
    },
    {
     "name": "stdout",
     "output_type": "stream",
     "text": [
      "N\t50000\n",
      "P@1\t0.623\n",
      "R@1\t0.623\n",
      "\n",
      "Training model with lr=0.05, dim=25, epoch=15, and wordNgrams=4\n"
     ]
    },
    {
     "name": "stderr",
     "output_type": "stream",
     "text": [
      "Read 88M words\n",
      "Number of words:  1622077\n",
      "Number of labels: 5\n",
      "Progress: 100.0% words/sec/thread:  301753 lr:  0.000000 avg.loss:  0.479535 ETA:   0h 0m 0s 21.9% words/sec/thread:  403961 lr:  0.039036 avg.loss:  0.997108 ETA:   0h 6m 6s 26.0% words/sec/thread:  424063 lr:  0.037014 avg.loss:  0.954599 ETA:   0h 5m30s 26.0% words/sec/thread:  424415 lr:  0.036980 avg.loss:  0.954156 ETA:   0h 5m30s\n"
     ]
    },
    {
     "name": "stdout",
     "output_type": "stream",
     "text": [
      "N\t50000\n",
      "P@1\t0.618\n",
      "R@1\t0.618\n",
      "\n",
      "Training model with lr=0.05, dim=25, epoch=5, and wordNgrams=5\n"
     ]
    },
    {
     "name": "stderr",
     "output_type": "stream",
     "text": [
      "Read 88M words\n",
      "Number of words:  1622077\n",
      "Number of labels: 5\n",
      "Progress: 100.0% words/sec/thread:  250141 lr:  0.000000 avg.loss:  0.986107 ETA:   0h 0m 0s  0h 0m 0s\n"
     ]
    },
    {
     "name": "stdout",
     "output_type": "stream",
     "text": [
      "N\t50000\n",
      "P@1\t0.610\n",
      "R@1\t0.610\n",
      "\n",
      "Training model with lr=0.05, dim=25, epoch=10, and wordNgrams=5\n"
     ]
    },
    {
     "name": "stderr",
     "output_type": "stream",
     "text": [
      "Read 88M words\n",
      "Number of words:  1622077\n",
      "Number of labels: 5\n",
      "Progress: 100.0% words/sec/thread:  284181 lr:  0.000000 avg.loss:  0.682851 ETA:   0h 0m 0s\n"
     ]
    },
    {
     "name": "stdout",
     "output_type": "stream",
     "text": [
      "N\t50000\n",
      "P@1\t0.621\n",
      "R@1\t0.621\n",
      "\n",
      "Training model with lr=0.05, dim=25, epoch=15, and wordNgrams=5\n"
     ]
    },
    {
     "name": "stderr",
     "output_type": "stream",
     "text": [
      "Read 88M words\n",
      "Number of words:  1622077\n",
      "Number of labels: 5\n",
      "Progress: 100.0% words/sec/thread:  328576 lr:  0.000000 avg.loss:  0.513317 ETA:   0h 0m 0s lr:  0.039073 avg.loss:  1.070013 ETA:   0h 6m39s 37.4% words/sec/thread:  370574 lr:  0.031300 avg.loss:  0.894729 ETA:   0h 5m20s 333010 lr:  0.005305 avg.loss:  0.554418 ETA:   0h 1m 0s\n"
     ]
    },
    {
     "name": "stdout",
     "output_type": "stream",
     "text": [
      "N\t50000\n",
      "P@1\t0.617\n",
      "R@1\t0.617\n",
      "\n",
      "Training model with lr=0.1, dim=5, epoch=5, and wordNgrams=2\n"
     ]
    },
    {
     "name": "stderr",
     "output_type": "stream",
     "text": [
      "Read 88M words\n",
      "Number of words:  1622077\n",
      "Number of labels: 5\n",
      "Progress: 100.0% words/sec/thread: 1502851 lr: -0.000000 avg.loss:  0.841176 ETA:   0h 0m 0s100.0% words/sec/thread: 1502818 lr:  0.000000 avg.loss:  0.841176 ETA:   0h 0m 0s\n"
     ]
    },
    {
     "name": "stdout",
     "output_type": "stream",
     "text": [
      "N\t50000\n",
      "P@1\t0.623\n",
      "R@1\t0.623\n",
      "\n",
      "Training model with lr=0.1, dim=5, epoch=10, and wordNgrams=2\n"
     ]
    },
    {
     "name": "stderr",
     "output_type": "stream",
     "text": [
      "Read 88M words\n",
      "Number of words:  1622077\n",
      "Number of labels: 5\n",
      "Progress: 100.0% words/sec/thread: 1425204 lr:  0.000000 avg.loss:  0.633546 ETA:   0h 0m 0s\n"
     ]
    },
    {
     "name": "stdout",
     "output_type": "stream",
     "text": [
      "N\t50000\n",
      "P@1\t0.612\n",
      "R@1\t0.612\n",
      "\n",
      "Training model with lr=0.1, dim=5, epoch=15, and wordNgrams=2\n"
     ]
    },
    {
     "name": "stderr",
     "output_type": "stream",
     "text": [
      "Read 88M words\n",
      "Number of words:  1622077\n",
      "Number of labels: 5\n",
      "Progress: 100.0% words/sec/thread:  659872 lr:  0.000000 avg.loss:  0.478209 ETA:   0h 0m 0s  0.3% words/sec/thread:  762048 lr:  0.099694 avg.loss:  1.566747 ETA:   0h 4m 7s\n"
     ]
    },
    {
     "name": "stdout",
     "output_type": "stream",
     "text": [
      "N\t50000\n",
      "P@1\t0.600\n",
      "R@1\t0.600\n",
      "\n",
      "Training model with lr=0.1, dim=5, epoch=5, and wordNgrams=3\n"
     ]
    },
    {
     "name": "stderr",
     "output_type": "stream",
     "text": [
      "Read 88M words\n",
      "Number of words:  1622077\n",
      "Number of labels: 5\n",
      "Progress: 100.0% words/sec/thread:  628423 lr:  0.000000 avg.loss:  0.769563 ETA:   0h 0m 0s\n"
     ]
    },
    {
     "name": "stdout",
     "output_type": "stream",
     "text": [
      "N\t50000\n",
      "P@1\t0.623\n",
      "R@1\t0.623\n",
      "\n",
      "Training model with lr=0.1, dim=5, epoch=10, and wordNgrams=3\n"
     ]
    },
    {
     "name": "stderr",
     "output_type": "stream",
     "text": [
      "Read 88M words\n",
      "Number of words:  1622077\n",
      "Number of labels: 5\n",
      "Progress: 100.0% words/sec/thread:  542273 lr:  0.000000 avg.loss:  0.486661 ETA:   0h 0m 0s\n"
     ]
    },
    {
     "name": "stdout",
     "output_type": "stream",
     "text": [
      "N\t50000\n",
      "P@1\t0.612\n",
      "R@1\t0.612\n",
      "\n",
      "Training model with lr=0.1, dim=5, epoch=15, and wordNgrams=3\n"
     ]
    },
    {
     "name": "stderr",
     "output_type": "stream",
     "text": [
      "Read 88M words\n",
      "Number of words:  1622077\n",
      "Number of labels: 5\n",
      "Progress: 100.0% words/sec/thread:  920462 lr:  0.000000 avg.loss:  0.330799 ETA:   0h 0m 0s\n"
     ]
    },
    {
     "name": "stdout",
     "output_type": "stream",
     "text": [
      "N\t50000\n",
      "P@1\t0.604\n",
      "R@1\t0.604\n",
      "\n",
      "Training model with lr=0.1, dim=5, epoch=5, and wordNgrams=4\n"
     ]
    },
    {
     "name": "stderr",
     "output_type": "stream",
     "text": [
      "Read 88M words\n",
      "Number of words:  1622077\n",
      "Number of labels: 5\n",
      "Progress: 100.0% words/sec/thread:  818303 lr: -0.000001 avg.loss:  0.756042 ETA:   0h 0m 0s100.0% words/sec/thread:  818300 lr:  0.000000 avg.loss:  0.756042 ETA:   0h 0m 0s\n"
     ]
    },
    {
     "name": "stdout",
     "output_type": "stream",
     "text": [
      "N\t50000\n",
      "P@1\t0.619\n",
      "R@1\t0.619\n",
      "\n",
      "Training model with lr=0.1, dim=5, epoch=10, and wordNgrams=4\n"
     ]
    },
    {
     "name": "stderr",
     "output_type": "stream",
     "text": [
      "Read 88M words\n",
      "Number of words:  1622077\n",
      "Number of labels: 5\n",
      "Progress: 100.0% words/sec/thread:  628367 lr:  0.000000 avg.loss:  0.477836 ETA:   0h 0m 0s 676119 lr:  0.016118 avg.loss:  0.540547 ETA:   0h 0m30s\n"
     ]
    },
    {
     "name": "stdout",
     "output_type": "stream",
     "text": [
      "N\t50000\n",
      "P@1\t0.611\n",
      "R@1\t0.611\n",
      "\n",
      "Training model with lr=0.1, dim=5, epoch=15, and wordNgrams=4\n"
     ]
    },
    {
     "name": "stderr",
     "output_type": "stream",
     "text": [
      "Read 88M words\n",
      "Number of words:  1622077\n",
      "Number of labels: 5\n",
      "Progress: 100.0% words/sec/thread:  941389 lr:  0.000000 avg.loss:  0.298520 ETA:   0h 0m 0s 99.7% words/sec/thread:  941492 lr:  0.000265 avg.loss:  0.299284 ETA:   0h 0m 0s\n"
     ]
    },
    {
     "name": "stdout",
     "output_type": "stream",
     "text": [
      "N\t50000\n",
      "P@1\t0.608\n",
      "R@1\t0.608\n",
      "\n",
      "Training model with lr=0.1, dim=5, epoch=5, and wordNgrams=5\n"
     ]
    },
    {
     "name": "stderr",
     "output_type": "stream",
     "text": [
      "Read 88M words\n",
      "Number of words:  1622077\n",
      "Number of labels: 5\n",
      "Progress: 100.0% words/sec/thread:  448127 lr:  0.000000 avg.loss:  0.792476 ETA:   0h 0m 0s\n"
     ]
    },
    {
     "name": "stdout",
     "output_type": "stream",
     "text": [
      "N\t50000\n",
      "P@1\t0.618\n",
      "R@1\t0.618\n",
      "\n",
      "Training model with lr=0.1, dim=5, epoch=10, and wordNgrams=5\n"
     ]
    },
    {
     "name": "stderr",
     "output_type": "stream",
     "text": [
      "Read 88M words\n",
      "Number of words:  1622077\n",
      "Number of labels: 5\n",
      "Progress: 100.0% words/sec/thread:  438304 lr:  0.000000 avg.loss:  0.471886 ETA:   0h 0m 0s\n"
     ]
    },
    {
     "name": "stdout",
     "output_type": "stream",
     "text": [
      "N\t50000\n",
      "P@1\t0.610\n",
      "R@1\t0.610\n",
      "\n",
      "Training model with lr=0.1, dim=5, epoch=15, and wordNgrams=5\n"
     ]
    },
    {
     "name": "stderr",
     "output_type": "stream",
     "text": [
      "Read 88M words\n",
      "Number of words:  1622077\n",
      "Number of labels: 5\n",
      "Progress: 100.0% words/sec/thread:  447901 lr:  0.000000 avg.loss:  0.300878 ETA:   0h 0m 0s 15.2% words/sec/thread:  373727 lr:  0.084782 avg.loss:  1.002604 ETA:   0h 7m10s\n"
     ]
    },
    {
     "name": "stdout",
     "output_type": "stream",
     "text": [
      "N\t50000\n",
      "P@1\t0.606\n",
      "R@1\t0.606\n",
      "\n",
      "Training model with lr=0.1, dim=10, epoch=5, and wordNgrams=2\n"
     ]
    },
    {
     "name": "stderr",
     "output_type": "stream",
     "text": [
      "Read 88M words\n",
      "Number of words:  1622077\n",
      "Number of labels: 5\n",
      "Progress: 100.0% words/sec/thread: 1223946 lr:  0.000000 avg.loss:  0.832910 ETA:   0h 0m 0s\n"
     ]
    },
    {
     "name": "stdout",
     "output_type": "stream",
     "text": [
      "N\t50000\n",
      "P@1\t0.626\n",
      "R@1\t0.626\n",
      "\n",
      "Training model with lr=0.1, dim=10, epoch=10, and wordNgrams=2\n"
     ]
    },
    {
     "name": "stderr",
     "output_type": "stream",
     "text": [
      "Read 88M words\n",
      "Number of words:  1622077\n",
      "Number of labels: 5\n",
      "Progress: 100.0% words/sec/thread:  466457 lr:  0.000000 avg.loss:  0.621104 ETA:   0h 0m 0s 462712 lr:  0.060524 avg.loss:  0.890001 ETA:   0h 2m45s\n"
     ]
    },
    {
     "name": "stdout",
     "output_type": "stream",
     "text": [
      "N\t50000\n",
      "P@1\t0.611\n",
      "R@1\t0.611\n",
      "\n",
      "Training model with lr=0.1, dim=10, epoch=15, and wordNgrams=2\n"
     ]
    },
    {
     "name": "stderr",
     "output_type": "stream",
     "text": [
      "Read 88M words\n",
      "Number of words:  1622077\n",
      "Number of labels: 5\n",
      "Progress: 100.0% words/sec/thread:  920444 lr:  0.000000 avg.loss:  0.450957 ETA:   0h 0m 0s 18.1% words/sec/thread:  770432 lr:  0.081856 avg.loss:  0.919529 ETA:   0h 3m21s\n"
     ]
    },
    {
     "name": "stdout",
     "output_type": "stream",
     "text": [
      "N\t50000\n",
      "P@1\t0.601\n",
      "R@1\t0.601\n",
      "\n",
      "Training model with lr=0.1, dim=10, epoch=5, and wordNgrams=3\n"
     ]
    },
    {
     "name": "stderr",
     "output_type": "stream",
     "text": [
      "Read 88M words\n",
      "Number of words:  1622077\n",
      "Number of labels: 5\n",
      "Progress: 100.0% words/sec/thread:  576296 lr:  0.000000 avg.loss:  0.770901 ETA:   0h 0m 0s\n"
     ]
    },
    {
     "name": "stdout",
     "output_type": "stream",
     "text": [
      "N\t50000\n",
      "P@1\t0.626\n",
      "R@1\t0.626\n",
      "\n",
      "Training model with lr=0.1, dim=10, epoch=10, and wordNgrams=3\n"
     ]
    },
    {
     "name": "stderr",
     "output_type": "stream",
     "text": [
      "Read 88M words\n",
      "Number of words:  1622077\n",
      "Number of labels: 5\n",
      "Progress: 100.0% words/sec/thread:  370441 lr:  0.000000 avg.loss:  0.479742 ETA:   0h 0m 0s words/sec/thread:  422441 lr:  0.087089 avg.loss:  1.042360 ETA:   0h 4m20s 377241 lr:  0.044551 avg.loss:  0.699662 ETA:   0h 2m29s\n"
     ]
    },
    {
     "name": "stdout",
     "output_type": "stream",
     "text": [
      "N\t50000\n",
      "P@1\t0.615\n",
      "R@1\t0.615\n",
      "\n",
      "Training model with lr=0.1, dim=10, epoch=15, and wordNgrams=3\n"
     ]
    },
    {
     "name": "stderr",
     "output_type": "stream",
     "text": [
      "Read 88M words\n",
      "Number of words:  1622077\n",
      "Number of labels: 5\n",
      "Progress: 100.0% words/sec/thread:  686842 lr:  0.000000 avg.loss:  0.321478 ETA:   0h 0m 0s\n"
     ]
    },
    {
     "name": "stdout",
     "output_type": "stream",
     "text": [
      "N\t50000\n",
      "P@1\t0.606\n",
      "R@1\t0.606\n",
      "\n",
      "Training model with lr=0.1, dim=10, epoch=5, and wordNgrams=4\n"
     ]
    },
    {
     "name": "stderr",
     "output_type": "stream",
     "text": [
      "Read 88M words\n",
      "Number of words:  1622077\n",
      "Number of labels: 5\n",
      "Progress: 100.0% words/sec/thread:  524620 lr:  0.000000 avg.loss:  0.738696 ETA:   0h 0m 0s\n"
     ]
    },
    {
     "name": "stdout",
     "output_type": "stream",
     "text": [
      "N\t50000\n",
      "P@1\t0.623\n",
      "R@1\t0.623\n",
      "\n",
      "Training model with lr=0.1, dim=10, epoch=10, and wordNgrams=4\n"
     ]
    },
    {
     "name": "stderr",
     "output_type": "stream",
     "text": [
      "Read 88M words\n",
      "Number of words:  1622077\n",
      "Number of labels: 5\n",
      "Progress: 100.0% words/sec/thread:  417574 lr:  0.000000 avg.loss:  0.451105 ETA:   0h 0m 0s 383578 lr:  0.043412 avg.loss:  0.645550 ETA:   0h 2m23s 88.9% words/sec/thread:  404046 lr:  0.011149 avg.loss:  0.491867 ETA:   0h 0m34s 0.475435 ETA:   0h 0m21s\n"
     ]
    },
    {
     "name": "stdout",
     "output_type": "stream",
     "text": [
      "N\t50000\n",
      "P@1\t0.612\n",
      "R@1\t0.612\n",
      "\n",
      "Training model with lr=0.1, dim=10, epoch=15, and wordNgrams=4\n"
     ]
    },
    {
     "name": "stderr",
     "output_type": "stream",
     "text": [
      "Read 88M words\n",
      "Number of words:  1622077\n",
      "Number of labels: 5\n",
      "Progress: 100.0% words/sec/thread:  450620 lr:  0.000000 avg.loss:  0.296226 ETA:   0h 0m 0s 478410 lr:  0.085204 avg.loss:  0.952787 ETA:   0h 5m37ss\n",
      "Read 1M words"
     ]
    },
    {
     "name": "stdout",
     "output_type": "stream",
     "text": [
      "N\t50000\n",
      "P@1\t0.607\n",
      "R@1\t0.607\n",
      "\n",
      "Training model with lr=0.1, dim=10, epoch=5, and wordNgrams=5\n"
     ]
    },
    {
     "name": "stderr",
     "output_type": "stream",
     "text": [
      "Read 88M words\n",
      "Number of words:  1622077\n",
      "Number of labels: 5\n",
      "Progress: 100.0% words/sec/thread:  286996 lr:  0.000000 avg.loss:  0.774596 ETA:   0h 0m 0s\n"
     ]
    },
    {
     "name": "stdout",
     "output_type": "stream",
     "text": [
      "N\t50000\n",
      "P@1\t0.622\n",
      "R@1\t0.622\n",
      "\n",
      "Training model with lr=0.1, dim=10, epoch=10, and wordNgrams=5\n"
     ]
    },
    {
     "name": "stderr",
     "output_type": "stream",
     "text": [
      "Read 88M words\n",
      "Number of words:  1622077\n",
      "Number of labels: 5\n",
      "Progress: 100.0% words/sec/thread:  446056 lr:  0.000000 avg.loss:  0.449224 ETA:   0h 0m 0s\n"
     ]
    },
    {
     "name": "stdout",
     "output_type": "stream",
     "text": [
      "N\t50000\n",
      "P@1\t0.612\n",
      "R@1\t0.612\n",
      "\n",
      "Training model with lr=0.1, dim=10, epoch=15, and wordNgrams=5\n"
     ]
    },
    {
     "name": "stderr",
     "output_type": "stream",
     "text": [
      "Read 88M words\n",
      "Number of words:  1622077\n",
      "Number of labels: 5\n",
      "Progress: 100.0% words/sec/thread:  251504 lr:  0.000000 avg.loss:  0.300622 ETA:   0h 0m 0s0h 1m29s\n"
     ]
    },
    {
     "name": "stdout",
     "output_type": "stream",
     "text": [
      "N\t50000\n",
      "P@1\t0.607\n",
      "R@1\t0.607\n",
      "\n",
      "Training model with lr=0.1, dim=25, epoch=5, and wordNgrams=2\n"
     ]
    },
    {
     "name": "stderr",
     "output_type": "stream",
     "text": [
      "Read 88M words\n",
      "Number of words:  1622077\n",
      "Number of labels: 5\n",
      "Progress: 100.0% words/sec/thread: 1477920 lr:  0.000000 avg.loss:  0.833965 ETA:   0h 0m 0s\n"
     ]
    },
    {
     "name": "stdout",
     "output_type": "stream",
     "text": [
      "N\t50000\n",
      "P@1\t0.625\n",
      "R@1\t0.625\n",
      "\n",
      "Training model with lr=0.1, dim=25, epoch=10, and wordNgrams=2\n"
     ]
    },
    {
     "name": "stderr",
     "output_type": "stream",
     "text": [
      "Read 88M words\n",
      "Number of words:  1622077\n",
      "Number of labels: 5\n",
      "Progress: 100.0% words/sec/thread:  598697 lr:  0.000000 avg.loss:  0.619326 ETA:   0h 0m 0s 37.5% words/sec/thread:  557005 lr:  0.062494 avg.loss:  0.896583 ETA:   0h 2m21s\n"
     ]
    },
    {
     "name": "stdout",
     "output_type": "stream",
     "text": [
      "N\t50000\n",
      "P@1\t0.611\n",
      "R@1\t0.611\n",
      "\n",
      "Training model with lr=0.1, dim=25, epoch=15, and wordNgrams=2\n"
     ]
    },
    {
     "name": "stderr",
     "output_type": "stream",
     "text": [
      "Read 88M words\n",
      "Number of words:  1622077\n",
      "Number of labels: 5\n",
      "Progress: 100.0% words/sec/thread:  498387 lr:  0.000000 avg.loss:  0.467251 ETA:   0h 0m 0s 28.9% words/sec/thread:  489753 lr:  0.071120 avg.loss:  0.841751 ETA:   0h 4m35s 497076 lr:  0.058515 avg.loss:  0.765843 ETA:   0h 3m43s 87.6% words/sec/thread:  502190 lr:  0.012366 avg.loss:  0.513120 ETA:   0h 0m46s\n"
     ]
    },
    {
     "name": "stdout",
     "output_type": "stream",
     "text": [
      "N\t50000\n",
      "P@1\t0.601\n",
      "R@1\t0.601\n",
      "\n",
      "Training model with lr=0.1, dim=25, epoch=5, and wordNgrams=3\n"
     ]
    },
    {
     "name": "stderr",
     "output_type": "stream",
     "text": [
      "Read 88M words\n",
      "Number of words:  1622077\n",
      "Number of labels: 5\n",
      "Progress: 100.0% words/sec/thread:  393827 lr:  0.000000 avg.loss:  0.762871 ETA:   0h 0m 0s\n"
     ]
    },
    {
     "name": "stdout",
     "output_type": "stream",
     "text": [
      "N\t50000\n",
      "P@1\t0.626\n",
      "R@1\t0.626\n",
      "\n",
      "Training model with lr=0.1, dim=25, epoch=10, and wordNgrams=3\n"
     ]
    },
    {
     "name": "stderr",
     "output_type": "stream",
     "text": [
      "Read 88M words\n",
      "Number of words:  1622077\n",
      "Number of labels: 5\n",
      "Progress: 100.0% words/sec/thread:  368079 lr:  0.000000 avg.loss:  0.468256 ETA:   0h 0m 0s 24.9% words/sec/thread:  431085 lr:  0.075088 avg.loss:  0.952749 ETA:   0h 3m40s\n"
     ]
    },
    {
     "name": "stdout",
     "output_type": "stream",
     "text": [
      "N\t50000\n",
      "P@1\t0.615\n",
      "R@1\t0.615\n",
      "\n",
      "Training model with lr=0.1, dim=25, epoch=15, and wordNgrams=3\n"
     ]
    },
    {
     "name": "stderr",
     "output_type": "stream",
     "text": [
      "Read 88M words\n",
      "Number of words:  1622077\n",
      "Number of labels: 5\n",
      "Progress: 100.0% words/sec/thread:  776496 lr:  0.000000 avg.loss:  0.323030 ETA:   0h 0m 0sh 2m47sh 2m24s  0h 1m14s\n"
     ]
    },
    {
     "name": "stdout",
     "output_type": "stream",
     "text": [
      "N\t50000\n",
      "P@1\t0.607\n",
      "R@1\t0.607\n",
      "\n",
      "Training model with lr=0.1, dim=25, epoch=5, and wordNgrams=4\n"
     ]
    },
    {
     "name": "stderr",
     "output_type": "stream",
     "text": [
      "Read 88M words\n",
      "Number of words:  1622077\n",
      "Number of labels: 5\n",
      "Progress: 100.0% words/sec/thread:  599310 lr:  0.000000 avg.loss:  0.765690 ETA:   0h 0m 0s 87.8% words/sec/thread:  700051 lr:  0.012196 avg.loss:  0.802757 ETA:   0h 0m11s\n"
     ]
    },
    {
     "name": "stdout",
     "output_type": "stream",
     "text": [
      "N\t50000\n",
      "P@1\t0.624\n",
      "R@1\t0.624\n",
      "\n",
      "Training model with lr=0.1, dim=25, epoch=10, and wordNgrams=4\n"
     ]
    },
    {
     "name": "stderr",
     "output_type": "stream",
     "text": [
      "Read 88M words\n",
      "Number of words:  1622077\n",
      "Number of labels: 5\n",
      "Progress: 100.0% words/sec/thread:  236481 lr:  0.000000 avg.loss:  0.439462 ETA:   0h 0m 0s 245020 lr:  0.080781 avg.loss:  1.016895 ETA:   0h 6m56s% words/sec/thread:  234358 lr:  0.075117 avg.loss:  0.963756 ETA:   0h 6m45s\n"
     ]
    },
    {
     "name": "stdout",
     "output_type": "stream",
     "text": [
      "N\t50000\n",
      "P@1\t0.615\n",
      "R@1\t0.615\n",
      "\n",
      "Training model with lr=0.1, dim=25, epoch=15, and wordNgrams=4\n"
     ]
    },
    {
     "name": "stderr",
     "output_type": "stream",
     "text": [
      "Read 88M words\n",
      "Number of words:  1622077\n",
      "Number of labels: 5\n",
      "Progress: 100.0% words/sec/thread:  240995 lr:  0.000000 avg.loss:  0.287900 ETA:   0h 0m 0s 84.2% words/sec/thread:  253117 lr:  0.015764 avg.loss:  0.336874 ETA:   0h 1m58s 96.5% words/sec/thread:  244292 lr:  0.003526 avg.loss:  0.297879 ETA:   0h 0m27s\n"
     ]
    },
    {
     "name": "stdout",
     "output_type": "stream",
     "text": [
      "N\t50000\n",
      "P@1\t0.609\n",
      "R@1\t0.609\n",
      "\n",
      "Training model with lr=0.1, dim=25, epoch=5, and wordNgrams=5\n"
     ]
    },
    {
     "name": "stderr",
     "output_type": "stream",
     "text": [
      "Read 88M words\n",
      "Number of words:  1622077\n",
      "Number of labels: 5\n",
      "Progress: 100.0% words/sec/thread:  280974 lr: -0.000001 avg.loss:  0.779896 ETA:   0h 0m 0s  0h 3m 0s100.0% words/sec/thread:  280959 lr:  0.000000 avg.loss:  0.779896 ETA:   0h 0m 0s\n"
     ]
    },
    {
     "name": "stdout",
     "output_type": "stream",
     "text": [
      "N\t50000\n",
      "P@1\t0.622\n",
      "R@1\t0.622\n",
      "\n",
      "Training model with lr=0.1, dim=25, epoch=10, and wordNgrams=5\n"
     ]
    },
    {
     "name": "stderr",
     "output_type": "stream",
     "text": [
      "Read 88M words\n",
      "Number of words:  1622077\n",
      "Number of labels: 5\n",
      "Progress: 100.0% words/sec/thread:  320920 lr:  0.000000 avg.loss:  0.444948 ETA:   0h 0m 0s42.3% words/sec/thread:  340276 lr:  0.057728 avg.loss:  0.779669 ETA:   0h 3m34s\n"
     ]
    },
    {
     "name": "stdout",
     "output_type": "stream",
     "text": [
      "N\t50000\n",
      "P@1\t0.614\n",
      "R@1\t0.614\n",
      "\n",
      "Training model with lr=0.1, dim=25, epoch=15, and wordNgrams=5\n"
     ]
    },
    {
     "name": "stderr",
     "output_type": "stream",
     "text": [
      "Read 88M words\n",
      "Number of words:  1622077\n",
      "Number of labels: 5\n",
      "Progress: 100.0% words/sec/thread:  233658 lr:  0.000000 avg.loss:  0.296840 ETA:   0h 0m 0s178753 lr:  0.079940 avg.loss:  0.931707 ETA:   0h14m 7s 197456 lr:  0.050899 avg.loss:  0.545129 ETA:   0h 8m 8s 92.6% words/sec/thread:  241246 lr:  0.007381 avg.loss:  0.320117 ETA:   0h 0m57s 99.5% words/sec/thread:  234297 lr:  0.000496 avg.loss:  0.298276 ETA:   0h 0m 4s\n"
     ]
    },
    {
     "name": "stdout",
     "output_type": "stream",
     "text": [
      "N\t50000\n",
      "P@1\t0.610\n",
      "R@1\t0.610\n",
      "\n",
      "Training model with lr=0.25, dim=5, epoch=5, and wordNgrams=2\n"
     ]
    },
    {
     "name": "stderr",
     "output_type": "stream",
     "text": [
      "Read 88M words\n",
      "Number of words:  1622077\n",
      "Number of labels: 5\n",
      "Progress: 100.0% words/sec/thread: 1176954 lr:  0.000000 avg.loss:  0.790312 ETA:   0h 0m 0s\n"
     ]
    },
    {
     "name": "stdout",
     "output_type": "stream",
     "text": [
      "N\t50000\n",
      "P@1\t0.618\n",
      "R@1\t0.618\n",
      "\n",
      "Training model with lr=0.25, dim=5, epoch=10, and wordNgrams=2\n"
     ]
    },
    {
     "name": "stderr",
     "output_type": "stream",
     "text": [
      "Read 88M words\n",
      "Number of words:  1622077\n",
      "Number of labels: 5\n",
      "Progress: 100.0% words/sec/thread: 1178739 lr:  0.000000 avg.loss:  0.567246 ETA:   0h 0m 0s\n"
     ]
    },
    {
     "name": "stdout",
     "output_type": "stream",
     "text": [
      "N\t50000\n",
      "P@1\t0.600\n",
      "R@1\t0.600\n",
      "\n",
      "Training model with lr=0.25, dim=5, epoch=15, and wordNgrams=2\n"
     ]
    },
    {
     "name": "stderr",
     "output_type": "stream",
     "text": [
      "Read 88M words\n",
      "Number of words:  1622077\n",
      "Number of labels: 5\n",
      "Progress: 100.0% words/sec/thread:  692631 lr:  0.000000 avg.loss:  0.430734 ETA:   0h 0m 0s 0.713010 ETA:   0h 2m 5s\n"
     ]
    },
    {
     "name": "stdout",
     "output_type": "stream",
     "text": [
      "N\t50000\n",
      "P@1\t0.592\n",
      "R@1\t0.592\n",
      "\n",
      "Training model with lr=0.25, dim=5, epoch=5, and wordNgrams=3\n"
     ]
    },
    {
     "name": "stderr",
     "output_type": "stream",
     "text": [
      "Read 88M words\n",
      "Number of words:  1622077\n",
      "Number of labels: 5\n",
      "Progress: 100.0% words/sec/thread:  857481 lr:  0.000000 avg.loss:  0.648290 ETA:   0h 0m 0s\n"
     ]
    },
    {
     "name": "stdout",
     "output_type": "stream",
     "text": [
      "N\t50000\n",
      "P@1\t0.615\n",
      "R@1\t0.615\n",
      "\n",
      "Training model with lr=0.25, dim=5, epoch=10, and wordNgrams=3\n"
     ]
    },
    {
     "name": "stderr",
     "output_type": "stream",
     "text": [
      "Read 88M words\n",
      "Number of words:  1622077\n",
      "Number of labels: 5\n",
      "Progress: 100.0% words/sec/thread:  527086 lr:  0.000000 avg.loss:  0.369198 ETA:   0h 0m 0s\n"
     ]
    },
    {
     "name": "stdout",
     "output_type": "stream",
     "text": [
      "N\t50000\n",
      "P@1\t0.602\n",
      "R@1\t0.602\n",
      "\n",
      "Training model with lr=0.25, dim=5, epoch=15, and wordNgrams=3\n"
     ]
    },
    {
     "name": "stderr",
     "output_type": "stream",
     "text": [
      "Read 88M words\n",
      "Number of words:  1622077\n",
      "Number of labels: 5\n",
      "Progress: 100.0% words/sec/thread:  510271 lr:  0.000000 avg.loss:  0.263500 ETA:   0h 0m 0s\n"
     ]
    },
    {
     "name": "stdout",
     "output_type": "stream",
     "text": [
      "N\t50000\n",
      "P@1\t0.600\n",
      "R@1\t0.600\n",
      "\n",
      "Training model with lr=0.25, dim=5, epoch=5, and wordNgrams=4\n"
     ]
    },
    {
     "name": "stderr",
     "output_type": "stream",
     "text": [
      "Read 88M words\n",
      "Number of words:  1622077\n",
      "Number of labels: 5\n",
      "Progress: 100.0% words/sec/thread:  613660 lr:  0.000000 avg.loss:  0.562424 ETA:   0h 0m 0s\n"
     ]
    },
    {
     "name": "stdout",
     "output_type": "stream",
     "text": [
      "N\t50000\n",
      "P@1\t0.612\n",
      "R@1\t0.612\n",
      "\n",
      "Training model with lr=0.25, dim=5, epoch=10, and wordNgrams=4\n"
     ]
    },
    {
     "name": "stderr",
     "output_type": "stream",
     "text": [
      "Read 88M words\n",
      "Number of words:  1622077\n",
      "Number of labels: 5\n",
      "Progress: 100.0% words/sec/thread:  596978 lr:  0.000000 avg.loss:  0.320907 ETA:   0h 0m 0s\n"
     ]
    },
    {
     "name": "stdout",
     "output_type": "stream",
     "text": [
      "N\t50000\n",
      "P@1\t0.603\n",
      "R@1\t0.603\n",
      "\n",
      "Training model with lr=0.25, dim=5, epoch=15, and wordNgrams=4\n"
     ]
    },
    {
     "name": "stderr",
     "output_type": "stream",
     "text": [
      "Read 88M words\n",
      "Number of words:  1622077\n",
      "Number of labels: 5\n",
      "Progress: 100.0% words/sec/thread:  446958 lr:  0.000000 avg.loss:  0.216851 ETA:   0h 0m 0s\n"
     ]
    },
    {
     "name": "stdout",
     "output_type": "stream",
     "text": [
      "N\t50000\n",
      "P@1\t0.598\n",
      "R@1\t0.598\n",
      "\n",
      "Training model with lr=0.25, dim=5, epoch=5, and wordNgrams=5\n"
     ]
    },
    {
     "name": "stderr",
     "output_type": "stream",
     "text": [
      "Read 88M words\n",
      "Number of words:  1622077\n",
      "Number of labels: 5\n",
      "Progress: 100.0% words/sec/thread:  588105 lr:  0.000000 avg.loss:  0.568647 ETA:   0h 0m 0s\n"
     ]
    },
    {
     "name": "stdout",
     "output_type": "stream",
     "text": [
      "N\t50000\n",
      "P@1\t0.611\n",
      "R@1\t0.611\n",
      "\n",
      "Training model with lr=0.25, dim=5, epoch=10, and wordNgrams=5\n"
     ]
    },
    {
     "name": "stderr",
     "output_type": "stream",
     "text": [
      "Read 88M words\n",
      "Number of words:  1622077\n",
      "Number of labels: 5\n",
      "Progress: 100.0% words/sec/thread:  383868 lr:  0.000000 avg.loss:  0.296493 ETA:   0h 0m 0s\n"
     ]
    },
    {
     "name": "stdout",
     "output_type": "stream",
     "text": [
      "N\t50000\n",
      "P@1\t0.602\n",
      "R@1\t0.602\n",
      "\n",
      "Training model with lr=0.25, dim=5, epoch=15, and wordNgrams=5\n"
     ]
    },
    {
     "name": "stderr",
     "output_type": "stream",
     "text": [
      "Read 88M words\n",
      "Number of words:  1622077\n",
      "Number of labels: 5\n",
      "Progress: 100.0% words/sec/thread:  658208 lr:  0.000000 avg.loss:  0.205961 ETA:   0h 0m 0s\n"
     ]
    },
    {
     "name": "stdout",
     "output_type": "stream",
     "text": [
      "N\t50000\n",
      "P@1\t0.597\n",
      "R@1\t0.597\n",
      "\n",
      "Training model with lr=0.25, dim=10, epoch=5, and wordNgrams=2\n"
     ]
    },
    {
     "name": "stderr",
     "output_type": "stream",
     "text": [
      "Read 88M words\n",
      "Number of words:  1622077\n",
      "Number of labels: 5\n",
      "Progress: 100.0% words/sec/thread: 1367503 lr:  0.000000 avg.loss:  0.784590 ETA:   0h 0m 0s\n"
     ]
    },
    {
     "name": "stdout",
     "output_type": "stream",
     "text": [
      "N\t50000\n",
      "P@1\t0.619\n",
      "R@1\t0.619\n",
      "\n",
      "Training model with lr=0.25, dim=10, epoch=10, and wordNgrams=2\n"
     ]
    },
    {
     "name": "stderr",
     "output_type": "stream",
     "text": [
      "Read 88M words\n",
      "Number of words:  1622077\n",
      "Number of labels: 5\n",
      "Progress: 100.0% words/sec/thread:  765447 lr:  0.000000 avg.loss:  0.560879 ETA:   0h 0m 0s\n"
     ]
    },
    {
     "name": "stdout",
     "output_type": "stream",
     "text": [
      "N\t50000\n",
      "P@1\t0.599\n",
      "R@1\t0.599\n",
      "\n",
      "Training model with lr=0.25, dim=10, epoch=15, and wordNgrams=2\n"
     ]
    },
    {
     "name": "stderr",
     "output_type": "stream",
     "text": [
      "Read 88M words\n",
      "Number of words:  1622077\n",
      "Number of labels: 5\n",
      "Progress: 100.0% words/sec/thread: 1318807 lr:  0.000000 avg.loss:  0.428023 ETA:   0h 0m 0s\n"
     ]
    },
    {
     "name": "stdout",
     "output_type": "stream",
     "text": [
      "N\t50000\n",
      "P@1\t0.591\n",
      "R@1\t0.591\n",
      "\n",
      "Training model with lr=0.25, dim=10, epoch=5, and wordNgrams=3\n"
     ]
    },
    {
     "name": "stderr",
     "output_type": "stream",
     "text": [
      "Read 88M words\n",
      "Number of words:  1622077\n",
      "Number of labels: 5\n",
      "Progress: 100.0% words/sec/thread:  577066 lr:  0.000000 avg.loss:  0.638450 ETA:   0h 0m 0s\n"
     ]
    },
    {
     "name": "stdout",
     "output_type": "stream",
     "text": [
      "N\t50000\n",
      "P@1\t0.617\n",
      "R@1\t0.617\n",
      "\n",
      "Training model with lr=0.25, dim=10, epoch=10, and wordNgrams=3\n"
     ]
    },
    {
     "name": "stderr",
     "output_type": "stream",
     "text": [
      "Read 88M words\n",
      "Number of words:  1622077\n",
      "Number of labels: 5\n",
      "Progress: 100.0% words/sec/thread:  709239 lr:  0.000000 avg.loss:  0.367622 ETA:   0h 0m 0s\n"
     ]
    },
    {
     "name": "stdout",
     "output_type": "stream",
     "text": [
      "N\t50000\n",
      "P@1\t0.604\n",
      "R@1\t0.604\n",
      "\n",
      "Training model with lr=0.25, dim=10, epoch=15, and wordNgrams=3\n"
     ]
    },
    {
     "name": "stderr",
     "output_type": "stream",
     "text": [
      "Read 88M words\n",
      "Number of words:  1622077\n",
      "Number of labels: 5\n",
      "Progress: 100.0% words/sec/thread:  652500 lr:  0.000000 avg.loss:  0.260588 ETA:   0h 0m 0s\n"
     ]
    },
    {
     "name": "stdout",
     "output_type": "stream",
     "text": [
      "N\t50000\n",
      "P@1\t0.600\n",
      "R@1\t0.600\n",
      "\n",
      "Training model with lr=0.25, dim=10, epoch=5, and wordNgrams=4\n"
     ]
    },
    {
     "name": "stderr",
     "output_type": "stream",
     "text": [
      "Read 88M words\n",
      "Number of words:  1622077\n",
      "Number of labels: 5\n",
      "Progress: 100.0% words/sec/thread:  763725 lr:  0.000000 avg.loss:  0.574120 ETA:   0h 0m 0s0m13s words/sec/thread:  763726 lr: -0.000001 avg.loss:  0.574120 ETA:   0h 0m 0s\n",
      "Read 1M words"
     ]
    },
    {
     "name": "stdout",
     "output_type": "stream",
     "text": [
      "N\t50000\n",
      "P@1\t0.614\n",
      "R@1\t0.614\n",
      "\n",
      "Training model with lr=0.25, dim=10, epoch=10, and wordNgrams=4\n"
     ]
    },
    {
     "name": "stderr",
     "output_type": "stream",
     "text": [
      "Read 88M words49M words\n",
      "Number of words:  1622077\n",
      "Number of labels: 5\n",
      "Progress: 100.0% words/sec/thread:  376146 lr:  0.000000 avg.loss:  0.308172 ETA:   0h 0m 0s\n"
     ]
    },
    {
     "name": "stdout",
     "output_type": "stream",
     "text": [
      "N\t50000\n",
      "P@1\t0.602\n",
      "R@1\t0.602\n",
      "\n",
      "Training model with lr=0.25, dim=10, epoch=15, and wordNgrams=4\n"
     ]
    },
    {
     "name": "stderr",
     "output_type": "stream",
     "text": [
      "Read 88M words\n",
      "Number of words:  1622077\n",
      "Number of labels: 5\n",
      "Progress: 100.0% words/sec/thread:  585036 lr:  0.000000 avg.loss:  0.217629 ETA:   0h 0m 0s 42.6% words/sec/thread:  656009 lr:  0.143574 avg.loss:  0.487202 ETA:   0h 2m45s\n"
     ]
    },
    {
     "name": "stdout",
     "output_type": "stream",
     "text": [
      "N\t50000\n",
      "P@1\t0.598\n",
      "R@1\t0.598\n",
      "\n",
      "Training model with lr=0.25, dim=10, epoch=5, and wordNgrams=5\n"
     ]
    },
    {
     "name": "stderr",
     "output_type": "stream",
     "text": [
      "Read 88M words\n",
      "Number of words:  1622077\n",
      "Number of labels: 5\n",
      "Progress: 100.0% words/sec/thread:  448224 lr: -0.000001 avg.loss:  0.559737 ETA:   0h 0m 0s100.0% words/sec/thread:  448223 lr:  0.000000 avg.loss:  0.559737 ETA:   0h 0m 0s\n",
      "Read 2M words"
     ]
    },
    {
     "name": "stdout",
     "output_type": "stream",
     "text": [
      "N\t50000\n",
      "P@1\t0.612\n",
      "R@1\t0.612\n",
      "\n",
      "Training model with lr=0.25, dim=10, epoch=10, and wordNgrams=5\n"
     ]
    },
    {
     "name": "stderr",
     "output_type": "stream",
     "text": [
      "Read 88M words\n",
      "Number of words:  1622077\n",
      "Number of labels: 5\n",
      "Progress: 100.0% words/sec/thread:  337863 lr:  0.000000 avg.loss:  0.290228 ETA:   0h 0m 0s\n"
     ]
    },
    {
     "name": "stdout",
     "output_type": "stream",
     "text": [
      "N\t50000\n",
      "P@1\t0.602\n",
      "R@1\t0.602\n",
      "\n",
      "Training model with lr=0.25, dim=10, epoch=15, and wordNgrams=5\n"
     ]
    },
    {
     "name": "stderr",
     "output_type": "stream",
     "text": [
      "Read 88M words\n",
      "Number of words:  1622077\n",
      "Number of labels: 5\n",
      "Progress: 100.0% words/sec/thread:  431572 lr:  0.000000 avg.loss:  0.202303 ETA:   0h 0m 0s\n"
     ]
    },
    {
     "name": "stdout",
     "output_type": "stream",
     "text": [
      "N\t50000\n",
      "P@1\t0.598\n",
      "R@1\t0.598\n",
      "\n",
      "Training model with lr=0.25, dim=25, epoch=5, and wordNgrams=2\n"
     ]
    },
    {
     "name": "stderr",
     "output_type": "stream",
     "text": [
      "Read 88M words\n",
      "Number of words:  1622077\n",
      "Number of labels: 5\n",
      "Progress: 100.0% words/sec/thread: 2246818 lr:  0.000000 avg.loss:  0.786536 ETA:   0h 0m 0s\n"
     ]
    },
    {
     "name": "stdout",
     "output_type": "stream",
     "text": [
      "N\t50000\n",
      "P@1\t0.618\n",
      "R@1\t0.618\n",
      "\n",
      "Training model with lr=0.25, dim=25, epoch=10, and wordNgrams=2\n"
     ]
    },
    {
     "name": "stderr",
     "output_type": "stream",
     "text": [
      "Read 88M words\n",
      "Number of words:  1622077\n",
      "Number of labels: 5\n",
      "Progress: 100.0% words/sec/thread:  823281 lr:  0.000000 avg.loss:  0.562722 ETA:   0h 0m 0s\n"
     ]
    },
    {
     "name": "stdout",
     "output_type": "stream",
     "text": [
      "N\t50000\n",
      "P@1\t0.599\n",
      "R@1\t0.599\n",
      "\n",
      "Training model with lr=0.25, dim=25, epoch=15, and wordNgrams=2\n"
     ]
    },
    {
     "name": "stderr",
     "output_type": "stream",
     "text": [
      "Read 88M words\n",
      "Number of words:  1622077\n",
      "Number of labels: 5\n",
      "Progress: 100.0% words/sec/thread:  789878 lr:  0.000000 avg.loss:  0.428557 ETA:   0h 0m 0s\n"
     ]
    },
    {
     "name": "stdout",
     "output_type": "stream",
     "text": [
      "N\t50000\n",
      "P@1\t0.591\n",
      "R@1\t0.591\n",
      "\n",
      "Training model with lr=0.25, dim=25, epoch=5, and wordNgrams=3\n"
     ]
    },
    {
     "name": "stderr",
     "output_type": "stream",
     "text": [
      "Read 88M words\n",
      "Number of words:  1622077\n",
      "Number of labels: 5\n",
      "Progress: 100.0% words/sec/thread:  884596 lr:  0.000000 avg.loss:  0.636570 ETA:   0h 0m 0s\n"
     ]
    },
    {
     "name": "stdout",
     "output_type": "stream",
     "text": [
      "N\t50000\n",
      "P@1\t0.617\n",
      "R@1\t0.617\n",
      "\n",
      "Training model with lr=0.25, dim=25, epoch=10, and wordNgrams=3\n"
     ]
    },
    {
     "name": "stderr",
     "output_type": "stream",
     "text": [
      "Read 88M words30M wordsM words\n",
      "Number of words:  1622077\n",
      "Number of labels: 5\n",
      "Progress: 100.0% words/sec/thread:  500167 lr:  0.000000 avg.loss:  0.366177 ETA:   0h 0m 0s\n"
     ]
    },
    {
     "name": "stdout",
     "output_type": "stream",
     "text": [
      "N\t50000\n",
      "P@1\t0.606\n",
      "R@1\t0.606\n",
      "\n",
      "Training model with lr=0.25, dim=25, epoch=15, and wordNgrams=3\n"
     ]
    },
    {
     "name": "stderr",
     "output_type": "stream",
     "text": [
      "Read 88M words\n",
      "Number of words:  1622077\n",
      "Number of labels: 5\n",
      "Progress: 100.0% words/sec/thread:  686602 lr:  0.000000 avg.loss:  0.261375 ETA:   0h 0m 0s 16.9% words/sec/thread: 1227834 lr:  0.207735 avg.loss:  0.897362 ETA:   0h 2m 8s\n"
     ]
    },
    {
     "name": "stdout",
     "output_type": "stream",
     "text": [
      "N\t50000\n",
      "P@1\t0.600\n",
      "R@1\t0.600\n",
      "\n",
      "Training model with lr=0.25, dim=25, epoch=5, and wordNgrams=4\n"
     ]
    },
    {
     "name": "stderr",
     "output_type": "stream",
     "text": [
      "Read 88M words\n",
      "Number of words:  1622077\n",
      "Number of labels: 5\n",
      "Progress: 100.0% words/sec/thread:  342945 lr:  0.000000 avg.loss:  0.576860 ETA:   0h 0m 0s\n"
     ]
    },
    {
     "name": "stdout",
     "output_type": "stream",
     "text": [
      "N\t50000\n",
      "P@1\t0.616\n",
      "R@1\t0.616\n",
      "\n",
      "Training model with lr=0.25, dim=25, epoch=10, and wordNgrams=4\n"
     ]
    },
    {
     "name": "stderr",
     "output_type": "stream",
     "text": [
      "Read 88M words\n",
      "Number of words:  1622077\n",
      "Number of labels: 5\n",
      "Progress: 100.0% words/sec/thread:  657513 lr:  0.000000 avg.loss:  0.309840 ETA:   0h 0m 0s 54.2% words/sec/thread:  902267 lr:  0.114404 avg.loss:  0.543498 ETA:   0h 1m 4s\n"
     ]
    },
    {
     "name": "stdout",
     "output_type": "stream",
     "text": [
      "N\t50000\n",
      "P@1\t0.602\n",
      "R@1\t0.602\n",
      "\n",
      "Training model with lr=0.25, dim=25, epoch=15, and wordNgrams=4\n"
     ]
    },
    {
     "name": "stderr",
     "output_type": "stream",
     "text": [
      "Read 88M words\n",
      "Number of words:  1622077\n",
      "Number of labels: 5\n",
      "Progress: 100.0% words/sec/thread:  492172 lr:  0.000000 avg.loss:  0.218810 ETA:   0h 0m 0s\n"
     ]
    },
    {
     "name": "stdout",
     "output_type": "stream",
     "text": [
      "N\t50000\n",
      "P@1\t0.599\n",
      "R@1\t0.599\n",
      "\n",
      "Training model with lr=0.25, dim=25, epoch=5, and wordNgrams=5\n"
     ]
    },
    {
     "name": "stderr",
     "output_type": "stream",
     "text": [
      "Read 88M words\n",
      "Number of words:  1622077\n",
      "Number of labels: 5\n",
      "Progress: 100.0% words/sec/thread:  326964 lr:  0.000000 avg.loss:  0.561699 ETA:   0h 0m 0s\n"
     ]
    },
    {
     "name": "stdout",
     "output_type": "stream",
     "text": [
      "N\t50000\n",
      "P@1\t0.614\n",
      "R@1\t0.614\n",
      "\n",
      "Training model with lr=0.25, dim=25, epoch=10, and wordNgrams=5\n"
     ]
    },
    {
     "name": "stderr",
     "output_type": "stream",
     "text": [
      "Read 88M words\n",
      "Number of words:  1622077\n",
      "Number of labels: 5\n",
      "Progress: 100.0% words/sec/thread:  435072 lr:  0.000000 avg.loss:  0.291783 ETA:   0h 0m 0s\n"
     ]
    },
    {
     "name": "stdout",
     "output_type": "stream",
     "text": [
      "N\t50000\n",
      "P@1\t0.602\n",
      "R@1\t0.602\n",
      "\n",
      "Training model with lr=0.25, dim=25, epoch=15, and wordNgrams=5\n"
     ]
    },
    {
     "name": "stderr",
     "output_type": "stream",
     "text": [
      "Read 88M words\n",
      "Number of words:  1622077\n",
      "Number of labels: 5\n",
      "Progress: 100.0% words/sec/thread:  281972 lr: -0.000000 avg.loss:  0.201131 ETA:   0h 0m 0s 73.4% words/sec/thread:  320259 lr:  0.066615 avg.loss:  0.272155 ETA:   0h 2m37s"
     ]
    },
    {
     "name": "stdout",
     "output_type": "stream",
     "text": [
      "N\t50000\n",
      "P@1\t0.597\n",
      "R@1\t0.597\n",
      "\n"
     ]
    },
    {
     "name": "stderr",
     "output_type": "stream",
     "text": [
      "Progress: 100.0% words/sec/thread:  281972 lr:  0.000000 avg.loss:  0.201131 ETA:   0h 0m 0s\n"
     ]
    }
   ],
   "source": [
    "lr_list = [0.05, 0.1, 0.25]\n",
    "dim_list = [5, 10, 25] # hidden units\n",
    "ngrams_list = [2, 3, 4, 5]\n",
    "epoch_list = [5, 10, 15]\n",
    "\n",
    "best_p, best_r = 0, 0\n",
    "best_l, best_d, best_n, best_e = 0, 0, 0, 0\n",
    "\n",
    "for l in lr_list:\n",
    "    for d in dim_list:\n",
    "        for n in ngrams_list:\n",
    "            for e in epoch_list:\n",
    "                print(f\"Training model with lr={l}, dim={d}, epoch={e}, and wordNgrams={n}\")\n",
    "                model = fasttext.train_supervised(input='train.txt', lr=l, dim=d, epoch=e, wordNgrams=n)\n",
    "                N, p, r = model.test('test.txt')\n",
    "                print_results(N, p, r)\n",
    "                if p > best_p and r > best_r:\n",
    "                    best_p, best_r = p, r\n",
    "                    best_l, best_d, best_n, best_e = l, d, n, e\n",
    "                print()"
   ]
  },
  {
   "cell_type": "code",
   "execution_count": 10,
   "metadata": {},
   "outputs": [
    {
     "name": "stdout",
     "output_type": "stream",
     "text": [
      "Training the best model with lr=0.1, dim=25, epoch=5, and wordNgrams=3\n"
     ]
    },
    {
     "name": "stderr",
     "output_type": "stream",
     "text": [
      "Read 88M words\n",
      "Number of words:  1622077\n",
      "Number of labels: 5\n",
      "Progress: 100.0% words/sec/thread:  870312 lr:  0.000000 avg.loss:  0.771364 ETA:   0h 0m 0s\n"
     ]
    }
   ],
   "source": [
    "print(f\"Training the best model with lr={best_l}, dim={best_d}, epoch={best_e}, and wordNgrams={best_n}\")\n",
    "model = fasttext.train_supervised(input='train.txt', lr=best_l, dim=best_d, epoch=best_e, wordNgrams=best_n, verbose=2)\n",
    "model.save_model('yelp_full.bin')"
   ]
  },
  {
   "cell_type": "code",
   "execution_count": 11,
   "metadata": {},
   "outputs": [
    {
     "name": "stdout",
     "output_type": "stream",
     "text": [
      "Accuracy: 0.62694\n"
     ]
    }
   ],
   "source": [
    "predictions = []\n",
    "for text in test_texts:\n",
    "    prediction = model.predict(text)\n",
    "    predictions.append(int(prediction[0][0].split('__label__')[1]))\n",
    "accuracy = accuracy_score(test_labels, predictions)\n",
    "print(\"Accuracy:\", accuracy)"
   ]
  }
 ],
 "metadata": {
  "colab": {
   "authorship_tag": "ABX9TyPJ7E1+CtOx1IPb0zn5z2fg",
   "provenance": []
  },
  "kernelspec": {
   "display_name": "Python 3 (ipykernel)",
   "language": "python",
   "name": "python3"
  },
  "language_info": {
   "codemirror_mode": {
    "name": "ipython",
    "version": 3
   },
   "file_extension": ".py",
   "mimetype": "text/x-python",
   "name": "python",
   "nbconvert_exporter": "python",
   "pygments_lexer": "ipython3",
   "version": "3.11.7"
  },
  "widgets": {
   "application/vnd.jupyter.widget-state+json": {
    "05c694187def4cd4871d20d278911a3e": {
     "model_module": "@jupyter-widgets/controls",
     "model_module_version": "1.5.0",
     "model_name": "HTMLModel",
     "state": {
      "_dom_classes": [],
      "_model_module": "@jupyter-widgets/controls",
      "_model_module_version": "1.5.0",
      "_model_name": "HTMLModel",
      "_view_count": null,
      "_view_module": "@jupyter-widgets/controls",
      "_view_module_version": "1.5.0",
      "_view_name": "HTMLView",
      "description": "",
      "description_tooltip": null,
      "layout": "IPY_MODEL_35b022b7f4064d0c93d336b2dceb662a",
      "placeholder": "​",
      "style": "IPY_MODEL_ed5fb5584ab24755aef84cb4c31599c2",
      "value": "Downloading data: 100%"
     }
    },
    "0c3a16e5084b47dcab6d9b9513914c9f": {
     "model_module": "@jupyter-widgets/base",
     "model_module_version": "1.2.0",
     "model_name": "LayoutModel",
     "state": {
      "_model_module": "@jupyter-widgets/base",
      "_model_module_version": "1.2.0",
      "_model_name": "LayoutModel",
      "_view_count": null,
      "_view_module": "@jupyter-widgets/base",
      "_view_module_version": "1.2.0",
      "_view_name": "LayoutView",
      "align_content": null,
      "align_items": null,
      "align_self": null,
      "border": null,
      "bottom": null,
      "display": null,
      "flex": null,
      "flex_flow": null,
      "grid_area": null,
      "grid_auto_columns": null,
      "grid_auto_flow": null,
      "grid_auto_rows": null,
      "grid_column": null,
      "grid_gap": null,
      "grid_row": null,
      "grid_template_areas": null,
      "grid_template_columns": null,
      "grid_template_rows": null,
      "height": null,
      "justify_content": null,
      "justify_items": null,
      "left": null,
      "margin": null,
      "max_height": null,
      "max_width": null,
      "min_height": null,
      "min_width": null,
      "object_fit": null,
      "object_position": null,
      "order": null,
      "overflow": null,
      "overflow_x": null,
      "overflow_y": null,
      "padding": null,
      "right": null,
      "top": null,
      "visibility": null,
      "width": null
     }
    },
    "17006b0d79a7463eb1c6fc5a37a9dcab": {
     "model_module": "@jupyter-widgets/controls",
     "model_module_version": "1.5.0",
     "model_name": "ProgressStyleModel",
     "state": {
      "_model_module": "@jupyter-widgets/controls",
      "_model_module_version": "1.5.0",
      "_model_name": "ProgressStyleModel",
      "_view_count": null,
      "_view_module": "@jupyter-widgets/base",
      "_view_module_version": "1.2.0",
      "_view_name": "StyleView",
      "bar_color": null,
      "description_width": ""
     }
    },
    "227c3a65205047bf97babdf6686cf318": {
     "model_module": "@jupyter-widgets/base",
     "model_module_version": "1.2.0",
     "model_name": "LayoutModel",
     "state": {
      "_model_module": "@jupyter-widgets/base",
      "_model_module_version": "1.2.0",
      "_model_name": "LayoutModel",
      "_view_count": null,
      "_view_module": "@jupyter-widgets/base",
      "_view_module_version": "1.2.0",
      "_view_name": "LayoutView",
      "align_content": null,
      "align_items": null,
      "align_self": null,
      "border": null,
      "bottom": null,
      "display": null,
      "flex": null,
      "flex_flow": null,
      "grid_area": null,
      "grid_auto_columns": null,
      "grid_auto_flow": null,
      "grid_auto_rows": null,
      "grid_column": null,
      "grid_gap": null,
      "grid_row": null,
      "grid_template_areas": null,
      "grid_template_columns": null,
      "grid_template_rows": null,
      "height": null,
      "justify_content": null,
      "justify_items": null,
      "left": null,
      "margin": null,
      "max_height": null,
      "max_width": null,
      "min_height": null,
      "min_width": null,
      "object_fit": null,
      "object_position": null,
      "order": null,
      "overflow": null,
      "overflow_x": null,
      "overflow_y": null,
      "padding": null,
      "right": null,
      "top": null,
      "visibility": null,
      "width": null
     }
    },
    "244caedac51a47d3b7f551c9cf20c45b": {
     "model_module": "@jupyter-widgets/controls",
     "model_module_version": "1.5.0",
     "model_name": "DescriptionStyleModel",
     "state": {
      "_model_module": "@jupyter-widgets/controls",
      "_model_module_version": "1.5.0",
      "_model_name": "DescriptionStyleModel",
      "_view_count": null,
      "_view_module": "@jupyter-widgets/base",
      "_view_module_version": "1.2.0",
      "_view_name": "StyleView",
      "description_width": ""
     }
    },
    "2f9b7554501d475b9b3d0c8683fe6afa": {
     "model_module": "@jupyter-widgets/controls",
     "model_module_version": "1.5.0",
     "model_name": "FloatProgressModel",
     "state": {
      "_dom_classes": [],
      "_model_module": "@jupyter-widgets/controls",
      "_model_module_version": "1.5.0",
      "_model_name": "FloatProgressModel",
      "_view_count": null,
      "_view_module": "@jupyter-widgets/controls",
      "_view_module_version": "1.5.0",
      "_view_name": "ProgressView",
      "bar_style": "success",
      "description": "",
      "description_tooltip": null,
      "layout": "IPY_MODEL_851db213e2004ca399f36123163b9afb",
      "max": 6724,
      "min": 0,
      "orientation": "horizontal",
      "style": "IPY_MODEL_17006b0d79a7463eb1c6fc5a37a9dcab",
      "value": 6724
     }
    },
    "301a4a771bce45fd8e74b4b4b133867e": {
     "model_module": "@jupyter-widgets/controls",
     "model_module_version": "1.5.0",
     "model_name": "DescriptionStyleModel",
     "state": {
      "_model_module": "@jupyter-widgets/controls",
      "_model_module_version": "1.5.0",
      "_model_name": "DescriptionStyleModel",
      "_view_count": null,
      "_view_module": "@jupyter-widgets/base",
      "_view_module_version": "1.2.0",
      "_view_name": "StyleView",
      "description_width": ""
     }
    },
    "32096996b1f54fcfb3c309cf5cee63a8": {
     "model_module": "@jupyter-widgets/controls",
     "model_module_version": "1.5.0",
     "model_name": "HTMLModel",
     "state": {
      "_dom_classes": [],
      "_model_module": "@jupyter-widgets/controls",
      "_model_module_version": "1.5.0",
      "_model_name": "HTMLModel",
      "_view_count": null,
      "_view_module": "@jupyter-widgets/controls",
      "_view_module_version": "1.5.0",
      "_view_name": "HTMLView",
      "description": "",
      "description_tooltip": null,
      "layout": "IPY_MODEL_e69412998fb74231b5d3f01a7fe9f3eb",
      "placeholder": "​",
      "style": "IPY_MODEL_46dac1c2fa50465f9bae4967057c82a3",
      "value": " 299M/299M [00:09&lt;00:00, 34.0MB/s]"
     }
    },
    "35b022b7f4064d0c93d336b2dceb662a": {
     "model_module": "@jupyter-widgets/base",
     "model_module_version": "1.2.0",
     "model_name": "LayoutModel",
     "state": {
      "_model_module": "@jupyter-widgets/base",
      "_model_module_version": "1.2.0",
      "_model_name": "LayoutModel",
      "_view_count": null,
      "_view_module": "@jupyter-widgets/base",
      "_view_module_version": "1.2.0",
      "_view_name": "LayoutView",
      "align_content": null,
      "align_items": null,
      "align_self": null,
      "border": null,
      "bottom": null,
      "display": null,
      "flex": null,
      "flex_flow": null,
      "grid_area": null,
      "grid_auto_columns": null,
      "grid_auto_flow": null,
      "grid_auto_rows": null,
      "grid_column": null,
      "grid_gap": null,
      "grid_row": null,
      "grid_template_areas": null,
      "grid_template_columns": null,
      "grid_template_rows": null,
      "height": null,
      "justify_content": null,
      "justify_items": null,
      "left": null,
      "margin": null,
      "max_height": null,
      "max_width": null,
      "min_height": null,
      "min_width": null,
      "object_fit": null,
      "object_position": null,
      "order": null,
      "overflow": null,
      "overflow_x": null,
      "overflow_y": null,
      "padding": null,
      "right": null,
      "top": null,
      "visibility": null,
      "width": null
     }
    },
    "38499952fcf84b74965bd0827c053b01": {
     "model_module": "@jupyter-widgets/controls",
     "model_module_version": "1.5.0",
     "model_name": "HBoxModel",
     "state": {
      "_dom_classes": [],
      "_model_module": "@jupyter-widgets/controls",
      "_model_module_version": "1.5.0",
      "_model_name": "HBoxModel",
      "_view_count": null,
      "_view_module": "@jupyter-widgets/controls",
      "_view_module_version": "1.5.0",
      "_view_name": "HBoxView",
      "box_style": "",
      "children": [
       "IPY_MODEL_05c694187def4cd4871d20d278911a3e",
       "IPY_MODEL_e7dc48e60302467d85efecfdf68fee86",
       "IPY_MODEL_32096996b1f54fcfb3c309cf5cee63a8"
      ],
      "layout": "IPY_MODEL_cdbaa4b61a0740b48c3c3931647bd77d"
     }
    },
    "389740c0308d4ab8a06af3fc527d363e": {
     "model_module": "@jupyter-widgets/base",
     "model_module_version": "1.2.0",
     "model_name": "LayoutModel",
     "state": {
      "_model_module": "@jupyter-widgets/base",
      "_model_module_version": "1.2.0",
      "_model_name": "LayoutModel",
      "_view_count": null,
      "_view_module": "@jupyter-widgets/base",
      "_view_module_version": "1.2.0",
      "_view_name": "LayoutView",
      "align_content": null,
      "align_items": null,
      "align_self": null,
      "border": null,
      "bottom": null,
      "display": null,
      "flex": null,
      "flex_flow": null,
      "grid_area": null,
      "grid_auto_columns": null,
      "grid_auto_flow": null,
      "grid_auto_rows": null,
      "grid_column": null,
      "grid_gap": null,
      "grid_row": null,
      "grid_template_areas": null,
      "grid_template_columns": null,
      "grid_template_rows": null,
      "height": null,
      "justify_content": null,
      "justify_items": null,
      "left": null,
      "margin": null,
      "max_height": null,
      "max_width": null,
      "min_height": null,
      "min_width": null,
      "object_fit": null,
      "object_position": null,
      "order": null,
      "overflow": null,
      "overflow_x": null,
      "overflow_y": null,
      "padding": null,
      "right": null,
      "top": null,
      "visibility": null,
      "width": null
     }
    },
    "4560200eb05f4305951d1877775d34c5": {
     "model_module": "@jupyter-widgets/base",
     "model_module_version": "1.2.0",
     "model_name": "LayoutModel",
     "state": {
      "_model_module": "@jupyter-widgets/base",
      "_model_module_version": "1.2.0",
      "_model_name": "LayoutModel",
      "_view_count": null,
      "_view_module": "@jupyter-widgets/base",
      "_view_module_version": "1.2.0",
      "_view_name": "LayoutView",
      "align_content": null,
      "align_items": null,
      "align_self": null,
      "border": null,
      "bottom": null,
      "display": null,
      "flex": null,
      "flex_flow": null,
      "grid_area": null,
      "grid_auto_columns": null,
      "grid_auto_flow": null,
      "grid_auto_rows": null,
      "grid_column": null,
      "grid_gap": null,
      "grid_row": null,
      "grid_template_areas": null,
      "grid_template_columns": null,
      "grid_template_rows": null,
      "height": null,
      "justify_content": null,
      "justify_items": null,
      "left": null,
      "margin": null,
      "max_height": null,
      "max_width": null,
      "min_height": null,
      "min_width": null,
      "object_fit": null,
      "object_position": null,
      "order": null,
      "overflow": null,
      "overflow_x": null,
      "overflow_y": null,
      "padding": null,
      "right": null,
      "top": null,
      "visibility": null,
      "width": null
     }
    },
    "46295c6aaebd4613a54fabe458404a09": {
     "model_module": "@jupyter-widgets/base",
     "model_module_version": "1.2.0",
     "model_name": "LayoutModel",
     "state": {
      "_model_module": "@jupyter-widgets/base",
      "_model_module_version": "1.2.0",
      "_model_name": "LayoutModel",
      "_view_count": null,
      "_view_module": "@jupyter-widgets/base",
      "_view_module_version": "1.2.0",
      "_view_name": "LayoutView",
      "align_content": null,
      "align_items": null,
      "align_self": null,
      "border": null,
      "bottom": null,
      "display": null,
      "flex": null,
      "flex_flow": null,
      "grid_area": null,
      "grid_auto_columns": null,
      "grid_auto_flow": null,
      "grid_auto_rows": null,
      "grid_column": null,
      "grid_gap": null,
      "grid_row": null,
      "grid_template_areas": null,
      "grid_template_columns": null,
      "grid_template_rows": null,
      "height": null,
      "justify_content": null,
      "justify_items": null,
      "left": null,
      "margin": null,
      "max_height": null,
      "max_width": null,
      "min_height": null,
      "min_width": null,
      "object_fit": null,
      "object_position": null,
      "order": null,
      "overflow": null,
      "overflow_x": null,
      "overflow_y": null,
      "padding": null,
      "right": null,
      "top": null,
      "visibility": null,
      "width": null
     }
    },
    "46dac1c2fa50465f9bae4967057c82a3": {
     "model_module": "@jupyter-widgets/controls",
     "model_module_version": "1.5.0",
     "model_name": "DescriptionStyleModel",
     "state": {
      "_model_module": "@jupyter-widgets/controls",
      "_model_module_version": "1.5.0",
      "_model_name": "DescriptionStyleModel",
      "_view_count": null,
      "_view_module": "@jupyter-widgets/base",
      "_view_module_version": "1.2.0",
      "_view_name": "StyleView",
      "description_width": ""
     }
    },
    "4f22bb20596a4d8ca7b7aaa6f4c859d9": {
     "model_module": "@jupyter-widgets/controls",
     "model_module_version": "1.5.0",
     "model_name": "FloatProgressModel",
     "state": {
      "_dom_classes": [],
      "_model_module": "@jupyter-widgets/controls",
      "_model_module_version": "1.5.0",
      "_model_name": "FloatProgressModel",
      "_view_count": null,
      "_view_module": "@jupyter-widgets/controls",
      "_view_module_version": "1.5.0",
      "_view_name": "ProgressView",
      "bar_style": "success",
      "description": "",
      "description_tooltip": null,
      "layout": "IPY_MODEL_8aba062e761147cf818c94a4566b98ac",
      "max": 23515519,
      "min": 0,
      "orientation": "horizontal",
      "style": "IPY_MODEL_f915a666e30f4fee9d5ad747436042b2",
      "value": 23515519
     }
    },
    "59df381b5d04471da3bc76051d109896": {
     "model_module": "@jupyter-widgets/controls",
     "model_module_version": "1.5.0",
     "model_name": "HTMLModel",
     "state": {
      "_dom_classes": [],
      "_model_module": "@jupyter-widgets/controls",
      "_model_module_version": "1.5.0",
      "_model_name": "HTMLModel",
      "_view_count": null,
      "_view_module": "@jupyter-widgets/controls",
      "_view_module_version": "1.5.0",
      "_view_name": "HTMLView",
      "description": "",
      "description_tooltip": null,
      "layout": "IPY_MODEL_714e48502323455796824ef731a0274b",
      "placeholder": "​",
      "style": "IPY_MODEL_ab4a849ca0d74bfaaec4cf8bff532351",
      "value": " 50000/50000 [00:00&lt;00:00, 188044.45 examples/s]"
     }
    },
    "63a2ac4f35e74fe28b5404404af4daa1": {
     "model_module": "@jupyter-widgets/base",
     "model_module_version": "1.2.0",
     "model_name": "LayoutModel",
     "state": {
      "_model_module": "@jupyter-widgets/base",
      "_model_module_version": "1.2.0",
      "_model_name": "LayoutModel",
      "_view_count": null,
      "_view_module": "@jupyter-widgets/base",
      "_view_module_version": "1.2.0",
      "_view_name": "LayoutView",
      "align_content": null,
      "align_items": null,
      "align_self": null,
      "border": null,
      "bottom": null,
      "display": null,
      "flex": null,
      "flex_flow": null,
      "grid_area": null,
      "grid_auto_columns": null,
      "grid_auto_flow": null,
      "grid_auto_rows": null,
      "grid_column": null,
      "grid_gap": null,
      "grid_row": null,
      "grid_template_areas": null,
      "grid_template_columns": null,
      "grid_template_rows": null,
      "height": null,
      "justify_content": null,
      "justify_items": null,
      "left": null,
      "margin": null,
      "max_height": null,
      "max_width": null,
      "min_height": null,
      "min_width": null,
      "object_fit": null,
      "object_position": null,
      "order": null,
      "overflow": null,
      "overflow_x": null,
      "overflow_y": null,
      "padding": null,
      "right": null,
      "top": null,
      "visibility": null,
      "width": null
     }
    },
    "68518500992843aa98fa8588aca9ef3f": {
     "model_module": "@jupyter-widgets/controls",
     "model_module_version": "1.5.0",
     "model_name": "ProgressStyleModel",
     "state": {
      "_model_module": "@jupyter-widgets/controls",
      "_model_module_version": "1.5.0",
      "_model_name": "ProgressStyleModel",
      "_view_count": null,
      "_view_module": "@jupyter-widgets/base",
      "_view_module_version": "1.2.0",
      "_view_name": "StyleView",
      "bar_color": null,
      "description_width": ""
     }
    },
    "6f448a3c35e7495388e9bc258924029e": {
     "model_module": "@jupyter-widgets/controls",
     "model_module_version": "1.5.0",
     "model_name": "HBoxModel",
     "state": {
      "_dom_classes": [],
      "_model_module": "@jupyter-widgets/controls",
      "_model_module_version": "1.5.0",
      "_model_name": "HBoxModel",
      "_view_count": null,
      "_view_module": "@jupyter-widgets/controls",
      "_view_module_version": "1.5.0",
      "_view_name": "HBoxView",
      "box_style": "",
      "children": [
       "IPY_MODEL_ed89b115fbac49f1bcdb9021c02be5a3",
       "IPY_MODEL_4f22bb20596a4d8ca7b7aaa6f4c859d9",
       "IPY_MODEL_f947004547824c019851bd6354241312"
      ],
      "layout": "IPY_MODEL_7566e72855004fe58014ce06438cca7a"
     }
    },
    "714e48502323455796824ef731a0274b": {
     "model_module": "@jupyter-widgets/base",
     "model_module_version": "1.2.0",
     "model_name": "LayoutModel",
     "state": {
      "_model_module": "@jupyter-widgets/base",
      "_model_module_version": "1.2.0",
      "_model_name": "LayoutModel",
      "_view_count": null,
      "_view_module": "@jupyter-widgets/base",
      "_view_module_version": "1.2.0",
      "_view_name": "LayoutView",
      "align_content": null,
      "align_items": null,
      "align_self": null,
      "border": null,
      "bottom": null,
      "display": null,
      "flex": null,
      "flex_flow": null,
      "grid_area": null,
      "grid_auto_columns": null,
      "grid_auto_flow": null,
      "grid_auto_rows": null,
      "grid_column": null,
      "grid_gap": null,
      "grid_row": null,
      "grid_template_areas": null,
      "grid_template_columns": null,
      "grid_template_rows": null,
      "height": null,
      "justify_content": null,
      "justify_items": null,
      "left": null,
      "margin": null,
      "max_height": null,
      "max_width": null,
      "min_height": null,
      "min_width": null,
      "object_fit": null,
      "object_position": null,
      "order": null,
      "overflow": null,
      "overflow_x": null,
      "overflow_y": null,
      "padding": null,
      "right": null,
      "top": null,
      "visibility": null,
      "width": null
     }
    },
    "7566e72855004fe58014ce06438cca7a": {
     "model_module": "@jupyter-widgets/base",
     "model_module_version": "1.2.0",
     "model_name": "LayoutModel",
     "state": {
      "_model_module": "@jupyter-widgets/base",
      "_model_module_version": "1.2.0",
      "_model_name": "LayoutModel",
      "_view_count": null,
      "_view_module": "@jupyter-widgets/base",
      "_view_module_version": "1.2.0",
      "_view_name": "LayoutView",
      "align_content": null,
      "align_items": null,
      "align_self": null,
      "border": null,
      "bottom": null,
      "display": null,
      "flex": null,
      "flex_flow": null,
      "grid_area": null,
      "grid_auto_columns": null,
      "grid_auto_flow": null,
      "grid_auto_rows": null,
      "grid_column": null,
      "grid_gap": null,
      "grid_row": null,
      "grid_template_areas": null,
      "grid_template_columns": null,
      "grid_template_rows": null,
      "height": null,
      "justify_content": null,
      "justify_items": null,
      "left": null,
      "margin": null,
      "max_height": null,
      "max_width": null,
      "min_height": null,
      "min_width": null,
      "object_fit": null,
      "object_position": null,
      "order": null,
      "overflow": null,
      "overflow_x": null,
      "overflow_y": null,
      "padding": null,
      "right": null,
      "top": null,
      "visibility": null,
      "width": null
     }
    },
    "777b738c692f41769ac250afa36aa1a8": {
     "model_module": "@jupyter-widgets/controls",
     "model_module_version": "1.5.0",
     "model_name": "FloatProgressModel",
     "state": {
      "_dom_classes": [],
      "_model_module": "@jupyter-widgets/controls",
      "_model_module_version": "1.5.0",
      "_model_name": "FloatProgressModel",
      "_view_count": null,
      "_view_module": "@jupyter-widgets/controls",
      "_view_module_version": "1.5.0",
      "_view_name": "ProgressView",
      "bar_style": "success",
      "description": "",
      "description_tooltip": null,
      "layout": "IPY_MODEL_4560200eb05f4305951d1877775d34c5",
      "max": 650000,
      "min": 0,
      "orientation": "horizontal",
      "style": "IPY_MODEL_fbf372cf8fa44643ad796cf5ca7367d5",
      "value": 650000
     }
    },
    "7af6b0da78cb4ecfaf4eca9d3afd2262": {
     "model_module": "@jupyter-widgets/controls",
     "model_module_version": "1.5.0",
     "model_name": "DescriptionStyleModel",
     "state": {
      "_model_module": "@jupyter-widgets/controls",
      "_model_module_version": "1.5.0",
      "_model_name": "DescriptionStyleModel",
      "_view_count": null,
      "_view_module": "@jupyter-widgets/base",
      "_view_module_version": "1.2.0",
      "_view_name": "StyleView",
      "description_width": ""
     }
    },
    "82dfddf36d494a9e9b41885f23de2201": {
     "model_module": "@jupyter-widgets/controls",
     "model_module_version": "1.5.0",
     "model_name": "ProgressStyleModel",
     "state": {
      "_model_module": "@jupyter-widgets/controls",
      "_model_module_version": "1.5.0",
      "_model_name": "ProgressStyleModel",
      "_view_count": null,
      "_view_module": "@jupyter-widgets/base",
      "_view_module_version": "1.2.0",
      "_view_name": "StyleView",
      "bar_color": null,
      "description_width": ""
     }
    },
    "851db213e2004ca399f36123163b9afb": {
     "model_module": "@jupyter-widgets/base",
     "model_module_version": "1.2.0",
     "model_name": "LayoutModel",
     "state": {
      "_model_module": "@jupyter-widgets/base",
      "_model_module_version": "1.2.0",
      "_model_name": "LayoutModel",
      "_view_count": null,
      "_view_module": "@jupyter-widgets/base",
      "_view_module_version": "1.2.0",
      "_view_name": "LayoutView",
      "align_content": null,
      "align_items": null,
      "align_self": null,
      "border": null,
      "bottom": null,
      "display": null,
      "flex": null,
      "flex_flow": null,
      "grid_area": null,
      "grid_auto_columns": null,
      "grid_auto_flow": null,
      "grid_auto_rows": null,
      "grid_column": null,
      "grid_gap": null,
      "grid_row": null,
      "grid_template_areas": null,
      "grid_template_columns": null,
      "grid_template_rows": null,
      "height": null,
      "justify_content": null,
      "justify_items": null,
      "left": null,
      "margin": null,
      "max_height": null,
      "max_width": null,
      "min_height": null,
      "min_width": null,
      "object_fit": null,
      "object_position": null,
      "order": null,
      "overflow": null,
      "overflow_x": null,
      "overflow_y": null,
      "padding": null,
      "right": null,
      "top": null,
      "visibility": null,
      "width": null
     }
    },
    "87f44bd979d348acbdb363cba7bd54e7": {
     "model_module": "@jupyter-widgets/controls",
     "model_module_version": "1.5.0",
     "model_name": "HBoxModel",
     "state": {
      "_dom_classes": [],
      "_model_module": "@jupyter-widgets/controls",
      "_model_module_version": "1.5.0",
      "_model_name": "HBoxModel",
      "_view_count": null,
      "_view_module": "@jupyter-widgets/controls",
      "_view_module_version": "1.5.0",
      "_view_name": "HBoxView",
      "box_style": "",
      "children": [
       "IPY_MODEL_d9a55c2980654cecb6c25fb75f81823f",
       "IPY_MODEL_f9b9f1b206bd4265ac119bd8e52ee822",
       "IPY_MODEL_59df381b5d04471da3bc76051d109896"
      ],
      "layout": "IPY_MODEL_c1fa1588675642a9a16fe58b537b5405"
     }
    },
    "8844de40708442da93b66cd62dba1e0f": {
     "model_module": "@jupyter-widgets/controls",
     "model_module_version": "1.5.0",
     "model_name": "HTMLModel",
     "state": {
      "_dom_classes": [],
      "_model_module": "@jupyter-widgets/controls",
      "_model_module_version": "1.5.0",
      "_model_name": "HTMLModel",
      "_view_count": null,
      "_view_module": "@jupyter-widgets/controls",
      "_view_module_version": "1.5.0",
      "_view_name": "HTMLView",
      "description": "",
      "description_tooltip": null,
      "layout": "IPY_MODEL_63a2ac4f35e74fe28b5404404af4daa1",
      "placeholder": "​",
      "style": "IPY_MODEL_7af6b0da78cb4ecfaf4eca9d3afd2262",
      "value": "Generating train split: 100%"
     }
    },
    "8aba062e761147cf818c94a4566b98ac": {
     "model_module": "@jupyter-widgets/base",
     "model_module_version": "1.2.0",
     "model_name": "LayoutModel",
     "state": {
      "_model_module": "@jupyter-widgets/base",
      "_model_module_version": "1.2.0",
      "_model_name": "LayoutModel",
      "_view_count": null,
      "_view_module": "@jupyter-widgets/base",
      "_view_module_version": "1.2.0",
      "_view_name": "LayoutView",
      "align_content": null,
      "align_items": null,
      "align_self": null,
      "border": null,
      "bottom": null,
      "display": null,
      "flex": null,
      "flex_flow": null,
      "grid_area": null,
      "grid_auto_columns": null,
      "grid_auto_flow": null,
      "grid_auto_rows": null,
      "grid_column": null,
      "grid_gap": null,
      "grid_row": null,
      "grid_template_areas": null,
      "grid_template_columns": null,
      "grid_template_rows": null,
      "height": null,
      "justify_content": null,
      "justify_items": null,
      "left": null,
      "margin": null,
      "max_height": null,
      "max_width": null,
      "min_height": null,
      "min_width": null,
      "object_fit": null,
      "object_position": null,
      "order": null,
      "overflow": null,
      "overflow_x": null,
      "overflow_y": null,
      "padding": null,
      "right": null,
      "top": null,
      "visibility": null,
      "width": null
     }
    },
    "8b2c1a9dfff7427d9c603f4a68a0413c": {
     "model_module": "@jupyter-widgets/controls",
     "model_module_version": "1.5.0",
     "model_name": "HBoxModel",
     "state": {
      "_dom_classes": [],
      "_model_module": "@jupyter-widgets/controls",
      "_model_module_version": "1.5.0",
      "_model_name": "HBoxModel",
      "_view_count": null,
      "_view_module": "@jupyter-widgets/controls",
      "_view_module_version": "1.5.0",
      "_view_name": "HBoxView",
      "box_style": "",
      "children": [
       "IPY_MODEL_8844de40708442da93b66cd62dba1e0f",
       "IPY_MODEL_777b738c692f41769ac250afa36aa1a8",
       "IPY_MODEL_97f4f8e208944e0fb7bb3215bc15d27f"
      ],
      "layout": "IPY_MODEL_46295c6aaebd4613a54fabe458404a09"
     }
    },
    "952287487f844e9eac0e02097bcaaa55": {
     "model_module": "@jupyter-widgets/controls",
     "model_module_version": "1.5.0",
     "model_name": "DescriptionStyleModel",
     "state": {
      "_model_module": "@jupyter-widgets/controls",
      "_model_module_version": "1.5.0",
      "_model_name": "DescriptionStyleModel",
      "_view_count": null,
      "_view_module": "@jupyter-widgets/base",
      "_view_module_version": "1.2.0",
      "_view_name": "StyleView",
      "description_width": ""
     }
    },
    "97f4f8e208944e0fb7bb3215bc15d27f": {
     "model_module": "@jupyter-widgets/controls",
     "model_module_version": "1.5.0",
     "model_name": "HTMLModel",
     "state": {
      "_dom_classes": [],
      "_model_module": "@jupyter-widgets/controls",
      "_model_module_version": "1.5.0",
      "_model_name": "HTMLModel",
      "_view_count": null,
      "_view_module": "@jupyter-widgets/controls",
      "_view_module_version": "1.5.0",
      "_view_name": "HTMLView",
      "description": "",
      "description_tooltip": null,
      "layout": "IPY_MODEL_389740c0308d4ab8a06af3fc527d363e",
      "placeholder": "​",
      "style": "IPY_MODEL_301a4a771bce45fd8e74b4b4b133867e",
      "value": " 650000/650000 [00:05&lt;00:00, 209855.56 examples/s]"
     }
    },
    "98bed2baede64eceafbfbcae4c156952": {
     "model_module": "@jupyter-widgets/controls",
     "model_module_version": "1.5.0",
     "model_name": "DescriptionStyleModel",
     "state": {
      "_model_module": "@jupyter-widgets/controls",
      "_model_module_version": "1.5.0",
      "_model_name": "DescriptionStyleModel",
      "_view_count": null,
      "_view_module": "@jupyter-widgets/base",
      "_view_module_version": "1.2.0",
      "_view_name": "StyleView",
      "description_width": ""
     }
    },
    "a12f9b36a3ad49f7b901eb74682662ae": {
     "model_module": "@jupyter-widgets/base",
     "model_module_version": "1.2.0",
     "model_name": "LayoutModel",
     "state": {
      "_model_module": "@jupyter-widgets/base",
      "_model_module_version": "1.2.0",
      "_model_name": "LayoutModel",
      "_view_count": null,
      "_view_module": "@jupyter-widgets/base",
      "_view_module_version": "1.2.0",
      "_view_name": "LayoutView",
      "align_content": null,
      "align_items": null,
      "align_self": null,
      "border": null,
      "bottom": null,
      "display": null,
      "flex": null,
      "flex_flow": null,
      "grid_area": null,
      "grid_auto_columns": null,
      "grid_auto_flow": null,
      "grid_auto_rows": null,
      "grid_column": null,
      "grid_gap": null,
      "grid_row": null,
      "grid_template_areas": null,
      "grid_template_columns": null,
      "grid_template_rows": null,
      "height": null,
      "justify_content": null,
      "justify_items": null,
      "left": null,
      "margin": null,
      "max_height": null,
      "max_width": null,
      "min_height": null,
      "min_width": null,
      "object_fit": null,
      "object_position": null,
      "order": null,
      "overflow": null,
      "overflow_x": null,
      "overflow_y": null,
      "padding": null,
      "right": null,
      "top": null,
      "visibility": null,
      "width": null
     }
    },
    "a3e8bd4d2f7d4785bf8a5f29615e8cce": {
     "model_module": "@jupyter-widgets/controls",
     "model_module_version": "1.5.0",
     "model_name": "HTMLModel",
     "state": {
      "_dom_classes": [],
      "_model_module": "@jupyter-widgets/controls",
      "_model_module_version": "1.5.0",
      "_model_name": "HTMLModel",
      "_view_count": null,
      "_view_module": "@jupyter-widgets/controls",
      "_view_module_version": "1.5.0",
      "_view_name": "HTMLView",
      "description": "",
      "description_tooltip": null,
      "layout": "IPY_MODEL_eb619cf1c3c943d7b41c9a22f409bd4a",
      "placeholder": "​",
      "style": "IPY_MODEL_952287487f844e9eac0e02097bcaaa55",
      "value": "Downloading readme: 100%"
     }
    },
    "a7ce21db39f445b99112f161da6cec76": {
     "model_module": "@jupyter-widgets/base",
     "model_module_version": "1.2.0",
     "model_name": "LayoutModel",
     "state": {
      "_model_module": "@jupyter-widgets/base",
      "_model_module_version": "1.2.0",
      "_model_name": "LayoutModel",
      "_view_count": null,
      "_view_module": "@jupyter-widgets/base",
      "_view_module_version": "1.2.0",
      "_view_name": "LayoutView",
      "align_content": null,
      "align_items": null,
      "align_self": null,
      "border": null,
      "bottom": null,
      "display": null,
      "flex": null,
      "flex_flow": null,
      "grid_area": null,
      "grid_auto_columns": null,
      "grid_auto_flow": null,
      "grid_auto_rows": null,
      "grid_column": null,
      "grid_gap": null,
      "grid_row": null,
      "grid_template_areas": null,
      "grid_template_columns": null,
      "grid_template_rows": null,
      "height": null,
      "justify_content": null,
      "justify_items": null,
      "left": null,
      "margin": null,
      "max_height": null,
      "max_width": null,
      "min_height": null,
      "min_width": null,
      "object_fit": null,
      "object_position": null,
      "order": null,
      "overflow": null,
      "overflow_x": null,
      "overflow_y": null,
      "padding": null,
      "right": null,
      "top": null,
      "visibility": null,
      "width": null
     }
    },
    "ab4a849ca0d74bfaaec4cf8bff532351": {
     "model_module": "@jupyter-widgets/controls",
     "model_module_version": "1.5.0",
     "model_name": "DescriptionStyleModel",
     "state": {
      "_model_module": "@jupyter-widgets/controls",
      "_model_module_version": "1.5.0",
      "_model_name": "DescriptionStyleModel",
      "_view_count": null,
      "_view_module": "@jupyter-widgets/base",
      "_view_module_version": "1.2.0",
      "_view_name": "StyleView",
      "description_width": ""
     }
    },
    "c1fa1588675642a9a16fe58b537b5405": {
     "model_module": "@jupyter-widgets/base",
     "model_module_version": "1.2.0",
     "model_name": "LayoutModel",
     "state": {
      "_model_module": "@jupyter-widgets/base",
      "_model_module_version": "1.2.0",
      "_model_name": "LayoutModel",
      "_view_count": null,
      "_view_module": "@jupyter-widgets/base",
      "_view_module_version": "1.2.0",
      "_view_name": "LayoutView",
      "align_content": null,
      "align_items": null,
      "align_self": null,
      "border": null,
      "bottom": null,
      "display": null,
      "flex": null,
      "flex_flow": null,
      "grid_area": null,
      "grid_auto_columns": null,
      "grid_auto_flow": null,
      "grid_auto_rows": null,
      "grid_column": null,
      "grid_gap": null,
      "grid_row": null,
      "grid_template_areas": null,
      "grid_template_columns": null,
      "grid_template_rows": null,
      "height": null,
      "justify_content": null,
      "justify_items": null,
      "left": null,
      "margin": null,
      "max_height": null,
      "max_width": null,
      "min_height": null,
      "min_width": null,
      "object_fit": null,
      "object_position": null,
      "order": null,
      "overflow": null,
      "overflow_x": null,
      "overflow_y": null,
      "padding": null,
      "right": null,
      "top": null,
      "visibility": null,
      "width": null
     }
    },
    "cdbaa4b61a0740b48c3c3931647bd77d": {
     "model_module": "@jupyter-widgets/base",
     "model_module_version": "1.2.0",
     "model_name": "LayoutModel",
     "state": {
      "_model_module": "@jupyter-widgets/base",
      "_model_module_version": "1.2.0",
      "_model_name": "LayoutModel",
      "_view_count": null,
      "_view_module": "@jupyter-widgets/base",
      "_view_module_version": "1.2.0",
      "_view_name": "LayoutView",
      "align_content": null,
      "align_items": null,
      "align_self": null,
      "border": null,
      "bottom": null,
      "display": null,
      "flex": null,
      "flex_flow": null,
      "grid_area": null,
      "grid_auto_columns": null,
      "grid_auto_flow": null,
      "grid_auto_rows": null,
      "grid_column": null,
      "grid_gap": null,
      "grid_row": null,
      "grid_template_areas": null,
      "grid_template_columns": null,
      "grid_template_rows": null,
      "height": null,
      "justify_content": null,
      "justify_items": null,
      "left": null,
      "margin": null,
      "max_height": null,
      "max_width": null,
      "min_height": null,
      "min_width": null,
      "object_fit": null,
      "object_position": null,
      "order": null,
      "overflow": null,
      "overflow_x": null,
      "overflow_y": null,
      "padding": null,
      "right": null,
      "top": null,
      "visibility": null,
      "width": null
     }
    },
    "d9a55c2980654cecb6c25fb75f81823f": {
     "model_module": "@jupyter-widgets/controls",
     "model_module_version": "1.5.0",
     "model_name": "HTMLModel",
     "state": {
      "_dom_classes": [],
      "_model_module": "@jupyter-widgets/controls",
      "_model_module_version": "1.5.0",
      "_model_name": "HTMLModel",
      "_view_count": null,
      "_view_module": "@jupyter-widgets/controls",
      "_view_module_version": "1.5.0",
      "_view_name": "HTMLView",
      "description": "",
      "description_tooltip": null,
      "layout": "IPY_MODEL_0c3a16e5084b47dcab6d9b9513914c9f",
      "placeholder": "​",
      "style": "IPY_MODEL_ef23077b8ded4bf78d04bd075b05af4c",
      "value": "Generating test split: 100%"
     }
    },
    "dbf6ab331e4642209c89b30afab0f8e4": {
     "model_module": "@jupyter-widgets/base",
     "model_module_version": "1.2.0",
     "model_name": "LayoutModel",
     "state": {
      "_model_module": "@jupyter-widgets/base",
      "_model_module_version": "1.2.0",
      "_model_name": "LayoutModel",
      "_view_count": null,
      "_view_module": "@jupyter-widgets/base",
      "_view_module_version": "1.2.0",
      "_view_name": "LayoutView",
      "align_content": null,
      "align_items": null,
      "align_self": null,
      "border": null,
      "bottom": null,
      "display": null,
      "flex": null,
      "flex_flow": null,
      "grid_area": null,
      "grid_auto_columns": null,
      "grid_auto_flow": null,
      "grid_auto_rows": null,
      "grid_column": null,
      "grid_gap": null,
      "grid_row": null,
      "grid_template_areas": null,
      "grid_template_columns": null,
      "grid_template_rows": null,
      "height": null,
      "justify_content": null,
      "justify_items": null,
      "left": null,
      "margin": null,
      "max_height": null,
      "max_width": null,
      "min_height": null,
      "min_width": null,
      "object_fit": null,
      "object_position": null,
      "order": null,
      "overflow": null,
      "overflow_x": null,
      "overflow_y": null,
      "padding": null,
      "right": null,
      "top": null,
      "visibility": null,
      "width": null
     }
    },
    "e51e52e1a2e14ef981a9f77ca74eccf3": {
     "model_module": "@jupyter-widgets/controls",
     "model_module_version": "1.5.0",
     "model_name": "HTMLModel",
     "state": {
      "_dom_classes": [],
      "_model_module": "@jupyter-widgets/controls",
      "_model_module_version": "1.5.0",
      "_model_name": "HTMLModel",
      "_view_count": null,
      "_view_module": "@jupyter-widgets/controls",
      "_view_module_version": "1.5.0",
      "_view_name": "HTMLView",
      "description": "",
      "description_tooltip": null,
      "layout": "IPY_MODEL_227c3a65205047bf97babdf6686cf318",
      "placeholder": "​",
      "style": "IPY_MODEL_244caedac51a47d3b7f551c9cf20c45b",
      "value": " 6.72k/6.72k [00:00&lt;00:00, 407kB/s]"
     }
    },
    "e69412998fb74231b5d3f01a7fe9f3eb": {
     "model_module": "@jupyter-widgets/base",
     "model_module_version": "1.2.0",
     "model_name": "LayoutModel",
     "state": {
      "_model_module": "@jupyter-widgets/base",
      "_model_module_version": "1.2.0",
      "_model_name": "LayoutModel",
      "_view_count": null,
      "_view_module": "@jupyter-widgets/base",
      "_view_module_version": "1.2.0",
      "_view_name": "LayoutView",
      "align_content": null,
      "align_items": null,
      "align_self": null,
      "border": null,
      "bottom": null,
      "display": null,
      "flex": null,
      "flex_flow": null,
      "grid_area": null,
      "grid_auto_columns": null,
      "grid_auto_flow": null,
      "grid_auto_rows": null,
      "grid_column": null,
      "grid_gap": null,
      "grid_row": null,
      "grid_template_areas": null,
      "grid_template_columns": null,
      "grid_template_rows": null,
      "height": null,
      "justify_content": null,
      "justify_items": null,
      "left": null,
      "margin": null,
      "max_height": null,
      "max_width": null,
      "min_height": null,
      "min_width": null,
      "object_fit": null,
      "object_position": null,
      "order": null,
      "overflow": null,
      "overflow_x": null,
      "overflow_y": null,
      "padding": null,
      "right": null,
      "top": null,
      "visibility": null,
      "width": null
     }
    },
    "e7dc48e60302467d85efecfdf68fee86": {
     "model_module": "@jupyter-widgets/controls",
     "model_module_version": "1.5.0",
     "model_name": "FloatProgressModel",
     "state": {
      "_dom_classes": [],
      "_model_module": "@jupyter-widgets/controls",
      "_model_module_version": "1.5.0",
      "_model_name": "FloatProgressModel",
      "_view_count": null,
      "_view_module": "@jupyter-widgets/controls",
      "_view_module_version": "1.5.0",
      "_view_name": "ProgressView",
      "bar_style": "success",
      "description": "",
      "description_tooltip": null,
      "layout": "IPY_MODEL_a12f9b36a3ad49f7b901eb74682662ae",
      "max": 299436850,
      "min": 0,
      "orientation": "horizontal",
      "style": "IPY_MODEL_82dfddf36d494a9e9b41885f23de2201",
      "value": 299436850
     }
    },
    "eb619cf1c3c943d7b41c9a22f409bd4a": {
     "model_module": "@jupyter-widgets/base",
     "model_module_version": "1.2.0",
     "model_name": "LayoutModel",
     "state": {
      "_model_module": "@jupyter-widgets/base",
      "_model_module_version": "1.2.0",
      "_model_name": "LayoutModel",
      "_view_count": null,
      "_view_module": "@jupyter-widgets/base",
      "_view_module_version": "1.2.0",
      "_view_name": "LayoutView",
      "align_content": null,
      "align_items": null,
      "align_self": null,
      "border": null,
      "bottom": null,
      "display": null,
      "flex": null,
      "flex_flow": null,
      "grid_area": null,
      "grid_auto_columns": null,
      "grid_auto_flow": null,
      "grid_auto_rows": null,
      "grid_column": null,
      "grid_gap": null,
      "grid_row": null,
      "grid_template_areas": null,
      "grid_template_columns": null,
      "grid_template_rows": null,
      "height": null,
      "justify_content": null,
      "justify_items": null,
      "left": null,
      "margin": null,
      "max_height": null,
      "max_width": null,
      "min_height": null,
      "min_width": null,
      "object_fit": null,
      "object_position": null,
      "order": null,
      "overflow": null,
      "overflow_x": null,
      "overflow_y": null,
      "padding": null,
      "right": null,
      "top": null,
      "visibility": null,
      "width": null
     }
    },
    "ecfd4e92155848099c5faf0e486a128f": {
     "model_module": "@jupyter-widgets/controls",
     "model_module_version": "1.5.0",
     "model_name": "HBoxModel",
     "state": {
      "_dom_classes": [],
      "_model_module": "@jupyter-widgets/controls",
      "_model_module_version": "1.5.0",
      "_model_name": "HBoxModel",
      "_view_count": null,
      "_view_module": "@jupyter-widgets/controls",
      "_view_module_version": "1.5.0",
      "_view_name": "HBoxView",
      "box_style": "",
      "children": [
       "IPY_MODEL_a3e8bd4d2f7d4785bf8a5f29615e8cce",
       "IPY_MODEL_2f9b7554501d475b9b3d0c8683fe6afa",
       "IPY_MODEL_e51e52e1a2e14ef981a9f77ca74eccf3"
      ],
      "layout": "IPY_MODEL_fda4647626854b3dba27ce85d7f81d59"
     }
    },
    "ed5fb5584ab24755aef84cb4c31599c2": {
     "model_module": "@jupyter-widgets/controls",
     "model_module_version": "1.5.0",
     "model_name": "DescriptionStyleModel",
     "state": {
      "_model_module": "@jupyter-widgets/controls",
      "_model_module_version": "1.5.0",
      "_model_name": "DescriptionStyleModel",
      "_view_count": null,
      "_view_module": "@jupyter-widgets/base",
      "_view_module_version": "1.2.0",
      "_view_name": "StyleView",
      "description_width": ""
     }
    },
    "ed89b115fbac49f1bcdb9021c02be5a3": {
     "model_module": "@jupyter-widgets/controls",
     "model_module_version": "1.5.0",
     "model_name": "HTMLModel",
     "state": {
      "_dom_classes": [],
      "_model_module": "@jupyter-widgets/controls",
      "_model_module_version": "1.5.0",
      "_model_name": "HTMLModel",
      "_view_count": null,
      "_view_module": "@jupyter-widgets/controls",
      "_view_module_version": "1.5.0",
      "_view_name": "HTMLView",
      "description": "",
      "description_tooltip": null,
      "layout": "IPY_MODEL_a7ce21db39f445b99112f161da6cec76",
      "placeholder": "​",
      "style": "IPY_MODEL_f247d525d77345f7bbc36e578eafeba6",
      "value": "Downloading data: 100%"
     }
    },
    "ef23077b8ded4bf78d04bd075b05af4c": {
     "model_module": "@jupyter-widgets/controls",
     "model_module_version": "1.5.0",
     "model_name": "DescriptionStyleModel",
     "state": {
      "_model_module": "@jupyter-widgets/controls",
      "_model_module_version": "1.5.0",
      "_model_name": "DescriptionStyleModel",
      "_view_count": null,
      "_view_module": "@jupyter-widgets/base",
      "_view_module_version": "1.2.0",
      "_view_name": "StyleView",
      "description_width": ""
     }
    },
    "f247d525d77345f7bbc36e578eafeba6": {
     "model_module": "@jupyter-widgets/controls",
     "model_module_version": "1.5.0",
     "model_name": "DescriptionStyleModel",
     "state": {
      "_model_module": "@jupyter-widgets/controls",
      "_model_module_version": "1.5.0",
      "_model_name": "DescriptionStyleModel",
      "_view_count": null,
      "_view_module": "@jupyter-widgets/base",
      "_view_module_version": "1.2.0",
      "_view_name": "StyleView",
      "description_width": ""
     }
    },
    "f915a666e30f4fee9d5ad747436042b2": {
     "model_module": "@jupyter-widgets/controls",
     "model_module_version": "1.5.0",
     "model_name": "ProgressStyleModel",
     "state": {
      "_model_module": "@jupyter-widgets/controls",
      "_model_module_version": "1.5.0",
      "_model_name": "ProgressStyleModel",
      "_view_count": null,
      "_view_module": "@jupyter-widgets/base",
      "_view_module_version": "1.2.0",
      "_view_name": "StyleView",
      "bar_color": null,
      "description_width": ""
     }
    },
    "f947004547824c019851bd6354241312": {
     "model_module": "@jupyter-widgets/controls",
     "model_module_version": "1.5.0",
     "model_name": "HTMLModel",
     "state": {
      "_dom_classes": [],
      "_model_module": "@jupyter-widgets/controls",
      "_model_module_version": "1.5.0",
      "_model_name": "HTMLModel",
      "_view_count": null,
      "_view_module": "@jupyter-widgets/controls",
      "_view_module_version": "1.5.0",
      "_view_name": "HTMLView",
      "description": "",
      "description_tooltip": null,
      "layout": "IPY_MODEL_dbf6ab331e4642209c89b30afab0f8e4",
      "placeholder": "​",
      "style": "IPY_MODEL_98bed2baede64eceafbfbcae4c156952",
      "value": " 23.5M/23.5M [00:00&lt;00:00, 28.2MB/s]"
     }
    },
    "f9b9f1b206bd4265ac119bd8e52ee822": {
     "model_module": "@jupyter-widgets/controls",
     "model_module_version": "1.5.0",
     "model_name": "FloatProgressModel",
     "state": {
      "_dom_classes": [],
      "_model_module": "@jupyter-widgets/controls",
      "_model_module_version": "1.5.0",
      "_model_name": "FloatProgressModel",
      "_view_count": null,
      "_view_module": "@jupyter-widgets/controls",
      "_view_module_version": "1.5.0",
      "_view_name": "ProgressView",
      "bar_style": "success",
      "description": "",
      "description_tooltip": null,
      "layout": "IPY_MODEL_fc881dcf129248778654750d3eae33b9",
      "max": 50000,
      "min": 0,
      "orientation": "horizontal",
      "style": "IPY_MODEL_68518500992843aa98fa8588aca9ef3f",
      "value": 50000
     }
    },
    "fbf372cf8fa44643ad796cf5ca7367d5": {
     "model_module": "@jupyter-widgets/controls",
     "model_module_version": "1.5.0",
     "model_name": "ProgressStyleModel",
     "state": {
      "_model_module": "@jupyter-widgets/controls",
      "_model_module_version": "1.5.0",
      "_model_name": "ProgressStyleModel",
      "_view_count": null,
      "_view_module": "@jupyter-widgets/base",
      "_view_module_version": "1.2.0",
      "_view_name": "StyleView",
      "bar_color": null,
      "description_width": ""
     }
    },
    "fc881dcf129248778654750d3eae33b9": {
     "model_module": "@jupyter-widgets/base",
     "model_module_version": "1.2.0",
     "model_name": "LayoutModel",
     "state": {
      "_model_module": "@jupyter-widgets/base",
      "_model_module_version": "1.2.0",
      "_model_name": "LayoutModel",
      "_view_count": null,
      "_view_module": "@jupyter-widgets/base",
      "_view_module_version": "1.2.0",
      "_view_name": "LayoutView",
      "align_content": null,
      "align_items": null,
      "align_self": null,
      "border": null,
      "bottom": null,
      "display": null,
      "flex": null,
      "flex_flow": null,
      "grid_area": null,
      "grid_auto_columns": null,
      "grid_auto_flow": null,
      "grid_auto_rows": null,
      "grid_column": null,
      "grid_gap": null,
      "grid_row": null,
      "grid_template_areas": null,
      "grid_template_columns": null,
      "grid_template_rows": null,
      "height": null,
      "justify_content": null,
      "justify_items": null,
      "left": null,
      "margin": null,
      "max_height": null,
      "max_width": null,
      "min_height": null,
      "min_width": null,
      "object_fit": null,
      "object_position": null,
      "order": null,
      "overflow": null,
      "overflow_x": null,
      "overflow_y": null,
      "padding": null,
      "right": null,
      "top": null,
      "visibility": null,
      "width": null
     }
    },
    "fda4647626854b3dba27ce85d7f81d59": {
     "model_module": "@jupyter-widgets/base",
     "model_module_version": "1.2.0",
     "model_name": "LayoutModel",
     "state": {
      "_model_module": "@jupyter-widgets/base",
      "_model_module_version": "1.2.0",
      "_model_name": "LayoutModel",
      "_view_count": null,
      "_view_module": "@jupyter-widgets/base",
      "_view_module_version": "1.2.0",
      "_view_name": "LayoutView",
      "align_content": null,
      "align_items": null,
      "align_self": null,
      "border": null,
      "bottom": null,
      "display": null,
      "flex": null,
      "flex_flow": null,
      "grid_area": null,
      "grid_auto_columns": null,
      "grid_auto_flow": null,
      "grid_auto_rows": null,
      "grid_column": null,
      "grid_gap": null,
      "grid_row": null,
      "grid_template_areas": null,
      "grid_template_columns": null,
      "grid_template_rows": null,
      "height": null,
      "justify_content": null,
      "justify_items": null,
      "left": null,
      "margin": null,
      "max_height": null,
      "max_width": null,
      "min_height": null,
      "min_width": null,
      "object_fit": null,
      "object_position": null,
      "order": null,
      "overflow": null,
      "overflow_x": null,
      "overflow_y": null,
      "padding": null,
      "right": null,
      "top": null,
      "visibility": null,
      "width": null
     }
    }
   }
  }
 },
 "nbformat": 4,
 "nbformat_minor": 4
}
