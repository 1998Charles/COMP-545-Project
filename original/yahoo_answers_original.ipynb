{
 "cells": [
  {
   "cell_type": "code",
   "execution_count": 1,
   "metadata": {
    "executionInfo": {
     "elapsed": 3871,
     "status": "ok",
     "timestamp": 1712288960116,
     "user": {
      "displayName": "Mengtong Shi",
      "userId": "17422019785472594156"
     },
     "user_tz": 240
    },
    "id": "tb7MGIMYWxHh"
   },
   "outputs": [],
   "source": [
    "import time\n",
    "import fasttext\n",
    "import pandas as pd\n",
    "from datasets import load_dataset\n",
    "from sklearn.metrics import accuracy_score"
   ]
  },
  {
   "cell_type": "code",
   "execution_count": 2,
   "metadata": {
    "colab": {
     "base_uri": "https://localhost:8080/",
     "height": 475,
     "referenced_widgets": [
      "ea42af9bac03407aa9d74bf1c56879b2",
      "5a89096aed914492a6251f024b4e7684",
      "c13cae46f5fb499188675bfb81f5a26e",
      "98eb186482fe42778bb7b33415a14418",
      "45613a02ad8b41698efa5a411d133ac7",
      "bb1fde3de75a4395b19d89347700cf6d",
      "4aefb89d0f9e4fc4840ef88e20837612",
      "bc7f3c31f5a24b1982a7afb05a5b34bb",
      "b101a6e3ef69435fa97ef5ae811e21a6",
      "0ae88e79cc554dd88baf71597b8c4b84",
      "167310ad528b4cc1989c432180532a7c",
      "993c393513fa4ecf9da9fcdb1fe831f7",
      "66696415e0ad4c5e9651d14ed3c855c7",
      "36db6f645f884b19ab370a452388f313",
      "22982be8e166431bb8aaf473ce1eb91d",
      "624f917ceff6483ba3c639916f06bd38",
      "0edd3d026df9493ca14f9f9047e86b66",
      "114f4389500d45d7bf44c19ee2b1518b",
      "3cd1edfca3564825a019a01fb9fb84e2",
      "65cf725563c846b6857bb1a8f8e8f4d6",
      "43223b3a50fd49af9af7019301518335",
      "9ceb5cf4a62e4b7f98e578a134b965af",
      "386ad9c951064c08b4b272c1b7cb1b13",
      "7ec3391d324842e2accfb56df8903d64",
      "3f674fed41164b6592edb74f4bcd17a6",
      "d45d4b8fd0164f1a8e6d13b75cae02c5",
      "16a8ea0b50af422fb3ec3d9bc496a2d4",
      "b8e106ff43144dd094f575ebb3f18932",
      "b090d5b040f740cd869c452a39749815",
      "04684340e60447e18033d05996e5121c",
      "acd22ce50a764f068fc9a75dcf3e4ee2",
      "a859a6ba08af4d84a41ee0234556f873",
      "dcd7da213d3941709645441dfcfcd30f",
      "bcae375a7d224283ba29887ed7d170b7",
      "5fe9ed66ca3c4e93855cf2a8f942e5ac",
      "478e335d4b794327839a1f3c1d3d22ff",
      "68c13e195e3744d0a6c787bbaf5227a4",
      "ca3535baad5244c48bb7f929612ea3fb",
      "9836265b95904a9582f46063e2aed068",
      "da0892b9d4d741a3be219e04ea92bb3d",
      "79ae3082525946bab43ebfe8911c1842",
      "c5103274fd004d38aa7f341f35250dac",
      "3d0d7f54e26d4829abb634c9e7c775a7",
      "79413d71606040e4963e658a700416e1",
      "279a8e5de1144099a6049c221551631c",
      "09796c334a40402ab78a334d6349bd31",
      "805b2f8002e44631beff11310177622e",
      "8a7d7ce12e6146d8a394249db94c19ca",
      "170ad0862e1b418b8468549a53872c8d",
      "60b0237ed1b044c7a49f2449e4804175",
      "8296e8410f7743f5ad542fcb0ec6ec78",
      "f056ad39de644a508de2652f45abc530",
      "3a60075f465c44c982943801d948f0c7",
      "b7a4b7bdf786442bb1b5ad3b876623f3",
      "f0a7b728d7904a6cb759678fdaef6675"
     ]
    },
    "executionInfo": {
     "elapsed": 70028,
     "status": "ok",
     "timestamp": 1712289030135,
     "user": {
      "displayName": "Mengtong Shi",
      "userId": "17422019785472594156"
     },
     "user_tz": 240
    },
    "id": "C7_zpd-rW4lj",
    "outputId": "fbb733e3-80a7-42ed-fa8e-3870ad851162"
   },
   "outputs": [
    {
     "name": "stdout",
     "output_type": "stream",
     "text": [
      "DatasetDict({\n",
      "    train: Dataset({\n",
      "        features: ['id', 'topic', 'question_title', 'question_content', 'best_answer'],\n",
      "        num_rows: 1400000\n",
      "    })\n",
      "    test: Dataset({\n",
      "        features: ['id', 'topic', 'question_title', 'question_content', 'best_answer'],\n",
      "        num_rows: 60000\n",
      "    })\n",
      "})\n"
     ]
    }
   ],
   "source": [
    "yahoo_answers = load_dataset(\"yahoo_answers_topics\")\n",
    "print(yahoo_answers)"
   ]
  },
  {
   "cell_type": "code",
   "execution_count": 3,
   "metadata": {
    "colab": {
     "base_uri": "https://localhost:8080/"
    },
    "executionInfo": {
     "elapsed": 7651,
     "status": "ok",
     "timestamp": 1712289037760,
     "user": {
      "displayName": "Mengtong Shi",
      "userId": "17422019785472594156"
     },
     "user_tz": 240
    },
    "id": "neLwlLQ0Wzd8",
    "outputId": "c16dc7de-5546-461e-d1ec-5b63b7dddf38"
   },
   "outputs": [
    {
     "name": "stdout",
     "output_type": "stream",
     "text": [
      "<class 'list'>\n",
      "<class 'str'>\n",
      "why doesn't an optical mouse work on a glass table?\n",
      "<class 'list'>\n",
      "<class 'str'>\n",
      "or even on some surfaces?\n",
      "<class 'list'>\n",
      "<class 'str'>\n",
      "Optical mice use an LED and a camera to rapidly capture images of the surface beneath the mouse.  The infomation from the camera is analyzed by a DSP (Digital Signal Processor) and used to detect imperfections in the underlying surface and determine motion. Some materials, such as glass, mirrors or other very shiny, uniform surfaces interfere with the ability of the DSP to accurately analyze the surface beneath the mouse.  \\nSince glass is transparent and very uniform, the mouse is unable to pick up enough imperfections in the underlying surface to determine motion.  Mirrored surfaces are also a problem, since they constantly reflect back the same image, causing the DSP not to recognize motion properly. When the system is unable to see surface changes associated with movement, the mouse will not work properly.\n",
      "<class 'list'>\n",
      "<class 'int'>\n",
      "4\n"
     ]
    }
   ],
   "source": [
    "print(type(yahoo_answers['train']['question_title']))\n",
    "print(type(yahoo_answers['train']['question_title'][0]))\n",
    "print(yahoo_answers['train']['question_title'][0])\n",
    "print(type(yahoo_answers['train']['question_content']))\n",
    "print(type(yahoo_answers['train']['question_content'][0]))\n",
    "print(yahoo_answers['train']['question_content'][0])\n",
    "print(type(yahoo_answers['train']['best_answer']))\n",
    "print(type(yahoo_answers['train']['best_answer'][0]))\n",
    "print(yahoo_answers['train']['best_answer'][0])\n",
    "print(type(yahoo_answers['train']['topic']))\n",
    "print(type(yahoo_answers['train']['topic'][0]))\n",
    "print(yahoo_answers['train']['topic'][0])"
   ]
  },
  {
   "cell_type": "code",
   "execution_count": 4,
   "metadata": {},
   "outputs": [
    {
     "name": "stdout",
     "output_type": "stream",
     "text": [
      "<class 'list'>\n",
      "<class 'str'>\n",
      "What makes friendship click?\n",
      "<class 'list'>\n",
      "<class 'str'>\n",
      "How does the spark keep going?\n",
      "<class 'list'>\n",
      "<class 'str'>\n",
      "good communication is what does it.  Can you move beyond small talk and say what's really on your mind.  If you start doing this, my expereince is that potentially good friends will respond or shun you.  Then you know who the really good friends are.\n",
      "<class 'list'>\n",
      "<class 'int'>\n",
      "8\n"
     ]
    }
   ],
   "source": [
    "print(type(yahoo_answers['test']['question_title']))\n",
    "print(type(yahoo_answers['test']['question_title'][0]))\n",
    "print(yahoo_answers['test']['question_title'][0])\n",
    "print(type(yahoo_answers['test']['question_content']))\n",
    "print(type(yahoo_answers['test']['question_content'][0]))\n",
    "print(yahoo_answers['test']['question_content'][0])\n",
    "print(type(yahoo_answers['test']['best_answer']))\n",
    "print(type(yahoo_answers['test']['best_answer'][0]))\n",
    "print(yahoo_answers['test']['best_answer'][0])\n",
    "print(type(yahoo_answers['test']['topic']))\n",
    "print(type(yahoo_answers['test']['topic'][0]))\n",
    "print(yahoo_answers['test']['topic'][0])"
   ]
  },
  {
   "cell_type": "code",
   "execution_count": 5,
   "metadata": {
    "executionInfo": {
     "elapsed": 26,
     "status": "ok",
     "timestamp": 1712289037761,
     "user": {
      "displayName": "Mengtong Shi",
      "userId": "17422019785472594156"
     },
     "user_tz": 240
    },
    "id": "BWEM2dOLW7Mm"
   },
   "outputs": [],
   "source": [
    "def print_results(N, p, r):\n",
    "    print(\"N\\t\" + str(N))\n",
    "    print(\"P@{}\\t{:.3f}\".format(1, p))\n",
    "    print(\"R@{}\\t{:.3f}\".format(1, r))"
   ]
  },
  {
   "cell_type": "code",
   "execution_count": 6,
   "metadata": {
    "executionInfo": {
     "elapsed": 24,
     "status": "ok",
     "timestamp": 1712289037761,
     "user": {
      "displayName": "Mengtong Shi",
      "userId": "17422019785472594156"
     },
     "user_tz": 240
    },
    "id": "eJXDmn7rW9TQ"
   },
   "outputs": [],
   "source": [
    "dataset = yahoo_answers"
   ]
  },
  {
   "cell_type": "code",
   "execution_count": 7,
   "metadata": {
    "executionInfo": {
     "elapsed": 328781,
     "status": "ok",
     "timestamp": 1712289405572,
     "user": {
      "displayName": "Mengtong Shi",
      "userId": "17422019785472594156"
     },
     "user_tz": 240
    },
    "id": "kVngP9gzXBLr"
   },
   "outputs": [],
   "source": [
    "titles = dataset['train']['question_title']\n",
    "contents = dataset['train']['question_content']\n",
    "answers = dataset['train']['best_answer']\n",
    "train_texts = [str(x) + str(y) + str(z) for x, y, z in zip(titles, contents, answers)]\n",
    "train_labels = dataset['train']['topic']\n",
    "\n",
    "with open(\"train.txt\", \"w\") as f:\n",
    "    for text, label in zip(train_texts, train_labels):\n",
    "        f.write(f\"__label__{label} {text}\\n\")"
   ]
  },
  {
   "cell_type": "code",
   "execution_count": 8,
   "metadata": {
    "colab": {
     "base_uri": "https://localhost:8080/"
    },
    "executionInfo": {
     "elapsed": 1939,
     "status": "ok",
     "timestamp": 1712289407506,
     "user": {
      "displayName": "Mengtong Shi",
      "userId": "17422019785472594156"
     },
     "user_tz": 240
    },
    "id": "RdkDf95lXGGx",
    "outputId": "cbeffdc4-6b1c-476b-f862-274c1b2d9de9"
   },
   "outputs": [],
   "source": [
    "titles = dataset['test']['question_title']\n",
    "contents = dataset['test']['question_content']\n",
    "answers = dataset['test']['best_answer']\n",
    "test_texts = [str(x) + str(y) + str(z) for x, y, z in zip(titles, contents, answers)]\n",
    "test_labels = dataset['test']['topic']\n",
    "\n",
    "with open(\"test.txt\", \"w\") as f:\n",
    "    for text, label in zip(test_texts, test_labels):\n",
    "        f.write(f\"__label__{label} {text}\\n\")"
   ]
  },
  {
   "cell_type": "code",
   "execution_count": 9,
   "metadata": {
    "colab": {
     "base_uri": "https://localhost:8080/"
    },
    "executionInfo": {
     "elapsed": 2542,
     "status": "ok",
     "timestamp": 1712289410045,
     "user": {
      "displayName": "Mengtong Shi",
      "userId": "17422019785472594156"
     },
     "user_tz": 240
    },
    "id": "sS_63lCTYx3u",
    "outputId": "b333287b-a718-4071-daf0-3dd646988b1f"
   },
   "outputs": [
    {
     "name": "stdout",
     "output_type": "stream",
     "text": [
      "Training model with lr=0.05, dim=10, epoch=5, and wordNgrams=1\n"
     ]
    },
    {
     "name": "stderr",
     "output_type": "stream",
     "text": [
      "Read 128M words\n",
      "Number of words:  5783083\n",
      "Number of labels: 10\n",
      "Progress: 100.0% words/sec/thread: 8334691 lr:  0.000000 avg.loss:  1.074399 ETA:   0h 0m 0s\n"
     ]
    },
    {
     "name": "stdout",
     "output_type": "stream",
     "text": [
      "N\t60000\n",
      "P@1\t0.700\n",
      "R@1\t0.700\n",
      "\n",
      "Training model with lr=0.1, dim=10, epoch=5, and wordNgrams=1\n"
     ]
    },
    {
     "name": "stderr",
     "output_type": "stream",
     "text": [
      "Read 128M words\n",
      "Number of words:  5783083\n",
      "Number of labels: 10\n",
      "Progress: 100.0% words/sec/thread: 8251633 lr:  0.000000 avg.loss:  1.057265 ETA:   0h 0m 0s\n"
     ]
    },
    {
     "name": "stdout",
     "output_type": "stream",
     "text": [
      "N\t60000\n",
      "P@1\t0.698\n",
      "R@1\t0.698\n",
      "\n",
      "Training model with lr=0.25, dim=10, epoch=5, and wordNgrams=1\n"
     ]
    },
    {
     "name": "stderr",
     "output_type": "stream",
     "text": [
      "Read 128M words\n",
      "Number of words:  5783083\n",
      "Number of labels: 10\n",
      "Progress: 100.0% words/sec/thread: 8379705 lr:  0.000000 avg.loss:  1.046224 ETA:   0h 0m 0s\n"
     ]
    },
    {
     "name": "stdout",
     "output_type": "stream",
     "text": [
      "N\t60000\n",
      "P@1\t0.697\n",
      "R@1\t0.697\n",
      "\n",
      "Training model with lr=0.5, dim=10, epoch=5, and wordNgrams=1\n"
     ]
    },
    {
     "name": "stderr",
     "output_type": "stream",
     "text": [
      "Read 128M words\n",
      "Number of words:  5783083\n",
      "Number of labels: 10\n",
      "Progress: 100.0% words/sec/thread: 8212604 lr:  0.000000 avg.loss:  1.056955 ETA:   0h 0m 0s"
     ]
    },
    {
     "name": "stdout",
     "output_type": "stream",
     "text": [
      "N\t60000\n",
      "P@1\t0.697\n",
      "R@1\t0.697\n",
      "\n"
     ]
    },
    {
     "name": "stderr",
     "output_type": "stream",
     "text": [
      "\n"
     ]
    }
   ],
   "source": [
    "lr_list = [0.05, 0.1, 0.25, 0.5]\n",
    "dim_list = [10] # hidden units\n",
    "ngrams_list = [1]\n",
    "epoch_list = [5]\n",
    "\n",
    "best_p, best_r = 0, 0\n",
    "best_l, best_d, best_n, best_e = 0, 0, 0, 0\n",
    "\n",
    "for l in lr_list:\n",
    "    for d in dim_list:\n",
    "        for n in ngrams_list:\n",
    "            for e in epoch_list:\n",
    "                print(f\"Training model with lr={l}, dim={d}, epoch={e}, and wordNgrams={n}\")\n",
    "                model = fasttext.train_supervised(input='train.txt', lr=l, dim=d, epoch=e, wordNgrams=n)\n",
    "                N, p, r = model.test('test.txt')\n",
    "                print_results(N, p, r)\n",
    "                if p > best_p and r > best_r:\n",
    "                    best_p, best_r = p, r\n",
    "                    best_l, best_d, best_n, best_e = l, d, n, e\n",
    "                print()"
   ]
  },
  {
   "cell_type": "code",
   "execution_count": 10,
   "metadata": {},
   "outputs": [
    {
     "name": "stderr",
     "output_type": "stream",
     "text": [
      "Read 3M words"
     ]
    },
    {
     "name": "stdout",
     "output_type": "stream",
     "text": [
      "Training the best model with lr=0.05, dim=10, epoch=5, and wordNgrams=1\n"
     ]
    },
    {
     "name": "stderr",
     "output_type": "stream",
     "text": [
      "Read 128M words\n",
      "Number of words:  5783083\n",
      "Number of labels: 10\n",
      "Progress: 100.0% words/sec/thread: 8324836 lr:  0.000000 avg.loss:  1.076735 ETA:   0h 0m 0s\n"
     ]
    }
   ],
   "source": [
    "print(f\"Training the best model with lr={best_l}, dim={best_d}, epoch={best_e}, and wordNgrams={best_n}\")\n",
    "\n",
    "start_time = time.time()\n",
    "model = fasttext.train_supervised(input='train.txt', lr=best_l, dim=best_d, epoch=best_e, wordNgrams=best_n, verbose=2)"
   ]
  },
  {
   "cell_type": "code",
   "execution_count": 11,
   "metadata": {},
   "outputs": [
    {
     "name": "stdout",
     "output_type": "stream",
     "text": [
      "Elapsed time: 18.771555185317993 seconds\n",
      "Accuracy: 0.698\n"
     ]
    }
   ],
   "source": [
    "end_time = time.time()\n",
    "elapsed_time = end_time - start_time\n",
    "print(\"Elapsed time:\", elapsed_time, \"seconds\")\n",
    "\n",
    "predictions = []\n",
    "for text in test_texts:\n",
    "    prediction = model.predict(text)\n",
    "    predictions.append(int(prediction[0][0].split('__label__')[1]))\n",
    "accuracy = accuracy_score(test_labels, predictions)\n",
    "print(\"Accuracy:\", accuracy)"
   ]
  },
  {
   "cell_type": "code",
   "execution_count": 12,
   "metadata": {},
   "outputs": [
    {
     "name": "stdout",
     "output_type": "stream",
     "text": [
      "Training model with lr=0.05, dim=10, epoch=5, and wordNgrams=2\n"
     ]
    },
    {
     "name": "stderr",
     "output_type": "stream",
     "text": [
      "Read 128M words\n",
      "Number of words:  5783083\n",
      "Number of labels: 10\n",
      "Progress: 100.0% words/sec/thread: 5305582 lr:  0.000000 avg.loss:  0.947236 ETA:   0h 0m 0s\n"
     ]
    },
    {
     "name": "stdout",
     "output_type": "stream",
     "text": [
      "N\t60000\n",
      "P@1\t0.701\n",
      "R@1\t0.701\n",
      "\n",
      "Training model with lr=0.1, dim=10, epoch=5, and wordNgrams=2\n"
     ]
    },
    {
     "name": "stderr",
     "output_type": "stream",
     "text": [
      "Read 128M words\n",
      "Number of words:  5783083\n",
      "Number of labels: 10\n",
      "Progress: 100.0% words/sec/thread: 5262699 lr:  0.000000 avg.loss:  0.827007 ETA:   0h 0m 0s\n",
      "Read 3M words"
     ]
    },
    {
     "name": "stdout",
     "output_type": "stream",
     "text": [
      "N\t60000\n",
      "P@1\t0.695\n",
      "R@1\t0.695\n",
      "\n",
      "Training model with lr=0.25, dim=10, epoch=5, and wordNgrams=2\n"
     ]
    },
    {
     "name": "stderr",
     "output_type": "stream",
     "text": [
      "Read 128M words\n",
      "Number of words:  5783083\n",
      "Number of labels: 10\n",
      "Progress: 100.0% words/sec/thread: 5186229 lr:  0.000000 avg.loss:  0.770433 ETA:   0h 0m 0s\n"
     ]
    },
    {
     "name": "stdout",
     "output_type": "stream",
     "text": [
      "N\t60000\n",
      "P@1\t0.686\n",
      "R@1\t0.686\n",
      "\n",
      "Training model with lr=0.5, dim=10, epoch=5, and wordNgrams=2\n"
     ]
    },
    {
     "name": "stderr",
     "output_type": "stream",
     "text": [
      "Read 128M words\n",
      "Number of words:  5783083\n",
      "Number of labels: 10\n",
      "Progress:  99.8% words/sec/thread: 5289914 lr:  0.001174 avg.loss:  0.769883 ETA:   0h 0m 0s"
     ]
    },
    {
     "name": "stdout",
     "output_type": "stream",
     "text": [
      "N\t60000\n",
      "P@1\t0.679\n",
      "R@1\t0.679\n",
      "\n"
     ]
    },
    {
     "name": "stderr",
     "output_type": "stream",
     "text": [
      "Progress: 100.0% words/sec/thread: 5271720 lr:  0.000000 avg.loss:  0.768592 ETA:   0h 0m 0s\n"
     ]
    }
   ],
   "source": [
    "lr_list = [0.05, 0.1, 0.25, 0.5]\n",
    "dim_list = [10] # hidden units\n",
    "ngrams_list = [2]\n",
    "epoch_list = [5]\n",
    "\n",
    "best_p, best_r = 0, 0\n",
    "best_l, best_d, best_n, best_e = 0, 0, 0, 0\n",
    "\n",
    "for l in lr_list:\n",
    "    for d in dim_list:\n",
    "        for n in ngrams_list:\n",
    "            for e in epoch_list:\n",
    "                print(f\"Training model with lr={l}, dim={d}, epoch={e}, and wordNgrams={n}\")\n",
    "                model = fasttext.train_supervised(input='train.txt', lr=l, dim=d, epoch=e, wordNgrams=n)\n",
    "                N, p, r = model.test('test.txt')\n",
    "                print_results(N, p, r)\n",
    "                if p > best_p and r > best_r:\n",
    "                    best_p, best_r = p, r\n",
    "                    best_l, best_d, best_n, best_e = l, d, n, e\n",
    "                print()"
   ]
  },
  {
   "cell_type": "code",
   "execution_count": 13,
   "metadata": {},
   "outputs": [
    {
     "name": "stdout",
     "output_type": "stream",
     "text": [
      "Training the best model with lr=0.05, dim=10, epoch=5, and wordNgrams=2\n"
     ]
    },
    {
     "name": "stderr",
     "output_type": "stream",
     "text": [
      "Read 128M words\n",
      "Number of words:  5783083\n",
      "Number of labels: 10\n",
      "Progress: 100.0% words/sec/thread: 5188727 lr:  0.000000 avg.loss:  0.942776 ETA:   0h 0m 0s\n"
     ]
    }
   ],
   "source": [
    "print(f\"Training the best model with lr={best_l}, dim={best_d}, epoch={best_e}, and wordNgrams={best_n}\")\n",
    "\n",
    "start_time = time.time()\n",
    "model = fasttext.train_supervised(input='train.txt', lr=best_l, dim=best_d, epoch=best_e, wordNgrams=best_n, verbose=2)"
   ]
  },
  {
   "cell_type": "code",
   "execution_count": 14,
   "metadata": {},
   "outputs": [
    {
     "name": "stdout",
     "output_type": "stream",
     "text": [
      "Elapsed time: 25.628034114837646 seconds\n",
      "Accuracy: 0.7007\n"
     ]
    }
   ],
   "source": [
    "end_time = time.time()\n",
    "elapsed_time = end_time - start_time\n",
    "print(\"Elapsed time:\", elapsed_time, \"seconds\")\n",
    "\n",
    "predictions = []\n",
    "for text in test_texts:\n",
    "    prediction = model.predict(text)\n",
    "    predictions.append(int(prediction[0][0].split('__label__')[1]))\n",
    "accuracy = accuracy_score(test_labels, predictions)\n",
    "print(\"Accuracy:\", accuracy)"
   ]
  }
 ],
 "metadata": {
  "colab": {
   "authorship_tag": "ABX9TyMywHldIi7MaSwVruCCuChq",
   "provenance": []
  },
  "kernelspec": {
   "display_name": "Python 3 (ipykernel)",
   "language": "python",
   "name": "python3"
  },
  "language_info": {
   "codemirror_mode": {
    "name": "ipython",
    "version": 3
   },
   "file_extension": ".py",
   "mimetype": "text/x-python",
   "name": "python",
   "nbconvert_exporter": "python",
   "pygments_lexer": "ipython3",
   "version": "3.11.7"
  },
  "widgets": {
   "application/vnd.jupyter.widget-state+json": {
    "04684340e60447e18033d05996e5121c": {
     "model_module": "@jupyter-widgets/base",
     "model_module_version": "1.2.0",
     "model_name": "LayoutModel",
     "state": {
      "_model_module": "@jupyter-widgets/base",
      "_model_module_version": "1.2.0",
      "_model_name": "LayoutModel",
      "_view_count": null,
      "_view_module": "@jupyter-widgets/base",
      "_view_module_version": "1.2.0",
      "_view_name": "LayoutView",
      "align_content": null,
      "align_items": null,
      "align_self": null,
      "border": null,
      "bottom": null,
      "display": null,
      "flex": null,
      "flex_flow": null,
      "grid_area": null,
      "grid_auto_columns": null,
      "grid_auto_flow": null,
      "grid_auto_rows": null,
      "grid_column": null,
      "grid_gap": null,
      "grid_row": null,
      "grid_template_areas": null,
      "grid_template_columns": null,
      "grid_template_rows": null,
      "height": null,
      "justify_content": null,
      "justify_items": null,
      "left": null,
      "margin": null,
      "max_height": null,
      "max_width": null,
      "min_height": null,
      "min_width": null,
      "object_fit": null,
      "object_position": null,
      "order": null,
      "overflow": null,
      "overflow_x": null,
      "overflow_y": null,
      "padding": null,
      "right": null,
      "top": null,
      "visibility": null,
      "width": null
     }
    },
    "09796c334a40402ab78a334d6349bd31": {
     "model_module": "@jupyter-widgets/controls",
     "model_module_version": "1.5.0",
     "model_name": "HTMLModel",
     "state": {
      "_dom_classes": [],
      "_model_module": "@jupyter-widgets/controls",
      "_model_module_version": "1.5.0",
      "_model_name": "HTMLModel",
      "_view_count": null,
      "_view_module": "@jupyter-widgets/controls",
      "_view_module_version": "1.5.0",
      "_view_name": "HTMLView",
      "description": "",
      "description_tooltip": null,
      "layout": "IPY_MODEL_60b0237ed1b044c7a49f2449e4804175",
      "placeholder": "​",
      "style": "IPY_MODEL_8296e8410f7743f5ad542fcb0ec6ec78",
      "value": "Generating test split: 100%"
     }
    },
    "0ae88e79cc554dd88baf71597b8c4b84": {
     "model_module": "@jupyter-widgets/base",
     "model_module_version": "1.2.0",
     "model_name": "LayoutModel",
     "state": {
      "_model_module": "@jupyter-widgets/base",
      "_model_module_version": "1.2.0",
      "_model_name": "LayoutModel",
      "_view_count": null,
      "_view_module": "@jupyter-widgets/base",
      "_view_module_version": "1.2.0",
      "_view_name": "LayoutView",
      "align_content": null,
      "align_items": null,
      "align_self": null,
      "border": null,
      "bottom": null,
      "display": null,
      "flex": null,
      "flex_flow": null,
      "grid_area": null,
      "grid_auto_columns": null,
      "grid_auto_flow": null,
      "grid_auto_rows": null,
      "grid_column": null,
      "grid_gap": null,
      "grid_row": null,
      "grid_template_areas": null,
      "grid_template_columns": null,
      "grid_template_rows": null,
      "height": null,
      "justify_content": null,
      "justify_items": null,
      "left": null,
      "margin": null,
      "max_height": null,
      "max_width": null,
      "min_height": null,
      "min_width": null,
      "object_fit": null,
      "object_position": null,
      "order": null,
      "overflow": null,
      "overflow_x": null,
      "overflow_y": null,
      "padding": null,
      "right": null,
      "top": null,
      "visibility": null,
      "width": null
     }
    },
    "0edd3d026df9493ca14f9f9047e86b66": {
     "model_module": "@jupyter-widgets/base",
     "model_module_version": "1.2.0",
     "model_name": "LayoutModel",
     "state": {
      "_model_module": "@jupyter-widgets/base",
      "_model_module_version": "1.2.0",
      "_model_name": "LayoutModel",
      "_view_count": null,
      "_view_module": "@jupyter-widgets/base",
      "_view_module_version": "1.2.0",
      "_view_name": "LayoutView",
      "align_content": null,
      "align_items": null,
      "align_self": null,
      "border": null,
      "bottom": null,
      "display": null,
      "flex": null,
      "flex_flow": null,
      "grid_area": null,
      "grid_auto_columns": null,
      "grid_auto_flow": null,
      "grid_auto_rows": null,
      "grid_column": null,
      "grid_gap": null,
      "grid_row": null,
      "grid_template_areas": null,
      "grid_template_columns": null,
      "grid_template_rows": null,
      "height": null,
      "justify_content": null,
      "justify_items": null,
      "left": null,
      "margin": null,
      "max_height": null,
      "max_width": null,
      "min_height": null,
      "min_width": null,
      "object_fit": null,
      "object_position": null,
      "order": null,
      "overflow": null,
      "overflow_x": null,
      "overflow_y": null,
      "padding": null,
      "right": null,
      "top": null,
      "visibility": null,
      "width": null
     }
    },
    "114f4389500d45d7bf44c19ee2b1518b": {
     "model_module": "@jupyter-widgets/controls",
     "model_module_version": "1.5.0",
     "model_name": "DescriptionStyleModel",
     "state": {
      "_model_module": "@jupyter-widgets/controls",
      "_model_module_version": "1.5.0",
      "_model_name": "DescriptionStyleModel",
      "_view_count": null,
      "_view_module": "@jupyter-widgets/base",
      "_view_module_version": "1.2.0",
      "_view_name": "StyleView",
      "description_width": ""
     }
    },
    "167310ad528b4cc1989c432180532a7c": {
     "model_module": "@jupyter-widgets/controls",
     "model_module_version": "1.5.0",
     "model_name": "DescriptionStyleModel",
     "state": {
      "_model_module": "@jupyter-widgets/controls",
      "_model_module_version": "1.5.0",
      "_model_name": "DescriptionStyleModel",
      "_view_count": null,
      "_view_module": "@jupyter-widgets/base",
      "_view_module_version": "1.2.0",
      "_view_name": "StyleView",
      "description_width": ""
     }
    },
    "16a8ea0b50af422fb3ec3d9bc496a2d4": {
     "model_module": "@jupyter-widgets/base",
     "model_module_version": "1.2.0",
     "model_name": "LayoutModel",
     "state": {
      "_model_module": "@jupyter-widgets/base",
      "_model_module_version": "1.2.0",
      "_model_name": "LayoutModel",
      "_view_count": null,
      "_view_module": "@jupyter-widgets/base",
      "_view_module_version": "1.2.0",
      "_view_name": "LayoutView",
      "align_content": null,
      "align_items": null,
      "align_self": null,
      "border": null,
      "bottom": null,
      "display": null,
      "flex": null,
      "flex_flow": null,
      "grid_area": null,
      "grid_auto_columns": null,
      "grid_auto_flow": null,
      "grid_auto_rows": null,
      "grid_column": null,
      "grid_gap": null,
      "grid_row": null,
      "grid_template_areas": null,
      "grid_template_columns": null,
      "grid_template_rows": null,
      "height": null,
      "justify_content": null,
      "justify_items": null,
      "left": null,
      "margin": null,
      "max_height": null,
      "max_width": null,
      "min_height": null,
      "min_width": null,
      "object_fit": null,
      "object_position": null,
      "order": null,
      "overflow": null,
      "overflow_x": null,
      "overflow_y": null,
      "padding": null,
      "right": null,
      "top": null,
      "visibility": null,
      "width": null
     }
    },
    "170ad0862e1b418b8468549a53872c8d": {
     "model_module": "@jupyter-widgets/base",
     "model_module_version": "1.2.0",
     "model_name": "LayoutModel",
     "state": {
      "_model_module": "@jupyter-widgets/base",
      "_model_module_version": "1.2.0",
      "_model_name": "LayoutModel",
      "_view_count": null,
      "_view_module": "@jupyter-widgets/base",
      "_view_module_version": "1.2.0",
      "_view_name": "LayoutView",
      "align_content": null,
      "align_items": null,
      "align_self": null,
      "border": null,
      "bottom": null,
      "display": null,
      "flex": null,
      "flex_flow": null,
      "grid_area": null,
      "grid_auto_columns": null,
      "grid_auto_flow": null,
      "grid_auto_rows": null,
      "grid_column": null,
      "grid_gap": null,
      "grid_row": null,
      "grid_template_areas": null,
      "grid_template_columns": null,
      "grid_template_rows": null,
      "height": null,
      "justify_content": null,
      "justify_items": null,
      "left": null,
      "margin": null,
      "max_height": null,
      "max_width": null,
      "min_height": null,
      "min_width": null,
      "object_fit": null,
      "object_position": null,
      "order": null,
      "overflow": null,
      "overflow_x": null,
      "overflow_y": null,
      "padding": null,
      "right": null,
      "top": null,
      "visibility": null,
      "width": null
     }
    },
    "22982be8e166431bb8aaf473ce1eb91d": {
     "model_module": "@jupyter-widgets/controls",
     "model_module_version": "1.5.0",
     "model_name": "HTMLModel",
     "state": {
      "_dom_classes": [],
      "_model_module": "@jupyter-widgets/controls",
      "_model_module_version": "1.5.0",
      "_model_name": "HTMLModel",
      "_view_count": null,
      "_view_module": "@jupyter-widgets/controls",
      "_view_module_version": "1.5.0",
      "_view_name": "HTMLView",
      "description": "",
      "description_tooltip": null,
      "layout": "IPY_MODEL_43223b3a50fd49af9af7019301518335",
      "placeholder": "​",
      "style": "IPY_MODEL_9ceb5cf4a62e4b7f98e578a134b965af",
      "value": " 175M/175M [00:30&lt;00:00, 7.27MB/s]"
     }
    },
    "279a8e5de1144099a6049c221551631c": {
     "model_module": "@jupyter-widgets/controls",
     "model_module_version": "1.5.0",
     "model_name": "HBoxModel",
     "state": {
      "_dom_classes": [],
      "_model_module": "@jupyter-widgets/controls",
      "_model_module_version": "1.5.0",
      "_model_name": "HBoxModel",
      "_view_count": null,
      "_view_module": "@jupyter-widgets/controls",
      "_view_module_version": "1.5.0",
      "_view_name": "HBoxView",
      "box_style": "",
      "children": [
       "IPY_MODEL_09796c334a40402ab78a334d6349bd31",
       "IPY_MODEL_805b2f8002e44631beff11310177622e",
       "IPY_MODEL_8a7d7ce12e6146d8a394249db94c19ca"
      ],
      "layout": "IPY_MODEL_170ad0862e1b418b8468549a53872c8d"
     }
    },
    "36db6f645f884b19ab370a452388f313": {
     "model_module": "@jupyter-widgets/controls",
     "model_module_version": "1.5.0",
     "model_name": "FloatProgressModel",
     "state": {
      "_dom_classes": [],
      "_model_module": "@jupyter-widgets/controls",
      "_model_module_version": "1.5.0",
      "_model_name": "FloatProgressModel",
      "_view_count": null,
      "_view_module": "@jupyter-widgets/controls",
      "_view_module_version": "1.5.0",
      "_view_name": "ProgressView",
      "bar_style": "success",
      "description": "",
      "description_tooltip": null,
      "layout": "IPY_MODEL_3cd1edfca3564825a019a01fb9fb84e2",
      "max": 175056288,
      "min": 0,
      "orientation": "horizontal",
      "style": "IPY_MODEL_65cf725563c846b6857bb1a8f8e8f4d6",
      "value": 175056288
     }
    },
    "386ad9c951064c08b4b272c1b7cb1b13": {
     "model_module": "@jupyter-widgets/controls",
     "model_module_version": "1.5.0",
     "model_name": "HBoxModel",
     "state": {
      "_dom_classes": [],
      "_model_module": "@jupyter-widgets/controls",
      "_model_module_version": "1.5.0",
      "_model_name": "HBoxModel",
      "_view_count": null,
      "_view_module": "@jupyter-widgets/controls",
      "_view_module_version": "1.5.0",
      "_view_name": "HBoxView",
      "box_style": "",
      "children": [
       "IPY_MODEL_7ec3391d324842e2accfb56df8903d64",
       "IPY_MODEL_3f674fed41164b6592edb74f4bcd17a6",
       "IPY_MODEL_d45d4b8fd0164f1a8e6d13b75cae02c5"
      ],
      "layout": "IPY_MODEL_16a8ea0b50af422fb3ec3d9bc496a2d4"
     }
    },
    "3a60075f465c44c982943801d948f0c7": {
     "model_module": "@jupyter-widgets/controls",
     "model_module_version": "1.5.0",
     "model_name": "ProgressStyleModel",
     "state": {
      "_model_module": "@jupyter-widgets/controls",
      "_model_module_version": "1.5.0",
      "_model_name": "ProgressStyleModel",
      "_view_count": null,
      "_view_module": "@jupyter-widgets/base",
      "_view_module_version": "1.2.0",
      "_view_name": "StyleView",
      "bar_color": null,
      "description_width": ""
     }
    },
    "3cd1edfca3564825a019a01fb9fb84e2": {
     "model_module": "@jupyter-widgets/base",
     "model_module_version": "1.2.0",
     "model_name": "LayoutModel",
     "state": {
      "_model_module": "@jupyter-widgets/base",
      "_model_module_version": "1.2.0",
      "_model_name": "LayoutModel",
      "_view_count": null,
      "_view_module": "@jupyter-widgets/base",
      "_view_module_version": "1.2.0",
      "_view_name": "LayoutView",
      "align_content": null,
      "align_items": null,
      "align_self": null,
      "border": null,
      "bottom": null,
      "display": null,
      "flex": null,
      "flex_flow": null,
      "grid_area": null,
      "grid_auto_columns": null,
      "grid_auto_flow": null,
      "grid_auto_rows": null,
      "grid_column": null,
      "grid_gap": null,
      "grid_row": null,
      "grid_template_areas": null,
      "grid_template_columns": null,
      "grid_template_rows": null,
      "height": null,
      "justify_content": null,
      "justify_items": null,
      "left": null,
      "margin": null,
      "max_height": null,
      "max_width": null,
      "min_height": null,
      "min_width": null,
      "object_fit": null,
      "object_position": null,
      "order": null,
      "overflow": null,
      "overflow_x": null,
      "overflow_y": null,
      "padding": null,
      "right": null,
      "top": null,
      "visibility": null,
      "width": null
     }
    },
    "3d0d7f54e26d4829abb634c9e7c775a7": {
     "model_module": "@jupyter-widgets/base",
     "model_module_version": "1.2.0",
     "model_name": "LayoutModel",
     "state": {
      "_model_module": "@jupyter-widgets/base",
      "_model_module_version": "1.2.0",
      "_model_name": "LayoutModel",
      "_view_count": null,
      "_view_module": "@jupyter-widgets/base",
      "_view_module_version": "1.2.0",
      "_view_name": "LayoutView",
      "align_content": null,
      "align_items": null,
      "align_self": null,
      "border": null,
      "bottom": null,
      "display": null,
      "flex": null,
      "flex_flow": null,
      "grid_area": null,
      "grid_auto_columns": null,
      "grid_auto_flow": null,
      "grid_auto_rows": null,
      "grid_column": null,
      "grid_gap": null,
      "grid_row": null,
      "grid_template_areas": null,
      "grid_template_columns": null,
      "grid_template_rows": null,
      "height": null,
      "justify_content": null,
      "justify_items": null,
      "left": null,
      "margin": null,
      "max_height": null,
      "max_width": null,
      "min_height": null,
      "min_width": null,
      "object_fit": null,
      "object_position": null,
      "order": null,
      "overflow": null,
      "overflow_x": null,
      "overflow_y": null,
      "padding": null,
      "right": null,
      "top": null,
      "visibility": null,
      "width": null
     }
    },
    "3f674fed41164b6592edb74f4bcd17a6": {
     "model_module": "@jupyter-widgets/controls",
     "model_module_version": "1.5.0",
     "model_name": "FloatProgressModel",
     "state": {
      "_dom_classes": [],
      "_model_module": "@jupyter-widgets/controls",
      "_model_module_version": "1.5.0",
      "_model_name": "FloatProgressModel",
      "_view_count": null,
      "_view_module": "@jupyter-widgets/controls",
      "_view_module_version": "1.5.0",
      "_view_name": "ProgressView",
      "bar_style": "success",
      "description": "",
      "description_tooltip": null,
      "layout": "IPY_MODEL_04684340e60447e18033d05996e5121c",
      "max": 21939321,
      "min": 0,
      "orientation": "horizontal",
      "style": "IPY_MODEL_acd22ce50a764f068fc9a75dcf3e4ee2",
      "value": 21939321
     }
    },
    "43223b3a50fd49af9af7019301518335": {
     "model_module": "@jupyter-widgets/base",
     "model_module_version": "1.2.0",
     "model_name": "LayoutModel",
     "state": {
      "_model_module": "@jupyter-widgets/base",
      "_model_module_version": "1.2.0",
      "_model_name": "LayoutModel",
      "_view_count": null,
      "_view_module": "@jupyter-widgets/base",
      "_view_module_version": "1.2.0",
      "_view_name": "LayoutView",
      "align_content": null,
      "align_items": null,
      "align_self": null,
      "border": null,
      "bottom": null,
      "display": null,
      "flex": null,
      "flex_flow": null,
      "grid_area": null,
      "grid_auto_columns": null,
      "grid_auto_flow": null,
      "grid_auto_rows": null,
      "grid_column": null,
      "grid_gap": null,
      "grid_row": null,
      "grid_template_areas": null,
      "grid_template_columns": null,
      "grid_template_rows": null,
      "height": null,
      "justify_content": null,
      "justify_items": null,
      "left": null,
      "margin": null,
      "max_height": null,
      "max_width": null,
      "min_height": null,
      "min_width": null,
      "object_fit": null,
      "object_position": null,
      "order": null,
      "overflow": null,
      "overflow_x": null,
      "overflow_y": null,
      "padding": null,
      "right": null,
      "top": null,
      "visibility": null,
      "width": null
     }
    },
    "45613a02ad8b41698efa5a411d133ac7": {
     "model_module": "@jupyter-widgets/base",
     "model_module_version": "1.2.0",
     "model_name": "LayoutModel",
     "state": {
      "_model_module": "@jupyter-widgets/base",
      "_model_module_version": "1.2.0",
      "_model_name": "LayoutModel",
      "_view_count": null,
      "_view_module": "@jupyter-widgets/base",
      "_view_module_version": "1.2.0",
      "_view_name": "LayoutView",
      "align_content": null,
      "align_items": null,
      "align_self": null,
      "border": null,
      "bottom": null,
      "display": null,
      "flex": null,
      "flex_flow": null,
      "grid_area": null,
      "grid_auto_columns": null,
      "grid_auto_flow": null,
      "grid_auto_rows": null,
      "grid_column": null,
      "grid_gap": null,
      "grid_row": null,
      "grid_template_areas": null,
      "grid_template_columns": null,
      "grid_template_rows": null,
      "height": null,
      "justify_content": null,
      "justify_items": null,
      "left": null,
      "margin": null,
      "max_height": null,
      "max_width": null,
      "min_height": null,
      "min_width": null,
      "object_fit": null,
      "object_position": null,
      "order": null,
      "overflow": null,
      "overflow_x": null,
      "overflow_y": null,
      "padding": null,
      "right": null,
      "top": null,
      "visibility": null,
      "width": null
     }
    },
    "478e335d4b794327839a1f3c1d3d22ff": {
     "model_module": "@jupyter-widgets/controls",
     "model_module_version": "1.5.0",
     "model_name": "FloatProgressModel",
     "state": {
      "_dom_classes": [],
      "_model_module": "@jupyter-widgets/controls",
      "_model_module_version": "1.5.0",
      "_model_name": "FloatProgressModel",
      "_view_count": null,
      "_view_module": "@jupyter-widgets/controls",
      "_view_module_version": "1.5.0",
      "_view_name": "ProgressView",
      "bar_style": "success",
      "description": "",
      "description_tooltip": null,
      "layout": "IPY_MODEL_79ae3082525946bab43ebfe8911c1842",
      "max": 1400000,
      "min": 0,
      "orientation": "horizontal",
      "style": "IPY_MODEL_c5103274fd004d38aa7f341f35250dac",
      "value": 1400000
     }
    },
    "4aefb89d0f9e4fc4840ef88e20837612": {
     "model_module": "@jupyter-widgets/controls",
     "model_module_version": "1.5.0",
     "model_name": "DescriptionStyleModel",
     "state": {
      "_model_module": "@jupyter-widgets/controls",
      "_model_module_version": "1.5.0",
      "_model_name": "DescriptionStyleModel",
      "_view_count": null,
      "_view_module": "@jupyter-widgets/base",
      "_view_module_version": "1.2.0",
      "_view_name": "StyleView",
      "description_width": ""
     }
    },
    "5a89096aed914492a6251f024b4e7684": {
     "model_module": "@jupyter-widgets/controls",
     "model_module_version": "1.5.0",
     "model_name": "HTMLModel",
     "state": {
      "_dom_classes": [],
      "_model_module": "@jupyter-widgets/controls",
      "_model_module_version": "1.5.0",
      "_model_name": "HTMLModel",
      "_view_count": null,
      "_view_module": "@jupyter-widgets/controls",
      "_view_module_version": "1.5.0",
      "_view_name": "HTMLView",
      "description": "",
      "description_tooltip": null,
      "layout": "IPY_MODEL_bb1fde3de75a4395b19d89347700cf6d",
      "placeholder": "​",
      "style": "IPY_MODEL_4aefb89d0f9e4fc4840ef88e20837612",
      "value": "Downloading data: 100%"
     }
    },
    "5fe9ed66ca3c4e93855cf2a8f942e5ac": {
     "model_module": "@jupyter-widgets/controls",
     "model_module_version": "1.5.0",
     "model_name": "HTMLModel",
     "state": {
      "_dom_classes": [],
      "_model_module": "@jupyter-widgets/controls",
      "_model_module_version": "1.5.0",
      "_model_name": "HTMLModel",
      "_view_count": null,
      "_view_module": "@jupyter-widgets/controls",
      "_view_module_version": "1.5.0",
      "_view_name": "HTMLView",
      "description": "",
      "description_tooltip": null,
      "layout": "IPY_MODEL_9836265b95904a9582f46063e2aed068",
      "placeholder": "​",
      "style": "IPY_MODEL_da0892b9d4d741a3be219e04ea92bb3d",
      "value": "Generating train split: 100%"
     }
    },
    "60b0237ed1b044c7a49f2449e4804175": {
     "model_module": "@jupyter-widgets/base",
     "model_module_version": "1.2.0",
     "model_name": "LayoutModel",
     "state": {
      "_model_module": "@jupyter-widgets/base",
      "_model_module_version": "1.2.0",
      "_model_name": "LayoutModel",
      "_view_count": null,
      "_view_module": "@jupyter-widgets/base",
      "_view_module_version": "1.2.0",
      "_view_name": "LayoutView",
      "align_content": null,
      "align_items": null,
      "align_self": null,
      "border": null,
      "bottom": null,
      "display": null,
      "flex": null,
      "flex_flow": null,
      "grid_area": null,
      "grid_auto_columns": null,
      "grid_auto_flow": null,
      "grid_auto_rows": null,
      "grid_column": null,
      "grid_gap": null,
      "grid_row": null,
      "grid_template_areas": null,
      "grid_template_columns": null,
      "grid_template_rows": null,
      "height": null,
      "justify_content": null,
      "justify_items": null,
      "left": null,
      "margin": null,
      "max_height": null,
      "max_width": null,
      "min_height": null,
      "min_width": null,
      "object_fit": null,
      "object_position": null,
      "order": null,
      "overflow": null,
      "overflow_x": null,
      "overflow_y": null,
      "padding": null,
      "right": null,
      "top": null,
      "visibility": null,
      "width": null
     }
    },
    "624f917ceff6483ba3c639916f06bd38": {
     "model_module": "@jupyter-widgets/base",
     "model_module_version": "1.2.0",
     "model_name": "LayoutModel",
     "state": {
      "_model_module": "@jupyter-widgets/base",
      "_model_module_version": "1.2.0",
      "_model_name": "LayoutModel",
      "_view_count": null,
      "_view_module": "@jupyter-widgets/base",
      "_view_module_version": "1.2.0",
      "_view_name": "LayoutView",
      "align_content": null,
      "align_items": null,
      "align_self": null,
      "border": null,
      "bottom": null,
      "display": null,
      "flex": null,
      "flex_flow": null,
      "grid_area": null,
      "grid_auto_columns": null,
      "grid_auto_flow": null,
      "grid_auto_rows": null,
      "grid_column": null,
      "grid_gap": null,
      "grid_row": null,
      "grid_template_areas": null,
      "grid_template_columns": null,
      "grid_template_rows": null,
      "height": null,
      "justify_content": null,
      "justify_items": null,
      "left": null,
      "margin": null,
      "max_height": null,
      "max_width": null,
      "min_height": null,
      "min_width": null,
      "object_fit": null,
      "object_position": null,
      "order": null,
      "overflow": null,
      "overflow_x": null,
      "overflow_y": null,
      "padding": null,
      "right": null,
      "top": null,
      "visibility": null,
      "width": null
     }
    },
    "65cf725563c846b6857bb1a8f8e8f4d6": {
     "model_module": "@jupyter-widgets/controls",
     "model_module_version": "1.5.0",
     "model_name": "ProgressStyleModel",
     "state": {
      "_model_module": "@jupyter-widgets/controls",
      "_model_module_version": "1.5.0",
      "_model_name": "ProgressStyleModel",
      "_view_count": null,
      "_view_module": "@jupyter-widgets/base",
      "_view_module_version": "1.2.0",
      "_view_name": "StyleView",
      "bar_color": null,
      "description_width": ""
     }
    },
    "66696415e0ad4c5e9651d14ed3c855c7": {
     "model_module": "@jupyter-widgets/controls",
     "model_module_version": "1.5.0",
     "model_name": "HTMLModel",
     "state": {
      "_dom_classes": [],
      "_model_module": "@jupyter-widgets/controls",
      "_model_module_version": "1.5.0",
      "_model_name": "HTMLModel",
      "_view_count": null,
      "_view_module": "@jupyter-widgets/controls",
      "_view_module_version": "1.5.0",
      "_view_name": "HTMLView",
      "description": "",
      "description_tooltip": null,
      "layout": "IPY_MODEL_0edd3d026df9493ca14f9f9047e86b66",
      "placeholder": "​",
      "style": "IPY_MODEL_114f4389500d45d7bf44c19ee2b1518b",
      "value": "Downloading data: 100%"
     }
    },
    "68c13e195e3744d0a6c787bbaf5227a4": {
     "model_module": "@jupyter-widgets/controls",
     "model_module_version": "1.5.0",
     "model_name": "HTMLModel",
     "state": {
      "_dom_classes": [],
      "_model_module": "@jupyter-widgets/controls",
      "_model_module_version": "1.5.0",
      "_model_name": "HTMLModel",
      "_view_count": null,
      "_view_module": "@jupyter-widgets/controls",
      "_view_module_version": "1.5.0",
      "_view_name": "HTMLView",
      "description": "",
      "description_tooltip": null,
      "layout": "IPY_MODEL_3d0d7f54e26d4829abb634c9e7c775a7",
      "placeholder": "​",
      "style": "IPY_MODEL_79413d71606040e4963e658a700416e1",
      "value": " 1400000/1400000 [00:07&lt;00:00, 197584.05 examples/s]"
     }
    },
    "79413d71606040e4963e658a700416e1": {
     "model_module": "@jupyter-widgets/controls",
     "model_module_version": "1.5.0",
     "model_name": "DescriptionStyleModel",
     "state": {
      "_model_module": "@jupyter-widgets/controls",
      "_model_module_version": "1.5.0",
      "_model_name": "DescriptionStyleModel",
      "_view_count": null,
      "_view_module": "@jupyter-widgets/base",
      "_view_module_version": "1.2.0",
      "_view_name": "StyleView",
      "description_width": ""
     }
    },
    "79ae3082525946bab43ebfe8911c1842": {
     "model_module": "@jupyter-widgets/base",
     "model_module_version": "1.2.0",
     "model_name": "LayoutModel",
     "state": {
      "_model_module": "@jupyter-widgets/base",
      "_model_module_version": "1.2.0",
      "_model_name": "LayoutModel",
      "_view_count": null,
      "_view_module": "@jupyter-widgets/base",
      "_view_module_version": "1.2.0",
      "_view_name": "LayoutView",
      "align_content": null,
      "align_items": null,
      "align_self": null,
      "border": null,
      "bottom": null,
      "display": null,
      "flex": null,
      "flex_flow": null,
      "grid_area": null,
      "grid_auto_columns": null,
      "grid_auto_flow": null,
      "grid_auto_rows": null,
      "grid_column": null,
      "grid_gap": null,
      "grid_row": null,
      "grid_template_areas": null,
      "grid_template_columns": null,
      "grid_template_rows": null,
      "height": null,
      "justify_content": null,
      "justify_items": null,
      "left": null,
      "margin": null,
      "max_height": null,
      "max_width": null,
      "min_height": null,
      "min_width": null,
      "object_fit": null,
      "object_position": null,
      "order": null,
      "overflow": null,
      "overflow_x": null,
      "overflow_y": null,
      "padding": null,
      "right": null,
      "top": null,
      "visibility": null,
      "width": null
     }
    },
    "7ec3391d324842e2accfb56df8903d64": {
     "model_module": "@jupyter-widgets/controls",
     "model_module_version": "1.5.0",
     "model_name": "HTMLModel",
     "state": {
      "_dom_classes": [],
      "_model_module": "@jupyter-widgets/controls",
      "_model_module_version": "1.5.0",
      "_model_name": "HTMLModel",
      "_view_count": null,
      "_view_module": "@jupyter-widgets/controls",
      "_view_module_version": "1.5.0",
      "_view_name": "HTMLView",
      "description": "",
      "description_tooltip": null,
      "layout": "IPY_MODEL_b8e106ff43144dd094f575ebb3f18932",
      "placeholder": "​",
      "style": "IPY_MODEL_b090d5b040f740cd869c452a39749815",
      "value": "Downloading data: 100%"
     }
    },
    "805b2f8002e44631beff11310177622e": {
     "model_module": "@jupyter-widgets/controls",
     "model_module_version": "1.5.0",
     "model_name": "FloatProgressModel",
     "state": {
      "_dom_classes": [],
      "_model_module": "@jupyter-widgets/controls",
      "_model_module_version": "1.5.0",
      "_model_name": "FloatProgressModel",
      "_view_count": null,
      "_view_module": "@jupyter-widgets/controls",
      "_view_module_version": "1.5.0",
      "_view_name": "ProgressView",
      "bar_style": "success",
      "description": "",
      "description_tooltip": null,
      "layout": "IPY_MODEL_f056ad39de644a508de2652f45abc530",
      "max": 60000,
      "min": 0,
      "orientation": "horizontal",
      "style": "IPY_MODEL_3a60075f465c44c982943801d948f0c7",
      "value": 60000
     }
    },
    "8296e8410f7743f5ad542fcb0ec6ec78": {
     "model_module": "@jupyter-widgets/controls",
     "model_module_version": "1.5.0",
     "model_name": "DescriptionStyleModel",
     "state": {
      "_model_module": "@jupyter-widgets/controls",
      "_model_module_version": "1.5.0",
      "_model_name": "DescriptionStyleModel",
      "_view_count": null,
      "_view_module": "@jupyter-widgets/base",
      "_view_module_version": "1.2.0",
      "_view_name": "StyleView",
      "description_width": ""
     }
    },
    "8a7d7ce12e6146d8a394249db94c19ca": {
     "model_module": "@jupyter-widgets/controls",
     "model_module_version": "1.5.0",
     "model_name": "HTMLModel",
     "state": {
      "_dom_classes": [],
      "_model_module": "@jupyter-widgets/controls",
      "_model_module_version": "1.5.0",
      "_model_name": "HTMLModel",
      "_view_count": null,
      "_view_module": "@jupyter-widgets/controls",
      "_view_module_version": "1.5.0",
      "_view_name": "HTMLView",
      "description": "",
      "description_tooltip": null,
      "layout": "IPY_MODEL_b7a4b7bdf786442bb1b5ad3b876623f3",
      "placeholder": "​",
      "style": "IPY_MODEL_f0a7b728d7904a6cb759678fdaef6675",
      "value": " 60000/60000 [00:00&lt;00:00, 160089.20 examples/s]"
     }
    },
    "9836265b95904a9582f46063e2aed068": {
     "model_module": "@jupyter-widgets/base",
     "model_module_version": "1.2.0",
     "model_name": "LayoutModel",
     "state": {
      "_model_module": "@jupyter-widgets/base",
      "_model_module_version": "1.2.0",
      "_model_name": "LayoutModel",
      "_view_count": null,
      "_view_module": "@jupyter-widgets/base",
      "_view_module_version": "1.2.0",
      "_view_name": "LayoutView",
      "align_content": null,
      "align_items": null,
      "align_self": null,
      "border": null,
      "bottom": null,
      "display": null,
      "flex": null,
      "flex_flow": null,
      "grid_area": null,
      "grid_auto_columns": null,
      "grid_auto_flow": null,
      "grid_auto_rows": null,
      "grid_column": null,
      "grid_gap": null,
      "grid_row": null,
      "grid_template_areas": null,
      "grid_template_columns": null,
      "grid_template_rows": null,
      "height": null,
      "justify_content": null,
      "justify_items": null,
      "left": null,
      "margin": null,
      "max_height": null,
      "max_width": null,
      "min_height": null,
      "min_width": null,
      "object_fit": null,
      "object_position": null,
      "order": null,
      "overflow": null,
      "overflow_x": null,
      "overflow_y": null,
      "padding": null,
      "right": null,
      "top": null,
      "visibility": null,
      "width": null
     }
    },
    "98eb186482fe42778bb7b33415a14418": {
     "model_module": "@jupyter-widgets/controls",
     "model_module_version": "1.5.0",
     "model_name": "HTMLModel",
     "state": {
      "_dom_classes": [],
      "_model_module": "@jupyter-widgets/controls",
      "_model_module_version": "1.5.0",
      "_model_name": "HTMLModel",
      "_view_count": null,
      "_view_module": "@jupyter-widgets/controls",
      "_view_module_version": "1.5.0",
      "_view_name": "HTMLView",
      "description": "",
      "description_tooltip": null,
      "layout": "IPY_MODEL_0ae88e79cc554dd88baf71597b8c4b84",
      "placeholder": "​",
      "style": "IPY_MODEL_167310ad528b4cc1989c432180532a7c",
      "value": " 336M/336M [00:23&lt;00:00, 14.1MB/s]"
     }
    },
    "993c393513fa4ecf9da9fcdb1fe831f7": {
     "model_module": "@jupyter-widgets/controls",
     "model_module_version": "1.5.0",
     "model_name": "HBoxModel",
     "state": {
      "_dom_classes": [],
      "_model_module": "@jupyter-widgets/controls",
      "_model_module_version": "1.5.0",
      "_model_name": "HBoxModel",
      "_view_count": null,
      "_view_module": "@jupyter-widgets/controls",
      "_view_module_version": "1.5.0",
      "_view_name": "HBoxView",
      "box_style": "",
      "children": [
       "IPY_MODEL_66696415e0ad4c5e9651d14ed3c855c7",
       "IPY_MODEL_36db6f645f884b19ab370a452388f313",
       "IPY_MODEL_22982be8e166431bb8aaf473ce1eb91d"
      ],
      "layout": "IPY_MODEL_624f917ceff6483ba3c639916f06bd38"
     }
    },
    "9ceb5cf4a62e4b7f98e578a134b965af": {
     "model_module": "@jupyter-widgets/controls",
     "model_module_version": "1.5.0",
     "model_name": "DescriptionStyleModel",
     "state": {
      "_model_module": "@jupyter-widgets/controls",
      "_model_module_version": "1.5.0",
      "_model_name": "DescriptionStyleModel",
      "_view_count": null,
      "_view_module": "@jupyter-widgets/base",
      "_view_module_version": "1.2.0",
      "_view_name": "StyleView",
      "description_width": ""
     }
    },
    "a859a6ba08af4d84a41ee0234556f873": {
     "model_module": "@jupyter-widgets/base",
     "model_module_version": "1.2.0",
     "model_name": "LayoutModel",
     "state": {
      "_model_module": "@jupyter-widgets/base",
      "_model_module_version": "1.2.0",
      "_model_name": "LayoutModel",
      "_view_count": null,
      "_view_module": "@jupyter-widgets/base",
      "_view_module_version": "1.2.0",
      "_view_name": "LayoutView",
      "align_content": null,
      "align_items": null,
      "align_self": null,
      "border": null,
      "bottom": null,
      "display": null,
      "flex": null,
      "flex_flow": null,
      "grid_area": null,
      "grid_auto_columns": null,
      "grid_auto_flow": null,
      "grid_auto_rows": null,
      "grid_column": null,
      "grid_gap": null,
      "grid_row": null,
      "grid_template_areas": null,
      "grid_template_columns": null,
      "grid_template_rows": null,
      "height": null,
      "justify_content": null,
      "justify_items": null,
      "left": null,
      "margin": null,
      "max_height": null,
      "max_width": null,
      "min_height": null,
      "min_width": null,
      "object_fit": null,
      "object_position": null,
      "order": null,
      "overflow": null,
      "overflow_x": null,
      "overflow_y": null,
      "padding": null,
      "right": null,
      "top": null,
      "visibility": null,
      "width": null
     }
    },
    "acd22ce50a764f068fc9a75dcf3e4ee2": {
     "model_module": "@jupyter-widgets/controls",
     "model_module_version": "1.5.0",
     "model_name": "ProgressStyleModel",
     "state": {
      "_model_module": "@jupyter-widgets/controls",
      "_model_module_version": "1.5.0",
      "_model_name": "ProgressStyleModel",
      "_view_count": null,
      "_view_module": "@jupyter-widgets/base",
      "_view_module_version": "1.2.0",
      "_view_name": "StyleView",
      "bar_color": null,
      "description_width": ""
     }
    },
    "b090d5b040f740cd869c452a39749815": {
     "model_module": "@jupyter-widgets/controls",
     "model_module_version": "1.5.0",
     "model_name": "DescriptionStyleModel",
     "state": {
      "_model_module": "@jupyter-widgets/controls",
      "_model_module_version": "1.5.0",
      "_model_name": "DescriptionStyleModel",
      "_view_count": null,
      "_view_module": "@jupyter-widgets/base",
      "_view_module_version": "1.2.0",
      "_view_name": "StyleView",
      "description_width": ""
     }
    },
    "b101a6e3ef69435fa97ef5ae811e21a6": {
     "model_module": "@jupyter-widgets/controls",
     "model_module_version": "1.5.0",
     "model_name": "ProgressStyleModel",
     "state": {
      "_model_module": "@jupyter-widgets/controls",
      "_model_module_version": "1.5.0",
      "_model_name": "ProgressStyleModel",
      "_view_count": null,
      "_view_module": "@jupyter-widgets/base",
      "_view_module_version": "1.2.0",
      "_view_name": "StyleView",
      "bar_color": null,
      "description_width": ""
     }
    },
    "b7a4b7bdf786442bb1b5ad3b876623f3": {
     "model_module": "@jupyter-widgets/base",
     "model_module_version": "1.2.0",
     "model_name": "LayoutModel",
     "state": {
      "_model_module": "@jupyter-widgets/base",
      "_model_module_version": "1.2.0",
      "_model_name": "LayoutModel",
      "_view_count": null,
      "_view_module": "@jupyter-widgets/base",
      "_view_module_version": "1.2.0",
      "_view_name": "LayoutView",
      "align_content": null,
      "align_items": null,
      "align_self": null,
      "border": null,
      "bottom": null,
      "display": null,
      "flex": null,
      "flex_flow": null,
      "grid_area": null,
      "grid_auto_columns": null,
      "grid_auto_flow": null,
      "grid_auto_rows": null,
      "grid_column": null,
      "grid_gap": null,
      "grid_row": null,
      "grid_template_areas": null,
      "grid_template_columns": null,
      "grid_template_rows": null,
      "height": null,
      "justify_content": null,
      "justify_items": null,
      "left": null,
      "margin": null,
      "max_height": null,
      "max_width": null,
      "min_height": null,
      "min_width": null,
      "object_fit": null,
      "object_position": null,
      "order": null,
      "overflow": null,
      "overflow_x": null,
      "overflow_y": null,
      "padding": null,
      "right": null,
      "top": null,
      "visibility": null,
      "width": null
     }
    },
    "b8e106ff43144dd094f575ebb3f18932": {
     "model_module": "@jupyter-widgets/base",
     "model_module_version": "1.2.0",
     "model_name": "LayoutModel",
     "state": {
      "_model_module": "@jupyter-widgets/base",
      "_model_module_version": "1.2.0",
      "_model_name": "LayoutModel",
      "_view_count": null,
      "_view_module": "@jupyter-widgets/base",
      "_view_module_version": "1.2.0",
      "_view_name": "LayoutView",
      "align_content": null,
      "align_items": null,
      "align_self": null,
      "border": null,
      "bottom": null,
      "display": null,
      "flex": null,
      "flex_flow": null,
      "grid_area": null,
      "grid_auto_columns": null,
      "grid_auto_flow": null,
      "grid_auto_rows": null,
      "grid_column": null,
      "grid_gap": null,
      "grid_row": null,
      "grid_template_areas": null,
      "grid_template_columns": null,
      "grid_template_rows": null,
      "height": null,
      "justify_content": null,
      "justify_items": null,
      "left": null,
      "margin": null,
      "max_height": null,
      "max_width": null,
      "min_height": null,
      "min_width": null,
      "object_fit": null,
      "object_position": null,
      "order": null,
      "overflow": null,
      "overflow_x": null,
      "overflow_y": null,
      "padding": null,
      "right": null,
      "top": null,
      "visibility": null,
      "width": null
     }
    },
    "bb1fde3de75a4395b19d89347700cf6d": {
     "model_module": "@jupyter-widgets/base",
     "model_module_version": "1.2.0",
     "model_name": "LayoutModel",
     "state": {
      "_model_module": "@jupyter-widgets/base",
      "_model_module_version": "1.2.0",
      "_model_name": "LayoutModel",
      "_view_count": null,
      "_view_module": "@jupyter-widgets/base",
      "_view_module_version": "1.2.0",
      "_view_name": "LayoutView",
      "align_content": null,
      "align_items": null,
      "align_self": null,
      "border": null,
      "bottom": null,
      "display": null,
      "flex": null,
      "flex_flow": null,
      "grid_area": null,
      "grid_auto_columns": null,
      "grid_auto_flow": null,
      "grid_auto_rows": null,
      "grid_column": null,
      "grid_gap": null,
      "grid_row": null,
      "grid_template_areas": null,
      "grid_template_columns": null,
      "grid_template_rows": null,
      "height": null,
      "justify_content": null,
      "justify_items": null,
      "left": null,
      "margin": null,
      "max_height": null,
      "max_width": null,
      "min_height": null,
      "min_width": null,
      "object_fit": null,
      "object_position": null,
      "order": null,
      "overflow": null,
      "overflow_x": null,
      "overflow_y": null,
      "padding": null,
      "right": null,
      "top": null,
      "visibility": null,
      "width": null
     }
    },
    "bc7f3c31f5a24b1982a7afb05a5b34bb": {
     "model_module": "@jupyter-widgets/base",
     "model_module_version": "1.2.0",
     "model_name": "LayoutModel",
     "state": {
      "_model_module": "@jupyter-widgets/base",
      "_model_module_version": "1.2.0",
      "_model_name": "LayoutModel",
      "_view_count": null,
      "_view_module": "@jupyter-widgets/base",
      "_view_module_version": "1.2.0",
      "_view_name": "LayoutView",
      "align_content": null,
      "align_items": null,
      "align_self": null,
      "border": null,
      "bottom": null,
      "display": null,
      "flex": null,
      "flex_flow": null,
      "grid_area": null,
      "grid_auto_columns": null,
      "grid_auto_flow": null,
      "grid_auto_rows": null,
      "grid_column": null,
      "grid_gap": null,
      "grid_row": null,
      "grid_template_areas": null,
      "grid_template_columns": null,
      "grid_template_rows": null,
      "height": null,
      "justify_content": null,
      "justify_items": null,
      "left": null,
      "margin": null,
      "max_height": null,
      "max_width": null,
      "min_height": null,
      "min_width": null,
      "object_fit": null,
      "object_position": null,
      "order": null,
      "overflow": null,
      "overflow_x": null,
      "overflow_y": null,
      "padding": null,
      "right": null,
      "top": null,
      "visibility": null,
      "width": null
     }
    },
    "bcae375a7d224283ba29887ed7d170b7": {
     "model_module": "@jupyter-widgets/controls",
     "model_module_version": "1.5.0",
     "model_name": "HBoxModel",
     "state": {
      "_dom_classes": [],
      "_model_module": "@jupyter-widgets/controls",
      "_model_module_version": "1.5.0",
      "_model_name": "HBoxModel",
      "_view_count": null,
      "_view_module": "@jupyter-widgets/controls",
      "_view_module_version": "1.5.0",
      "_view_name": "HBoxView",
      "box_style": "",
      "children": [
       "IPY_MODEL_5fe9ed66ca3c4e93855cf2a8f942e5ac",
       "IPY_MODEL_478e335d4b794327839a1f3c1d3d22ff",
       "IPY_MODEL_68c13e195e3744d0a6c787bbaf5227a4"
      ],
      "layout": "IPY_MODEL_ca3535baad5244c48bb7f929612ea3fb"
     }
    },
    "c13cae46f5fb499188675bfb81f5a26e": {
     "model_module": "@jupyter-widgets/controls",
     "model_module_version": "1.5.0",
     "model_name": "FloatProgressModel",
     "state": {
      "_dom_classes": [],
      "_model_module": "@jupyter-widgets/controls",
      "_model_module_version": "1.5.0",
      "_model_name": "FloatProgressModel",
      "_view_count": null,
      "_view_module": "@jupyter-widgets/controls",
      "_view_module_version": "1.5.0",
      "_view_name": "ProgressView",
      "bar_style": "success",
      "description": "",
      "description_tooltip": null,
      "layout": "IPY_MODEL_bc7f3c31f5a24b1982a7afb05a5b34bb",
      "max": 336434116,
      "min": 0,
      "orientation": "horizontal",
      "style": "IPY_MODEL_b101a6e3ef69435fa97ef5ae811e21a6",
      "value": 336434116
     }
    },
    "c5103274fd004d38aa7f341f35250dac": {
     "model_module": "@jupyter-widgets/controls",
     "model_module_version": "1.5.0",
     "model_name": "ProgressStyleModel",
     "state": {
      "_model_module": "@jupyter-widgets/controls",
      "_model_module_version": "1.5.0",
      "_model_name": "ProgressStyleModel",
      "_view_count": null,
      "_view_module": "@jupyter-widgets/base",
      "_view_module_version": "1.2.0",
      "_view_name": "StyleView",
      "bar_color": null,
      "description_width": ""
     }
    },
    "ca3535baad5244c48bb7f929612ea3fb": {
     "model_module": "@jupyter-widgets/base",
     "model_module_version": "1.2.0",
     "model_name": "LayoutModel",
     "state": {
      "_model_module": "@jupyter-widgets/base",
      "_model_module_version": "1.2.0",
      "_model_name": "LayoutModel",
      "_view_count": null,
      "_view_module": "@jupyter-widgets/base",
      "_view_module_version": "1.2.0",
      "_view_name": "LayoutView",
      "align_content": null,
      "align_items": null,
      "align_self": null,
      "border": null,
      "bottom": null,
      "display": null,
      "flex": null,
      "flex_flow": null,
      "grid_area": null,
      "grid_auto_columns": null,
      "grid_auto_flow": null,
      "grid_auto_rows": null,
      "grid_column": null,
      "grid_gap": null,
      "grid_row": null,
      "grid_template_areas": null,
      "grid_template_columns": null,
      "grid_template_rows": null,
      "height": null,
      "justify_content": null,
      "justify_items": null,
      "left": null,
      "margin": null,
      "max_height": null,
      "max_width": null,
      "min_height": null,
      "min_width": null,
      "object_fit": null,
      "object_position": null,
      "order": null,
      "overflow": null,
      "overflow_x": null,
      "overflow_y": null,
      "padding": null,
      "right": null,
      "top": null,
      "visibility": null,
      "width": null
     }
    },
    "d45d4b8fd0164f1a8e6d13b75cae02c5": {
     "model_module": "@jupyter-widgets/controls",
     "model_module_version": "1.5.0",
     "model_name": "HTMLModel",
     "state": {
      "_dom_classes": [],
      "_model_module": "@jupyter-widgets/controls",
      "_model_module_version": "1.5.0",
      "_model_name": "HTMLModel",
      "_view_count": null,
      "_view_module": "@jupyter-widgets/controls",
      "_view_module_version": "1.5.0",
      "_view_name": "HTMLView",
      "description": "",
      "description_tooltip": null,
      "layout": "IPY_MODEL_a859a6ba08af4d84a41ee0234556f873",
      "placeholder": "​",
      "style": "IPY_MODEL_dcd7da213d3941709645441dfcfcd30f",
      "value": " 21.9M/21.9M [00:01&lt;00:00, 10.2MB/s]"
     }
    },
    "da0892b9d4d741a3be219e04ea92bb3d": {
     "model_module": "@jupyter-widgets/controls",
     "model_module_version": "1.5.0",
     "model_name": "DescriptionStyleModel",
     "state": {
      "_model_module": "@jupyter-widgets/controls",
      "_model_module_version": "1.5.0",
      "_model_name": "DescriptionStyleModel",
      "_view_count": null,
      "_view_module": "@jupyter-widgets/base",
      "_view_module_version": "1.2.0",
      "_view_name": "StyleView",
      "description_width": ""
     }
    },
    "dcd7da213d3941709645441dfcfcd30f": {
     "model_module": "@jupyter-widgets/controls",
     "model_module_version": "1.5.0",
     "model_name": "DescriptionStyleModel",
     "state": {
      "_model_module": "@jupyter-widgets/controls",
      "_model_module_version": "1.5.0",
      "_model_name": "DescriptionStyleModel",
      "_view_count": null,
      "_view_module": "@jupyter-widgets/base",
      "_view_module_version": "1.2.0",
      "_view_name": "StyleView",
      "description_width": ""
     }
    },
    "ea42af9bac03407aa9d74bf1c56879b2": {
     "model_module": "@jupyter-widgets/controls",
     "model_module_version": "1.5.0",
     "model_name": "HBoxModel",
     "state": {
      "_dom_classes": [],
      "_model_module": "@jupyter-widgets/controls",
      "_model_module_version": "1.5.0",
      "_model_name": "HBoxModel",
      "_view_count": null,
      "_view_module": "@jupyter-widgets/controls",
      "_view_module_version": "1.5.0",
      "_view_name": "HBoxView",
      "box_style": "",
      "children": [
       "IPY_MODEL_5a89096aed914492a6251f024b4e7684",
       "IPY_MODEL_c13cae46f5fb499188675bfb81f5a26e",
       "IPY_MODEL_98eb186482fe42778bb7b33415a14418"
      ],
      "layout": "IPY_MODEL_45613a02ad8b41698efa5a411d133ac7"
     }
    },
    "f056ad39de644a508de2652f45abc530": {
     "model_module": "@jupyter-widgets/base",
     "model_module_version": "1.2.0",
     "model_name": "LayoutModel",
     "state": {
      "_model_module": "@jupyter-widgets/base",
      "_model_module_version": "1.2.0",
      "_model_name": "LayoutModel",
      "_view_count": null,
      "_view_module": "@jupyter-widgets/base",
      "_view_module_version": "1.2.0",
      "_view_name": "LayoutView",
      "align_content": null,
      "align_items": null,
      "align_self": null,
      "border": null,
      "bottom": null,
      "display": null,
      "flex": null,
      "flex_flow": null,
      "grid_area": null,
      "grid_auto_columns": null,
      "grid_auto_flow": null,
      "grid_auto_rows": null,
      "grid_column": null,
      "grid_gap": null,
      "grid_row": null,
      "grid_template_areas": null,
      "grid_template_columns": null,
      "grid_template_rows": null,
      "height": null,
      "justify_content": null,
      "justify_items": null,
      "left": null,
      "margin": null,
      "max_height": null,
      "max_width": null,
      "min_height": null,
      "min_width": null,
      "object_fit": null,
      "object_position": null,
      "order": null,
      "overflow": null,
      "overflow_x": null,
      "overflow_y": null,
      "padding": null,
      "right": null,
      "top": null,
      "visibility": null,
      "width": null
     }
    },
    "f0a7b728d7904a6cb759678fdaef6675": {
     "model_module": "@jupyter-widgets/controls",
     "model_module_version": "1.5.0",
     "model_name": "DescriptionStyleModel",
     "state": {
      "_model_module": "@jupyter-widgets/controls",
      "_model_module_version": "1.5.0",
      "_model_name": "DescriptionStyleModel",
      "_view_count": null,
      "_view_module": "@jupyter-widgets/base",
      "_view_module_version": "1.2.0",
      "_view_name": "StyleView",
      "description_width": ""
     }
    }
   }
  }
 },
 "nbformat": 4,
 "nbformat_minor": 4
}
